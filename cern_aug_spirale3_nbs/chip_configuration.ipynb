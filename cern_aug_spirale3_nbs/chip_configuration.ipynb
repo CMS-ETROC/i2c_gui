{
 "cells": [
  {
   "cell_type": "code",
   "execution_count": null,
   "metadata": {},
   "outputs": [],
   "source": [
    "#############################################################################\n",
    "# zlib License\n",
    "#\n",
    "# (C) 2023 Zach Flowers, Murtaza Safdari <musafdar@cern.ch>\n",
    "#\n",
    "# This software is provided 'as-is', without any express or implied\n",
    "# warranty.  In no event will the authors be held liable for any damages\n",
    "# arising from the use of this software.\n",
    "#\n",
    "# Permission is granted to anyone to use this software for any purpose,\n",
    "# including commercial applications, and to alter it and redistribute it\n",
    "# freely, subject to the following restrictions:\n",
    "#\n",
    "# 1. The origin of this software must not be misrepresented; you must not\n",
    "#    claim that you wrote the original software. If you use this software\n",
    "#    in a product, an acknowledgment in the product documentation would be\n",
    "#    appreciated but is not required.\n",
    "# 2. Altered source versions must be plainly marked as such, and must not be\n",
    "#    misrepresented as being the original software.\n",
    "# 3. This notice may not be removed or altered from any source distribution.\n",
    "#############################################################################"
   ]
  },
  {
   "attachments": {},
   "cell_type": "markdown",
   "metadata": {},
   "source": [
    "# Imports"
   ]
  },
  {
   "cell_type": "code",
   "execution_count": null,
   "metadata": {},
   "outputs": [],
   "source": [
    "#%%\n",
    "%matplotlib inline\n",
    "import matplotlib.pyplot as plt\n",
    "import logging\n",
    "import i2c_gui\n",
    "import i2c_gui.chips\n",
    "from i2c_gui.usb_iss_helper import USB_ISS_Helper\n",
    "from i2c_gui.fpga_eth_helper import FPGA_ETH_Helper\n",
    "import numpy as np\n",
    "from mpl_toolkits.axes_grid1 import make_axes_locatable\n",
    "# import time\n",
    "from tqdm import tqdm\n",
    "# from i2c_gui.chips.etroc2_chip import register_decoding\n",
    "import os, sys\n",
    "# import multiprocessing\n",
    "# os.chdir(f'/home/{os.getlogin()}/ETROC2/ETROC_DAQ')\n",
    "# import run_script\n",
    "# import parser_arguments\n",
    "# import importlib\n",
    "# importlib.reload(run_script)\n",
    "import datetime\n",
    "from pathlib import Path\n",
    "from notebooks.notebook_helpers import *\n",
    "from fnmatch import fnmatch\n",
    "import scipy.stats as stats\n",
    "from math import ceil"
   ]
  },
  {
   "attachments": {},
   "cell_type": "markdown",
   "metadata": {},
   "source": [
    "# Set defaults"
   ]
  },
  {
   "cell_type": "code",
   "execution_count": null,
   "metadata": {},
   "outputs": [],
   "source": [
    "# !!!!!!!!!!!!\n",
    "# It is very important to correctly set the chip name, this value is stored with the data\n",
    "chip_names = [\"ET2p03_BARE2\"]\n",
    "# chip_names = [\"ET2p01_BARE10\"]\n",
    "chip_fignames = chip_names\n",
    "chip_figtitles = chip_names\n",
    "\n",
    "# 'The port name the USB-ISS module is connected to. Default: /dev/ttyACM0'\n",
    "port = \"/dev/ttyACM5\"\n",
    "# I2C addresses for the pixel block and WS\n",
    "chip_addresses = [0x60]\n",
    "ws_addresses = [None, None, None, None]\n",
    "\n",
    "fig_outdir = Path('../ETROC-figures')\n",
    "# fig_outdir = Path('/media/daq/X9/DESY_Jun2024_AIDA/ETROC-figures')\n",
    "fig_outdir = fig_outdir / (datetime.date.today().isoformat() + '_Array_Test_Results')\n",
    "fig_outdir.mkdir(exist_ok=True)\n",
    "fig_path = str(fig_outdir)"
   ]
  },
  {
   "attachments": {},
   "cell_type": "markdown",
   "metadata": {},
   "source": [
    "# Make i2c_connection class object"
   ]
  },
  {
   "cell_type": "code",
   "execution_count": null,
   "metadata": {},
   "outputs": [],
   "source": [
    "# i2c_conn = self, port, chip_addresses, chip_names, chip_fc_delays\n",
    "i2c_conn = i2c_connection(port,chip_addresses,ws_addresses,chip_names,[(\"1\",\"1\"),(\"1\",\"1\"),(\"1\",\"1\"), (\"1\",\"1\")])"
   ]
  },
  {
   "cell_type": "code",
   "execution_count": null,
   "metadata": {},
   "outputs": [],
   "source": [
    "# Calibrate PLL\n",
    "for chip_address in chip_addresses[:]:\n",
    "    i2c_conn.calibratePLL(chip_address, chip=None)\n",
    "# Calibrate FC for all I2C\n",
    "for chip_address in chip_addresses[:]:\n",
    "    i2c_conn.asyResetGlobalReadout(chip_address, chip=None)\n",
    "    i2c_conn.asyAlignFastcommand(chip_address, chip=None)"
   ]
  },
  {
   "attachments": {},
   "cell_type": "markdown",
   "metadata": {},
   "source": [
    "# Config chips"
   ]
  },
  {
   "attachments": {},
   "cell_type": "markdown",
   "metadata": {},
   "source": [
    "### Key is (Disable Pixels, Auto Cal, Chip Peripherals, Basic Peri Reg Check, Pixel Check)"
   ]
  },
  {
   "cell_type": "code",
   "execution_count": null,
   "metadata": {},
   "outputs": [],
   "source": [
    "# board_RFSels = {\n",
    "#     0x63: 0x0,\n",
    "# }\n",
    "# if(board_RFSels is not None):\n",
    "#     time.sleep(5)\n",
    "#     for chip_address in chip_addresses:\n",
    "#         if chip_address not in board_RFSels:\n",
    "#             continue\n",
    "#         chip = i2c_conn.get_chip_i2c_connection(chip_address)\n",
    "#         row_indexer_handle,_,_ = chip.get_indexer(\"row\")\n",
    "#         column_indexer_handle,_,_ = chip.get_indexer(\"column\")\n",
    "#         broadcast_handle,_,_ = chip.get_indexer(\"broadcast\")\n",
    "#         column_indexer_handle.set(0)\n",
    "#         row_indexer_handle.set(0)\n",
    "#         chip.read_all_block(\"ETROC2\", \"Pixel Config\")\n",
    "#         RFSel_handle = chip.get_decoded_indexed_var(\"ETROC2\", \"Pixel Config\", \"RFSel\")\n",
    "#         RFSel_handle.set(hex(board_RFSels[chip_address])) # default is '0b10'\n",
    "#         broadcast_handle.set(True)\n",
    "#         chip.write_all_block(\"ETROC2\", \"Pixel Config\")\n",
    "#         print(f\"Changing RFSel to {hex(board_RFSels[chip_address])} for chip: {hex(chip_address)}\")"
   ]
  },
  {
   "cell_type": "code",
   "execution_count": null,
   "metadata": {},
   "outputs": [],
   "source": [
    "# (WS Prep Pixel and Peri) - (Offsets) - (disable & auto_cal all pixels) - (disable default all pixels) - (auto_TH_CAL) - (set basic peripherals) - (peripheral reg check) -  (pixel ID check)\n",
    "i2c_conn.config_chips('00100101')\n",
    "# i2c_conn.config_chips('00001000') # disable and more fun things\n",
    "# i2c_conn.config_chips('00000100') # set basic peripherals\n",
    "# i2c_conn.config_chips('00010000') # calibrate only\n",
    "# i2c_conn.config_chips('00000001') # pixel ID check (I2C check)\n",
    "# i2c_conn.config_chips('10000000') # ws init\n",
    "# i2c_conn.disable_all_pixels(chip_address=chip_addresses[1])"
   ]
  },
  {
   "cell_type": "markdown",
   "metadata": {},
   "source": [
    "## Set power mode to high if currents are too low"
   ]
  },
  {
   "cell_type": "code",
   "execution_count": null,
   "metadata": {},
   "outputs": [],
   "source": [
    "# full_col_list, full_row_list = np.meshgrid(np.arange(16),np.arange(16))\n",
    "# full_scan_list = list(zip(full_row_list.flatten(),full_col_list.flatten()))\n",
    "# for address in chip_addresses:\n",
    "#     i2c_conn.set_power_mode_scan_list(address, full_scan_list, 'high')"
   ]
  },
  {
   "attachments": {},
   "cell_type": "markdown",
   "metadata": {},
   "source": [
    "## Visualize the learned Baselines (BL) and Noise Widths (NW)\n",
    "\n",
    "Note that the NW represents the full width on either side of the BL"
   ]
  },
  {
   "cell_type": "code",
   "execution_count": null,
   "metadata": {},
   "outputs": [],
   "source": [
    "#%%\n",
    "%matplotlib inline\n",
    "import matplotlib.pyplot as plt\n",
    "plt.figure()\n",
    "plt.show()"
   ]
  },
  {
   "cell_type": "code",
   "execution_count": null,
   "metadata": {},
   "outputs": [],
   "source": [
    "# i2c_conn.BL_df[96].pivot(index='row', columns='col', values='baseline')"
   ]
  },
  {
   "cell_type": "code",
   "execution_count": null,
   "metadata": {},
   "outputs": [],
   "source": [
    "# histdir = Path('../ETROC-History/')\n",
    "# histdir = Path('/media/daq/X9/DESY_Jun2024_AIDA/ETROC-History/')\n",
    "histdir = Path('/home/daq/ETROC2/ETROC-History/CERN_Aug_2024_CC_Spirale3')\n",
    "histdir.mkdir(exist_ok=True)\n",
    "histfile = histdir / 'BaselineHistory.sqlite'\n",
    "figure_title = \"-24.5C, 0 MRad, A: 1.2V, D: 0.95V\"\n",
    "i2c_conn.save_baselines(chip_fignames, fig_title=figure_title, fig_path=fig_path, histdir=histdir, histfile=histfile, save_notes=figure_title)"
   ]
  },
  {
   "cell_type": "code",
   "execution_count": null,
   "metadata": {},
   "outputs": [],
   "source": [
    "config_outdir = Path('../ETROC-Data')\n",
    "config_outdir = config_outdir / (datetime.date.today().isoformat() + '_Array_Test_Results')\n",
    "config_outdir = config_outdir / \"ChipConfig\"\n",
    "config_outdir.mkdir(parents=True, exist_ok=True)\n",
    "\n",
    "i2c_conn.dump_config(config_outdir, \"PreTID_ETROC2p3_BARE9_RoomT_Aug02\")"
   ]
  },
  {
   "cell_type": "code",
   "execution_count": null,
   "metadata": {},
   "outputs": [],
   "source": [
    "# for chip_address, chip_name in zip(chip_addresses, chip_names):\n",
    "#     i2c_conn.save_auto_cal_BL_map(chip_address, chip_name, \"\")\n",
    "#     i2c_conn.save_auto_cal_NW_map(chip_address, chip_name, \"\")"
   ]
  },
  {
   "cell_type": "code",
   "execution_count": null,
   "metadata": {},
   "outputs": [],
   "source": [
    "# for chip_address, chip_name in zip(chip_addresses, chip_names):\n",
    "#     i2c_conn.load_auto_cal_BL_map(chip_address, chip_name, \"\")\n",
    "#     i2c_conn.load_auto_cal_NW_map(chip_address, chip_name, \"\")"
   ]
  },
  {
   "attachments": {},
   "cell_type": "markdown",
   "metadata": {},
   "source": [
    "# Define pixels of interest"
   ]
  },
  {
   "cell_type": "code",
   "execution_count": null,
   "metadata": {},
   "outputs": [],
   "source": [
    "# row_list = [15, 15, 15, 15]\n",
    "# col_list = [6, 7, 8, 9]\n",
    "# row_list = [14, 14, 14, 14]\n",
    "# col_list = [6, 7, 8, 9]\n",
    "# row_list = [9, 3, 12]\n",
    "# col_list = [3, 8, 11]\n",
    "# row_list = [15, 15]\n",
    "# col_list = [6, 9]\n",
    "# row_list = [14, 14, 15, 15]\n",
    "# col_list = [6, 9, 6, 9]\n",
    "# row_list = [14, 14, 14, 14, 15, 15, 15, 15]\n",
    "# col_list = [6, 7, 8, 9, 6, 7, 8, 9]\n",
    "# row_list = np.arange(16)\n",
    "# col_list = np.full_like(row_list,6)\n",
    "# row_list = np.full_like(col_list,13)\n",
    "col_list = [7, 7, 7, 7, 7, 7, 7, 7, 8, 8, 8, 8, 8, 8, 8, 8]\n",
    "row_list = [15,14,13,12,3,2,1,0, 15,14,13,12,3,2,1,0]\n",
    "\n",
    "scan_list = list(zip(row_list, col_list))\n",
    "\n",
    "# col_list, row_list = np.meshgrid(np.arange(16),np.arange(16))\n",
    "# scan_list = list(zip(row_list.flatten(),col_list.flatten()))\n",
    "\n",
    "print(scan_list)"
   ]
  },
  {
   "attachments": {},
   "cell_type": "markdown",
   "metadata": {},
   "source": [
    "### Enable pixels of Interest"
   ]
  },
  {
   "cell_type": "code",
   "execution_count": null,
   "metadata": {},
   "outputs": [],
   "source": [
    "i2c_conn.enable_select_pixels_in_chips(scan_list,QInjEn=True,Bypass_THCal=True,specified_addresses=chip_addresses[:],power_mode='high',verbose=False)"
   ]
  },
  {
   "cell_type": "markdown",
   "metadata": {},
   "source": [
    "### Set offset for all boards"
   ]
  },
  {
   "cell_type": "code",
   "execution_count": null,
   "metadata": {},
   "outputs": [],
   "source": [
    "offset = 0x0a\n",
    "for chip_address,chip_name in zip(chip_addresses,chip_names):\n",
    "    chip = i2c_conn.get_chip_i2c_connection(chip_address)\n",
    "    i2c_conn.set_chip_offsets(chip_address, offset=offset, chip=chip, pixel_list=scan_list, verbose=False)\n",
    "    del chip"
   ]
  },
  {
   "cell_type": "markdown",
   "metadata": {},
   "source": [
    "#### Set QSel or TH_offset for all boards"
   ]
  },
  {
   "cell_type": "code",
   "execution_count": null,
   "metadata": {},
   "outputs": [],
   "source": [
    "offset = 0x0a\n",
    "charge = 0x0a\n",
    "for chip_address,chip_name in zip(chip_addresses,chip_names):\n",
    "    chip = i2c_conn.get_chip_i2c_connection(chip_address)\n",
    "    row_indexer_handle,_,_ = chip.get_indexer(\"row\")\n",
    "    column_indexer_handle,_,_ = chip.get_indexer(\"column\")\n",
    "    for row, col in scan_list:\n",
    "        # print(f\"Operating on chip {hex(chip_address)} Pixel ({row},{col})\")\n",
    "        column_indexer_handle.set(col)\n",
    "        row_indexer_handle.set(row)\n",
    "        i2c_conn.pixel_decoded_register_write(\"QSel\", format(charge, '05b'), chip)\n",
    "        i2c_conn.pixel_decoded_register_write(\"TH_offset\", format(offset, '06b'), chip)\n",
    "        i2c_conn.pixel_decoded_register_write(\"QInjEn\", '1', chip)\n",
    "    del row_indexer_handle, column_indexer_handle, chip\n",
    "time.sleep(2)"
   ]
  },
  {
   "cell_type": "markdown",
   "metadata": {},
   "source": [
    "### QInj Pixels"
   ]
  },
  {
   "cell_type": "code",
   "execution_count": null,
   "metadata": {},
   "outputs": [],
   "source": [
    "qinj_pixels = {\n",
    "    0x60: [ # (row, col)\n",
    "        (6, 6),\n",
    "    ],\n",
    "    0x61: [ # (row, col)\n",
    "        (7, 7),\n",
    "    ],\n",
    "    0x62: [ # (row, col)\n",
    "        (8, 8),\n",
    "    ],\n",
    "    0x63: [ # (row, col)\n",
    "        (9, 9),\n",
    "    ],\n",
    "}\n",
    "\n",
    "for chip_address in chip_addresses:\n",
    "    if chip_address not in qinj_pixels:\n",
    "        continue\n",
    "    chip = i2c_conn.get_chip_i2c_connection(chip_address)\n",
    "    row_indexer_handle,_,_ = chip.get_indexer(\"row\")\n",
    "    column_indexer_handle,_,_ = chip.get_indexer(\"column\")\n",
    "    for row, col in qinj_pixels[chip_address]:\n",
    "        print(f\"Enabling QInj of chip {hex(chip_address)} Pixel ({row},{col})\")\n",
    "        column_indexer_handle.set(col)\n",
    "        row_indexer_handle.set(row)\n",
    "        # i2c_conn.pixel_decoded_register_write(\"QSel\", format(0x19, '05b'), chip)\n",
    "        i2c_conn.pixel_decoded_register_write(\"QInjEn\", '1', chip)\n"
   ]
  },
  {
   "cell_type": "markdown",
   "metadata": {},
   "source": [
    "### Set Different offsets for all boards"
   ]
  },
  {
   "cell_type": "code",
   "execution_count": null,
   "metadata": {},
   "outputs": [],
   "source": [
    "board_offsets = {\n",
    "    0x60: 0x0a,\n",
    "    0x61: 0x0a,\n",
    "    0x62: 0x0a,\n",
    "    0x63: 0x0a,\n",
    "}\n",
    "\n",
    "for chip_address,chip_name in zip(chip_addresses,chip_names):\n",
    "    if chip_address not in board_offsets:\n",
    "        continue\n",
    "    chip = i2c_conn.get_chip_i2c_connection(chip_address)\n",
    "    i2c_conn.set_chip_offsets(chip_address, offset=board_offsets[chip_address], chip=chip, pixel_list=scan_list, verbose=False)\n",
    "    # row_indexer_handle,_,_ = chip.get_indexer(\"row\")\n",
    "    # column_indexer_handle,_,_ = chip.get_indexer(\"column\")\n",
    "    # for row, col in scan_list:\n",
    "    #     print(f\"Operating on chip {hex(chip_address)} Pixel ({row},{col})\")\n",
    "    #     column_indexer_handle.set(col)\n",
    "    #     row_indexer_handle.set(row)\n",
    "    #     i2c_conn.pixel_decoded_register_write(\"QSel\", format(0x14, '05b'), chip)\n",
    "    #     # i2c_conn.pixel_decoded_register_write(\"TH_offset\", format(board_offsets[chip_address], '06b'), chip)\n",
    "    # del row_indexer_handle, column_indexer_handle\n",
    "    del chip"
   ]
  },
  {
   "cell_type": "markdown",
   "metadata": {},
   "source": [
    "### Offset Pixel per board"
   ]
  },
  {
   "cell_type": "code",
   "execution_count": null,
   "metadata": {},
   "outputs": [],
   "source": [
    "offset_pixels = {\n",
    "    0x60: { # (row, col): offset\n",
    "        (10, 8): 15,\n",
    "    }\n",
    "}\n",
    "\n",
    "for chip_address in chip_addresses:\n",
    "    if chip_address not in offset_pixels:\n",
    "        continue\n",
    "    chip = i2c_conn.get_chip_i2c_connection(chip_address)\n",
    "    row_indexer_handle,_,_ = chip.get_indexer(\"row\")\n",
    "    column_indexer_handle,_,_ = chip.get_indexer(\"column\")\n",
    "    for row, col in offset_pixels[chip_address]:\n",
    "        print(f\"Setting offset of chip {hex(chip_address)} Pixel ({row},{col})\")\n",
    "        column_indexer_handle.set(col)\n",
    "        row_indexer_handle.set(row)\n",
    "        i2c_conn.pixel_decoded_register_write(\"TH_offset\", format(offset_pixels[chip_address][(row, col)], '06b'), chip)"
   ]
  },
  {
   "cell_type": "markdown",
   "metadata": {},
   "source": [
    "### Remove noisy pixels from Trigger"
   ]
  },
  {
   "cell_type": "code",
   "execution_count": null,
   "metadata": {},
   "outputs": [],
   "source": [
    "noisy_pixels = {\n",
    "    0x60: [       # (row, col)\n",
    "        (6, 7),\n",
    "    ],\n",
    "}\n",
    "\n",
    "for chip_address in chip_addresses:\n",
    "    if chip_address not in noisy_pixels:\n",
    "        continue\n",
    "    chip = i2c_conn.get_chip_i2c_connection(chip_address)\n",
    "    row_indexer_handle,_,_ = chip.get_indexer(\"row\")\n",
    "    column_indexer_handle,_,_ = chip.get_indexer(\"column\")\n",
    "    for row, col in noisy_pixels[chip_address]:\n",
    "        print(f\"Masking from trigger of chip {hex(chip_address)} Pixel ({row},{col})\")\n",
    "        column_indexer_handle.set(col)\n",
    "        row_indexer_handle.set(row)\n",
    "\n",
    "        # i2c_conn.enable_pixel_modular(row=row, col=col, verbose=True, chip_address=chip_address, chip=chip, row_indexer_handle=row_indexer_handle, column_indexer_handle=column_indexer_handle, QInjEn=False, Bypass_THCal=False, triggerWindow=True, cbWindow=True)\n",
    "        # i2c_conn.pixel_decoded_register_write(\"TH_offset\", format(offset, '06b'), chip)\n",
    "        i2c_conn.pixel_decoded_register_write(\"DAC\", format(1023, '010b'), chip)\n",
    "        # i2c_conn.disable_pixel(row=row, col=col, verbose=True, chip_address=chip_address, chip=chip, row_indexer_handle=row_indexer_handle, column_indexer_handle=column_indexer_handle)\n",
    "        i2c_conn.pixel_decoded_register_write(\"disTrigPath\", \"1\", chip)\n",
    "        # if(chip_address==0x62): \n",
    "        #     i2c_conn.disable_pixel(row=row, col=col, verbose=True, chip_address=chip_address, chip=chip, row_indexer_handle=row_indexer_handle, column_indexer_handle=column_indexer_handle)\n",
    "            # i2c_conn.pixel_decoded_register_write(\"DAC\", format(1023, '010b'), chip)\n",
    "        #     i2c_conn.pixel_decoded_register_write(\"Bypass_THCal\", \"1\", chip)\n",
    "\n"
   ]
  },
  {
   "cell_type": "markdown",
   "metadata": {},
   "source": [
    "### Disable Pixels of Interest"
   ]
  },
  {
   "cell_type": "code",
   "execution_count": null,
   "metadata": {},
   "outputs": [],
   "source": [
    "for chip_address in chip_addresses[:]:\n",
    "    chip = i2c_conn.get_chip_i2c_connection(chip_address)\n",
    "    row_indexer_handle,_,_ = chip.get_indexer(\"row\")\n",
    "    column_indexer_handle,_,_ = chip.get_indexer(\"column\")\n",
    "    for row,col in scan_list:\n",
    "        i2c_conn.disable_pixel(row=row, col=col, verbose=True, chip_address=chip_address, chip=chip, row_indexer_handle=row_indexer_handle, column_indexer_handle=column_indexer_handle)\n",
    "    del chip, row_indexer_handle, column_indexer_handle"
   ]
  },
  {
   "cell_type": "markdown",
   "metadata": {},
   "source": [
    "# Calibrate FC for all I2C"
   ]
  },
  {
   "cell_type": "code",
   "execution_count": null,
   "metadata": {},
   "outputs": [],
   "source": [
    "for chip_address in chip_addresses[:]:\n",
    "    i2c_conn.asyResetGlobalReadout(chip_address, chip=None)\n",
    "    i2c_conn.asyAlignFastcommand(chip_address, chip=None)"
   ]
  },
  {
   "cell_type": "markdown",
   "metadata": {},
   "source": [
    "# Calibrate PLL"
   ]
  },
  {
   "cell_type": "code",
   "execution_count": null,
   "metadata": {},
   "outputs": [],
   "source": [
    "for chip_address in chip_addresses[:]:\n",
    "    i2c_conn.calibratePLL(chip_address, chip=None)"
   ]
  },
  {
   "cell_type": "markdown",
   "metadata": {},
   "source": [
    "# eFuse"
   ]
  },
  {
   "cell_type": "code",
   "execution_count": null,
   "metadata": {},
   "outputs": [],
   "source": [
    "chip_address = chip_addresses[0]\n",
    "chip = i2c_conn.get_chip_i2c_connection(chip_address)\n",
    "\n",
    "chip.read_all_block(\"ETROC2\", \"Peripheral Config\")\n",
    "handle_EFuse_EnClk = chip.get_decoded_display_var(\"ETROC2\", \"Peripheral Config\", \"EFuse_EnClk\")\n",
    "handle_EFuse_TCKHP = chip.get_decoded_display_var(\"ETROC2\", \"Peripheral Config\", \"EFuse_TCKHP\")\n",
    "handle_EFuse_Mode = chip.get_decoded_display_var(\"ETROC2\", \"Peripheral Config\", \"EFuse_Mode\")\n",
    "handle_EFuse_Rstn = chip.get_decoded_display_var(\"ETROC2\", \"Peripheral Config\", \"EFuse_Rstn\")\n",
    "handle_EFuse_Start = chip.get_decoded_display_var(\"ETROC2\", \"Peripheral Config\", \"EFuse_Start\")\n",
    "handle_EFuse_Bypass = chip.get_decoded_display_var(\"ETROC2\", \"Peripheral Config\", \"EFuse_Bypass\")\n",
    "handle_EFuse_Prog = chip.get_decoded_display_var(\"ETROC2\", \"Peripheral Config\", \"EFuse_Prog\")\n",
    "\n",
    "chip.read_all_block(\"ETROC2\", \"Peripheral Status\")\n",
    "handle_EFuseQ = chip.get_decoded_display_var(\"ETROC2\", \"Peripheral Status\", \"EFuseQ\")\n",
    "\n",
    "handle_EFuse_EnClk.set(hex(0b1))\n",
    "handle_EFuse_Bypass.set(hex(0b0))\n",
    "handle_EFuse_Rstn.set(hex(0b1))\n",
    "handle_EFuse_Start.set(hex(0b0))\n",
    "\n",
    "handle_EFuse_Prog.set(hex(0xE5AE0009))\n",
    "# handle_EFuse_Prog.set(hex(0xFAF00008))\n",
    "# handle_EFuse_Prog.set(hex(0x5C9A0007))\n",
    "# handle_EFuse_Prog.set(hex(0x43C40006))\n",
    "# handle_EFuse_Prog.set(hex(0x62260005))\n",
    "# handle_EFuse_Prog.set(hex(0x7D780004))\n",
    "# handle_EFuse_Prog.set(hex(0x21E20003)) # 0x10f10003\n",
    "# handle_EFuse_Prog.set(hex(0x3EBC0002))\n",
    "# handle_EFuse_Prog.set(hex(0x1F5E0001))\n",
    "\n",
    "# 01011100100110100000000000000111\n",
    "# handle_EFuse_Prog.set(hex(0b00100001111000100000000000000011))\n",
    "# handle_EFuse_Prog.set(hex(0b00000000000000000000000000000001))\n",
    "# handle_EFuse_Prog.set(hex(0b00010000111100010000000000000011))\n",
    "\n",
    "\n",
    "handle_EFuse_Mode.set(hex(0b10))\n",
    "handle_EFuse_TCKHP.set(hex(0x4))\n",
    "chip.write_all_block(\"ETROC2\", \"Peripheral Config\")\n",
    "chip.read_all_block(\"ETROC2\", \"Peripheral Config\")"
   ]
  },
  {
   "cell_type": "code",
   "execution_count": null,
   "metadata": {},
   "outputs": [],
   "source": [
    "# EFuse Read\n",
    "\n",
    "# handle_EFuse_Rstn.set('1')\n",
    "# chip.write_all_block(\"ETROC2\", \"Peripheral Config\")\n",
    "handle_EFuse_Rstn.set(hex(0b0))\n",
    "chip.write_all_block(\"ETROC2\", \"Peripheral Config\")\n",
    "handle_EFuse_Rstn.set(hex(0b1))\n",
    "chip.write_all_block(\"ETROC2\", \"Peripheral Config\")\n",
    "# handle_EFuse_Rstn.set('0')\n",
    "# chip.write_all_block(\"ETROC2\", \"Peripheral Config\")\n",
    "\n",
    "# handle_EFuse_Start.set('0')\n",
    "# chip.write_all_block(\"ETROC2\", \"Peripheral Config\")\n",
    "# handle_EFuse_Start.set('1')\n",
    "# chip.write_all_block(\"ETROC2\", \"Peripheral Config\")\n",
    "# handle_EFuse_Start.set('0')\n",
    "# chip.write_all_block(\"ETROC2\", \"Peripheral Config\")\n",
    "\n",
    "handle_EFuse_Mode.set(hex(0b10))\n",
    "chip.write_all_block(\"ETROC2\", \"Peripheral Config\")\n",
    "\n",
    "chip.read_all_block(\"ETROC2\", \"Peripheral Config\")\n",
    "print(\n",
    "\" EF CLK (Act High)- \",                handle_EFuse_EnClk.get(),\n",
    "\"\\n EF TCKHP- \",                       handle_EFuse_TCKHP.get(),\n",
    "\"\\n EF Mode (10 - read, 01-write)- \",  handle_EFuse_Mode.get(),\n",
    "\"\\n EF Rstn (Act Low)- \",              handle_EFuse_Rstn.get(),\n",
    "\"\\n EF Start (Act High to Program)- \", handle_EFuse_Start.get(),\n",
    "\"\\n EF ByPass (Act High)- \",           handle_EFuse_Bypass.get(),\n",
    "\"\\n EF Prog- \",                        handle_EFuse_Prog.get(),\n",
    "\"\\n Chip ID (EF Prog [LSB 17 bits])- \",f\"{(int(handle_EFuse_Prog.get(), 0) & 0x0000ffff):#06x}\",f\"{(int(handle_EFuse_Prog.get(), 0) & 0x0000ffff):>017b}\\n\\n\",\n",
    "f\"EFProg Intd for chip {hex(chip_address)}: {handle_EFuse_Prog.get()}, {int(handle_EFuse_Prog.get(), 0):032b}\"\n",
    ") \n",
    "\n",
    "chip.read_all_block(\"ETROC2\", \"Peripheral Status\")\n",
    "print(f\" EFuseQ Read for chip {hex(chip_address)}: {handle_EFuseQ.get()}, {int(handle_EFuseQ.get(), 0):032b}\")"
   ]
  },
  {
   "cell_type": "code",
   "execution_count": null,
   "metadata": {},
   "outputs": [],
   "source": [
    "# EFuse Write\n",
    "\n",
    "# handle_EFuse_Mode.set(hex(0b01))\n",
    "# chip.write_all_block(\"ETROC2\", \"Peripheral Config\")\n",
    "\n",
    "handle_EFuse_Rstn.set(hex(0b0))\n",
    "chip.write_all_block(\"ETROC2\", \"Peripheral Config\")\n",
    "# time.sleep(2)\n",
    "handle_EFuse_Rstn.set(hex(0b1))\n",
    "chip.write_all_block(\"ETROC2\", \"Peripheral Config\")"
   ]
  },
  {
   "cell_type": "code",
   "execution_count": null,
   "metadata": {},
   "outputs": [],
   "source": [
    "# handle_EFuse_EnClk.set(hex(0b0))\n",
    "# chip.write_all_block(\"ETROC2\", \"Peripheral Config\")\n",
    "# chip.write_decoded_value(\"ETROC2\",\"Peripheral Config\",\"EFuse_EnClk\")\n",
    "# handle_EFuse_EnClk.set(hex(0b1))\n",
    "# chip.write_decoded_value(\"ETROC2\",\"Peripheral Config\",\"EFuse_EnClk\")\n",
    "# chip.write_all_block(\"ETROC2\", \"Peripheral Config\")\n",
    "for i in tqdm(range(1000)):\n",
    "    handle_EFuse_Mode.set(hex(0b01))\n",
    "    # chip.write_all_block(\"ETROC2\", \"Peripheral Config\")\n",
    "    chip.write_decoded_value(\"ETROC2\",\"Peripheral Config\",\"EFuse_Mode\")\n",
    "    handle_EFuse_TCKHP.set(hex((i%14)+1))\n",
    "    chip.write_decoded_value(\"ETROC2\",\"Peripheral Config\",\"EFuse_TCKHP\")\n",
    "    handle_EFuse_Rstn.set(hex(0b0))\n",
    "    chip.write_decoded_value(\"ETROC2\",\"Peripheral Config\",\"EFuse_Rstn\")\n",
    "    # chip.write_all_block(\"ETROC2\", \"Peripheral Config\")\n",
    "    handle_EFuse_Rstn.set(hex(0b1))\n",
    "    # chip.write_all_block(\"ETROC2\", \"Peripheral Config\")\n",
    "    chip.write_decoded_value(\"ETROC2\",\"Peripheral Config\",\"EFuse_Rstn\")\n",
    "    handle_EFuse_Start.set(hex(0b0))\n",
    "    # chip.write_all_block(\"ETROC2\", \"Peripheral Config\")\n",
    "    chip.write_decoded_value(\"ETROC2\",\"Peripheral Config\",\"EFuse_Start\")\n",
    "\n",
    "    handle_EFuse_Start.set(hex(0b1))\n",
    "    # chip.write_all_block(\"ETROC2\", \"Peripheral Config\")\n",
    "    chip.write_decoded_value(\"ETROC2\",\"Peripheral Config\",\"EFuse_Start\")\n",
    "    # time.sleep(2)\n",
    "    # handle_EFuse_Start.set(hex(0b1))\n",
    "    # chip.write_all_block(\"ETROC2\", \"Peripheral Config\")\n",
    "    handle_EFuse_Start.set(hex(0b0))\n",
    "    chip.write_decoded_value(\"ETROC2\",\"Peripheral Config\",\"EFuse_Start\")\n",
    "    # chip.write_all_block(\"ETROC2\", \"Peripheral Config\")\n",
    "    # time.sleep(0.05)\n",
    "    handle_EFuse_Mode.set(hex(0b10))\n",
    "    chip.write_decoded_value(\"ETROC2\",\"Peripheral Config\",\"EFuse_Mode\")\n",
    "\n",
    "# \n",
    "# handle_EFuse_Start.set(hex(0b1))\n",
    "# chip.write_all_block(\"ETROC2\", \"Peripheral Config\")\n",
    "# handle_EFuse_Start.set('1')\n",
    "# chip.write_all_block(\"ETROC2\", \"Peripheral Config\")\n",
    "# handle_EFuse_Start.set('0')\n",
    "# chip.write_all_block(\"ETROC2\", \"Peripheral Config\")\n",
    "\n",
    "# handle_EFuse_Mode.set(hex(0b10))\n",
    "# chip.write_decoded_value(\"ETROC2\",\"Peripheral Config\",\"EFuse_Mode\")\n",
    "# chip.write_all_block(\"ETROC2\", \"Peripheral Config\")\n",
    "\n",
    "chip.read_all_block(\"ETROC2\", \"Peripheral Config\")\n",
    "print(\n",
    "\" EF CLK (Act High)- \",                handle_EFuse_EnClk.get(),\n",
    "\"\\n EF TCKHP- \",                       handle_EFuse_TCKHP.get(),\n",
    "\"\\n EF Mode (10 - read, 01-write)- \",  handle_EFuse_Mode.get(),\n",
    "\"\\n EF Rstn (Act Low)- \",              handle_EFuse_Rstn.get(),\n",
    "\"\\n EF Start (Act High to Program)- \", handle_EFuse_Start.get(),\n",
    "\"\\n EF ByPass (Act High)- \",           handle_EFuse_Bypass.get(),\n",
    "\"\\n EF Prog- \",                        handle_EFuse_Prog.get(),\n",
    "\"\\n Chip ID (EF Prog [LSB 17 bits])- \",f\"{(int(handle_EFuse_Prog.get(), 0) & 0x0000ffff):#06x}\",f\"{(int(handle_EFuse_Prog.get(), 0) & 0x0000ffff):>017b}\\n\\n\",\n",
    "f\"EFProg Intd for chip {hex(chip_address)}: {handle_EFuse_Prog.get()}, {int(handle_EFuse_Prog.get(), 0):032b}\"\n",
    ") \n",
    "\n",
    "chip.read_all_block(\"ETROC2\", \"Peripheral Status\")\n",
    "print(f\" EFuseQ Read for chip {hex(chip_address)}: {handle_EFuseQ.get()}, {int(handle_EFuseQ.get(), 0):032b}\")"
   ]
  },
  {
   "cell_type": "code",
   "execution_count": null,
   "metadata": {},
   "outputs": [],
   "source": [
    "# handle_EFuse_EnClk.set(hex(0b0))\n",
    "# chip.write_all_block(\"ETROC2\", \"Peripheral Config\")\n",
    "# chip.write_decoded_value(\"ETROC2\",\"Peripheral Config\",\"EFuse_EnClk\")\n",
    "# handle_EFuse_EnClk.set(hex(0b1))\n",
    "# chip.write_decoded_value(\"ETROC2\",\"Peripheral Config\",\"EFuse_EnClk\")\n",
    "# chip.write_all_block(\"ETROC2\", \"Peripheral Config\")\n",
    "for i in tqdm(range(100)):\n",
    "    handle_EFuse_Mode.set(hex(0b01))\n",
    "    # chip.write_all_block(\"ETROC2\", \"Peripheral Config\")\n",
    "    chip.write_decoded_value(\"ETROC2\",\"Peripheral Config\",\"EFuse_Mode\")\n",
    "    handle_EFuse_TCKHP.set(hex((i%14)+1))\n",
    "    chip.write_decoded_value(\"ETROC2\",\"Peripheral Config\",\"EFuse_TCKHP\")\n",
    "    handle_EFuse_Rstn.set(hex(0b0))\n",
    "    chip.write_decoded_value(\"ETROC2\",\"Peripheral Config\",\"EFuse_Rstn\")\n",
    "    # chip.write_all_block(\"ETROC2\", \"Peripheral Config\")\n",
    "    handle_EFuse_Rstn.set(hex(0b1))\n",
    "    # chip.write_all_block(\"ETROC2\", \"Peripheral Config\")\n",
    "    chip.write_decoded_value(\"ETROC2\",\"Peripheral Config\",\"EFuse_Rstn\")\n",
    "    handle_EFuse_Start.set(hex(0b0))\n",
    "    # chip.write_all_block(\"ETROC2\", \"Peripheral Config\")\n",
    "    chip.write_decoded_value(\"ETROC2\",\"Peripheral Config\",\"EFuse_Start\")\n",
    "\n",
    "    handle_EFuse_Start.set(hex(0b1))\n",
    "    # chip.write_all_block(\"ETROC2\", \"Peripheral Config\")\n",
    "    chip.write_decoded_value(\"ETROC2\",\"Peripheral Config\",\"EFuse_Start\")\n",
    "    # time.sleep(2)\n",
    "    # handle_EFuse_Start.set(hex(0b1))\n",
    "    # chip.write_all_block(\"ETROC2\", \"Peripheral Config\")\n",
    "    handle_EFuse_Start.set(hex(0b0))\n",
    "    chip.write_decoded_value(\"ETROC2\",\"Peripheral Config\",\"EFuse_Start\")\n",
    "    # chip.write_all_block(\"ETROC2\", \"Peripheral Config\")\n",
    "    # time.sleep(0.05)\n",
    "    handle_EFuse_Mode.set(hex(0b10))\n",
    "    chip.write_decoded_value(\"ETROC2\",\"Peripheral Config\",\"EFuse_Mode\")\n",
    "\n",
    "# \n",
    "# handle_EFuse_Start.set(hex(0b1))\n",
    "# chip.write_all_block(\"ETROC2\", \"Peripheral Config\")\n",
    "# handle_EFuse_Start.set('1')\n",
    "# chip.write_all_block(\"ETROC2\", \"Peripheral Config\")\n",
    "# handle_EFuse_Start.set('0')\n",
    "# chip.write_all_block(\"ETROC2\", \"Peripheral Config\")\n",
    "\n",
    "# handle_EFuse_Mode.set(hex(0b10))\n",
    "# chip.write_decoded_value(\"ETROC2\",\"Peripheral Config\",\"EFuse_Mode\")\n",
    "# chip.write_all_block(\"ETROC2\", \"Peripheral Config\")\n",
    "\n",
    "chip.read_all_block(\"ETROC2\", \"Peripheral Config\")\n",
    "print(\n",
    "\" EF CLK (Act High)- \",                handle_EFuse_EnClk.get(),\n",
    "\"\\n EF TCKHP- \",                       handle_EFuse_TCKHP.get(),\n",
    "\"\\n EF Mode (10 - read, 01-write)- \",  handle_EFuse_Mode.get(),\n",
    "\"\\n EF Rstn (Act Low)- \",              handle_EFuse_Rstn.get(),\n",
    "\"\\n EF Start (Act High to Program)- \", handle_EFuse_Start.get(),\n",
    "\"\\n EF ByPass (Act High)- \",           handle_EFuse_Bypass.get(),\n",
    "\"\\n EF Prog- \",                        handle_EFuse_Prog.get(),\n",
    "\"\\n Chip ID (EF Prog [LSB 17 bits])- \",f\"{(int(handle_EFuse_Prog.get(), 0) & 0x0000ffff):#06x}\",f\"{(int(handle_EFuse_Prog.get(), 0) & 0x0000ffff):>017b}\\n\\n\",\n",
    "f\"EFProg Intd for chip {hex(chip_address)}: {handle_EFuse_Prog.get()}, {int(handle_EFuse_Prog.get(), 0):032b}\"\n",
    ") \n",
    "\n",
    "chip.read_all_block(\"ETROC2\", \"Peripheral Status\")\n",
    "print(f\" EFuseQ Read for chip {hex(chip_address)}: {handle_EFuseQ.get()}, {int(handle_EFuseQ.get(), 0):032b}\")"
   ]
  },
  {
   "cell_type": "code",
   "execution_count": null,
   "metadata": {},
   "outputs": [],
   "source": []
  },
  {
   "cell_type": "code",
   "execution_count": null,
   "metadata": {},
   "outputs": [],
   "source": []
  },
  {
   "cell_type": "code",
   "execution_count": null,
   "metadata": {},
   "outputs": [],
   "source": [
    "# EFuse Write\n",
    "counter = 0\n",
    "while counter<10:\n",
    "    counter+=1\n",
    "    print(\"Attempt\", counter)\n",
    "\n",
    "    handle_EFuse_Mode.set(hex(0b01))\n",
    "    chip.write_all_block(\"ETROC2\", \"Peripheral Config\")\n",
    "    chip.read_all_block(\"ETROC2\", \"Peripheral Config\")\n",
    "    print(\n",
    "    \" EF Mode (10 - read, 01-write)- \",  handle_EFuse_Mode.get(),\n",
    "    ) \n",
    "\n",
    "    # handle_EFuse_Mode.set(hex(0b01))\n",
    "    # chip.write_all_block(\"ETROC2\", \"Peripheral Config\")\n",
    "    # chip.read_all_block(\"ETROC2\", \"Peripheral Config\")\n",
    "\n",
    "    handle_EFuse_Rstn.set('1')\n",
    "    chip.write_all_block(\"ETROC2\", \"Peripheral Config\")\n",
    "    handle_EFuse_Rstn.set('0')\n",
    "    chip.write_all_block(\"ETROC2\", \"Peripheral Config\")\n",
    "    handle_EFuse_Rstn.set('1')\n",
    "    chip.write_all_block(\"ETROC2\", \"Peripheral Config\")\n",
    "\n",
    "\n",
    "    handle_EFuse_Start.set('0')\n",
    "    chip.write_all_block(\"ETROC2\", \"Peripheral Config\")\n",
    "    handle_EFuse_Start.set('1')\n",
    "    chip.write_all_block(\"ETROC2\", \"Peripheral Config\")\n",
    "    handle_EFuse_Start.set('0')\n",
    "    chip.write_all_block(\"ETROC2\", \"Peripheral Config\")\n",
    "\n",
    "\n",
    "    handle_EFuse_Mode.set(hex(0b10))\n",
    "    chip.write_all_block(\"ETROC2\", \"Peripheral Config\")\n",
    "    chip.read_all_block(\"ETROC2\", \"Peripheral Config\")\n",
    "\n",
    "    print(\n",
    "    \" EF CLK (Act High)- \",                handle_EFuse_EnClk.get(),\n",
    "    \"\\n EF TCKHP- \",                       handle_EFuse_TCKHP.get(),\n",
    "    \"\\n EF Mode (10 - read, 01-write)- \",  handle_EFuse_Mode.get(),\n",
    "    \"\\n EF Rstn (Act Low)- \",              handle_EFuse_Rstn.get(),\n",
    "    \"\\n EF Start (Act High to Program)- \", handle_EFuse_Start.get(),\n",
    "    \"\\n EF ByPass (Act High)- \",           handle_EFuse_Bypass.get(),\n",
    "    \"\\n EF Prog- \",                        handle_EFuse_Prog.get(),\n",
    "    \"\\n Chip ID (EF Prog [LSB 17 bits])- \",f\"{(int(handle_EFuse_Prog.get(), 0) & 0x0000ffff):#06x}\",f\"{(int(handle_EFuse_Prog.get(), 0) & 0x0000ffff):>017b}\\n\\n\",\n",
    "    f\"EFProg Intd for chip {hex(chip_address)}: {handle_EFuse_Prog.get()}, {int(handle_EFuse_Prog.get(), 0):032b}\"\n",
    "    ) \n",
    "\n",
    "    chip.read_all_block(\"ETROC2\", \"Peripheral Status\")\n",
    "    print(f\" EFuseQ Read for chip {hex(chip_address)}: {handle_EFuseQ.get()}, {int(handle_EFuseQ.get(), 0):032b}\")\n",
    "\n",
    "    if (int(handle_EFuseQ.get(), 0)!=0): break"
   ]
  },
  {
   "cell_type": "markdown",
   "metadata": {},
   "source": [
    "# Disconnect I2C Device"
   ]
  },
  {
   "cell_type": "markdown",
   "metadata": {},
   "source": [
    "## DO THIS IF YOU PLAN TO DO NOISE STUDIES"
   ]
  },
  {
   "cell_type": "code",
   "execution_count": null,
   "metadata": {},
   "outputs": [],
   "source": [
    "del i2c_conn"
   ]
  }
 ],
 "metadata": {
  "kernelspec": {
   "display_name": "Python 3",
   "language": "python",
   "name": "python3"
  },
  "language_info": {
   "codemirror_mode": {
    "name": "ipython",
    "version": 3
   },
   "file_extension": ".py",
   "mimetype": "text/x-python",
   "name": "python",
   "nbconvert_exporter": "python",
   "pygments_lexer": "ipython3",
   "version": "3.10.12"
  },
  "orig_nbformat": 4
 },
 "nbformat": 4,
 "nbformat_minor": 2
}
