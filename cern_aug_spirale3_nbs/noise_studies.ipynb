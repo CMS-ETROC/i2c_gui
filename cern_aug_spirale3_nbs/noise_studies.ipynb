{
 "cells": [
  {
   "cell_type": "code",
   "execution_count": null,
   "metadata": {},
   "outputs": [],
   "source": [
    "#############################################################################\n",
    "# zlib License\n",
    "#\n",
    "# (C) 2023 Zach Flowers, Murtaza Safdari <musafdar@cern.ch>\n",
    "#\n",
    "# This software is provided 'as-is', without any express or implied\n",
    "# warranty.  In no event will the authors be held liable for any damages\n",
    "# arising from the use of this software.\n",
    "#\n",
    "# Permission is granted to anyone to use this software for any purpose,\n",
    "# including commercial applications, and to alter it and redistribute it\n",
    "# freely, subject to the following restrictions:\n",
    "#\n",
    "# 1. The origin of this software must not be misrepresented; you must not\n",
    "#    claim that you wrote the original software. If you use this software\n",
    "#    in a product, an acknowledgment in the product documentation would be\n",
    "#    appreciated but is not required.\n",
    "# 2. Altered source versions must be plainly marked as such, and must not be\n",
    "#    misrepresented as being the original software.\n",
    "# 3. This notice may not be removed or altered from any source distribution.\n",
    "#############################################################################"
   ]
  },
  {
   "attachments": {},
   "cell_type": "markdown",
   "metadata": {},
   "source": [
    "# Imports"
   ]
  },
  {
   "cell_type": "code",
   "execution_count": null,
   "metadata": {},
   "outputs": [],
   "source": [
    "#%%\n",
    "%matplotlib inline\n",
    "import matplotlib.pyplot as plt\n",
    "import logging\n",
    "import i2c_gui\n",
    "import i2c_gui.chips\n",
    "from i2c_gui.usb_iss_helper import USB_ISS_Helper\n",
    "from i2c_gui.fpga_eth_helper import FPGA_ETH_Helper\n",
    "import numpy as np\n",
    "from mpl_toolkits.axes_grid1 import make_axes_locatable\n",
    "# import time\n",
    "from tqdm import tqdm\n",
    "# from i2c_gui.chips.etroc2_chip import register_decoding\n",
    "import os, sys\n",
    "import multiprocessing\n",
    "os.chdir(f'/home/{os.getlogin()}/ETROC2/ETROC_DAQ')\n",
    "import run_script\n",
    "import importlib\n",
    "importlib.reload(run_script)\n",
    "import datetime\n",
    "import pandas\n",
    "from pathlib import Path\n",
    "import subprocess\n",
    "import sqlite3\n",
    "from fnmatch import fnmatch\n",
    "import scipy.stats as stats\n",
    "import hist\n",
    "import mplhep as hep\n",
    "plt.style.use(hep.style.CMS)\n",
    "from notebooks.notebook_helpers import *\n",
    "\n",
    "from scripts.log_action import log_action_v2\n",
    "from time import sleep"
   ]
  },
  {
   "cell_type": "code",
   "execution_count": null,
   "metadata": {},
   "outputs": [],
   "source": [
    "#%%\n",
    "%matplotlib inline\n",
    "import matplotlib.pyplot as plt\n",
    "plt.figure()\n",
    "plt.show()"
   ]
  },
  {
   "attachments": {},
   "cell_type": "markdown",
   "metadata": {},
   "source": [
    "# Set defaults"
   ]
  },
  {
   "cell_type": "code",
   "execution_count": null,
   "metadata": {},
   "outputs": [],
   "source": [
    "# !!!!!!!!!!!!\n",
    "# It is very important to correctly set the chip name, this value is stored with the data\n",
    "chip_names = [\"ET2p03_BARE2\"]\n",
    "# chip_names = [\"ET2p01_BARE10\"]\n",
    "chip_fignames = chip_names\n",
    "chip_figtitles = chip_names\n",
    "\n",
    "# 'The port name the USB-ISS module is connected to. Default: /dev/ttyACM0'\n",
    "port = \"/dev/ttyACM5\"\n",
    "# I2C addresses for the pixel block and WS\n",
    "chip_addresses = [0x60] \n",
    "ws_addresses = [None]\n",
    "\n",
    "hostname = \"192.168.2.3\"\n",
    "\n",
    "today = datetime.date.today().isoformat()\n",
    "\n",
    "polarity = \"0x4023\" # ?\n",
    "# polarity = \"0x000f\"\n",
    "\n",
    "LED_page = \"0x0000\"\n",
    "active_channel = \"0x0001\"\n",
    "delay = \"0x1800\"\n",
    "\n",
    "fig_outdir = Path('../ETROC-figures')\n",
    "fig_outdir = fig_outdir / (datetime.date.today().isoformat() + '_Array_Test_Results')\n",
    "fig_outdir.mkdir(exist_ok=True)\n",
    "fig_path = str(fig_outdir)"
   ]
  },
  {
   "attachments": {},
   "cell_type": "markdown",
   "metadata": {},
   "source": [
    "## Make i2c_connection class object"
   ]
  },
  {
   "cell_type": "code",
   "execution_count": null,
   "metadata": {},
   "outputs": [],
   "source": [
    "# i2c_conn = self, port, chip_addresses, chip_names, chip_fc_delays\n",
    "i2c_conn = i2c_connection(port,chip_addresses,ws_addresses,chip_names,[(\"1\",\"1\")])"
   ]
  },
  {
   "cell_type": "markdown",
   "metadata": {},
   "source": [
    "## Disable Pixels"
   ]
  },
  {
   "cell_type": "markdown",
   "metadata": {},
   "source": [
    "pixels will be enabled when needed by later function calls"
   ]
  },
  {
   "cell_type": "code",
   "execution_count": null,
   "metadata": {},
   "outputs": [],
   "source": [
    "#log_action_v2(Path(\"../i2c_gui\"), \"Config\", \"\", \"Disabling pixels\")\n",
    "i2c_conn.config_chips('00100000')\n",
    "# i2c_conn.config_chips('00100111')\n",
    "i2c_conn.config_chips('00001000')\n",
    "# i2c_conn.config_chips('00000100')"
   ]
  },
  {
   "cell_type": "code",
   "execution_count": null,
   "metadata": {},
   "outputs": [],
   "source": [
    "#%%\n",
    "%matplotlib inline\n",
    "import matplotlib.pyplot as plt\n",
    "plt.figure()\n",
    "plt.show()"
   ]
  },
  {
   "cell_type": "code",
   "execution_count": null,
   "metadata": {},
   "outputs": [],
   "source": [
    "# histdir = Path('../ETROC-History/')\n",
    "# histdir = Path('/media/daq/X9/DESY_Jun2024_AIDA/ETROC-History/')\n",
    "histdir = Path('/home/daq/ETROC2/ETROC-History/CERN_Aug_2024_CC_Spirale3')\n",
    "histdir.mkdir(exist_ok=True)\n",
    "histfile = histdir / 'BaselineHistory.sqlite'\n",
    "figure_title = \"-24.5C, 0 MRad, A: 1.32V, D: 1.2V\"\n",
    "i2c_conn.save_baselines(chip_fignames, fig_title=figure_title, fig_path=fig_path, histdir=histdir, histfile=histfile, save_notes=figure_title)"
   ]
  },
  {
   "cell_type": "markdown",
   "metadata": {},
   "source": [
    "## Define pixels of interest"
   ]
  },
  {
   "cell_type": "markdown",
   "metadata": {},
   "source": [
    "# Noise Data Taking"
   ]
  },
  {
   "cell_type": "code",
   "execution_count": null,
   "metadata": {},
   "outputs": [],
   "source": [
    "# row_list = [0, 0, 3, 3, 12, 12]\n",
    "# col_list = [14, 2, 14, 2, 14, 2]\n",
    "\n",
    "row_list = [0, 0, 3, 3, 12, 12]\n",
    "col_list = [14, 0, 14, 0, 14, 0]\n",
    "\n",
    "# row_list = [0, 0, 3, 12, 12]\n",
    "# col_list = [14, 0, 14, 14, 0]\n",
    "\n",
    "# row_list = [12, 12]\n",
    "# col_list = [14, 0]\n",
    "\n",
    "scan_list = list(zip(row_list, col_list))\n",
    "print(scan_list)"
   ]
  },
  {
   "attachments": {},
   "cell_type": "markdown",
   "metadata": {},
   "source": [
    "## Finding the Turn-On Point of the Pixel"
   ]
  },
  {
   "cell_type": "code",
   "execution_count": null,
   "metadata": {},
   "outputs": [],
   "source": [
    "#log_action_v2(Path(\"../i2c_gui\"), \"Config\", \"\", \"Finding pixel turn-on point\")\n",
    "\n",
    "# pixel_turnon_points(i2c_conn, chip_addresses[0], chip_fignames[0], LED_page, delay, active_channel, polarity, scan_list, verbose=False, calibrate=True, today=today, hostname=hostname)"
   ]
  },
  {
   "attachments": {},
   "cell_type": "markdown",
   "metadata": {},
   "source": [
    "## Noise Peak Scans"
   ]
  },
  {
   "cell_type": "code",
   "execution_count": null,
   "metadata": {},
   "outputs": [],
   "source": [
    "#log_action_v2(Path(\"../i2c_gui\"), \"Config\", \"\", \"Noise peak scan\")\n",
    "polarity = \"0x0023\"\n",
    "trigger_bit_noisescan(i2c_conn, chip_addresses[0], chip_fignames[0], LED_page, delay, active_channel, polarity, scan_list, verbose=False, pedestal_scan_step=1, attempt='_quietCB', busyCB=False, today=today, hostname=hostname)"
   ]
  },
  {
   "attachments": {},
   "cell_type": "markdown",
   "metadata": {},
   "source": [
    "## Noise Peak Scan Plot"
   ]
  },
  {
   "cell_type": "code",
   "execution_count": null,
   "metadata": {},
   "outputs": [],
   "source": [
    "trigger_bit_noisescan_plot(i2c_conn, chip_addresses[0], chip_figtitles[0], chip_fignames[0], scan_list, attempt='_quietCB', tag=\" Quiet CB\", autoBL=True, gaus=True, today=today)"
   ]
  },
  {
   "attachments": {},
   "cell_type": "markdown",
   "metadata": {},
   "source": [
    "## Finding the Peak DAC Values per Charge"
   ]
  },
  {
   "cell_type": "code",
   "execution_count": null,
   "metadata": {},
   "outputs": [],
   "source": [
    "# QInjEns = [5, 6, 8, 15, 22, 27]\n",
    "QInjEns = [6, 8, 10, 15, 22]\n",
    "# QInjEns = [15]"
   ]
  },
  {
   "cell_type": "code",
   "execution_count": null,
   "metadata": {},
   "outputs": [],
   "source": [
    "#log_action_v2(Path(\"../i2c_gui\"), \"Config\", \"\", \"Finding pixel turn-off point\")\n",
    "polarity = \"0x0023\"\n",
    "pixel_turnoff_points(i2c_conn, chip_addresses[0], chip_fignames[0], LED_page, delay, active_channel, polarity, scan_list, verbose=False, QInjEns=QInjEns, today=today, hostname=hostname, triggerbit=False, attempt=\"_data\")"
   ]
  },
  {
   "attachments": {},
   "cell_type": "markdown",
   "metadata": {},
   "source": [
    "## Q vs Peak DAC Plots"
   ]
  },
  {
   "cell_type": "code",
   "execution_count": null,
   "metadata": {},
   "outputs": [],
   "source": [
    "charge_peakDAC_plot(i2c_conn, chip_addresses[0], chip_figtitles[0], chip_fignames[0], scan_list, QInjEns, today=today, attempt=\"_data\")"
   ]
  },
  {
   "attachments": {},
   "cell_type": "markdown",
   "metadata": {},
   "source": [
    "## Q v DAC Full Scan"
   ]
  },
  {
   "cell_type": "markdown",
   "metadata": {},
   "source": [
    "### This takes a long time as it takes the data for the \"money plots\""
   ]
  },
  {
   "cell_type": "code",
   "execution_count": null,
   "metadata": {},
   "outputs": [],
   "source": [
    "#log_action_v2(Path(\"../i2c_gui\"), \"Config\", \"\", \"Full Q vs DAC Scan\")\n",
    "\n",
    "# full_scurve_scan(i2c_conn, chip_addresses[0], chip_figtitles[0], chip_fignames[0], s_flag=LED_page, d_flag=delay, a_flag=active_channel, p_flag=polarity, scan_list=scan_list, verbose=False, QInjEns=QInjEns, pedestal_scan_step=1, attempt='', tp_tag='', today=today, allon=False, neighbors=False, hostname=hostname)\n",
    "polarity = \"0x4023\"\n",
    "full_scurve_scan(i2c_conn, chip_addresses[0], chip_fignames[0], s_flag=LED_page, d_flag=delay, a_flag=active_channel, p_flag=polarity, scan_list=scan_list, verbose=False, QInjEns=QInjEns, pedestal_scan_step=1, attempt='', tp_tag='_data', today=today, allon=False, neighbors=False, hostname=hostname, run_options=\"--compressed_binary --skip_translation\",timePerPixel=2, deadTime=1, BL_offset=-2)\n",
    "\n",
    "# full_scurve_scan(i2c_conn, chip_addresses[0], chip_fignames[0], s_flag=LED_page, d_flag=delay, a_flag=active_channel, p_flag=polarity, scan_list=scan_list, verbose=False, QInjEns=QInjEns, pedestal_scan_step=40, attempt='', tp_tag='_data', today=today, allon=False, neighbors=False, hostname=hostname, run_options=\"--suppress_fillers --skip_binary --clear_fifo\",timePerPixel=4, deadTime=1, BL_offset=-2)"
   ]
  },
  {
   "attachments": {},
   "cell_type": "markdown",
   "metadata": {},
   "source": [
    "## Plotting Full S-Curves"
   ]
  },
  {
   "cell_type": "code",
   "execution_count": null,
   "metadata": {},
   "outputs": [],
   "source": [
    "process_scurves(chip_figtitles[0], chip_fignames[0], QInjEns, scan_list, today=today)"
   ]
  },
  {
   "cell_type": "markdown",
   "metadata": {},
   "source": [
    "# Calibrate FC for all I2C"
   ]
  },
  {
   "cell_type": "code",
   "execution_count": null,
   "metadata": {},
   "outputs": [],
   "source": [
    "for chip_address in chip_addresses[:]:\n",
    "    i2c_conn.asyResetGlobalReadout(chip_address, chip=None)\n",
    "    i2c_conn.asyAlignFastcommand(chip_address, chip=None)"
   ]
  },
  {
   "cell_type": "markdown",
   "metadata": {},
   "source": [
    "# Calibrate PLL"
   ]
  },
  {
   "cell_type": "code",
   "execution_count": null,
   "metadata": {},
   "outputs": [],
   "source": [
    "for chip_address in chip_addresses[:]:\n",
    "    i2c_conn.calibratePLL(chip_address, chip=None)"
   ]
  },
  {
   "attachments": {},
   "cell_type": "markdown",
   "metadata": {},
   "source": [
    "# Disconnect I2C Device"
   ]
  },
  {
   "cell_type": "code",
   "execution_count": null,
   "metadata": {},
   "outputs": [],
   "source": [
    "del i2c_conn"
   ]
  },
  {
   "cell_type": "code",
   "execution_count": null,
   "metadata": {},
   "outputs": [],
   "source": []
  }
 ],
 "metadata": {
  "kernelspec": {
   "display_name": "Python 3",
   "language": "python",
   "name": "python3"
  },
  "language_info": {
   "codemirror_mode": {
    "name": "ipython",
    "version": 3
   },
   "file_extension": ".py",
   "mimetype": "text/x-python",
   "name": "python",
   "nbconvert_exporter": "python",
   "pygments_lexer": "ipython3",
   "version": "3.10.12"
  },
  "orig_nbformat": 4
 },
 "nbformat": 4,
 "nbformat_minor": 2
}
