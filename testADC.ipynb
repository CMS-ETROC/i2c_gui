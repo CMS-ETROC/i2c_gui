{
 "cells": [
  {
   "cell_type": "code",
   "execution_count": null,
   "metadata": {},
   "outputs": [],
   "source": [
    "import logging\n",
    "import i2c_gui\n",
    "import i2c_gui.chips\n",
    "from i2c_gui.usb_iss_helper import USB_ISS_Helper\n",
    "\n",
    "i2c_gui.__no_connect__ = False\n",
    "\n",
    "port: str = \"/dev/tty.usbmodem000613421\"\n",
    "\n",
    "logger = logging.getLogger(\"Script_Logger\")\n",
    "\n",
    "Script_Helper = i2c_gui.ScriptHelper(logger)\n",
    "\n",
    "## USB ISS connection\n",
    "conn = i2c_gui.Connection_Controller(Script_Helper)\n",
    "conn.connection_type = \"USB-ISS\"\n",
    "conn.handle: USB_ISS_Helper\n",
    "conn.handle.port = port\n",
    "conn.handle.clk = 100\n",
    "\n",
    "conn.connect()"
   ]
  },
  {
   "cell_type": "code",
   "execution_count": null,
   "metadata": {},
   "outputs": [],
   "source": [
    "chip = i2c_gui.chips.AD5593R_Chip(Script_Helper, conn)\n",
    "chip.config_i2c_address(0x10)"
   ]
  },
  {
   "attachments": {},
   "cell_type": "markdown",
   "metadata": {},
   "source": [
    "# ADC Functionality"
   ]
  },
  {
   "attachments": {},
   "cell_type": "markdown",
   "metadata": {},
   "source": [
    "## Choose Enabled ADC channels"
   ]
  },
  {
   "cell_type": "code",
   "execution_count": null,
   "metadata": {},
   "outputs": [],
   "source": [
    "adc_channels = {\n",
    "    0: True,\n",
    "    1: True,\n",
    "    8: True,  # Channel 8 is temperature\n",
    "}\n",
    "\n",
    "for i in range(9):  # Channel 8 is temperature\n",
    "    if i not in adc_channels:\n",
    "        adc_channels[i] = False\n",
    "    elif adc_channels[i] is not True:\n",
    "        adc_channels[i] = False"
   ]
  },
  {
   "attachments": {},
   "cell_type": "markdown",
   "metadata": {},
   "source": [
    "## Choose Enabled DAC channels\n",
    "*(for testing, do not enable the same pin for ADC and DAC for data taking)*"
   ]
  },
  {
   "cell_type": "code",
   "execution_count": null,
   "metadata": {},
   "outputs": [],
   "source": [
    "dac_channels = {\n",
    "    0: True,\n",
    "    1: True,\n",
    "}\n",
    "\n",
    "for i in range(8):\n",
    "    if i not in dac_channels:\n",
    "        dac_channels[i] = False\n",
    "    elif dac_channels[i] is not True:\n",
    "        dac_channels[i] = False"
   ]
  },
  {
   "attachments": {},
   "cell_type": "markdown",
   "metadata": {},
   "source": [
    "## Choose VRef Source"
   ]
  },
  {
   "cell_type": "code",
   "execution_count": null,
   "metadata": {},
   "outputs": [],
   "source": [
    "internal_vref = True  #  Set to False when using the SMA interface PCB"
   ]
  },
  {
   "attachments": {},
   "cell_type": "markdown",
   "metadata": {},
   "source": [
    "## Configure device"
   ]
  },
  {
   "attachments": {},
   "cell_type": "markdown",
   "metadata": {},
   "source": [
    "### Reset Device"
   ]
  },
  {
   "cell_type": "code",
   "execution_count": null,
   "metadata": {},
   "outputs": [],
   "source": [
    "handle = chip.get_display_var(\"AD5593R\", \"Config_RD\", \"SW_RESET\")\n",
    "handle.set(0b10110101100)\n",
    "chip.write_register(\"AD5593R\", \"Config_RD\", \"SW_RESET\", write_check=False, no_message=True)\n",
    "del handle"
   ]
  },
  {
   "attachments": {},
   "cell_type": "markdown",
   "metadata": {},
   "source": [
    "### Get Handles"
   ]
  },
  {
   "cell_type": "code",
   "execution_count": null,
   "metadata": {},
   "outputs": [],
   "source": [
    "registers = [\n",
    "    \"ADC_SEQ\",\n",
    "    \"GEN_CTRL_REG\",\n",
    "    \"ADC_CONFIG\",\n",
    "    \"DAC_CONFIG\",\n",
    "    \"PULLDWN_CONFIG\",\n",
    "    \"LDAC_MODE\",\n",
    "    \"PD_REF_CTRL\",\n",
    "             ]\n",
    "\n",
    "handle = {}\n",
    "for name in registers:\n",
    "    handle[name] = chip.get_display_var(\"AD5593R\", \"Config_RD\", name)"
   ]
  },
  {
   "attachments": {},
   "cell_type": "markdown",
   "metadata": {},
   "source": [
    "### Read Register Values"
   ]
  },
  {
   "cell_type": "code",
   "execution_count": null,
   "metadata": {},
   "outputs": [],
   "source": [
    "for name in registers:\n",
    "    chip.read_register(\"AD5593R\", \"Config_RD\", name, no_message=True)"
   ]
  },
  {
   "attachments": {},
   "cell_type": "markdown",
   "metadata": {},
   "source": [
    "### Enable VRef if needed"
   ]
  },
  {
   "cell_type": "code",
   "execution_count": null,
   "metadata": {},
   "outputs": [],
   "source": [
    "value = int(handle[\"PD_REF_CTRL\"].get(), 0)\n",
    "if internal_vref:\n",
    "    value = value | 0b0000_0010_0000_0000\n",
    "else:\n",
    "    value = value & 0b1111_1101_1111_1111\n",
    "\n",
    "handle[\"PD_REF_CTRL\"].set(value)\n",
    "del value\n",
    "chip.write_register(\"AD5593R\", \"Config_RD\", \"PD_REF_CTRL\")"
   ]
  },
  {
   "attachments": {},
   "cell_type": "markdown",
   "metadata": {},
   "source": [
    "### Set DAC Mode"
   ]
  },
  {
   "cell_type": "code",
   "execution_count": null,
   "metadata": {},
   "outputs": [],
   "source": [
    "handle[\"LDAC_MODE\"].set(0x0000)  # alternative is 0x0001, but in this mode you need to write LDAC_MODE with 0x0002 to update the DAC output\n",
    "chip.write_register(\"AD5593R\", \"Config_RD\", \"LDAC_MODE\")\n",
    "\n",
    "for i in range(8):\n",
    "    tmp_handle = chip.get_display_var(\"AD5593R\", \"DAC_RD\", f\"DAC{i}\")\n",
    "    tmp_handle.set(0)\n",
    "    chip.write_register(\"AD5593R\", \"DAC_RD\", f\"DAC{i}\", write_check=False, no_message=True)\n",
    "    del tmp_handle"
   ]
  },
  {
   "attachments": {},
   "cell_type": "markdown",
   "metadata": {},
   "source": [
    "### Configure ADC Mode"
   ]
  },
  {
   "cell_type": "code",
   "execution_count": null,
   "metadata": {},
   "outputs": [],
   "source": [
    "# Use ADC buffer if not using the SMA adaptor PCB\n",
    "# Disable ADC buffer when using the SMA adaptor PCB\n",
    "\n",
    "value = 0b000000_0_0_0_0_0_0_0000  #  Disable ADC buffer\n",
    "value = 0b000000_0_1_0_0_0_0_0000  #  Enable ADC buffer and keep it always powered\n",
    "#value = 0b000000_1_1_0_0_0_0_0000  #  Enable ADC buffer and only power during conversion\n",
    "\n",
    "handle[\"GEN_CTRL_REG\"].set(value)\n",
    "chip.write_register(\"AD5593R\", \"Config_RD\", \"GEN_CTRL_REG\")"
   ]
  },
  {
   "attachments": {},
   "cell_type": "markdown",
   "metadata": {},
   "source": [
    "### Enable pins for ADC/DAC\n",
    "*Pins that are enabled for DAC/ADC should have pulldown disabled*"
   ]
  },
  {
   "cell_type": "code",
   "execution_count": null,
   "metadata": {},
   "outputs": [],
   "source": [
    "adc_reg = 0\n",
    "dac_reg = 0\n",
    "pulldown_reg = 0x00ff\n",
    "num_measurements = 0\n",
    "\n",
    "for pin in range(8):\n",
    "    if dac_channels[pin]:  #  Enable DAC pins\n",
    "        dac_reg = (dac_reg | (1 << pin))\n",
    "        pulldown_reg = (pulldown_reg & (0xffff - (1 << pin)))\n",
    "    if adc_channels[pin]:  #  Enable ADC pins\n",
    "        adc_reg = (adc_reg | (1 << pin))\n",
    "        pulldown_reg = (pulldown_reg & (0xffff - (1 << pin)))\n",
    "        num_measurements += 1\n",
    "\n",
    "handle[\"DAC_CONFIG\"].set(dac_reg)\n",
    "handle[\"ADC_CONFIG\"].set(adc_reg)\n",
    "handle[\"PULLDWN_CONFIG\"].set(pulldown_reg)\n",
    "\n",
    "if adc_channels[8]:  #  Enable temperature in the ADC sequence if it is chosen\n",
    "    adc_reg = adc_reg | 0x100\n",
    "    num_measurements += 1\n",
    "adc_sequence = adc_reg\n",
    "\n",
    "chip.write_register(\"AD5593R\", \"Config_RD\", \"DAC_CONFIG\")\n",
    "chip.write_register(\"AD5593R\", \"Config_RD\", \"ADC_CONFIG\")\n",
    "chip.write_register(\"AD5593R\", \"Config_RD\", \"PULLDWN_CONFIG\")"
   ]
  },
  {
   "attachments": {},
   "cell_type": "markdown",
   "metadata": {},
   "source": [
    "## SET DAC0 to a specific voltage"
   ]
  },
  {
   "cell_type": "code",
   "execution_count": null,
   "metadata": {},
   "outputs": [],
   "source": [
    "chip.get_display_var(\"AD5593R\", \"DAC_RD\", f\"DAC0\").set(0x800)\n",
    "chip.write_register(\"AD5593R\", \"DAC_RD\", f\"DAC0\", write_check=False, no_message=True)\n"
   ]
  },
  {
   "attachments": {},
   "cell_type": "markdown",
   "metadata": {},
   "source": [
    "## Do a single ADC conversion"
   ]
  },
  {
   "cell_type": "code",
   "execution_count": null,
   "metadata": {},
   "outputs": [],
   "source": [
    "measurements = chip.read_adc_results(adc_sequence, num_measurements)\n",
    "\n",
    "print(\"Measurements:\")\n",
    "for m in measurements:\n",
    "    print(f' - {m:#018b}')\n",
    "\n",
    "#handle[\"ADC_SEQ\"].set(adc_reg)\n",
    "#chip.write_register(\"AD5593R\", \"Config_RD\", \"ADC_SEQ\")"
   ]
  },
  {
   "cell_type": "code",
   "execution_count": null,
   "metadata": {},
   "outputs": [],
   "source": [
    "from scripts.read_adc import ADCMeasurements\n",
    "from pathlib import Path\n",
    "\n",
    "port: str = \"/dev/ttyACM4\"\n",
    "\n",
    "link = ADCMeasurements(Path(\"./\"), 5, port, vref = 2.5, i2c_address = 0x10, internal_vref = True)\n",
    "\n",
    "link.add_temperature()\n",
    "link.add_adc_pin(0)\n",
    "link.add_adc_pin(1)\n",
    "link.add_adc_pin(2)\n",
    "link.add_adc_pin(3)\n",
    "link.add_adc_pin(4)\n",
    "link.add_adc_pin(5)\n",
    "link.add_adc_pin(6)\n",
    "link.add_adc_pin(7)\n",
    "\n",
    "link.add_dac_pin(0)\n",
    "link.add_dac_pin(1)\n",
    "link.add_dac_pin(2)\n",
    "link.add_dac_pin(3)\n",
    "link.add_dac_pin(4)\n",
    "link.add_dac_pin(5)\n",
    "link.add_dac_pin(6)\n",
    "link.add_dac_pin(7)\n",
    "\n",
    "link.configure()"
   ]
  },
  {
   "cell_type": "code",
   "execution_count": null,
   "metadata": {},
   "outputs": [],
   "source": [
    "link.set_dac_value(0x000)\n",
    "link.do_measurement()"
   ]
  },
  {
   "cell_type": "code",
   "execution_count": null,
   "metadata": {},
   "outputs": [],
   "source": [
    "link.set_dac_value(0x800)\n",
    "link.do_measurement()"
   ]
  },
  {
   "cell_type": "code",
   "execution_count": null,
   "metadata": {},
   "outputs": [],
   "source": [
    "link.set_dac_value(0xfff)\n",
    "link.do_measurement()"
   ]
  },
  {
   "cell_type": "code",
   "execution_count": null,
   "metadata": {},
   "outputs": [],
   "source": []
  }
 ],
 "metadata": {
  "kernelspec": {
   "display_name": "venv",
   "language": "python",
   "name": "python3"
  },
  "language_info": {
   "codemirror_mode": {
    "name": "ipython",
    "version": 3
   },
   "file_extension": ".py",
   "mimetype": "text/x-python",
   "name": "python",
   "nbconvert_exporter": "python",
   "pygments_lexer": "ipython3",
   "version": "3.9.18"
  },
  "orig_nbformat": 4,
  "vscode": {
   "interpreter": {
    "hash": "9110da125f2019c82a2ffda66505e939f2540ceb6cd0c3beb85d7104addab444"
   }
  }
 },
 "nbformat": 4,
 "nbformat_minor": 2
}
