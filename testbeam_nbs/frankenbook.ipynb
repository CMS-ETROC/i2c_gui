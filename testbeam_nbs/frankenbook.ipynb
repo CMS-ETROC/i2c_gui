{
 "cells": [
  {
   "cell_type": "code",
   "execution_count": null,
   "metadata": {},
   "outputs": [],
   "source": [
    "#############################################################################\n",
    "# zlib License\n",
    "#\n",
    "# (C) 2023 Zach Flowers, Murtaza Safdari <musafdar@cern.ch>\n",
    "#\n",
    "# This software is provided 'as-is', without any express or implied\n",
    "# warranty.  In no event will the authors be held liable for any damages\n",
    "# arising from the use of this software.\n",
    "#\n",
    "# Permission is granted to anyone to use this software for any purpose,\n",
    "# including commercial applications, and to alter it and redistribute it\n",
    "# freely, subject to the following restrictions:\n",
    "#\n",
    "# 1. The origin of this software must not be misrepresented; you must not\n",
    "#    claim that you wrote the original software. If you use this software\n",
    "#    in a product, an acknowledgment in the product documentation would be\n",
    "#    appreciated but is not required.\n",
    "# 2. Altered source versions must be plainly marked as such, and must not be\n",
    "#    misrepresented as being the original software.\n",
    "# 3. This notice may not be removed or altered from any source distribution.\n",
    "#############################################################################"
   ]
  },
  {
   "attachments": {},
   "cell_type": "markdown",
   "metadata": {},
   "source": [
    "# Imports"
   ]
  },
  {
   "cell_type": "code",
   "execution_count": null,
   "metadata": {},
   "outputs": [],
   "source": [
    "#%%\n",
    "%matplotlib inline\n",
    "import matplotlib.pyplot as plt\n",
    "import logging\n",
    "import i2c_gui\n",
    "import i2c_gui.chips\n",
    "from i2c_gui.usb_iss_helper import USB_ISS_Helper\n",
    "from i2c_gui.fpga_eth_helper import FPGA_ETH_Helper\n",
    "import numpy as np\n",
    "from mpl_toolkits.axes_grid1 import make_axes_locatable\n",
    "# import time\n",
    "from tqdm import tqdm\n",
    "# from i2c_gui.chips.etroc2_chip import register_decoding\n",
    "import os, sys\n",
    "import multiprocessing\n",
    "os.chdir(f'/home/{os.getlogin()}/ETROC2/ETROC_DAQ')\n",
    "import run_script\n",
    "import parser_arguments\n",
    "import importlib\n",
    "importlib.reload(run_script)\n",
    "import datetime\n",
    "import pandas\n",
    "from pathlib import Path\n",
    "import subprocess\n",
    "import sqlite3\n",
    "from notebooks.notebook_helpers import *\n",
    "from fnmatch import fnmatch\n",
    "import scipy.stats as stats\n",
    "from math import ceil\n",
    "from numpy import savetxt"
   ]
  },
  {
   "cell_type": "code",
   "execution_count": null,
   "metadata": {},
   "outputs": [],
   "source": [
    "#%%\n",
    "%matplotlib inline\n",
    "import matplotlib.pyplot as plt\n",
    "plt.figure()\n",
    "plt.show()"
   ]
  },
  {
   "attachments": {},
   "cell_type": "markdown",
   "metadata": {},
   "source": [
    "# Set defaults"
   ]
  },
  {
   "cell_type": "code",
   "execution_count": null,
   "metadata": {},
   "outputs": [],
   "source": [
    "# !!!!!!!!!!!!\n",
    "# It is very important to correctly set the chip name, this value is stored with the data\n",
    "chip_names = [\"ET2_EPIR_Pair1\", \"ET2_BAR_4\", \"ET2_BAR_6\", \"CNM_HPK_1_3\"]\n",
    "chip_fignames = [\"EPIR Pair 1\", \"Barcelona 4\", \"Barcelona 6\", \"CNM (HPK) 1-3\"]\n",
    "# chip_names = [\"ET2_EPIR_Pair4\"]\n",
    "# chip_fignames = [\"EPIR Pair 4\"]\n",
    "chip_figtitles = chip_names\n",
    "\n",
    "# 'The port name the USB-ISS module is connected to. Default: /dev/ttyACM0'\n",
    "port = \"/dev/ttyACM1\"\n",
    "# I2C addresses for the pixel block and WS\n",
    "chip_addresses = [0x60, 0x61, 0x62, 0x64]\n",
    "# chip_addresses = [0x63]\n",
    "ws_addresses = [None, None, None, None]\n",
    "\n",
    "fig_outdir = Path('../ETROC-figures')\n",
    "fig_outdir = fig_outdir / (datetime.date.today().isoformat() + '_Array_Test_Results')\n",
    "fig_outdir.mkdir(exist_ok=True)\n",
    "fig_path = str(fig_outdir)\n",
    "\n",
    "col_list, row_list = np.meshgrid(np.arange(16),np.arange(16))\n",
    "scan_list = list(zip(row_list.flatten(),col_list.flatten()))"
   ]
  },
  {
   "attachments": {},
   "cell_type": "markdown",
   "metadata": {},
   "source": [
    "# Make i2c_connection class object"
   ]
  },
  {
   "cell_type": "code",
   "execution_count": null,
   "metadata": {},
   "outputs": [],
   "source": [
    "# i2c_conn = self, port, chip_addresses, chip_names, chip_fc_delays\n",
    "i2c_conn = i2c_connection(port,chip_addresses,ws_addresses,chip_names,chip_fignames,[(\"1\",\"1\"),(\"1\",\"1\"),(\"1\",\"1\"), (\"1\",\"1\")])"
   ]
  },
  {
   "attachments": {},
   "cell_type": "markdown",
   "metadata": {},
   "source": [
    "# Config chips"
   ]
  },
  {
   "attachments": {},
   "cell_type": "markdown",
   "metadata": {},
   "source": [
    "### Key is (Disable Pixels, Auto Cal, Chip Peripherals, Basic Peri Reg Check, Pixel Check)"
   ]
  },
  {
   "cell_type": "code",
   "execution_count": null,
   "metadata": {},
   "outputs": [],
   "source": [
    "# (WS Prep Pixel and Peri) - 0 - (disable & auto_cal all pixels) - (disable default all pixels) - (auto_TH_CAL) - (set basic peripherals) - (peripheral reg check) -  (pixel ID check)\n",
    "i2c_conn.config_chips('00100111')\n",
    "# i2c_conn.config_chips('00001111') # disable and more fun things\n",
    "# i2c_conn.config_chips('00000100') # set basic peripherals\n",
    "# i2c_conn.config_chips('00010000') # calibrate only\n",
    "# i2c_conn.config_chips('00000001') # pixel ID check (I2C check)\n",
    "# i2c_conn.config_chips('10000000') # ws init\n",
    "# i2c_conn.disable_all_pixels(chip_address=chip_addresses[1])"
   ]
  },
  {
   "attachments": {},
   "cell_type": "markdown",
   "metadata": {},
   "source": [
    "## Visualize the learned Baselines (BL) and Noise Widths (NW)\n",
    "\n",
    "Note that the NW represents the full width on either side of the BL"
   ]
  },
  {
   "cell_type": "code",
   "execution_count": null,
   "metadata": {},
   "outputs": [],
   "source": [
    "def make_baselines(chip_addresses, chip_names):\n",
    "    for chip_address, chip_name in zip(chip_addresses, chip_names):\n",
    "        i2c_conn.auto_calibration(chip_address=chip_address,chip_name=chip_name)\n",
    "\n",
    "    histdir = Path('/run/media/daq/T7/ETROC-History-DESY')\n",
    "    histdir.mkdir(exist_ok=True)\n",
    "    histfile = histdir / 'BaselineHistory.sqlite'\n",
    "    i2c_conn.save_baselines(chip_fignames,fig_path,histfile,histdir)\n",
    "\n",
    "    time.sleep(5)"
   ]
  },
  {
   "cell_type": "code",
   "execution_count": null,
   "metadata": {},
   "outputs": [],
   "source": [
    "def do_pixel_operations(board_offsets=None, noisy_pixels=None, power_mode='high'):\n",
    "    i2c_conn.enable_select_pixels_in_chips(scan_list,QInjEn=False,Bypass_THCal=False,specified_addresses=chip_addresses[:], power_mode=power_mode)\n",
    "\n",
    "    # offset = 0x0f\n",
    "    # for chip_address in chip_addresses[:]:\n",
    "    #     chip = i2c_conn.get_chip_i2c_connection(chip_address)\n",
    "    #     row_indexer_handle,_,_ = chip.get_indexer(\"row\")\n",
    "    #     column_indexer_handle,_,_ = chip.get_indexer(\"column\")\n",
    "    #     for row, col in scan_list:\n",
    "    #         print(f\"Operating on chip {hex(chip_address)} Pixel ({row},{col})\")\n",
    "    #         column_indexer_handle.set(col)\n",
    "    #         row_indexer_handle.set(row)\n",
    "    #         i2c_conn.pixel_decoded_register_write(\"TH_offset\", format(offset, '06b'), chip)\n",
    "    #     del chip, row_indexer_handle, column_indexer_handle\n",
    "\n",
    "    if board_offsets is not None:\n",
    "        time.sleep(5)\n",
    "\n",
    "        for chip_address in chip_addresses[:]:\n",
    "            if chip_address not in board_offsets:\n",
    "                continue\n",
    "\n",
    "            chip = i2c_conn.get_chip_i2c_connection(chip_address)\n",
    "            row_indexer_handle,_,_ = chip.get_indexer(\"row\")\n",
    "            column_indexer_handle,_,_ = chip.get_indexer(\"column\")\n",
    "            for row, col in scan_list:\n",
    "                print(f\"Operating on chip {hex(chip_address)} Pixel ({row},{col}) Setting Offset to {board_offsets[chip_address]}\")\n",
    "                column_indexer_handle.set(col)\n",
    "                row_indexer_handle.set(row)\n",
    "                # i2c_conn.pixel_decoded_register_write(\"QSel\", format(0x14, '05b'), chip)\n",
    "                i2c_conn.pixel_decoded_register_write(\"TH_offset\", format(board_offsets[chip_address], '06b'), chip)\n",
    "            del chip, row_indexer_handle, column_indexer_handle\n",
    "\n",
    "    if noisy_pixels is not None:\n",
    "        time.sleep(5)\n",
    "\n",
    "        for chip_address in chip_addresses:\n",
    "            if chip_address not in noisy_pixels:\n",
    "                continue\n",
    "            chip = i2c_conn.get_chip_i2c_connection(chip_address)\n",
    "            row_indexer_handle,_,_ = chip.get_indexer(\"row\")\n",
    "            column_indexer_handle,_,_ = chip.get_indexer(\"column\")\n",
    "            for row, col in noisy_pixels[chip_address]:\n",
    "                print(f\"Masking from trigger of chip {hex(chip_address)} Pixel ({row},{col})\")\n",
    "                column_indexer_handle.set(col)\n",
    "                row_indexer_handle.set(row)\n",
    "\n",
    "                i2c_conn.pixel_decoded_register_write(\"disTrigPath\", \"1\", chip)\n",
    "                #i2c_conn.pixel_decoded_register_write(\"DAC\", format(1023, '010b'), chip)\n",
    "                #i2c_conn.pixel_decoded_register_write(\"Bypass_THCal\", \"1\", chip)\n",
    "\n",
    "    time.sleep(5)"
   ]
  },
  {
   "cell_type": "code",
   "execution_count": null,
   "metadata": {},
   "outputs": [],
   "source": [
    "readout_board_names = \"b0_EPIR_Pair1_b1_BAR_4_b2_BAR_6_b3_CNM_HPK\"\n",
    "self_trigger_delay = 484\n",
    "beam_downtime = False # default is False because we expect (hope?) for 100% uptime from accelerator\n",
    "beam_off_time = \"10-00\" # time that beam is expected to turn off\n",
    "beam_on_time = \"11-30\" # time that beam is expected to turn on\n",
    "info = \"offset_15\" # additional info for the output name\n",
    "LED_pages = [\"0x0000\",\"0x0004\",\"0x0008\",\"0x000C\"] # LED pages to cycle through\n",
    "active_channels = \"0x000f\"\n",
    "polarity = \"0x0023\" # \"0x0023\" or \"0x0027\"\n",
    "hostname = \"192.168.2.3\"\n",
    "ssd_path = \"/run/media/daq/T7/\""
   ]
  },
  {
   "cell_type": "code",
   "execution_count": null,
   "metadata": {},
   "outputs": [],
   "source": [
    "def run_daq(trigger_board, trigger_board_name, run_number, total_time, daq_time, run_options=\"--compressed_binary --skip_translation\"):\n",
    "    trigger_bit_delay = int(trigger_board+'11'+format(self_trigger_delay, '010b'), base=2)\n",
    "    process_time = daq_time + 5\n",
    "    iterations = ceil(total_time/process_time)\n",
    "    LED_id = 0\n",
    "\n",
    "    for it in range(iterations):\n",
    "        if beam_downtime:\n",
    "            current_time = datetime.datetime.now().strftime(\"%H-%M\")\n",
    "            while ((current_time > beam_off_time) and (beam_on_time >= current_time)):\n",
    "                print(\"Waiting for beam...\")\n",
    "                time.sleep(300)\n",
    "                current_time = datetime.datetime.now().strftime(\"%H-%M\")\n",
    "        LED_page = LED_pages[LED_id]\n",
    "        LED_id += 1\n",
    "        if LED_id >= len(LED_pages): LED_id = 0\n",
    "        reset_string = \"\"\n",
    "        if(it==0): reset_string = \"--check_valid_data_start --clear_fifo\"\n",
    "        parser = parser_arguments.create_parser()\n",
    "        (options, args) = parser.parse_args(args=f\"-f --useIPC --hostname {hostname} -t {process_time} --run_name Run_{run_number} -o loop_{it} -v -w -s {LED_page} -p {polarity} -d {trigger_bit_delay} -a {active_channels} {run_options} --start_DAQ_pulse --stop_DAQ_pulse --ssd_path {ssd_path} {reset_string}\".split())\n",
    "        IPC_queue = multiprocessing.Queue()\n",
    "        process = multiprocessing.Process(target=run_script.main_process, args=(IPC_queue, options, f'main_process_Run_{run_number}_loop_{it}'))\n",
    "        process.start()\n",
    "\n",
    "        IPC_queue.put('memoFC Start Triggerbit BCR')\n",
    "        while not IPC_queue.empty():\n",
    "            pass\n",
    "        time.sleep(daq_time)\n",
    "        IPC_queue.put('stop DAQ')\n",
    "        IPC_queue.put('memoFC Triggerbit')\n",
    "        while not IPC_queue.empty():\n",
    "            pass\n",
    "        IPC_queue.put('allow threads to exit')\n",
    "        process.join()\n",
    "\n",
    "        del IPC_queue, process, parser"
   ]
  },
  {
   "cell_type": "code",
   "execution_count": null,
   "metadata": {},
   "outputs": [],
   "source": [
    "run_numbers = [0]\n",
    "board_offsets = {\n",
    "    0x60: 0x0f,\n",
    "    0x61: 0x0a,\n",
    "    0x62: 0x0f,\n",
    "    0x64: 0x0a,\n",
    "}\n",
    "noisy_pixels = {\n",
    "    0x60: [ # (row, col)\n",
    "        (10, 8),\n",
    "        (13, 4),\n",
    "    ],\n",
    "}\n",
    "trigger_board = '0001'\n",
    "trigger_board_name = \"EPIR_Pair1\"\n",
    "power_mode = 'high'\n",
    "total_time = 1 * 60 * 60\n",
    "daq_time = 300\n",
    "BL_chip_addresses = chip_addresses\n",
    "BL_chip_names = chip_names\n",
    "\n",
    "\n",
    "for run_number in run_numbers:\n",
    "    make_baselines(BL_chip_addresses,BL_chip_names)\n",
    "    do_pixel_operations(board_offsets=board_offsets, noisy_pixels=noisy_pixels, power_mode=power_mode)\n",
    "    print(f\"Run {run_number} started at:\", datetime.datetime.now().isoformat(sep=\" \"))\n",
    "    run_daq(trigger_board=trigger_board, trigger_board_name=trigger_board_name, run_number=run_number, total_time=total_time, daq_time=daq_time)\n",
    "    print(f\"Run {run_number} ended at:\", datetime.datetime.now().isoformat(sep=\" \"))"
   ]
  },
  {
   "cell_type": "code",
   "execution_count": null,
   "metadata": {},
   "outputs": [],
   "source": []
  }
 ],
 "metadata": {
  "kernelspec": {
   "display_name": "Python 3",
   "language": "python",
   "name": "python3"
  },
  "language_info": {
   "codemirror_mode": {
    "name": "ipython",
    "version": 3
   },
   "file_extension": ".py",
   "mimetype": "text/x-python",
   "name": "python",
   "nbconvert_exporter": "python",
   "pygments_lexer": "ipython3",
   "version": "3.9.16"
  },
  "orig_nbformat": 4
 },
 "nbformat": 4,
 "nbformat_minor": 2
}
