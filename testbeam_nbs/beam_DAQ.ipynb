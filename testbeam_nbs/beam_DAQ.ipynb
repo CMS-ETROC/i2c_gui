{
 "cells": [
  {
   "cell_type": "code",
   "execution_count": null,
   "metadata": {},
   "outputs": [],
   "source": [
    "#############################################################################\n",
    "# zlib License\n",
    "#\n",
    "# (C) 2023 Zach Flowers, Murtaza Safdari <musafdar@cern.ch>\n",
    "#\n",
    "# This software is provided 'as-is', without any express or implied\n",
    "# warranty.  In no event will the authors be held liable for any damages\n",
    "# arising from the use of this software.\n",
    "#\n",
    "# Permission is granted to anyone to use this software for any purpose,\n",
    "# including commercial applications, and to alter it and redistribute it\n",
    "# freely, subject to the following restrictions:\n",
    "#\n",
    "# 1. The origin of this software must not be misrepresented; you must not\n",
    "#    claim that you wrote the original software. If you use this software\n",
    "#    in a product, an acknowledgment in the product documentation would be\n",
    "#    appreciated but is not required.\n",
    "# 2. Altered source versions must be plainly marked as such, and must not be\n",
    "#    misrepresented as being the original software.\n",
    "# 3. This notice may not be removed or altered from any source distribution.\n",
    "#############################################################################"
   ]
  },
  {
   "attachments": {},
   "cell_type": "markdown",
   "metadata": {},
   "source": [
    "# Imports"
   ]
  },
  {
   "cell_type": "code",
   "execution_count": null,
   "metadata": {},
   "outputs": [],
   "source": [
    "#%%\n",
    "%matplotlib inline\n",
    "import matplotlib.pyplot as plt\n",
    "import logging\n",
    "import i2c_gui\n",
    "import i2c_gui.chips\n",
    "from i2c_gui.usb_iss_helper import USB_ISS_Helper\n",
    "from i2c_gui.fpga_eth_helper import FPGA_ETH_Helper\n",
    "import numpy as np\n",
    "from mpl_toolkits.axes_grid1 import make_axes_locatable\n",
    "# import time\n",
    "from tqdm import tqdm\n",
    "# from i2c_gui.chips.etroc2_chip import register_decoding\n",
    "import os, sys\n",
    "import multiprocessing\n",
    "os.chdir(f'/home/{os.getlogin()}/ETROC2/ETROC_DAQ')\n",
    "import run_script\n",
    "import importlib\n",
    "importlib.reload(run_script)\n",
    "import datetime\n",
    "import pandas\n",
    "from pathlib import Path\n",
    "import subprocess\n",
    "import sqlite3\n",
    "from notebooks.notebook_helpers import *\n",
    "from fnmatch import fnmatch\n",
    "import scipy.stats as stats\n",
    "from natsort import natsorted\n",
    "from glob import glob\n",
    "from math import ceil\n",
    "import hist\n",
    "from hist import Hist\n",
    "import mplhep as hep\n",
    "plt.style.use(hep.style.CMS)\n",
    "import boost_histogram as bh\n",
    "from mpl_toolkits.mplot3d import Axes3D\n",
    "from matplotlib.collections import PolyCollection\n",
    "from matplotlib.colors import colorConverter"
   ]
  },
  {
   "cell_type": "markdown",
   "metadata": {},
   "source": [
    "# Define DAQ Settings"
   ]
  },
  {
   "cell_type": "code",
   "execution_count": null,
   "metadata": {},
   "outputs": [],
   "source": [
    "trigger_board = '0001'\n",
    "trigger_board_name = \"ET2_W36_IP5_15\"\n",
    "readout_board_names = \"b0_ET2_W36_IP5_20_b1_ET2_W36_IP7_13_b2_ET2_W36_IP5_15\"\n",
    "self_trigger_delay = 485\n",
    "total_time = 0.2 * 60 * 60 \n",
    "daq_time = 10\n",
    "beam_downtime = False # default is False because we expect (hope?) for 100% uptime from accelerator\n",
    "beam_off_time = \"10-00\" # time that beam is expected to turn off\n",
    "beam_on_time = \"11-30\" # time that beam is expected to turn on\n",
    "info = \"offset_12\" # additional info for the output name\n",
    "LED_pages = [\"0x0000\",\"0x0004\",\"0x000C\"] # LED pages to cycle through\n",
    "active_channels = \"0x000b\"\n",
    "polarity = \"0x0026\" # or \"0x0022\"\n",
    "hostname = \"192.168.2.3\""
   ]
  },
  {
   "cell_type": "markdown",
   "metadata": {},
   "source": [
    "# Run DAQ"
   ]
  },
  {
   "cell_type": "code",
   "execution_count": null,
   "metadata": {},
   "outputs": [],
   "source": [
    "trigger_bit_delay = int(trigger_board+'11'+format(self_trigger_delay, '010b'), base=2)\n",
    "process_time = daq_time + 10\n",
    "iterations = ceil(total_time/process_time)\n",
    "LED_id = 0\n",
    "\n",
    "for it in range(iterations):\n",
    "    if beam_downtime:\n",
    "        current_time = datetime.datetime.now().strftime(\"%H-%M\")\n",
    "        while ((current_time > beam_off_time) and (beam_on_time >= current_time)):\n",
    "            print(\"Waiting for beam...\")\n",
    "            time.sleep(300)\n",
    "            current_time = datetime.datetime.now().strftime(\"%H-%M\")\n",
    "    LED_page = LED_pages[LED_id]\n",
    "    LED_id += 1\n",
    "    if LED_id >= len(LED_pages): LED_id = 0\n",
    "    reset_string = \"\"\n",
    "    if(it==0): reset_string = \" --check_valid_data_start --clear_fifo\"\n",
    "    parser = parser_arguments.create_parser()\n",
    "    (options, args) = parser.parse_args(args=f\"-f --useIPC --hostname {hostname} -t {process_time} -o SelfTrigger_{trigger_board_name}_Readout_{readout_board_names}_settings_{info}_loop_{it} -v -w -s {LED_page} -p {polarity} -d {trigger_bit_delay} -a {active_channels} --skip_binary{reset_string}\".split())\n",
    "    IPC_queue = multiprocessing.Queue()\n",
    "    process = multiprocessing.Process(target=run_script.main_process, args=(IPC_queue, options, f'main_process_SelfTrigger_{trigger_board_name}_Readout_{readout_board_names}_settings_{info}_loop_{it}'))\n",
    "    process.start()\n",
    "\n",
    "    IPC_queue.put('memoFC Start Triggerbit BCR')\n",
    "    while not IPC_queue.empty():\n",
    "        pass\n",
    "    time.sleep(daq_time)\n",
    "    IPC_queue.put('stop DAQ')\n",
    "    IPC_queue.put('memoFC Triggerbit')\n",
    "    while not IPC_queue.empty():\n",
    "        pass\n",
    "    IPC_queue.put('allow threads to exit')\n",
    "    process.join()\n",
    "\n",
    "    del IPC_queue, process, parser"
   ]
  },
  {
   "cell_type": "code",
   "execution_count": null,
   "metadata": {},
   "outputs": [],
   "source": []
  }
 ],
 "metadata": {
  "kernelspec": {
   "display_name": "Python 3",
   "language": "python",
   "name": "python3"
  },
  "language_info": {
   "codemirror_mode": {
    "name": "ipython",
    "version": 3
   },
   "file_extension": ".py",
   "mimetype": "text/x-python",
   "name": "python",
   "nbconvert_exporter": "python",
   "pygments_lexer": "ipython3",
   "version": "3.9.16"
  },
  "orig_nbformat": 4
 },
 "nbformat": 4,
 "nbformat_minor": 2
}
