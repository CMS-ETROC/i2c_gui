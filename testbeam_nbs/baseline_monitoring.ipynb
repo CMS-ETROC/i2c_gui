{
 "cells": [
  {
   "cell_type": "code",
   "execution_count": null,
   "metadata": {},
   "outputs": [],
   "source": [
    "#############################################################################\n",
    "# zlib License\n",
    "#\n",
    "# (C) 2023 Zach Flowers, Murtaza Safdari <musafdar@cern.ch>\n",
    "#\n",
    "# This software is provided 'as-is', without any express or implied\n",
    "# warranty.  In no event will the authors be held liable for any damages\n",
    "# arising from the use of this software.\n",
    "#\n",
    "# Permission is granted to anyone to use this software for any purpose,\n",
    "# including commercial applications, and to alter it and redistribute it\n",
    "# freely, subject to the following restrictions:\n",
    "#\n",
    "# 1. The origin of this software must not be misrepresented; you must not\n",
    "#    claim that you wrote the original software. If you use this software\n",
    "#    in a product, an acknowledgment in the product documentation would be\n",
    "#    appreciated but is not required.\n",
    "# 2. Altered source versions must be plainly marked as such, and must not be\n",
    "#    misrepresented as being the original software.\n",
    "# 3. This notice may not be removed or altered from any source distribution.\n",
    "#############################################################################"
   ]
  },
  {
   "attachments": {},
   "cell_type": "markdown",
   "metadata": {},
   "source": [
    "# Imports"
   ]
  },
  {
   "cell_type": "code",
   "execution_count": null,
   "metadata": {},
   "outputs": [],
   "source": [
    "#%%\n",
    "%matplotlib inline\n",
    "import matplotlib.pyplot as plt\n",
    "import logging\n",
    "import i2c_gui\n",
    "import i2c_gui.chips\n",
    "from i2c_gui.usb_iss_helper import USB_ISS_Helper\n",
    "from i2c_gui.fpga_eth_helper import FPGA_ETH_Helper\n",
    "import numpy as np\n",
    "from mpl_toolkits.axes_grid1 import make_axes_locatable\n",
    "# import time\n",
    "from tqdm import tqdm\n",
    "# from i2c_gui.chips.etroc2_chip import register_decoding\n",
    "import os, sys\n",
    "import multiprocessing\n",
    "os.chdir(f'/home/{os.getlogin()}/ETROC2/ETROC_DAQ')\n",
    "import run_script\n",
    "import parser_arguments\n",
    "import importlib\n",
    "importlib.reload(run_script)\n",
    "import datetime\n",
    "import pandas as pd\n",
    "from pathlib import Path\n",
    "import subprocess\n",
    "import sqlite3\n",
    "from notebooks.notebook_helpers import *\n",
    "from fnmatch import fnmatch\n",
    "import scipy.stats as stats\n",
    "from math import ceil\n",
    "from numpy import savetxt\n",
    "from scripts.log_action import log_action_v2\n",
    "from time import sleep\n",
    "from matplotlib.dates import DateFormatter"
   ]
  },
  {
   "attachments": {},
   "cell_type": "markdown",
   "metadata": {},
   "source": [
    "# Set defaults"
   ]
  },
  {
   "cell_type": "code",
   "execution_count": null,
   "metadata": {},
   "outputs": [],
   "source": [
    "# !!!!!!!!!!!!\n",
    "# It is very important to correctly set the chip name, this value is stored with the data\n",
    "# chip_names = [\"ET2_EPIR_BATCH1-1\", \"ET2_BAR_4\", \"ET2_BAR_6\",\"EPIR Pair 4\"]\n",
    "# chip_fignames = [\"ET2_EPIR BATCH1-1\", \"ET2_BAR_4\", \"ET2_BAR_6\",\"EPIR Pair 4\"]\n",
    "chip_names = [\"ET2_BAR_11\"]\n",
    "chip_fignames = [\"ET2 BAR 11\"]\n",
    "chip_figtitles = chip_names\n",
    "\n",
    "# 'The port name the USB-ISS module is connected to. Default: /dev/ttyACM0'\n",
    "port = \"/dev/ttyACM0\"\n",
    "# I2C addresses for the pixel block and WS\n",
    "# chip_addresses = [0x60, 0x61, 0x62, 0X63]\n",
    "chip_addresses = [0x60]\n",
    "ws_addresses = [None, None, None, None]#, None, None]\n",
    "\n",
    "fig_outdir = Path('../ETROC-figures')\n",
    "fig_outdir = fig_outdir / (datetime.date.today().isoformat() + '_Array_Test_Results')\n",
    "fig_outdir.mkdir(exist_ok=True)\n",
    "fig_path = str(fig_outdir)\n",
    "\n",
    "hostname = \"192.168.2.3\"\n",
    "today = datetime.date.today().isoformat()\n",
    "polarity = \"0x0023\" # 0x0023 or 0x0027\n",
    "LED_page = \"0x0000\"\n",
    "active_channel = \"0x0001\"\n",
    "delay = \"0x1800\"\n",
    "note_for_df = ''\n",
    "interval_time = 5\n",
    "global_time = 0.1 * 60.* 60.\n",
    "\n",
    "histdir = Path('/run/media/daq/T7/ETROC-History-DESY')\n",
    "histdir.mkdir(exist_ok=True)\n",
    "histfile = histdir / 'BaselineHistory_test.sqlite'"
   ]
  },
  {
   "attachments": {},
   "cell_type": "markdown",
   "metadata": {},
   "source": [
    "# Make i2c_connection class object"
   ]
  },
  {
   "cell_type": "code",
   "execution_count": null,
   "metadata": {},
   "outputs": [],
   "source": [
    "# i2c_conn = self, port, chip_addresses, chip_names, chip_fc_delays\n",
    "i2c_conn = i2c_connection(port,chip_addresses,ws_addresses,chip_names,[(\"1\",\"1\"),(\"1\",\"1\"),(\"1\",\"1\"), (\"1\",\"1\")])"
   ]
  },
  {
   "attachments": {},
   "cell_type": "markdown",
   "metadata": {},
   "source": [
    "# Config chips"
   ]
  },
  {
   "attachments": {},
   "cell_type": "markdown",
   "metadata": {},
   "source": [
    "### Key is (Disable Pixels, Auto Cal, Chip Peripherals, Basic Peri Reg Check, Pixel Check)"
   ]
  },
  {
   "cell_type": "code",
   "execution_count": null,
   "metadata": {},
   "outputs": [],
   "source": [
    "# (WS Prep Pixel and Peri) - 0 - (disable & auto_cal all pixels) - (disable default all pixels) - (auto_TH_CAL) - (set basic peripherals) - (peripheral reg check) -  (pixel ID check)\n",
    "i2c_conn.config_chips('00100101')   # leaves the DAC at 1023\n",
    "# i2c_conn.config_chips('01100101')   # leave sthe DAC at BL + 10\n",
    "# i2c_conn.config_chips('00001111') # disable and more fun things\n",
    "# i2c_conn.config_chips('00000100') # set basic peripherals\n",
    "# i2c_conn.config_chips('00010000') # calibrate only\n",
    "# i2c_conn.config_chips('00000001') # pixel ID check (I2C check)\n",
    "# i2c_conn.config_chips('10000000') # ws init\n",
    "# i2c_conn.disable_all_pixels(chip_address=chip_addresses[1])"
   ]
  },
  {
   "attachments": {},
   "cell_type": "markdown",
   "metadata": {},
   "source": [
    "## Visualize the learned Baselines (BL) and Noise Widths (NW)\n",
    "\n",
    "Note that the NW represents the full width on either side of the BL"
   ]
  },
  {
   "cell_type": "code",
   "execution_count": null,
   "metadata": {},
   "outputs": [],
   "source": [
    "#%%\n",
    "%matplotlib inline\n",
    "import matplotlib.pyplot as plt\n",
    "plt.figure()\n",
    "plt.show()"
   ]
  },
  {
   "cell_type": "code",
   "execution_count": null,
   "metadata": {},
   "outputs": [],
   "source": [
    "i2c_conn.save_baselines(chip_fignames,fig_path,histfile)"
   ]
  },
  {
   "cell_type": "code",
   "execution_count": null,
   "metadata": {},
   "outputs": [],
   "source": [
    "for chip_address, chip_name in zip(chip_addresses, chip_names):\n",
    "    i2c_conn.save_auto_cal_BL_map(chip_address, chip_name, f\"BL_NW_{chip_name}\")\n",
    "    i2c_conn.save_auto_cal_NW_map(chip_address, chip_name, f\"BL_NW_{chip_name}\")"
   ]
  },
  {
   "cell_type": "code",
   "execution_count": null,
   "metadata": {},
   "outputs": [],
   "source": [
    "for chip_address, chip_name in zip(chip_addresses, chip_names):\n",
    "    i2c_conn.load_auto_cal_BL_map(chip_address, chip_name, f\"BL_NW_{chip_name}\")\n",
    "    i2c_conn.load_auto_cal_NW_map(chip_address, chip_name, f\"BL_NW_{chip_name}\")"
   ]
  },
  {
   "attachments": {},
   "cell_type": "markdown",
   "metadata": {},
   "source": [
    "# Define pixels of interest"
   ]
  },
  {
   "cell_type": "code",
   "execution_count": null,
   "metadata": {},
   "outputs": [],
   "source": [
    "# row_list = [15, 15, 15, 15]\n",
    "# col_list = [6, 7, 8, 9]\n",
    "# row_list = [14, 14, 14, 14]\n",
    "# col_list = [6, 7, 8, 9]\n",
    "# row_list = [9, 3, 12]\n",
    "# col_list = [3, 8, 11]\n",
    "# row_list = [15, 15]\n",
    "# col_list = [6, 9]\n",
    "row_list = [14, 2, 2, 14]\n",
    "col_list = [2, 14, 2, 14]\n",
    "# row_list = [14, 14, 14, 14, 15, 15, 15, 15]\n",
    "# col_list = [6, 7, 8, 9, 6, 7, 8, 9]\n",
    "# col_list = np.arange(16)\n",
    "# row_list = np.full_like(col_list,12)\n",
    "# row_list = np.full_like(col_list,13)\n",
    "# col_list = [10, 13, 7, 4, 10, 13, 7, 4]\n",
    "# row_list = [12, 12, 12, 12, 13, 13, 13, 13]\n",
    "\n",
    "scan_list = list(zip(row_list, col_list))\n",
    "\n",
    "# col_list, row_list = np.meshgrid(np.arange(16),np.arange(16))\n",
    "# scan_list = list(zip(row_list.flatten(),col_list.flatten()))\n",
    "\n",
    "print(scan_list)"
   ]
  },
  {
   "attachments": {},
   "cell_type": "markdown",
   "metadata": {},
   "source": [
    "# Automatic Logging"
   ]
  },
  {
   "cell_type": "code",
   "execution_count": null,
   "metadata": {},
   "outputs": [],
   "source": [
    "start_time = time.time()\n",
    "while True:\n",
    "    for chip_address, chip_name in zip(chip_addresses, chip_names):\n",
    "        data = []\n",
    "        for row,col in scan_list:\n",
    "            i2c_conn.auto_cal_pixel(chip_name,row,col,False,chip_address,None,data,None,None)\n",
    "        BL_df = pd.DataFrame(data = data)\n",
    "        BL_df['chip_name'] = chip_name\n",
    "        BL_df['note'] = note_for_df\n",
    "        with sqlite3.connect(histfile) as sqlconn:\n",
    "            BL_df.to_sql('baselines', sqlconn, if_exists='append', index=False)\n",
    "        del data\n",
    "    end_time = time.time()\n",
    "    if (end_time - start_time > global_time):\n",
    "        print('Stopping because of time limit')\n",
    "    time.sleep(interval_time)\n"
   ]
  },
  {
   "attachments": {},
   "cell_type": "markdown",
   "metadata": {},
   "source": [
    "## Plot auto logging"
   ]
  },
  {
   "attachments": {},
   "cell_type": "markdown",
   "metadata": {},
   "source": [
    "### func for plotting"
   ]
  },
  {
   "cell_type": "code",
   "execution_count": null,
   "metadata": {},
   "outputs": [],
   "source": [
    "def makePlot(var, inputname, scan_pixels, timestamp_cut=None, note_cut=None, label=None, df=None):\n",
    "    # Create a figure and axis\n",
    "    fig, ax = plt.subplots(figsize=(24,9))\n",
    "    ax.set_prop_cycle(color=['#e41a1c','#fdbf6f','#d95f02', '#377eb8','#4daf4a','#b2df8a',])\n",
    "\n",
    "    i = 0\n",
    "\n",
    "    threshold_timestamp = pd.Timestamp(timestamp_cut)\n",
    "    for row, col in scan_pixels:\n",
    "        filtered_df = df[(df['chip_name'] == inputname) & (df['row'] == row) & (df['col'] == col)  & (df['baseline'] != 0)]\n",
    "        # filtered_df = df[(df['chip_name'] == inputname) & df.loc[row_indexer,col_indexer]  & (df['baseline'] != 0)]\n",
    "        filtered_df['timestamp'] = pd.to_datetime(filtered_df['timestamp'])\n",
    "\n",
    "        if note_cut is not None:\n",
    "            filtered_df = filtered_df[filtered_df['note'].str.contains(note_cut)]\n",
    "        if timestamp_cut is not None:\n",
    "            filtered_df = filtered_df.loc[filtered_df['timestamp'] > threshold_timestamp]\n",
    "\n",
    "        hep.cms.text(loc=0, ax=ax, text=\"Preliminary\", fontsize=25)\n",
    "        if label is not None:\n",
    "            ax.set_title(label, size=17, loc=\"right\")\n",
    "        ax.plot(filtered_df['timestamp'], filtered_df[var], '.-', label=f'Row-Col = ({row}-{col})')\n",
    "\n",
    "        # Set x-axis labels with line breaks using LaTeX notation\n",
    "        if i == 0:\n",
    "            date_form = DateFormatter(\"%Y-%m-%d %H:%M\")\n",
    "            ax.xaxis.set_major_formatter(date_form)\n",
    "            plt.xticks(rotation=60)\n",
    "            # x_labels = [f'{row[\"note\"].replace(f\"_{chip_name}\",\"\")}\\n{row[\"timestamp\"].strftime(\"%Y-%m-%d %H:%M\")}' for index, row in filtered_df.iterrows()]\n",
    "            # ax.set_xticks(filtered_df['timestamp'])\n",
    "            # ax.set_xticklabels(x_labels, rotation=90, fontsize=9)\n",
    "\n",
    "        i += 1\n",
    "\n",
    "    ax.grid(which='both', axis='y')\n",
    "    ax.xaxis.set_minor_locator(plt.NullLocator())\n",
    "    ax.legend(ncols=2, fontsize=14)\n",
    "\n",
    "    var_label = str(var).replace('_', ' ')\n",
    "\n",
    "    # Set labels for other axes as needed\n",
    "    ax.set_ylabel(f'{inputname} {var_label}')"
   ]
  },
  {
   "attachments": {},
   "cell_type": "markdown",
   "metadata": {},
   "source": [
    "### run plotting"
   ]
  },
  {
   "cell_type": "code",
   "execution_count": null,
   "metadata": {},
   "outputs": [],
   "source": [
    "con = sqlite3.connect(histfile)\n",
    "df = pd.read_sql_query(\"SELECT * from baselines\", con)\n",
    "\n",
    "time_cut = None # '2024-01-17 11:57:00'\n",
    "note_cut = 'Run1' # 'OvernightWarmup_Jan_18_2024_time_3s'\n",
    "label = 'Run 1'\n",
    "\n",
    "for chip_name in chip_names:\n",
    "    makePlot('baseline', chip_name, scan_list, time_cut, note_cut, label, df)\n",
    "    makePlot('noise_width', chip_name, scan_list, time_cut, note_cut, label, df)"
   ]
  },
  {
   "attachments": {},
   "cell_type": "markdown",
   "metadata": {},
   "source": [
    "# Calibrate FC and PLL for all I2C"
   ]
  },
  {
   "cell_type": "code",
   "execution_count": null,
   "metadata": {},
   "outputs": [],
   "source": [
    "for chip_address in chip_addresses[:]:\n",
    "    i2c_conn.asyResetGlobalReadout(chip_address, chip=None)\n",
    "    i2c_conn.asyAlignFastcommand(chip_address, chip=None)\n",
    "    i2c_conn.calibratePLL(chip_address, chip=None)"
   ]
  },
  {
   "attachments": {},
   "cell_type": "markdown",
   "metadata": {},
   "source": [
    "# Manual Noise"
   ]
  },
  {
   "attachments": {},
   "cell_type": "markdown",
   "metadata": {},
   "source": [
    "## Scan"
   ]
  },
  {
   "cell_type": "code",
   "execution_count": null,
   "metadata": {},
   "outputs": [],
   "source": [
    "trigger_bit_noisescan(i2c_conn, chip_addresses[0], chip_fignames[0], LED_page, delay, active_channel, polarity, scan_list, verbose=False, pedestal_scan_step=1, attempt='_quietCB', busyCB=False, today=today, hostname=hostname)"
   ]
  },
  {
   "attachments": {},
   "cell_type": "markdown",
   "metadata": {},
   "source": [
    "## Plot"
   ]
  },
  {
   "cell_type": "code",
   "execution_count": null,
   "metadata": {},
   "outputs": [],
   "source": [
    "trigger_bit_noisescan_plot(i2c_conn, chip_addresses[0], chip_figtitles[0], chip_fignames[0], scan_list, attempt='_quietCB', tag=\" Quiet CB\", autoBL=True, gaus=True, today=today)"
   ]
  },
  {
   "cell_type": "markdown",
   "metadata": {},
   "source": [
    "# Disconnect I2C Device"
   ]
  },
  {
   "cell_type": "code",
   "execution_count": null,
   "metadata": {},
   "outputs": [],
   "source": [
    "del i2c_conn"
   ]
  },
  {
   "cell_type": "code",
   "execution_count": null,
   "metadata": {},
   "outputs": [],
   "source": []
  }
 ],
 "metadata": {
  "kernelspec": {
   "display_name": "Python 3",
   "language": "python",
   "name": "python3"
  },
  "language_info": {
   "codemirror_mode": {
    "name": "ipython",
    "version": 3
   },
   "file_extension": ".py",
   "mimetype": "text/x-python",
   "name": "python",
   "nbconvert_exporter": "python",
   "pygments_lexer": "ipython3",
   "version": "3.9.18"
  },
  "orig_nbformat": 4
 },
 "nbformat": 4,
 "nbformat_minor": 2
}
