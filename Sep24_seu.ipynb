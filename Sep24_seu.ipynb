{
 "cells": [
  {
   "cell_type": "code",
   "execution_count": 1,
   "metadata": {},
   "outputs": [],
   "source": [
    "#############################################################################\n",
    "# zlib License\n",
    "#\n",
    "# (C) 2023 Zach Flowers, Murtaza Safdari <musafdar@cern.ch>, Cristovao da Cruz e Silva\n",
    "#\n",
    "# This software is provided 'as-is', without any express or implied\n",
    "# warranty.  In no event will the authors be held liable for any damages\n",
    "# arising from the use of this software.\n",
    "#\n",
    "# Permission is granted to anyone to use this software for any purpose,\n",
    "# including commercial applications, and to alter it and redistribute it\n",
    "# freely, subject to the following restrictions:\n",
    "#\n",
    "# 1. The origin of this software must not be misrepresented; you must not\n",
    "#    claim that you wrote the original software. If you use this software\n",
    "#    in a product, an acknowledgment in the product documentation would be\n",
    "#    appreciated but is not required.\n",
    "# 2. Altered source versions must be plainly marked as such, and must not be\n",
    "#    misrepresented as being the original software.\n",
    "# 3. This notice may not be removed or altered from any source distribution.\n",
    "#############################################################################"
   ]
  },
  {
   "cell_type": "code",
   "execution_count": 2,
   "metadata": {},
   "outputs": [],
   "source": [
    "#%%\n",
    "%matplotlib inline\n",
    "import matplotlib.pyplot as plt\n",
    "import logging\n",
    "\n",
    "import i2c_gui2\n",
    "import time\n",
    "\n",
    "import i2c_gui\n",
    "import i2c_gui.chips\n",
    "from i2c_gui.usb_iss_helper import USB_ISS_Helper\n",
    "from i2c_gui.fpga_eth_helper import FPGA_ETH_Helper\n",
    "import numpy as np\n",
    "from mpl_toolkits.axes_grid1 import make_axes_locatable\n",
    "from tqdm import tqdm\n",
    "import os, sys\n",
    "import multiprocessing\n",
    "import datetime\n",
    "import pandas\n",
    "from pathlib import Path\n",
    "import subprocess\n",
    "import sqlite3\n",
    "from notebooks.notebook_helpers import *\n",
    "from fnmatch import fnmatch\n",
    "import scipy.stats as stats\n",
    "from math import ceil\n",
    "from numpy import savetxt\n",
    "\n",
    "os.chdir(f'/home/{os.getlogin()}/ETROC2/ETROC_DAQ')\n",
    "import run_script\n",
    "import parser_arguments\n",
    "import importlib\n",
    "importlib.reload(run_script)\n",
    "\n",
    "\n",
    "from scripts.log_action import log_action_v2"
   ]
  },
  {
   "cell_type": "code",
   "execution_count": null,
   "metadata": {},
   "outputs": [],
   "source": [
    "#%%\n",
    "%matplotlib inline\n",
    "import matplotlib.pyplot as plt\n",
    "plt.figure()\n",
    "plt.show()"
   ]
  },
  {
   "cell_type": "code",
   "execution_count": 4,
   "metadata": {},
   "outputs": [],
   "source": [
    "def i2c_dumping(\n",
    "        port: str,\n",
    "        etroc_i2c_address: int,\n",
    "        ws_i2c_address: int,\n",
    "        outdir: Path,\n",
    "        chip_name: str,\n",
    "        fname: str,\n",
    "    ):\n",
    "    clock = 100\n",
    "    conn = i2c_gui2.USB_ISS_Helper(port, clock, dummy_connect = False)\n",
    "\n",
    "    # print(f\"USB-ISS Firmware Version: {conn.fw_version}\")\n",
    "    # print(f\"USB-ISS Serial Number: {conn.serial}\")\n",
    "\n",
    "    chip_logger = logging.getLogger(\"Chip\")\n",
    "    chip = i2c_gui2.ETROC2_Chip(etroc_i2c_address, ws_i2c_address, conn, chip_logger)\n",
    "\n",
    "    start_time = time.time()\n",
    "    chip.read_all_efficient()\n",
    "    end_time = time.time()\n",
    "    current_time = datetime.datetime.now().isoformat().replace(\":\",\"-\")\n",
    "    chip.save_config(outdir / f\"{current_time}_{chip_name}_{fname}.pckl\")\n",
    "\n",
    "    # print(\"--- %s seconds ---\" % (end_time - start_time))"
   ]
  },
  {
   "attachments": {},
   "cell_type": "markdown",
   "metadata": {},
   "source": [
    "# Set defaults"
   ]
  },
  {
   "cell_type": "code",
   "execution_count": 5,
   "metadata": {},
   "outputs": [],
   "source": [
    "chip_names = [\"ET2p03_Bare4\", \"ET2p03_Bare10\", \"ET2p03_Bare14\", \"ET2p03_Bare18\"]\n",
    "chip_fignames = [\"ETROC 2.03 Bare Board 4\", \"ETROC 2.03 Bare Board 10\", \"ETROC 2.03 Bare Board 14\", \"ETROC 2.03 Bare Board 18\"]\n",
    "chip_figtitles = chip_names\n",
    "\n",
    "# 'The port name the USB-ISS module is connected to. Default: /dev/ttyACM0'\n",
    "port = \"/dev/ttyACM1\"\n",
    "# I2C addresses for the pixel block and WS\n",
    "chip_addresses = [0x60, 0x61, 0x62, 0x63]\n",
    "ws_addresses = [0x40, 0x41, 0x42, 0x43]\n",
    "\n",
    "fig_outdir = Path('../ETROC-figures/NWSep2024')\n",
    "fig_outdir = fig_outdir / 'PreRunStabilityTesting'\n",
    "fig_outdir.mkdir(exist_ok=True, parents=True)\n",
    "fig_path = str(fig_outdir)\n",
    "\n",
    "config_outdir = Path('../ETROC-Data/NWSep2024')\n",
    "config_outdir = config_outdir / \"ChipConfig_PreRunStabilityTesting\"\n",
    "config_outdir.mkdir(exist_ok=True, parents=True)\n",
    "\n",
    "histdir = Path('../ETROC-History/NWSep2024')\n",
    "histdir.mkdir(exist_ok=True)\n",
    "\n",
    "# log_path = Path(f'/home/{os.getlogin()}/ETROC2/i2c_gui')\n",
    "log_path = Path('../ETROC-History/NWSep2024')\n",
    "\n",
    "full_col_list, full_row_list = np.meshgrid(np.arange(16),np.arange(16))\n",
    "full_scan_list = list(zip(full_row_list.flatten(),full_col_list.flatten()))"
   ]
  },
  {
   "attachments": {},
   "cell_type": "markdown",
   "metadata": {},
   "source": [
    "# Make i2c_connection class object"
   ]
  },
  {
   "cell_type": "code",
   "execution_count": 43,
   "metadata": {},
   "outputs": [],
   "source": [
    "# i2c_conn = self, port, chip_addresses, ws_addresses, chip_names, chip_fc_delays\n",
    "i2c_conn = i2c_connection(port,chip_addresses,ws_addresses,chip_names,[(\"1\",\"1\"),(\"1\",\"1\"),(\"1\",\"1\"), (\"1\",\"1\")])"
   ]
  },
  {
   "attachments": {},
   "cell_type": "markdown",
   "metadata": {},
   "source": [
    "# Config chips"
   ]
  },
  {
   "attachments": {},
   "cell_type": "markdown",
   "metadata": {},
   "source": [
    "#### Key is (WS Init, All Offsets 20 , Cal+Disable, Auto Cal, Disable Pixels, Chip Peripherals, Basic Peri Reg Check, Pixel Check)"
   ]
  },
  {
   "cell_type": "code",
   "execution_count": null,
   "metadata": {},
   "outputs": [],
   "source": [
    "# 0 - 0 - (disable & auto_cal all pixels) - (auto_TH_CAL) - (disable default all pixels) - (set basic peripherals) - (peripheral reg check) -  (pixel ID check)\n",
    "log_action_v2(log_path, \"DAQ\", \"Config\", \"Initial, Disable and High Power\")\n",
    "i2c_conn.config_chips('00001101')"
   ]
  },
  {
   "cell_type": "code",
   "execution_count": null,
   "metadata": {},
   "outputs": [],
   "source": [
    "# 0 - 0 - (disable & auto_cal all pixels) - (auto_TH_CAL) - (disable default all pixels) - (set basic peripherals) - (peripheral reg check) -  (pixel ID check)\n",
    "log_action_v2(log_path, \"DAQ\", \"Config\", \"Initial Only\")\n",
    "i2c_conn.config_chips('00000100')"
   ]
  },
  {
   "cell_type": "code",
   "execution_count": null,
   "metadata": {},
   "outputs": [],
   "source": [
    "log_action_v2(log_path, \"DAQ\", \"Config\", \"Baseline\")\n",
    "i2c_conn.config_chips('00010000')\n",
    "log_action_v2(log_path, \"DAQ\", \"Config\", \"Done\")"
   ]
  },
  {
   "cell_type": "code",
   "execution_count": 9,
   "metadata": {},
   "outputs": [],
   "source": [
    "# log_action_v2(log_path, \"DAQ\", \"Config\", \"Initial, Disable and Auto Cal\")\n",
    "# i2c_conn.config_chips('00100101')"
   ]
  },
  {
   "attachments": {},
   "cell_type": "markdown",
   "metadata": {},
   "source": [
    "## Dump I2C Config\n"
   ]
  },
  {
   "cell_type": "code",
   "execution_count": 10,
   "metadata": {},
   "outputs": [],
   "source": [
    "for chip_idx in range(len(chip_names)):\n",
    "    i2c_dumping(port=port, etroc_i2c_address=chip_addresses[chip_idx], ws_i2c_address=ws_addresses[chip_idx], outdir=config_outdir, chip_name=chip_names[chip_idx], fname=\"PreRunStabilityTesting\")"
   ]
  },
  {
   "attachments": {},
   "cell_type": "markdown",
   "metadata": {},
   "source": [
    "## Visualize the learned Baselines (BL) and Noise Widths (NW)\n",
    "\n",
    "Note that the NW represents the full width on either side of the BL"
   ]
  },
  {
   "cell_type": "code",
   "execution_count": 11,
   "metadata": {},
   "outputs": [],
   "source": [
    "def make_baselines(do_config = True, power_mode = 'high', calibrate_chip=True, calibrate_pixels=None):\n",
    "    if do_config:\n",
    "        log_action_v2(log_path, \"DAQ\", \"Config\", \"Basic and Disable\")\n",
    "        i2c_conn.config_chips('00001100')\n",
    "        for address in chip_addresses:\n",
    "            if power_mode == 'low':\n",
    "                log_action_v2(log_path, \"DAQ\", \"Config\", \"Low Power\")\n",
    "            elif power_mode == 'high':\n",
    "                log_action_v2(log_path, \"DAQ\", \"Config\", \"High Power\")\n",
    "            else:\n",
    "                log_action_v2(log_path, \"DAQ\", \"Config\", \"Set Power\")\n",
    "            i2c_conn.set_power_mode_scan_list(address, full_scan_list, power_mode = power_mode)\n",
    "\n",
    "    histfile = histdir / 'BaselineHistory.sqlite'\n",
    "\n",
    "    log_action_v2(log_path, \"DAQ\", \"Config\", \"Baseline\")\n",
    "    if(calibrate_chip): i2c_conn.config_chips('00010000')\n",
    "    elif(calibrate_pixels is not None):\n",
    "        data = []\n",
    "        for aidx,address in enumerate(chip_addresses):\n",
    "            for row,col in calibrate_pixels:\n",
    "                i2c_conn.auto_cal_pixel(chip_name=chip_names[aidx], row=row, col=col, verbose=True, chip_address=address, data=data)\n",
    "        BL_df = pandas.DataFrame(data = data)\n",
    "        with sqlite3.connect(histfile) as sqlconn:\n",
    "            BL_df.to_sql('baselines', sqlconn, if_exists='append', index=False)\n",
    "        del data, BL_df\n",
    "        return\n",
    "    \n",
    "    log_action_v2(log_path, \"DAQ\", \"Config\", \"Done\")\n",
    "\n",
    "    for chip_address, chip_figname, chip_figtitle in zip(chip_addresses,chip_fignames,chip_fignames):\n",
    "        BL_map_THCal,NW_map_THCal,BL_df,_ = i2c_conn.get_auto_cal_maps(chip_address)\n",
    "        fig = plt.figure(dpi=200, figsize=(20,10))\n",
    "        gs = fig.add_gridspec(1,2)\n",
    "\n",
    "        ax0 = fig.add_subplot(gs[0,0])\n",
    "        ax0.set_title(f\"{chip_figtitle}: BL (DAC LSB)\", size=17, loc=\"right\")\n",
    "        img0 = ax0.imshow(BL_map_THCal, interpolation='none')\n",
    "        ax0.set_aspect(\"equal\")\n",
    "        ax0.invert_xaxis()\n",
    "        ax0.invert_yaxis()\n",
    "        plt.xticks(range(16), range(16), rotation=\"vertical\")\n",
    "        plt.yticks(range(16), range(16))\n",
    "        hep.cms.text(loc=0, ax=ax0, fontsize=17, text=\"Preliminary\")\n",
    "        divider = make_axes_locatable(ax0)\n",
    "        cax = divider.append_axes('right', size=\"5%\", pad=0.05)\n",
    "        fig.colorbar(img0, cax=cax, orientation=\"vertical\")\n",
    "\n",
    "        ax1 = fig.add_subplot(gs[0,1])\n",
    "        ax1.set_title(f\"{chip_figtitle}: NW (DAC LSB)\", size=17, loc=\"right\")\n",
    "        img1 = ax1.imshow(NW_map_THCal, interpolation='none', vmin=0, vmax=15)\n",
    "        ax1.set_aspect(\"equal\")\n",
    "        ax1.invert_xaxis()\n",
    "        ax1.invert_yaxis()\n",
    "        plt.xticks(range(16), range(16), rotation=\"vertical\")\n",
    "        plt.yticks(range(16), range(16))\n",
    "        hep.cms.text(loc=0, ax=ax1, fontsize=17, text=\"Preliminary\")\n",
    "        divider = make_axes_locatable(ax1)\n",
    "        cax = divider.append_axes('right', size=\"5%\", pad=0.05)\n",
    "        fig.colorbar(img1, cax=cax, orientation=\"vertical\")\n",
    "\n",
    "        timestamp = datetime.datetime.now().strftime(\"%Y-%m-%d_%H-%M\")\n",
    "\n",
    "        for x in range(16):\n",
    "            for y in range(16):\n",
    "                ax0.text(x,y,f\"{BL_map_THCal.T[x,y]:.0f}\", c=\"white\", size=10, rotation=45, fontweight=\"bold\", ha=\"center\", va=\"center\")\n",
    "                ax1.text(x,y,f\"{NW_map_THCal.T[x,y]:.0f}\", c=\"white\", size=10, rotation=45, fontweight=\"bold\", ha=\"center\", va=\"center\")\n",
    "        plt.tight_layout()\n",
    "        plt.savefig(fig_path+\"/BL_NW_\"+chip_figname+\"_\"+timestamp+\".png\")\n",
    "        plt.show()\n",
    "\n",
    "        with sqlite3.connect(histfile) as sqlconn:\n",
    "            BL_df.to_sql('baselines', sqlconn, if_exists='append', index=False)\n",
    "\n",
    "    time.sleep(1)"
   ]
  },
  {
   "cell_type": "code",
   "execution_count": null,
   "metadata": {},
   "outputs": [],
   "source": [
    "#%%\n",
    "%matplotlib inline\n",
    "import matplotlib.pyplot as plt\n",
    "plt.figure()\n",
    "plt.show()"
   ]
  },
  {
   "cell_type": "code",
   "execution_count": null,
   "metadata": {},
   "outputs": [],
   "source": [
    "make_baselines(do_config=False, calibrate_chip=False)"
   ]
  },
  {
   "cell_type": "markdown",
   "metadata": {},
   "source": [
    "### Calibrate FC for all I2C"
   ]
  },
  {
   "cell_type": "code",
   "execution_count": null,
   "metadata": {},
   "outputs": [],
   "source": [
    "for chip_address in chip_addresses[:]:\n",
    "    i2c_conn.asyResetGlobalReadout(chip_address, chip=None)\n",
    "    i2c_conn.asyAlignFastcommand(chip_address, chip=None)"
   ]
  },
  {
   "cell_type": "markdown",
   "metadata": {},
   "source": [
    "### Calibrate PLL"
   ]
  },
  {
   "cell_type": "code",
   "execution_count": null,
   "metadata": {},
   "outputs": [],
   "source": [
    "for chip_address in chip_addresses[:]:\n",
    "    i2c_conn.calibratePLL(chip_address, chip=None)"
   ]
  },
  {
   "attachments": {},
   "cell_type": "markdown",
   "metadata": {},
   "source": [
    "# Define Utility Functions"
   ]
  },
  {
   "cell_type": "markdown",
   "metadata": {},
   "source": [
    "### TODO Add function to load prerun config onto entire chip using i2c_gui2"
   ]
  },
  {
   "cell_type": "code",
   "execution_count": 16,
   "metadata": {},
   "outputs": [],
   "source": [
    "def do_pixel_operations(scan_list, board_offsets=None, noisy_pixels=None, power_mode='high', Bypass_THCal=True, QInjEn=True):\n",
    "    log_action_v2(log_path, \"DAQ\", \"Config\", \"Pixel Operations\")\n",
    "    i2c_conn.enable_select_pixels_in_chips(scan_list,QInjEn=QInjEn,Bypass_THCal=Bypass_THCal,specified_addresses=chip_addresses[:], power_mode=power_mode, verbose=False)\n",
    "\n",
    "    if board_offsets is not None:\n",
    "        time.sleep(1)\n",
    "        for chip_address in chip_addresses[:]:\n",
    "            if chip_address not in board_offsets:\n",
    "                continue\n",
    "            chip = i2c_conn.get_chip_i2c_connection(chip_address)\n",
    "            row_indexer_handle,_,_ = chip.get_indexer(\"row\")\n",
    "            column_indexer_handle,_,_ = chip.get_indexer(\"column\")\n",
    "            if(Bypass_THCal): i2c_conn.set_chip_offsets(chip_address, offset=board_offsets[chip_address], chip=chip, pixel_list=scan_list, verbose=True)\n",
    "            else:\n",
    "                for row, col in scan_list:\n",
    "                    print(f\"Operating on chip {hex(chip_address)} Pixel ({row},{col}) and setting TH_offset to {board_offsets[chip_address]}\")\n",
    "                    column_indexer_handle.set(col)\n",
    "                    row_indexer_handle.set(row)\n",
    "                    i2c_conn.pixel_decoded_register_write(\"TH_offset\", format(board_offsets[chip_address], '06b'), chip)\n",
    "            del chip, row_indexer_handle, column_indexer_handle\n",
    "\n",
    "    if noisy_pixels is not None:\n",
    "        time.sleep(1)\n",
    "        for chip_address in chip_addresses:\n",
    "            if chip_address not in noisy_pixels:\n",
    "                continue\n",
    "            chip = i2c_conn.get_chip_i2c_connection(chip_address)\n",
    "            row_indexer_handle,_,_ = chip.get_indexer(\"row\")\n",
    "            column_indexer_handle,_,_ = chip.get_indexer(\"column\")\n",
    "            for row, col in noisy_pixels[chip_address]:\n",
    "                print(f\"Masking from trigger of chip {hex(chip_address)} Pixel ({row},{col})\")\n",
    "                column_indexer_handle.set(col)\n",
    "                row_indexer_handle.set(row)\n",
    "                i2c_conn.pixel_decoded_register_write(\"disTrigPath\", \"1\", chip)\n",
    "                #i2c_conn.pixel_decoded_register_write(\"DAC\", format(1023, '010b'), chip)\n",
    "                #i2c_conn.pixel_decoded_register_write(\"Bypass_THCal\", \"1\", chip)\n",
    "\n",
    "    time.sleep(1)"
   ]
  },
  {
   "cell_type": "code",
   "execution_count": 17,
   "metadata": {},
   "outputs": [],
   "source": [
    "def do_all_pix_operations(Bypass_THCal=True):\n",
    "    log_action_v2(log_path, \"DAQ\", \"Config\", \"All Pixel Operations\")\n",
    "    for chip_address in chip_addresses[:]:\n",
    "        chip = i2c_conn.get_chip_i2c_connection(chip_address)\n",
    "        row_indexer_handle,_,_ = chip.get_indexer(\"row\")\n",
    "        column_indexer_handle,_,_ = chip.get_indexer(\"column\")\n",
    "        broadcast_handle,_,_ = chip.get_indexer(\"broadcast\")\n",
    "        column_indexer_handle.set(0)\n",
    "        row_indexer_handle.set(0)\n",
    "        chip.read_all_block(\"ETROC2\", \"Pixel Config\")\n",
    "        Bypass_THCal_handle = chip.get_decoded_indexed_var(\"ETROC2\", \"Pixel Config\", \"Bypass_THCal\")\n",
    "        TH_offset_handle = chip.get_decoded_indexed_var(\"ETROC2\", \"Pixel Config\", \"TH_offset\")\n",
    "        DAC_handle = chip.get_decoded_indexed_var(\"ETROC2\", \"Pixel Config\", \"DAC\")\n",
    "        Bypass_THCal_handle.set(\"1\" if Bypass_THCal else \"0\")\n",
    "        TH_offset_handle.set(hex(0x3f))  # Max Offset 63\n",
    "        DAC_handle.set(hex(0x3ff)) # Max DAC 1023\n",
    "        broadcast_handle.set(True)\n",
    "        chip.write_all_block(\"ETROC2\", \"Pixel Config\")\n",
    "        print(f\"{Bypass_THCal} for Bypass_THCal, and Set TH_Offset to 0x3f and DAC to 0x3ff for all pixels of chip: {hex(chip_address)}\")"
   ]
  },
  {
   "cell_type": "code",
   "execution_count": 18,
   "metadata": {},
   "outputs": [],
   "source": [
    "LED_pages = [\"0x1000\",\"0x1384\",\"0x0f88\",\"0x0f0C\"] # LED pages to cycle through\n",
    "boardDataPhaseDelays = [\n",
    "    hex((35 << 7) + (0 << 2)),\n",
    "    hex((38 << 7) + (1 << 2)),\n",
    "    hex((29 << 7) + (2 << 2)),\n",
    "    hex((28 << 7) + (3 << 2)),\n",
    "]\n",
    "LED_pages = boardDataPhaseDelays\n",
    "active_channels = \"0x0007\"\n",
    "# polarity = \"0x41A3\"\n",
    "# polarity = \"0x4123\"\n",
    "polarity = \"0x41a7\" # Use prescale, with clock fillers and monitor FIFO\n",
    "hostname = \"192.168.2.3\""
   ]
  },
  {
   "cell_type": "code",
   "execution_count": 19,
   "metadata": {},
   "outputs": [],
   "source": [
    "# 707 kHz QInj + L1A\n",
    "def run_daq(run_number, total_time, daq_time, run_options=\"--compressed_binary --skip_translation -v\", allow_overwrite = False, reset_string = \"--check_valid_data_start --clear_fifo\", BCR=False):\n",
    "    out_dir = Path('/home/daq/ETROC2/ETROC-Data/NWSep2024')\n",
    "    if not out_dir.exists():\n",
    "        raise RuntimeError(\"The base output directory does not exist... there may be a script config problem\")\n",
    "    if not allow_overwrite:\n",
    "        run_dir = out_dir / f\"Run_{run_number}\"\n",
    "        if run_dir.exists():\n",
    "            raise RuntimeError(\"Run directory already exists, I am not going to overwrite\")\n",
    "\n",
    "    trigger_bit_delay = 0x1800\n",
    "    process_time = daq_time + 1\n",
    "    iterations = ceil(total_time/process_time)\n",
    "    LED_id = 0\n",
    "\n",
    "    for it in range(iterations):\n",
    "        LED_page = LED_pages[LED_id]\n",
    "        LED_id += 1\n",
    "        if LED_id >= len(LED_pages): LED_id = 0\n",
    "        reset_string_used = \"\"\n",
    "        if(it==0): reset_string_used = reset_string\n",
    "        parser = parser_arguments.create_parser()\n",
    "        #(options, args) = parser.parse_args(args=f\"-f --useIPC --hostname {hostname} -t {process_time} --run_name Run_{run_number} -o loop_{it} -w -s {LED_page} -p {polarity} -d {trigger_bit_delay} -a {active_channels} {run_options} --ssd --ssd_path {out_dir.absolute().as_posix()} --start_DAQ_pulse --stop_DAQ_pulse {reset_string_used}\".split())\n",
    "        options = parser.parse_args(args=f\"-f --useIPC --hostname {hostname} -t {process_time} --run_name Run_{run_number} -o loop_{it} -w -s {LED_page} -p {polarity} -d {trigger_bit_delay} -a {active_channels} {run_options} --ssd --ssd_path {out_dir.absolute().as_posix()} --start_DAQ_pulse --stop_DAQ_pulse {reset_string_used}\".split())\n",
    "        IPC_queue = multiprocessing.Queue()\n",
    "        process = multiprocessing.Process(target=run_script.main_process, args=(IPC_queue, options, f'process_outputs/main_process_Run_{run_number}_loop_{it}'))\n",
    "        process.start()\n",
    "\n",
    "        BCR_string = \"BCR\" if BCR else \"\"\n",
    "        IPC_queue.put(f'memoFC Start Triggerbit QInj repeatedQInj=63 L1A L1ARange uniform {BCR_string}')\n",
    "        # IPC_queue.put(f'memoFC Start Triggerbit QInj L1A {BCR_string}')\n",
    "        while not IPC_queue.empty():\n",
    "            pass\n",
    "        time.sleep(daq_time)\n",
    "        IPC_queue.put('stop DAQ')\n",
    "        IPC_queue.put('memoFC Triggerbit')\n",
    "        while not IPC_queue.empty():\n",
    "            pass\n",
    "        IPC_queue.put('allow threads to exit')\n",
    "        process.join()\n",
    "\n",
    "        del IPC_queue, process, parser"
   ]
  },
  {
   "attachments": {},
   "cell_type": "markdown",
   "metadata": {},
   "source": [
    "# Run DAQ (Actual SEU Data Taking Starts Here)"
   ]
  },
  {
   "cell_type": "code",
   "execution_count": 20,
   "metadata": {},
   "outputs": [],
   "source": [
    "col_list = [8, 2, 8, 2]\n",
    "row_list = [0, 0, 2, 2]\n",
    "scan_list = list(zip(row_list, col_list))\n",
    "full_scan_list_bool = {(row,col):False for row,col in full_scan_list}\n",
    "for row,col in scan_list:\n",
    "    full_scan_list_bool[(row,col)] = True\n",
    "\n",
    "board_offsets = {\n",
    "    0x60: 0x0f,\n",
    "    0x61: 0x0f,\n",
    "    0x62: 0x0f,\n",
    "    0x63: 0x0f,\n",
    "}\n",
    "# noisy_pixels = {\n",
    "#     #0x60: [ # (row, col)\n",
    "#     #    (10, 8),\n",
    "#     #],\n",
    "# }\n",
    "noisy_pixels = None\n",
    "power_mode = 'high'"
   ]
  },
  {
   "attachments": {},
   "cell_type": "markdown",
   "metadata": {},
   "source": [
    "## Pixel Operations"
   ]
  },
  {
   "cell_type": "code",
   "execution_count": null,
   "metadata": {},
   "outputs": [],
   "source": [
    "# make_baselines(do_config = True, power_mode = power_mode, calibrate_chip=True, calibrate_pixels=scan_list)\n",
    "make_baselines(do_config = True, power_mode = power_mode, calibrate_chip=False, calibrate_pixels=scan_list)\n",
    "\n",
    "do_all_pix_operations(Bypass_THCal=True)\n",
    "\n",
    "do_pixel_operations(scan_list, board_offsets = board_offsets, noisy_pixels = noisy_pixels, power_mode = power_mode, Bypass_THCal=False, QInjEn=True)"
   ]
  },
  {
   "cell_type": "code",
   "execution_count": 25,
   "metadata": {},
   "outputs": [],
   "source": [
    "current_run_name = \"PreRunStabilityTesting_3\""
   ]
  },
  {
   "attachments": {},
   "cell_type": "markdown",
   "metadata": {},
   "source": [
    "## Short Run for testing"
   ]
  },
  {
   "cell_type": "code",
   "execution_count": 26,
   "metadata": {},
   "outputs": [],
   "source": [
    "test_run_name = f\"Testrun_{current_run_name}\"\n",
    "log_action_v2(log_path, \"DAQ\", \"Run\", \"Test Start\")\n",
    "run_daq(run_number=test_run_name, total_time=1, daq_time=10, allow_overwrite=True, run_options=\"--compressed_binary -v --prescale_factor 4096\", reset_string=\"--clear_fifo --check_valid_data_start\", BCR=True)\n",
    "log_action_v2(log_path, \"DAQ\", \"Run\", \"Test Stop\")"
   ]
  },
  {
   "attachments": {},
   "cell_type": "markdown",
   "metadata": {},
   "source": [
    "## Dump I2C Config Before Run\n"
   ]
  },
  {
   "cell_type": "code",
   "execution_count": null,
   "metadata": {},
   "outputs": [],
   "source": [
    "for chip_idx in range(len(chip_names)):\n",
    "    i2c_dumping(port=port, etroc_i2c_address=chip_addresses[chip_idx], ws_i2c_address=ws_addresses[chip_idx], outdir=config_outdir, chip_name=chip_names[chip_idx], fname=f\"PreRun_{current_run_name}\")"
   ]
  },
  {
   "attachments": {},
   "cell_type": "markdown",
   "metadata": {},
   "source": [
    "## Do Run"
   ]
  },
  {
   "cell_type": "code",
   "execution_count": null,
   "metadata": {},
   "outputs": [],
   "source": [
    "run_numbers = [current_run_name]\n",
    "total_time = 300\n",
    "daq_time = 300\n",
    "\n",
    "for run_number in run_numbers:\n",
    "    print(f\"Run {run_number} started at:\", datetime.datetime.now().isoformat(sep=\" \"))\n",
    "    run_daq(run_number=run_number, total_time=total_time, daq_time=daq_time, run_options=\"--compressed_binary --skip_translation\", reset_string=\"--check_valid_data_start\", BCR=False)\n",
    "    print(f\"Run {run_number} ended at:\", datetime.datetime.now().isoformat(sep=\" \"))"
   ]
  },
  {
   "attachments": {},
   "cell_type": "markdown",
   "metadata": {},
   "source": [
    "## Dump I2C Config After Run\n"
   ]
  },
  {
   "cell_type": "code",
   "execution_count": null,
   "metadata": {},
   "outputs": [],
   "source": [
    "for chip_idx in range(len(chip_names)):\n",
    "    i2c_dumping(port=port, etroc_i2c_address=chip_addresses[chip_idx], ws_i2c_address=ws_addresses[chip_idx], outdir=config_outdir, chip_name=chip_names[chip_idx], fname=f\"PostRun_{current_run_name}\")"
   ]
  },
  {
   "cell_type": "code",
   "execution_count": null,
   "metadata": {},
   "outputs": [],
   "source": []
  },
  {
   "cell_type": "code",
   "execution_count": null,
   "metadata": {},
   "outputs": [],
   "source": []
  },
  {
   "cell_type": "markdown",
   "metadata": {},
   "source": [
    "# Data and Clk Delays"
   ]
  },
  {
   "cell_type": "code",
   "execution_count": null,
   "metadata": {},
   "outputs": [],
   "source": [
    "i2c_conn.chip_fc_delays = [(\"1\",\"1\")]\n",
    "print(i2c_conn.chip_fc_delays)\n",
    "i2c_conn.config_chips('00000100') # set basic peripherals"
   ]
  },
  {
   "cell_type": "markdown",
   "metadata": {},
   "source": [
    "# Calibrate FC for all I2C"
   ]
  },
  {
   "cell_type": "code",
   "execution_count": null,
   "metadata": {},
   "outputs": [],
   "source": [
    "time.sleep(1)\n",
    "for chip_address in chip_addresses[:]:\n",
    "    i2c_conn.asyResetGlobalReadout(chip_address, chip=None)\n",
    "    i2c_conn.asyAlignFastcommand(chip_address, chip=None)\n",
    "time.sleep(1)\n",
    "for chip_address in chip_addresses[:]:\n",
    "    i2c_conn.calibratePLL(chip_address, chip=None)\n",
    "time.sleep(1)\n",
    "for chip_address in chip_addresses[:]:\n",
    "    i2c_conn.asyResetGlobalReadout(chip_address, chip=None)\n",
    "    i2c_conn.asyAlignFastcommand(chip_address, chip=None)"
   ]
  },
  {
   "cell_type": "code",
   "execution_count": null,
   "metadata": {},
   "outputs": [],
   "source": [
    "for chip_address in chip_addresses[:]:\n",
    "    # i2c_conn.asyResetGlobalReadout(chip_address, chip=None)\n",
    "    i2c_conn.asyAlignFastcommand(chip_address, chip=None)"
   ]
  },
  {
   "cell_type": "code",
   "execution_count": null,
   "metadata": {},
   "outputs": [],
   "source": [
    "for chip_address in chip_addresses[:]:\n",
    "    i2c_conn.calibratePLL(chip_address, chip=None)"
   ]
  },
  {
   "cell_type": "markdown",
   "metadata": {},
   "source": [
    "# SEU Equivalence\n",
    "(only for running long tests outside of SEU)"
   ]
  },
  {
   "cell_type": "code",
   "execution_count": null,
   "metadata": {},
   "outputs": [],
   "source": [
    "# total_runs = 40\n",
    "# each_run_time = 1\n",
    "# each_daq_time = 60*3  # Average of 3 minutes per run from Jan24\n",
    "\n",
    "# for run_no in range(total_runs):\n",
    "#     make_baselines(do_config = True, power_mode = power_mode, calibrate_chip=False, calibrate_pixels=scan_list)\n",
    "#     do_pixel_operations(scan_list, board_offsets = board_offsets, noisy_pixels = noisy_pixels, power_mode = power_mode)\n",
    "\n",
    "#     time.sleep(60)\n",
    "\n",
    "#     i2c_conn.dump_config(config_outdir, \"PreRun\")\n",
    "\n",
    "#     time.sleep(20)\n",
    "\n",
    "#     run_name = f\"SEUEquivalenceFeb13_{run_no}\"\n",
    "\n",
    "#     log_action_v2(log_path, \"DAQ\", \"Run\", \"Start\")\n",
    "#     print(f\"Run {run_name} started at:\", datetime.datetime.now().isoformat(sep=\" \"))\n",
    "#     run_daq(trigger_board=trigger_board, trigger_board_name=trigger_board_name, run_number=run_name, total_time=each_run_time, daq_time=each_daq_time, run_options=\"--compressed_binary --skip_translation\", reset_string=\"--check_valid_data_start\")\n",
    "#     print(f\"Run {run_name} ended at:\", datetime.datetime.now().isoformat(sep=\" \"))\n",
    "#     log_action_v2(log_path, \"DAQ\", \"Run\", \"Start\")\n",
    "\n",
    "#     i2c_conn.dump_config(config_outdir, \"PostRun\")\n",
    "\n",
    "#     time.sleep(10)"
   ]
  }
 ],
 "metadata": {
  "kernelspec": {
   "display_name": "Python 3",
   "language": "python",
   "name": "python3"
  },
  "language_info": {
   "codemirror_mode": {
    "name": "ipython",
    "version": 3
   },
   "file_extension": ".py",
   "mimetype": "text/x-python",
   "name": "python",
   "nbconvert_exporter": "python",
   "pygments_lexer": "ipython3",
   "version": "3.10.12"
  },
  "orig_nbformat": 4
 },
 "nbformat": 4,
 "nbformat_minor": 2
}
