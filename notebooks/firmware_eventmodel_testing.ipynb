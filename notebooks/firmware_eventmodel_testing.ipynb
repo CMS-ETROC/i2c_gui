{
 "cells": [
  {
   "cell_type": "code",
   "execution_count": null,
   "metadata": {},
   "outputs": [],
   "source": [
    "#############################################################################\n",
    "# zlib License\n",
    "#\n",
    "# (C) 2023 Zach Flowers, Murtaza Safdari <musafdar@cern.ch>\n",
    "#\n",
    "# This software is provided 'as-is', without any express or implied\n",
    "# warranty.  In no event will the authors be held liable for any damages\n",
    "# arising from the use of this software.\n",
    "#\n",
    "# Permission is granted to anyone to use this software for any purpose,\n",
    "# including commercial applications, and to alter it and redistribute it\n",
    "# freely, subject to the following restrictions:\n",
    "#\n",
    "# 1. The origin of this software must not be misrepresented; you must not\n",
    "#    claim that you wrote the original software. If you use this software\n",
    "#    in a product, an acknowledgment in the product documentation would be\n",
    "#    appreciated but is not required.\n",
    "# 2. Altered source versions must be plainly marked as such, and must not be\n",
    "#    misrepresented as being the original software.\n",
    "# 3. This notice may not be removed or altered from any source distribution.\n",
    "#############################################################################"
   ]
  },
  {
   "attachments": {},
   "cell_type": "markdown",
   "metadata": {},
   "source": [
    "# Imports"
   ]
  },
  {
   "cell_type": "code",
   "execution_count": null,
   "metadata": {},
   "outputs": [],
   "source": [
    "#%%\n",
    "%matplotlib inline\n",
    "import matplotlib.pyplot as plt\n",
    "import logging\n",
    "import i2c_gui\n",
    "import i2c_gui.chips\n",
    "from i2c_gui.usb_iss_helper import USB_ISS_Helper\n",
    "from i2c_gui.fpga_eth_helper import FPGA_ETH_Helper\n",
    "import numpy as np\n",
    "from mpl_toolkits.axes_grid1 import make_axes_locatable\n",
    "# import time\n",
    "from tqdm import tqdm\n",
    "# from i2c_gui.chips.etroc2_chip import register_decoding\n",
    "import os, sys\n",
    "import multiprocessing\n",
    "os.chdir(f'/home/{os.getlogin()}/ETROC2/ETROC_DAQ')\n",
    "import run_script\n",
    "import parser_arguments\n",
    "import importlib\n",
    "importlib.reload(run_script)\n",
    "import datetime\n",
    "import pandas\n",
    "from pathlib import Path\n",
    "import subprocess\n",
    "import sqlite3\n",
    "from notebooks.notebook_helpers import *\n",
    "from fnmatch import fnmatch\n",
    "import scipy.stats as stats\n",
    "from math import ceil"
   ]
  },
  {
   "attachments": {},
   "cell_type": "markdown",
   "metadata": {},
   "source": [
    "# Set defaults"
   ]
  },
  {
   "cell_type": "code",
   "execution_count": null,
   "metadata": {},
   "outputs": [],
   "source": [
    "# !!!!!!!!!!!!\n",
    "# It is very important to correctly set the chip name, this value is stored with the data\n",
    "chip_names = [\"ET2_W36_IP5_20\", \"ET2_W36_IP7_13\", \"O2D5#65\"]\n",
    "chip_fignames = chip_names\n",
    "chip_figtitles = chip_names\n",
    "\n",
    "# 'The port name the USB-ISS module is connected to. Default: COM3'\n",
    "port = \"/dev/ttyACM0\"\n",
    "# I2C addresses for the pixel block and WS\n",
    "# chip_addresses = [0x60] \n",
    "chip_addresses = [0x71, 0x63, 0x60]\n",
    "ws_addresses = [None, None, 0x40]\n",
    "chip_addresses = [0x60]\n",
    "ws_addresses = [0x40]\n",
    "\n",
    "hostname = \"192.168.2.3\"\n",
    "\n",
    "today = datetime.date.today().isoformat()\n",
    "\n",
    "polarity = \"0x0022\"\n",
    "\n",
    "fig_outdir = Path('../ETROC-figures')\n",
    "fig_outdir = fig_outdir / (datetime.date.today().isoformat() + '_Array_Test_Results')\n",
    "fig_outdir.mkdir(exist_ok=True)\n",
    "fig_path = str(fig_outdir)"
   ]
  },
  {
   "attachments": {},
   "cell_type": "markdown",
   "metadata": {},
   "source": [
    "# Make i2c_connection class object"
   ]
  },
  {
   "cell_type": "code",
   "execution_count": null,
   "metadata": {},
   "outputs": [],
   "source": [
    "# i2c_conn = self, port, chip_addresses, chip_names, chip_fc_delays\n",
    "i2c_conn = i2c_connection(port,chip_addresses,ws_addresses,chip_names,[(\"1\",\"1\"),(\"1\",\"1\"),(\"1\",\"1\")])"
   ]
  },
  {
   "attachments": {},
   "cell_type": "markdown",
   "metadata": {},
   "source": [
    "# Config chips"
   ]
  },
  {
   "attachments": {},
   "cell_type": "markdown",
   "metadata": {},
   "source": [
    "### Key is (Disable Pixels, Auto Cal, Chip Peripherals, Basic Peri Reg Check, Pixel Check)"
   ]
  },
  {
   "cell_type": "code",
   "execution_count": null,
   "metadata": {},
   "outputs": [],
   "source": [
    "# (WS Prep Pixel and Peri) - 0 - (disable & auto_cal all pixels) - (disable default all pixels) - (auto_TH_CAL) - (set basic peripherals) - (peripheral reg check) -  (pixel ID check)\n",
    "# i2c_conn.config_chips('10100111')\n",
    "# i2c_conn.config_chips('00001111') # disable and more fun things\n",
    "# i2c_conn.config_chips('00000100') # set basic peripherals\n",
    "# i2c_conn.config_chips('00010000') # calibrate only\n",
    "# i2c_conn.config_chips('00000001') # pixel ID check (I2C check)\n",
    "i2c_conn.config_chips('10000000') # ws init\n",
    "# i2c_conn.disable_all_pixels(chip_address=chip_addresses[1])"
   ]
  },
  {
   "attachments": {},
   "cell_type": "markdown",
   "metadata": {},
   "source": [
    "## Visualize the learned Baselines (BL) and Noise Widths (NW)\n",
    "\n",
    "Note that the NW represents the full width on either side of the BL"
   ]
  },
  {
   "cell_type": "code",
   "execution_count": null,
   "metadata": {},
   "outputs": [],
   "source": [
    "#%%\n",
    "%matplotlib inline\n",
    "import matplotlib.pyplot as plt\n",
    "plt.figure()\n",
    "plt.show()"
   ]
  },
  {
   "cell_type": "code",
   "execution_count": null,
   "metadata": {},
   "outputs": [],
   "source": [
    "# from mpl_toolkits.axes_grid1 import make_axes_locatable\n",
    "for chip_address, chip_figname, chip_figtitle in zip(chip_addresses,chip_fignames,chip_figtitles):\n",
    "    BL_map_THCal,NW_map_THCal,BL_df = i2c_conn.get_auto_cal_maps(chip_address)\n",
    "    fig = plt.figure(dpi=200, figsize=(20,10))\n",
    "    gs = fig.add_gridspec(1,2)\n",
    "\n",
    "    ax0 = fig.add_subplot(gs[0,0])\n",
    "    ax0.set_title(f\"{chip_figtitle}: BL (DAC LSB)\", size=17, loc=\"right\")\n",
    "    img0 = ax0.imshow(BL_map_THCal, interpolation='none')\n",
    "    ax0.set_aspect(\"equal\")\n",
    "    ax0.invert_xaxis()\n",
    "    ax0.invert_yaxis()\n",
    "    plt.xticks(range(16), range(16), rotation=\"vertical\")\n",
    "    plt.yticks(range(16), range(16))\n",
    "    hep.cms.text(loc=0, ax=ax0, fontsize=17, text=\"Preliminary\")\n",
    "    divider = make_axes_locatable(ax0)\n",
    "    cax = divider.append_axes('right', size=\"5%\", pad=0.05)\n",
    "    fig.colorbar(img0, cax=cax, orientation=\"vertical\")\n",
    "\n",
    "    ax1 = fig.add_subplot(gs[0,1])\n",
    "    ax1.set_title(f\"{chip_figtitle}: NW (DAC LSB)\", size=17, loc=\"right\")\n",
    "    img1 = ax1.imshow(NW_map_THCal, interpolation='none')\n",
    "    ax1.set_aspect(\"equal\")\n",
    "    ax1.invert_xaxis()\n",
    "    ax1.invert_yaxis()\n",
    "    plt.xticks(range(16), range(16), rotation=\"vertical\")\n",
    "    plt.yticks(range(16), range(16))\n",
    "    hep.cms.text(loc=0, ax=ax1, fontsize=17, text=\"Preliminary\")\n",
    "    divider = make_axes_locatable(ax1)\n",
    "    cax = divider.append_axes('right', size=\"5%\", pad=0.05)\n",
    "    fig.colorbar(img1, cax=cax, orientation=\"vertical\")\n",
    "\n",
    "    for x in range(16):\n",
    "        for y in range(16):\n",
    "            ax0.text(x,y,f\"{BL_map_THCal.T[x,y]:.0f}\", c=\"white\", size=10, rotation=45, fontweight=\"bold\", ha=\"center\", va=\"center\")\n",
    "            ax1.text(x,y,f\"{NW_map_THCal.T[x,y]:.0f}\", c=\"white\", size=10, rotation=45, fontweight=\"bold\", ha=\"center\", va=\"center\")\n",
    "    plt.tight_layout()\n",
    "    plt.savefig(fig_path+\"/BL_NW_\"+chip_figname+\"_\"+datetime.datetime.now().strftime(\"%Y-%m-%d_%H-%M\")+\".png\")\n",
    "    plt.show()"
   ]
  },
  {
   "cell_type": "code",
   "execution_count": null,
   "metadata": {},
   "outputs": [],
   "source": [
    "for chip_address, chip_name in zip(chip_addresses, chip_names):\n",
    "    i2c_conn.save_auto_cal_BL_map(chip_address, chip_name, \"\")\n",
    "    i2c_conn.save_auto_cal_NW_map(chip_address, chip_name, \"\")"
   ]
  },
  {
   "cell_type": "code",
   "execution_count": null,
   "metadata": {},
   "outputs": [],
   "source": [
    "for chip_address, chip_name in zip(chip_addresses, chip_names):\n",
    "    i2c_conn.load_auto_cal_BL_map(chip_address, chip_name, \"\")\n",
    "    i2c_conn.load_auto_cal_NW_map(chip_address, chip_name, \"\")"
   ]
  },
  {
   "attachments": {},
   "cell_type": "markdown",
   "metadata": {},
   "source": [
    "# Define pixels of interest"
   ]
  },
  {
   "cell_type": "code",
   "execution_count": null,
   "metadata": {},
   "outputs": [],
   "source": [
    "# row_list = [15, 15, 15, 15]\n",
    "# col_list = [6, 7, 8, 9]\n",
    "# row_list = [14, 14, 14, 14]\n",
    "# col_list = [6, 7, 8, 9]\n",
    "# row_list = [9, 3, 12]\n",
    "# col_list = [3, 8, 11]\n",
    "# row_list = [15, 15]\n",
    "# col_list = [6, 9]\n",
    "# row_list = [14, 14, 15, 15]\n",
    "# col_list = [6, 9, 6, 9]\n",
    "# row_list = [14, 14, 14, 14, 15, 15, 15, 15]\n",
    "# col_list = [6, 7, 8, 9, 6, 7, 8, 9]\n",
    "# col_list = np.arange(16)\n",
    "# row_list = np.full_like(col_list,12)\n",
    "# row_list = np.full_like(col_list,13)\n",
    "# col_list = [10, 13, 7, 4, 10, 13, 7, 4]\n",
    "# row_list = [12, 12, 12, 12, 13, 13, 13, 13]\n",
    "\n",
    "# col_list, row_list = np.meshgrid(np.arange(16),np.arange(16))\n",
    "# scan_list = list(zip(row_list.flatten(),col_list.flatten()))\n",
    "\n",
    "row_list = [0]\n",
    "col_list = [14]\n",
    "\n",
    "scan_list = list(zip(row_list, col_list))\n",
    "print(scan_list)"
   ]
  },
  {
   "attachments": {},
   "cell_type": "markdown",
   "metadata": {},
   "source": [
    "### Enable pixels of Interest"
   ]
  },
  {
   "cell_type": "code",
   "execution_count": null,
   "metadata": {},
   "outputs": [],
   "source": [
    "i2c_conn.enable_select_pixels_in_chips(scan_list,QInjEn=False)"
   ]
  },
  {
   "cell_type": "code",
   "execution_count": null,
   "metadata": {},
   "outputs": [],
   "source": [
    "i2c_conn.enable_select_pixels_in_chips(scan_list,QInjEn=True)"
   ]
  },
  {
   "cell_type": "markdown",
   "metadata": {},
   "source": [
    "### Tweak settings after enable"
   ]
  },
  {
   "cell_type": "code",
   "execution_count": null,
   "metadata": {},
   "outputs": [],
   "source": [
    "offset = 0x07\n",
    "for chip_address in chip_addresses[:]:\n",
    "    chip = i2c_conn.get_chip_i2c_connection(chip_address)\n",
    "    row_indexer_handle,_,_ = chip.get_indexer(\"row\")\n",
    "    column_indexer_handle,_,_ = chip.get_indexer(\"column\")\n",
    "    for row, col in scan_list:\n",
    "        print(f\"Operating on chip {hex(chip_address)} Pixel ({row},{col})\")\n",
    "        column_indexer_handle.set(col)\n",
    "        row_indexer_handle.set(row)    \n",
    "        i2c_conn.pixel_decoded_register_write(\"TH_offset\", format(offset, '06b'), chip)\n",
    "        i2c_conn.pixel_decoded_register_write(\"QInjEn\", \"0\", chip)\n",
    "    del chip, row_indexer_handle, column_indexer_handle"
   ]
  },
  {
   "cell_type": "code",
   "execution_count": null,
   "metadata": {},
   "outputs": [],
   "source": [
    "offset = 0x07\n",
    "for chip_address in chip_addresses[:]:\n",
    "    chip = i2c_conn.get_chip_i2c_connection(chip_address)\n",
    "    row_indexer_handle,_,_ = chip.get_indexer(\"row\")\n",
    "    column_indexer_handle,_,_ = chip.get_indexer(\"column\")\n",
    "    for row, col in scan_list:\n",
    "        print(f\"Operating on chip {hex(chip_address)} Pixel ({row},{col})\")\n",
    "        column_indexer_handle.set(col)\n",
    "        row_indexer_handle.set(row)    \n",
    "        i2c_conn.pixel_decoded_register_write(\"QSel\", format(0x14, '05b'), chip)\n",
    "        i2c_conn.pixel_decoded_register_write(\"TH_offset\", format(offset, '06b'), chip)\n",
    "        i2c_conn.pixel_decoded_register_write(\"QInjEn\", \"1\", chip)\n",
    "    del chip, row_indexer_handle, column_indexer_handle"
   ]
  },
  {
   "cell_type": "markdown",
   "metadata": {},
   "source": [
    "### Multi Board Entire Row enabled"
   ]
  },
  {
   "cell_type": "code",
   "execution_count": null,
   "metadata": {},
   "outputs": [],
   "source": [
    "start_row = 12\n",
    "offset = 0x06\n",
    "for i, chip_address in enumerate(chip_addresses):\n",
    "    col_list = np.arange(0,16,2)\n",
    "    scan_list = list(zip(np.full_like(col_list,start_row+i), col_list))\n",
    "    i2c_conn.enable_select_pixels_in_chips(scan_list,QInjEn=False,specified_addresses=[chip_address])\n",
    "    \n",
    "    chip = i2c_conn.get_chip_i2c_connection(chip_address)\n",
    "    row_indexer_handle,_,_ = chip.get_indexer(\"row\")\n",
    "    column_indexer_handle,_,_ = chip.get_indexer(\"column\")\n",
    "    for row, col in scan_list:\n",
    "        print(f\"Operating on chip {hex(chip_address)} Pixel ({row},{col})\")\n",
    "        column_indexer_handle.set(col)\n",
    "        row_indexer_handle.set(row)    \n",
    "        i2c_conn.pixel_decoded_register_write(\"QSel\", format(0x14, '05b'), chip)\n",
    "        i2c_conn.pixel_decoded_register_write(\"TH_offset\", format(offset, '06b'), chip)\n",
    "        i2c_conn.pixel_decoded_register_write(\"QInjEn\", \"1\", chip)\n",
    "    del chip, row_indexer_handle, column_indexer_handle"
   ]
  },
  {
   "cell_type": "markdown",
   "metadata": {},
   "source": [
    "### Multi Board Entire Row Disable"
   ]
  },
  {
   "cell_type": "code",
   "execution_count": null,
   "metadata": {},
   "outputs": [],
   "source": [
    "start_row = 12\n",
    "offset = 0x06\n",
    "for i, chip_address in enumerate(chip_addresses):\n",
    "    col_list = np.arange(0,16,2)\n",
    "    scan_list = list(zip(np.full_like(col_list,start_row+i), col_list))    \n",
    "    chip = i2c_conn.get_chip_i2c_connection(chip_address)\n",
    "    row_indexer_handle,_,_ = chip.get_indexer(\"row\")\n",
    "    column_indexer_handle,_,_ = chip.get_indexer(\"column\")\n",
    "    for row, col in scan_list:\n",
    "        print(f\"Disabling on chip {hex(chip_address)} Pixel ({row},{col})\")\n",
    "        column_indexer_handle.set(col)\n",
    "        row_indexer_handle.set(row)    \n",
    "        i2c_conn.disable_pixel(row=row, col=col, verbose=True, chip_address=chip_address, chip=chip, row_indexer_handle=row_indexer_handle, column_indexer_handle=column_indexer_handle)\n",
    "    del chip, row_indexer_handle, column_indexer_handle"
   ]
  },
  {
   "cell_type": "markdown",
   "metadata": {},
   "source": [
    "# Disable one pixel"
   ]
  },
  {
   "cell_type": "code",
   "execution_count": null,
   "metadata": {},
   "outputs": [],
   "source": [
    "for chip_address in chip_addresses[:]:\n",
    "    chip = i2c_conn.get_chip_i2c_connection(chip_address)\n",
    "    row_indexer_handle,_,_ = chip.get_indexer(\"row\")\n",
    "    column_indexer_handle,_,_ = chip.get_indexer(\"column\")\n",
    "    i2c_conn.disable_pixel(row=12, col=0, verbose=True, chip_address=chip_address, chip=chip, row_indexer_handle=row_indexer_handle, column_indexer_handle=column_indexer_handle)\n",
    "    del chip, row_indexer_handle, column_indexer_handle"
   ]
  },
  {
   "attachments": {},
   "cell_type": "markdown",
   "metadata": {},
   "source": [
    "# Calibrate PLL"
   ]
  },
  {
   "cell_type": "code",
   "execution_count": null,
   "metadata": {},
   "outputs": [],
   "source": [
    "for chip_address in chip_addresses[:]:\n",
    "    i2c_conn.calibratePLL(chip_address, chip=None)"
   ]
  },
  {
   "attachments": {},
   "cell_type": "markdown",
   "metadata": {},
   "source": [
    "# Calibrate FC for all I2C"
   ]
  },
  {
   "cell_type": "code",
   "execution_count": null,
   "metadata": {},
   "outputs": [],
   "source": [
    "for chip_address in chip_addresses[:]:\n",
    "    i2c_conn.asyResetGlobalReadout(chip_address, chip=None)\n",
    "    i2c_conn.asyAlignFastcommand(chip_address, chip=None)"
   ]
  },
  {
   "attachments": {},
   "cell_type": "markdown",
   "metadata": {},
   "source": [
    "# Run One Time DAQ to Set FPGA Firmware"
   ]
  },
  {
   "cell_type": "code",
   "execution_count": null,
   "metadata": {},
   "outputs": [],
   "source": [
    "parser = parser_arguments.create_parser()\n",
    "(options, args) = parser.parse_args(args=f\"-f --useIPC --hostname {hostname} -t 15 -o clear_fifo -v -w -s 0x0000 -p {polarity} -d 0x1800 -a 0x0011 --clear_fifo --clear_error\".split())\n",
    "IPC_queue = multiprocessing.Queue()\n",
    "process = multiprocessing.Process(target=run_script.main_process, args=(IPC_queue, options, None))\n",
    "process.start()\n",
    "\n",
    "IPC_queue.put('memoFC Start Triggerbit QInj L1A BCR')\n",
    "while not IPC_queue.empty():\n",
    "    pass\n",
    "time.sleep(10)\n",
    "IPC_queue.put('stop DAQ')\n",
    "IPC_queue.put('memoFC Triggerbit')\n",
    "while not IPC_queue.empty():\n",
    "    pass\n",
    "IPC_queue.put('allow threads to exit')\n",
    "process.join()\n",
    "\n",
    "del IPC_queue, process, parser"
   ]
  },
  {
   "cell_type": "markdown",
   "metadata": {},
   "source": [
    "#### Without clear_fifo"
   ]
  },
  {
   "cell_type": "code",
   "execution_count": null,
   "metadata": {},
   "outputs": [],
   "source": [
    "# os.system(\"rm -r ../ETROC-Data/2023-11-02_Array_Test_Results/CanBeRemoved_Board0_NoLinkCheck/\")\n",
    "parser = parser_arguments.create_parser()\n",
    "(options, args) = parser.parse_args(args=f\"-f --useIPC --hostname {hostname} -t 15 -o CanBeRemoved_Board013_NoLinkCheck -v -w -s 0x0000 -p {polarity} -d 0xb800 -a 0x00bb --check_valid_data_start\".split())\n",
    "IPC_queue = multiprocessing.Queue()\n",
    "# process = multiprocessing.Process(target=run_script.main_process, args=(IPC_queue, options, f'main_process_Start_LEDs_Board013_NoLinkCheck'))\n",
    "process = multiprocessing.Process(target=run_script.main_process, args=(IPC_queue, options, None))\n",
    "process.start()\n",
    "\n",
    "IPC_queue.put('memoFC Start Triggerbit QInj L1A BCR')\n",
    "while not IPC_queue.empty():\n",
    "    pass\n",
    "time.sleep(10)\n",
    "IPC_queue.put('stop DAQ')\n",
    "IPC_queue.put('memoFC Triggerbit')\n",
    "while not IPC_queue.empty():\n",
    "    pass\n",
    "IPC_queue.put('allow threads to exit')\n",
    "process.join()\n",
    "\n",
    "del IPC_queue, process, parser"
   ]
  },
  {
   "cell_type": "code",
   "execution_count": null,
   "metadata": {},
   "outputs": [],
   "source": []
  },
  {
   "cell_type": "markdown",
   "metadata": {},
   "source": [
    "## Run DAQ with Self-Trigger"
   ]
  },
  {
   "cell_type": "markdown",
   "metadata": {},
   "source": [
    "### Find the right delay (use the middle of the three success modes, where both Qinj eges are caught)"
   ]
  },
  {
   "cell_type": "code",
   "execution_count": null,
   "metadata": {},
   "outputs": [],
   "source": [
    "for inum in range(482, 489, 1):\n",
    "    trigger_bit_delay = inum\n",
    "    print(inum)\n",
    "    parser = parser_arguments.create_parser()\n",
    "    (options, args) = parser.parse_args(args=f\"-f --useIPC --hostname {hostname} -t 20 -o CanBeRemoved_Board0_LinkCheck_selfTrigger_delay{inum} -v -w -s 0x0000 -p {polarity} -d {int('000111'+format(inum, '010b'), base=2)} -a 0x00bb\".split())\n",
    "    IPC_queue = multiprocessing.Queue()\n",
    "    process = multiprocessing.Process(target=run_script.main_process, args=(IPC_queue, options, f'main_process_Start_LEDs_Board0_LinkCheck_selfTrigger_delay{inum}'))\n",
    "    process.start()\n",
    "\n",
    "    IPC_queue.put('memoFC Start Triggerbit QInj BCR')\n",
    "    while not IPC_queue.empty():\n",
    "        pass\n",
    "    time.sleep(10)\n",
    "    IPC_queue.put('stop DAQ')\n",
    "    IPC_queue.put('memoFC Triggerbit')\n",
    "    while not IPC_queue.empty():\n",
    "        pass\n",
    "    IPC_queue.put('allow threads to exit')\n",
    "    process.join()\n",
    "\n",
    "    del IPC_queue, process, parser"
   ]
  },
  {
   "cell_type": "code",
   "execution_count": null,
   "metadata": {},
   "outputs": [],
   "source": [
    "trigger_bit_delay = int('000111'+format(485, '010b'), base=2)\n",
    "print(hex(trigger_bit_delay))"
   ]
  },
  {
   "cell_type": "code",
   "execution_count": null,
   "metadata": {},
   "outputs": [],
   "source": [
    "trigger_bit_delay = int('000111'+format(485, '010b'), base=2)\n",
    "trigger_bit_delay = 0x1de5\n",
    "parser = parser_arguments.create_parser()\n",
    "(options, args) = parser.parse_args(args=f\"-f --useIPC --hostname {hostname} -t 30 -o CanBeRemoved_Board0_selfTrigger -v -w -s 0x0000 -p {polarity} -d {trigger_bit_delay} -a 0x0011\".split())\n",
    "IPC_queue = multiprocessing.Queue()\n",
    "process = multiprocessing.Process(target=run_script.main_process, args=(IPC_queue, options, f'main_process_Start_LEDs_Board0_selfTrigger'))\n",
    "process.start()\n",
    "\n",
    "IPC_queue.put('memoFC Start Triggerbit QInj BCR')\n",
    "while not IPC_queue.empty():\n",
    "    pass\n",
    "time.sleep(20)\n",
    "IPC_queue.put('stop DAQ')\n",
    "IPC_queue.put('memoFC Triggerbit')\n",
    "while not IPC_queue.empty():\n",
    "    pass\n",
    "IPC_queue.put('allow threads to exit')\n",
    "process.join()\n",
    "\n",
    "del IPC_queue, process, parser"
   ]
  },
  {
   "cell_type": "code",
   "execution_count": null,
   "metadata": {},
   "outputs": [],
   "source": [
    "trigger_bit_delay = int('001011'+format(485, '010b'), base=2)\n",
    "parser = parser_arguments.create_parser()\n",
    "(options, args) = parser.parse_args(args=f\"-f --useIPC --hostname {hostname} -t 30 -o CanBeRemoved_Board1_selfTrigger -v -w -s 0x0000 -p {polarity} -d {trigger_bit_delay} -a 0x00bb\".split())\n",
    "IPC_queue = multiprocessing.Queue()\n",
    "process = multiprocessing.Process(target=run_script.main_process, args=(IPC_queue, options, f'main_process_Start_LEDs_Board0_selfTrigger'))\n",
    "process.start()\n",
    "\n",
    "IPC_queue.put('memoFC Start Triggerbit QInj BCR')\n",
    "while not IPC_queue.empty():\n",
    "    pass\n",
    "time.sleep(20)\n",
    "IPC_queue.put('stop DAQ')\n",
    "IPC_queue.put('memoFC Triggerbit')\n",
    "while not IPC_queue.empty():\n",
    "    pass\n",
    "IPC_queue.put('allow threads to exit')\n",
    "process.join()\n",
    "\n",
    "del IPC_queue, process, parser"
   ]
  },
  {
   "cell_type": "code",
   "execution_count": null,
   "metadata": {},
   "outputs": [],
   "source": [
    "trigger_bit_delay = int('100011'+format(485, '010b'), base=2)\n",
    "parser = parser_arguments.create_parser()\n",
    "(options, args) = parser.parse_args(args=f\"-f --useIPC --hostname {hostname} -t 30 -o CanBeRemoved_Board3_selfTrigger -v -w -s 0x0000 -p {polarity} -d {trigger_bit_delay} -a 0x00bb\".split())\n",
    "IPC_queue = multiprocessing.Queue()\n",
    "process = multiprocessing.Process(target=run_script.main_process, args=(IPC_queue, options, f'main_process_Start_LEDs_Board0_selfTrigger'))\n",
    "process.start()\n",
    "\n",
    "IPC_queue.put('memoFC Start Triggerbit QInj BCR')\n",
    "while not IPC_queue.empty():\n",
    "    pass\n",
    "time.sleep(20)\n",
    "IPC_queue.put('stop DAQ')\n",
    "IPC_queue.put('memoFC Triggerbit')\n",
    "while not IPC_queue.empty():\n",
    "    pass\n",
    "IPC_queue.put('allow threads to exit')\n",
    "process.join()\n",
    "\n",
    "del IPC_queue, process, parser"
   ]
  },
  {
   "cell_type": "code",
   "execution_count": null,
   "metadata": {},
   "outputs": [],
   "source": [
    "trigger_bit_delay = int('101011'+format(485, '010b'), base=2)\n",
    "parser = parser_arguments.create_parser()\n",
    "(options, args) = parser.parse_args(args=f\"-f --useIPC --hostname {hostname} -t 30 -o CanBeRemoved_Board13_selfTrigger -v -w -s 0x0000 -p {polarity} -d {trigger_bit_delay} -a 0x00bb\".split())\n",
    "IPC_queue = multiprocessing.Queue()\n",
    "process = multiprocessing.Process(target=run_script.main_process, args=(IPC_queue, options, f'main_process_Start_LEDs_Board0_selfTrigger'))\n",
    "process.start()\n",
    "\n",
    "IPC_queue.put('memoFC Start Triggerbit QInj BCR')\n",
    "while not IPC_queue.empty():\n",
    "    pass\n",
    "time.sleep(20)\n",
    "IPC_queue.put('stop DAQ')\n",
    "IPC_queue.put('memoFC Triggerbit')\n",
    "while not IPC_queue.empty():\n",
    "    pass\n",
    "IPC_queue.put('allow threads to exit')\n",
    "process.join()\n",
    "\n",
    "del IPC_queue, process, parser"
   ]
  },
  {
   "cell_type": "code",
   "execution_count": null,
   "metadata": {},
   "outputs": [],
   "source": [
    "trigger_bit_delay = int('100111'+format(485, '010b'), base=2)\n",
    "parser = parser_arguments.create_parser()\n",
    "(options, args) = parser.parse_args(args=f\"-f --useIPC --hostname {hostname} -t 30 -o CanBeRemoved_Board03_selfTrigger -v -w -s 0x0000 -p {polarity} -d {trigger_bit_delay} -a 0x00bb\".split())\n",
    "IPC_queue = multiprocessing.Queue()\n",
    "process = multiprocessing.Process(target=run_script.main_process, args=(IPC_queue, options, f'main_process_Start_LEDs_Board0_selfTrigger'))\n",
    "process.start()\n",
    "\n",
    "IPC_queue.put('memoFC Start Triggerbit QInj BCR')\n",
    "while not IPC_queue.empty():\n",
    "    pass\n",
    "time.sleep(20)\n",
    "IPC_queue.put('stop DAQ')\n",
    "IPC_queue.put('memoFC Triggerbit')\n",
    "while not IPC_queue.empty():\n",
    "    pass\n",
    "IPC_queue.put('allow threads to exit')\n",
    "process.join()\n",
    "\n",
    "del IPC_queue, process, parser"
   ]
  },
  {
   "cell_type": "code",
   "execution_count": null,
   "metadata": {},
   "outputs": [],
   "source": [
    "trigger_bit_delay = int('001111'+format(485, '010b'), base=2)\n",
    "parser = parser_arguments.create_parser()\n",
    "(options, args) = parser.parse_args(args=f\"-f --useIPC --hostname {hostname} -t 30 -o CanBeRemoved_Board01_selfTrigger -v -w -s 0x0000 -p {polarity} -d {trigger_bit_delay} -a 0x00bb\".split())\n",
    "IPC_queue = multiprocessing.Queue()\n",
    "process = multiprocessing.Process(target=run_script.main_process, args=(IPC_queue, options, f'main_process_Start_LEDs_Board0_selfTrigger'))\n",
    "process.start()\n",
    "\n",
    "IPC_queue.put('memoFC Start Triggerbit QInj BCR')\n",
    "while not IPC_queue.empty():\n",
    "    pass\n",
    "time.sleep(20)\n",
    "IPC_queue.put('stop DAQ')\n",
    "IPC_queue.put('memoFC Triggerbit')\n",
    "while not IPC_queue.empty():\n",
    "    pass\n",
    "IPC_queue.put('allow threads to exit')\n",
    "process.join()\n",
    "\n",
    "del IPC_queue, process, parser"
   ]
  },
  {
   "cell_type": "code",
   "execution_count": null,
   "metadata": {},
   "outputs": [],
   "source": [
    "trigger_bit_delay = int('101111'+format(485, '010b'), base=2)\n",
    "parser = parser_arguments.create_parser()\n",
    "(options, args) = parser.parse_args(args=f\"-f --useIPC --hostname {hostname} -t 30 -o CanBeRemoved_Board013_selfTrigger -v -w -s 0x0000 -p {polarity} -d {trigger_bit_delay} -a 0x00bb --counter_duration 0x0001 --check_valid_data_start\".split())\n",
    "IPC_queue = multiprocessing.Queue()\n",
    "process = multiprocessing.Process(target=run_script.main_process, args=(IPC_queue, options, f'main_process_Start_LEDs_Board0_selfTrigger'))\n",
    "process.start()\n",
    "\n",
    "IPC_queue.put('memoFC Start Triggerbit QInj BCR')\n",
    "while not IPC_queue.empty():\n",
    "    pass\n",
    "time.sleep(20)\n",
    "IPC_queue.put('stop DAQ')\n",
    "IPC_queue.put('memoFC Triggerbit')\n",
    "while not IPC_queue.empty():\n",
    "    pass\n",
    "IPC_queue.put('allow threads to exit')\n",
    "process.join()\n",
    "\n",
    "del IPC_queue, process, parser"
   ]
  },
  {
   "cell_type": "code",
   "execution_count": null,
   "metadata": {},
   "outputs": [],
   "source": []
  },
  {
   "cell_type": "code",
   "execution_count": null,
   "metadata": {},
   "outputs": [],
   "source": [
    "trigger_bit_delay = int('000111'+format(485, '010b'), base=2)\n",
    "parser = parser_arguments.create_parser()\n",
    "(options, args) = parser.parse_args(args=f\"-f --useIPC --hostname {hostname} -t 20 -o CanBeRemoved_Board0_delay0_selfTrigger -v -w -s 0x0000 -p {polarity} -d {trigger_bit_delay} -a 0x00bb --counter_duration 0x0041\".split())\n",
    "IPC_queue = multiprocessing.Queue()\n",
    "process = multiprocessing.Process(target=run_script.main_process, args=(IPC_queue, options, f'main_process_Start_LEDs_Board0_selfTrigger'))\n",
    "process.start()\n",
    "\n",
    "IPC_queue.put('memoFC Start Triggerbit QInj BCR')\n",
    "while not IPC_queue.empty():\n",
    "    pass\n",
    "time.sleep(10)\n",
    "IPC_queue.put('stop DAQ')\n",
    "IPC_queue.put('memoFC Triggerbit')\n",
    "while not IPC_queue.empty():\n",
    "    pass\n",
    "IPC_queue.put('allow threads to exit')\n",
    "process.join()\n",
    "\n",
    "del IPC_queue, process, parser"
   ]
  },
  {
   "cell_type": "code",
   "execution_count": null,
   "metadata": {},
   "outputs": [],
   "source": [
    "trigger_bit_delay = int('001011'+format(485, '010b'), base=2)\n",
    "parser = parser_arguments.create_parser()\n",
    "(options, args) = parser.parse_args(args=f\"-f --useIPC --hostname {hostname} -t 20 -o CanBeRemoved_Board1_delay1_selfTrigger -v -w -s 0x0000 -p {polarity} -d {trigger_bit_delay} -a 0x00bb --counter_duration 0x0081\".split())\n",
    "IPC_queue = multiprocessing.Queue()\n",
    "process = multiprocessing.Process(target=run_script.main_process, args=(IPC_queue, options, f'main_process_Start_LEDs_Board0_selfTrigger'))\n",
    "process.start()\n",
    "\n",
    "IPC_queue.put('memoFC Start Triggerbit QInj BCR')\n",
    "while not IPC_queue.empty():\n",
    "    pass\n",
    "time.sleep(10)\n",
    "IPC_queue.put('stop DAQ')\n",
    "IPC_queue.put('memoFC Triggerbit')\n",
    "while not IPC_queue.empty():\n",
    "    pass\n",
    "IPC_queue.put('allow threads to exit')\n",
    "process.join()\n",
    "\n",
    "del IPC_queue, process, parser"
   ]
  },
  {
   "cell_type": "code",
   "execution_count": null,
   "metadata": {},
   "outputs": [],
   "source": [
    "trigger_bit_delay = int('100011'+format(485, '010b'), base=2)\n",
    "parser = parser_arguments.create_parser()\n",
    "(options, args) = parser.parse_args(args=f\"-f --useIPC --hostname {hostname} -t 20 -o CanBeRemoved_Board3_delay3_selfTrigger -v -w -s 0x0000 -p {polarity} -d {trigger_bit_delay} -a 0x00bb --counter_duration 0x0201\".split())\n",
    "IPC_queue = multiprocessing.Queue()\n",
    "process = multiprocessing.Process(target=run_script.main_process, args=(IPC_queue, options, f'main_process_Start_LEDs_Board0_selfTrigger'))\n",
    "process.start()\n",
    "\n",
    "IPC_queue.put('memoFC Start Triggerbit QInj BCR')\n",
    "while not IPC_queue.empty():\n",
    "    pass\n",
    "time.sleep(10)\n",
    "IPC_queue.put('stop DAQ')\n",
    "IPC_queue.put('memoFC Triggerbit')\n",
    "while not IPC_queue.empty():\n",
    "    pass\n",
    "IPC_queue.put('allow threads to exit')\n",
    "process.join()\n",
    "\n",
    "del IPC_queue, process, parser"
   ]
  },
  {
   "cell_type": "code",
   "execution_count": null,
   "metadata": {},
   "outputs": [],
   "source": [
    "trigger_bit_delay = int('101111'+format(485, '010b'), base=2)\n",
    "parser = parser_arguments.create_parser()\n",
    "(options, args) = parser.parse_args(args=f\"-f --useIPC --hostname {hostname} -t 30 -o CanBeRemoved_Board013_delay0_selfTrigger -v -w -s 0x0000 -p {polarity} -d {trigger_bit_delay} -a 0x00bb --counter_duration 0x0041\".split())\n",
    "IPC_queue = multiprocessing.Queue()\n",
    "process = multiprocessing.Process(target=run_script.main_process, args=(IPC_queue, options, f'main_process_Start_LEDs_Board0_selfTrigger'))\n",
    "process.start()\n",
    "\n",
    "IPC_queue.put('memoFC Start Triggerbit QInj BCR')\n",
    "while not IPC_queue.empty():\n",
    "    pass\n",
    "time.sleep(20)\n",
    "IPC_queue.put('stop DAQ')\n",
    "IPC_queue.put('memoFC Triggerbit')\n",
    "while not IPC_queue.empty():\n",
    "    pass\n",
    "IPC_queue.put('allow threads to exit')\n",
    "process.join()\n",
    "\n",
    "del IPC_queue, process, parser"
   ]
  },
  {
   "cell_type": "markdown",
   "metadata": {},
   "source": [
    "## loop"
   ]
  },
  {
   "cell_type": "code",
   "execution_count": null,
   "metadata": {},
   "outputs": [],
   "source": [
    "trigger_bit_delay = int('101011'+format(485, '010b'), base=2)\n",
    "total_time = 60 # 5.5 * 60 * 60  # Time in seconds for overall run\n",
    "daq_time = 60  # Time in seconds for data taking process\n",
    "process_time = daq_time + 10\n",
    "iterations = ceil(total_time/process_time)\n",
    "\n",
    "\n",
    "for it in range(iterations):\n",
    "    parser = parser_arguments.create_parser()\n",
    "    (options, args) = parser.parse_args(args=f\"-f --useIPC --hostname {hostname} -t {process_time} -o SelfTrigger_source_testing_loop_{it} -v -w -s 0x0000 -p {polarity} -d {trigger_bit_delay} -a 0x00bb --counter_duration 0x0001 --skip_binary\".split())\n",
    "    IPC_queue = multiprocessing.Queue()\n",
    "    process = multiprocessing.Process(target=run_script.main_process, args=(IPC_queue, options, f'main_process_SelfTrigger_source_testing_loop_{it}'))\n",
    "    process.start()\n",
    "\n",
    "    IPC_queue.put('memoFC Start Triggerbit BCR')\n",
    "    while not IPC_queue.empty():\n",
    "        pass\n",
    "    time.sleep(daq_time)\n",
    "    IPC_queue.put('stop DAQ')\n",
    "    IPC_queue.put('memoFC Triggerbit')\n",
    "    while not IPC_queue.empty():\n",
    "        pass\n",
    "    IPC_queue.put('allow threads to exit')\n",
    "    process.join()\n",
    "\n",
    "    del IPC_queue, process, parser"
   ]
  },
  {
   "cell_type": "code",
   "execution_count": null,
   "metadata": {},
   "outputs": [],
   "source": []
  },
  {
   "cell_type": "markdown",
   "metadata": {},
   "source": [
    "# Disconnect I2C Device"
   ]
  },
  {
   "cell_type": "code",
   "execution_count": null,
   "metadata": {},
   "outputs": [],
   "source": [
    "del i2c_conn"
   ]
  }
 ],
 "metadata": {
  "kernelspec": {
   "display_name": "Python 3",
   "language": "python",
   "name": "python3"
  },
  "language_info": {
   "codemirror_mode": {
    "name": "ipython",
    "version": 3
   },
   "file_extension": ".py",
   "mimetype": "text/x-python",
   "name": "python",
   "nbconvert_exporter": "python",
   "pygments_lexer": "ipython3",
   "version": "3.9.16"
  },
  "orig_nbformat": 4
 },
 "nbformat": 4,
 "nbformat_minor": 2
}
