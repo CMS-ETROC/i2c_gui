{
 "cells": [
  {
   "cell_type": "code",
   "execution_count": null,
   "metadata": {},
   "outputs": [],
   "source": [
    "#############################################################################\n",
    "# zlib License\n",
    "#\n",
    "# (C) 2023 Zach Flowers, Murtaza Safdari <musafdar@cern.ch>\n",
    "#\n",
    "# This software is provided 'as-is', without any express or implied\n",
    "# warranty.  In no event will the authors be held liable for any damages\n",
    "# arising from the use of this software.\n",
    "#\n",
    "# Permission is granted to anyone to use this software for any purpose,\n",
    "# including commercial applications, and to alter it and redistribute it\n",
    "# freely, subject to the following restrictions:\n",
    "#\n",
    "# 1. The origin of this software must not be misrepresented; you must not\n",
    "#    claim that you wrote the original software. If you use this software\n",
    "#    in a product, an acknowledgment in the product documentation would be\n",
    "#    appreciated but is not required.\n",
    "# 2. Altered source versions must be plainly marked as such, and must not be\n",
    "#    misrepresented as being the original software.\n",
    "# 3. This notice may not be removed or altered from any source distribution.\n",
    "#############################################################################"
   ]
  },
  {
   "attachments": {},
   "cell_type": "markdown",
   "metadata": {},
   "source": [
    "# Imports"
   ]
  },
  {
   "cell_type": "code",
   "execution_count": null,
   "metadata": {},
   "outputs": [],
   "source": [
    "#%%\n",
    "%matplotlib inline\n",
    "import matplotlib.pyplot as plt\n",
    "import logging\n",
    "import i2c_gui\n",
    "import i2c_gui.chips\n",
    "from i2c_gui.usb_iss_helper import USB_ISS_Helper\n",
    "from i2c_gui.fpga_eth_helper import FPGA_ETH_Helper\n",
    "import numpy as np\n",
    "from mpl_toolkits.axes_grid1 import make_axes_locatable\n",
    "# import time\n",
    "from tqdm import tqdm\n",
    "# from i2c_gui.chips.etroc2_chip import register_decoding\n",
    "import os, sys\n",
    "import multiprocessing\n",
    "os.chdir(f'/home/{os.getlogin()}/ETROC/ETROC_DAQ')\n",
    "import run_script\n",
    "import importlib\n",
    "importlib.reload(run_script)\n",
    "import datetime\n",
    "import pandas\n",
    "from pathlib import Path\n",
    "import subprocess\n",
    "import sqlite3\n",
    "from notebooks.notebook_helpers import *\n",
    "from fnmatch import fnmatch"
   ]
  },
  {
   "attachments": {},
   "cell_type": "markdown",
   "metadata": {},
   "source": [
    "# Set defaults"
   ]
  },
  {
   "cell_type": "code",
   "execution_count": null,
   "metadata": {},
   "outputs": [],
   "source": [
    "# !!!!!!!!!!!!\n",
    "# It is very important to correctly set the chip name, this value is stored with the data\n",
    "chip_names = [\"ET2_W42_IP5_14\"]\n",
    "chip_fignames = chip_names\n",
    "chip_figtitles = chip_names\n",
    "\n",
    "# 'The port name the USB-ISS module is connected to. Default: COM3'\n",
    "port = \"/dev/ttyACM1\"\n",
    "# I2C addresses for the pixel block and WS\n",
    "chip_addresses = [0x61]\n",
    "ws_addresses = [None, None, None]\n",
    "\n",
    "# i2c_gui.__no_connect__ = False  # Set to fake connecting to an ETROC2 device\n",
    "# i2c_gui.__no_connect_type__ = \"echo\"  # for actually testing readback\n",
    "# #i2c_gui.__no_connect_type__ = \"check\"  # default behaviour\n",
    "\n",
    "hostname = \"192.168.2.7\"\n",
    "\n",
    "fig_outdir = Path('../ETROC-figures')\n",
    "fig_outdir = fig_outdir / (datetime.date.today().isoformat() + '_Array_Test_Results')\n",
    "fig_outdir.mkdir(exist_ok=True)\n",
    "fig_path = str(fig_outdir)"
   ]
  },
  {
   "attachments": {},
   "cell_type": "markdown",
   "metadata": {},
   "source": [
    "# Make i2c_connection class object"
   ]
  },
  {
   "cell_type": "code",
   "execution_count": null,
   "metadata": {},
   "outputs": [],
   "source": [
    "# i2c_conn = self, port, chip_addresses, chip_names, chip_fc_delays\n",
    "i2c_conn = i2c_connection(port,chip_addresses,chip_names,[(\"1\",\"1\"), (\"1\",\"1\"), (\"1\",\"1\")])"
   ]
  },
  {
   "attachments": {},
   "cell_type": "markdown",
   "metadata": {},
   "source": [
    "# Config chips"
   ]
  },
  {
   "attachments": {},
   "cell_type": "markdown",
   "metadata": {},
   "source": [
    "### Key is (Disable Pixels, Auto Cal, Chip Peripherals, Basic Peri Reg Check, Pixel Check)"
   ]
  },
  {
   "cell_type": "code",
   "execution_count": null,
   "metadata": {},
   "outputs": [],
   "source": [
    "# 0 - 0 - 0 - disable / default all pixels - auto_TH_CAL - set basic peripherals - peripheral reg check -  pixel ID check\n",
    "i2c_conn.config_chips('00100111')"
   ]
  },
  {
   "attachments": {},
   "cell_type": "markdown",
   "metadata": {},
   "source": [
    "## Visualize the learned Baselines (BL) and Noise Widths (NW)\n",
    "\n",
    "Note that the NW represents the full width on either side of the BL"
   ]
  },
  {
   "cell_type": "code",
   "execution_count": null,
   "metadata": {},
   "outputs": [],
   "source": [
    "#%%\n",
    "%matplotlib inline\n",
    "import matplotlib.pyplot as plt"
   ]
  },
  {
   "cell_type": "code",
   "execution_count": null,
   "metadata": {},
   "outputs": [],
   "source": [
    "# from mpl_toolkits.axes_grid1 import make_axes_locatable\n",
    "for chip_address, chip_name in zip(chip_addresses,chip_names):\n",
    "    BL_map_THCal,NW_map_THCal,BL_df = i2c_conn.get_auto_cal_maps(chip_address)\n",
    "    fig = plt.figure(dpi=200, figsize=(10,10))\n",
    "    gs = fig.add_gridspec(1,2)\n",
    "\n",
    "    ax0 = fig.add_subplot(gs[0,0])\n",
    "    ax0.set_title(f\"{chip_name}: BL (DAC LSB)\")\n",
    "    img0 = ax0.imshow(BL_map_THCal, interpolation='none')\n",
    "    ax0.set_aspect(\"equal\")\n",
    "    ax0.invert_xaxis()\n",
    "    ax0.invert_yaxis()\n",
    "    plt.xticks(range(16), range(16), rotation=\"vertical\")\n",
    "    plt.yticks(range(16), range(16))\n",
    "    divider = make_axes_locatable(ax0)\n",
    "    cax = divider.append_axes('right', size=\"5%\", pad=0.05)\n",
    "    fig.colorbar(img0, cax=cax, orientation=\"vertical\")\n",
    "\n",
    "    ax1 = fig.add_subplot(gs[0,1])\n",
    "    ax1.set_title(f\"{chip_name}: NW (DAC LSB)\")\n",
    "    img1 = ax1.imshow(NW_map_THCal, interpolation='none')\n",
    "    ax1.set_aspect(\"equal\")\n",
    "    ax1.invert_xaxis()\n",
    "    ax1.invert_yaxis()\n",
    "    plt.xticks(range(16), range(16), rotation=\"vertical\")\n",
    "    plt.yticks(range(16), range(16))\n",
    "    divider = make_axes_locatable(ax1)\n",
    "    cax = divider.append_axes('right', size=\"5%\", pad=0.05)\n",
    "    fig.colorbar(img1, cax=cax, orientation=\"vertical\")\n",
    "\n",
    "    for x in range(16):\n",
    "        for y in range(16):\n",
    "            # if(BL_map_THCal.T[x,y]==0): continue\n",
    "            ax0.text(x,y,f\"{BL_map_THCal.T[x,y]:.0f}\", c=\"white\", size=5, rotation=45, fontweight=\"bold\", ha=\"center\", va=\"center\")\n",
    "            ax1.text(x,y,f\"{NW_map_THCal.T[x,y]:.0f}\", c=\"white\", size=5, rotation=45, fontweight=\"bold\", ha=\"center\", va=\"center\")\n",
    "    plt.show()\n",
    "    # plt.savefig(fig_path+\"/BL_NW_\"+chip_figname+\"_\"+datetime.datetime.now().strftime(\"%Y-%m-%d_%H-%M\")+\".png\")"
   ]
  },
  {
   "cell_type": "markdown",
   "metadata": {},
   "source": [
    "### Save auto cal maps to be loaded later"
   ]
  },
  {
   "cell_type": "code",
   "execution_count": null,
   "metadata": {},
   "outputs": [],
   "source": [
    "for chip_address, chip_name in zip(chip_addresses, chip_names):\n",
    "    i2c_conn.save_auto_cal_BL_map(chip_address, chip_name, \"\")\n",
    "    i2c_conn.save_auto_cal_NW_map(chip_address, chip_name, \"\")"
   ]
  },
  {
   "cell_type": "markdown",
   "metadata": {},
   "source": [
    "### Load auto cal maps"
   ]
  },
  {
   "cell_type": "code",
   "execution_count": null,
   "metadata": {},
   "outputs": [],
   "source": [
    "for chip_address, chip_name in zip(chip_addresses, chip_names):\n",
    "    i2c_conn.load_auto_cal_BL_map(chip_address, chip_name, \"\")\n",
    "    i2c_conn.load_auto_cal_NW_map(chip_address, chip_name, \"\")"
   ]
  },
  {
   "cell_type": "markdown",
   "metadata": {},
   "source": [
    "### Configure chip(s) after loading maps"
   ]
  },
  {
   "cell_type": "code",
   "execution_count": null,
   "metadata": {},
   "outputs": [],
   "source": [
    "# 0 - 0 - 0 - disable / default all pixels - auto_TH_CAL - set basic peripherals - peripheral reg check -  pixel ID check\n",
    "# i2c_conn.config_chips('00010111')"
   ]
  },
  {
   "cell_type": "code",
   "execution_count": null,
   "metadata": {},
   "outputs": [],
   "source": [
    "# for chip_address in chip_addresses:\n",
    "#     i2c_conn.onchipL1A(chip_address, comm='00')"
   ]
  },
  {
   "cell_type": "code",
   "execution_count": null,
   "metadata": {},
   "outputs": [],
   "source": [
    "# for chip_address in chip_addresses:\n",
    "#     i2c_conn.asyAlignFastcommand(chip_address)"
   ]
  },
  {
   "attachments": {},
   "cell_type": "markdown",
   "metadata": {},
   "source": [
    "# Define pixels of interest"
   ]
  },
  {
   "cell_type": "code",
   "execution_count": null,
   "metadata": {},
   "outputs": [],
   "source": [
    "row_list = [14, 14, 14, 14]\n",
    "col_list = [6, 7, 8, 9]\n",
    "# row_list = [14, 14, 15, 15]\n",
    "# col_list = [6, 9, 6, 9]\n",
    "\n",
    "scan_list = list(zip(row_list, col_list))\n",
    "print(scan_list)"
   ]
  },
  {
   "attachments": {},
   "cell_type": "markdown",
   "metadata": {},
   "source": [
    "# Enable pixels of Interest"
   ]
  },
  {
   "cell_type": "code",
   "execution_count": null,
   "metadata": {},
   "outputs": [],
   "source": [
    "i2c_conn.enable_select_pixels_in_chips(scan_list)"
   ]
  },
  {
   "cell_type": "code",
   "execution_count": null,
   "metadata": {},
   "outputs": [],
   "source": [
    "for chip_address in chip_addresses[:]:\n",
    "    chip = i2c_conn.get_chip_i2c_connection(chip_address)\n",
    "    row_indexer_handle,_,_ = chip.get_indexer(\"row\")\n",
    "    column_indexer_handle,_,_ = chip.get_indexer(\"column\")\n",
    "    for row, col in scan_list:\n",
    "        print(f\"Operating on chip {hex(chip_address)} Pixel ({row},{col})\")\n",
    "        column_indexer_handle.set(col)\n",
    "        row_indexer_handle.set(row)    \n",
    "        i2c_conn.pixel_decoded_register_write(\"QSel\", format(0x14, '05b'), chip)\n",
    "        i2c_conn.pixel_decoded_register_write(\"TH_offset\", format(0x15, '06b'), chip)"
   ]
  },
  {
   "attachments": {},
   "cell_type": "markdown",
   "metadata": {},
   "source": [
    "### Disable Pixels of Interest"
   ]
  },
  {
   "cell_type": "code",
   "execution_count": null,
   "metadata": {},
   "outputs": [],
   "source": [
    "for chip_address in chip_addresses[:]:\n",
    "    chip = i2c_conn.get_chip_i2c_connection(chip_address)\n",
    "    row_indexer_handle,_,_ = chip.get_indexer(\"row\")\n",
    "    column_indexer_handle,_,_ = chip.get_indexer(\"column\")\n",
    "    for row, col in scan_list:\n",
    "        print(f\"Disabling Pixel ({row},{col}) for chip {hex(chip_address)} \")\n",
    "        column_indexer_handle.set(col)\n",
    "        row_indexer_handle.set(row)    \n",
    "        i2c_conn.pixel_decoded_register_write(\"disDataReadout\", \"1\", chip)\n",
    "        i2c_conn.pixel_decoded_register_write(\"QInjEn\", \"0\", chip)\n",
    "        i2c_conn.pixel_decoded_register_write(\"disTrigPath\", \"1\", chip)"
   ]
  },
  {
   "attachments": {},
   "cell_type": "markdown",
   "metadata": {},
   "source": [
    "# Calibrate PLL"
   ]
  },
  {
   "cell_type": "code",
   "execution_count": null,
   "metadata": {},
   "outputs": [],
   "source": [
    "for chip_address in chip_addresses[:]:\n",
    "    print(f\"Calibrating PLL for chip {hex(chip_address)} \")\n",
    "    chip = i2c_conn.get_chip_i2c_connection(chip_address)\n",
    "    i2c_conn.peripheral_decoded_register_write(\"asyPLLReset\", \"0\", chip)\n",
    "    time.sleep(0.2)\n",
    "    i2c_conn.peripheral_decoded_register_write(\"asyPLLReset\", \"1\", chip)\n",
    "    i2c_conn.peripheral_decoded_register_write(\"asyStartCalibration\", \"0\", chip)\n",
    "    time.sleep(0.2)\n",
    "    i2c_conn.peripheral_decoded_register_write(\"asyStartCalibration\", \"1\", chip)"
   ]
  },
  {
   "attachments": {},
   "cell_type": "markdown",
   "metadata": {},
   "source": [
    "# Calibrate FC"
   ]
  },
  {
   "cell_type": "code",
   "execution_count": null,
   "metadata": {},
   "outputs": [],
   "source": [
    "for chip_address in chip_addresses[:]:\n",
    "    print(f\"Calibrating FC for chip {hex(chip_address)} \")\n",
    "    chip = i2c_conn.get_chip_i2c_connection(chip_address)\n",
    "    i2c_conn.peripheral_decoded_register_write(\"asyResetGlobalReadout\", \"0\", chip)\n",
    "    time.sleep(0.2)\n",
    "    i2c_conn.peripheral_decoded_register_write(\"asyResetGlobalReadout\", \"1\", chip)\n",
    "    i2c_conn.peripheral_decoded_register_write(\"asyAlignFastcommand\", \"1\", chip)\n",
    "    time.sleep(0.2)\n",
    "    i2c_conn.peripheral_decoded_register_write(\"asyAlignFastcommand\", \"0\", chip)"
   ]
  },
  {
   "attachments": {},
   "cell_type": "markdown",
   "metadata": {},
   "source": [
    "# Did you make sure your ethernet port is on and you can ping your FPGA?"
   ]
  },
  {
   "attachments": {},
   "cell_type": "markdown",
   "metadata": {},
   "source": [
    "# Run One Time DAQ to Set FPGA Firmware"
   ]
  },
  {
   "attachments": {},
   "cell_type": "markdown",
   "metadata": {},
   "source": [
    "#### No Self Trigger"
   ]
  },
  {
   "cell_type": "code",
   "execution_count": null,
   "metadata": {},
   "outputs": [],
   "source": [
    "parser = run_script.getOptionParser()\n",
    "(options, args) = parser.parse_args(args=f\"-f --useIPC --hostname 192.168.2.7 -t 10 -o CanBeRemoved_Board0_NoLinkCheck -v -w -s 0x0000 -p 0x000f -d 0x1800 -a 0x0011 --clear_fifo\".split())\n",
    "IPC_queue = multiprocessing.Queue()\n",
    "process = multiprocessing.Process(target=run_script.main_process, args=(IPC_queue, options, f'main_process_Start_LEDs_Board0_NoLinkCheck'))\n",
    "process.start()\n",
    "\n",
    "IPC_queue.put('start L1A trigger bit')\n",
    "while not IPC_queue.empty():\n",
    "    pass\n",
    "time.sleep(5)\n",
    "IPC_queue.put('stop DAQ')\n",
    "IPC_queue.put('stop L1A trigger bit')\n",
    "while not IPC_queue.empty():\n",
    "    pass\n",
    "IPC_queue.put('allow threads to exit')\n",
    "process.join()"
   ]
  },
  {
   "cell_type": "markdown",
   "metadata": {},
   "source": [
    "#### Test Linking"
   ]
  },
  {
   "cell_type": "code",
   "execution_count": null,
   "metadata": {},
   "outputs": [],
   "source": [
    "parser = run_script.getOptionParser()\n",
    "(options, args) = parser.parse_args(args=f\"--useIPC --reset_all_till_trigger_linked --hostname 192.168.2.7 -t 10 -o CanBeRemoved_Board0_LinkCheck -v -w\".split())\n",
    "IPC_queue = multiprocessing.Queue()\n",
    "process = multiprocessing.Process(target=run_script.main_process, args=(IPC_queue, options, f'main_process_Start_LEDs_Board0_LinkCheck'))\n",
    "process.start()\n",
    "\n",
    "IPC_queue.put('start L1A trigger bit')\n",
    "while not IPC_queue.empty():\n",
    "    pass\n",
    "time.sleep(5)\n",
    "IPC_queue.put('stop DAQ')\n",
    "IPC_queue.put('stop L1A trigger bit')\n",
    "while not IPC_queue.empty():\n",
    "    pass\n",
    "IPC_queue.put('allow threads to exit')\n",
    "process.join()"
   ]
  },
  {
   "attachments": {},
   "cell_type": "markdown",
   "metadata": {},
   "source": [
    "### Self Trigger"
   ]
  },
  {
   "attachments": {},
   "cell_type": "markdown",
   "metadata": {},
   "source": [
    "#### With Qinj"
   ]
  },
  {
   "cell_type": "code",
   "execution_count": null,
   "metadata": {},
   "outputs": [],
   "source": [
    "trigger_bit_delay = int('000111'+format(485,'010b'), base=2)\n",
    "parser = run_script.getOptionParser()\n",
    "(options, args) = parser.parse_args(args=f\"-f --useIPC --reset_all_till_trigger_linked --hostname 192.168.2.7 -t 20 -o CanBeRemoved_Board0_LinkCheck_SelfTrigger -v -w -s 0x0000 -p 0x000f -d {trigger_bit_delay} -a 0x0011\".split())\n",
    "IPC_queue = multiprocessing.Queue()\n",
    "process = multiprocessing.Process(target=run_script.main_process, args=(IPC_queue, options, f'main_process_Start_LEDs_Board0_LinkCheck_SelfTrigger'))\n",
    "process.start()\n",
    "\n",
    "IPC_queue.put('memoFC Start Triggerbit QInj BCR')\n",
    "while not IPC_queue.empty():\n",
    "    pass\n",
    "time.sleep(10)\n",
    "IPC_queue.put('stop DAQ')\n",
    "IPC_queue.put('memoFC Triggerbit')\n",
    "while not IPC_queue.empty():\n",
    "    pass\n",
    "IPC_queue.put('allow threads to exit')\n",
    "process.join()"
   ]
  },
  {
   "cell_type": "markdown",
   "metadata": {},
   "source": [
    "longer self trigger QInj run"
   ]
  },
  {
   "cell_type": "code",
   "execution_count": null,
   "metadata": {},
   "outputs": [],
   "source": [
    "trigger_bit_delay = int('000111'+format(485,'010b'), base=2)\n",
    "parser = run_script.getOptionParser()\n",
    "(options, args) = parser.parse_args(args=f\"-f --useIPC --reset_all_till_trigger_linked --hostname 192.168.2.7 -t 190 -o CanBeRemoved_Board0_LinkCheck_SelfTrigger_long -v -w -s 0x0000 -p 0x000f -d {trigger_bit_delay} -a 0x0011 --skip_binary\".split())\n",
    "IPC_queue = multiprocessing.Queue()\n",
    "process = multiprocessing.Process(target=run_script.main_process, args=(IPC_queue, options, f'main_process_Start_LEDs_Board0_LinkCheck_SelfTrigger_long'))\n",
    "process.start()\n",
    "\n",
    "IPC_queue.put('memoFC Start Triggerbit QInj BCR')\n",
    "while not IPC_queue.empty():\n",
    "    pass\n",
    "time.sleep(180)\n",
    "IPC_queue.put('stop DAQ')\n",
    "IPC_queue.put('memoFC Triggerbit')\n",
    "while not IPC_queue.empty():\n",
    "    pass\n",
    "IPC_queue.put('allow threads to exit')\n",
    "process.join()"
   ]
  },
  {
   "cell_type": "markdown",
   "metadata": {},
   "source": [
    "#### Loop"
   ]
  },
  {
   "cell_type": "code",
   "execution_count": null,
   "metadata": {},
   "outputs": [],
   "source": [
    "for attempt in tqdm(range(100)):\n",
    "    for row, col in scan_list:\n",
    "        i2c_conn.auto_cal_pixel(chip_name=chip_names[0], row=row, col=col, verbose=False, chip_address=chip_addresses[0], chip=None, data=None, row_indexer_handle=None, column_indexer_handle=None)\n",
    "    parser = run_script.getOptionParser()\n",
    "    (options, args) = parser.parse_args(args=f\"--useIPC --reset_all_till_trigger_linked --hostname 192.168.2.7 -t 8 -o CanBeRemoved_Board0_LinkCheck_SelfTrigger -v -w\".split())\n",
    "    IPC_queue = multiprocessing.Queue()\n",
    "    process = multiprocessing.Process(target=run_script.main_process, args=(IPC_queue, options, f'main_process_Start_LEDs_Board0_LinkCheck_SelfTrigger'))\n",
    "    process.start()\n",
    "\n",
    "    IPC_queue.put('memoFC Start Triggerbit QInj')\n",
    "    while not IPC_queue.empty():\n",
    "        pass\n",
    "    time.sleep(4)\n",
    "    IPC_queue.put('stop DAQ')\n",
    "    IPC_queue.put('memoFC Triggerbit')\n",
    "    while not IPC_queue.empty():\n",
    "        pass\n",
    "    IPC_queue.put('allow threads to exit')\n",
    "    process.join()"
   ]
  },
  {
   "attachments": {},
   "cell_type": "markdown",
   "metadata": {},
   "source": [
    "#### Without QInj"
   ]
  },
  {
   "cell_type": "code",
   "execution_count": null,
   "metadata": {},
   "outputs": [],
   "source": [
    "trigger_bit_delay = int('000111'+format(485,'010b'), base=2)\n",
    "parser = run_script.getOptionParser()\n",
    "(options, args) = parser.parse_args(args=f\"-f --useIPC --reset_all_till_trigger_linked --hostname 192.168.2.7 -t 20 -o CanBeRemoved_Board0_LinkCheck_SelfTrigger -v -w -s 0x0000 -p 0x000f -d {trigger_bit_delay} -a 0x0011\".split())\n",
    "IPC_queue = multiprocessing.Queue()\n",
    "process = multiprocessing.Process(target=run_script.main_process, args=(IPC_queue, options, f'main_process_Start_LEDs_Board0_LinkCheck_SelfTrigger'))\n",
    "process.start()\n",
    "\n",
    "IPC_queue.put('memoFC Start Triggerbit BCR')\n",
    "while not IPC_queue.empty():\n",
    "    pass\n",
    "time.sleep(10)\n",
    "IPC_queue.put('stop DAQ')\n",
    "IPC_queue.put('memoFC Triggerbit')\n",
    "while not IPC_queue.empty():\n",
    "    pass\n",
    "IPC_queue.put('allow threads to exit')\n",
    "process.join()"
   ]
  },
  {
   "cell_type": "markdown",
   "metadata": {},
   "source": [
    "#### Loops"
   ]
  },
  {
   "cell_type": "code",
   "execution_count": null,
   "metadata": {},
   "outputs": [],
   "source": [
    "for attempt in tqdm(range(100)):\n",
    "    parser = run_script.getOptionParser()\n",
    "    (options, args) = parser.parse_args(args=f\"--useIPC --reset_all_till_trigger_linked --hostname 192.168.2.7 -t 6 -o CanBeRemoved_Board0_LinkCheck_SelfTrigger -v -w\".split())\n",
    "    IPC_queue = multiprocessing.Queue()\n",
    "    process = multiprocessing.Process(target=run_script.main_process, args=(IPC_queue, options, f'main_process_Start_LEDs_Board0_LinkCheck_SelfTrigger'))\n",
    "    process.start()\n",
    "\n",
    "    IPC_queue.put('memoFC Start Triggerbit BCR')\n",
    "    while not IPC_queue.empty():\n",
    "        pass\n",
    "    time.sleep(2)\n",
    "    IPC_queue.put('stop DAQ')\n",
    "    IPC_queue.put('memoFC Triggerbit')\n",
    "    while not IPC_queue.empty():\n",
    "        pass\n",
    "    IPC_queue.put('allow threads to exit')\n",
    "    process.join()"
   ]
  },
  {
   "cell_type": "code",
   "execution_count": null,
   "metadata": {},
   "outputs": [],
   "source": [
    "for attempt in tqdm(range(100)):\n",
    "    for row, col in scan_list:\n",
    "        i2c_conn.auto_cal_pixel(chip_name=chip_names[0], row=row, col=col, verbose=False, chip_address=chip_addresses[0], chip=None, data=None, row_indexer_handle=None, column_indexer_handle=None)\n",
    "    parser = run_script.getOptionParser()\n",
    "    (options, args) = parser.parse_args(args=f\"--useIPC --reset_all_till_trigger_linked --hostname 192.168.2.7 -t 6 -o CanBeRemoved_Board0_LinkCheck_SelfTrigger -v -w\".split())\n",
    "    IPC_queue = multiprocessing.Queue()\n",
    "    process = multiprocessing.Process(target=run_script.main_process, args=(IPC_queue, options, f'main_process_Start_LEDs_Board0_LinkCheck_SelfTrigger'))\n",
    "    process.start()\n",
    "\n",
    "    IPC_queue.put('memoFC Start Triggerbit BCR')\n",
    "    while not IPC_queue.empty():\n",
    "        pass\n",
    "    time.sleep(2)\n",
    "    IPC_queue.put('stop DAQ')\n",
    "    IPC_queue.put('memoFC Triggerbit')\n",
    "    while not IPC_queue.empty():\n",
    "        pass\n",
    "    IPC_queue.put('allow threads to exit')\n",
    "    process.join()"
   ]
  },
  {
   "attachments": {},
   "cell_type": "markdown",
   "metadata": {},
   "source": [
    "### Find the right delay (use the middle of the three success modes, where both Qinj eges are caught)"
   ]
  },
  {
   "cell_type": "code",
   "execution_count": null,
   "metadata": {},
   "outputs": [],
   "source": [
    "for inum in range(475, 496, 1):\n",
    "    trigger_bit_delay = inum\n",
    "    print(inum)\n",
    "    parser = run_script.getOptionParser()\n",
    "    (options, args) = parser.parse_args(args=f\"-f --useIPC --reset_all_till_trigger_linked --hostname {hostname} -t 20 -o CanBeRemoved_Board0_LinkCheck_selfTrigger_delay{inum} -v -w --s 0x0000 -p 0x000f -d {int('000111'+format(inum, '010b'), base=2)} -a 0x0011\".split())\n",
    "    IPC_queue = multiprocessing.Queue()\n",
    "    process = multiprocessing.Process(target=run_script.main_process, args=(IPC_queue, options, f'main_process_Start_LEDs_Board0_LinkCheck_selfTrigger_delay{inum}'))\n",
    "    process.start()\n",
    "\n",
    "    IPC_queue.put('memoFC Start Triggerbit QInj BCR')\n",
    "    while not IPC_queue.empty():\n",
    "        pass\n",
    "    time.sleep(10)\n",
    "    IPC_queue.put('stop DAQ')\n",
    "    IPC_queue.put('memoFC Triggerbit')\n",
    "    while not IPC_queue.empty():\n",
    "        pass\n",
    "    IPC_queue.put('allow threads to exit')\n",
    "    process.join()"
   ]
  },
  {
   "cell_type": "markdown",
   "metadata": {},
   "source": [
    "## FPGA Data"
   ]
  },
  {
   "cell_type": "code",
   "execution_count": null,
   "metadata": {},
   "outputs": [],
   "source": [
    "parser = run_script.getOptionParser()\n",
    "(options, args) = parser.parse_args(args=f\"-f --useIPC --hostname {hostname} -o CanBeRemoved_Board0_LinkCheck_FPGAdata -v -w --reset_till_trigger_linked --counter_duration 0x0001 --fpga_data_time_limit 3 --fpga_data --check_trigger_link_at_end --nodaq -s 0x0000 -d 0x0800 -a 0x0011 -p 0x000f\".split())\n",
    "IPC_queue = multiprocessing.Queue()\n",
    "process = multiprocessing.Process(target=run_script.main_process, args=(IPC_queue, options, f'main_process_Board0_LinkCheck_FPGAdata'))\n",
    "process.start()\n",
    "process.join()"
   ]
  },
  {
   "cell_type": "code",
   "execution_count": null,
   "metadata": {},
   "outputs": [],
   "source": [
    "parser = run_script.getOptionParser()\n",
    "(options, args) = parser.parse_args(args=f\"-f --useIPC --hostname {hostname} -o CanBeRemoved_Board0_LinkCheck_FPGAdataQInj -v -w --reset_till_trigger_linked --counter_duration 0x0001 --fpga_data_time_limit 3 --fpga_data_QInj --check_trigger_link_at_end --nodaq -s 0x0000 -d 0x0800 -a 0x0011 -p 0x000f\".split())\n",
    "IPC_queue = multiprocessing.Queue()\n",
    "process = multiprocessing.Process(target=run_script.main_process, args=(IPC_queue, options, f'main_process_Board0_LinkCheck_FPGAdataQInj'))\n",
    "process.start()\n",
    "process.join()"
   ]
  },
  {
   "attachments": {},
   "cell_type": "markdown",
   "metadata": {},
   "source": [
    "# Disconnect I2C Device"
   ]
  },
  {
   "cell_type": "code",
   "execution_count": null,
   "metadata": {},
   "outputs": [],
   "source": []
  },
  {
   "cell_type": "code",
   "execution_count": null,
   "metadata": {},
   "outputs": [],
   "source": [
    "del i2c_conn"
   ]
  },
  {
   "cell_type": "code",
   "execution_count": null,
   "metadata": {},
   "outputs": [],
   "source": []
  }
 ],
 "metadata": {
  "kernelspec": {
   "display_name": "Python 3",
   "language": "python",
   "name": "python3"
  },
  "language_info": {
   "codemirror_mode": {
    "name": "ipython",
    "version": 3
   },
   "file_extension": ".py",
   "mimetype": "text/x-python",
   "name": "python",
   "nbconvert_exporter": "python",
   "pygments_lexer": "ipython3",
   "version": "3.9.16"
  },
  "orig_nbformat": 4
 },
 "nbformat": 4,
 "nbformat_minor": 2
}
