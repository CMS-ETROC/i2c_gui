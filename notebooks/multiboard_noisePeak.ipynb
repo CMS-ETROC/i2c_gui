{
 "cells": [
  {
   "cell_type": "code",
   "execution_count": 1,
   "metadata": {},
   "outputs": [],
   "source": [
    "#############################################################################\n",
    "# zlib License\n",
    "#\n",
    "# (C) 2023 Zach Flowers, Murtaza Safdari <musafdar@cern.ch>\n",
    "#\n",
    "# This software is provided 'as-is', without any express or implied\n",
    "# warranty.  In no event will the authors be held liable for any damages\n",
    "# arising from the use of this software.\n",
    "#\n",
    "# Permission is granted to anyone to use this software for any purpose,\n",
    "# including commercial applications, and to alter it and redistribute it\n",
    "# freely, subject to the following restrictions:\n",
    "#\n",
    "# 1. The origin of this software must not be misrepresented; you must not\n",
    "#    claim that you wrote the original software. If you use this software\n",
    "#    in a product, an acknowledgment in the product documentation would be\n",
    "#    appreciated but is not required.\n",
    "# 2. Altered source versions must be plainly marked as such, and must not be\n",
    "#    misrepresented as being the original software.\n",
    "# 3. This notice may not be removed or altered from any source distribution.\n",
    "#############################################################################"
   ]
  },
  {
   "attachments": {},
   "cell_type": "markdown",
   "metadata": {},
   "source": [
    "# Imports"
   ]
  },
  {
   "cell_type": "code",
   "execution_count": 2,
   "metadata": {},
   "outputs": [],
   "source": [
    "#%%\n",
    "%matplotlib inline\n",
    "import matplotlib.pyplot as plt\n",
    "import logging\n",
    "import i2c_gui\n",
    "import i2c_gui.chips\n",
    "from i2c_gui.usb_iss_helper import USB_ISS_Helper\n",
    "from i2c_gui.fpga_eth_helper import FPGA_ETH_Helper\n",
    "import numpy as np\n",
    "from mpl_toolkits.axes_grid1 import make_axes_locatable\n",
    "# import time\n",
    "from tqdm import tqdm\n",
    "# from i2c_gui.chips.etroc2_chip import register_decoding\n",
    "import os, sys\n",
    "import multiprocessing\n",
    "os.chdir(f'/home/{os.getlogin()}/ETROC2/ETROC_DAQ')\n",
    "import run_script\n",
    "import importlib\n",
    "importlib.reload(run_script)\n",
    "import datetime\n",
    "import pandas\n",
    "from pathlib import Path\n",
    "import subprocess\n",
    "import sqlite3\n",
    "from notebooks.notebook_helpers import *\n",
    "from fnmatch import fnmatch\n",
    "import scipy.stats as stats\n",
    "import hist"
   ]
  },
  {
   "attachments": {},
   "cell_type": "markdown",
   "metadata": {},
   "source": [
    "# Set defaults"
   ]
  },
  {
   "cell_type": "code",
   "execution_count": 3,
   "metadata": {},
   "outputs": [],
   "source": [
    "# !!!!!!!!!!!!\n",
    "# It is very important to correctly set the chip name, this value is stored with the data\n",
    "chip_names = [\"ET2-W36-IP5-20\", \"ET2-W36-IP7-13\", \"ET2-W36-IP7-10\"]\n",
    "# old [\"ET2-W36-IP7-12\", \"ET2-W36-IP5-14\", \"ET2-W36-IP7-10\"]\n",
    "# old [0x78, 0x61, 0x74]\n",
    "# old top modified C type =  ET2-W36-IP5-15\n",
    "# replaced with new type D = ET2-W36-IP7-10\n",
    "chip_fignames = chip_names\n",
    "chip_figtitles = chip_names\n",
    "\n",
    "# 'The port name the USB-ISS module is connected to. Default: COM3'\n",
    "port = \"/dev/ttyACM1\"\n",
    "# I2C addresses for the pixel block and WS\n",
    "chip_addresses = [0x71, 0x61, 0x74]\n",
    "ws_addresses = [None, None, None]\n",
    "\n",
    "# i2c_gui.__no_connect__ = False  # Set to fake connecting to an ETROC2 device\n",
    "# i2c_gui.__no_connect_type__ = \"echo\"  # for actually testing readback\n",
    "# #i2c_gui.__no_connect_type__ = \"check\"  # default behaviour\n",
    "\n",
    "hostname = \"192.168.2.3\"\n",
    "\n",
    "fig_outdir = Path('../ETROC-figures')\n",
    "fig_outdir = fig_outdir / (datetime.date.today().isoformat() + '_Array_Test_Results')\n",
    "fig_outdir.mkdir(exist_ok=True)\n",
    "fig_path = str(fig_outdir)"
   ]
  },
  {
   "attachments": {},
   "cell_type": "markdown",
   "metadata": {},
   "source": [
    "# Make i2c_connection class object"
   ]
  },
  {
   "cell_type": "code",
   "execution_count": 4,
   "metadata": {},
   "outputs": [],
   "source": [
    "# i2c_conn = self, port, chip_addresses, chip_names, chip_fc_delays\n",
    "i2c_conn = i2c_connection(port,chip_addresses,chip_names,[(\"1\",\"1\"), (\"1\",\"1\"), (\"1\",\"1\")])"
   ]
  },
  {
   "attachments": {},
   "cell_type": "markdown",
   "metadata": {},
   "source": [
    "# Config chips"
   ]
  },
  {
   "attachments": {},
   "cell_type": "markdown",
   "metadata": {},
   "source": [
    "### Key is (Disable Pixels, Auto Cal, Chip Peripherals, Basic Peri Reg Check, Pixel Check)"
   ]
  },
  {
   "cell_type": "code",
   "execution_count": null,
   "metadata": {},
   "outputs": [],
   "source": [
    "# 0 - 0 - (disable & auto_cal all pixels) - (auto_TH_CAL) - (disable default all pixels) - (set basic peripherals) - (peripheral reg check) -  (pixel ID check)\n",
    "i2c_conn.config_chips('00001111')"
   ]
  },
  {
   "attachments": {},
   "cell_type": "markdown",
   "metadata": {},
   "source": [
    "## Visualize the learned Baselines (BL) and Noise Widths (NW)\n",
    "\n",
    "Note that the NW represents the full width on either side of the BL"
   ]
  },
  {
   "cell_type": "code",
   "execution_count": 24,
   "metadata": {},
   "outputs": [],
   "source": [
    "#%%\n",
    "%matplotlib inline\n",
    "import matplotlib.pyplot as plt"
   ]
  },
  {
   "cell_type": "code",
   "execution_count": null,
   "metadata": {},
   "outputs": [],
   "source": [
    "# from mpl_toolkits.axes_grid1 import make_axes_locatable\n",
    "for chip_address, chip_name in zip(chip_addresses,chip_names):\n",
    "    BL_map_THCal,NW_map_THCal,BL_df = i2c_conn.get_auto_cal_maps(chip_address)\n",
    "    fig = plt.figure(dpi=200, figsize=(10,10))\n",
    "    gs = fig.add_gridspec(1,2)\n",
    "\n",
    "    ax0 = fig.add_subplot(gs[0,0])\n",
    "    ax0.set_title(f\"{chip_name}: BL (DAC LSB)\")\n",
    "    img0 = ax0.imshow(BL_map_THCal, interpolation='none')\n",
    "    ax0.set_aspect(\"equal\")\n",
    "    ax0.invert_xaxis()\n",
    "    ax0.invert_yaxis()\n",
    "    plt.xticks(range(16), range(16), rotation=\"vertical\")\n",
    "    plt.yticks(range(16), range(16))\n",
    "    divider = make_axes_locatable(ax0)\n",
    "    cax = divider.append_axes('right', size=\"5%\", pad=0.05)\n",
    "    fig.colorbar(img0, cax=cax, orientation=\"vertical\")\n",
    "\n",
    "    ax1 = fig.add_subplot(gs[0,1])\n",
    "    ax1.set_title(f\"{chip_name}: NW (DAC LSB)\")\n",
    "    img1 = ax1.imshow(NW_map_THCal, interpolation='none')\n",
    "    ax1.set_aspect(\"equal\")\n",
    "    ax1.invert_xaxis()\n",
    "    ax1.invert_yaxis()\n",
    "    plt.xticks(range(16), range(16), rotation=\"vertical\")\n",
    "    plt.yticks(range(16), range(16))\n",
    "    divider = make_axes_locatable(ax1)\n",
    "    cax = divider.append_axes('right', size=\"5%\", pad=0.05)\n",
    "    fig.colorbar(img1, cax=cax, orientation=\"vertical\")\n",
    "\n",
    "    for x in range(16):\n",
    "        for y in range(16):\n",
    "            # if(BL_map_THCal.T[x,y]==0): continue\n",
    "            ax0.text(x,y,f\"{BL_map_THCal.T[x,y]:.0f}\", c=\"white\", size=5, rotation=45, fontweight=\"bold\", ha=\"center\", va=\"center\")\n",
    "            ax1.text(x,y,f\"{NW_map_THCal.T[x,y]:.0f}\", c=\"white\", size=5, rotation=45, fontweight=\"bold\", ha=\"center\", va=\"center\")\n",
    "    plt.show()\n",
    "    # plt.savefig(fig_path+\"/BL_NW_\"+chip_figname+\"_\"+datetime.datetime.now().strftime(\"%Y-%m-%d_%H-%M\")+\".png\")"
   ]
  },
  {
   "attachments": {},
   "cell_type": "markdown",
   "metadata": {},
   "source": [
    "# Define pixels of interest"
   ]
  },
  {
   "cell_type": "code",
   "execution_count": 9,
   "metadata": {},
   "outputs": [
    {
     "name": "stdout",
     "output_type": "stream",
     "text": [
      "[(15, 6), (15, 7), (15, 8), (15, 9)]\n"
     ]
    }
   ],
   "source": [
    "# row_list = [14, 14, 14, 14]\n",
    "# col_list = [6, 7, 8, 9]\n",
    "row_list = [15, 15, 15, 15]\n",
    "col_list = [6, 7, 8, 9]\n",
    "# row_list = [15, 15]\n",
    "# col_list = [6, 9]\n",
    "# row_list = [14, 14, 15, 15]\n",
    "# col_list = [7, 8, 7, 8]\n",
    "# row_list = [14, 14, 14, 14, 15, 15, 15, 15]\n",
    "# col_list = [6, 7, 8, 9, 6, 7, 8, 9]\n",
    "# row_list = [14]\n",
    "# col_list = [6]\n",
    "\n",
    "scan_list = list(zip(row_list, col_list))\n",
    "print(scan_list)"
   ]
  },
  {
   "attachments": {},
   "cell_type": "markdown",
   "metadata": {},
   "source": [
    "### Enable pixels of Interest"
   ]
  },
  {
   "cell_type": "code",
   "execution_count": null,
   "metadata": {},
   "outputs": [],
   "source": [
    "i2c_conn.enable_select_pixels_in_chips(scan_list)"
   ]
  },
  {
   "cell_type": "code",
   "execution_count": null,
   "metadata": {},
   "outputs": [],
   "source": [
    "offset = 0x18\n",
    "for chip_address in chip_addresses[:]:\n",
    "    chip = i2c_conn.get_chip_i2c_connection(chip_address)\n",
    "    row_indexer_handle,_,_ = chip.get_indexer(\"row\")\n",
    "    column_indexer_handle,_,_ = chip.get_indexer(\"column\")\n",
    "    for row, col in scan_list:\n",
    "        print(f\"Operating on chip {hex(chip_address)} Pixel ({row},{col})\")\n",
    "        column_indexer_handle.set(col)\n",
    "        row_indexer_handle.set(row)    \n",
    "        i2c_conn.pixel_decoded_register_write(\"QSel\", format(0x14, '05b'), chip)\n",
    "        i2c_conn.pixel_decoded_register_write(\"TH_offset\", format(offset, '06b'), chip)\n",
    "    del chip, row_indexer_handle, column_indexer_handle"
   ]
  },
  {
   "attachments": {},
   "cell_type": "markdown",
   "metadata": {},
   "source": [
    "### Disable Pixels of Interest"
   ]
  },
  {
   "cell_type": "code",
   "execution_count": 8,
   "metadata": {},
   "outputs": [
    {
     "name": "stdout",
     "output_type": "stream",
     "text": [
      "Disabled pixel (14,7) for chip: 0x71\n",
      "Disabled pixel (14,8) for chip: 0x71\n",
      "Disabled pixel (15,7) for chip: 0x71\n",
      "Disabled pixel (15,8) for chip: 0x71\n",
      "Disabled pixel (14,7) for chip: 0x61\n",
      "Disabled pixel (14,8) for chip: 0x61\n",
      "Disabled pixel (15,7) for chip: 0x61\n",
      "Disabled pixel (15,8) for chip: 0x61\n",
      "Disabled pixel (14,7) for chip: 0x74\n",
      "Disabled pixel (14,8) for chip: 0x74\n",
      "Disabled pixel (15,7) for chip: 0x74\n",
      "Disabled pixel (15,8) for chip: 0x74\n"
     ]
    }
   ],
   "source": [
    "for chip_address in chip_addresses[:]:\n",
    "    chip = i2c_conn.get_chip_i2c_connection(chip_address)\n",
    "    row_indexer_handle,_,_ = chip.get_indexer(\"row\")\n",
    "    column_indexer_handle,_,_ = chip.get_indexer(\"column\")\n",
    "    for row,col in scan_list:\n",
    "        i2c_conn.disable_pixel(row=row, col=col, verbose=True, chip_address=chip_address, chip=chip, row_indexer_handle=row_indexer_handle, column_indexer_handle=column_indexer_handle)\n",
    "    del chip, row_indexer_handle, column_indexer_handle"
   ]
  },
  {
   "attachments": {},
   "cell_type": "markdown",
   "metadata": {},
   "source": [
    "### Calibrate Pixels of Interest"
   ]
  },
  {
   "cell_type": "code",
   "execution_count": 10,
   "metadata": {},
   "outputs": [
    {
     "name": "stdout",
     "output_type": "stream",
     "text": [
      "Auto calibration finished for pixel (15,6) on chip: 0x71\n",
      "Disabled pixel (15,6) for chip: 0x71\n",
      "Auto calibration finished for pixel (15,7) on chip: 0x71\n",
      "Disabled pixel (15,7) for chip: 0x71\n",
      "Auto calibration finished for pixel (15,8) on chip: 0x71\n",
      "Disabled pixel (15,8) for chip: 0x71\n",
      "Auto calibration finished for pixel (15,9) on chip: 0x71\n",
      "Disabled pixel (15,9) for chip: 0x71\n",
      "Auto calibration finished for pixel (15,6) on chip: 0x61\n",
      "Disabled pixel (15,6) for chip: 0x61\n",
      "Auto calibration finished for pixel (15,7) on chip: 0x61\n",
      "Disabled pixel (15,7) for chip: 0x61\n",
      "Auto calibration finished for pixel (15,8) on chip: 0x61\n",
      "Disabled pixel (15,8) for chip: 0x61\n",
      "Auto calibration finished for pixel (15,9) on chip: 0x61\n",
      "Disabled pixel (15,9) for chip: 0x61\n",
      "Auto calibration finished for pixel (15,6) on chip: 0x74\n",
      "Disabled pixel (15,6) for chip: 0x74\n",
      "Auto calibration finished for pixel (15,7) on chip: 0x74\n",
      "Disabled pixel (15,7) for chip: 0x74\n",
      "Auto calibration finished for pixel (15,8) on chip: 0x74\n",
      "Disabled pixel (15,8) for chip: 0x74\n",
      "Auto calibration finished for pixel (15,9) on chip: 0x74\n",
      "Disabled pixel (15,9) for chip: 0x74\n"
     ]
    }
   ],
   "source": [
    "for chip_address,chip_name in zip(chip_addresses,chip_names):\n",
    "    chip = i2c_conn.get_chip_i2c_connection(chip_address)\n",
    "    row_indexer_handle,_,_ = chip.get_indexer(\"row\")\n",
    "    column_indexer_handle,_,_ = chip.get_indexer(\"column\")\n",
    "    for row,col in scan_list:\n",
    "        # i2c_conn.disable_pixel(row=row, col=col, verbose=True, chip_address=chip_address, chip=chip, row_indexer_handle=row_indexer_handle, column_indexer_handle=column_indexer_handle)\n",
    "        i2c_conn.auto_cal_pixel(chip_name=chip_name, row=row, col=col, verbose=True, chip_address=chip_address, chip=chip, data=None, row_indexer_handle=row_indexer_handle, column_indexer_handle=column_indexer_handle)\n",
    "        i2c_conn.disable_pixel(row=row, col=col, verbose=True, chip_address=chip_address, chip=chip, row_indexer_handle=row_indexer_handle, column_indexer_handle=column_indexer_handle)\n",
    "    del chip, row_indexer_handle, column_indexer_handle"
   ]
  },
  {
   "attachments": {},
   "cell_type": "markdown",
   "metadata": {},
   "source": [
    "# Calibrate PLL"
   ]
  },
  {
   "cell_type": "code",
   "execution_count": null,
   "metadata": {},
   "outputs": [],
   "source": [
    "for chip_address in chip_addresses[:]:\n",
    "    i2c_conn.calibratePLL(chip_address, chip=None)"
   ]
  },
  {
   "attachments": {},
   "cell_type": "markdown",
   "metadata": {},
   "source": [
    "# Calibrate FC"
   ]
  },
  {
   "cell_type": "code",
   "execution_count": null,
   "metadata": {},
   "outputs": [],
   "source": [
    "for chip_address in chip_addresses[:]:\n",
    "    i2c_conn.asyResetGlobalReadout(chip_address, chip=None)\n",
    "    i2c_conn.asyAlignFastcommand(chip_address, chip=None)"
   ]
  },
  {
   "attachments": {},
   "cell_type": "markdown",
   "metadata": {},
   "source": [
    "# Run One Time DAQ to Set FPGA Firmware"
   ]
  },
  {
   "cell_type": "code",
   "execution_count": 11,
   "metadata": {},
   "outputs": [],
   "source": [
    "parser = run_script.getOptionParser()\n",
    "(options, args) = parser.parse_args(args=f\"-f --useIPC --hostname {hostname} -t 20 -o CanBeRemoved_Board013_NoLinkCheck -v -w -s 0x000c -p 0x000f -d 0xb800 -a 0x00bb --clear_fifo\".split())\n",
    "IPC_queue = multiprocessing.Queue()\n",
    "process = multiprocessing.Process(target=run_script.main_process, args=(IPC_queue, options, f'main_process_Start_LEDs_Board013_NoLinkCheck'))\n",
    "process.start()\n",
    "\n",
    "IPC_queue.put('memoFC Start Triggerbit QInj L1A BCR')\n",
    "while not IPC_queue.empty():\n",
    "    pass\n",
    "time.sleep(10)\n",
    "IPC_queue.put('stop DAQ')\n",
    "IPC_queue.put('memoFC Triggerbit')\n",
    "while not IPC_queue.empty():\n",
    "    pass\n",
    "IPC_queue.put('allow threads to exit')\n",
    "process.join()\n",
    "\n",
    "del IPC_queue, process, parser"
   ]
  },
  {
   "attachments": {},
   "cell_type": "markdown",
   "metadata": {},
   "source": [
    "# Run DAQ with forced Linking and external L1A"
   ]
  },
  {
   "cell_type": "code",
   "execution_count": null,
   "metadata": {},
   "outputs": [],
   "source": [
    "parser = run_script.getOptionParser()\n",
    "(options, args) = parser.parse_args(args=f\"-f --useIPC --reset_all_till_trigger_linked --hostname {hostname} -t 20 -o CanBeRemoved_Board013_LinkCheck_memoFC -v -w -s 0x0000 -p 0x000f -d 0xb800 -a 0x00bb\".split())\n",
    "IPC_queue = multiprocessing.Queue()\n",
    "process = multiprocessing.Process(target=run_script.main_process, args=(IPC_queue, options, f'main_process_Start_LEDs_Board013_LinkCheck_memoFC'))\n",
    "process.start()\n",
    "\n",
    "IPC_queue.put('memoFC Start Triggerbit QInj L1A BCR')\n",
    "while not IPC_queue.empty():\n",
    "    pass\n",
    "time.sleep(10)\n",
    "IPC_queue.put('stop DAQ')\n",
    "IPC_queue.put('memoFC Triggerbit')\n",
    "while not IPC_queue.empty():\n",
    "    pass\n",
    "IPC_queue.put('allow threads to exit')\n",
    "process.join()\n",
    "\n",
    "del IPC_queue, process, parser"
   ]
  },
  {
   "attachments": {},
   "cell_type": "markdown",
   "metadata": {},
   "source": [
    "# Run DAQ with Self-Trigger"
   ]
  },
  {
   "attachments": {},
   "cell_type": "markdown",
   "metadata": {},
   "source": [
    "### Find the right delay (use the middle of the three success modes, where both Qinj eges are caught)"
   ]
  },
  {
   "cell_type": "code",
   "execution_count": null,
   "metadata": {},
   "outputs": [],
   "source": [
    "for inum in range(475, 496, 1):\n",
    "    trigger_bit_delay = inum\n",
    "    print(inum)\n",
    "    parser = run_script.getOptionParser()\n",
    "    (options, args) = parser.parse_args(args=f\"-f --useIPC --reset_all_till_trigger_linked --hostname {hostname} -t 20 -o CanBeRemoved_Board0_LinkCheck_selfTrigger_delay{inum} -v -w --s 0x0000 -p 0x000f -d {int('000111'+format(inum, '010b'), base=2)} -a 0x0011\".split())\n",
    "    IPC_queue = multiprocessing.Queue()\n",
    "    process = multiprocessing.Process(target=run_script.main_process, args=(IPC_queue, options, f'main_process_Start_LEDs_Board0_LinkCheck_selfTrigger_delay{inum}'))\n",
    "    process.start()\n",
    "\n",
    "    IPC_queue.put('memoFC Start Triggerbit QInj BCR')\n",
    "    while not IPC_queue.empty():\n",
    "        pass\n",
    "    time.sleep(10)\n",
    "    IPC_queue.put('stop DAQ')\n",
    "    IPC_queue.put('memoFC Triggerbit')\n",
    "    while not IPC_queue.empty():\n",
    "        pass\n",
    "    IPC_queue.put('allow threads to exit')\n",
    "    process.join()\n",
    "\n",
    "    del IPC_queue, process, parser"
   ]
  },
  {
   "attachments": {},
   "cell_type": "markdown",
   "metadata": {},
   "source": [
    "### Self-triggering with Board 0"
   ]
  },
  {
   "cell_type": "code",
   "execution_count": null,
   "metadata": {},
   "outputs": [],
   "source": [
    "trigger_bit_delay = int('000111'+format(484, '010b'), base=2)\n",
    "parser = run_script.getOptionParser()\n",
    "(options, args) = parser.parse_args(args=f\"-f --useIPC --hostname {hostname} -t 20 -o CanBeRemoved_Board0_LinkCheck_selfTrigger -v -w -s 0x0000 -p 0x000f -d {trigger_bit_delay} -a 0x0011 --counter_duration 0x0041 --clear_fifo\".split())\n",
    "IPC_queue = multiprocessing.Queue()\n",
    "process = multiprocessing.Process(target=run_script.main_process, args=(IPC_queue, options, f'main_process_Start_LEDs_Board0_LinkCheck_selfTrigger'))\n",
    "process.start()\n",
    "\n",
    "IPC_queue.put('memoFC Start Triggerbit QInj BCR')\n",
    "while not IPC_queue.empty():\n",
    "    pass\n",
    "time.sleep(10)\n",
    "IPC_queue.put('stop DAQ')\n",
    "IPC_queue.put('memoFC Triggerbit')\n",
    "while not IPC_queue.empty():\n",
    "    pass\n",
    "IPC_queue.put('allow threads to exit')\n",
    "process.join()\n",
    "\n",
    "del IPC_queue, process, parser"
   ]
  },
  {
   "attachments": {},
   "cell_type": "markdown",
   "metadata": {},
   "source": [
    "### Self-triggering with Board 1"
   ]
  },
  {
   "cell_type": "code",
   "execution_count": null,
   "metadata": {},
   "outputs": [],
   "source": [
    "trigger_bit_delay = int('001011'+format(484, '010b'), base=2)\n",
    "parser = run_script.getOptionParser()\n",
    "(options, args) = parser.parse_args(args=f\"-f --useIPC --hostname {hostname} -t 20 -o CanBeRemoved_Board1_LinkCheck_selfTrigger -v -w -s 0x0004 -p 0x000f -d {trigger_bit_delay} -a 0x0022 --counter_duration 0x0081\".split())\n",
    "IPC_queue = multiprocessing.Queue()\n",
    "process = multiprocessing.Process(target=run_script.main_process, args=(IPC_queue, options, f'main_process_Start_LEDs_Board1_LinkCheck_selfTrigger'))\n",
    "process.start()\n",
    "\n",
    "IPC_queue.put('memoFC Start Triggerbit QInj BCR')\n",
    "while not IPC_queue.empty():\n",
    "    pass\n",
    "time.sleep(10)\n",
    "IPC_queue.put('stop DAQ')\n",
    "IPC_queue.put('memoFC Triggerbit')\n",
    "while not IPC_queue.empty():\n",
    "    pass\n",
    "IPC_queue.put('allow threads to exit')\n",
    "process.join()\n",
    "\n",
    "del IPC_queue, process, parser"
   ]
  },
  {
   "attachments": {},
   "cell_type": "markdown",
   "metadata": {},
   "source": [
    "### Self-triggering with Board 3"
   ]
  },
  {
   "cell_type": "code",
   "execution_count": null,
   "metadata": {},
   "outputs": [],
   "source": [
    "trigger_bit_delay = int('100011'+format(484, '010b'), base=2)\n",
    "parser = run_script.getOptionParser()\n",
    "(options, args) = parser.parse_args(args=f\"-f --useIPC --hostname {hostname} -t 20 -o CanBeRemoved_Board3_LinkCheck_selfTrigger -v -w -s 0x000C -p 0x000f -d {trigger_bit_delay} -a 0x0088 --counter_duration 0x0201 --clear_fifo\".split())\n",
    "IPC_queue = multiprocessing.Queue()\n",
    "process = multiprocessing.Process(target=run_script.main_process, args=(IPC_queue, options, f'main_process_Start_LEDs_Board3_LinkCheck_selfTrigger'))\n",
    "process.start()\n",
    "\n",
    "IPC_queue.put('memoFC Start Triggerbit QInj BCR')\n",
    "while not IPC_queue.empty():\n",
    "    pass\n",
    "time.sleep(10)\n",
    "IPC_queue.put('stop DAQ')\n",
    "IPC_queue.put('memoFC Triggerbit')\n",
    "while not IPC_queue.empty():\n",
    "    pass\n",
    "IPC_queue.put('allow threads to exit')\n",
    "process.join()\n",
    "\n",
    "del IPC_queue, process, parser"
   ]
  },
  {
   "attachments": {},
   "cell_type": "markdown",
   "metadata": {},
   "source": [
    "### Self-Trigger with 0+1+2 and DAQ "
   ]
  },
  {
   "attachments": {},
   "cell_type": "markdown",
   "metadata": {},
   "source": [
    "#### With Qinj"
   ]
  },
  {
   "cell_type": "code",
   "execution_count": null,
   "metadata": {},
   "outputs": [],
   "source": [
    "trigger_bit_delay = int('101111'+format(485, '010b'), base=2)\n",
    "parser = run_script.getOptionParser()\n",
    "(options, args) = parser.parse_args(args=f\"-f --useIPC --hostname {hostname} -t 20 -o CanBeRemoved_Board013_LinkCheck_selfTrigger013 -v -w -s 0x0000 -p 0x000f -d {trigger_bit_delay} -a 0x00bb --counter_duration 0x0001 --clear_fifo\".split())\n",
    "IPC_queue = multiprocessing.Queue()\n",
    "process = multiprocessing.Process(target=run_script.main_process, args=(IPC_queue, options, f'main_process_Start_LEDs_Board013_LinkCheck_selfTrigger013'))\n",
    "process.start()\n",
    "\n",
    "IPC_queue.put('memoFC Start Triggerbit QInj BCR')\n",
    "while not IPC_queue.empty():\n",
    "    pass\n",
    "time.sleep(10)\n",
    "IPC_queue.put('stop DAQ')\n",
    "IPC_queue.put('memoFC Triggerbit')\n",
    "while not IPC_queue.empty():\n",
    "    pass\n",
    "IPC_queue.put('allow threads to exit')\n",
    "process.join()\n",
    "\n",
    "del IPC_queue, process, parser"
   ]
  },
  {
   "attachments": {},
   "cell_type": "markdown",
   "metadata": {},
   "source": [
    "#### Without Qinj"
   ]
  },
  {
   "attachments": {},
   "cell_type": "markdown",
   "metadata": {},
   "source": [
    "2 min run"
   ]
  },
  {
   "cell_type": "code",
   "execution_count": null,
   "metadata": {},
   "outputs": [],
   "source": [
    "trigger_bit_delay = int('100111'+format(485, '010b'), base=2)\n",
    "parser = run_script.getOptionParser()\n",
    "(options, args) = parser.parse_args(args=f\"-f --useIPC --reset_all_till_trigger_linked --hostname {hostname} -t 200 -o CanBeRemoved_Board013_LinkCheck_selfTrigger03_2mins_offset1e -v -w -s 0x0000 -p 0x000f -d {trigger_bit_delay} -a 0x00bb --counter_duration 0x0001 --skip_binary -l 100000 --compressed_translation\".split())\n",
    "IPC_queue = multiprocessing.Queue()\n",
    "process = multiprocessing.Process(target=run_script.main_process, args=(IPC_queue, options, f'main_process_Start_LEDs_Board013_LinkCheck_selfTrigger03_2mins_offset1e'))\n",
    "process.start()\n",
    "\n",
    "IPC_queue.put('memoFC Start Triggerbit BCR')\n",
    "while not IPC_queue.empty():\n",
    "    pass\n",
    "time.sleep(120)\n",
    "IPC_queue.put('stop DAQ')\n",
    "IPC_queue.put('memoFC Triggerbit')\n",
    "while not IPC_queue.empty():\n",
    "    pass\n",
    "IPC_queue.put('allow threads to exit')\n",
    "process.join()\n",
    "\n",
    "del IPC_queue, process, parser"
   ]
  },
  {
   "attachments": {},
   "cell_type": "markdown",
   "metadata": {},
   "source": [
    "#### With Qinj and enable/disable TDC for testing"
   ]
  },
  {
   "cell_type": "code",
   "execution_count": null,
   "metadata": {},
   "outputs": [],
   "source": [
    "for chip_address in chip_addresses[:]:\n",
    "    for row, col in scan_list:\n",
    "        i2c_conn.open_TDC_pixel(chip_address, row, col, True, None)\n",
    "trigger_bit_delay = int('101111'+format(485, '010b'), base=2)\n",
    "parser = run_script.getOptionParser()\n",
    "(options, args) = parser.parse_args(args=f\"-f --useIPC --hostname {hostname} -t 100 -o CanBeRemoved_Board013_LinkCheck_selfTrigger013_TDC_on -v -w -s 0x0000 -p 0x000f -d {trigger_bit_delay} -a 0x00bb --counter_duration 0x0001 --clear_fifo\".split())\n",
    "IPC_queue = multiprocessing.Queue()\n",
    "process = multiprocessing.Process(target=run_script.main_process, args=(IPC_queue, options, f'main_process_Start_LEDs_Board013_LinkCheck_selfTrigger013_TDC_on'))\n",
    "process.start()\n",
    "\n",
    "IPC_queue.put('memoFC Start Triggerbit QInj BCR')\n",
    "while not IPC_queue.empty():\n",
    "    pass\n",
    "time.sleep(60)\n",
    "IPC_queue.put('stop DAQ')\n",
    "IPC_queue.put('memoFC Triggerbit')\n",
    "while not IPC_queue.empty():\n",
    "    pass\n",
    "IPC_queue.put('allow threads to exit')\n",
    "process.join()\n",
    "\n",
    "del IPC_queue, process, parser"
   ]
  },
  {
   "attachments": {},
   "cell_type": "markdown",
   "metadata": {},
   "source": [
    "# Finding the Turn-On Point of the Pixel"
   ]
  },
  {
   "cell_type": "code",
   "execution_count": 16,
   "metadata": {},
   "outputs": [],
   "source": [
    "def pixel_turnon_points(chip_address, chip_figname, s_flag, d_flag, a_flag, scan_list, verbose=False, attempt='', today='', calibrate=False):\n",
    "    scan_name = chip_figname+\"_VRef_SCurve_BinarySearch_TurnOn\"\n",
    "    fpga_time = 3\n",
    "\n",
    "    if(today==''): today = datetime.date.today()\n",
    "    todaystr = \"../ETROC-Data/\" + today.isoformat() + \"_Array_Test_Results/\"\n",
    "    base_dir = Path(todaystr)\n",
    "    base_dir.mkdir(exist_ok=True)\n",
    "\n",
    "    BL_map_THCal,NW_map_THCal,_ = i2c_conn.get_auto_cal_maps(chip_address)\n",
    "    for row, col in tqdm(scan_list, leave=False):\n",
    "        turnon_point = -1\n",
    "        if(calibrate):\n",
    "            i2c_conn.auto_cal_pixel(chip_name=chip_figname, row=row, col=col, verbose=False, chip_address=chip_address, chip=None, data=None, row_indexer_handle=None, column_indexer_handle=None)\n",
    "            i2c_conn.disable_pixel(row, col, verbose=False, chip_address=chip_address, chip=None, row_indexer_handle=None, column_indexer_handle=None)\n",
    "        i2c_conn.enable_pixel_data_qinj(row=row, col=col, verbose=verbose, chip_address=chip_address, chip=None, row_indexer_handle=None, column_indexer_handle=None)\n",
    "        pixel_connected_chip = i2c_conn.get_pixel_chip(chip_address, row, col)\n",
    "        threshold_name = scan_name+f'_Pixel_C{col}_R{row}'+attempt\n",
    "        parser = run_script.getOptionParser()\n",
    "        (options, args) = parser.parse_args(args=f\"-f --useIPC --hostname {hostname} -o {threshold_name} -v -w --reset_till_trigger_linked -s {s_flag} -d {d_flag} -a {a_flag} -p 0x000f --counter_duration 0x0001 --fpga_data_time_limit {int(fpga_time)} --fpga_data_QInj --check_trigger_link_at_end --nodaq\".split())\n",
    "        IPC_queue = multiprocessing.Queue()\n",
    "        process = multiprocessing.Process(target=run_script.main_process, args=(IPC_queue, options, f'process_outputs/main_process_link'))\n",
    "        process.start()\n",
    "        process.join()\n",
    "\n",
    "        a = 0\n",
    "        b = BL_map_THCal[row][col] + (3*NW_map_THCal[row][col])\n",
    "        while b-a>1:\n",
    "            DAC = int(np.floor((a+b)/2))\n",
    "            # Set the DAC to the value being scanned\n",
    "            i2c_conn.pixel_decoded_register_write(\"DAC\", format(DAC, '010b'), pixel_connected_chip)\n",
    "            (options, args) = parser.parse_args(args=f\"--useIPC --hostname {hostname} -o {threshold_name} -v --reset_till_trigger_linked --counter_duration 0x0001 --fpga_data_time_limit {int(fpga_time)} --fpga_data_QInj --check_trigger_link_at_end --nodaq --DAC_Val {int(DAC)}\".split())\n",
    "            IPC_queue = multiprocessing.Queue()\n",
    "            process = multiprocessing.Process(target=run_script.main_process, args=(IPC_queue, options, f'process_outputs/main_process_{DAC}'))\n",
    "            process.start()\n",
    "            process.join()\n",
    "            \n",
    "            continue_flag = False\n",
    "            root = '../ETROC-Data'\n",
    "            file_pattern = \"*FPGA_Data.dat\"\n",
    "            path_pattern = f\"*{today.isoformat()}_Array_Test_Results/{threshold_name}\"\n",
    "            file_list = []\n",
    "            for path, subdirs, files in os.walk(root):\n",
    "                if not fnmatch(path, path_pattern): continue\n",
    "                for name in files:\n",
    "                    pass\n",
    "                    if fnmatch(name, file_pattern):\n",
    "                        file_list.append(os.path.join(path, name))\n",
    "            for file_index, file_name in enumerate(file_list):\n",
    "                with open(file_name) as infile:\n",
    "                    lines = infile.readlines()\n",
    "                    last_line = lines[-1]\n",
    "                    first_line = lines[0]\n",
    "                    text_list = last_line.split(',')\n",
    "                    FPGA_state = text_list[0]\n",
    "                    line_DAC = int(text_list[-1])\n",
    "                    if(FPGA_state==0 or line_DAC!=DAC): \n",
    "                        continue_flag=True\n",
    "                        continue\n",
    "                    TDC_tb = int(text_list[-2])\n",
    "                    turnon_point = line_DAC\n",
    "                    # Condition handling for Binary Search\n",
    "                    if(TDC_tb>0):\n",
    "                        b = DAC\n",
    "                    else:\n",
    "                        a = DAC                    \n",
    "            if(continue_flag): continue  \n",
    "        i2c_conn.disable_pixel(row=row, col=col, verbose=verbose, chip_address=chip_address, chip=None, row_indexer_handle=None, column_indexer_handle=None)\n",
    "        if(verbose): print(f\"Turn-On point for Pixel ({row},{col}) for chip {hex(chip_address)} is found to be DAC:{turnon_point}\")\n",
    "        del IPC_queue, process, parser, pixel_connected_chip"
   ]
  },
  {
   "cell_type": "code",
   "execution_count": 13,
   "metadata": {},
   "outputs": [
    {
     "name": "stderr",
     "output_type": "stream",
     "text": [
      "                                             \r"
     ]
    }
   ],
   "source": [
    "pixel_turnon_points(chip_addresses[0], chip_fignames[0], 0x0000, 0x1800, 0x0011, scan_list, verbose=False, calibrate=True)"
   ]
  },
  {
   "cell_type": "code",
   "execution_count": 17,
   "metadata": {},
   "outputs": [
    {
     "name": "stderr",
     "output_type": "stream",
     "text": [
      "                                             \r"
     ]
    }
   ],
   "source": [
    "pixel_turnon_points(chip_addresses[1], chip_fignames[1], 0x0004, 0x2800, 0x0022, scan_list, verbose=False, calibrate=True)"
   ]
  },
  {
   "cell_type": "code",
   "execution_count": 15,
   "metadata": {},
   "outputs": [
    {
     "name": "stderr",
     "output_type": "stream",
     "text": [
      "                                             \r"
     ]
    }
   ],
   "source": [
    "pixel_turnon_points(chip_addresses[2], chip_fignames[2], 0x000C, 0x8800, 0x0088, scan_list, verbose=False, calibrate=True)"
   ]
  },
  {
   "attachments": {},
   "cell_type": "markdown",
   "metadata": {},
   "source": [
    "# Noise Peak Scans"
   ]
  },
  {
   "cell_type": "code",
   "execution_count": 18,
   "metadata": {},
   "outputs": [],
   "source": [
    "def trigger_bit_noisescan(chip_address, chip_figtitle, chip_figname, s_flag, d_flag, a_flag, scan_list, verbose=False, pedestal_scan_step = 1, attempt='', today='', busyCB=False, tp_tag='', neighbors=False):\n",
    "    root = '../ETROC-Data'\n",
    "    file_pattern = \"*FPGA_Data.dat\"\n",
    "    thresholds = np.arange(-5,20,pedestal_scan_step) # relative to BL\n",
    "    scan_name = chip_figname+\"_VRef_SCurve_NoiseOnly\"\n",
    "    fpga_time = 3\n",
    "    if(today==''): today = datetime.date.today()\n",
    "    todaystr = root+\"/\" + today.isoformat() + \"_Array_Test_Results/\"\n",
    "    base_dir = Path(todaystr)\n",
    "    base_dir.mkdir(exist_ok=True)\n",
    "    # BL_map_THCal,NW_map_THCal,_ = i2c_conn.get_auto_cal_maps(chip_address)\n",
    "    for row,col in scan_list:\n",
    "        turnon_point = -1\n",
    "        path_pattern = f\"*{today.isoformat()}_Array_Test_Results/{chip_figname}_VRef_SCurve_BinarySearch_TurnOn_Pixel_C{col}_R{row}\"+tp_tag\n",
    "        file_list = []\n",
    "        for path, subdirs, files in os.walk(root):\n",
    "            if not fnmatch(path, path_pattern): continue\n",
    "            for name in files:\n",
    "                pass\n",
    "                if fnmatch(name, file_pattern):\n",
    "                    file_list.append(os.path.join(path, name))\n",
    "        for file_index, file_name in enumerate(file_list):\n",
    "            with open(file_name) as infile:\n",
    "                lines = infile.readlines()\n",
    "                last_line = lines[-1]\n",
    "                text_list = last_line.split(',')\n",
    "                line_DAC = int(text_list[-1])\n",
    "                turnon_point = line_DAC\n",
    "        if(busyCB):\n",
    "            i2c_conn.enable_pixel_data(row=row, col=col, verbose=verbose, chip_address=chip_address, chip=None, row_indexer_handle=None, column_indexer_handle=None)\n",
    "        else:\n",
    "            i2c_conn.enable_pixel_triggerbit(row=row, col=col, verbose=verbose, chip_address=chip_address, chip=None, row_indexer_handle=None, column_indexer_handle=None)\n",
    "        if(neighbors):\n",
    "            for first_idx in range(-1,2):\n",
    "                row_nb = row+first_idx\n",
    "                if(row_nb>15 or row_nb<0): continue\n",
    "                for second_idx in range(-1,2):\n",
    "                    col_nb = col+second_idx\n",
    "                    if(col_nb>15 or col_nb<0): continue\n",
    "                    if(col_nb==col and row_nb == row): continue\n",
    "                    i2c_conn.enable_pixel_data(row=row_nb, col=col_nb, verbose=verbose, chip_address=chip_address, chip=None, row_indexer_handle=None, column_indexer_handle=None)\n",
    "        pixel_connected_chip = i2c_conn.get_pixel_chip(chip_address, row, col)\n",
    "        threshold_name = scan_name+f'_Pixel_C{col}_R{row}'+attempt\n",
    "        parser = run_script.getOptionParser()\n",
    "        (options, args) = parser.parse_args(args=f\"-f --useIPC --hostname {hostname} -o {threshold_name} -v -w --reset_till_trigger_linked --counter_duration 0x0001 --fpga_data_time_limit {int(fpga_time)} --fpga_data --check_trigger_link_at_end --nodaq -s {s_flag} -d {d_flag} -a {a_flag} -p 0x000f\".split())\n",
    "        IPC_queue = multiprocessing.Queue()\n",
    "        process = multiprocessing.Process(target=run_script.main_process, args=(IPC_queue, options, f'process_outputs/main_process_noiseOnly'))\n",
    "        process.start()\n",
    "        process.join()\n",
    "        \n",
    "        for DAC in tqdm(thresholds, desc=f'DAC Loop for Chip {hex(chip_address)} Pixel ({row},{col})', leave=False):\n",
    "        # for DAC in thresholds:\n",
    "            threshold = int(DAC+turnon_point)\n",
    "            if threshold < 1:\n",
    "                threshold = 1\n",
    "            # triggerbit_full_Scurve[row][col][threshold] = 0\n",
    "            i2c_conn.pixel_decoded_register_write(\"DAC\", format(threshold, '010b'), pixel_connected_chip)\n",
    "            (options, args) = parser.parse_args(args=f\"--useIPC --hostname {hostname} -o {threshold_name} -v --reset_till_trigger_linked --counter_duration 0x0001 --fpga_data_time_limit {int(fpga_time)} --fpga_data --check_trigger_link_at_end --nodaq --DAC_Val {int(threshold)}\".split())\n",
    "            IPC_queue = multiprocessing.Queue()\n",
    "            process = multiprocessing.Process(target=run_script.main_process, args=(IPC_queue, options, f'process_outputs/main_process_NoiseOnly_{threshold}'))\n",
    "            process.start()\n",
    "            process.join()\n",
    "            \n",
    "        i2c_conn.disable_pixel(row=row, col=col, verbose=verbose, chip_address=chip_address, chip=None, row_indexer_handle=None, column_indexer_handle=None)\n",
    "        if(neighbors):\n",
    "            for first_idx in range(-1,2):\n",
    "                row_nb = row+first_idx\n",
    "                if(row_nb>15 or row_nb<0): continue\n",
    "                for second_idx in range(-1,2):\n",
    "                    col_nb = col+second_idx\n",
    "                    if(col_nb>15 or col_nb<0): continue\n",
    "                    if(col_nb==col and row_nb == row): continue\n",
    "                    i2c_conn.disable_pixel(row=row_nb, col=col_nb, verbose=verbose, chip_address=chip_address, chip=None, row_indexer_handle=None, column_indexer_handle=None)\n",
    "        del IPC_queue, process, parser, pixel_connected_chip"
   ]
  },
  {
   "cell_type": "code",
   "execution_count": 19,
   "metadata": {},
   "outputs": [
    {
     "name": "stderr",
     "output_type": "stream",
     "text": [
      "                                                                                    \r"
     ]
    }
   ],
   "source": [
    "trigger_bit_noisescan(chip_addresses[0], chip_figtitles[0], chip_fignames[0], \"0x0000\", \"0x1800\", \"0x0011\", scan_list, verbose=False, pedestal_scan_step = 1, attempt='_quietCB', busyCB=False)"
   ]
  },
  {
   "cell_type": "code",
   "execution_count": 20,
   "metadata": {},
   "outputs": [
    {
     "name": "stderr",
     "output_type": "stream",
     "text": [
      "                                                                                    \r"
     ]
    }
   ],
   "source": [
    "trigger_bit_noisescan(chip_addresses[0], chip_figtitles[0], chip_fignames[0], \"0x0000\", \"0x1800\", \"0x0011\", scan_list, verbose=False, pedestal_scan_step = 1, attempt='_activeCB', busyCB=True)"
   ]
  },
  {
   "cell_type": "code",
   "execution_count": 21,
   "metadata": {},
   "outputs": [
    {
     "name": "stderr",
     "output_type": "stream",
     "text": [
      "                                                                                    \r"
     ]
    }
   ],
   "source": [
    "trigger_bit_noisescan(chip_addresses[0], chip_figtitles[0], chip_fignames[0], \"0x0000\", \"0x1800\", \"0x0011\", scan_list, verbose=False, pedestal_scan_step = 1, attempt='_activeCBwNB', busyCB=True, neighbors=True)"
   ]
  },
  {
   "cell_type": "code",
   "execution_count": null,
   "metadata": {},
   "outputs": [],
   "source": [
    "trigger_bit_noisescan(chip_addresses[1], chip_figtitles[1], chip_fignames[1], \"0x0004\", \"0x2800\", \"0x0022\", scan_list, verbose=False, pedestal_scan_step = 1, attempt='_quietCB', busyCB=False)"
   ]
  },
  {
   "cell_type": "code",
   "execution_count": null,
   "metadata": {},
   "outputs": [],
   "source": [
    "trigger_bit_noisescan(chip_addresses[1], chip_figtitles[1], chip_fignames[1], \"0x0004\", \"0x2800\", \"0x0022\", scan_list, verbose=False, pedestal_scan_step = 1, attempt='_activeCB', busyCB=True)"
   ]
  },
  {
   "cell_type": "code",
   "execution_count": null,
   "metadata": {},
   "outputs": [],
   "source": [
    "trigger_bit_noisescan(chip_addresses[2], chip_figtitles[2], chip_fignames[2], \"0x000C\", \"0x8800\", \"0x0088\", scan_list, verbose=False, pedestal_scan_step = 1, attempt='_quietCB', busyCB=False)"
   ]
  },
  {
   "cell_type": "code",
   "execution_count": null,
   "metadata": {},
   "outputs": [],
   "source": [
    "trigger_bit_noisescan(chip_addresses[2], chip_figtitles[2], chip_fignames[2], \"0x000C\", \"0x8800\", \"0x0088\", scan_list, verbose=False, pedestal_scan_step = 1, attempt='_activeCB', busyCB=True)"
   ]
  },
  {
   "attachments": {},
   "cell_type": "markdown",
   "metadata": {},
   "source": [
    "# Noise Peak Scan Plot"
   ]
  },
  {
   "cell_type": "code",
   "execution_count": 22,
   "metadata": {},
   "outputs": [],
   "source": [
    "def trigger_bit_noisescan_plot(chip_address, chip_figtitle, chip_figname, scan_list, attempt='', today='', autoBL=False, gaus=True, tag=''):\n",
    "    root = '../ETROC-Data'\n",
    "    file_pattern = \"*FPGA_Data.dat\"\n",
    "    scan_name = chip_figname+\"_VRef_SCurve_NoiseOnly\"\n",
    "    if(autoBL): BL_map_THCal,NW_map_THCal,_ = i2c_conn.get_auto_cal_maps(chip_address)\n",
    "    triggerbit_full_Scurve = {row:{col:{} for col in range(16)} for row in range(16)}\n",
    "\n",
    "    if(today==''): today = datetime.date.today()\n",
    "    todaystr = root+\"/\" + today.isoformat() + \"_Array_Test_Results/\"\n",
    "    base_dir = Path(todaystr)\n",
    "    base_dir.mkdir(exist_ok=True)\n",
    "\n",
    "    fig_outdir = Path('../ETROC-figures')\n",
    "    fig_outdir = fig_outdir / (today.isoformat() + '_Array_Test_Results')\n",
    "    fig_outdir.mkdir(exist_ok=True)\n",
    "    fig_path = str(fig_outdir)\n",
    "    \n",
    "    for row,col in scan_list:\n",
    "        path_pattern = f\"*{today.isoformat()}_Array_Test_Results/{scan_name}_Pixel_C{col}_R{row}\"+attempt\n",
    "        file_list = []\n",
    "        for path, subdirs, files in os.walk(root):\n",
    "            if not fnmatch(path, path_pattern): continue\n",
    "            for name in files:\n",
    "                pass\n",
    "                if fnmatch(name, file_pattern):\n",
    "                    file_list.append(os.path.join(path, name))\n",
    "        for file_index, file_name in enumerate(file_list):\n",
    "            with open(file_name) as infile:\n",
    "                for line in infile:\n",
    "                    text_list = line.split(',')\n",
    "                    FPGA_triggerbit = int(text_list[5])\n",
    "                    DAC = int(text_list[-1])\n",
    "                    if DAC == -1: continue\n",
    "                    triggerbit_full_Scurve[row][col][DAC] = FPGA_triggerbit\n",
    "    row_list, col_list = zip(*scan_list)\n",
    "    u_cl = np.sort(np.unique(col_list))\n",
    "    u_rl = np.sort(np.unique(row_list))\n",
    "\n",
    "    fig = plt.figure(dpi=200, figsize=(len(np.unique(u_cl))*5,len(np.unique(u_rl))*5))\n",
    "    gs = fig.add_gridspec(len(np.unique(u_rl)),len(np.unique(u_cl)))\n",
    "    for ri,row in enumerate(u_rl):\n",
    "        for ci,col in enumerate(u_cl):\n",
    "            Y = np.array(list(triggerbit_full_Scurve[row][col].values()))\n",
    "            X = np.array(list(triggerbit_full_Scurve[row][col].keys()))\n",
    "            ax0 = fig.add_subplot(gs[len(u_rl)-ri-1,len(u_cl)-ci-1])\n",
    "            ax0.plot(X, Y, '.-', color='b',lw=0.5,markersize=2)\n",
    "            ax0.set_xlabel(\"DAC Value [decimal]\")\n",
    "            ax0.set_ylabel(\"Trigger Bit Counts [decimal]\")\n",
    "            max_y_point = np.amax(Y)\n",
    "            max_x_point = X[np.argmax(Y)]\n",
    "            fwhm_key_array  = X[Y>.0000037*max_y_point]\n",
    "            fwhm_val_array  = Y[Y>.0000037*max_y_point]\n",
    "            left_index  = np.argmin(np.where(Y>.0000037*max_y_point,X,np.inf))-1\n",
    "            right_index = np.argmax(np.where(Y>.0000037*max_y_point,X,-np.inf))+1\n",
    "            ax0.set_xlim(left=max_x_point-20, right=max_x_point+20)\n",
    "            if(autoBL):\n",
    "                ax0.axvline(BL_map_THCal[row][col], color='k', label=f\"AutoBL = {BL_map_THCal[row][col]}\", lw=0.7)\n",
    "                ax0.axvline(BL_map_THCal[row][col]+NW_map_THCal[row][col], color='k', ls='--', label=f\"AutoNW = $\\pm${NW_map_THCal[row][col]}\", lw=0.7)\n",
    "                ax0.axvline(BL_map_THCal[row][col]-NW_map_THCal[row][col], color='k', ls='--', lw=0.7)\n",
    "            if(gaus):\n",
    "                ax0.plot([max_x_point, max_x_point], [0, max_y_point], 'r-', label=f\"Max at {max_x_point}\", lw=0.7)\n",
    "                ax0.plot([X[left_index], X[right_index]], [Y[left_index], Y[right_index]], color='r', ls='--', label=f\"99.9996% width = {(X[right_index]-X[left_index])/2.}\", lw=0.7)\n",
    "            plt.legend(loc=\"upper right\", fontsize=6)\n",
    "            plt.yscale(\"log\")\n",
    "            plt.title(f\"{chip_figtitle}, Pixel ({row},{col}) Noise Peak\"+tag,size=10)\n",
    "            plt.tight_layout()\n",
    "    plt.savefig(fig_path+\"/\"+chip_figname+\"_NoisePeak_Log\"+attempt+\"_\"+datetime.datetime.now().strftime(\"%Y-%m-%d_%H-%M\")+\".png\")\n",
    "    plt.close()\n",
    "\n",
    "    fig = plt.figure(dpi=200, figsize=(len(np.unique(u_cl))*5,len(np.unique(u_rl))*5))\n",
    "    gs = fig.add_gridspec(len(np.unique(u_rl)),len(np.unique(u_cl)))\n",
    "    for ri,row in enumerate(u_rl):\n",
    "        for ci,col in enumerate(u_cl):\n",
    "            Y = np.array(list(triggerbit_full_Scurve[row][col].values()))\n",
    "            X = np.array(list(triggerbit_full_Scurve[row][col].keys()))\n",
    "            ax0 = fig.add_subplot(gs[len(u_rl)-ri-1,len(u_cl)-ci-1])\n",
    "            ax0.plot(X, Y, '.-', color='b',lw=0.5,markersize=2)\n",
    "            ax0.set_xlabel(\"DAC Value [decimal]\")\n",
    "            ax0.set_ylabel(\"Trigger Bit Counts [decimal]\")\n",
    "            max_y_point = np.amax(Y)\n",
    "            max_x_point = X[np.argmax(Y)]\n",
    "            fwhm_key_array  = X[Y>.0000037*max_y_point]\n",
    "            fwhm_val_array  = Y[Y>.0000037*max_y_point]\n",
    "            left_index  = np.argmin(np.where(Y>.0000037*max_y_point,X,np.inf))-1\n",
    "            right_index = np.argmax(np.where(Y>.0000037*max_y_point,X,-np.inf))+1\n",
    "            ax0.set_xlim(left=max_x_point-20, right=max_x_point+20)\n",
    "            if(autoBL):\n",
    "                ax0.axvline(BL_map_THCal[row][col], color='k', label=f\"AutoBL = {BL_map_THCal[row][col]}\", lw=0.7)\n",
    "                ax0.axvline(BL_map_THCal[row][col]+NW_map_THCal[row][col], color='k', ls='--', label=f\"AutoNW = $\\pm${NW_map_THCal[row][col]}\", lw=0.7)\n",
    "                ax0.axvline(BL_map_THCal[row][col]-NW_map_THCal[row][col], color='k', ls='--', lw=0.7)\n",
    "            if(gaus):\n",
    "                ax0.plot([max_x_point, max_x_point], [0, max_y_point], 'r-', label=f\"Max at {max_x_point}\", lw=0.7)\n",
    "                ax0.plot([X[left_index], X[right_index]], [Y[left_index], Y[right_index]], color='r', ls='--', label=f\"99.9996% width = {(X[right_index]-X[left_index])/2.}\", lw=0.7)\n",
    "            plt.legend(loc=\"upper right\", fontsize=6)\n",
    "            plt.yscale(\"linear\")\n",
    "            plt.title(f\"{chip_figtitle}, Pixel ({row},{col}) Noise Peak\"+tag,size=10)\n",
    "            plt.tight_layout()\n",
    "    plt.savefig(fig_path+\"/\"+chip_figname+\"_NoisePeak_Linear\"+attempt+\"_\"+datetime.datetime.now().strftime(\"%Y-%m-%d_%H-%M\")+\".png\")\n",
    "    plt.close()\n",
    "    del triggerbit_full_Scurve"
   ]
  },
  {
   "cell_type": "code",
   "execution_count": 26,
   "metadata": {},
   "outputs": [],
   "source": [
    "trigger_bit_noisescan_plot(chip_addresses[0], chip_figtitles[0], chip_fignames[0], scan_list, attempt='_quietCB', tag=\" Quiet CB\", autoBL=True, gaus=True)"
   ]
  },
  {
   "cell_type": "code",
   "execution_count": 27,
   "metadata": {},
   "outputs": [],
   "source": [
    "trigger_bit_noisescan_plot(chip_addresses[0], chip_figtitles[0], chip_fignames[0], scan_list, attempt='_activeCB', tag=\" Active CB\", autoBL=True, gaus=True)"
   ]
  },
  {
   "cell_type": "code",
   "execution_count": 28,
   "metadata": {},
   "outputs": [],
   "source": [
    "trigger_bit_noisescan_plot(chip_addresses[0], chip_figtitles[0], chip_fignames[0], scan_list, attempt='_activeCBwNB', tag=\" Active CB w/ Neighbors\", autoBL=True, gaus=True)"
   ]
  },
  {
   "cell_type": "code",
   "execution_count": null,
   "metadata": {},
   "outputs": [],
   "source": [
    "trigger_bit_noisescan_plot(chip_addresses[1], chip_figtitles[1], chip_fignames[1], scan_list, attempt='_quietCB', tag=\" Quiet CB\", autoBL=True, gaus=True)"
   ]
  },
  {
   "cell_type": "code",
   "execution_count": null,
   "metadata": {},
   "outputs": [],
   "source": [
    "trigger_bit_noisescan_plot(chip_addresses[2], chip_figtitles[2], chip_fignames[2], scan_list, attempt='_quietCB', tag=\" Quiet CB\", autoBL=True, gaus=True)"
   ]
  },
  {
   "cell_type": "code",
   "execution_count": null,
   "metadata": {},
   "outputs": [],
   "source": [
    "trigger_bit_noisescan_plot(chip_addresses[1], chip_figtitles[1], chip_fignames[1], scan_list, attempt='_activeCB', tag=\" Active CB\", autoBL=True, gaus=True)"
   ]
  },
  {
   "cell_type": "code",
   "execution_count": null,
   "metadata": {},
   "outputs": [],
   "source": [
    "trigger_bit_noisescan_plot(chip_addresses[2], chip_figtitles[2], chip_fignames[2], scan_list, attempt='_activeCB', tag=\" Active CB\", autoBL=True, gaus=True)"
   ]
  },
  {
   "attachments": {},
   "cell_type": "markdown",
   "metadata": {},
   "source": [
    "## Overnight Running for BL Stability"
   ]
  },
  {
   "cell_type": "code",
   "execution_count": null,
   "metadata": {},
   "outputs": [],
   "source": [
    "attempt=1\n",
    "start_time = time.time()\n",
    "while True:\n",
    "    if((time.time()-start_time<3600) and (attempt!=1)): continue\n",
    "    start_time = time.time()\n",
    "    today = datetime.date.today()\n",
    "    for chip_address, chip_name in zip(chip_addresses, chip_names):\n",
    "        for row, col in scan_list:\n",
    "            i2c_conn.auto_cal_pixel(chip_name=chip_name, row=row, col=col, verbose=False, chip_address=chip_address, chip=None, data=None, row_indexer_handle=None, column_indexer_handle=None)\n",
    "            i2c_conn.disable_pixel(row, col, verbose=False, chip_address=chip_address, chip=None, row_indexer_handle=None, column_indexer_handle=None)\n",
    "\n",
    "    str_attempt = '_'+str(attempt)\n",
    "\n",
    "    pixel_turnon_points(chip_addresses[0], chip_fignames[0], 0x0000, 0x1800, 0x0011, scan_list, verbose=False, attempt=str_attempt, today=today)\n",
    "    pixel_turnon_points(chip_addresses[1], chip_fignames[1], 0x0004, 0x2800, 0x0022, scan_list, verbose=False, attempt=str_attempt, today=today)\n",
    "    pixel_turnon_points(chip_addresses[2], chip_fignames[2], 0x000C, 0x8800, 0x0088, scan_list, verbose=False, attempt=str_attempt, today=today)\n",
    "\n",
    "    trigger_bit_noisescan(chip_addresses[0], chip_figtitles[0], chip_fignames[0], \"0x0000\", \"0x1800\", \"0x0011\", scan_list, verbose=False, pedestal_scan_step = 2, attempt=str_attempt, today=today)\n",
    "    trigger_bit_noisescan(chip_addresses[1], chip_figtitles[1], chip_fignames[1], \"0x0004\", \"0x2800\", \"0x0022\", scan_list, verbose=False, pedestal_scan_step = 2, attempt=str_attempt, today=today)\n",
    "    trigger_bit_noisescan(chip_addresses[2], chip_figtitles[2], chip_fignames[2], \"0x000C\", \"0x8800\", \"0x0088\", scan_list, verbose=False, pedestal_scan_step = 2, attempt=str_attempt, today=today)\n",
    "\n",
    "    trigger_bit_noisescan_plot(chip_addresses[0], chip_figtitles[0], chip_fignames[0], scan_list, attempt=str_attempt, today=today)\n",
    "    trigger_bit_noisescan_plot(chip_addresses[1], chip_figtitles[1], chip_fignames[1], scan_list, attempt=str_attempt, today=today)\n",
    "    trigger_bit_noisescan_plot(chip_addresses[2], chip_figtitles[2], chip_fignames[2], scan_list, attempt=str_attempt, today=today)\n",
    "\n",
    "    attempt = attempt+1    "
   ]
  },
  {
   "attachments": {},
   "cell_type": "markdown",
   "metadata": {},
   "source": [
    "## Repeat automatic scan with TDC enabled"
   ]
  },
  {
   "cell_type": "code",
   "execution_count": null,
   "metadata": {},
   "outputs": [],
   "source": [
    "def trigger_bit_noisescan_plot_autoCalVaried(chip_address, chip_figtitle, chip_figname, scan_list):\n",
    "    root = '../ETROC-Data'\n",
    "    file_pattern = \"*FPGA_Data.dat\"\n",
    "    scan_name = chip_figname+\"_VRef_SCurve_NoiseOnly\"\n",
    "    # BL_map_THCal,NW_map_THCal,_ = i2c_conn.get_auto_cal_maps(chip_address)\n",
    "    triggerbit_full_Scurve = {row:{col:{} for col in range(16)} for row in range(16)}\n",
    "\n",
    "    today = datetime.date.today()\n",
    "    todaystr = root+\"/\" + today.isoformat() + \"_Array_Test_Results/\"\n",
    "    base_dir = Path(todaystr)\n",
    "    base_dir.mkdir(exist_ok=True)\n",
    "    \n",
    "    for row,col in scan_list:\n",
    "        path_pattern = f\"*{today.isoformat()}_Array_Test_Results/{scan_name}_Pixel_C{col}_R{row}\"\n",
    "        file_list = []\n",
    "        for path, subdirs, files in os.walk(root):\n",
    "            if not fnmatch(path, path_pattern): continue\n",
    "            for name in files:\n",
    "                pass\n",
    "                if fnmatch(name, file_pattern):\n",
    "                    file_list.append(os.path.join(path, name))\n",
    "        for file_index, file_name in enumerate(file_list):\n",
    "            with open(file_name) as infile:\n",
    "                for line in infile:\n",
    "                    text_list = line.split(',')\n",
    "                    FPGA_triggerbit = int(text_list[5])\n",
    "                    DAC = int(text_list[-1])\n",
    "                    if DAC == -1: continue\n",
    "                    triggerbit_full_Scurve[row][col][DAC] = FPGA_triggerbit\n",
    "    row_list, col_list = zip(*scan_list)\n",
    "    u_cl = np.sort(np.unique(col_list))\n",
    "    u_rl = np.sort(np.unique(row_list))\n",
    "    fig = plt.figure(dpi=200, figsize=(len(np.unique(u_cl))*5,len(np.unique(u_rl))*5))\n",
    "    gs = fig.add_gridspec(len(np.unique(u_rl)),len(np.unique(u_cl)))\n",
    "    for ri,row in enumerate(u_rl):\n",
    "        for ci,col in enumerate(u_cl):\n",
    "            ax0 = fig.add_subplot(gs[len(u_rl)-ri-1,len(u_cl)-ci-1])\n",
    "            # i2c_conn.open_TDC_pixel(chip_address, row, col, verbose=True, chip=None, row_indexer_handle=None, column_indexer_handle=None, alreadySetPixel=False)\n",
    "            # i2c_conn.enable_pixel(row, col, verbose=True, chip_address=chip_address, chip=None, row_indexer_handle=None, column_indexer_handle=None)\n",
    "            i2c_conn.disable_pixel(row, col, verbose=True, chip_address=chip_address, chip=None, row_indexer_handle=None, column_indexer_handle=None)\n",
    "            for attempt in range(10):\n",
    "                i2c_conn.auto_cal_pixel(chip_figname, row, col, verbose=True, chip_address=chip_address, chip=None, data=None, row_indexer_handle=None, column_indexer_handle=None)\n",
    "                BL_map_THCal,NW_map_THCal,_ = i2c_conn.get_auto_cal_maps(chip_address)\n",
    "                ax0.axvline(BL_map_THCal[row][col], color='k', label=f\"AutoBL = {BL_map_THCal[row][col]}\", lw=0.7)\n",
    "                # ax0.axvline(BL_map_THCal[row][col]+NW_map_THCal[row][col], color='r', ls='-', label=f\"AutoNW = $\\pm${NW_map_THCal[row][col]}\", lw=0.7)\n",
    "                # ax0.axvline(BL_map_THCal[row][col]-NW_map_THCal[row][col], color='r', ls='-', lw=0.7)\n",
    "            # i2c_conn.close_TDC_pixel(chip_address, row, col, verbose=True, chip=None, row_indexer_handle=None, column_indexer_handle=None, alreadySetPixel=False)\n",
    "            i2c_conn.disable_pixel(row, col, verbose=True, chip_address=chip_address, chip=None, row_indexer_handle=None, column_indexer_handle=None)\n",
    "            ax0.plot(triggerbit_full_Scurve[row][col].keys(), triggerbit_full_Scurve[row][col].values(), '.-', color='b',lw=0.5,markersize=2)\n",
    "            ax0.set_xlabel(\"DAC Value [decimal]\")\n",
    "            ax0.set_ylabel(\"Trigger Bit Counts [decimal]\")\n",
    "            max_x_point = np.array(list(triggerbit_full_Scurve[row][col].keys()))[np.argmax(np.array(list(triggerbit_full_Scurve[row][col].values())))]\n",
    "            ax0.set_xlim(left=max_x_point-20, right=max_x_point+20)\n",
    "            plt.legend(loc=\"upper right\")\n",
    "            plt.yscale(\"linear\")\n",
    "            plt.title(f\"{chip_figtitle}, Pixel ({row},{col}) Noise Only S-Curve AutoCalTDCoff CBff PxOff\",size=8)\n",
    "            plt.tight_layout()\n",
    "    plt.savefig(fig_path+\"/\"+chip_figname+\"_NoiseOnly_S-Curve_autoCalVaried_TDCEnabled_\"+datetime.datetime.now().strftime(\"%Y-%m-%d_%H-%M\")+\".png\")\n",
    "    del triggerbit_full_Scurve"
   ]
  },
  {
   "cell_type": "code",
   "execution_count": null,
   "metadata": {},
   "outputs": [],
   "source": [
    "trigger_bit_noisescan_plot_autoCalVaried(chip_addresses[0], chip_figtitles[0], chip_fignames[0], scan_list)"
   ]
  },
  {
   "cell_type": "code",
   "execution_count": null,
   "metadata": {},
   "outputs": [],
   "source": [
    "def trigger_bit_noisescan_plot_autoCalVaried_selfTriggered(chip_address, chip_figtitle, chip_figname, s_flag, d_flag, a_flag, scan_list):\n",
    "    root = '../ETROC-Data'\n",
    "    file_pattern = \"*FPGA_Data.dat\"\n",
    "    scan_name = chip_figname+\"_VRef_SCurve_NoiseOnly\"\n",
    "    # BL_map_THCal,NW_map_THCal,_ = i2c_conn.get_auto_cal_maps(chip_address)\n",
    "    triggerbit_full_Scurve = {row:{col:{} for col in range(16)} for row in range(16)}\n",
    "\n",
    "    today = datetime.date.today()\n",
    "    todaystr = root+\"/\" + today.isoformat() + \"_Array_Test_Results/\"\n",
    "    base_dir = Path(todaystr)\n",
    "    base_dir.mkdir(exist_ok=True)\n",
    "    \n",
    "    for row,col in scan_list:\n",
    "        path_pattern = f\"*{today.isoformat()}_Array_Test_Results/{scan_name}_Pixel_C{col}_R{row}\"\n",
    "        file_list = []\n",
    "        for path, subdirs, files in os.walk(root):\n",
    "            if not fnmatch(path, path_pattern): continue\n",
    "            for name in files:\n",
    "                pass\n",
    "                if fnmatch(name, file_pattern):\n",
    "                    file_list.append(os.path.join(path, name))\n",
    "        for file_index, file_name in enumerate(file_list):\n",
    "            with open(file_name) as infile:\n",
    "                for line in infile:\n",
    "                    text_list = line.split(',')\n",
    "                    FPGA_triggerbit = int(text_list[5])\n",
    "                    DAC = int(text_list[-1])\n",
    "                    if DAC == -1: continue\n",
    "                    triggerbit_full_Scurve[row][col][DAC] = FPGA_triggerbit\n",
    "    row_list, col_list = zip(*scan_list)\n",
    "    u_cl = np.sort(np.unique(col_list))\n",
    "    u_rl = np.sort(np.unique(row_list))\n",
    "    fig = plt.figure(dpi=200, figsize=(len(np.unique(u_cl))*5,len(np.unique(u_rl))*5))\n",
    "    gs = fig.add_gridspec(len(np.unique(u_rl)),len(np.unique(u_cl)))\n",
    "    for ri,row in enumerate(u_rl):\n",
    "        for ci,col in enumerate(u_cl):\n",
    "            ax0 = fig.add_subplot(gs[len(u_rl)-ri-1,len(u_cl)-ci-1])\n",
    "            # i2c_conn.open_TDC_pixel(chip_address, row, col, verbose=True, chip=None, row_indexer_handle=None, column_indexer_handle=None, alreadySetPixel=False)\n",
    "            i2c_conn.enable_pixel(row, col, verbose=True, chip_address=chip_address, chip=None, row_indexer_handle=None, column_indexer_handle=None)\n",
    "            parser = run_script.getOptionParser()\n",
    "            (options, args) = parser.parse_args(args=f\"-f --useIPC --hostname {hostname} -o CanRemove -v -w --reset_till_trigger_linked --counter_duration 0x0001 --nodaq -s {s_flag} -d {int('000111'+format(485, '010b'), base=2)} -a {a_flag} -p 0x000f\".split())\n",
    "            IPC_queue = multiprocessing.Queue()\n",
    "            process = multiprocessing.Process(target=run_script.main_process, args=(IPC_queue, options, f'process_outputs/main_process_test'))\n",
    "            process.start()\n",
    "            process.join()\n",
    "            del IPC_queue\n",
    "            for attempt in range(10):\n",
    "                i2c_conn.auto_cal_pixel_TDCon(chip_figname, row, col, verbose=True, chip_address=chip_address, chip=None, data=None, row_indexer_handle=None, column_indexer_handle=None)\n",
    "                BL_map_THCal,NW_map_THCal,_ = i2c_conn.get_auto_cal_maps(chip_address)\n",
    "                ax0.axvline(BL_map_THCal[row][col], color='k', label=f\"AutoBL = {BL_map_THCal[row][col]}\", lw=0.7)\n",
    "                # ax0.axvline(BL_map_THCal[row][col]+NW_map_THCal[row][col], color='r', ls='-', label=f\"AutoNW = $\\pm${NW_map_THCal[row][col]}\", lw=0.7)\n",
    "                # ax0.axvline(BL_map_THCal[row][col]-NW_map_THCal[row][col], color='r', ls='-', lw=0.7)\n",
    "            # i2c_conn.close_TDC_pixel(chip_address, row, col, verbose=True, chip=None, row_indexer_handle=None, column_indexer_handle=None, alreadySetPixel=False)\n",
    "            i2c_conn.disable_pixel(row, col, verbose=True, chip_address=chip_address, chip=None, row_indexer_handle=None, column_indexer_handle=None)\n",
    "            (options, args) = parser.parse_args(args=f\"-f --useIPC --hostname {hostname} -o CanRemove -v -w --reset_till_trigger_linked --counter_duration 0x0001 --nodaq -s {s_flag} -d {d_flag} -a {a_flag} -p 0x000f\".split())\n",
    "            IPC_queue = multiprocessing.Queue()\n",
    "            process = multiprocessing.Process(target=run_script.main_process, args=(IPC_queue, options, f'process_outputs/main_process_test'))\n",
    "            process.start()\n",
    "            process.join()\n",
    "            ax0.plot(triggerbit_full_Scurve[row][col].keys(), triggerbit_full_Scurve[row][col].values(), '.-', color='b',lw=0.5,markersize=2)\n",
    "            ax0.set_xlabel(\"DAC Value [decimal]\")\n",
    "            ax0.set_ylabel(\"Trigger Bit Counts [decimal]\")\n",
    "            max_x_point = np.array(list(triggerbit_full_Scurve[row][col].keys()))[np.argmax(np.array(list(triggerbit_full_Scurve[row][col].values())))]\n",
    "            ax0.set_xlim(left=max_x_point-20, right=max_x_point+20)\n",
    "            plt.legend(loc=\"upper right\")\n",
    "            plt.yscale(\"linear\")\n",
    "            plt.title(f\"{chip_figtitle}, Pixel ({row},{col}) Noise Only S-Curve AutoCalTDCon CBon PxEn SelfTrig\",size=8)\n",
    "            plt.tight_layout()\n",
    "    plt.savefig(fig_path+\"/\"+chip_figname+\"_NoiseOnly_S-Curve_autoCalVaried_TDCEnabled_\"+datetime.datetime.now().strftime(\"%Y-%m-%d_%H-%M\")+\".png\")\n",
    "    del triggerbit_full_Scurve, IPC_queue, parser, process"
   ]
  },
  {
   "cell_type": "code",
   "execution_count": null,
   "metadata": {},
   "outputs": [],
   "source": [
    "trigger_bit_noisescan_plot_autoCalVaried_selfTriggered(chip_addresses[0], chip_figtitles[0], chip_fignames[0], \"0x0000\", \"0x1800\", \"0x0011\", scan_list)"
   ]
  },
  {
   "cell_type": "code",
   "execution_count": null,
   "metadata": {},
   "outputs": [],
   "source": []
  },
  {
   "attachments": {},
   "cell_type": "markdown",
   "metadata": {},
   "source": [
    "# Towards QInj Based Plots and S-Curves"
   ]
  },
  {
   "attachments": {},
   "cell_type": "markdown",
   "metadata": {},
   "source": [
    "# Finding the Peak DAC Values per Charge"
   ]
  },
  {
   "cell_type": "code",
   "execution_count": null,
   "metadata": {},
   "outputs": [],
   "source": [
    "QInjEns = [5, 6, 8, 15, 22, 27]\n",
    "# QInjEns = [27]"
   ]
  },
  {
   "cell_type": "code",
   "execution_count": null,
   "metadata": {},
   "outputs": [],
   "source": [
    "def pixel_turnoff_points(chip_address, chip_figname, s_flag, d_flag, a_flag, scan_list, verbose=False, QInjEns=[27]):\n",
    "    DAC_scan_max = 1020\n",
    "    scan_name = chip_figname+\"_VRef_SCurve_BinarySearch_TurnOff\"\n",
    "    fpga_time = 3\n",
    "\n",
    "    today = datetime.date.today()\n",
    "    todaystr = \"../ETROC-Data/\" + today.isoformat() + \"_Array_Test_Results/\"\n",
    "    base_dir = Path(todaystr)\n",
    "    base_dir.mkdir(exist_ok=True)\n",
    "\n",
    "    BL_map_THCal,_,_ = i2c_conn.get_auto_cal_maps(chip_address)\n",
    "    for row, col in scan_list:\n",
    "        i2c_conn.enable_pixel_binarysearch_data(row=row, col=col, verbose=verbose, chip_address=chip_address, chip=None, row_indexer_handle=None, column_indexer_handle=None)\n",
    "        pixel_connected_chip = i2c_conn.get_pixel_chip(chip_address, row, col)\n",
    "        for QInj in QInjEns:\n",
    "            i2c_conn.pixel_decoded_register_write(\"QSel\", format(QInj, '05b'), pixel_connected_chip)\n",
    "            threshold_name = scan_name+f'_Pixel_C{col}_R{row}_QInj_{QInj}'\n",
    "            parser = run_script.getOptionParser()\n",
    "            (options, args) = parser.parse_args(args=f\"-f --useIPC --hostname {hostname} -o {threshold_name} -v -w --reset_till_trigger_linked -s {s_flag} -d {d_flag} -a {a_flag} -p 0x000f --counter_duration 0x0001 --fpga_data_time_limit {int(fpga_time)} --fpga_data_QInj --check_trigger_link_at_end --nodaq --clear_fifo\".split())\n",
    "            IPC_queue = multiprocessing.Queue()\n",
    "            process = multiprocessing.Process(target=run_script.main_process, args=(IPC_queue, options, f'process_outputs/main_process_link'))\n",
    "            process.start()\n",
    "            process.join()\n",
    "\n",
    "            a = BL_map_THCal[row][col]\n",
    "            b = DAC_scan_max\n",
    "            header_max = -1\n",
    "            while b-a>1:\n",
    "                DAC = int(np.floor((a+b)/2))\n",
    "                # Set the DAC to the value being scanned\n",
    "                i2c_conn.pixel_decoded_register_write(\"DAC\", format(DAC, '010b'), pixel_connected_chip)\n",
    "                (options, args) = parser.parse_args(args=f\"--useIPC --hostname {hostname} -o {threshold_name} -v --reset_till_trigger_linked --counter_duration 0x0001 --fpga_data_time_limit {int(fpga_time)} --fpga_data_QInj --check_trigger_link_at_end --nodaq --DAC_Val {int(DAC)}\".split())\n",
    "                IPC_queue = multiprocessing.Queue()\n",
    "                process = multiprocessing.Process(target=run_script.main_process, args=(IPC_queue, options, f'process_outputs/main_process_{DAC}'))\n",
    "                process.start()\n",
    "                process.join()\n",
    "                \n",
    "                continue_flag = False\n",
    "                root = '../ETROC-Data'\n",
    "                file_pattern = \"*FPGA_Data.dat\"\n",
    "                path_pattern = f\"*{today.isoformat()}_Array_Test_Results/{threshold_name}\"\n",
    "                file_list = []\n",
    "                for path, subdirs, files in os.walk(root):\n",
    "                    if not fnmatch(path, path_pattern): continue\n",
    "                    for name in files:\n",
    "                        pass\n",
    "                        if fnmatch(name, file_pattern):\n",
    "                            file_list.append(os.path.join(path, name))\n",
    "                for file_index, file_name in enumerate(file_list):\n",
    "                    with open(file_name) as infile:\n",
    "                        lines = infile.readlines()\n",
    "                        last_line = lines[-1]\n",
    "                        first_line = lines[0]\n",
    "                        header_max = int(first_line.split(',')[4])\n",
    "                        text_list = last_line.split(',')\n",
    "                        FPGA_state = text_list[0]\n",
    "                        line_DAC = int(text_list[-1])\n",
    "                        if(FPGA_state==0 or line_DAC!=DAC): \n",
    "                            continue_flag=True\n",
    "                            continue\n",
    "                        TDC_data = int(text_list[3])\n",
    "                        # Condition handling for Binary Search\n",
    "                        if(TDC_data>=header_max/2.):\n",
    "                            a = DAC\n",
    "                        else:\n",
    "                            b = DAC                     \n",
    "                if(continue_flag): continue  \n",
    "        i2c_conn.disable_pixel(row=row, col=col, verbose=verbose, chip_address=chip_address, chip=None, row_indexer_handle=None, column_indexer_handle=None)\n",
    "        print(f\"Turn-Off points for Pixel ({row},{col}) for chip {hex(chip_address)} were found\")\n",
    "        del parser, IPC_queue, process, pixel_connected_chip"
   ]
  },
  {
   "cell_type": "code",
   "execution_count": null,
   "metadata": {},
   "outputs": [],
   "source": [
    "pixel_turnoff_points(chip_addresses[0], chip_fignames[0], \"0x0000\", \"0x1800\", \"0x0011\", scan_list, verbose=False, QInjEns=QInjEns)"
   ]
  },
  {
   "cell_type": "code",
   "execution_count": null,
   "metadata": {},
   "outputs": [],
   "source": [
    "pixel_turnoff_points(chip_addresses[1], chip_fignames[1], \"0x0004\", \"0x2800\", \"0x0022\", scan_list, verbose=False, QInjEns=QInjEns)"
   ]
  },
  {
   "cell_type": "code",
   "execution_count": null,
   "metadata": {},
   "outputs": [],
   "source": [
    "pixel_turnoff_points(chip_addresses[2], chip_fignames[2], \"0x000C\", \"0x8800\", \"0x0088\", scan_list, verbose=False, QInjEns=QInjEns)"
   ]
  },
  {
   "attachments": {},
   "cell_type": "markdown",
   "metadata": {},
   "source": [
    "# Q vs Peak DAC Plots"
   ]
  },
  {
   "cell_type": "code",
   "execution_count": null,
   "metadata": {},
   "outputs": [],
   "source": [
    "def charge_peakDAC_plot(chip_address, chip_figtitle, chip_figname, scan_list, QInjEns):\n",
    "    root = '../ETROC-Data'\n",
    "    file_pattern = \"*FPGA_Data.dat\"\n",
    "    scan_name = chip_figname+\"_VRef_SCurve_BinarySearch_TurnOff\"\n",
    "    BL_map_THCal,NW_map_THCal,_ = i2c_conn.get_auto_cal_maps(chip_address)\n",
    "    QInj_Peak_DAC_map = {row:{col:{q:0 for q in QInjEns} for col in range(16)} for row in range(16)}\n",
    "\n",
    "    today = datetime.date.today()\n",
    "    todaystr = root+\"/\" + today.isoformat() + \"_Array_Test_Results/\"\n",
    "    base_dir = Path(todaystr)\n",
    "    base_dir.mkdir(exist_ok=True)\n",
    "    \n",
    "    for row,col in scan_list:\n",
    "        for QInj in QInjEns:\n",
    "            threshold_name = scan_name+f'_Pixel_C{col}_R{row}_QInj_{QInj}'\n",
    "            path_pattern = f\"*{today.isoformat()}_Array_Test_Results/{threshold_name}\"\n",
    "            file_list = []\n",
    "            for path, subdirs, files in os.walk(root):\n",
    "                if not fnmatch(path, path_pattern): continue\n",
    "                for name in files:\n",
    "                    pass\n",
    "                    if fnmatch(name, file_pattern):\n",
    "                        file_list.append(os.path.join(path, name))\n",
    "            for file_index, file_name in enumerate(file_list):\n",
    "                with open(file_name) as infile:\n",
    "                    last_line = infile.readlines()[-1]\n",
    "                    text_list = last_line.split(',')\n",
    "                    DAC = int(text_list[-1])\n",
    "                    QInj_Peak_DAC_map[row][col][QInj] = DAC\n",
    "\n",
    "    row_list, col_list = zip(*scan_list)\n",
    "    u_cl = np.sort(np.unique(col_list))\n",
    "    u_rl = np.sort(np.unique(row_list))\n",
    "    fig = plt.figure(dpi=200, figsize=(len(np.unique(u_cl))*7,len(np.unique(u_rl))*5))\n",
    "    gs = fig.add_gridspec(len(np.unique(u_rl)),len(np.unique(u_cl)))\n",
    "    for ri,row in enumerate(u_rl):\n",
    "        for ci,col in enumerate(u_cl):\n",
    "            BL = int(np.floor(BL_map_THCal[row][col]))\n",
    "            NW = abs(int(np.floor(NW_map_THCal[row][col])))\n",
    "            ax0 = fig.add_subplot(gs[len(u_rl)-ri-1,len(u_cl)-ci-1])\n",
    "            ax0.axhline(BL, color='k', lw=0.8, label=f\"BL = {BL} DAC LSB\")\n",
    "            ax0.axhline(BL+NW, color='k',ls=\"--\", lw=0.8, label=f\"NW = $\\pm${NW} DAC LSB\")\n",
    "            ax0.axhline(BL-NW, color='k',ls=\"--\", lw=0.8)\n",
    "            X = []\n",
    "            Y = []\n",
    "            for QInj in QInjEns:\n",
    "                ax0.plot(QInj, QInj_Peak_DAC_map[row][col][QInj], 'rx')\n",
    "                X.append(QInj)\n",
    "                Y.append(QInj_Peak_DAC_map[row][col][QInj])\n",
    "            X = np.array(X[:])\n",
    "            Y = np.array(Y[:])\n",
    "            (m, b), cov = np.polyfit(X, Y, 1, cov = True)\n",
    "            n = Y.size\n",
    "            Yfit = np.polyval((m,b), X)\n",
    "            errorbars = np.sqrt(np.diag(cov))\n",
    "            x_range = np.linspace(0, 35, 100)\n",
    "            y_est = b + m*x_range\n",
    "            resid = Y - Yfit\n",
    "            s_err = np.sqrt(np.sum(resid**2)/(n - 2))\n",
    "            t = stats.t.ppf(0.95, n - 2)\n",
    "            ci2= t * s_err * np.sqrt(    1/n + (x_range - np.mean(X))**2/(np.sum((X)**2)-n*np.sum((np.mean(X))**2)))\n",
    "            \n",
    "            ax0.plot(x_range, y_est, 'b-', lw=-.8, label=f\"DAC_TH = ({m:.3f}$\\pm${errorbars[0]:.3f} [1/fC])$\\cdot$Q + ({b:.3f}$\\pm${errorbars[1]:.3f})\")\n",
    "            plt.fill_between(x_range, y_est+ci2, y_est-ci2, color='b',alpha=0.2, label=\"95% Confidence Interval on Linear Fit\")\n",
    "            ax0.set_xlabel(\"Charge Injected [fC]\")\n",
    "            ax0.set_ylabel(\"DAC Threshold [LSB]\")\n",
    "            plt.title(f\"{chip_figtitle}, Pixel ({row},{col}) Qinj Sensitivity Plot\",size=10)\n",
    "            plt.legend(loc=\"upper left\")\n",
    "    plt.tight_layout()\n",
    "    plt.savefig(fig_path+\"/\"+chip_figname+\"_QInj_Sensitivity_\"+datetime.datetime.now().strftime(\"%Y-%m-%d_%H-%M\")+\".png\")\n",
    "    del QInj_Peak_DAC_map"
   ]
  },
  {
   "cell_type": "code",
   "execution_count": null,
   "metadata": {},
   "outputs": [],
   "source": [
    "charge_peakDAC_plot(chip_addresses[0], chip_figtitles[0], chip_fignames[0], scan_list, QInjEns)"
   ]
  },
  {
   "cell_type": "code",
   "execution_count": null,
   "metadata": {},
   "outputs": [],
   "source": [
    "charge_peakDAC_plot(chip_addresses[1], chip_figtitles[1], chip_fignames[1], scan_list, QInjEns)"
   ]
  },
  {
   "cell_type": "code",
   "execution_count": null,
   "metadata": {},
   "outputs": [],
   "source": [
    "charge_peakDAC_plot(chip_addresses[2], chip_figtitles[2], chip_fignames[2], scan_list, QInjEns)"
   ]
  },
  {
   "cell_type": "code",
   "execution_count": null,
   "metadata": {},
   "outputs": [],
   "source": []
  },
  {
   "cell_type": "code",
   "execution_count": null,
   "metadata": {},
   "outputs": [],
   "source": []
  },
  {
   "cell_type": "code",
   "execution_count": null,
   "metadata": {},
   "outputs": [],
   "source": []
  },
  {
   "attachments": {},
   "cell_type": "markdown",
   "metadata": {},
   "source": [
    "# Disconnect I2C Device"
   ]
  },
  {
   "cell_type": "code",
   "execution_count": null,
   "metadata": {},
   "outputs": [],
   "source": [
    "del i2c_conn"
   ]
  }
 ],
 "metadata": {
  "kernelspec": {
   "display_name": "Python 3",
   "language": "python",
   "name": "python3"
  },
  "language_info": {
   "codemirror_mode": {
    "name": "ipython",
    "version": 3
   },
   "file_extension": ".py",
   "mimetype": "text/x-python",
   "name": "python",
   "nbconvert_exporter": "python",
   "pygments_lexer": "ipython3",
   "version": "3.9.16"
  },
  "orig_nbformat": 4
 },
 "nbformat": 4,
 "nbformat_minor": 2
}
