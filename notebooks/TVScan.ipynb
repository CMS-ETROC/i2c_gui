{
 "cells": [
  {
   "cell_type": "code",
   "execution_count": null,
   "metadata": {},
   "outputs": [],
   "source": [
    "#############################################################################\n",
    "# zlib License\n",
    "#\n",
    "# (C) 2023 Cristóvão Beirão da Cruz e Silva <cbeiraod@cern.ch>\n",
    "#\n",
    "# This software is provided 'as-is', without any express or implied\n",
    "# warranty.  In no event will the authors be held liable for any damages\n",
    "# arising from the use of this software.\n",
    "#\n",
    "# Permission is granted to anyone to use this software for any purpose,\n",
    "# including commercial applications, and to alter it and redistribute it\n",
    "# freely, subject to the following restrictions:\n",
    "#\n",
    "# 1. The origin of this software must not be misrepresented; you must not\n",
    "#    claim that you wrote the original software. If you use this software\n",
    "#    in a product, an acknowledgment in the product documentation would be\n",
    "#    appreciated but is not required.\n",
    "# 2. Altered source versions must be plainly marked as such, and must not be\n",
    "#    misrepresented as being the original software.\n",
    "# 3. This notice may not be removed or altered from any source distribution.\n",
    "#############################################################################"
   ]
  },
  {
   "cell_type": "markdown",
   "metadata": {},
   "source": [
    "# Imports"
   ]
  },
  {
   "cell_type": "code",
   "execution_count": null,
   "metadata": {},
   "outputs": [],
   "source": [
    "#%%\n",
    "%matplotlib inline\n",
    "import matplotlib.pyplot as plt\n",
    "import logging\n",
    "import i2c_gui\n",
    "import i2c_gui.chips\n",
    "from i2c_gui.usb_iss_helper import USB_ISS_Helper\n",
    "from i2c_gui.fpga_eth_helper import FPGA_ETH_Helper\n",
    "import numpy as np\n",
    "from mpl_toolkits.axes_grid1 import make_axes_locatable\n",
    "# import time\n",
    "from tqdm import tqdm\n",
    "# from i2c_gui.chips.etroc2_chip import register_decoding\n",
    "import os, sys\n",
    "import multiprocessing\n",
    "import importlib\n",
    "import datetime\n",
    "import pandas\n",
    "from pathlib import Path\n",
    "import subprocess\n",
    "import sqlite3\n",
    "from fnmatch import fnmatch\n",
    "import scipy.stats as stats\n",
    "import hist\n",
    "import mplhep as hep\n",
    "plt.style.use(hep.style.CMS)\n",
    "from notebooks.notebook_helpers import *\n",
    "\n",
    "from scripts.log_action import log_action_v2\n",
    "from time import sleep\n",
    "from scripts.read_current_v2 import DeviceMeasurements\n",
    "\n",
    "\n",
    "os.chdir(f'/home/{os.getlogin()}/ETROC2/ETROC_DAQ')\n",
    "import run_script\n",
    "importlib.reload(run_script)\n",
    "\n",
    "parser = run_script.getOptionParser()"
   ]
  },
  {
   "cell_type": "markdown",
   "metadata": {},
   "source": [
    "# Get a controller to control the power supplies"
   ]
  },
  {
   "cell_type": "code",
   "execution_count": null,
   "metadata": {},
   "outputs": [],
   "source": [
    "device_meas = DeviceMeasurements(\n",
    "                                outdir = Path(\"../i2c_gui/\"),\n",
    "                                #outdir = Path('/run/media/daq/T7/'),\n",
    "                                interval = 5,  # measure every 5 seconds\n",
    "                                #baudrate = args.baudrate,\n",
    "                                write_termination = '\\n',\n",
    "                                read_termination = '\\r\\n',\n",
    "                                 )\n",
    "\n",
    "device_meas.add_instrument(\"Power\", \"THURLBY THANDAR\", \"PL303QMD-P\", \"506013\")\n",
    "device_meas.add_instrument(\"WS Power\", \"THURLBY THANDAR\", \"PL303QMD-P\", \"521246\")\n",
    "\n",
    "device_meas.add_channel(\"Power\", 1, \"Analog\", config = {\n",
    "                                                        \"Vset\": 1.2 + 0.04,\n",
    "                                                        \"Ilimit\": 0.5,\n",
    "                                                        \"IRange\": \"Low\",  # Alternative \"High\"\n",
    "                                                        }\n",
    ")\n",
    "device_meas.add_channel(\"Power\", 2, \"Digital\", config = {\n",
    "                                                        \"Vset\": 1.2 + 0.09,\n",
    "                                                        \"Ilimit\": 0.4,\n",
    "                                                        \"IRange\": \"Low\",  # Alternative \"High\"\n",
    "                                                        }\n",
    ")\n",
    "device_meas.add_channel(\"WS Power\", 1, \"Analog\", config = {\n",
    "                                                        \"Vset\": 1.2 + 0.01,\n",
    "                                                        \"Ilimit\": 0.03,\n",
    "                                                        \"IRange\": \"Low\",  # Alternative \"High\"\n",
    "                                                        }\n",
    ")\n",
    "device_meas.add_channel(\"WS Power\", 2, \"Digital\", config = {\n",
    "                                                        \"Vset\": 1.2 + 0.01,\n",
    "                                                        \"Ilimit\": 0.1,\n",
    "                                                        \"IRange\": \"Low\",  # Alternative \"High\"\n",
    "                                                        }\n",
    ")\n",
    "\n",
    "device_meas.find_devices()"
   ]
  },
  {
   "cell_type": "code",
   "execution_count": null,
   "metadata": {},
   "outputs": [],
   "source": [
    "device_meas.turn_on()"
   ]
  },
  {
   "cell_type": "markdown",
   "metadata": {},
   "source": [
    "# Set defaults"
   ]
  },
  {
   "cell_type": "code",
   "execution_count": null,
   "metadata": {},
   "outputs": [],
   "source": [
    "# !!!!!!!!!!!!\n",
    "# It is very important to correctly set the chip name, this value is stored with the data\n",
    "chip_names = [\"ET2_01E2_52\"]\n",
    "# chip_names = [\"ET2-W36-IP5-20\", \"ET2-W36-IP7-13\", \"ET2-W36-IP7-10\"]\n",
    "# old \n",
    "# chip_names = [\"ET2-W36-IP7-12\", \"ET2-W36-IP5-15\", \"ET2-W36-IP5-14\"]\n",
    "# old [0x78, 0x61, 0x74]\n",
    "# old top modified C type =  ET2-W36-IP5-15\n",
    "# replaced with new type D = ET2-W36-IP7-10\n",
    "chip_fignames = chip_names\n",
    "chip_figtitles = [\"ETROC2 01E2 #52 21C PostTID 200MRads\"]\n",
    "\n",
    "# 'The port name the USB-ISS module is connected to. Default: COM3'\n",
    "port = \"/dev/ttyACM0\"\n",
    "# I2C addresses for the pixel block and WS\n",
    "chip_addresses = [0x60]\n",
    "# chip_addresses = [0x78, 0x74, 0x61]\n",
    "ws_addresses = [None]\n",
    "\n",
    "today = datetime.date.today().isoformat()\n",
    "# today = \"2023-09-14\"\n",
    "\n",
    "\n",
    "# i2c_gui.__no_connect__ = False  # Set to fake connecting to an ETROC2 device\n",
    "# i2c_gui.__no_connect_type__ = \"echo\"  # for actually testing readback\n",
    "# #i2c_gui.__no_connect_type__ = \"check\"  # default behaviour\n",
    "\n",
    "hostname = \"192.168.2.3\"\n",
    "\n",
    "polarity = \"0x000f\"\n",
    "\n",
    "fig_outdir = Path('../ETROC-figures')\n",
    "fig_outdir = fig_outdir / (today + '_Array_Test_Results')\n",
    "fig_outdir.mkdir(exist_ok=True)\n",
    "fig_path = str(fig_outdir)"
   ]
  },
  {
   "cell_type": "markdown",
   "metadata": {},
   "source": [
    "# Make i2c_connection class object"
   ]
  },
  {
   "cell_type": "code",
   "execution_count": null,
   "metadata": {},
   "outputs": [],
   "source": [
    "# i2c_conn = self, port, chip_addresses, chip_names, chip_fc_delays\n",
    "i2c_conn = i2c_connection(port,chip_addresses,chip_names,[(\"1\",\"1\")])"
   ]
  },
  {
   "cell_type": "markdown",
   "metadata": {},
   "source": [
    "# Config chips"
   ]
  },
  {
   "cell_type": "markdown",
   "metadata": {},
   "source": [
    "### Key is (Disable Pixels, Auto Cal, Chip Peripherals, Basic Peri Reg Check, Pixel Check)"
   ]
  },
  {
   "cell_type": "code",
   "execution_count": null,
   "metadata": {},
   "outputs": [],
   "source": [
    "log_action_v2(Path(\"../i2c_gui\"), \"Config\", \"\", f\"Initial chip configuration for chip {chip_names[0]}\")\n",
    "\n",
    "# 0 - 0 - (disable & auto_cal all pixels) - (auto_TH_CAL) - (disable default all pixels) - (set basic peripherals) - (peripheral reg check) -  (pixel ID check)\n",
    "# i2c_conn.config_chips('00100111')\n",
    "i2c_conn.config_chips('00010000')"
   ]
  },
  {
   "cell_type": "markdown",
   "metadata": {},
   "source": [
    "## Visualize the learned Baselines (BL) and Noise Widths (NW)\n",
    "\n",
    "Note that the NW represents the full width on either side of the BL"
   ]
  },
  {
   "cell_type": "code",
   "execution_count": null,
   "metadata": {},
   "outputs": [],
   "source": [
    "#%%\n",
    "%matplotlib inline\n",
    "import matplotlib.pyplot as plt\n",
    "\n",
    "fig = plt.figure(dpi=50, figsize=(5,5))\n",
    "gs = fig.add_gridspec(1,1)\n",
    "\n",
    "ax0 = fig.add_subplot(gs[0,0])\n",
    "ax0.plot([1, 0], [1, 0])\n",
    "plt.show()\n",
    "plt.close()"
   ]
  },
  {
   "cell_type": "code",
   "execution_count": null,
   "metadata": {},
   "outputs": [],
   "source": [
    "# from mpl_toolkits.axes_grid1 import make_axes_locatable\n",
    "for chip_address, chip_figname, chip_figtitle in zip(chip_addresses,chip_fignames,chip_figtitles):\n",
    "    BL_map_THCal,NW_map_THCal,BL_df = i2c_conn.get_auto_cal_maps(chip_address)\n",
    "    fig = plt.figure(dpi=200, figsize=(20,10))\n",
    "    gs = fig.add_gridspec(1,2)\n",
    "\n",
    "    ax0 = fig.add_subplot(gs[0,0])\n",
    "    ax0.set_title(f\"{chip_figtitle}: BL (DAC LSB)\", size=17, loc=\"right\")\n",
    "    img0 = ax0.imshow(BL_map_THCal, interpolation='none')\n",
    "    ax0.set_aspect(\"equal\")\n",
    "    ax0.invert_xaxis()\n",
    "    ax0.invert_yaxis()\n",
    "    plt.xticks(range(16), range(16), rotation=\"vertical\")\n",
    "    plt.yticks(range(16), range(16))\n",
    "    hep.cms.text(loc=0, ax=ax0, fontsize=17, text=\"Preliminary\")\n",
    "    divider = make_axes_locatable(ax0)\n",
    "    cax = divider.append_axes('right', size=\"5%\", pad=0.05)\n",
    "    fig.colorbar(img0, cax=cax, orientation=\"vertical\")\n",
    "\n",
    "    ax1 = fig.add_subplot(gs[0,1])\n",
    "    ax1.set_title(f\"{chip_figtitle}: NW (DAC LSB)\", size=17, loc=\"right\")\n",
    "    img1 = ax1.imshow(NW_map_THCal, interpolation='none')\n",
    "    ax1.set_aspect(\"equal\")\n",
    "    ax1.invert_xaxis()\n",
    "    ax1.invert_yaxis()\n",
    "    plt.xticks(range(16), range(16), rotation=\"vertical\")\n",
    "    plt.yticks(range(16), range(16))\n",
    "    hep.cms.text(loc=0, ax=ax1, fontsize=17, text=\"Preliminary\")\n",
    "    divider = make_axes_locatable(ax1)\n",
    "    cax = divider.append_axes('right', size=\"5%\", pad=0.05)\n",
    "    fig.colorbar(img1, cax=cax, orientation=\"vertical\")\n",
    "\n",
    "    for x in range(16):\n",
    "        for y in range(16):\n",
    "            ax0.text(x,y,f\"{BL_map_THCal.T[x,y]:.0f}\", c=\"white\", size=10, rotation=45, fontweight=\"bold\", ha=\"center\", va=\"center\")\n",
    "            ax1.text(x,y,f\"{NW_map_THCal.T[x,y]:.0f}\", c=\"white\", size=10, rotation=45, fontweight=\"bold\", ha=\"center\", va=\"center\")\n",
    "    plt.tight_layout()\n",
    "    plt.savefig(fig_path+\"/BL_NW_\"+chip_figname+\"_\"+datetime.datetime.now().strftime(\"%Y-%m-%d_%H-%M\")+\".png\")\n",
    "    plt.show()"
   ]
  },
  {
   "cell_type": "markdown",
   "metadata": {},
   "source": [
    "### Save BL and NW to be loaded later"
   ]
  },
  {
   "cell_type": "code",
   "execution_count": null,
   "metadata": {},
   "outputs": [],
   "source": [
    "for chip_address, chip_name in zip(chip_addresses, chip_names):\n",
    "    i2c_conn.save_auto_cal_BL_map(chip_address, chip_name, \"\")\n",
    "    i2c_conn.save_auto_cal_NW_map(chip_address, chip_name, \"\")"
   ]
  },
  {
   "cell_type": "code",
   "execution_count": null,
   "metadata": {},
   "outputs": [],
   "source": [
    "for chip_address, chip_name in zip(chip_addresses, chip_names):\n",
    "    i2c_conn.load_auto_cal_BL_map(chip_address, chip_name, \"\")\n",
    "    i2c_conn.load_auto_cal_NW_map(chip_address, chip_name, \"\")"
   ]
  },
  {
   "cell_type": "markdown",
   "metadata": {},
   "source": [
    "## Save in git"
   ]
  },
  {
   "cell_type": "code",
   "execution_count": null,
   "metadata": {},
   "outputs": [],
   "source": [
    "outdir = Path('../ETROC-Data')\n",
    "outdir = outdir / (datetime.date.today().isoformat() + '_Array_Test_Results')\n",
    "outdir.mkdir(exist_ok=True)\n",
    "outfile = outdir / (chip_fignames[0]+\"_BaselineAt_\" + datetime.datetime.now().strftime(\"%Y-%m-%d_%H-%M\") + \".csv\")\n",
    "BL_df.to_csv(outfile, index=False)"
   ]
  },
  {
   "cell_type": "code",
   "execution_count": null,
   "metadata": {},
   "outputs": [],
   "source": [
    "note = 'PostTID_200MRads_Plus21'+chip_names[0]\n",
    "new_columns = {\n",
    "    'note': f'{note}',\n",
    "}\n",
    "\n",
    "for col in new_columns:\n",
    "    BL_df[col] = new_columns[col]\n",
    "\n",
    "outdir = Path('../ETROC-History')\n",
    "outfile = outdir / 'BaselineHistory.sqlite'\n",
    "\n",
    "init_cmd = [\n",
    "    'cd ' + str(outdir.resolve()),\n",
    "    'git stash -u',\n",
    "    'git pull',\n",
    "]\n",
    "end_cmd = [\n",
    "    'cd ' + str(outdir.resolve()),\n",
    "    'git add BaselineHistory.sqlite',\n",
    "    'git commit -m \"Added new history entry\"',\n",
    "    'git push',\n",
    "    'git stash pop',\n",
    "    'git stash clear',\n",
    "]\n",
    "init_cmd = [x + '\\n' for x in init_cmd]\n",
    "end_cmd  = [x + '\\n' for x in end_cmd]\n",
    "\n",
    "p = subprocess.Popen(\n",
    "    '/bin/bash',\n",
    "    stdin=subprocess.PIPE,\n",
    "    stdout=subprocess.PIPE,\n",
    "    stderr=subprocess.PIPE,\n",
    "    encoding=\"utf-8\",\n",
    "    )\n",
    "\n",
    "for cmd in init_cmd:\n",
    "    p.stdin.write(cmd + \"\\n\")\n",
    "p.stdin.close()\n",
    "p.wait()\n",
    "\n",
    "print(p.stdout.read())\n",
    "\n",
    "with sqlite3.connect(outfile) as sqlconn:\n",
    "    BL_df.to_sql('baselines', sqlconn, if_exists='append', index=False)\n",
    "\n",
    "p = subprocess.Popen(\n",
    "    '/bin/bash',\n",
    "    stdin=subprocess.PIPE,\n",
    "    stdout=subprocess.PIPE,\n",
    "    stderr=subprocess.PIPE,\n",
    "    encoding=\"utf-8\",\n",
    "    )\n",
    "\n",
    "for cmd in end_cmd:\n",
    "    p.stdin.write(cmd + \"\\n\")\n",
    "p.stdin.close()\n",
    "p.wait()\n",
    "\n",
    "p.stdin.close()\n",
    "\n",
    "print(p.stdout.read())\n"
   ]
  },
  {
   "cell_type": "markdown",
   "metadata": {},
   "source": [
    "# Calibrate PLL"
   ]
  },
  {
   "cell_type": "code",
   "execution_count": null,
   "metadata": {},
   "outputs": [],
   "source": [
    "log_action_v2(Path(\"../i2c_gui\"), \"Config\", \"\", \"Calibrating PLL\")\n",
    "\n",
    "for chip_address in chip_addresses[:]:\n",
    "    i2c_conn.calibratePLL(chip_address, chip=None)"
   ]
  },
  {
   "cell_type": "markdown",
   "metadata": {},
   "source": [
    "# Calibrate FC"
   ]
  },
  {
   "cell_type": "code",
   "execution_count": null,
   "metadata": {},
   "outputs": [],
   "source": [
    "log_action_v2(Path(\"../i2c_gui\"), \"Config\", \"\", \"Calibrating FC\")\n",
    "\n",
    "for chip_address in chip_addresses[:]:\n",
    "    i2c_conn.asyResetGlobalReadout(chip_address, chip=None)\n",
    "    i2c_conn.asyAlignFastcommand(chip_address, chip=None)"
   ]
  },
  {
   "cell_type": "markdown",
   "metadata": {},
   "source": [
    "# Define pixels of interest"
   ]
  },
  {
   "cell_type": "code",
   "execution_count": null,
   "metadata": {},
   "outputs": [],
   "source": [
    "row_list = [0,  0, 15, 15]\n",
    "col_list = [0, 15, 15,  0]\n",
    "qinj_list = [30]\n",
    "\n",
    "scan_list = list(zip(row_list, col_list))\n",
    "print(scan_list)"
   ]
  },
  {
   "cell_type": "markdown",
   "metadata": {},
   "source": [
    "# Run One Time DAQ to Set FPGA Firmware"
   ]
  },
  {
   "cell_type": "code",
   "execution_count": null,
   "metadata": {},
   "outputs": [],
   "source": [
    "log_action_v2(Path(\"../i2c_gui\"), \"Config\", \"\", \"Run one time DAQ\")\n",
    "\n",
    "parser = run_script.getOptionParser()\n",
    "(options, args) = parser.parse_args(args=f\"-f --useIPC --hostname {hostname} -t 20 -o CanBeRemoved_Board0_NoLinkCheck -v -w -s 0x0000 -p {polarity} -d 0x1800 -a 0x0011 --clear_fifo\".split())\n",
    "IPC_queue = multiprocessing.Queue()\n",
    "process = multiprocessing.Process(target=run_script.main_process, args=(IPC_queue, options, f'main_process_Start_LEDs_Board0_NoLinkCheck'))\n",
    "process.start()\n",
    "\n",
    "IPC_queue.put('memoFC Start Triggerbit QInj L1A BCR')\n",
    "while not IPC_queue.empty():\n",
    "    pass\n",
    "time.sleep(10)\n",
    "IPC_queue.put('stop DAQ')\n",
    "IPC_queue.put('memoFC Triggerbit')\n",
    "while not IPC_queue.empty():\n",
    "    pass\n",
    "IPC_queue.put('allow threads to exit')\n",
    "process.join()\n",
    "\n",
    "del IPC_queue, process, parser"
   ]
  },
  {
   "cell_type": "markdown",
   "metadata": {},
   "source": [
    "# Scan DAC to find offset above double peak"
   ]
  },
  {
   "cell_type": "code",
   "execution_count": null,
   "metadata": {},
   "outputs": [],
   "source": [
    "log_action_v2(Path(\"../i2c_gui\"), \"Config\", \"\", \"Performing DAC QInj scan\")\n",
    "\n",
    "scan_name = chip_fignames[0]+\"_DACScan\"\n",
    "fpga_time = 3\n",
    "scan_step = 2\n",
    "\n",
    "\n",
    "parser = run_script.getOptionParser()\n",
    "\n",
    "for QInj in qinj_list:\n",
    "    for (col, row) in scan_list:\n",
    "        print(f\"Pixel: {col},{row}; QInj: {QInj}\")\n",
    "\n",
    "        pixel_connected_chip = i2c_conn.get_pixel_chip(chip_address, row, col)\n",
    "        # Enable charge injection\n",
    "        i2c_conn.pixel_decoded_register_write(\"disDataReadout\", \"0\", pixel_connected_chip)\n",
    "        i2c_conn.pixel_decoded_register_write(\"QInjEn\", \"1\", pixel_connected_chip)\n",
    "        i2c_conn.pixel_decoded_register_write(\"disTrigPath\", \"0\", pixel_connected_chip)\n",
    "        # Bypass Cal Threshold\n",
    "        i2c_conn.pixel_decoded_register_write(\"Bypass_THCal\", \"1\", pixel_connected_chip)\n",
    "\n",
    "        # Modifying charge injected\n",
    "        i2c_conn.pixel_decoded_register_write(\"QSel\", format(QInj, '05b'), pixel_connected_chip)\n",
    "\n",
    "        threshold_name = scan_name+f'_Pixel_C{col}_R{row}_QInj_{QInj}'\n",
    "\n",
    "        # -s 0x0000 -a 0x0011 -p 0x000f -d 0x0800\n",
    "        (options, args) = parser.parse_args(args=f\"-f --useIPC --hostname {hostname} -o {threshold_name} -v -w --reset_till_trigger_linked -s 0x0000 -p 0x000f -d 0x1800 -c 0x0001 --fpga_data_time_limit 3 --fpga_data_QInj -a 0x0011 --check_trigger_link_at_end --nodaq --clear_fifo\".split())\n",
    "        IPC_queue = multiprocessing.Queue()\n",
    "        process = multiprocessing.Process(target=run_script.main_process, args=(IPC_queue, options, f'process_outputs/main_process_link'))\n",
    "        process.start()\n",
    "        process.join()\n",
    "\n",
    "        thresholds = np.arange(BL_map_THCal[row][col]-20, BL_map_THCal[row][col]+20, scan_step)\n",
    "        thresholds = np.arange(BL_map_THCal[row][col]-2, BL_map_THCal[row][col]+2, scan_step)\n",
    "\n",
    "        for DAC in tqdm(thresholds, desc=f'DAC Loop for Pixel ({col},{row}) & Charge {QInj} fC', leave=False):\n",
    "            # Set the DAC v, Qinj {Qinj}fCalue to the value being scanned\n",
    "            i2c_conn.pixel_decoded_register_write(\"DAC\", format(int(DAC), '010b'), pixel_connected_chip)\n",
    "            (options, args) = parser.parse_args(args=f\"--useIPC --hostname {hostname} -o {threshold_name} -v --reset_till_trigger_linked -s 0x0000 -p 0x000f -d 0x1800 -c 0x0001 --fpga_data_time_limit {int(fpga_time)} --fpga_data_QInj --check_trigger_link_at_end -a 0x0011 --nodaq --DAC_Val {int(DAC)}\".split()) # -s 0x0000 -a 0x0011 -p 0x000f -d 0x0800\n",
    "            IPC_queue = multiprocessing.Queue()\n",
    "            process = multiprocessing.Process(target=run_script.main_process, args=(IPC_queue, options, f'process_outputs/main_process_Pixel_C{col}_R{row}_{QInj}_{int(DAC)}'))\n",
    "            process.start()\n",
    "\n",
    "            process.join()\n",
    "            \n",
    "        # Disable charge injection\n",
    "        i2c_conn.pixel_decoded_register_write(\"QInjEn\", \"0\", pixel_connected_chip)\n",
    "        i2c_conn.pixel_decoded_register_write(\"disDataReadout\", \"1\", pixel_connected_chip)\n",
    "        i2c_conn.pixel_decoded_register_write(\"disTrigPath\", \"1\", pixel_connected_chip)\n",
    "        i2c_conn.pixel_decoded_register_write(\"DAC\", format(0x3ff, '010b'), pixel_connected_chip)"
   ]
  },
  {
   "cell_type": "markdown",
   "metadata": {},
   "source": [
    "### Enable pixels of Interest"
   ]
  },
  {
   "cell_type": "code",
   "execution_count": null,
   "metadata": {},
   "outputs": [],
   "source": [
    "i2c_conn.enable_select_pixels_in_chips(scan_list)"
   ]
  },
  {
   "cell_type": "code",
   "execution_count": null,
   "metadata": {},
   "outputs": [],
   "source": [
    "offset = 0x18\n",
    "for chip_address in chip_addresses[:]:\n",
    "    chip = i2c_conn.get_chip_i2c_connection(chip_address)\n",
    "    row_indexer_handle,_,_ = chip.get_indexer(\"row\")\n",
    "    column_indexer_handle,_,_ = chip.get_indexer(\"column\")\n",
    "    for row, col in scan_list:\n",
    "        print(f\"Operating on chip {hex(chip_address)} Pixel ({row},{col})\")\n",
    "        column_indexer_handle.set(col)\n",
    "        row_indexer_handle.set(row)    \n",
    "        i2c_conn.pixel_decoded_register_write(\"QSel\", format(0x14, '05b'), chip)\n",
    "        i2c_conn.pixel_decoded_register_write(\"TH_offset\", format(offset, '06b'), chip)\n",
    "    del chip, row_indexer_handle, column_indexer_handle"
   ]
  },
  {
   "cell_type": "markdown",
   "metadata": {},
   "source": [
    "### Disable Pixels of Interest"
   ]
  },
  {
   "cell_type": "code",
   "execution_count": null,
   "metadata": {},
   "outputs": [],
   "source": [
    "for chip_address in chip_addresses[:]:\n",
    "    chip = i2c_conn.get_chip_i2c_connection(chip_address)\n",
    "    row_indexer_handle,_,_ = chip.get_indexer(\"row\")\n",
    "    column_indexer_handle,_,_ = chip.get_indexer(\"column\")\n",
    "    for row,col in scan_list:\n",
    "        i2c_conn.disable_pixel(row=row, col=col, verbose=True, chip_address=chip_address, chip=chip, row_indexer_handle=row_indexer_handle, column_indexer_handle=column_indexer_handle)\n",
    "    del chip, row_indexer_handle, column_indexer_handle"
   ]
  },
  {
   "cell_type": "code",
   "execution_count": null,
   "metadata": {},
   "outputs": [],
   "source": [
    "device_meas.turn_off()"
   ]
  },
  {
   "cell_type": "code",
   "execution_count": null,
   "metadata": {},
   "outputs": [],
   "source": [
    "device_meas.release_devices()"
   ]
  },
  {
   "cell_type": "code",
   "execution_count": null,
   "metadata": {},
   "outputs": [],
   "source": []
  },
  {
   "cell_type": "code",
   "execution_count": null,
   "metadata": {},
   "outputs": [],
   "source": [
    "#Examples - Channel 1 on right side, channel 2 on left side\n",
    "# Channel 1 is always analog\n",
    "# channel 2 is always digital\n",
    "# There are 2 instruments, \"Power\" and \"WS Power\"\n",
    "\n",
    "# Set channel 2 of Power to 1.1 V.\n",
    "device_meas.set_channel_voltage(\"Power\", 2, 1.1) "
   ]
  },
  {
   "cell_type": "code",
   "execution_count": null,
   "metadata": {},
   "outputs": [],
   "source": [
    "voltages = [1.1, 1.2, 1.3]\n",
    "\n",
    "for voltage in voltages:\n",
    "    device_meas.set_channel_voltage(\"Power\", 1, voltage)\n",
    "\n",
    "    # take data\n",
    "    meas = device_meas.do_measurement()"
   ]
  }
 ],
 "metadata": {
  "kernelspec": {
   "display_name": "Python 3",
   "language": "python",
   "name": "python3"
  },
  "language_info": {
   "codemirror_mode": {
    "name": "ipython",
    "version": 3
   },
   "file_extension": ".py",
   "mimetype": "text/x-python",
   "name": "python",
   "nbconvert_exporter": "python",
   "pygments_lexer": "ipython3",
   "version": "3.9.16"
  },
  "orig_nbformat": 4
 },
 "nbformat": 4,
 "nbformat_minor": 2
}
