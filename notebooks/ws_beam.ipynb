{
 "cells": [
  {
   "cell_type": "code",
   "execution_count": null,
   "metadata": {},
   "outputs": [],
   "source": [
    "#############################################################################\n",
    "# zlib License\n",
    "#\n",
    "# (C) 2023 Zach Flowers, Murtaza Safdari <musafdar@cern.ch>\n",
    "#\n",
    "# This software is provided 'as-is', without any express or implied\n",
    "# warranty.  In no event will the authors be held liable for any damages\n",
    "# arising from the use of this software.\n",
    "#\n",
    "# Permission is granted to anyone to use this software for any purpose,\n",
    "# including commercial applications, and to alter it and redistribute it\n",
    "# freely, subject to the following restrictions:\n",
    "#\n",
    "# 1. The origin of this software must not be misrepresented; you must not\n",
    "#    claim that you wrote the original software. If you use this software\n",
    "#    in a product, an acknowledgment in the product documentation would be\n",
    "#    appreciated but is not required.\n",
    "# 2. Altered source versions must be plainly marked as such, and must not be\n",
    "#    misrepresented as being the original software.\n",
    "# 3. This notice may not be removed or altered from any source distribution.\n",
    "#############################################################################"
   ]
  },
  {
   "attachments": {},
   "cell_type": "markdown",
   "metadata": {},
   "source": [
    "# Imports"
   ]
  },
  {
   "cell_type": "code",
   "execution_count": null,
   "metadata": {},
   "outputs": [],
   "source": [
    "#%%\n",
    "%matplotlib inline\n",
    "import matplotlib.pyplot as plt\n",
    "import logging\n",
    "import i2c_gui\n",
    "import i2c_gui.chips\n",
    "import random\n",
    "from i2c_gui.usb_iss_helper import USB_ISS_Helper\n",
    "from i2c_gui.fpga_eth_helper import FPGA_ETH_Helper\n",
    "import numpy as np\n",
    "from mpl_toolkits.axes_grid1 import make_axes_locatable\n",
    "# import time\n",
    "from tqdm import tqdm\n",
    "import os, sys\n",
    "import multiprocessing\n",
    "import datetime\n",
    "import pandas\n",
    "from pathlib import Path\n",
    "import subprocess\n",
    "import sqlite3\n",
    "from notebooks.notebook_helpers import *\n",
    "from fnmatch import fnmatch\n",
    "import scipy.stats as stats\n",
    "from math import ceil\n",
    "from numpy import savetxt\n",
    "\n",
    "os.chdir(f'/home/{os.getlogin()}/ETROC2/ETROC_DAQ')\n",
    "import run_script\n",
    "import parser_arguments\n",
    "import importlib\n",
    "importlib.reload(run_script)\n",
    "# from i2c_gui.chips.etroc2_chip import register_decoding"
   ]
  },
  {
   "attachments": {},
   "cell_type": "markdown",
   "metadata": {},
   "source": [
    "# Set defaults"
   ]
  },
  {
   "cell_type": "code",
   "execution_count": null,
   "metadata": {},
   "outputs": [],
   "source": [
    "# !!!!!!!!!!!!\n",
    "# It is very important to correctly set the chip name, this value is stored with the data\n",
    "# chip_names = [\"ET2_EPIR_Pair4\"]\n",
    "# chip_fignames = [\"ET2 EPIR Pair 4\"]\n",
    "chip_names = [\"ET2p03_BARE1\"]\n",
    "chip_fignames = chip_names\n",
    "chip_figtitles = chip_names\n",
    "\n",
    "# 'The port name the USB-ISS module is connected to. Default: /dev/ttyACM0'\n",
    "port = \"/dev/ttyACM0\"\n",
    "# I2C addresses for the pixel block and WS\n",
    "# chip_addresses = [0x60, 0x61, 0x62]\n",
    "chip_addresses = [0x60]\n",
    "# ws_addresses = [None, None, None, None]\n",
    "ws_addresses = [0x40]\n",
    "\n",
    "fig_outdir = Path('../ETROC-figures')\n",
    "fig_outdir = fig_outdir / (datetime.date.today().isoformat() + '_Array_Test_Results')\n",
    "fig_outdir.mkdir(exist_ok=True)\n",
    "fig_path = str(fig_outdir)"
   ]
  },
  {
   "attachments": {},
   "cell_type": "markdown",
   "metadata": {},
   "source": [
    "# Make i2c_connection class object"
   ]
  },
  {
   "cell_type": "code",
   "execution_count": null,
   "metadata": {},
   "outputs": [],
   "source": [
    "# i2c_conn = self, port, chip_addresses, chip_names, chip_fc_delays\n",
    "i2c_conn = i2c_connection(port,chip_addresses,ws_addresses,chip_names,[(\"1\",\"1\"),(\"1\",\"1\"),(\"1\",\"1\"), (\"1\",\"1\")])"
   ]
  },
  {
   "attachments": {},
   "cell_type": "markdown",
   "metadata": {},
   "source": [
    "# Config chips"
   ]
  },
  {
   "attachments": {},
   "cell_type": "markdown",
   "metadata": {},
   "source": [
    "### Key is (Disable Pixels, Auto Cal, Chip Peripherals, Basic Peri Reg Check, Pixel Check)"
   ]
  },
  {
   "cell_type": "code",
   "execution_count": null,
   "metadata": {},
   "outputs": [],
   "source": [
    "# (WS Prep Pixel and Peri) - 0 - (disable & auto_cal all pixels) - (disable default all pixels) - (auto_TH_CAL) - (set basic peripherals) - (peripheral reg check) -  (pixel ID check)\n",
    "i2c_conn.config_chips('00100101')\n",
    "# i2c_conn.config_chips('00001111') # disable and more fun things\n",
    "# i2c_conn.config_chips('00000100') # set basic peripherals\n",
    "# i2c_conn.config_chips('00010000') # calibrate only\n",
    "# i2c_conn.config_chips('00000001') # pixel ID check (I2C check)\n",
    "i2c_conn.config_chips('10000000') # ws init\n",
    "# i2c_conn.disable_all_pixels(chip_address=chip_addresses[1])"
   ]
  },
  {
   "cell_type": "code",
   "execution_count": null,
   "metadata": {},
   "outputs": [],
   "source": [
    "#%%\n",
    "%matplotlib inline\n",
    "import matplotlib.pyplot as plt\n",
    "plt.figure()\n",
    "plt.show()"
   ]
  },
  {
   "cell_type": "code",
   "execution_count": null,
   "metadata": {},
   "outputs": [],
   "source": [
    "histdir = Path('../ETROC-History/')\n",
    "# histdir = Path('/media/daq/X9/DESY_Jun2024_AIDA/ETROC-History/')\n",
    "histdir.mkdir(exist_ok=True)\n",
    "histfile = histdir / 'BaselineHistory.sqlite'\n",
    "i2c_conn.save_baselines(chip_fignames,fig_path,histdir,histfile)"
   ]
  },
  {
   "attachments": {},
   "cell_type": "markdown",
   "metadata": {},
   "source": [
    "# Define pixels of interest"
   ]
  },
  {
   "cell_type": "code",
   "execution_count": null,
   "metadata": {},
   "outputs": [],
   "source": [
    "# WS Pixel\n",
    "row_list = [0]\n",
    "col_list = [14]\n",
    "\n",
    "scan_list = list(zip(row_list, col_list))\n",
    "\n",
    "# col_list, row_list = np.meshgrid(np.arange(16),np.arange(16))\n",
    "# scan_list = list(zip(row_list.flatten(),col_list.flatten()))\n",
    "\n",
    "print(scan_list)"
   ]
  },
  {
   "cell_type": "code",
   "execution_count": null,
   "metadata": {},
   "outputs": [],
   "source": [
    "for chip_address,chip_name in zip(chip_addresses,chip_names):\n",
    "    chip = i2c_conn.get_chip_i2c_connection(chip_address)\n",
    "    row_indexer_handle,_,_ = chip.get_indexer(\"row\")\n",
    "    column_indexer_handle,_,_ = chip.get_indexer(\"column\")\n",
    "\n",
    "    chip.read_all_block(\"ETROC2\", \"Peripheral Config\")\n",
    "    handle = chip.get_decoded_display_var(\"ETROC2\", \"Peripheral Config\", \"chargeInjectionDelay\") # User tunable delay of Qinj pulse\n",
    "    handle.set(hex(0x0e))\n",
    "    chip.write_all_block(\"ETROC2\", \"Peripheral Config\")\n",
    "\n",
    "    # for row, col in scan_list:\n",
    "    #     print(f\"Operating on chip {hex(chip_address)} Pixel ({row},{col})\")\n",
    "    #     column_indexer_handle.set(col)\n",
    "    #     row_indexer_handle.set(row)\n",
    "    #     # i2c_conn.pixel_decoded_register_write(\"QSel\", format(0x1f, '05b'), chip)\n",
    "    #     # i2c_conn.pixel_decoded_register_write(\"TH_offset\", format(0x19, '06b'), chip)\n",
    "    #     i2c_conn.pixel_decoded_register_write(\"QSel\", format(0x1f, '05b'), chip)\n",
    "    #     i2c_conn.pixel_decoded_register_write(\"TH_offset\", format(0xf, '06b'), chip)\n",
    "    #     i2c_conn.pixel_decoded_register_write(\"QInjEn\", '1', chip)\n",
    "    #     i2c_conn.pixel_decoded_register_write(\"RFSel\", format(0x00, '02b'), chip=chip)\n",
    "\n",
    "    del row_indexer_handle, column_indexer_handle, chip"
   ]
  },
  {
   "cell_type": "markdown",
   "metadata": {},
   "source": [
    "## Run in terminal to collect waveforms:"
   ]
  },
  {
   "cell_type": "code",
   "execution_count": null,
   "metadata": {},
   "outputs": [],
   "source": [
    "# python run_script.py -f --useIPC --hostname 192.168.2.3 -t 300 -o ws_testing_5 -v -w -s 0x0000 -p 0x0023 -d 0x1800 -a 0x0091 --start_DAQ_pulse --stop_DAQ_pulse --skip_binary --ws_testing --ws_i2c_port /dev/ttyACM0 --ws_chip_address 0x60 --ws_address 0x40 --start_dev_ws_beam_fc\n",
    "\n",
    "# python run_script.py -f --useIPC --hostname 192.168.2.3 -t 300 -o ws_testing_qinj_nb -v -w -s 0x0000 -p 0x0023 -d 0x1800 -a 0x00a1 --start_DAQ_pulse --stop_DAQ_pulse --skip_binary --ws_testing --ws_i2c_port /dev/ttyACM0 --ws_chip_address 0x60 --ws_address 0x40 --start_dev_qinj_fc"
   ]
  },
  {
   "cell_type": "code",
   "execution_count": null,
   "metadata": {},
   "outputs": [],
   "source": [
    "hostname = \"192.168.2.3\"\n",
    "polarity = \"0x0023\" # \"0x0023\" or \"0x0027\"\n",
    "out_dir = \"ws_testing_qinj_nb\"\n",
    "trigger_bit_delay = \"0x1800\"\n",
    "channel_enable = \"0x0001\"\n",
    "ws_i2c_port = \"/dev/ttyACM0\"\n",
    "ws_chip_address = \"0x60\"\n",
    "ws_address = \"0x40\"\n",
    "\n",
    "# --clear_fifo\n",
    "# --check_valid_data_start\n",
    "# -- start_dev_qinj_fc  stop_dev_qinj_fc\n",
    "# -- start_dev_ws_beam_fc stop_dev_ws_beam_fc"
   ]
  },
  {
   "cell_type": "code",
   "execution_count": null,
   "metadata": {},
   "outputs": [],
   "source": [
    "parser = parser_arguments.create_parser()\n",
    "(options, args) = parser.parse_args(args=f\"-f --useIPC --hostname {hostname} -t 125 -o {out_dir} -v -w -s 0x0000 -p {polarity} -d {trigger_bit_delay} -a {channel_enable} --clear_fifo --start_DAQ_pulse --stop_DAQ_pulse --ws_testing --ws_i2c_port {ws_i2c_port} --ws_chip_address {ws_chip_address} --ws_address {ws_address} --compressed_binary\".split())\n",
    "IPC_queue = multiprocessing.Queue()\n",
    "process = multiprocessing.Process(target=run_script.main_process, args=(IPC_queue, options, None))\n",
    "process.start()\n",
    "\n",
    "IPC_queue.put('memoFC Start Triggerbit QInj L1A BCR')\n",
    "while not IPC_queue.empty():\n",
    "    pass\n",
    "time.sleep(120)\n",
    "IPC_queue.put('stop DAQ')\n",
    "IPC_queue.put('memoFC Triggerbit')\n",
    "while not IPC_queue.empty():\n",
    "    pass\n",
    "IPC_queue.put('allow threads to exit')\n",
    "process.join()\n",
    "\n",
    "del IPC_queue, process, parser"
   ]
  },
  {
   "cell_type": "markdown",
   "metadata": {},
   "source": [
    "# Calibrate FC for all I2C"
   ]
  },
  {
   "cell_type": "code",
   "execution_count": null,
   "metadata": {},
   "outputs": [],
   "source": [
    "for chip_address in chip_addresses[:]:\n",
    "    i2c_conn.asyResetGlobalReadout(chip_address, chip=None)\n",
    "    i2c_conn.asyAlignFastcommand(chip_address, chip=None)"
   ]
  },
  {
   "cell_type": "markdown",
   "metadata": {},
   "source": [
    "# Calibrate PLL"
   ]
  },
  {
   "cell_type": "code",
   "execution_count": null,
   "metadata": {},
   "outputs": [],
   "source": [
    "for chip_address in chip_addresses[:]:\n",
    "    i2c_conn.calibratePLL(chip_address, chip=None)"
   ]
  },
  {
   "cell_type": "markdown",
   "metadata": {},
   "source": [
    "# Disconnect I2C Device"
   ]
  },
  {
   "cell_type": "markdown",
   "metadata": {},
   "source": [
    "## DO THIS IF YOU PLAN TO DO NOISE STUDIES"
   ]
  },
  {
   "cell_type": "code",
   "execution_count": null,
   "metadata": {},
   "outputs": [],
   "source": [
    "del i2c_conn"
   ]
  }
 ],
 "metadata": {
  "kernelspec": {
   "display_name": "Python 3",
   "language": "python",
   "name": "python3"
  },
  "language_info": {
   "codemirror_mode": {
    "name": "ipython",
    "version": 3
   },
   "file_extension": ".py",
   "mimetype": "text/x-python",
   "name": "python",
   "nbconvert_exporter": "python",
   "pygments_lexer": "ipython3",
   "version": "3.10.12"
  },
  "orig_nbformat": 4
 },
 "nbformat": 4,
 "nbformat_minor": 2
}
