{
 "cells": [
  {
   "cell_type": "code",
   "execution_count": null,
   "metadata": {},
   "outputs": [],
   "source": [
    "#############################################################################\n",
    "# zlib License\n",
    "#\n",
    "# (C) 2023 Zach FLowers, Murtaza Safdari <musafdar@cern.ch>\n",
    "#\n",
    "# This software is provided 'as-is', without any express or implied\n",
    "# warranty.  In no event will the authors be held liable for any damages\n",
    "# arising from the use of this software.\n",
    "#\n",
    "# Permission is granted to anyone to use this software for any purpose,\n",
    "# including commercial applications, and to alter it and redistribute it\n",
    "# freely, subject to the following restrictions:\n",
    "#\n",
    "# 1. The origin of this software must not be misrepresented; you must not\n",
    "#    claim that you wrote the original software. If you use this software\n",
    "#    in a product, an acknowledgment in the product documentation would be\n",
    "#    appreciated but is not required.\n",
    "# 2. Altered source versions must be plainly marked as such, and must not be\n",
    "#    misrepresented as being the original software.\n",
    "# 3. This notice may not be removed or altered from any source distribution.\n",
    "#############################################################################"
   ]
  },
  {
   "attachments": {},
   "cell_type": "markdown",
   "metadata": {},
   "source": [
    "# Imports"
   ]
  },
  {
   "cell_type": "code",
   "execution_count": null,
   "metadata": {},
   "outputs": [],
   "source": [
    "#%%\n",
    "%matplotlib inline\n",
    "import matplotlib.pyplot as plt\n",
    "from mpl_toolkits.axes_grid1 import make_axes_locatable\n",
    "import matplotlib.cm as cm\n",
    "import scipy.stats as stats\n",
    "import logging\n",
    "import numpy as np\n",
    "import time\n",
    "import datetime\n",
    "from tqdm import tqdm\n",
    "import os\n",
    "os.chdir(f'/home/{os.getlogin()}/ETROC2/ETROC_DAQ')\n",
    "import multiprocessing\n",
    "import run_script\n",
    "\n",
    "import pandas\n",
    "from pathlib import Path\n",
    "import subprocess\n",
    "import sqlite3\n",
    "from fnmatch import fnmatch\n",
    "\n",
    "import i2c_gui\n",
    "import i2c_gui.chips\n",
    "from i2c_gui.usb_iss_helper import USB_ISS_Helper\n",
    "from i2c_gui.fpga_eth_helper import FPGA_ETH_Helper\n",
    "from i2c_gui.chips.etroc2_chip import register_decoding\n",
    "\n",
    "from notebooks.notebook_helpers import *"
   ]
  },
  {
   "attachments": {},
   "cell_type": "markdown",
   "metadata": {},
   "source": [
    "# Specify Global Info"
   ]
  },
  {
   "cell_type": "code",
   "execution_count": null,
   "metadata": {},
   "outputs": [],
   "source": [
    "# !!!!!!!!!!!!\n",
    "# It is very important to correctly set the chip name, this value is stored with the data\n",
    "chip_name = \"ET2_W42_IP7_2\"\n",
    "tag = \"HV210V\"\n",
    "chip_figname = f\"{chip_name}_LowBiasCurrent_{tag}\"\n",
    "chip_figtitle= chip_name+\" LowBiasCurrent \"+tag\n",
    "\n",
    "# 'The port name the USB-ISS module is connected to. Default: COM3'\n",
    "port = \"/dev/ttyACM0\"\n",
    "# I2C addresses for the pixel block and WS\n",
    "chip_address = 0x62\n",
    "ws_address = None\n",
    "\n",
    "fig_outdir = Path('../ETROC-figures')\n",
    "fig_outdir = fig_outdir / (datetime.date.today().isoformat() + '_Array_Test_Results')\n",
    "fig_outdir.mkdir(exist_ok=True)\n",
    "fig_path = str(fig_outdir)\n",
    "\n",
    "hostname = '192.168.2.7'"
   ]
  },
  {
   "attachments": {},
   "cell_type": "markdown",
   "metadata": {},
   "source": [
    "# Make i2c_connection class object for chip configuration"
   ]
  },
  {
   "cell_type": "code",
   "execution_count": null,
   "metadata": {},
   "outputs": [],
   "source": [
    "i2c_conn = i2c_connection(port,[chip_address],[chip_name],[(\"1\",\"1\"),(\"1\",\"1\")])"
   ]
  },
  {
   "attachments": {},
   "cell_type": "markdown",
   "metadata": {},
   "source": [
    "# Config chips"
   ]
  },
  {
   "attachments": {},
   "cell_type": "markdown",
   "metadata": {},
   "source": [
    "### Basic config"
   ]
  },
  {
   "cell_type": "code",
   "execution_count": null,
   "metadata": {},
   "outputs": [],
   "source": [
    "# 0-0-0-disable/default all pixels - auto TH CAL - set basic peripherals - peri reg check - pixel ID check\n",
    "i2c_conn.config_chips('00100111')"
   ]
  },
  {
   "attachments": {},
   "cell_type": "markdown",
   "metadata": {},
   "source": [
    "### Only do auto TH cal and set basic peripherals"
   ]
  },
  {
   "cell_type": "code",
   "execution_count": null,
   "metadata": {},
   "outputs": [],
   "source": [
    "# 0-0-0-disable/default all pixels - auto TH CAL - set basic peripherals - peri reg check - pixel ID check\n",
    "i2c_conn.config_chips('00001100')"
   ]
  },
  {
   "attachments": {},
   "cell_type": "markdown",
   "metadata": {},
   "source": [
    "## Visualize the learned Baselines (BL) and Noise Widths (NW)\n",
    "\n",
    "Note that the NW represents the full width on either side of the BL"
   ]
  },
  {
   "cell_type": "code",
   "execution_count": null,
   "metadata": {},
   "outputs": [],
   "source": [
    "#%%\n",
    "%matplotlib inline\n",
    "import matplotlib.pyplot as plt"
   ]
  },
  {
   "cell_type": "code",
   "execution_count": null,
   "metadata": {},
   "outputs": [],
   "source": [
    "BL_map_THCal,NW_map_THCal,BL_df = i2c_conn.get_auto_cal_maps(chip_address)\n",
    "fig = plt.figure(dpi=200, figsize=(10,5))\n",
    "gs = fig.add_gridspec(1,2)\n",
    "\n",
    "ax0 = fig.add_subplot(gs[0,0])\n",
    "ax0.set_title(f\"{chip_figtitle}: BL (DAC LSB)\", size=8)\n",
    "img0 = ax0.imshow(BL_map_THCal, interpolation='none')\n",
    "ax0.set_aspect(\"equal\")\n",
    "ax0.invert_xaxis()\n",
    "ax0.invert_yaxis()\n",
    "plt.xticks(range(16), range(16), rotation=\"vertical\")\n",
    "plt.yticks(range(16), range(16))\n",
    "divider = make_axes_locatable(ax0)\n",
    "cax = divider.append_axes('right', size=\"5%\", pad=0.05)\n",
    "fig.colorbar(img0, cax=cax, orientation=\"vertical\")\n",
    "\n",
    "ax1 = fig.add_subplot(gs[0,1])\n",
    "ax1.set_title(f\"{chip_figtitle}: NW (DAC LSB)\", size=8)\n",
    "img1 = ax1.imshow(NW_map_THCal, interpolation='none')\n",
    "ax1.set_aspect(\"equal\")\n",
    "ax1.invert_xaxis()\n",
    "ax1.invert_yaxis()\n",
    "plt.xticks(range(16), range(16), rotation=\"vertical\")\n",
    "plt.yticks(range(16), range(16))\n",
    "divider = make_axes_locatable(ax1)\n",
    "cax = divider.append_axes('right', size=\"5%\", pad=0.05)\n",
    "fig.colorbar(img1, cax=cax, orientation=\"vertical\")\n",
    "\n",
    "for x in range(16):\n",
    "    for y in range(16):\n",
    "        # if(BL_map_THCal.T[x,y]==0): continue\n",
    "        ax0.text(x,y,f\"{BL_map_THCal.T[x,y]:.0f}\", c=\"white\", size=5, rotation=45, fontweight=\"bold\", ha=\"center\", va=\"center\")\n",
    "        ax1.text(x,y,f\"{NW_map_THCal.T[x,y]:.0f}\", c=\"white\", size=5, rotation=45, fontweight=\"bold\", ha=\"center\", va=\"center\")\n",
    "plt.savefig(fig_path+\"/\"+chip_figname+\"_BL_NW_\"+datetime.datetime.now().strftime(\"%Y-%m-%d_%H-%M\")+\".png\")\n",
    "plt.show()"
   ]
  },
  {
   "attachments": {},
   "cell_type": "markdown",
   "metadata": {},
   "source": [
    "# One time run to set fpga firmware and LEDs"
   ]
  },
  {
   "cell_type": "code",
   "execution_count": null,
   "metadata": {},
   "outputs": [],
   "source": [
    "parser = run_script.getOptionParser()\n",
    "(options, args) = parser.parse_args(args=f\"-f --useIPC --hostname {hostname} -t 20 -o CanBeRemoved -v -w -s 0x0000 -p 0x000b -d 0x1800 -a 0x0011 --clear_fifo\".split())\n",
    "IPC_queue = multiprocessing.Queue()\n",
    "process = multiprocessing.Process(target=run_script.main_process, args=(IPC_queue, options, f'process_outputs/main_process_Start_LEDs'))\n",
    "process.start()\n",
    "\n",
    "IPC_queue.put('start L1A trigger bit')\n",
    "while not IPC_queue.empty():\n",
    "    pass\n",
    "time.sleep(10)\n",
    "IPC_queue.put('stop DAQ')\n",
    "IPC_queue.put('stop L1A trigger bit')\n",
    "while not IPC_queue.empty():\n",
    "    pass\n",
    "IPC_queue.put('allow threads to exit')\n",
    "process.join()"
   ]
  },
  {
   "attachments": {},
   "cell_type": "markdown",
   "metadata": {},
   "source": [
    "# Define pixels of interest to scan"
   ]
  },
  {
   "cell_type": "code",
   "execution_count": null,
   "metadata": {},
   "outputs": [],
   "source": [
    "# row_list = [15, 15, 15, 15, 14, 14, 14, 14]\n",
    "# col_list = [6, 7, 8, 9, 6, 7, 8, 9]\n",
    "row_list = [15]\n",
    "col_list = [6]\n",
    "scan_list = list(zip(col_list, row_list))\n",
    "print(scan_list)"
   ]
  },
  {
   "attachments": {},
   "cell_type": "markdown",
   "metadata": {},
   "source": [
    "# Define pixels of interest for plotting"
   ]
  },
  {
   "cell_type": "code",
   "execution_count": null,
   "metadata": {},
   "outputs": [],
   "source": [
    "# row_list = [15, 15, 15, 15, 14, 14, 14, 14]\n",
    "# col_list = [6, 7, 8, 9, 6, 7, 8, 9]\n",
    "row_list = [15]\n",
    "col_list = [6]\n",
    "plot_list = list(zip(col_list, row_list))\n",
    "print(plot_list)"
   ]
  },
  {
   "attachments": {},
   "cell_type": "markdown",
   "metadata": {},
   "source": [
    "# Calibrate PLL"
   ]
  },
  {
   "cell_type": "code",
   "execution_count": null,
   "metadata": {},
   "outputs": [],
   "source": [
    "print(f\"Calibrating PLL for chip {hex(chip_address)} \")\n",
    "chip = i2c_conn.get_chip_i2c_connection(chip_address)\n",
    "i2c_conn.peripheral_decoded_register_write(\"asyPLLReset\", \"0\", chip)\n",
    "time.sleep(0.2)\n",
    "i2c_conn.peripheral_decoded_register_write(\"asyPLLReset\", \"1\", chip)\n",
    "i2c_conn.peripheral_decoded_register_write(\"asyStartCalibration\", \"0\", chip)\n",
    "time.sleep(0.2)\n",
    "i2c_conn.peripheral_decoded_register_write(\"asyStartCalibration\", \"1\", chip)"
   ]
  },
  {
   "attachments": {},
   "cell_type": "markdown",
   "metadata": {},
   "source": [
    "# Run Noise-Only S-Curve"
   ]
  },
  {
   "cell_type": "code",
   "execution_count": null,
   "metadata": {},
   "outputs": [],
   "source": [
    "pedestal_scan_step = 1\n",
    "thresholds = np.arange(-20,20,pedestal_scan_step) # relative to BL\n",
    "scan_name = chip_figname+\"_VRef_SCurve_NoiseOnly\"\n",
    "fpga_time = 3\n",
    "\n",
    "today = datetime.date.today()\n",
    "todaystr = \"../ETROC-Data/\" + today.isoformat() + \"_Array_Test_Results/\"\n",
    "base_dir = Path(todaystr)\n",
    "base_dir.mkdir(exist_ok=True)\n",
    "\n",
    "# Loop for enable/disable charge injection per pixel (single!!!)\n",
    "for index, (col, row) in zip(range(len(row_list)), scan_list):  \n",
    "    print(\"Pixel:\",col,row)\n",
    "    pixel_connected_chip = i2c_conn.get_pixel_chip(chip_address, row, col)\n",
    "\n",
    "    # Ensure charge injection is disabled\n",
    "    i2c_conn.pixel_decoded_register_write(\"disDataReadout\", \"0\", pixel_connected_chip)\n",
    "    i2c_conn.pixel_decoded_register_write(\"QInjEn\", \"0\", pixel_connected_chip)\n",
    "    i2c_conn.pixel_decoded_register_write(\"disTrigPath\", \"0\", pixel_connected_chip)\n",
    "\n",
    "    # Bypass Cal Threshold\n",
    "    i2c_conn.pixel_decoded_register_write(\"Bypass_THCal\", \"1\", pixel_connected_chip)\n",
    "\n",
    "    # start FPGA state machine\n",
    "    threshold_name = scan_name+f'_Pixel_C{col}_R{row}'\n",
    "    (options, args) = parser.parse_args(args=f\"--useIPC --hostname {hostname} -o {threshold_name} -v -w --reset_till_trigger_linked -c 0x0001 --fpga_data_time_limit 3 --fpga_data --check_trigger_link_at_end --nodaq\".split())\n",
    "    IPC_queue = multiprocessing.Queue()\n",
    "    process = multiprocessing.Process(target=run_script.main_process, args=(IPC_queue, options, f'process_outputs/main_process_noiseOnly'))\n",
    "    process.start()\n",
    "    process.join()\n",
    "    \n",
    "    for DAC in tqdm(thresholds[:], desc=f'DAC Loop for Pixel {col},{row}', leave=False):\n",
    "        threshold = int(DAC+BL_map_THCal[row][col])\n",
    "\n",
    "        # Set the DAC v, Qinj {Qinj}fCalue to the value being scanned\n",
    "        i2c_conn.pixel_decoded_register_write(\"DAC\", format(threshold, '010b'), pixel_connected_chip)\n",
    "        # print(\"DAC:\", threshold, \", Read TH:\", i2c_conn.pixel_decoded_register_read(\"TH\", \"Status\", pixel_connected_chip, need_int=True))\n",
    "\n",
    "        (options, args) = parser.parse_args(args=f\"--useIPC --hostname {hostname} -o {threshold_name} -v --reset_till_trigger_linked -c 0x0001 --fpga_data_time_limit {int(fpga_time)} --fpga_data --check_trigger_link_at_end --nodaq --DAC_Val {int(threshold)}\".split())\n",
    "        IPC_queue = multiprocessing.Queue()\n",
    "        process = multiprocessing.Process(target=run_script.main_process, args=(IPC_queue, options, f'process_outputs/main_process_NoiseOnly_{threshold}'))\n",
    "        process.start()\n",
    "        process.join()\n",
    "        \n",
    "    # Disable charge injection\n",
    "    i2c_conn.pixel_decoded_register_write(\"QInjEn\", \"0\", pixel_connected_chip)\n",
    "    i2c_conn.pixel_decoded_register_write(\"disDataReadout\", \"1\", pixel_connected_chip)\n",
    "    i2c_conn.pixel_decoded_register_write(\"disTrigPath\", \"1\", pixel_connected_chip)\n",
    "    i2c_conn.pixel_decoded_register_write(\"DAC\", format(0x3ff, '010b'), pixel_connected_chip)"
   ]
  },
  {
   "attachments": {},
   "cell_type": "markdown",
   "metadata": {},
   "source": [
    "## Plot the Noise-Only S-Curves"
   ]
  },
  {
   "cell_type": "code",
   "execution_count": null,
   "metadata": {},
   "outputs": [],
   "source": [
    "root = '../ETROC-Data'\n",
    "file_pattern = \"*FPGA_Data.dat\"\n",
    "scan_name = chip_figname+\"_VRef_SCurve_NoiseOnly\"\n",
    "triggerbit_full_Scurve = {row:{col:{thr+int(BL_map_THCal[row][col]):0 for thr in thresholds} for col in range(16)} for row in range(16)}\n",
    "for index, (col, row) in zip(range(len(row_list)), plot_list):\n",
    "    BL = int(BL_map_THCal[row][col])\n",
    "    print(f'Pixel {col},{row}')\n",
    "    path_pattern = f\"*{today.isoformat()}_Array_Test_Results/{scan_name}_Pixel_C{col}_R{row}\"\n",
    "    file_list = []\n",
    "    for path, subdirs, files in os.walk(root):\n",
    "        if not fnmatch(path, path_pattern): continue\n",
    "        for name in files:\n",
    "            pass\n",
    "            if fnmatch(name, file_pattern):\n",
    "                file_list.append(os.path.join(path, name))\n",
    "                print(file_list[-1])\n",
    "    total_files = len(file_list)\n",
    "    for file_index, file_name in enumerate(file_list):\n",
    "        print(f\"{file_index+1}/{total_files}\")\n",
    "        with open(file_name) as infile:\n",
    "            for line in infile:\n",
    "                text_list = line.split(',')\n",
    "                FPGA_triggerbit = int(text_list[5])\n",
    "                DAC = int(text_list[-1])\n",
    "                if DAC == -1: continue\n",
    "                try:\n",
    "                    triggerbit_full_Scurve[row][col][DAC] += FPGA_triggerbit\n",
    "                except:\n",
    "                    print(f\"Couldn't find DAC: {DAC} in file list\")"
   ]
  },
  {
   "cell_type": "code",
   "execution_count": null,
   "metadata": {},
   "outputs": [],
   "source": [
    "col_list, row_list = zip(*plot_list)\n",
    "u_cl = np.sort(np.unique(col_list))\n",
    "u_rl = np.sort(np.unique(row_list))\n",
    "fig = plt.figure(dpi=200, figsize=(len(np.unique(u_cl))*5,len(np.unique(u_rl))*5))\n",
    "gs = fig.add_gridspec(len(np.unique(u_rl)),len(np.unique(u_cl)))\n",
    "for ri,row in enumerate(u_rl):\n",
    "    for ci,col in enumerate(u_cl):\n",
    "        ax0 = fig.add_subplot(gs[len(u_rl)-ri-1,len(u_cl)-ci-1])\n",
    "        ax0.axvline(BL_map_THCal[row][col], color='k', label=\"THCal BL\", lw=0.7)\n",
    "        ax0.axvline(BL_map_THCal[row][col]+NW_map_THCal[row][col], color='r', ls='-', label=\"THCal NW\", lw=0.7)\n",
    "        ax0.axvline(BL_map_THCal[row][col]-NW_map_THCal[row][col], color='r', ls='-', lw=0.7)\n",
    "        ax0.plot([thr+BL for thr in thresholds], triggerbit_full_Scurve[row][col].values(), '.-', color='b',lw=0.5,markersize=2)\n",
    "        ax0.set_xlabel(\"DAC Value [decimal]\")\n",
    "        ax0.set_ylabel(\"Data Counts [decimal]\")\n",
    "        # ax0.text(0.7, 0.8, f\"Pixel {row},{col}\", transform=ax0.transAxes)\n",
    "        plt.legend(loc=\"upper right\")\n",
    "        # plt.yscale(\"log\")\n",
    "        plt.title(f\"{chip_figtitle}, Pixel ({row},{col}) Noise Only S-Curve\",size=8)\n",
    "        plt.tight_layout()\n",
    "plt.savefig(fig_path+\"/\"+chip_figname+\"_NoiseOnly_S-Curve_\"+datetime.datetime.now().strftime(\"%Y-%m-%d_%H-%M\")+\".png\")"
   ]
  },
  {
   "attachments": {},
   "cell_type": "markdown",
   "metadata": {},
   "source": [
    "# Qinj S Curve Scans"
   ]
  },
  {
   "cell_type": "code",
   "execution_count": null,
   "metadata": {},
   "outputs": [],
   "source": [
    "# Full Charges\n",
    "# QInjEns = [3, 5, 6, 8, 10, 12, 15, 17, 20, 22, 25, 27, 30]\n",
    "# Recommend for TID\n",
    "QInjEns = [5, 6, 8, 15, 22, 27]"
   ]
  },
  {
   "attachments": {},
   "cell_type": "markdown",
   "metadata": {},
   "source": [
    "## Peak DAC Value Binary Search"
   ]
  },
  {
   "cell_type": "code",
   "execution_count": null,
   "metadata": {},
   "outputs": [],
   "source": [
    "DAC_scan_max = 1020\n",
    "scan_name = chip_figname+\"_VRef_SCurve_BinarySearch\"\n",
    "fpga_time = 3\n",
    "\n",
    "today = datetime.date.today()\n",
    "todaystr = \"../ETROC-Data/\" + today.isoformat() + \"_Array_Test_Results/\"\n",
    "base_dir = Path(todaystr)\n",
    "base_dir.mkdir(exist_ok=True)\n",
    "\n",
    "# Loop for enable/disable charge injection per pixel (single!!!)\n",
    "for index, (col, row) in zip(range(len(row_list)), scan_list):\n",
    "    print(\"Pixel:\",col,row)\n",
    "    pixel_connected_chip = i2c_conn.get_pixel_chip(chip_address, row, col)\n",
    "    # Enable charge injection\n",
    "    i2c_conn.pixel_decoded_register_write(\"disDataReadout\", \"0\", pixel_connected_chip)\n",
    "    i2c_conn.pixel_decoded_register_write(\"QInjEn\", \"1\", pixel_connected_chip)\n",
    "    i2c_conn.pixel_decoded_register_write(\"disTrigPath\", \"0\", pixel_connected_chip)\n",
    "    # Bypass Cal Threshold\n",
    "    i2c_conn.pixel_decoded_register_write(\"Bypass_THCal\", \"1\", pixel_connected_chip)\n",
    "    for QInj in QInjEns:\n",
    "        # Modifying charge injected\n",
    "        i2c_conn.pixel_decoded_register_write(\"QSel\", format(QInj, '05b'), pixel_connected_chip)\n",
    "        threshold_name = scan_name+f'_Pixel_C{col}_R{row}_QInj_{QInj}'\n",
    "        (options, args) = parser.parse_args(args=f\"--useIPC --hostname {hostname} -o {threshold_name} -v -w --reset_till_trigger_linked -s 0x000C -p 0x000f -d 0x0800 -c 0x0001 --fpga_data_time_limit 3 --fpga_data_QInj --check_trigger_link_at_end --nodaq --clear_fifo\".split())\n",
    "        IPC_queue = multiprocessing.Queue()\n",
    "        process = multiprocessing.Process(target=run_script.main_process, args=(IPC_queue, options, f'process_outputs/main_process_link'))\n",
    "        process.start()\n",
    "        process.join()\n",
    "\n",
    "        a = BL_map_THCal[row][col]\n",
    "        b = DAC_scan_max\n",
    "        header_max = -1\n",
    "        while b-a>1:\n",
    "            DAC = int(np.floor((a+b)/2))\n",
    "            # Set the DAC v, Qinj {Qinj}fCalue to the value being scanned\n",
    "            i2c_conn.pixel_decoded_register_write(\"DAC\", format(DAC, '010b'), pixel_connected_chip)\n",
    "            # print(\"QInj:\", QInj, \", DAC:\", DAC, \", Read TH:\", i2c_conn.pixel_decoded_register_read(\"TH\", \"Status\", pixel_connected_chip, need_int=True))\n",
    "\n",
    "            (options, args) = parser.parse_args(args=f\"--useIPC --hostname {hostname} -o {threshold_name} -v --reset_till_trigger_linked -s 0x000C -p 0x000f -d 0x0800 -c 0x0001 --fpga_data_time_limit {int(fpga_time)} --fpga_data_QInj --check_trigger_link_at_end --nodaq --DAC_Val {int(DAC)}\".split())\n",
    "            IPC_queue = multiprocessing.Queue()\n",
    "            process = multiprocessing.Process(target=run_script.main_process, args=(IPC_queue, options, f'process_outputs/main_process_{QInj}_{DAC}'))\n",
    "            process.start()\n",
    "            process.join()\n",
    "            \n",
    "            continue_flag = False\n",
    "            root = '../ETROC-Data'\n",
    "            file_pattern = \"*FPGA_Data.dat\"\n",
    "            path_pattern = f\"*{today.isoformat()}_Array_Test_Results/{threshold_name}\"\n",
    "            file_list = []\n",
    "            for path, subdirs, files in os.walk(root):\n",
    "                if not fnmatch(path, path_pattern): continue\n",
    "                for name in files:\n",
    "                    pass\n",
    "                    if fnmatch(name, file_pattern):\n",
    "                        file_list.append(os.path.join(path, name))\n",
    "            total_files = len(file_list)\n",
    "            for file_index, file_name in enumerate(file_list):\n",
    "                with open(file_name) as infile:\n",
    "                    lines = infile.readlines()\n",
    "                    last_line = lines[-1]\n",
    "                    first_line = lines[0]\n",
    "                    header_max = int(first_line.split(',')[4])\n",
    "                    text_list = last_line.split(',')\n",
    "                    FPGA_state = text_list[0]\n",
    "                    line_DAC = int(text_list[-1])\n",
    "                    if(FPGA_state==0 or line_DAC!=DAC): \n",
    "                        continue_flag=True\n",
    "                        continue\n",
    "                    TDC_data = int(text_list[3])\n",
    "                    # Condition handling for Binary Search\n",
    "                    if(TDC_data>=header_max/2.):\n",
    "                        a = DAC\n",
    "                    else:\n",
    "                        b = DAC                    \n",
    "            if(continue_flag): continue  \n",
    "            \n",
    "    # Disable charge injection\n",
    "    i2c_conn.pixel_decoded_register_write(\"QInjEn\", \"0\", pixel_connected_chip)\n",
    "    i2c_conn.pixel_decoded_register_write(\"disDataReadout\", \"1\", pixel_connected_chip)\n",
    "    i2c_conn.pixel_decoded_register_write(\"disTrigPath\", \"1\", pixel_connected_chip)\n",
    "    i2c_conn.pixel_decoded_register_write(\"DAC\", format(0x3ff, '010b'), pixel_connected_chip)"
   ]
  },
  {
   "attachments": {},
   "cell_type": "markdown",
   "metadata": {},
   "source": [
    "### Extract Peak DAC"
   ]
  },
  {
   "cell_type": "code",
   "execution_count": null,
   "metadata": {},
   "outputs": [],
   "source": [
    "scan_name = chip_figname+\"_VRef_SCurve_BinarySearch\"\n",
    "QInj_Peak_DAC_map = {row:{col:{q:0 for q in QInjEns} for col in range(16)} for row in range(16)}\n",
    "for index, (col, row) in zip(range(len(row_list)), plot_list): \n",
    "    print(\"Pixel:\",col,row)\n",
    "    for QInj in tqdm(QInjEns, desc=f'Charge Loop for Pixel {col},{row}', leave=False):\n",
    "        threshold_name = scan_name+f'_Pixel_C{col}_R{row}_QInj_{QInj}'\n",
    "        path_pattern = f\"*{today.isoformat()}_Array_Test_Results/{threshold_name}\"\n",
    "        file_list = []\n",
    "        for path, subdirs, files in os.walk(root):\n",
    "            if not fnmatch(path, path_pattern): continue\n",
    "            for name in files:\n",
    "                pass\n",
    "                if fnmatch(name, file_pattern):\n",
    "                    file_list.append(os.path.join(path, name))\n",
    "        total_files = len(file_list)\n",
    "        for file_index, file_name in enumerate(file_list):\n",
    "            with open(file_name) as infile:\n",
    "                last_line = infile.readlines()[-1]\n",
    "                text_list = last_line.split(',')\n",
    "                DAC = int(text_list[-1])\n",
    "                QInj_Peak_DAC_map[row][col][QInj] = DAC"
   ]
  },
  {
   "attachments": {},
   "cell_type": "markdown",
   "metadata": {},
   "source": [
    "### Plot QInj vs DAC"
   ]
  },
  {
   "cell_type": "code",
   "execution_count": null,
   "metadata": {},
   "outputs": [],
   "source": [
    "col_list, row_list = zip(*plot_list)\n",
    "u_cl = np.sort(np.unique(col_list))\n",
    "u_rl = np.sort(np.unique(row_list))\n",
    "fig = plt.figure(dpi=200, figsize=(len(np.unique(u_cl))*7,len(np.unique(u_rl))*5))\n",
    "gs = fig.add_gridspec(len(np.unique(u_rl)),len(np.unique(u_cl)))\n",
    "for ri,row in enumerate(u_rl):\n",
    "    for ci,col in enumerate(u_cl):\n",
    "        BL = int(np.floor(BL_map_THCal[row][col]))\n",
    "        NW = abs(int(np.floor(NW_map_THCal[row][col])))\n",
    "        ax0 = fig.add_subplot(gs[len(u_rl)-ri-1,len(u_cl)-ci-1])\n",
    "        ax0.axhline(BL, color='k', lw=0.8, label=f\"BL = {BL} DAC LSB\")\n",
    "        ax0.axhline(BL+NW, color='k',ls=\"--\", lw=0.8, label=f\"NW = $\\pm${NW} DAC LSB\")\n",
    "        ax0.axhline(BL-NW, color='k',ls=\"--\", lw=0.8)\n",
    "        X = []\n",
    "        Y = []\n",
    "        for QInj in QInjEns:\n",
    "            ax0.plot(QInj, QInj_DAC_map[row][col][QInj], 'rx')\n",
    "            X.append(QInj)\n",
    "            Y.append(QInj_Peak_DAC_map[row][col][QInj])\n",
    "        X = np.array(X[:])\n",
    "        Y = np.array(Y[:])\n",
    "        (m, b), cov = np.polyfit(X, Y, 1, cov = True)\n",
    "        n = Y.size\n",
    "        Yfit = np.polyval((m,b), X)\n",
    "        errorbars = np.sqrt(np.diag(cov))\n",
    "        x_range = np.linspace(0, 35, 100)\n",
    "        y_est = b + m*x_range\n",
    "        resid = Y - Yfit\n",
    "        s_err = np.sqrt(np.sum(resid**2)/(n - 2))\n",
    "        t = stats.t.ppf(0.95, n - 2)\n",
    "        ci2= t * s_err * np.sqrt(    1/n + (x_range - np.mean(X))**2/(np.sum((X)**2)-n*np.sum((np.mean(X))**2)))\n",
    "        \n",
    "        ax0.plot(x_range, y_est, 'b-', lw=-.8, label=f\"DAC_TH = ({m:.3f}$\\pm${errorbars[0]:.3f} [1/fC])$\\cdot$Q + ({b:.3f}$\\pm${errorbars[1]:.3f})\")\n",
    "        plt.fill_between(x_range, y_est+ci2, y_est-ci2, color='b',alpha=0.2, label=\"95% Confidence Interval on Linear Fit\")\n",
    "        ax0.set_xlabel(\"Charge Injected [fC]\")\n",
    "        ax0.set_ylabel(\"DAC Threshold [LSB]\")\n",
    "        plt.title(f\"{chip_figtitle}, Pixel ({row},{col}) Qinj Sensitivity Plot\",size=10)\n",
    "        plt.legend(loc=\"upper left\")\n",
    "plt.tight_layout()\n",
    "plt.savefig(fig_path+\"/\"+chip_figname+\"_QInj_Sensitivity_\"+datetime.datetime.now().strftime(\"%Y-%m-%d_%H-%M\")+\".png\")\n",
    "plt.show()"
   ]
  },
  {
   "attachments": {},
   "cell_type": "markdown",
   "metadata": {},
   "source": [
    "## Full DAC scan using counter"
   ]
  },
  {
   "cell_type": "code",
   "execution_count": null,
   "metadata": {},
   "outputs": [],
   "source": [
    "pedestal_scan_step = 2\n",
    "scan_name = chip_figname+\"_VRef_SCurve\"\n",
    "fpga_time = 3\n",
    "\n",
    "today = datetime.date.today()\n",
    "todaystr = \"../ETROC-Data/\" + today.isoformat() + \"_Array_Test_Results/\"\n",
    "base_dir = Path(todaystr)\n",
    "base_dir.mkdir(exist_ok=True)\n",
    "\n",
    "col_list, row_list = zip(*scan_list)\n",
    "\n",
    "# Loop for enable/disable charge injection per pixel (single!!!)\n",
    "for index, (col, row) in zip(range(len(row_list)), scan_list):\n",
    "    print(\"Pixel:\",col,row)\n",
    "    pixel_connected_chip = i2c_conn.get_pixel_chip(chip_address, row, col)\n",
    "    # Enable charge injection\n",
    "    i2c_conn.pixel_decoded_register_write(\"disDataReadout\", \"0\", pixel_connected_chip)\n",
    "    i2c_conn.pixel_decoded_register_write(\"QInjEn\", \"1\", pixel_connected_chip)\n",
    "    i2c_conn.pixel_decoded_register_write(\"disTrigPath\", \"0\", pixel_connected_chip)\n",
    "    # Bypass Cal Threshold\n",
    "    i2c_conn.pixel_decoded_register_write(\"Bypass_THCal\", \"1\", pixel_connected_chip)\n",
    "    for QInj in QInjEns:\n",
    "        # Modifying charge injected\n",
    "        i2c_conn.pixel_decoded_register_write(\"QSel\", format(QInj, '05b'), pixel_connected_chip)\n",
    "        threshold_name = scan_name+f'_Pixel_C{col}_R{row}_QInj_{QInj}'\n",
    "        (options, args) = parser.parse_args(args=f\"--useIPC --hostname {hostname} -o {threshold_name} -v -w --reset_till_trigger_linked -s 0x000C -p 0x000f -d 0x0800 -c 0x0001 --fpga_data_time_limit 3 --fpga_data_QInj --check_trigger_link_at_end --nodaq --clear_fifo\".split())\n",
    "        IPC_queue = multiprocessing.Queue()\n",
    "        process = multiprocessing.Process(target=run_script.main_process, args=(IPC_queue, options, f'process_outputs/main_process_link'))\n",
    "        process.start()\n",
    "        process.join()\n",
    "\n",
    "        thresholds = np.arange(BL_map_THCal[row][col]-20, QInj_Peak_DAC_map[row][col][QInj]+10, pedestal_scan_step)\n",
    "        \n",
    "        for DAC in tqdm(thresholds, desc=f'DAC Loop for Pixel ({col},{row}) & Charge {QInj} fC', leave=False):\n",
    "            # Set the DAC v, Qinj {Qinj}fCalue to the value being scanned\n",
    "            i2c_conn.pixel_decoded_register_write(\"DAC\", format(int(DAC), '010b'), pixel_connected_chip)\n",
    "            (options, args) = parser.parse_args(args=f\"--useIPC --hostname {hostname} -o {threshold_name} -v --reset_till_trigger_linked -s 0x000C -p 0x000f -d 0x0800 -c 0x0001 --fpga_data_time_limit {int(fpga_time)} --fpga_data_QInj --check_trigger_link_at_end --nodaq --DAC_Val {int(DAC)}\".split())\n",
    "            IPC_queue = multiprocessing.Queue()\n",
    "            process = multiprocessing.Process(target=run_script.main_process, args=(IPC_queue, options, f'process_outputs/main_process_Pixel_C{col}_R{row}_{QInj}_{int(DAC)}'))\n",
    "            process.start()\n",
    "            process.join()\n",
    "            \n",
    "    # Disable charge injection\n",
    "    i2c_conn.pixel_decoded_register_write(\"QInjEn\", \"0\", pixel_connected_chip)\n",
    "    i2c_conn.pixel_decoded_register_write(\"disDataReadout\", \"1\", pixel_connected_chip)\n",
    "    i2c_conn.pixel_decoded_register_write(\"disTrigPath\", \"1\", pixel_connected_chip)\n",
    "    i2c_conn.pixel_decoded_register_write(\"DAC\", format(0x3ff, '010b'), pixel_connected_chip)\n"
   ]
  },
  {
   "attachments": {},
   "cell_type": "markdown",
   "metadata": {},
   "source": [
    "### Plot Full Scan Output"
   ]
  },
  {
   "cell_type": "code",
   "execution_count": null,
   "metadata": {},
   "outputs": [],
   "source": [
    "scan_name = chip_figname+\"_VRef_SCurve\"\n",
    "root = '../ETROC-Data'\n",
    "file_pattern = \"*FPGA_Data.dat\"\n",
    "triggerbit_full_Scurve = {row:{col:{q:{} for q in QInjEns} for col in range(16)} for row in range(16)}\n",
    "data_full_Scurve = {row:{col:{q:{} for q in QInjEns} for col in range(16)} for row in range(16)}\n",
    "col_list, row_list = zip(*plot_list)\n",
    "for index, (col, row) in zip(range(len(row_list)), plot_list): \n",
    "    BL = int(BL_map_THCal[row][col])\n",
    "    for QInj in (QInjEns):\n",
    "        print(f'Pixel {col},{row} - {QInj} fC')\n",
    "        path_pattern = f\"*{today.isoformat()}_Array_Test_Results/{scan_name}_Pixel_C{col}_R{row}_QInj_{QInj}\"\n",
    "        file_list = []\n",
    "        for path, subdirs, files in os.walk(root):\n",
    "            if not fnmatch(path, path_pattern): continue\n",
    "            for name in files:\n",
    "                pass\n",
    "                if fnmatch(name, file_pattern):\n",
    "                    file_list.append(os.path.join(path, name))\n",
    "        total_files = len(file_list)\n",
    "        for file_index, file_name in enumerate(file_list):\n",
    "            with open(file_name) as infile:\n",
    "                for line in infile:\n",
    "                    text_list = line.split(',')\n",
    "                    FPGA_state = text_list[0]\n",
    "                    FPGA_data = int(text_list[3])\n",
    "                    FPGA_triggerbit = int(text_list[5])\n",
    "                    DAC = int(text_list[-1])\n",
    "                    if DAC == -1: continue\n",
    "                    try:\n",
    "                        triggerbit_full_Scurve[row][col][QInj][DAC] = FPGA_triggerbit\n",
    "                        data_full_Scurve[row][col][QInj][DAC] = FPGA_data\n",
    "                    except:\n",
    "                        print(f\"Couldn't find DAC: {DAC} in file list\")"
   ]
  },
  {
   "attachments": {},
   "cell_type": "markdown",
   "metadata": {},
   "source": [
    "### Plot Full Data S-Curve Scan"
   ]
  },
  {
   "cell_type": "code",
   "execution_count": null,
   "metadata": {},
   "outputs": [],
   "source": [
    "colors = [plt.cm.viridis(i) for i in np.linspace(0,1,len(QInjEns))]\n",
    "col_list, row_list = zip(*plot_list)\n",
    "u_cl = np.sort(np.unique(col_list))\n",
    "u_rl = np.sort(np.unique(row_list))\n",
    "fig = plt.figure(dpi=200, figsize=(len(np.unique(u_cl))*7,len(np.unique(u_rl))*5))\n",
    "gs = fig.add_gridspec(len(np.unique(u_rl)),len(np.unique(u_cl)))\n",
    "for ri,row in enumerate(u_rl):\n",
    "    for ci,col in enumerate(u_cl):\n",
    "        ax0 = fig.add_subplot(gs[len(u_rl)-ri-1,len(u_cl)-ci-1])\n",
    "        ax0.axvline(BL_map_THCal[row][col], color='k', label=\"THCal BL\", lw=0.7)\n",
    "        ax0.axvline(BL_map_THCal[row][col]+NW_map_THCal[row][col], color='r', ls='-', label=\"THCal NW\", lw=0.7)\n",
    "        ax0.axvline(BL_map_THCal[row][col]-NW_map_THCal[row][col], color='r', ls='-', lw=0.7)\n",
    "        for i, QInj in enumerate(QInjEns[0:]):\n",
    "            ax0.plot(data_full_Scurve[row][col][QInj].keys(), data_full_Scurve[row][col][QInj].values(), 'd-', color=colors[i], label=f\"{QInj} fC Data\",lw=0.5,markersize=1.5)\n",
    "        ax0.set_xlabel(\"DAC Value [decimal]\")\n",
    "        ax0.set_ylabel(\"Data Counts [decimal]\")\n",
    "        # ax0.text(0.7, 0.8, f\"Pixel {row},{col}\", transform=ax0.transAxes)\n",
    "        plt.legend(loc=\"upper right\")\n",
    "        plt.yscale(\"log\")\n",
    "        plt.title(f\"{chip_figtitle}, Pixel ({row},{col}) Full Data S-Curve\")\n",
    "        plt.tight_layout()\n",
    "plt.savefig(fig_path+\"/\"+chip_figname+\"_QInj_Full_Data_SCurveScan_\"+datetime.datetime.now().strftime(\"%Y-%m-%d_%H-%M\")+\".png\")"
   ]
  },
  {
   "attachments": {},
   "cell_type": "markdown",
   "metadata": {},
   "source": [
    "### Plot Full Trigger Bit S-Curve Scan"
   ]
  },
  {
   "cell_type": "code",
   "execution_count": null,
   "metadata": {},
   "outputs": [],
   "source": [
    "colors = [plt.cm.viridis(i) for i in np.linspace(0,1,len(QInjEns))]\n",
    "col_list, row_list = zip(*plot_list)\n",
    "u_cl = np.sort(np.unique(col_list))\n",
    "u_rl = np.sort(np.unique(row_list))\n",
    "fig = plt.figure(dpi=200, figsize=(len(np.unique(u_cl))*7,len(np.unique(u_rl))*5))\n",
    "gs = fig.add_gridspec(len(np.unique(u_rl)),len(np.unique(u_cl)))\n",
    "for ri,row in enumerate(u_rl):\n",
    "    for ci,col in enumerate(u_cl):\n",
    "        ax0 = fig.add_subplot(gs[len(u_rl)-ri-1,len(u_cl)-ci-1])\n",
    "        ax0.axvline(BL_map_THCal[row][col], color='k', label=\"THCal BL\", lw=0.7)\n",
    "        ax0.axvline(BL_map_THCal[row][col]+NW_map_THCal[row][col], color='r', ls='-', label=\"THCal NW\", lw=0.7)\n",
    "        ax0.axvline(BL_map_THCal[row][col]-NW_map_THCal[row][col], color='r', ls='-', lw=0.7)\n",
    "        for i, QInj in enumerate(QInjEns[0:]):\n",
    "            ax0.plot(triggerbit_full_Scurve[row][col][QInj].keys(), triggerbit_full_Scurve[row][col][QInj].values(), '.--', color=colors[i], label=f\"{QInj} fC TrigB\",lw=0.5,markersize=2)\n",
    "        ax0.set_xlabel(\"DAC Value [decimal]\")\n",
    "        ax0.set_ylabel(\"Data Counts [decimal]\")\n",
    "        # ax0.text(0.7, 0.8, f\"Pixel {row},{col}\", transform=ax0.transAxes)\n",
    "        plt.legend(loc=\"upper right\")\n",
    "        plt.yscale(\"log\")\n",
    "        plt.title(f\"{chip_figtitle}, Pixel ({row},{col}) Full Trigger Bit S-Curve\")\n",
    "        plt.tight_layout()\n",
    "plt.savefig(fig_path+\"/\"+chip_figname+\"_QInj_Full_TriggerBit_SCurveScan_\"+datetime.datetime.now().strftime(\"%Y-%m-%d_%H-%M\")+\".png\")"
   ]
  },
  {
   "cell_type": "code",
   "execution_count": null,
   "metadata": {},
   "outputs": [],
   "source": []
  },
  {
   "attachments": {},
   "cell_type": "markdown",
   "metadata": {},
   "source": [
    "# Run DAQ scanning by row to study multiple pixels TOT and TOA"
   ]
  },
  {
   "attachments": {},
   "cell_type": "markdown",
   "metadata": {},
   "source": [
    "### Define DAQ function"
   ]
  },
  {
   "cell_type": "code",
   "execution_count": null,
   "metadata": {},
   "outputs": [],
   "source": [
    "def run_daq(timePerPixel, deadTime, triggerBitDelay, dirname):\n",
    "    \n",
    "    time_per_pixel = timePerPixel\n",
    "    dead_time_per_pixel = deadTime\n",
    "    trigger_bit_delay = triggerBitDelay\n",
    "    total_scan_time = time_per_pixel + dead_time_per_pixel\n",
    "    outname = dirname\n",
    "\n",
    "    today = datetime.date.today()\n",
    "    todaystr = \"../ETROC-Data/\" + today.isoformat() + \"_Array_Test_Results/\"\n",
    "    base_dir = Path(todaystr)\n",
    "    base_dir.mkdir(exist_ok=True)\n",
    "\n",
    "    parser = run_script.getOptionParser() \n",
    "    (options, args) = parser.parse_args(args=f\"--useIPC --hostname {hostname} -t {int(total_scan_time)} -o {outname} -v -w -s 0x000C -p 0x000f -d 0x0800 --clear_fifo\".split())\n",
    "    IPC_queue = multiprocessing.Queue()\n",
    "    process = multiprocessing.Process(target=run_script.main_process, args=(IPC_queue, options, f'main_process'))\n",
    "    process.start()\n",
    "\n",
    "    IPC_queue.put('start L1A trigger bit')\n",
    "    while not IPC_queue.empty():\n",
    "        pass\n",
    "\n",
    "    # delay = '000011'+format(trigger_bit_delay, '010b')\n",
    "    # hex_delay = hex(int(delay, base=2))\n",
    "    # IPC_queue.put(f'change delay {hex_delay}') \n",
    "    # while not IPC_queue.empty():\n",
    "    #     pass\n",
    "\n",
    "    time.sleep(time_per_pixel)\n",
    "    IPC_queue.put('stop L1A trigger bit')\n",
    "\n",
    "    time.sleep(1)\n",
    "    IPC_queue.put('stop DAQ')\n",
    "    while not IPC_queue.empty():\n",
    "        pass\n",
    "\n",
    "    IPC_queue.put('allow threads to exit')\n",
    "\n",
    "    process.join()"
   ]
  },
  {
   "attachments": {},
   "cell_type": "markdown",
   "metadata": {},
   "source": [
    "### Actual DAQ run"
   ]
  },
  {
   "cell_type": "code",
   "execution_count": null,
   "metadata": {},
   "outputs": [],
   "source": [
    "# Actual DAQ run\n",
    "scan_name = chip_figname+\"_VRef_TDC_DAQ\"\n",
    "# disable/default all pixels\n",
    "print(\"Disabling all pixels\")\n",
    "i2c_conn.config_chips('00010000')\n",
    "\n",
    "for i in range(15):\n",
    "\n",
    "    DAQ_scan_list = list(zip(np.full(16, i), np.arange(16)))\n",
    "    print(DAQ_scan_list)\n",
    "\n",
    "    for row, col in DAQ_scan_list:\n",
    "        pixel_connected_chip = i2c_conn.get_pixel_chip(chip_address, row, col)\n",
    "\n",
    "        print(f\"Enabling Pixel ({row},{col})\")\n",
    "\n",
    "        i2c_conn.pixel_decoded_register_write(\"Bypass_THCal\", \"0\", pixel_connected_chip)               # Set to 0 to use BL from auto cal\n",
    "        i2c_conn.pixel_decoded_register_write(\"QSel\", format(0x0e, '05b'), pixel_connected_chip)       # Ensure we inject 0 fC of charge\n",
    "        i2c_conn.pixel_decoded_register_write(\"TH_offset\", format(0x0c, '06b'), pixel_connected_chip)  # Offset used to add to the auto BL for real triggering\n",
    "        i2c_conn.pixel_decoded_register_write(\"disDataReadout\", \"0\", pixel_connected_chip)             # ENable readout\n",
    "        i2c_conn.pixel_decoded_register_write(\"QInjEn\", \"1\", pixel_connected_chip)                     # ENable charge injection for the selected pixel\n",
    "        i2c_conn.pixel_decoded_register_write(\"L1Adelay\", format(0x01f5, '09b'), pixel_connected_chip) # Change L1A delay - circular buffer in ETROC2 pixel\n",
    "        i2c_conn.pixel_decoded_register_write(\"disTrigPath\", \"0\", pixel_connected_chip)                # Enable trigger path\n",
    "\n",
    "    run_daq(10, 6, 485, f'{scan_name}_R{str(i)}_CX')\n",
    "\n",
    "    for row, col in DAQ_scan_list:\n",
    "        pixel_connected_chip = i2c_conn.get_pixel_chip(chip_address, row, col)\n",
    "\n",
    "        print(f\"Disabling Pixel ({row},{col})\")\n",
    "\n",
    "        i2c_conn.pixel_decoded_register_write(\"disDataReadout\", \"1\", pixel_connected_chip)             # Disable readout\n",
    "        i2c_conn.pixel_decoded_register_write(\"QInjEn\", \"0\", pixel_connected_chip)                     # Disable charge injection for the selected pixel\n",
    "        i2c_conn.pixel_decoded_register_write(\"disTrigPath\", \"1\", pixel_connected_chip)                # Disable trigger path\n",
    "        i2c_conn.pixel_decoded_register_write(\"Bypass_THCal\", \"1\", pixel_connected_chip)               # Set to 1 to use DAC\n",
    "        i2c_conn.pixel_decoded_register_write(\"DAC\", format(0x3ff, '010b'), pixel_connected_chip)      # Set DAC manually to max"
   ]
  },
  {
   "attachments": {},
   "cell_type": "markdown",
   "metadata": {},
   "source": [
    "# Disconnect chip"
   ]
  },
  {
   "cell_type": "code",
   "execution_count": null,
   "metadata": {},
   "outputs": [],
   "source": [
    "del i2c_conn"
   ]
  },
  {
   "attachments": {},
   "cell_type": "markdown",
   "metadata": {},
   "source": [
    "# Store BL, NW dataframe for later use"
   ]
  },
  {
   "cell_type": "code",
   "execution_count": null,
   "metadata": {},
   "outputs": [],
   "source": [
    "outdir = Path('../ETROC-Data')\n",
    "outdir = outdir / (datetime.date.today().isoformat() + '_Array_Test_Results')\n",
    "outdir.mkdir(exist_ok=True)\n",
    "outfile = outdir / (chip_name+tag+\"_BaselineAt_\" + datetime.datetime.now().strftime(\"%Y-%m-%d_%H-%M\") + \".csv\")\n",
    "BL_df.to_csv(outfile, index=False)"
   ]
  },
  {
   "cell_type": "code",
   "execution_count": null,
   "metadata": {},
   "outputs": [],
   "source": [
    "note = 'PreTID'+chip_name\n",
    "new_columns = {\n",
    "    'note': f'{note}',\n",
    "}\n",
    "\n",
    "for col in new_columns:\n",
    "    BL_df[col] = new_columns[col]\n",
    "\n",
    "outdir = Path('../ETROC-History')\n",
    "outfile = outdir / 'BaselineHistory.sqlite'\n",
    "\n",
    "init_cmd = [\n",
    "    'cd ' + str(outdir.resolve()),\n",
    "    'git stash -u',\n",
    "    'git pull',\n",
    "]\n",
    "end_cmd = [\n",
    "    'cd ' + str(outdir.resolve()),\n",
    "    'git add BaselineHistory.sqlite',\n",
    "    'git commit -m \"Added new history entry\"',\n",
    "    'git push',\n",
    "    'git stash pop',\n",
    "    'git stash clear',\n",
    "]\n",
    "init_cmd = [x + '\\n' for x in init_cmd]\n",
    "end_cmd  = [x + '\\n' for x in end_cmd]\n",
    "\n",
    "p = subprocess.Popen(\n",
    "    '/bin/bash',\n",
    "    stdin=subprocess.PIPE,\n",
    "    stdout=subprocess.PIPE,\n",
    "    stderr=subprocess.PIPE,\n",
    "    encoding=\"utf-8\",\n",
    "    )\n",
    "\n",
    "for cmd in init_cmd:\n",
    "    p.stdin.write(cmd + \"\\n\")\n",
    "p.stdin.close()\n",
    "p.wait()\n",
    "\n",
    "print(p.stdout.read())\n",
    "\n",
    "with sqlite3.connect(outfile) as sqlconn:\n",
    "    BL_df.to_sql('baselines', sqlconn, if_exists='append', index=False)\n",
    "\n",
    "p = subprocess.Popen(\n",
    "    '/bin/bash',\n",
    "    stdin=subprocess.PIPE,\n",
    "    stdout=subprocess.PIPE,\n",
    "    stderr=subprocess.PIPE,\n",
    "    encoding=\"utf-8\",\n",
    "    )\n",
    "\n",
    "for cmd in end_cmd:\n",
    "    p.stdin.write(cmd + \"\\n\")\n",
    "p.stdin.close()\n",
    "p.wait()\n",
    "\n",
    "p.stdin.close()\n",
    "\n",
    "print(p.stdout.read())\n"
   ]
  }
 ],
 "metadata": {
  "kernelspec": {
   "display_name": "Python 3",
   "language": "python",
   "name": "python3"
  },
  "language_info": {
   "codemirror_mode": {
    "name": "ipython",
    "version": 3
   },
   "file_extension": ".py",
   "mimetype": "text/x-python",
   "name": "python",
   "nbconvert_exporter": "python",
   "pygments_lexer": "ipython3",
   "version": "3.9.16"
  },
  "orig_nbformat": 4
 },
 "nbformat": 4,
 "nbformat_minor": 2
}
