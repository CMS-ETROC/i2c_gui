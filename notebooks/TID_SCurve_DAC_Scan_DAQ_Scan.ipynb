{
 "cells": [
  {
   "cell_type": "code",
   "execution_count": null,
   "metadata": {},
   "outputs": [],
   "source": [
    "#############################################################################\n",
    "# zlib License\n",
    "#\n",
    "# (C) 2023 Cristóvão Beirão da Cruz e Silva <cbeiraod@cern.ch>\n",
    "#\n",
    "# This software is provided 'as-is', without any express or implied\n",
    "# warranty.  In no event will the authors be held liable for any damages\n",
    "# arising from the use of this software.\n",
    "#\n",
    "# Permission is granted to anyone to use this software for any purpose,\n",
    "# including commercial applications, and to alter it and redistribute it\n",
    "# freely, subject to the following restrictions:\n",
    "#\n",
    "# 1. The origin of this software must not be misrepresented; you must not\n",
    "#    claim that you wrote the original software. If you use this software\n",
    "#    in a product, an acknowledgment in the product documentation would be\n",
    "#    appreciated but is not required.\n",
    "# 2. Altered source versions must be plainly marked as such, and must not be\n",
    "#    misrepresented as being the original software.\n",
    "# 3. This notice may not be removed or altered from any source distribution.\n",
    "#############################################################################\n",
    "\n",
    "#############################################################################\n",
    "# Modified for ETROC2 I2C testing in jupyter notebooks, Murtaza Safdari\n",
    "#############################################################################"
   ]
  },
  {
   "attachments": {},
   "cell_type": "markdown",
   "metadata": {},
   "source": [
    "## Imports"
   ]
  },
  {
   "cell_type": "code",
   "execution_count": null,
   "metadata": {},
   "outputs": [],
   "source": [
    "#%%\n",
    "%matplotlib inline\n",
    "import matplotlib.pyplot as plt\n",
    "import logging\n",
    "import numpy as np\n",
    "import time\n",
    "import datetime\n",
    "from tqdm import tqdm\n",
    "import os\n",
    "os.chdir(f'/home/{os.getlogin()}/ETROC2/ETROC_DAQ')\n",
    "import multiprocessing\n",
    "import run_script\n",
    "import importlib\n",
    "importlib.reload(run_script)\n",
    "import pandas\n",
    "from pathlib import Path\n",
    "import subprocess\n",
    "import sqlite3\n",
    "from mpl_toolkits.axes_grid1 import make_axes_locatable\n",
    "from fnmatch import fnmatch\n",
    "\n",
    "import i2c_gui\n",
    "import i2c_gui.chips\n",
    "from i2c_gui.usb_iss_helper import USB_ISS_Helper\n",
    "from i2c_gui.fpga_eth_helper import FPGA_ETH_Helper\n",
    "from i2c_gui.chips.etroc2_chip import register_decoding"
   ]
  },
  {
   "attachments": {},
   "cell_type": "markdown",
   "metadata": {},
   "source": [
    "## Specify board name"
   ]
  },
  {
   "cell_type": "code",
   "execution_count": null,
   "metadata": {},
   "outputs": [],
   "source": [
    "# !!!!!!!!!!!!\n",
    "# It is very important to correctly set the chip name, this value is stored with the data\n",
    "chip_name = \"02D5#12\"\n",
    "TID_str = \"PreTID\"\n",
    "chip_figname = f\"LowBiasCurrent_{TID_str}_{chip_name}\"\n",
    "chip_figtitle= \"LowBiasCurrent \"+TID_str+chip_name\n",
    "\n",
    "fpga_ip = \"192.168.2.3\"\n",
    "\n",
    "fig_outdir = Path('../ETROC-figures')\n",
    "fig_outdir = fig_outdir / (datetime.date.today().isoformat() + '_Array_Test_Results')\n",
    "fig_outdir.mkdir(exist_ok=True)\n",
    "fig_path = str(fig_outdir)"
   ]
  },
  {
   "attachments": {},
   "cell_type": "markdown",
   "metadata": {},
   "source": [
    "## Set defaults"
   ]
  },
  {
   "cell_type": "code",
   "execution_count": null,
   "metadata": {},
   "outputs": [],
   "source": [
    "# 'If set, the full log will be saved to a file (i.e. the log level is ignored)'\n",
    "log_file = False\n",
    "# 'Set the logging level. Default: WARNING',\n",
    "#  [\"CRITICAL\",\"ERROR\",\"WARNING\",\"INFO\",\"DEBUG\",\"TRACE\",\"DETAILED_TRACE\",\"NOTSET\"]\n",
    "log_level_text = \"WARNING\"\n",
    "# 'The port name the USB-ISS module is connected to. Default: COM3'\n",
    "port = \"/dev/ttyACM0\"\n",
    "# I2C addresses for the pixel block and WS\n",
    "chip_address = 0x60\n",
    "ws_address = None"
   ]
  },
  {
   "cell_type": "code",
   "execution_count": null,
   "metadata": {},
   "outputs": [],
   "source": [
    "if log_file:\n",
    "    logging.basicConfig(filename='logging.log', filemode='w', encoding='utf-8', level=logging.NOTSET)\n",
    "    log_level = 0\n",
    "else:\n",
    "    log_level = 0\n",
    "    if log_level_text == \"CRITICAL\":\n",
    "        log_level=50\n",
    "    elif log_level_text == \"ERROR\":\n",
    "        log_level=40\n",
    "    elif log_level_text == \"WARNING\":\n",
    "        log_level=30\n",
    "    elif log_level_text == \"INFO\":\n",
    "        log_level=20\n",
    "    elif log_level_text == \"DEBUG\":\n",
    "        log_level=10\n",
    "    elif log_level_text == \"TRACE\":\n",
    "        log_level=8\n",
    "    elif log_level_text == \"DETAILED_TRACE\":\n",
    "        log_level=5\n",
    "    elif log_level_text == \"NOTSET\":\n",
    "        log_level=0\n",
    "    logging.basicConfig(format='%(asctime)s - %(levelname)s:%(name)s:%(message)s')\n",
    "\n",
    "i2c_gui.__no_connect__ = False  # Set to fake connecting to an ETROC2 device\n",
    "i2c_gui.__no_connect_type__ = \"echo\"  # for actually testing readback\n",
    "#i2c_gui.__no_connect_type__ = \"check\"  # default behaviour"
   ]
  },
  {
   "attachments": {},
   "cell_type": "markdown",
   "metadata": {},
   "source": [
    "## Start logger and connect"
   ]
  },
  {
   "cell_type": "code",
   "execution_count": null,
   "metadata": {},
   "outputs": [],
   "source": [
    "logger = logging.getLogger(\"Script_Logger\")\n",
    "\n",
    "Script_Helper = i2c_gui.ScriptHelper(logger)\n",
    "\n",
    "## USB ISS connection\n",
    "conn = i2c_gui.Connection_Controller(Script_Helper)\n",
    "conn.connection_type = \"USB-ISS\"\n",
    "conn.handle: USB_ISS_Helper\n",
    "conn.handle.port = port\n",
    "conn.handle.clk = 100\n",
    "\n",
    "## For FPGA connection (not yet fully implemented)\n",
    "#conn.connection_type = \"FPGA-Eth\"\n",
    "#conn.handle: FPGA_ETH_Helper\n",
    "#conn.handle.hostname = fpga_ip\n",
    "#conn.handle.port = \"1024\"\n",
    "\n",
    "conn.connect()"
   ]
  },
  {
   "cell_type": "code",
   "execution_count": null,
   "metadata": {},
   "outputs": [],
   "source": [
    "chip = i2c_gui.chips.ETROC2_Chip(parent=Script_Helper, i2c_controller=conn)\n",
    "chip.config_i2c_address(chip_address)  # Not needed if you do not access ETROC registers (i.e. only access WS registers)\n",
    "# chip.config_waveform_sampler_i2c_address(ws_address)  # Not needed if you do not access WS registers\n",
    "\n",
    "logger.setLevel(log_level)"
   ]
  },
  {
   "attachments": {},
   "cell_type": "markdown",
   "metadata": {},
   "source": [
    "## Useful Functions"
   ]
  },
  {
   "cell_type": "code",
   "execution_count": null,
   "metadata": {},
   "outputs": [],
   "source": [
    "def pixel_decoded_register_write(decodedRegisterName, data_to_write):\n",
    "    bit_depth = register_decoding[\"ETROC2\"][\"Register Blocks\"][\"Pixel Config\"][decodedRegisterName][\"bits\"]\n",
    "    handle = chip.get_decoded_indexed_var(\"ETROC2\", \"Pixel Config\", decodedRegisterName)\n",
    "    chip.read_decoded_value(\"ETROC2\", \"Pixel Config\", decodedRegisterName)\n",
    "    if len(data_to_write)!=bit_depth: print(\"Binary data_to_write is of incorrect length for\",decodedRegisterName, \"with bit depth\", bit_depth)\n",
    "    data_hex_modified = hex(int(data_to_write, base=2))\n",
    "    if(bit_depth>1): handle.set(data_hex_modified)\n",
    "    elif(bit_depth==1): handle.set(data_to_write)\n",
    "    else: print(decodedRegisterName, \"!!!ERROR!!! Bit depth <1, how did we get here...\")\n",
    "    chip.write_decoded_value(\"ETROC2\", \"Pixel Config\", decodedRegisterName)\n",
    "\n",
    "def pixel_decoded_register_read(decodedRegisterName, key, need_int=False):\n",
    "    handle = chip.get_decoded_indexed_var(\"ETROC2\", f\"Pixel {key}\", decodedRegisterName)\n",
    "    chip.read_decoded_value(\"ETROC2\", f\"Pixel {key}\", decodedRegisterName)\n",
    "    if(need_int): return int(handle.get(), base=16)\n",
    "    else: return handle.get()\n",
    "\n",
    "def peripheral_decoded_register_write(decodedRegisterName, data_to_write):\n",
    "    bit_depth = register_decoding[\"ETROC2\"][\"Register Blocks\"][\"Peripheral Config\"][decodedRegisterName][\"bits\"]\n",
    "    handle = chip.get_decoded_display_var(\"ETROC2\", \"Peripheral Config\", decodedRegisterName)\n",
    "    chip.read_decoded_value(\"ETROC2\", \"Peripheral Config\", decodedRegisterName)\n",
    "    if len(data_to_write)!=bit_depth: print(\"Binary data_to_write is of incorrect length for\",decodedRegisterName, \"with bit depth\", bit_depth)\n",
    "    data_hex_modified = hex(int(data_to_write, base=2))\n",
    "    if(bit_depth>1): handle.set(data_hex_modified)\n",
    "    elif(bit_depth==1): handle.set(data_to_write)\n",
    "    else: print(decodedRegisterName, \"!!!ERROR!!! Bit depth <1, how did we get here...\")\n",
    "    chip.write_decoded_value(\"ETROC2\", \"Peripheral Config\", decodedRegisterName)\n",
    "\n",
    "def peripheral_decoded_register_read(decodedRegisterName, key, need_int=False):\n",
    "    handle = chip.get_decoded_display_var(\"ETROC2\", f\"Peripheral {key}\", decodedRegisterName)\n",
    "    chip.read_decoded_value(\"ETROC2\", f\"Peripheral {key}\", decodedRegisterName)\n",
    "    if(need_int): return int(handle.get(), base=16)\n",
    "    else: return handle.get()"
   ]
  },
  {
   "attachments": {},
   "cell_type": "markdown",
   "metadata": {},
   "source": [
    "## Pixel ID Check"
   ]
  },
  {
   "cell_type": "code",
   "execution_count": null,
   "metadata": {},
   "outputs": [],
   "source": [
    "Failure_map = np.zeros((16,16))\n",
    "row_indexer_handle,_,_ = chip.get_indexer(\"row\")  # Returns 3 parameters: handle, min, max\n",
    "column_indexer_handle,_,_ = chip.get_indexer(\"column\")\n",
    "for row in range(16):\n",
    "    for col in range(16):\n",
    "        column_indexer_handle.set(col)\n",
    "        row_indexer_handle.set(row)\n",
    "        fetched_row = pixel_decoded_register_read(\"PixelID-Row\", \"Status\", need_int=True)\n",
    "        fetched_col = pixel_decoded_register_read(\"PixelID-Col\", \"Status\", need_int=True)\n",
    "        if(row!=fetched_row or col!=fetched_col):\n",
    "            print(\"Fail!\", row, col, fetched_row, fetched_col)\n",
    "            Failure_map[15-row,15-col] = 1"
   ]
  },
  {
   "cell_type": "code",
   "execution_count": null,
   "metadata": {},
   "outputs": [],
   "source": [
    "#%%\n",
    "%matplotlib inline\n",
    "import matplotlib.pyplot as plt"
   ]
  },
  {
   "cell_type": "code",
   "execution_count": null,
   "metadata": {},
   "outputs": [],
   "source": [
    "fig = plt.figure(dpi=75, figsize=(8,8))\n",
    "gs = fig.add_gridspec(1,1)\n",
    "\n",
    "ax0 = fig.add_subplot(gs[0,0])\n",
    "ax0.set_title(\"Pixel ID Failure Map\")\n",
    "img0 = ax0.imshow(Failure_map, interpolation='none')\n",
    "ax0.set_aspect(\"equal\")\n",
    "ax0.get_yaxis().set_visible(False)\n",
    "ax0.get_xaxis().set_visible(False)\n",
    "divider = make_axes_locatable(ax0)\n",
    "cax = divider.append_axes('right', size=\"5%\", pad=0.05)\n",
    "fig.colorbar(img0, cax=cax, orientation=\"vertical\")\n",
    "plt.show()"
   ]
  },
  {
   "cell_type": "markdown",
   "metadata": {},
   "source": [
    "## Check basic I2C functionatity and consistency"
   ]
  },
  {
   "cell_type": "markdown",
   "metadata": {},
   "source": [
    "### Quick test using peripheral registers"
   ]
  },
  {
   "cell_type": "code",
   "execution_count": null,
   "metadata": {},
   "outputs": [],
   "source": [
    "peripheralRegisterKeys = [i for i in range(32)]\n",
    "for peripheralRegisterKey in peripheralRegisterKeys:\n",
    "    # Fetch the register\n",
    "    handle_PeriCfgX = chip.get_display_var(\"ETROC2\", \"Peripheral Config\", f\"PeriCfg{peripheralRegisterKey}\")\n",
    "    chip.read_register(\"ETROC2\", \"Peripheral Config\", f\"PeriCfg{peripheralRegisterKey}\")\n",
    "    data_bin_PeriCfgX = format(int(handle_PeriCfgX.get(), base=16), '08b')\n",
    "    # Make the flipped bits\n",
    "    # data_bin_modified_PeriCfgX = list(data_bin_PeriCfgX)\n",
    "    data_bin_modified_PeriCfgX = data_bin_PeriCfgX.replace('1', '2').replace('0', '1').replace('2', '0')\n",
    "    # data_bin_modified_PeriCfgX = ''.join(data_bin_modified_PeriCfgX)\n",
    "    data_hex_modified_PeriCfgX = hex(int(data_bin_modified_PeriCfgX, base=2))\n",
    "    # Set the register with the value\n",
    "    handle_PeriCfgX.set(data_hex_modified_PeriCfgX)\n",
    "    chip.write_register(\"ETROC2\", \"Peripheral Config\", f\"PeriCfg{peripheralRegisterKey}\")\n",
    "    # Perform two reads to verify the persistence of the change\n",
    "    chip.read_register(\"ETROC2\", \"Peripheral Config\", f\"PeriCfg{peripheralRegisterKey}\")\n",
    "    data_bin_new_1_PeriCfgX = format(int(handle_PeriCfgX.get(), base=16), '08b')\n",
    "    chip.read_register(\"ETROC2\", \"Peripheral Config\", f\"PeriCfg{peripheralRegisterKey}\")\n",
    "    data_bin_new_2_PeriCfgX = format(int(handle_PeriCfgX.get(), base=16), '08b')\n",
    "    # Undo the change to recover the original register value, and check for consistency\n",
    "    handle_PeriCfgX.set(hex(int(data_bin_PeriCfgX, base=2)))\n",
    "    chip.write_register(\"ETROC2\", \"Peripheral Config\", f\"PeriCfg{peripheralRegisterKey}\")\n",
    "    chip.read_register(\"ETROC2\", \"Peripheral Config\", f\"PeriCfg{peripheralRegisterKey}\")\n",
    "    data_bin_recover_PeriCfgX = format(int(handle_PeriCfgX.get(), base=16), '08b')\n",
    "    # Handle what we learned from the tests\n",
    "    # print(f\"PeriCfg{peripheralRegisterKey:2}\", data_bin_PeriCfgX, \"To\", data_bin_new_1_PeriCfgX,  \"To\", data_bin_new_2_PeriCfgX, \"To\", data_bin_recover_PeriCfgX)\n",
    "    if(data_bin_new_1_PeriCfgX!=data_bin_new_2_PeriCfgX or data_bin_new_2_PeriCfgX!=data_bin_modified_PeriCfgX or data_bin_recover_PeriCfgX!=data_bin_PeriCfgX): \n",
    "       print(f\"PeriCfg{peripheralRegisterKey:2}\", \"FAILURE\")"
   ]
  },
  {
   "cell_type": "markdown",
   "metadata": {},
   "source": [
    "### Test using selected pixel registers"
   ]
  },
  {
   "cell_type": "code",
   "execution_count": null,
   "metadata": {},
   "outputs": [],
   "source": [
    "check_row = [0, 0, 0, 15]\n",
    "check_col = [0, 7, 15, 7]\n",
    "check_list = list(zip(check_row, check_col))\n",
    "\n",
    "pixelRegisterKeys = [i for i in range(32)]\n",
    "row_indexer_handle,_,_ = chip.get_indexer(\"row\")  # Returns 3 parameters: handle, min, max\n",
    "column_indexer_handle,_,_ = chip.get_indexer(\"column\")\n",
    "for row, col in check_list:\n",
    "    print(\"Pixel\", row, col)\n",
    "    column_indexer_handle.set(col)\n",
    "    row_indexer_handle.set(row)\n",
    "    for pixelRegisterKey in pixelRegisterKeys:\n",
    "        # Fetch the register\n",
    "        handle_PixCfgX = chip.get_indexed_var(\"ETROC2\", \"Pixel Config\", f\"PixCfg{pixelRegisterKey}\")\n",
    "        chip.read_register(\"ETROC2\", \"Pixel Config\", f\"PixCfg{pixelRegisterKey}\")\n",
    "        data_bin_PixCfgX = format(int(handle_PixCfgX.get(), base=16), '08b')\n",
    "        # Make the flipped byte\n",
    "        data_bin_modified_PixCfgX = data_bin_PixCfgX.replace('1', '2').replace('0', '1').replace('2', '0')\n",
    "        data_hex_modified_PixCfgX = hex(int(data_bin_modified_PixCfgX, base=2))\n",
    "        # Set the register with the value\n",
    "        handle_PixCfgX.set(data_hex_modified_PixCfgX)\n",
    "        chip.write_register(\"ETROC2\", \"Pixel Config\", f\"PixCfg{pixelRegisterKey}\")\n",
    "        # Perform two reads to verify the persistence of the change\n",
    "        chip.read_register(\"ETROC2\", \"Pixel Config\", f\"PixCfg{pixelRegisterKey}\")\n",
    "        data_bin_new_1_PixCfgX = format(int(handle_PixCfgX.get(), base=16), '08b')\n",
    "        chip.read_register(\"ETROC2\", \"Pixel Config\", f\"PixCfg{pixelRegisterKey}\")\n",
    "        data_bin_new_2_PixCfgX = format(int(handle_PixCfgX.get(), base=16), '08b')\n",
    "        # Undo the change to recover the original register value, and check for consistency\n",
    "        handle_PixCfgX.set(hex(int(data_bin_PixCfgX, base=2)))\n",
    "        chip.write_register(\"ETROC2\", \"Pixel Config\", f\"PixCfg{pixelRegisterKey}\")\n",
    "        chip.read_register(\"ETROC2\", \"Pixel Config\", f\"PixCfg{pixelRegisterKey}\")\n",
    "        data_bin_recover_PixCfgX = format(int(handle_PixCfgX.get(), base=16), '08b')\n",
    "        # Handle what we learned from the tests\n",
    "        if(data_bin_new_1_PixCfgX!=data_bin_new_2_PixCfgX or data_bin_new_2_PixCfgX!=data_bin_modified_PixCfgX or data_bin_recover_PixCfgX!=data_bin_PixCfgX): \n",
    "            print(row,col,f\"PixCfg{pixelRegisterKey:2}\",\"FAILURE\", data_bin_PixCfgX, \"To\", data_bin_new_1_PixCfgX,  \"To\", data_bin_new_2_PixCfgX, \"To\", data_bin_recover_PixCfgX)"
   ]
  },
  {
   "attachments": {},
   "cell_type": "markdown",
   "metadata": {},
   "source": [
    "## Set Peripheral Registers"
   ]
  },
  {
   "cell_type": "code",
   "execution_count": null,
   "metadata": {},
   "outputs": [],
   "source": [
    "peripheral_decoded_register_write(\"EFuse_Prog\", format(0x00017f0f, '032b'))\n",
    "peripheral_decoded_register_write(\"singlePort\", '1')\n",
    "peripheral_decoded_register_write(\"serRateLeft\", '00')\n",
    "peripheral_decoded_register_write(\"serRateRight\", '00')\n",
    "peripheral_decoded_register_write(\"onChipL1AConf\", '00')\n",
    "peripheral_decoded_register_write(\"PLL_ENABLEPLL\", '1')\n",
    "peripheral_decoded_register_write(\"chargeInjectionDelay\", format(0x0a, '05b'))\n",
    "peripheral_decoded_register_write(\"triggerGranularity\", format(0x01, '03b')) # only for trigger bit"
   ]
  },
  {
   "attachments": {},
   "cell_type": "markdown",
   "metadata": {},
   "source": [
    "## Extra checking of peripherals (useful for debugging)"
   ]
  },
  {
   "cell_type": "code",
   "execution_count": null,
   "metadata": {},
   "outputs": [],
   "source": [
    "decodedRegisterNames = list(register_decoding[\"ETROC2\"][\"Register Blocks\"][\"Peripheral Config\"].keys())\n",
    "for decodedRegisterName in decodedRegisterNames:\n",
    "    handle = chip.get_decoded_display_var(\"ETROC2\", \"Peripheral Config\", decodedRegisterName)\n",
    "    chip.read_decoded_value(\"ETROC2\", \"Peripheral Config\", decodedRegisterName)\n",
    "    data_str = handle.get()\n",
    "    data_int = int(data_str, base=16)\n",
    "    data_bin = format(data_int, f'0{register_decoding[\"ETROC2\"][\"Register Blocks\"][\"Peripheral Config\"][decodedRegisterName][\"bits\"]}b')\n",
    "    data_hex = hex(int(data_bin, base=2))\n",
    "    print(f\"{decodedRegisterName:25}\", f\"{data_str:10}\", f\"{data_hex:10}\", f\"{data_int:10}\", f\"{data_bin:32}\", register_decoding[\"ETROC2\"][\"Register Blocks\"][\"Peripheral Config\"][decodedRegisterName][\"bits\"])"
   ]
  },
  {
   "cell_type": "code",
   "execution_count": null,
   "metadata": {},
   "outputs": [],
   "source": [
    "decodedRegisterNames = list(register_decoding[\"ETROC2\"][\"Register Blocks\"][\"Peripheral Status\"].keys())\n",
    "for decodedRegisterName in decodedRegisterNames:\n",
    "    handle = chip.get_decoded_display_var(\"ETROC2\", \"Peripheral Status\", decodedRegisterName)\n",
    "    chip.read_decoded_value(\"ETROC2\", \"Peripheral Status\", decodedRegisterName)\n",
    "    data_str = handle.get()\n",
    "    data_int = int(data_str, base=16)\n",
    "    data_bin = format(data_int, f'0{register_decoding[\"ETROC2\"][\"Register Blocks\"][\"Peripheral Status\"][decodedRegisterName][\"bits\"]}b')\n",
    "    data_hex = hex(int(data_bin, base=2))\n",
    "    print(f\"{decodedRegisterName:25}\", f\"{data_str:10}\", f\"{data_hex:10}\", f\"{data_int:10}\", f\"{data_bin:32}\", register_decoding[\"ETROC2\"][\"Register Blocks\"][\"Peripheral Status\"][decodedRegisterName][\"bits\"])"
   ]
  },
  {
   "attachments": {},
   "cell_type": "markdown",
   "metadata": {},
   "source": [
    "## Force Re-align of the FC"
   ]
  },
  {
   "attachments": {},
   "cell_type": "markdown",
   "metadata": {},
   "source": [
    "Run this when you see inconsistent BCID in your data, even though you expect to see the same numbers for each cycle"
   ]
  },
  {
   "cell_type": "code",
   "execution_count": null,
   "metadata": {},
   "outputs": [],
   "source": [
    "print(peripheral_decoded_register_read(\"asyAlignFastcommand\", \"Config\"))\n",
    "\n",
    "peripheral_decoded_register_write(\"asyAlignFastcommand\", \"1\")\n",
    "peripheral_decoded_register_write(\"asyAlignFastcommand\", \"0\")"
   ]
  },
  {
   "attachments": {},
   "cell_type": "markdown",
   "metadata": {},
   "source": [
    "## Automatic threshold calibration"
   ]
  },
  {
   "cell_type": "code",
   "execution_count": null,
   "metadata": {},
   "outputs": [],
   "source": [
    "BL_map_THCal = np.zeros((16,16))\n",
    "NW_map_THCal = np.zeros((16,16))"
   ]
  },
  {
   "cell_type": "code",
   "execution_count": null,
   "metadata": {},
   "outputs": [],
   "source": [
    "row_indexer_handle,_,_ = chip.get_indexer(\"row\")  # Returns 3 parameters: handle, min, max\n",
    "column_indexer_handle,_,_ = chip.get_indexer(\"column\")\n",
    "data = []\n",
    "# Loop for threshold calibration\n",
    "for row in tqdm(range(16), desc=\" row\", position=0):\n",
    "    for col in tqdm(range(16), desc=\" col\", position=1, leave=False):\n",
    "# for index,row,col in zip(tqdm(range(16)), row_list, col_list):\n",
    "        column_indexer_handle.set(col)\n",
    "        row_indexer_handle.set(row)\n",
    "        # Maybe required to make this work\n",
    "        # pixel_decoded_register_write(\"enable_TDC\", \"0\")\n",
    "        # pixel_decoded_register_write(\"testMode_TDC\", \"0\")\n",
    "        # Enable THCal clock and buffer, disable bypass\n",
    "        pixel_decoded_register_write(\"CLKEn_THCal\", \"1\")\n",
    "        pixel_decoded_register_write(\"BufEn_THCal\", \"1\")\n",
    "        pixel_decoded_register_write(\"Bypass_THCal\", \"0\")\n",
    "        pixel_decoded_register_write(\"TH_offset\", format(0x04, '06b'))\n",
    "        # Reset the calibration block (active low)\n",
    "        pixel_decoded_register_write(\"RSTn_THCal\", \"0\")\n",
    "        pixel_decoded_register_write(\"RSTn_THCal\", \"1\")\n",
    "        # Start and Stop the calibration, (25ns x 2**15 ~ 800 us, ACCumulator max is 2**15)\n",
    "        pixel_decoded_register_write(\"ScanStart_THCal\", \"1\")\n",
    "        pixel_decoded_register_write(\"ScanStart_THCal\", \"0\")\n",
    "        # Check the calibration done correctly\n",
    "        if(pixel_decoded_register_read(\"ScanDone\", \"Status\")!=\"1\"): print(\"!!!ERROR!!! Scan not done!!!\")\n",
    "        BL_map_THCal[row, col] = pixel_decoded_register_read(\"BL\", \"Status\", need_int=True)\n",
    "        NW_map_THCal[row, col] = pixel_decoded_register_read(\"NW\", \"Status\", need_int=True)\n",
    "        data += [{\n",
    "            'col': col,\n",
    "            'row': row,\n",
    "            'baseline': BL_map_THCal[row, col],\n",
    "            'noise_width': NW_map_THCal[row, col],\n",
    "            'timestamp': datetime.datetime.now(),\n",
    "            'chip_name': chip_name,\n",
    "        }]\n",
    "        # Disable clock and buffer before charge injection \n",
    "        pixel_decoded_register_write(\"CLKEn_THCal\", \"0\") \n",
    "        pixel_decoded_register_write(\"BufEn_THCal\", \"0\")\n",
    "        \n",
    "        pixel_decoded_register_write(\"Bypass_THCal\", \"1\")\n",
    "        pixel_decoded_register_write(\"DAC\", format(0, '010b'))\n",
    "        # Set Charge Inj Q to 15 fC\n",
    "        pixel_decoded_register_write(\"QSel\", format(0x0e, '05b'))\n",
    "\n",
    "        time.sleep(0.1)\n",
    "\n",
    "BL_df = pandas.DataFrame(data = data)"
   ]
  },
  {
   "cell_type": "code",
   "execution_count": null,
   "metadata": {},
   "outputs": [],
   "source": [
    "fig = plt.figure(dpi=200, figsize=(10,10))\n",
    "gs = fig.add_gridspec(1,2)\n",
    "\n",
    "ax0 = fig.add_subplot(gs[0,0])\n",
    "# ax0.set_title(\"BL (DAC LSB), \"+chip_figtitle, size=8)\n",
    "img0 = ax0.imshow(BL_map_THCal, interpolation='none')\n",
    "ax0.set_aspect(\"equal\")\n",
    "ax0.invert_xaxis()\n",
    "ax0.invert_yaxis()\n",
    "plt.xticks(range(16), range(16), rotation=\"vertical\")\n",
    "plt.yticks(range(16), range(16))\n",
    "divider = make_axes_locatable(ax0)\n",
    "cax = divider.append_axes('right', size=\"5%\", pad=0.05)\n",
    "fig.colorbar(img0, cax=cax, orientation=\"vertical\")\n",
    "\n",
    "ax1 = fig.add_subplot(gs[0,1])\n",
    "# ax1.set_title(\"NW (DAC LSB), \"+chip_figtitle, size=8)\n",
    "img1 = ax1.imshow(NW_map_THCal, interpolation='none')\n",
    "ax1.set_aspect(\"equal\")\n",
    "ax1.invert_xaxis()\n",
    "ax1.invert_yaxis()\n",
    "plt.xticks(range(16), range(16), rotation=\"vertical\")\n",
    "plt.yticks(range(16), range(16))\n",
    "divider = make_axes_locatable(ax1)\n",
    "cax = divider.append_axes('right', size=\"5%\", pad=0.05)\n",
    "fig.colorbar(img1, cax=cax, orientation=\"vertical\")\n",
    "\n",
    "for x in range(16):\n",
    "    for y in range(16):\n",
    "        # if(BL_map_THCal.T[x,y]==0): continue\n",
    "        ax0.text(x,y,f\"{BL_map_THCal.T[x,y]:.0f}\", c=\"white\", size=5, rotation=45, fontweight=\"bold\", ha=\"center\", va=\"center\")\n",
    "        ax1.text(x,y,f\"{NW_map_THCal.T[x,y]:.0f}\", c=\"white\", size=5, rotation=45, fontweight=\"bold\", ha=\"center\", va=\"center\")\n",
    "plt.savefig(fig_path+\"/BL_NW_\"+chip_figname+\"_\"+datetime.date.today().isoformat()+\".png\")\n",
    "# plt.show()"
   ]
  },
  {
   "attachments": {},
   "cell_type": "markdown",
   "metadata": {},
   "source": [
    "### Store BL, NW dataframe for later use"
   ]
  },
  {
   "cell_type": "code",
   "execution_count": null,
   "metadata": {},
   "outputs": [],
   "source": [
    "outdir = Path('../ETROC-Data')\n",
    "outdir = outdir / (datetime.date.today().isoformat() + '_Array_Test_Results')\n",
    "outdir.mkdir(exist_ok=True)\n",
    "outfile = outdir / (chip_name+TID_str+\"_BaselineAt_\" + datetime.datetime.now().strftime(\"%Y-%m-%d_%H-%M\") + \".csv\")\n",
    "BL_df.to_csv(outfile, index=False)"
   ]
  },
  {
   "attachments": {},
   "cell_type": "markdown",
   "metadata": {},
   "source": [
    "### Store BL, NW dataframe in database"
   ]
  },
  {
   "cell_type": "code",
   "execution_count": null,
   "metadata": {},
   "outputs": [],
   "source": [
    "note = 'PreTID'+chip_name\n",
    "new_columns = {\n",
    "    'note': f'{note}',\n",
    "}\n",
    "\n",
    "for col in new_columns:\n",
    "    BL_df[col] = new_columns[col]\n",
    "\n",
    "outdir = Path('../ETROC-History')\n",
    "outfile = outdir / 'BaselineHistory.sqlite'\n",
    "\n",
    "init_cmd = [\n",
    "    'cd ' + str(outdir.resolve()),\n",
    "    'git stash -u',\n",
    "    'git pull',\n",
    "]\n",
    "end_cmd = [\n",
    "    'cd ' + str(outdir.resolve()),\n",
    "    'git add BaselineHistory.sqlite',\n",
    "    'git commit -m \"Added new history entry\"',\n",
    "    'git push',\n",
    "    'git stash pop',\n",
    "    'git stash clear',\n",
    "]\n",
    "init_cmd = [x + '\\n' for x in init_cmd]\n",
    "end_cmd  = [x + '\\n' for x in end_cmd]\n",
    "\n",
    "p = subprocess.Popen(\n",
    "    '/bin/bash',\n",
    "    stdin=subprocess.PIPE,\n",
    "    stdout=subprocess.PIPE,\n",
    "    stderr=subprocess.PIPE,\n",
    "    encoding=\"utf-8\",\n",
    "    )\n",
    "\n",
    "for cmd in init_cmd:\n",
    "    p.stdin.write(cmd + \"\\n\")\n",
    "p.stdin.close()\n",
    "p.wait()\n",
    "\n",
    "print(p.stdout.read())\n",
    "\n",
    "with sqlite3.connect(outfile) as sqlconn:\n",
    "    BL_df.to_sql('baselines', sqlconn, if_exists='append', index=False)\n",
    "\n",
    "p = subprocess.Popen(\n",
    "    '/bin/bash',\n",
    "    stdin=subprocess.PIPE,\n",
    "    stdout=subprocess.PIPE,\n",
    "    stderr=subprocess.PIPE,\n",
    "    encoding=\"utf-8\",\n",
    "    )\n",
    "\n",
    "for cmd in end_cmd:\n",
    "    p.stdin.write(cmd + \"\\n\")\n",
    "p.stdin.close()\n",
    "p.wait()\n",
    "\n",
    "p.stdin.close()\n",
    "\n",
    "print(p.stdout.read())\n"
   ]
  },
  {
   "attachments": {},
   "cell_type": "markdown",
   "metadata": {},
   "source": [
    "## Disable all pixels"
   ]
  },
  {
   "cell_type": "code",
   "execution_count": null,
   "metadata": {},
   "outputs": [],
   "source": [
    "row_indexer_handle,_,_ = chip.get_indexer(\"row\")\n",
    "column_indexer_handle,_,_ = chip.get_indexer(\"column\")\n",
    "column_indexer_handle.set(0)\n",
    "row_indexer_handle.set(0)\n",
    "\n",
    "broadcast_handle,_,_ = chip.get_indexer(\"broadcast\")\n",
    "broadcast_handle.set(True)\n",
    "pixel_decoded_register_write(\"disDataReadout\", \"1\")\n",
    "broadcast_handle.set(True)\n",
    "pixel_decoded_register_write(\"QInjEn\", \"0\")\n",
    "broadcast_handle.set(True)\n",
    "pixel_decoded_register_write(\"disTrigPath\", \"1\")\n",
    "# Release the maximum and minimum range for trigger and data\n",
    "pixel_decoded_register_write(\"upperTOATrig\", format(0x3ff, '010b'))\n",
    "broadcast_handle.set(True)\n",
    "pixel_decoded_register_write(\"lowerTOATrig\", format(0x000, '010b'))\n",
    "broadcast_handle.set(True)\n",
    "pixel_decoded_register_write(\"upperTOTTrig\", format(0x1ff, '09b'))\n",
    "broadcast_handle.set(True)\n",
    "pixel_decoded_register_write(\"lowerTOTTrig\", format(0x000, '09b'))\n",
    "broadcast_handle.set(True)\n",
    "pixel_decoded_register_write(\"upperCalTrig\", format(0x3ff, '010b'))\n",
    "broadcast_handle.set(True)\n",
    "pixel_decoded_register_write(\"lowerCalTrig\", format(0x000, '010b'))\n",
    "broadcast_handle.set(True)\n",
    "pixel_decoded_register_write(\"upperTOA\", format(0x3ff, '010b'))\n",
    "broadcast_handle.set(True)\n",
    "pixel_decoded_register_write(\"lowerTOA\", format(0x000, '010b'))\n",
    "broadcast_handle.set(True)\n",
    "pixel_decoded_register_write(\"upperTOT\", format(0x1ff, '09b'))\n",
    "broadcast_handle.set(True)\n",
    "pixel_decoded_register_write(\"lowerTOT\", format(0x000, '09b'))\n",
    "broadcast_handle.set(True)\n",
    "pixel_decoded_register_write(\"upperCal\", format(0x3ff, '010b'))\n",
    "broadcast_handle.set(True)\n",
    "pixel_decoded_register_write(\"lowerCal\", format(0x000, '010b'))"
   ]
  },
  {
   "attachments": {},
   "cell_type": "markdown",
   "metadata": {},
   "source": [
    "# Run DAQ scanning by row to study multiple pixels TOT and TOA"
   ]
  },
  {
   "attachments": {},
   "cell_type": "markdown",
   "metadata": {},
   "source": [
    "### Define DAQ function"
   ]
  },
  {
   "cell_type": "code",
   "execution_count": null,
   "metadata": {},
   "outputs": [],
   "source": [
    "def run_daq(timePerPixel, deadTime, triggerBitDelay, dirname):\n",
    "    \n",
    "    time_per_pixel = timePerPixel\n",
    "    dead_time_per_pixel = deadTime\n",
    "    trigger_bit_delay = triggerBitDelay\n",
    "    total_scan_time = time_per_pixel + dead_time_per_pixel\n",
    "    outname = dirname\n",
    "\n",
    "    today = datetime.date.today()\n",
    "    todaystr = \"../ETROC-Data/\" + today.isoformat() + \"_Array_Test_Results/\"\n",
    "    base_dir = Path(todaystr)\n",
    "    base_dir.mkdir(exist_ok=True)\n",
    "\n",
    "    parser = run_script.getOptionParser() \n",
    "    (options, args) = parser.parse_args(args=f\"-f --useIPC --hostname {fpga_ip} -t {int(total_scan_time)} -o {outname} -v -w -s 0x000C -p 0x000f --compressed_translation -d 0x0800 --clear_fifo\".split())\n",
    "    # (options, args) = parser.parse_args(args=f\"-f --useIPC --hostname {fpga_ip} -t {int(total_scan_time)} -o {outname} -v -w -s 0x000C -p 0x000f -d 0x0800 --clear_fifo\".split())\n",
    "    IPC_queue = multiprocessing.Queue()\n",
    "    process = multiprocessing.Process(target=run_script.main_process, args=(IPC_queue, options, f'main_process'))\n",
    "    process.start()\n",
    "\n",
    "    IPC_queue.put('start L1A trigger bit')\n",
    "    while not IPC_queue.empty():\n",
    "        pass\n",
    "\n",
    "    # delay = '000011'+format(trigger_bit_delay, '010b')\n",
    "    # hex_delay = hex(int(delay, base=2))\n",
    "    # IPC_queue.put(f'change delay {hex_delay}') \n",
    "    # while not IPC_queue.empty():\n",
    "    #     pass\n",
    "\n",
    "    time.sleep(time_per_pixel)\n",
    "    IPC_queue.put('stop L1A trigger bit')\n",
    "\n",
    "    time.sleep(1)\n",
    "    IPC_queue.put('stop DAQ')\n",
    "    while not IPC_queue.empty():\n",
    "        pass\n",
    "\n",
    "    IPC_queue.put('allow threads to exit')\n",
    "\n",
    "    process.join()"
   ]
  },
  {
   "attachments": {},
   "cell_type": "markdown",
   "metadata": {},
   "source": [
    "### One time run to set fpga firmware"
   ]
  },
  {
   "cell_type": "code",
   "execution_count": null,
   "metadata": {},
   "outputs": [],
   "source": [
    "# one time run for set fpga firmware\n",
    "parser = run_script.getOptionParser()\n",
    "(options, args) = parser.parse_args(args=f\"-f --useIPC --hostname {fpga_ip} -t 10 -o CanBeRemoved -v -w --compressed_translation -s 0x000C -p 0x000f -d 0x0800 --clear_fifo\".split())\n",
    "IPC_queue = multiprocessing.Queue()\n",
    "process = multiprocessing.Process(target=run_script.main_process, args=(IPC_queue, options, f'process_outputs/main_process_Start_LEDs'))\n",
    "process.start()\n",
    "\n",
    "IPC_queue.put('start L1A trigger bit')\n",
    "while not IPC_queue.empty():\n",
    "    pass\n",
    "time.sleep(5)\n",
    "IPC_queue.put('stop DAQ')\n",
    "IPC_queue.put('stop L1A trigger bit')\n",
    "while not IPC_queue.empty():\n",
    "    pass\n",
    "IPC_queue.put('allow threads to exit')\n",
    "process.join()"
   ]
  },
  {
   "attachments": {},
   "cell_type": "markdown",
   "metadata": {},
   "source": [
    "### Actual DAQ run"
   ]
  },
  {
   "cell_type": "code",
   "execution_count": null,
   "metadata": {},
   "outputs": [],
   "source": [
    "# Actual DAQ run\n",
    "for i in range(1):\n",
    "\n",
    "    # Disable pixels for clean start\n",
    "    row_indexer_handle,_,_ = chip.get_indexer(\"row\")\n",
    "    column_indexer_handle,_,_ = chip.get_indexer(\"column\")\n",
    "    column_indexer_handle.set(0)\n",
    "    row_indexer_handle.set(0)\n",
    "\n",
    "    broadcast_handle,_,_ = chip.get_indexer(\"broadcast\")\n",
    "    broadcast_handle.set(True)\n",
    "    pixel_decoded_register_write(\"disDataReadout\", \"1\")\n",
    "    broadcast_handle.set(True)\n",
    "    pixel_decoded_register_write(\"QInjEn\", \"0\")\n",
    "    broadcast_handle.set(True)\n",
    "    pixel_decoded_register_write(\"disTrigPath\", \"1\")\n",
    "\n",
    "    scan_list = list(zip(np.full(16, i), np.arange(16)))\n",
    "    print(scan_list)\n",
    "\n",
    "    for row, col in scan_list:\n",
    "        column_indexer_handle.set(col)\n",
    "        row_indexer_handle.set(row)\n",
    "\n",
    "        print(f\"Enabling Pixel ({row},{col})\")\n",
    "\n",
    "        pixel_decoded_register_write(\"Bypass_THCal\", \"0\")               # Bypass threshold calibration -> manual DAC setting\n",
    "        pixel_decoded_register_write(\"QSel\", format(0x0e, '05b'))       # Ensure we inject 0 fC of charge\n",
    "        pixel_decoded_register_write(\"TH_offset\", format(0x0c, '06b'))  # Offset used to add to the auto BL for real triggering\n",
    "        pixel_decoded_register_write(\"disDataReadout\", \"0\")             # ENable readout\n",
    "        pixel_decoded_register_write(\"QInjEn\", \"1\")                     # ENable charge injection for the selected pixel\n",
    "        pixel_decoded_register_write(\"L1Adelay\", format(0x01f5, '09b')) # Change L1A delay - circular buffer in ETROC2 pixel\n",
    "        pixel_decoded_register_write(\"disTrigPath\", \"0\")                # Enable trigger path\n",
    "\n",
    "    run_daq(10, 6, 485, f'TID_testing_candidate_{chip_name.replace(\"_\",\"\")}_'+TID_str+f'_R{str(i)}_CX')"
   ]
  },
  {
   "attachments": {},
   "cell_type": "markdown",
   "metadata": {},
   "source": [
    "# Qinj S Curve Scan"
   ]
  },
  {
   "attachments": {},
   "cell_type": "markdown",
   "metadata": {},
   "source": [
    "## Define Pixel for ACC and DAC scan"
   ]
  },
  {
   "cell_type": "code",
   "execution_count": null,
   "metadata": {},
   "outputs": [],
   "source": [
    "DAC_row_list = [15, 0, 0, 0]\n",
    "DAC_col_list = [7, 15, 7, 0]\n",
    "DAC_scan_list = list(zip(DAC_col_list, DAC_row_list))\n",
    "print(DAC_scan_list)"
   ]
  },
  {
   "attachments": {},
   "cell_type": "markdown",
   "metadata": {},
   "source": [
    "## Simple Scan To Measure The Noise"
   ]
  },
  {
   "cell_type": "code",
   "execution_count": null,
   "metadata": {},
   "outputs": [],
   "source": [
    "thresholds = np.arange(-5,5,1) # relative to BL\n",
    "# thresholds = np.arange(0,1,1) # BL only\n",
    "scan_name = \"E2_testing_VRef_SCurve_Noise_\"+TID_str\n",
    "fpga_time = 3\n",
    "QInj = 0\n",
    "\n",
    "row_indexer_handle,_,_ = chip.get_indexer(\"row\")  # Returns 3 parameters: handle, min, max\n",
    "column_indexer_handle,_,_ = chip.get_indexer(\"column\")\n",
    "\n",
    "today = datetime.date.today()\n",
    "todaystr = \"../ETROC-Data/\" + today.isoformat() + \"_Array_Test_Results/\"\n",
    "base_dir = Path(todaystr)\n",
    "base_dir.mkdir(exist_ok=True)\n",
    "\n",
    "data = []\n",
    "\n",
    "# Loop for enable/disable charge injection per pixel (single!!!)\n",
    "for index, row, col in zip(tqdm(range(len(DAC_row_list)), desc=f'Pixel Loop', leave=True), DAC_row_list, DAC_col_list):  \n",
    "    print(\"Pixel:\",col,row)\n",
    "    column_indexer_handle.set(col)\n",
    "    row_indexer_handle.set(row)\n",
    "    # Ensure charge injection is disabled\n",
    "    pixel_decoded_register_write(\"disDataReadout\", \"0\")\n",
    "    pixel_decoded_register_write(\"QInjEn\", \"0\")\n",
    "    pixel_decoded_register_write(\"disTrigPath\", \"0\")\n",
    "\n",
    "    # Bypass Cal Threshold\n",
    "    pixel_decoded_register_write(\"Bypass_THCal\", \"1\")\n",
    "\n",
    "    # start FPGA state\n",
    "    threshold_name = scan_name+f'_Pixel_C{col}_R{row}_Noise_HVoff_pf_hits'\n",
    "    (options, args) = parser.parse_args(args=f\"--useIPC --hostname {fpga_ip} -o {threshold_name} -v -w --reset_till_trigger_linked -s 0x000C -p 0x000f -d 0x0800 -c 0x0001 --fpga_data_time_limit 3 --fpga_data --check_trigger_link_at_end --nodaq --clear_fifo\".split())\n",
    "    IPC_queue = multiprocessing.Queue()\n",
    "    process = multiprocessing.Process(target=run_script.main_process, args=(IPC_queue, options, f'process_outputs/main_process_link'))\n",
    "    process.start()\n",
    "    process.join()\n",
    "    \n",
    "    for DAC in tqdm(thresholds[:], desc=f'DAC Loop for Pixel {col},{row}', leave=False):\n",
    "        DAC = int(DAC+BL_map_THCal[row][col])\n",
    "        print(\"DAC\", DAC)\n",
    "\n",
    "        # Set the DAC v, Qinj {Qinj}fCalue to the value being scanned\n",
    "        pixel_decoded_register_write(\"DAC\", format(DAC, '010b'))\n",
    "\n",
    "        (options, args) = parser.parse_args(args=f\"--useIPC --hostname {fpga_ip} -o {threshold_name} -v --reset_till_trigger_linked -s 0x000C -p 0x000f -d 0x0800 -c 0x0001 --fpga_data_time_limit {int(fpga_time)} --fpga_data --check_trigger_link_at_end --nodaq --DAC_Val {int(DAC)}\".split())\n",
    "        IPC_queue = multiprocessing.Queue()\n",
    "        process = multiprocessing.Process(target=run_script.main_process, args=(IPC_queue, options, f'process_outputs/main_process_Noise_{QInj}_{DAC}'))\n",
    "        process.start()\n",
    "        process.join()\n",
    "        \n",
    "    # Disable charge injection\n",
    "    pixel_decoded_register_write(\"QInjEn\", \"0\")\n",
    "    pixel_decoded_register_write(\"disDataReadout\", \"1\")\n",
    "    pixel_decoded_register_write(\"disTrigPath\", \"1\")\n",
    "\n",
    "sCurve_df = pandas.DataFrame(data=data)\n",
    "\n",
    "outdir = Path('../ETROC-Data')\n",
    "outdir = outdir / (datetime.date.today().isoformat() + '_Array_Test_Results')\n",
    "outdir.mkdir(exist_ok=True)\n",
    "outfile = outdir / (scan_name + \"_at_\" + datetime.datetime.now().strftime(\"%Y-%m-%d_%H-%M\") + \".csv\")\n",
    "sCurve_df.to_csv(outfile, index=False)"
   ]
  },
  {
   "attachments": {},
   "cell_type": "markdown",
   "metadata": {},
   "source": [
    "### Choose Pixel To Plot Noise To Check Output"
   ]
  },
  {
   "cell_type": "code",
   "execution_count": null,
   "metadata": {},
   "outputs": [],
   "source": [
    "row = 0\n",
    "col = 0\n",
    "DAC_plot_row_list = [row]\n",
    "DAC_plot_col_list = [col]"
   ]
  },
  {
   "cell_type": "code",
   "execution_count": null,
   "metadata": {},
   "outputs": [],
   "source": [
    "root = '../ETROC-Data'\n",
    "file_pattern = \"*FPGA_Data.dat\"\n",
    "BL = int(BL_map_THCal[row][col])\n",
    "hitmap_full_Scurve = {row:{col:{thr+BL:0 for thr in thresholds} for col in range(16)} for row in range(16)}\n",
    "sum_data_hitmap_full_Scurve = {row:{col:{thr+BL:0 for thr in thresholds} for col in range(16)} for row in range(16)}\n",
    "sum2_data_hitmap_full_Scurve = {row:{col:{thr+BL:0 for thr in thresholds} for col in range(16)} for row in range(16)}\n",
    "for index, row, col in zip((range(len(DAC_plot_row_list))), DAC_plot_row_list, DAC_plot_col_list):\n",
    "    path_pattern = f\"*{today.isoformat()}_Array_Test_Results/E2_testing_VRef_SCurve_Noise_{TID_str}_Pixel_C{col}_R{row}_Noise_HVoff_pf_hits\"\n",
    "    file_list = []\n",
    "    for path, subdirs, files in os.walk(root):\n",
    "        if not fnmatch(path, path_pattern): continue\n",
    "        for name in files:\n",
    "            pass\n",
    "            if fnmatch(name, file_pattern):\n",
    "                file_list.append(os.path.join(path, name))\n",
    "                print(file_list[-1])\n",
    "    total_files = len(file_list)\n",
    "    for file_index, file_name in enumerate(file_list):\n",
    "        print(f\"{file_index+1}/{total_files}\")\n",
    "        with open(file_name) as infile:\n",
    "            for line in infile:\n",
    "                text_list = line.split(',')\n",
    "                FPGA_state = text_list[0]\n",
    "                FPGA_data = int(text_list[3])\n",
    "                DAC = int(text_list[5])\n",
    "                if DAC == -1: continue\n",
    "                print(DAC)\n",
    "                sum_data_hitmap_full_Scurve[row][col][DAC] += FPGA_data\n",
    "                hitmap_full_Scurve[row][col][DAC] += 1\n",
    "                print(sum_data_hitmap_full_Scurve[row][col][DAC])\n",
    "                print(hitmap_full_Scurve[row][col][DAC])"
   ]
  },
  {
   "cell_type": "code",
   "execution_count": null,
   "metadata": {},
   "outputs": [],
   "source": [
    "data_mean = {row:{col:{thr+BL:0 for thr in thresholds} for col in range(16)} for row in range(16)}\n",
    "for index, row, col in zip((range(len(DAC_plot_row_list))), DAC_plot_row_list, DAC_plot_col_list):\n",
    "    for DAC in (thresholds):\n",
    "        DAC = int(DAC)+BL\n",
    "        print(DAC)\n",
    "        print(sum_data_hitmap_full_Scurve[row][col][DAC])\n",
    "        print(hitmap_full_Scurve[row][col][DAC])\n",
    "        if(hitmap_full_Scurve[row][col][DAC]==0): \n",
    "            data_mean[row][col][DAC] = 0\n",
    "            continue\n",
    "        data_mean[row][col][DAC] = sum_data_hitmap_full_Scurve[row][col][DAC]/hitmap_full_Scurve[row][col][DAC]"
   ]
  },
  {
   "cell_type": "code",
   "execution_count": null,
   "metadata": {},
   "outputs": [],
   "source": [
    "fig = plt.figure(dpi=200, figsize=(8,4.5))\n",
    "gs = fig.add_gridspec(1,1)\n",
    "u_cl = np.sort(np.unique(DAC_plot_col_list))\n",
    "u_rl = np.sort(np.unique(DAC_plot_row_list))\n",
    "for ri,row in enumerate(u_rl):\n",
    "    for ci,col in enumerate(u_cl):\n",
    "        ax0 = fig.add_subplot(gs[len(u_rl)-ri-1,len(u_cl)-ci-1])\n",
    "        ax0.axvline(BL_map_THCal[row][col], color='k', label=\"THCal BL\", lw=0.7)\n",
    "        ax0.axvline(BL_map_THCal[row][col]+NW_map_THCal[row][col], color='k', ls='--', label=\"THCal NW\", lw=0.7)\n",
    "        ax0.axvline(BL_map_THCal[row][col]-NW_map_THCal[row][col], color='k', ls='--', lw=0.7)\n",
    "        ax0.plot([thr+BL for thr in thresholds], data_mean[row][col].values(), '.-', color='#1f78b4', label=f\"0 fC\",lw=0.5,markersize=2)\n",
    "        ax0.set_xlabel(\"DAC Value [decimal]\")\n",
    "        ax0.set_ylabel(\"Data Counts [decimal]\")\n",
    "        # ax0.text(0.7, 0.8, f\"Pixel {row},{col}\", transform=ax0.transAxes)\n",
    "        plt.legend(loc=\"center right\")\n",
    "        plt.yscale(\"log\")\n",
    "    plt.title(f\"{chip_figtitle}, Pixel ({row},{col}) Full S-Curve\")\n",
    "    plt.tight_layout()\n",
    "plt.savefig(fig_path+\"/Full_S-Curve_\"+chip_figname+\"_\"+datetime.datetime.now().strftime(\"%Y-%m-%d_%H-%M\")+\".png\")"
   ]
  },
  {
   "attachments": {},
   "cell_type": "markdown",
   "metadata": {},
   "source": [
    "## DAC scan using counter"
   ]
  },
  {
   "attachments": {},
   "cell_type": "markdown",
   "metadata": {},
   "source": [
    "### Define DACs for scanning near BL"
   ]
  },
  {
   "cell_type": "code",
   "execution_count": null,
   "metadata": {},
   "outputs": [],
   "source": [
    "# relative to BL\n",
    "min_threshold = -10\n",
    "BL_scan_max = 10\n",
    "BL_scan_step = 1\n",
    "\n",
    "BL_thresholds = {\n",
    "    1: np.arange(min_threshold,  min_threshold + BL_scan_max, BL_scan_step),\n",
    "    5: np.arange(min_threshold,  min_threshold + BL_scan_max, BL_scan_step),\n",
    "    6: np.arange(min_threshold,  min_threshold + BL_scan_max, BL_scan_step),\n",
    "    8: np.arange(min_threshold,  min_threshold + BL_scan_max, BL_scan_step),\n",
    "    10: np.arange(min_threshold, min_threshold + BL_scan_max, BL_scan_step),\n",
    "    12: np.arange(min_threshold, min_threshold + BL_scan_max, BL_scan_step),\n",
    "    15: np.arange(min_threshold, min_threshold + BL_scan_max, BL_scan_step),\n",
    "    17: np.arange(min_threshold, min_threshold + BL_scan_max, BL_scan_step),\n",
    "    20: np.arange(min_threshold, min_threshold + BL_scan_max, BL_scan_step),\n",
    "    22: np.arange(min_threshold, min_threshold + BL_scan_max, BL_scan_step),\n",
    "    25: np.arange(min_threshold, min_threshold + BL_scan_max, BL_scan_step),\n",
    "    27: np.arange(min_threshold, min_threshold + BL_scan_max, BL_scan_step),\n",
    "    30: np.arange(min_threshold, min_threshold + BL_scan_max, BL_scan_step),\n",
    "}\n"
   ]
  },
  {
   "attachments": {},
   "cell_type": "markdown",
   "metadata": {},
   "source": [
    "### Define DACs for scanning Pedestal"
   ]
  },
  {
   "cell_type": "code",
   "execution_count": null,
   "metadata": {},
   "outputs": [],
   "source": [
    "# relative to BL\n",
    "min_threshold = BL_scan_max\n",
    "pedestal_scan_step = 1\n",
    "\n",
    "pedestal_thresholds = {\n",
    "    1: np.arange(min_threshold,  min_threshold + 10, pedestal_scan_step),\n",
    "    5: np.arange(min_threshold,  min_threshold + 10, pedestal_scan_step),\n",
    "    6: np.arange(min_threshold,  min_threshold + 10, pedestal_scan_step),\n",
    "    8: np.arange(min_threshold,  min_threshold + 40, pedestal_scan_step),\n",
    "    10: np.arange(min_threshold, min_threshold + 70, pedestal_scan_step),\n",
    "    12: np.arange(min_threshold, min_threshold + 90, pedestal_scan_step),\n",
    "    15: np.arange(min_threshold, min_threshold + 120, pedestal_scan_step),\n",
    "    17: np.arange(min_threshold, min_threshold + 130, pedestal_scan_step),\n",
    "    20: np.arange(min_threshold, min_threshold + 140, pedestal_scan_step),\n",
    "    22: np.arange(min_threshold, min_threshold + 170, pedestal_scan_step),\n",
    "    25: np.arange(min_threshold, min_threshold + 200, pedestal_scan_step),\n",
    "    27: np.arange(min_threshold, min_threshold + 250, pedestal_scan_step),\n",
    "    30: np.arange(min_threshold, min_threshold + 280, pedestal_scan_step),\n",
    "}"
   ]
  },
  {
   "attachments": {},
   "cell_type": "markdown",
   "metadata": {},
   "source": [
    "### Combine Thresholds"
   ]
  },
  {
   "cell_type": "code",
   "execution_count": null,
   "metadata": {},
   "outputs": [],
   "source": [
    "thresholds = {}\n",
    "for QInj in BL_thresholds:\n",
    "    thresholds[QInj] = list(BL_thresholds[QInj])\n",
    "    for DAC in pedestal_thresholds[QInj]:\n",
    "        thresholds[QInj].append(DAC)"
   ]
  },
  {
   "attachments": {},
   "cell_type": "markdown",
   "metadata": {},
   "source": [
    "### Define Charges"
   ]
  },
  {
   "cell_type": "code",
   "execution_count": null,
   "metadata": {},
   "outputs": [],
   "source": [
    "# Full Charges\n",
    "# QInjEns = [5, 6, 8, 10, 12, 15, 17, 20, 22, 25, 27, 30]\n",
    "# Recommend for TID\n",
    "QInjEns = [8, 10, 15, 22, 27]\n",
    "# Single\n",
    "# QInjEns = [8]\n",
    "num_thr = 0\n",
    "for QInj in QInjEns:\n",
    "    num_thr += len(thresholds[QInj])\n",
    "num_pix = len(DAC_scan_list)\n",
    "print(f\"Will scan {num_thr} thresholds and {num_pix} pixels\")\n",
    "print(f\"Expected scan time is {num_thr*num_pix*5./60.} minutes\")"
   ]
  },
  {
   "attachments": {},
   "cell_type": "markdown",
   "metadata": {},
   "source": [
    "### Run QInj+DAC Scan"
   ]
  },
  {
   "cell_type": "code",
   "execution_count": null,
   "metadata": {},
   "outputs": [],
   "source": [
    "scan_name = \"E2_testing_VRef_SCurve_\"+TID_str\n",
    "fpga_time = 3\n",
    "\n",
    "row_indexer_handle,_,_ = chip.get_indexer(\"row\")  # Returns 3 parameters: handle, min, max\n",
    "column_indexer_handle,_,_ = chip.get_indexer(\"column\")\n",
    "\n",
    "today = datetime.date.today()\n",
    "todaystr = \"../ETROC-Data/\" + today.isoformat() + \"_Array_Test_Results/\"\n",
    "base_dir = Path(todaystr)\n",
    "base_dir.mkdir(exist_ok=True)\n",
    "\n",
    "data = []\n",
    "\n",
    "# Loop for enable/disable charge injection per pixel (single!!!)\n",
    "for index, row, col in zip(tqdm(range(len(DAC_row_list)), desc=f'Pixel Loop', leave=True), DAC_row_list, DAC_col_list):  \n",
    "    column_indexer_handle.set(col)\n",
    "    row_indexer_handle.set(row)\n",
    "    print(\"Pixel:\",col,row)\n",
    "    # Enable charge injection\n",
    "    pixel_decoded_register_write(\"disDataReadout\", \"0\")\n",
    "    pixel_decoded_register_write(\"QInjEn\", \"1\")\n",
    "    pixel_decoded_register_write(\"disTrigPath\", \"0\")\n",
    "    # Bypass Cal Threshold\n",
    "    pixel_decoded_register_write(\"Bypass_THCal\", \"1\")\n",
    "    for QInj in tqdm(QInjEns, desc=f'Charge Loop for Pixel {col},{row}', leave=False):\n",
    "        # Modifying charge injected\n",
    "        pixel_decoded_register_write(\"QSel\", format(QInj, '05b'))\n",
    "        threshold_name = scan_name+f'_Pixel_C{col}_R{row}_QInj_{QInj}_HVoff_pf_hits'\n",
    "        (options, args) = parser.parse_args(args=f\"--useIPC --hostname {fpga_ip} -o {threshold_name} -v -w --reset_till_trigger_linked -s 0x000C -p 0x000f -d 0x0800 -c 0x0001 --fpga_data_time_limit 3 --fpga_data_QInj --check_trigger_link_at_end --nodaq --clear_fifo\".split())\n",
    "        IPC_queue = multiprocessing.Queue()\n",
    "        process = multiprocessing.Process(target=run_script.main_process, args=(IPC_queue, options, f'process_outputs/main_process_link'))\n",
    "        process.start()\n",
    "        process.join()\n",
    "        \n",
    "        for DAC in tqdm(thresholds[QInj][:], desc=f'DAC Loop for Pixel {col},{row}', leave=False):\n",
    "            DAC = int(BL_map_THCal[row][col]+DAC)\n",
    "            print(QInj, DAC)\n",
    "\n",
    "            # Set the DAC v, Qinj {Qinj}fCalue to the value being scanned\n",
    "            pixel_decoded_register_write(\"DAC\", format(DAC, '010b'))\n",
    "\n",
    "            (options, args) = parser.parse_args(args=f\"--useIPC --hostname {fpga_ip} -o {threshold_name} -v --reset_till_trigger_linked -s 0x000C -p 0x000f -d 0x0800 -c 0x0001 --fpga_data_time_limit {int(fpga_time)} --fpga_data_QInj --check_trigger_link_at_end --nodaq --DAC_Val {int(DAC)}\".split())\n",
    "            IPC_queue = multiprocessing.Queue()\n",
    "            process = multiprocessing.Process(target=run_script.main_process, args=(IPC_queue, options, f'process_outputs/main_process_{QInj}_{DAC}'))\n",
    "            process.start()\n",
    "            process.join()\n",
    "            \n",
    "    # Disable charge injection\n",
    "    pixel_decoded_register_write(\"QInjEn\", \"0\")\n",
    "    pixel_decoded_register_write(\"disDataReadout\", \"1\")\n",
    "    pixel_decoded_register_write(\"disTrigPath\", \"1\")\n",
    "\n",
    "sCurve_df = pandas.DataFrame(data=data)\n",
    "\n",
    "outdir = Path('../ETROC-Data')\n",
    "outdir = outdir / (datetime.date.today().isoformat() + '_Array_Test_Results')\n",
    "outdir.mkdir(exist_ok=True)\n",
    "outfile = outdir / (scan_name + \"_at_\" + datetime.datetime.now().strftime(\"%Y-%m-%d_%H-%M\") + \".csv\")\n",
    "sCurve_df.to_csv(outfile, index=False)"
   ]
  },
  {
   "attachments": {},
   "cell_type": "markdown",
   "metadata": {},
   "source": [
    "### Choose Pixel To Plot Full Scan Output"
   ]
  },
  {
   "cell_type": "code",
   "execution_count": null,
   "metadata": {},
   "outputs": [],
   "source": [
    "# DAC_row_list = [15, 0, 0, 0]\n",
    "# DAC_col_list = [7, 15, 7, 0]\n",
    "row = 0\n",
    "col = 0\n",
    "DAC_plot_row_list = [row]\n",
    "DAC_plot_col_list = [col]"
   ]
  },
  {
   "cell_type": "code",
   "execution_count": null,
   "metadata": {},
   "outputs": [],
   "source": [
    "root = '../ETROC-Data'\n",
    "file_pattern = \"*FPGA_Data.dat\"\n",
    "BL = int(BL_map_THCal[row][col])\n",
    "hitmap_full_Scurve = {row:{col:{q:{thr+BL:0 for thr in thresholds[q]} for q in QInjEns} for col in range(16)} for row in range(16)}\n",
    "sum_data_hitmap_full_Scurve = {row:{col:{q:{thr+BL:0 for thr in thresholds[q]} for q in QInjEns} for col in range(16)} for row in range(16)}\n",
    "sum2_data_hitmap_full_Scurve = {row:{col:{q:{thr+BL:0 for thr in thresholds[q]} for q in QInjEns} for col in range(16)} for row in range(16)}\n",
    "for index, row, col in zip((range(len(DAC_plot_row_list))), DAC_plot_row_list, DAC_plot_col_list):\n",
    "    for QInj in (QInjEns):\n",
    "        print(f'Pixel {col},{row} - {QInj} fC')\n",
    "        path_pattern = f\"*{today.isoformat()}_Array_Test_Results/E2_testing_VRef_SCurve_{TID_str}_Pixel_C{col}_R{row}_QInj_{QInj}_HVoff_pf_hits\"\n",
    "        file_list = []\n",
    "        for path, subdirs, files in os.walk(root):\n",
    "            if not fnmatch(path, path_pattern): continue\n",
    "            for name in files:\n",
    "                pass\n",
    "                if fnmatch(name, file_pattern):\n",
    "                    file_list.append(os.path.join(path, name))\n",
    "                    print(file_list[-1])\n",
    "        total_files = len(file_list)\n",
    "        for file_index, file_name in enumerate(file_list):\n",
    "            print(f\"{file_index+1}/{total_files}\")\n",
    "            with open(file_name) as infile:\n",
    "                for line in infile:\n",
    "                    text_list = line.split(',')\n",
    "                    FPGA_state = text_list[0]\n",
    "                    FPGA_data = int(text_list[3])\n",
    "                    DAC = int(text_list[5])\n",
    "                    if DAC == -1: continue\n",
    "                    try:\n",
    "                        sum_data_hitmap_full_Scurve[row][col][QInj][DAC] += FPGA_data\n",
    "                        hitmap_full_Scurve[row][col][QInj][DAC] += 1\n",
    "                    except:\n",
    "                        print(f\"Couldn't find DAC: {DAC} in file list\")"
   ]
  },
  {
   "cell_type": "code",
   "execution_count": null,
   "metadata": {},
   "outputs": [],
   "source": [
    "data_mean = {row:{col:{q:{thr+BL:0 for thr in thresholds[q]} for q in QInjEns} for col in range(16)} for row in range(16)}\n",
    "for index, row, col in zip((range(len(DAC_plot_row_list))), DAC_plot_row_list, DAC_plot_col_list):\n",
    "    for QInj in (QInjEns):\n",
    "        for DAC in (thresholds[QInj]):\n",
    "            DAC = int(DAC)+BL\n",
    "            if(hitmap_full_Scurve[row][col][QInj][DAC]==0): \n",
    "                data_mean[row][col][QInj][DAC] = 0\n",
    "                continue\n",
    "            data_mean[row][col][QInj][DAC] = sum_data_hitmap_full_Scurve[row][col][QInj][DAC]/hitmap_full_Scurve[row][col][QInj][DAC]"
   ]
  },
  {
   "cell_type": "code",
   "execution_count": null,
   "metadata": {},
   "outputs": [],
   "source": [
    "colors = ['#a6cee3','#1f78b4','#b2df8a','#33a02c','#fb9a99','#e31a1c','#fdbf6f','#ff7f00','#cab2d6','#6a3d9a','#ffff99','#b15928']\n",
    "\n",
    "fig = plt.figure(dpi=200, figsize=(8,4.5))\n",
    "gs = fig.add_gridspec(1,1)\n",
    "u_cl = np.sort(np.unique(DAC_plot_col_list))\n",
    "u_rl = np.sort(np.unique(DAC_plot_row_list))\n",
    "for ri,row in enumerate(u_rl):\n",
    "    for ci,col in enumerate(u_cl):\n",
    "        ax0 = fig.add_subplot(gs[len(u_rl)-ri-1,len(u_cl)-ci-1])\n",
    "        ax0.axvline(BL_map_THCal[row][col], color='k', label=\"THCal BL\", lw=0.7)\n",
    "        ax0.axvline(BL_map_THCal[row][col]+NW_map_THCal[row][col], color='k', ls='--', label=\"THCal NW\", lw=0.7)\n",
    "        ax0.axvline(BL_map_THCal[row][col]-NW_map_THCal[row][col], color='k', ls='--', lw=0.7)\n",
    "        for i, QInj in enumerate(QInjEns[0:]):\n",
    "            ax0.plot([thr+BL for thr in thresholds[QInj]], data_mean[row][col][QInj].values(), '.-', color=colors[i], label=f\"{QInj} fC\",lw=0.5,markersize=2)\n",
    "        ax0.set_xlabel(\"DAC Value [decimal]\")\n",
    "        ax0.set_ylabel(\"Data Counts [decimal]\")\n",
    "        # ax0.text(0.7, 0.8, f\"Pixel {row},{col}\", transform=ax0.transAxes)\n",
    "        plt.legend(loc=\"upper right\")\n",
    "        plt.yscale(\"log\")\n",
    "    plt.title(f\"{chip_figtitle}, Pixel ({row},{col}) Full S-Curve\")\n",
    "    plt.tight_layout()\n",
    "plt.savefig(fig_path+\"/Full_S-Curve_\"+chip_figname+\"_\"+datetime.datetime.now().strftime(\"%Y-%m-%d_%H-%M\")+\".png\")"
   ]
  },
  {
   "attachments": {},
   "cell_type": "markdown",
   "metadata": {},
   "source": [
    "## Run these cells if you need to interrupt the previous cell"
   ]
  },
  {
   "cell_type": "code",
   "execution_count": null,
   "metadata": {},
   "outputs": [],
   "source": [
    "# Stop Qinj and L1A, join process\n",
    "IPC_queue.put('stop L1A trigger bit')"
   ]
  },
  {
   "cell_type": "code",
   "execution_count": null,
   "metadata": {},
   "outputs": [],
   "source": [
    "# Stop DAQ fifo\n",
    "IPC_queue.put('stop DAQ')\n",
    "# allow threads to exit\n",
    "IPC_queue.put('allow threads to exit')\n",
    "process.join()"
   ]
  },
  {
   "attachments": {},
   "cell_type": "markdown",
   "metadata": {},
   "source": [
    "# Disconnect chip"
   ]
  },
  {
   "cell_type": "code",
   "execution_count": null,
   "metadata": {},
   "outputs": [],
   "source": [
    "conn.disconnect()"
   ]
  },
  {
   "cell_type": "code",
   "execution_count": null,
   "metadata": {},
   "outputs": [],
   "source": []
  }
 ],
 "metadata": {
  "kernelspec": {
   "display_name": "Python 3",
   "language": "python",
   "name": "python3"
  },
  "language_info": {
   "codemirror_mode": {
    "name": "ipython",
    "version": 3
   },
   "file_extension": ".py",
   "mimetype": "text/x-python",
   "name": "python",
   "nbconvert_exporter": "python",
   "pygments_lexer": "ipython3",
   "version": "3.11.3"
  },
  "orig_nbformat": 4
 },
 "nbformat": 4,
 "nbformat_minor": 2
}
