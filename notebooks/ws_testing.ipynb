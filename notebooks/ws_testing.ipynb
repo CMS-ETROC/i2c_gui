{
 "cells": [
  {
   "cell_type": "code",
   "execution_count": null,
   "metadata": {},
   "outputs": [],
   "source": [
    "#############################################################################\n",
    "# zlib License\n",
    "#\n",
    "# (C) 2023 Zach FLowers, Jongho Lee, Murtaza Safdari <musafdar@cern.ch>\n",
    "#\n",
    "# This software is provided 'as-is', without any express or implied\n",
    "# warranty.  In no event will the authors be held liable for any damages\n",
    "# arising from the use of this software.\n",
    "#\n",
    "# Permission is granted to anyone to use this software for any purpose,\n",
    "# including commercial applications, and to alter it and redistribute it\n",
    "# freely, subject to the following restrictions:\n",
    "#\n",
    "# 1. The origin of this software must not be misrepresented; you must not\n",
    "#    claim that you wrote the original software. If you use this software\n",
    "#    in a product, an acknowledgment in the product documentation would be\n",
    "#    appreciated but is not required.\n",
    "# 2. Altered source versions must be plainly marked as such, and must not be\n",
    "#    misrepresented as being the original software.\n",
    "# 3. This notice may not be removed or altered from any source distribution.\n",
    "#############################################################################"
   ]
  },
  {
   "attachments": {},
   "cell_type": "markdown",
   "metadata": {},
   "source": [
    "# Imports"
   ]
  },
  {
   "cell_type": "code",
   "execution_count": null,
   "metadata": {},
   "outputs": [],
   "source": [
    "#%%\n",
    "%matplotlib inline\n",
    "import matplotlib.pyplot as plt\n",
    "import logging\n",
    "import i2c_gui\n",
    "import i2c_gui.chips\n",
    "from i2c_gui.usb_iss_helper import USB_ISS_Helper\n",
    "from i2c_gui.fpga_eth_helper import FPGA_ETH_Helper\n",
    "import numpy as np\n",
    "from mpl_toolkits.axes_grid1 import make_axes_locatable\n",
    "import time\n",
    "from tqdm import tqdm\n",
    "from i2c_gui.chips.etroc2_chip import register_decoding\n",
    "import os\n",
    "import multiprocessing\n",
    "os.chdir(f'/home/{os.getlogin()}/ETROC2/ETROC_DAQ')\n",
    "import run_script\n",
    "import importlib\n",
    "importlib.reload(run_script)\n",
    "import datetime\n",
    "from pathlib import Path\n",
    "import pandas as pd"
   ]
  },
  {
   "attachments": {},
   "cell_type": "markdown",
   "metadata": {},
   "source": [
    "# Set defaults"
   ]
  },
  {
   "attachments": {},
   "cell_type": "markdown",
   "metadata": {},
   "source": [
    "### It is very important to correctly set the chip name, this value is stored with the data"
   ]
  },
  {
   "cell_type": "code",
   "execution_count": null,
   "metadata": {},
   "outputs": [],
   "source": [
    "chip_name = \"01E2_#48\""
   ]
  },
  {
   "cell_type": "code",
   "execution_count": null,
   "metadata": {},
   "outputs": [],
   "source": [
    "# 'The port name the USB-ISS module is connected to. Default: COM3'\n",
    "port = \"/dev/ttyACM0\"\n",
    "# I2C addresses for the pixel block and WS\n",
    "chip_address = 0x60\n",
    "ws_address = 0x40\n",
    "\n",
    "i2c_gui.__no_connect__ = False  # Set to fake connecting to an ETROC2 device\n",
    "i2c_gui.__no_connect_type__ = \"echo\"  # for actually testing readback\n",
    "#i2c_gui.__no_connect_type__ = \"check\"  # default behaviour"
   ]
  },
  {
   "attachments": {},
   "cell_type": "markdown",
   "metadata": {},
   "source": [
    "# Start logger and connect"
   ]
  },
  {
   "cell_type": "code",
   "execution_count": null,
   "metadata": {},
   "outputs": [],
   "source": [
    "## Logger\n",
    "log_level=30\n",
    "logging.basicConfig(format='%(asctime)s - %(levelname)s:%(name)s:%(message)s')\n",
    "logger = logging.getLogger(\"Script_Logger\")\n",
    "Script_Helper = i2c_gui.ScriptHelper(logger)\n",
    "\n",
    "## USB ISS connection\n",
    "conn = i2c_gui.Connection_Controller(Script_Helper)\n",
    "conn.connection_type = \"USB-ISS\"\n",
    "conn.handle: USB_ISS_Helper\n",
    "conn.handle.port = port\n",
    "conn.handle.clk = 100\n",
    "\n",
    "conn.connect()\n",
    "\n",
    "chip = i2c_gui.chips.ETROC2_Chip(parent=Script_Helper, i2c_controller=conn)\n",
    "chip.config_i2c_address(chip_address)\n",
    "chip.config_waveform_sampler_i2c_address(ws_address)  # Not needed if you do not access WS registers\n",
    "logger.setLevel(log_level)"
   ]
  },
  {
   "attachments": {},
   "cell_type": "markdown",
   "metadata": {},
   "source": [
    "# Useful Functions to streamline register reading and writing"
   ]
  },
  {
   "cell_type": "code",
   "execution_count": null,
   "metadata": {},
   "outputs": [],
   "source": [
    "def pixel_decoded_register_write(decodedRegisterName, data_to_write):\n",
    "    bit_depth = register_decoding[\"ETROC2\"][\"Register Blocks\"][\"Pixel Config\"][decodedRegisterName][\"bits\"]\n",
    "    handle = chip.get_decoded_indexed_var(\"ETROC2\", \"Pixel Config\", decodedRegisterName)\n",
    "    chip.read_decoded_value(\"ETROC2\", \"Pixel Config\", decodedRegisterName)\n",
    "    if len(data_to_write)!=bit_depth: print(\"Binary data_to_write is of incorrect length for\",decodedRegisterName, \"with bit depth\", bit_depth)\n",
    "    data_hex_modified = hex(int(data_to_write, base=2))\n",
    "    if(bit_depth>1): handle.set(data_hex_modified)\n",
    "    elif(bit_depth==1): handle.set(data_to_write)\n",
    "    else: print(decodedRegisterName, \"!!!ERROR!!! Bit depth <1, how did we get here...\")\n",
    "    chip.write_decoded_value(\"ETROC2\", \"Pixel Config\", decodedRegisterName)\n",
    "\n",
    "def pixel_decoded_register_read(decodedRegisterName, key, need_int=False):\n",
    "    handle = chip.get_decoded_indexed_var(\"ETROC2\", f\"Pixel {key}\", decodedRegisterName)\n",
    "    chip.read_decoded_value(\"ETROC2\", f\"Pixel {key}\", decodedRegisterName)\n",
    "    if(need_int): return int(handle.get(), base=16)\n",
    "    else: return handle.get()\n",
    "\n",
    "def peripheral_decoded_register_write(decodedRegisterName, data_to_write):\n",
    "    bit_depth = register_decoding[\"ETROC2\"][\"Register Blocks\"][\"Peripheral Config\"][decodedRegisterName][\"bits\"]\n",
    "    handle = chip.get_decoded_display_var(\"ETROC2\", \"Peripheral Config\", decodedRegisterName)\n",
    "    chip.read_decoded_value(\"ETROC2\", \"Peripheral Config\", decodedRegisterName)\n",
    "    if len(data_to_write)!=bit_depth: print(\"Binary data_to_write is of incorrect length for\",decodedRegisterName, \"with bit depth\", bit_depth)\n",
    "    data_hex_modified = hex(int(data_to_write, base=2))\n",
    "    if(bit_depth>1): handle.set(data_hex_modified)\n",
    "    elif(bit_depth==1): handle.set(data_to_write)\n",
    "    else: print(decodedRegisterName, \"!!!ERROR!!! Bit depth <1, how did we get here...\")\n",
    "    chip.write_decoded_value(\"ETROC2\", \"Peripheral Config\", decodedRegisterName)\n",
    "\n",
    "def peripheral_decoded_register_read(decodedRegisterName, key, need_int=False):\n",
    "    handle = chip.get_decoded_display_var(\"ETROC2\", f\"Peripheral {key}\", decodedRegisterName)\n",
    "    chip.read_decoded_value(\"ETROC2\", f\"Peripheral {key}\", decodedRegisterName)\n",
    "    if(need_int): return int(handle.get(), base=16)\n",
    "    else: return handle.get()\n",
    "\n",
    "def ws_decoded_register_write(decodedRegisterName, data_to_write):\n",
    "    bit_depth = register_decoding[\"Waveform Sampler\"][\"Register Blocks\"][\"Config\"][decodedRegisterName][\"bits\"]\n",
    "    handle = chip.get_decoded_display_var(\"Waveform Sampler\", \"Config\", decodedRegisterName)\n",
    "    chip.read_decoded_value(\"Waveform Sampler\", \"Config\", decodedRegisterName)\n",
    "    if len(data_to_write)!=bit_depth: print(\"Binary data_to_write is of incorrect length for\",decodedRegisterName, \"with bit depth\", bit_depth)\n",
    "    data_hex_modified = hex(int(data_to_write, base=2))\n",
    "    if(bit_depth>1): handle.set(data_hex_modified)\n",
    "    elif(bit_depth==1): handle.set(data_to_write)\n",
    "    else: print(decodedRegisterName, \"!!!ERROR!!! Bit depth <1, how did we get here...\")\n",
    "    chip.write_decoded_value(\"Waveform Sampler\", \"Config\", decodedRegisterName)\n",
    "\n",
    "def ws_decoded_config_read(decodedRegisterName, need_int=False):\n",
    "    handle = chip.get_decoded_display_var(\"Waveform Sampler\", f\"Config\", decodedRegisterName)\n",
    "    chip.read_decoded_value(\"Waveform Sampler\", f\"Config\", decodedRegisterName)\n",
    "    if(need_int): return int(handle.get(), base=16)\n",
    "    else: return handle.get()\n",
    "\n",
    "def ws_decoded_status_read(decodedRegisterName, need_int=False):\n",
    "    handle = chip.get_decoded_display_var(\"Waveform Sampler\", f\"Status\", decodedRegisterName)\n",
    "    chip.read_decoded_value(\"Waveform Sampler\", f\"Status\", decodedRegisterName)\n",
    "    if(need_int): return int(handle.get(), base=16)\n",
    "    else: return handle.get()"
   ]
  },
  {
   "attachments": {},
   "cell_type": "markdown",
   "metadata": {},
   "source": [
    "# Check if any pixels are broken"
   ]
  },
  {
   "attachments": {},
   "cell_type": "markdown",
   "metadata": {},
   "source": [
    "### If a pixel returns a COL and ROW number that inconsistent with the pixel that we are addressing, then it is broken"
   ]
  },
  {
   "cell_type": "code",
   "execution_count": null,
   "metadata": {},
   "outputs": [],
   "source": [
    "Failure_map = np.zeros((16,16))\n",
    "row_indexer_handle,_,_ = chip.get_indexer(\"row\")  # Returns 3 parameters: handle, min, max\n",
    "column_indexer_handle,_,_ = chip.get_indexer(\"column\")\n",
    "for row in range(16):\n",
    "    for col in range(16):\n",
    "        column_indexer_handle.set(col)\n",
    "        row_indexer_handle.set(row)\n",
    "        fetched_row = pixel_decoded_register_read(\"PixelID-Row\", \"Status\", need_int=True)\n",
    "        fetched_col = pixel_decoded_register_read(\"PixelID-Col\", \"Status\", need_int=True)\n",
    "        if(row!=fetched_row or col!=fetched_col):\n",
    "            print(\"Fail!\", row, col, fetched_row, fetched_col)\n",
    "            Failure_map[15-row,15-col] = 1"
   ]
  },
  {
   "cell_type": "code",
   "execution_count": null,
   "metadata": {},
   "outputs": [],
   "source": [
    "#%%\n",
    "%matplotlib inline\n",
    "import matplotlib.pyplot as plt"
   ]
  },
  {
   "attachments": {},
   "cell_type": "markdown",
   "metadata": {},
   "source": [
    "### Pixel map, any broken pixels will show up as map == 1"
   ]
  },
  {
   "cell_type": "code",
   "execution_count": null,
   "metadata": {},
   "outputs": [],
   "source": [
    "fig = plt.figure(dpi=75, figsize=(8,8))\n",
    "gs = fig.add_gridspec(1,1)\n",
    "\n",
    "ax0 = fig.add_subplot(gs[0,0])\n",
    "ax0.set_title(\"Pixel ID Failure Map\")\n",
    "img0 = ax0.imshow(Failure_map, interpolation='none')\n",
    "ax0.set_aspect(\"equal\")\n",
    "ax0.get_yaxis().set_visible(False)\n",
    "ax0.get_xaxis().set_visible(False)\n",
    "divider = make_axes_locatable(ax0)\n",
    "cax = divider.append_axes('right', size=\"5%\", pad=0.05)\n",
    "fig.colorbar(img0, cax=cax, orientation=\"vertical\")\n",
    "\n",
    "plt.show()"
   ]
  },
  {
   "attachments": {},
   "cell_type": "markdown",
   "metadata": {},
   "source": [
    "# Set the basic peripheral registers"
   ]
  },
  {
   "cell_type": "code",
   "execution_count": null,
   "metadata": {},
   "outputs": [],
   "source": [
    "peripheral_decoded_register_write(\"EFuse_Prog\", format(0x00017f0f, '032b'))     # chip ID\n",
    "peripheral_decoded_register_write(\"singlePort\", '1')                            # Set data output to right port only\n",
    "peripheral_decoded_register_write(\"serRateLeft\", '00')                          # Set Data Rates to 320 mbps\n",
    "peripheral_decoded_register_write(\"serRateRight\", '00')                         # ^^\n",
    "peripheral_decoded_register_write(\"onChipL1AConf\", '00')                        # Switches off the onboard L1A\n",
    "peripheral_decoded_register_write(\"PLL_ENABLEPLL\", '1')                         # \"Enable PLL mode, active high. Debugging use only.\"\n",
    "peripheral_decoded_register_write(\"chargeInjectionDelay\", format(0x0a, '05b'))  # User tunable delay of Qinj pulse\n",
    "peripheral_decoded_register_write(\"triggerGranularity\", format(0x00, '03b'))    # only for trigger bit"
   ]
  },
  {
   "attachments": {},
   "cell_type": "markdown",
   "metadata": {},
   "source": [
    "# Perform Auto-calibration on WS pixel (Row0, Col14)"
   ]
  },
  {
   "cell_type": "code",
   "execution_count": null,
   "metadata": {},
   "outputs": [],
   "source": [
    "# Reset the maps\n",
    "baseLine = 0\n",
    "noiseWidth = 0"
   ]
  },
  {
   "cell_type": "code",
   "execution_count": null,
   "metadata": {},
   "outputs": [],
   "source": [
    "row_indexer_handle,_,_ = chip.get_indexer(\"row\")  # Returns 3 parameters: handle, min, max\n",
    "column_indexer_handle,_,_ = chip.get_indexer(\"column\")\n",
    "# Loop for threshold calibration\n",
    "row = 0\n",
    "col = 14\n",
    "column_indexer_handle.set(col)\n",
    "row_indexer_handle.set(row)\n",
    "# Enable THCal clock and buffer, disable bypass\n",
    "pixel_decoded_register_write(\"CLKEn_THCal\", \"1\")\n",
    "pixel_decoded_register_write(\"BufEn_THCal\", \"1\")\n",
    "pixel_decoded_register_write(\"Bypass_THCal\", \"0\")\n",
    "pixel_decoded_register_write(\"TH_offset\", format(0x07, '06b'))\n",
    "# Reset the calibration block (active low)\n",
    "pixel_decoded_register_write(\"RSTn_THCal\", \"0\")\n",
    "pixel_decoded_register_write(\"RSTn_THCal\", \"1\")\n",
    "# Start and Stop the calibration, (25ns x 2**15 ~ 800 us, ACCumulator max is 2**15)\n",
    "pixel_decoded_register_write(\"ScanStart_THCal\", \"1\")\n",
    "pixel_decoded_register_write(\"ScanStart_THCal\", \"0\")\n",
    "# Check the calibration done correctly\n",
    "if(pixel_decoded_register_read(\"ScanDone\", \"Status\")!=\"1\"): print(\"!!!ERROR!!! Scan not done!!!\")\n",
    "baseLine = pixel_decoded_register_read(\"BL\", \"Status\", need_int=True)\n",
    "noiseWidth = pixel_decoded_register_read(\"NW\", \"Status\", need_int=True)\n",
    "# Disable clock and buffer before charge injection \n",
    "pixel_decoded_register_write(\"CLKEn_THCal\", \"0\") \n",
    "pixel_decoded_register_write(\"BufEn_THCal\", \"0\")\n",
    "# Set Charge Inj Q to 15 fC\n",
    "pixel_decoded_register_write(\"QSel\", format(0x0e, '05b'))"
   ]
  },
  {
   "attachments": {},
   "cell_type": "markdown",
   "metadata": {},
   "source": [
    "### Print BL and NW from automatic calibration"
   ]
  },
  {
   "cell_type": "code",
   "execution_count": null,
   "metadata": {},
   "outputs": [],
   "source": [
    "print(f\"BL: {baseLine}, NW: {noiseWidth}\")"
   ]
  },
  {
   "attachments": {},
   "cell_type": "markdown",
   "metadata": {},
   "source": [
    "# Test WS"
   ]
  },
  {
   "attachments": {},
   "cell_type": "markdown",
   "metadata": {},
   "source": [
    "### Disable all pixel readouts before doing anything"
   ]
  },
  {
   "cell_type": "code",
   "execution_count": null,
   "metadata": {},
   "outputs": [],
   "source": [
    "row_indexer_handle,_,_ = chip.get_indexer(\"row\")\n",
    "column_indexer_handle,_,_ = chip.get_indexer(\"column\")\n",
    "column_indexer_handle.set(0)\n",
    "row_indexer_handle.set(0)\n",
    "\n",
    "broadcast_handle,_,_ = chip.get_indexer(\"broadcast\")\n",
    "broadcast_handle.set(True)\n",
    "pixel_decoded_register_write(\"disDataReadout\", \"1\")\n",
    "broadcast_handle.set(True)\n",
    "pixel_decoded_register_write(\"QInjEn\", \"0\")\n",
    "broadcast_handle.set(True)\n",
    "pixel_decoded_register_write(\"disTrigPath\", \"1\")"
   ]
  },
  {
   "attachments": {},
   "cell_type": "markdown",
   "metadata": {},
   "source": [
    "### WS and pixel initialization"
   ]
  },
  {
   "cell_type": "code",
   "execution_count": null,
   "metadata": {},
   "outputs": [],
   "source": [
    "# If you want, you can change the pixel row and column numbers\n",
    "row_indexer_handle,_,_ = chip.get_indexer(\"row\")  # Returns 3 parameters: handle, min, max\n",
    "column_indexer_handle,_,_ = chip.get_indexer(\"column\")\n",
    "row = 0\n",
    "col = 14\n",
    "print(f\"Enabling Pixel ({row},{col})\")\n",
    "column_indexer_handle.set(col)\n",
    "row_indexer_handle.set(row)\n",
    "pixel_decoded_register_write(\"Bypass_THCal\", \"0\")      \n",
    "pixel_decoded_register_write(\"TH_offset\", format(0x0c, '06b'))  # Offset used to add to the auto BL for real triggering\n",
    "pixel_decoded_register_write(\"QSel\", format(0x1e, '05b'))       # Ensure we inject 30 fC of charge  \n",
    "pixel_decoded_register_write(\"QInjEn\", \"1\")                     # ENable charge injection for the selected pixel\n",
    "pixel_decoded_register_write(\"RFSel\", format(0x00, '02b'))      # Set Largest feedback resistance -> maximum gain \n",
    "\n",
    "\n",
    "regOut1F_handle = chip.get_display_var(\"Waveform Sampler\", \"Config\", \"regOut1F\")\n",
    "regOut1F_handle.set(\"0x22\")\n",
    "chip.write_register(\"Waveform Sampler\", \"Config\", \"regOut1F\")\n",
    "regOut1F_handle.set(\"0x0b\")\n",
    "chip.write_register(\"Waveform Sampler\", \"Config\", \"regOut1F\")\n",
    "\n",
    "# ws_decoded_register_write(\"mem_rstn\", \"0\")                      # 0: reset memory\n",
    "# ws_decoded_register_write(\"clk_gen_rstn\", \"0\")                  # 0: reset clock generation\n",
    "# ws_decoded_register_write(\"sel1\", \"0\")                          # 0: Bypass mode, 1: VGA mode\n",
    "ws_decoded_register_write(\"DDT\", format(0, '016b'))             # Time Skew Calibration set to 0\n",
    "ws_decoded_register_write(\"CTRL\", format(0x2, '02b'))           # CTRL default = 0x10 for regOut0D"
   ]
  },
  {
   "cell_type": "code",
   "execution_count": null,
   "metadata": {},
   "outputs": [],
   "source": [
    "chip.read_all_address_space(\"Waveform Sampler\") # Read all registers of WS\n",
    "rd_addr_handle = chip.get_decoded_display_var(\"Waveform Sampler\", \"Config\", \"rd_addr\")\n",
    "dout_handle = chip.get_decoded_display_var(\"Waveform Sampler\", \"Status\", \"dout\")"
   ]
  },
  {
   "attachments": {},
   "cell_type": "markdown",
   "metadata": {},
   "source": [
    "### Run DAQ to send ws fc"
   ]
  },
  {
   "cell_type": "code",
   "execution_count": null,
   "metadata": {},
   "outputs": [],
   "source": [
    "time_per_pixel = 5\n",
    "dead_time_per_pixel = 10\n",
    "total_scan_time = time_per_pixel + dead_time_per_pixel\n",
    "outname = 'ws_test'\n",
    "\n",
    "today = datetime.date.today()\n",
    "todaystr = \"../ETROC-Data/\" + today.isoformat() + \"_Array_Test_Results/\"\n",
    "base_dir = Path(todaystr)\n",
    "base_dir.mkdir(exist_ok=True) \n",
    "\n",
    "parser = run_script.getOptionParser() \n",
    "(options, args) = parser.parse_args(args=f\"-f --useIPC --hostname 192.168.2.3 -t {int(total_scan_time)} -o {outname} -v -w -s 0x000C -p 0x000f --compressed_translation  --clear_fifo\".split())\n",
    "IPC_queue = multiprocessing.Queue()\n",
    "process = multiprocessing.Process(target=run_script.main_process, args=(IPC_queue, options, f'main_process'))\n",
    "process.start()\n",
    "\n",
    "IPC_queue.put('start periodic ws')\n",
    "while not IPC_queue.empty():\n",
    "    pass\n",
    "\n",
    "time.sleep(time_per_pixel)\n",
    "IPC_queue.put('stop ws')\n",
    "\n",
    "time.sleep(1)\n",
    "IPC_queue.put('stop DAQ')\n",
    "while not IPC_queue.empty():\n",
    "    pass\n",
    "\n",
    "IPC_queue.put('allow threads to exit')\n",
    "\n",
    "process.join()"
   ]
  },
  {
   "attachments": {},
   "cell_type": "markdown",
   "metadata": {},
   "source": [
    "### Read from WS memory"
   ]
  },
  {
   "cell_type": "code",
   "execution_count": null,
   "metadata": {},
   "outputs": [],
   "source": [
    "ws_decoded_register_write(\"rd_en_I2C\", \"1\")\n",
    "\n",
    "# For loop to read data from WS\n",
    "max_steps = 1024\n",
    "lastUpdateTime = time.time_ns()\n",
    "base_data = []\n",
    "coeff = 0.04/5*8.5  # This number comes from the example script in the manual\n",
    "time_coeff = 1/2.56  # 2.56 GHz WS frequency\n",
    "\n",
    "for time_idx in tqdm(range(max_steps)):\n",
    "    rd_addr_handle.set(hex(time_idx))\n",
    "    chip.write_decoded_value(\"Waveform Sampler\", \"Config\", \"rd_addr\")\n",
    "    chip.read_decoded_value(\"Waveform Sampler\", \"Status\", \"dout\")\n",
    "    data = dout_handle.get()\n",
    "\n",
    "    #if time_idx == 1:\n",
    "    #    data = hex_0fill(int(data, 0) + 8192, 14)\n",
    "\n",
    "    binary_data = bin(int(data, 0))[2:].zfill(14)  # because dout is 14 bits long\n",
    "    Dout_S1 = int('0b'+binary_data[1:7], 0)\n",
    "    Dout_S2 = int(binary_data[ 7]) * 24 + \\\n",
    "                int(binary_data[ 8]) * 16 + \\\n",
    "                int(binary_data[ 9]) * 10 + \\\n",
    "                int(binary_data[10]) *  6 + \\\n",
    "                int(binary_data[11]) *  4 + \\\n",
    "                int(binary_data[12]) *  2 + \\\n",
    "                int(binary_data[13])\n",
    "\n",
    "    base_data.append(\n",
    "        {\n",
    "            \"Time Index\": time_idx,\n",
    "            \"Data\": int(data, 0),\n",
    "            \"Raw Data\": bin(int(data, 0))[2:].zfill(14),\n",
    "            \"pointer\": int(binary_data[0]),\n",
    "            \"Dout_S1\": Dout_S1,\n",
    "            \"Dout_S2\": Dout_S2,\n",
    "            \"Dout\": Dout_S1*coeff + Dout_S2,\n",
    "        }\n",
    "    )\n",
    "\n",
    "df = pd.DataFrame(base_data)\n",
    "\n",
    "pointer_idx = df[\"pointer\"].loc[df[\"pointer\"] != 0].index\n",
    "if len(pointer_idx) != 0:\n",
    "    pointer_idx = pointer_idx[0]\n",
    "    new_idx = list(set(range(len(df))).difference(range(pointer_idx+1))) + list(range(pointer_idx+1))\n",
    "    df = df.iloc[new_idx].reset_index(drop = True)\n",
    "    df[\"Time Index\"] = df.index\n",
    "\n",
    "df[\"Time [ns]\"] = df[\"Time Index\"] * time_coeff\n",
    "df.set_index('Time Index', inplace=True)\n",
    "\n",
    "# Disable reading data from WS:\n",
    "ws_decoded_register_write(\"rd_en_I2C\", \"0\")"
   ]
  },
  {
   "cell_type": "code",
   "execution_count": null,
   "metadata": {},
   "outputs": [],
   "source": [
    "df"
   ]
  },
  {
   "cell_type": "code",
   "execution_count": null,
   "metadata": {},
   "outputs": [],
   "source": [
    "fig, ax = plt.subplots()\n",
    "ax.plot(df['Time [ns]'], df['Dout'])"
   ]
  },
  {
   "cell_type": "code",
   "execution_count": null,
   "metadata": {},
   "outputs": [],
   "source": []
  }
 ],
 "metadata": {
  "kernelspec": {
   "display_name": "Python 3",
   "language": "python",
   "name": "python3"
  },
  "language_info": {
   "codemirror_mode": {
    "name": "ipython",
    "version": 3
   },
   "file_extension": ".py",
   "mimetype": "text/x-python",
   "name": "python",
   "nbconvert_exporter": "python",
   "pygments_lexer": "ipython3",
   "version": "3.9.16"
  },
  "orig_nbformat": 4
 },
 "nbformat": 4,
 "nbformat_minor": 2
}
