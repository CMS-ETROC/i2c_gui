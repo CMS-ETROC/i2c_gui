{
 "cells": [
  {
   "cell_type": "code",
   "execution_count": 2,
   "metadata": {},
   "outputs": [],
   "source": [
    "#############################################################################\n",
    "# zlib License\n",
    "#\n",
    "# (C) 2023 Cristóvão Beirão da Cruz e Silva <cbeiraod@cern.ch>\n",
    "#\n",
    "# This software is provided 'as-is', without any express or implied\n",
    "# warranty.  In no event will the authors be held liable for any damages\n",
    "# arising from the use of this software.\n",
    "#\n",
    "# Permission is granted to anyone to use this software for any purpose,\n",
    "# including commercial applications, and to alter it and redistribute it\n",
    "# freely, subject to the following restrictions:\n",
    "#\n",
    "# 1. The origin of this software must not be misrepresented; you must not\n",
    "#    claim that you wrote the original software. If you use this software\n",
    "#    in a product, an acknowledgment in the product documentation would be\n",
    "#    appreciated but is not required.\n",
    "# 2. Altered source versions must be plainly marked as such, and must not be\n",
    "#    misrepresented as being the original software.\n",
    "# 3. This notice may not be removed or altered from any source distribution.\n",
    "#############################################################################\n",
    "\n",
    "#############################################################################\n",
    "# Modified for ETROC2 I2C testing in jupyter notebooks, Murtaza Safdari\n",
    "#############################################################################"
   ]
  },
  {
   "attachments": {},
   "cell_type": "markdown",
   "metadata": {},
   "source": [
    "## Imports"
   ]
  },
  {
   "cell_type": "code",
   "execution_count": 3,
   "metadata": {},
   "outputs": [],
   "source": [
    "import logging\n",
    "import i2c_gui\n",
    "import i2c_gui.chips\n",
    "from i2c_gui.usb_iss_helper import USB_ISS_Helper\n",
    "from i2c_gui.fpga_eth_helper import FPGA_ETH_Helper\n",
    "import numpy as np\n",
    "import matplotlib.pyplot as plt\n",
    "from mpl_toolkits.axes_grid1 import make_axes_locatable\n",
    "import time\n",
    "from i2c_gui.chips.etroc2_chip import register_decoding\n",
    "%matplotlib inline"
   ]
  },
  {
   "attachments": {},
   "cell_type": "markdown",
   "metadata": {},
   "source": [
    "## Set defaults"
   ]
  },
  {
   "cell_type": "code",
   "execution_count": 4,
   "metadata": {},
   "outputs": [],
   "source": [
    "# 'If set, the full log will be saved to a file (i.e. the log level is ignored)'\n",
    "log_file = False\n",
    "# 'Set the logging level. Default: WARNING',\n",
    "#  [\"CRITICAL\",\"ERROR\",\"WARNING\",\"INFO\",\"DEBUG\",\"TRACE\",\"DETAILED_TRACE\",\"NOTSET\"]\n",
    "log_level_text = \"WARNING\"\n",
    "# 'The port name the USB-ISS module is connected to. Default: COM3'\n",
    "port = \"COM3\"\n",
    "# I2C addresses for the pixel block and WS\n",
    "chip_address = 0x60\n",
    "ws_address = None"
   ]
  },
  {
   "cell_type": "code",
   "execution_count": 5,
   "metadata": {},
   "outputs": [],
   "source": [
    "if log_file:\n",
    "    logging.basicConfig(filename='logging.log', filemode='w', encoding='utf-8', level=logging.NOTSET)\n",
    "    log_level = 0\n",
    "else:\n",
    "    log_level = 0\n",
    "    if log_level_text == \"CRITICAL\":\n",
    "        log_level=50\n",
    "    elif log_level_text == \"ERROR\":\n",
    "        log_level=40\n",
    "    elif log_level_text == \"WARNING\":\n",
    "        log_level=30\n",
    "    elif log_level_text == \"INFO\":\n",
    "        log_level=20\n",
    "    elif log_level_text == \"DEBUG\":\n",
    "        log_level=10\n",
    "    elif log_level_text == \"TRACE\":\n",
    "        log_level=8\n",
    "    elif log_level_text == \"DETAILED_TRACE\":\n",
    "        log_level=5\n",
    "    elif log_level_text == \"NOTSET\":\n",
    "        log_level=0\n",
    "    logging.basicConfig(format='%(asctime)s - %(levelname)s:%(name)s:%(message)s')\n",
    "\n",
    "i2c_gui.__no_connect__ = False  # Set to fake connecting to an ETROC2 device\n",
    "i2c_gui.__no_connect_type__ = \"echo\"  # for actually testing readback\n",
    "#i2c_gui.__no_connect_type__ = \"check\"  # default behaviour"
   ]
  },
  {
   "attachments": {},
   "cell_type": "markdown",
   "metadata": {},
   "source": [
    "## Start logger and connect"
   ]
  },
  {
   "cell_type": "code",
   "execution_count": 6,
   "metadata": {},
   "outputs": [],
   "source": [
    "logger = logging.getLogger(\"Script_Logger\")\n",
    "\n",
    "Script_Helper = i2c_gui.ScriptHelper(logger)\n",
    "\n",
    "## USB ISS connection\n",
    "conn = i2c_gui.Connection_Controller(Script_Helper)\n",
    "conn.connection_type = \"USB-ISS\"\n",
    "conn.handle: USB_ISS_Helper\n",
    "conn.handle.port = port\n",
    "conn.handle.clk = 100\n",
    "\n",
    "## For FPGA connection (not yet fully implemented)\n",
    "#conn.connection_type = \"FPGA-Eth\"\n",
    "#conn.handle: FPGA_ETH_Helper\n",
    "#conn.handle.hostname = \"192.168.2.3\"\n",
    "#conn.handle.port = \"1024\"\n",
    "\n",
    "conn.connect()"
   ]
  },
  {
   "cell_type": "code",
   "execution_count": 7,
   "metadata": {},
   "outputs": [],
   "source": [
    "chip = i2c_gui.chips.ETROC2_Chip(parent=Script_Helper, i2c_controller=conn)\n",
    "chip.config_i2c_address(chip_address)  # Not needed if you do not access ETROC registers (i.e. only access WS registers)\n",
    "# chip.config_waveform_sampler_i2c_address(ws_address)  # Not needed if you do not access WS registers\n",
    "\n",
    "logger.setLevel(log_level)"
   ]
  },
  {
   "attachments": {},
   "cell_type": "markdown",
   "metadata": {},
   "source": [
    "## Useful Functions"
   ]
  },
  {
   "cell_type": "code",
   "execution_count": 8,
   "metadata": {},
   "outputs": [],
   "source": [
    "def pixel_decoded_register_write(decodedRegisterName, data_to_write):\n",
    "    bit_depth = register_decoding[\"ETROC2\"][\"Register Blocks\"][\"Pixel Config\"][decodedRegisterName][\"bits\"]\n",
    "    handle = chip.get_decoded_indexed_var(\"ETROC2\", \"Pixel Config\", decodedRegisterName)\n",
    "    chip.read_decoded_value(\"ETROC2\", \"Pixel Config\", decodedRegisterName)\n",
    "    if len(data_to_write)!=bit_depth: print(\"Binary data_to_write is of incorrect length for\",decodedRegisterName, \"with bit depth\", bit_depth)\n",
    "    data_hex_modified = hex(int(data_to_write, base=2))\n",
    "    if(bit_depth>1): handle.set(data_hex_modified)\n",
    "    elif(bit_depth==1): handle.set(data_to_write)\n",
    "    else: print(decodedRegisterName, \"!!!ERROR!!! Bit depth <1, how did we get here...\")\n",
    "    chip.write_decoded_value(\"ETROC2\", \"Pixel Config\", decodedRegisterName)\n",
    "def pixel_decoded_register_read(decodedRegisterName, key, need_int=False):\n",
    "    handle = chip.get_decoded_indexed_var(\"ETROC2\", f\"Pixel {key}\", decodedRegisterName)\n",
    "    chip.read_decoded_value(\"ETROC2\", f\"Pixel {key}\", decodedRegisterName)\n",
    "    if(need_int): return int(handle.get(), base=16)\n",
    "    else: return handle.get()"
   ]
  },
  {
   "attachments": {},
   "cell_type": "markdown",
   "metadata": {},
   "source": [
    "## Automatic threshold calibration"
   ]
  },
  {
   "cell_type": "code",
   "execution_count": 103,
   "metadata": {},
   "outputs": [],
   "source": [
    "BL_map_THCal = np.zeros((16,16))\n",
    "NW_map_THCal = np.zeros((16,16))\n",
    "# ACC_map_THCal= np.zeros((16,16))\n",
    "row_indexer_handle,_,_ = chip.get_indexer(\"row\")  # Returns 3 parameters: handle, min, max\n",
    "column_indexer_handle,_,_ = chip.get_indexer(\"column\")\n",
    "for row in range(16):\n",
    "    for col in range(16):\n",
    "# for row in [3,9]:\n",
    "#     for col in [3,9]:\n",
    "        column_indexer_handle.set(col)\n",
    "        row_indexer_handle.set(row)\n",
    "        # Maybe required to make this work\n",
    "        # pixel_decoded_register_write(\"enable_TDC\", \"0\")\n",
    "        # pixel_decoded_register_write(\"testMode_TDC\", \"0\")\n",
    "        # Enable THCal clock and buffer, disable bypass\n",
    "        pixel_decoded_register_write(\"CLKEn_THCal\", \"1\")\n",
    "        pixel_decoded_register_write(\"BufEn_THCal\", \"1\")\n",
    "        pixel_decoded_register_write(\"Bypass_THCal\", \"0\")\n",
    "        # Reset the calibration block (active low)\n",
    "        pixel_decoded_register_write(\"RSTn_THCal\", \"0\")\n",
    "        pixel_decoded_register_write(\"RSTn_THCal\", \"1\")\n",
    "        # Start and Stop the calibration, pause for 1ms (25ns x 2**15 ~ 800 us, ACCumulator max is 2**15)\n",
    "        pixel_decoded_register_write(\"ScanStart_THCal\", \"1\")\n",
    "        # time.sleep(15)    # This is may be needed to let calibration complete\n",
    "        pixel_decoded_register_write(\"ScanStart_THCal\", \"0\")\n",
    "        # Fetch the status registers\n",
    "        if(pixel_decoded_register_read(\"ScanDone\", \"Status\")!=\"1\"): print(\"!!!ERROR!!! Scan not done!!!\")\n",
    "        BL_map_THCal[15-row,15-col] = pixel_decoded_register_read(\"BL\", \"Status\", need_int=True)\n",
    "        NW_map_THCal[15-row,15-col] = pixel_decoded_register_read(\"NW\", \"Status\", need_int=True)\n",
    "        # ACC_map_THCal[15-row,15-col]= pixel_decoded_register_read(\"ACC\", \"Status\", need_int=True)\n",
    "        # print(\"Pixel\", row, col, \"ACC\", pixel_decoded_register_read(\"ACC\", \"Status\"), \"BL\", pixel_decoded_register_read(\"BL\", \"Status\"), \"NW\", pixel_decoded_register_read(\"NW\", \"Status\"))\n"
   ]
  },
  {
   "cell_type": "code",
   "execution_count": 104,
   "metadata": {},
   "outputs": [
    {
     "data": {
      "image/png": "[encoded data removed]",
      "text/plain": [
       "<Figure size 600x600 with 4 Axes>"
      ]
     },
     "metadata": {},
     "output_type": "display_data"
    }
   ],
   "source": [
    "fig = plt.figure(dpi=75, figsize=(8,8))\n",
    "gs = fig.add_gridspec(1,2)\n",
    "\n",
    "ax0 = fig.add_subplot(gs[0,0])\n",
    "ax0.set_title(\"BL\")\n",
    "img0 = ax0.imshow(BL_map_THCal, interpolation='none')\n",
    "ax0.set_aspect(\"equal\")\n",
    "ax0.get_yaxis().set_visible(False)\n",
    "ax0.get_xaxis().set_visible(False)\n",
    "divider = make_axes_locatable(ax0)\n",
    "cax = divider.append_axes('right', size=\"5%\", pad=0.05)\n",
    "fig.colorbar(img0, cax=cax, orientation=\"vertical\")\n",
    "\n",
    "ax0 = fig.add_subplot(gs[0,1])\n",
    "ax0.set_title(\"NW\")\n",
    "img0 = ax0.imshow(NW_map_THCal, interpolation='none')\n",
    "ax0.set_aspect(\"equal\")\n",
    "ax0.get_yaxis().set_visible(False)\n",
    "ax0.get_xaxis().set_visible(False)\n",
    "divider = make_axes_locatable(ax0)\n",
    "cax = divider.append_axes('right', size=\"5%\", pad=0.05)\n",
    "fig.colorbar(img0, cax=cax, orientation=\"vertical\")\n",
    "\n",
    "plt.show()"
   ]
  },
  {
   "attachments": {},
   "cell_type": "markdown",
   "metadata": {},
   "source": [
    "## S-curve calibration"
   ]
  },
  {
   "cell_type": "code",
   "execution_count": 106,
   "metadata": {},
   "outputs": [
    {
     "name": "stdout",
     "output_type": "stream",
     "text": [
      "Pixel 5 5\n",
      "Pixel 5 7\n",
      "Pixel 5 12\n",
      "Pixel 7 5\n",
      "Pixel 7 7\n",
      "Pixel 7 12\n",
      "Pixel 12 5\n",
      "Pixel 12 7\n",
      "Pixel 12 12\n"
     ]
    }
   ],
   "source": [
    "DAC_range = np.arange(int(0x340), int(0x375))\n",
    "ACC_map_Scurve = {row:{col:np.zeros_like(DAC_range) for col in range(16)} for row in range(16)}\n",
    "row_indexer_handle,_,_ = chip.get_indexer(\"row\")  # Returns 3 parameters: handle, min, max\n",
    "column_indexer_handle,_,_ = chip.get_indexer(\"column\")\n",
    "# for row in range(16):\n",
    "#     for col in range(16):\n",
    "scan_list = [5,7,12]\n",
    "for row in scan_list:\n",
    "    for col in scan_list:\n",
    "        print(\"Pixel\", row, col)\n",
    "        column_indexer_handle.set(col)\n",
    "        row_indexer_handle.set(row)\n",
    "        for index,DAC in enumerate(DAC_range):\n",
    "            # Maybe required to make this work\n",
    "            # pixel_decoded_register_write(\"enable_TDC\", \"0\")\n",
    "            # pixel_decoded_register_write(\"testMode_TDC\", \"0\")\n",
    "            # Enable THCal clock and buffer and bypass\n",
    "            pixel_decoded_register_write(\"CLKEn_THCal\", \"1\")\n",
    "            pixel_decoded_register_write(\"BufEn_THCal\", \"1\")\n",
    "            pixel_decoded_register_write(\"Bypass_THCal\", \"1\")\n",
    "            # Reset the calibration block (active low)\n",
    "            pixel_decoded_register_write(\"RSTn_THCal\", \"0\")\n",
    "            pixel_decoded_register_write(\"RSTn_THCal\", \"1\")\n",
    "            # Set the DAC value to the value being scanned\n",
    "            pixel_decoded_register_write(\"DAC\", format(DAC, '010b'))\n",
    "            # Start and Stop the calibration, maybe pause for 1ms (25ns x 2**15 ~ 800 us, ACCumulator max is 2**15)\n",
    "            pixel_decoded_register_write(\"ScanStart_THCal\", \"1\")\n",
    "            # time.sleep(.1)\n",
    "            pixel_decoded_register_write(\"ScanStart_THCal\", \"0\")\n",
    "            # Fetch the status registers\n",
    "            if(pixel_decoded_register_read(\"ScanDone\", \"Status\")!=\"1\"): print(\"!!!ERROR!!! Scan not done!!!\")\n",
    "            ACC_map_Scurve[15-row][15-col][index] = pixel_decoded_register_read(\"ACC\", \"Status\", need_int=True)\n"
   ]
  },
  {
   "attachments": {},
   "cell_type": "markdown",
   "metadata": {},
   "source": [
    "## Comparing Auto-THCal with S-curve"
   ]
  },
  {
   "cell_type": "code",
   "execution_count": 107,
   "metadata": {},
   "outputs": [
    {
     "data": {
      "image/png": "[encoded data removed]",
      "text/plain": [
       "<Figure size 800x800 with 9 Axes>"
      ]
     },
     "metadata": {},
     "output_type": "display_data"
    }
   ],
   "source": [
    "fig = plt.figure(dpi=50, figsize=(16,16))\n",
    "gs = fig.add_gridspec(len(scan_list),len(scan_list))\n",
    "for ri,row in enumerate(scan_list):\n",
    "    for ci,col in enumerate(scan_list):\n",
    "        ax0 = fig.add_subplot(gs[len(scan_list)-ri-1,len(scan_list)-ci-1])\n",
    "        ax0.plot(DAC_range, ACC_map_Scurve[15-row][15-col], 'b.-', label=\"S-curve\")\n",
    "        ax0.axvline(BL_map_THCal[15-row][15-col], color='r', label=\"THCal BL\")\n",
    "        ax0.axvline(BL_map_THCal[15-row][15-col]+NW_map_THCal[15-row][15-col], color='k', label=\"THCal NW\")\n",
    "        ax0.axvline(BL_map_THCal[15-row][15-col]-NW_map_THCal[15-row][15-col], color='k')\n",
    "        ax0.set_xlabel(\"DAC Value [decimal]\")\n",
    "        ax0.set_ylabel(\"ACC Value [decimal]\")\n",
    "        ax0.text(0.7, 0.8, f\"Pixel {row},{col}\", transform=ax0.transAxes)\n",
    "        plt.legend(loc=\"lower left\")\n",
    "plt.tight_layout()\n",
    "plt.show()"
   ]
  },
  {
   "attachments": {},
   "cell_type": "markdown",
   "metadata": {},
   "source": [
    "## PIxel ID check"
   ]
  },
  {
   "cell_type": "code",
   "execution_count": 9,
   "metadata": {},
   "outputs": [],
   "source": [
    "Failure_map = np.zeros((16,16))\n",
    "row_indexer_handle,_,_ = chip.get_indexer(\"row\")  # Returns 3 parameters: handle, min, max\n",
    "column_indexer_handle,_,_ = chip.get_indexer(\"column\")\n",
    "for row in range(16):\n",
    "    for col in range(16):\n",
    "        column_indexer_handle.set(col)\n",
    "        row_indexer_handle.set(row)\n",
    "        fetched_row = pixel_decoded_register_read(\"PixelID-Row\", \"Status\", need_int=True)\n",
    "        fetched_col = pixel_decoded_register_read(\"PixelID-Col\", \"Status\", need_int=True)\n",
    "        if(row!=fetched_row or col!=fetched_col):\n",
    "            print(\"Fail!\", row, col, fetched_row, fetched_col)\n",
    "            Failure_map[15-row,15-col] = 1\n"
   ]
  },
  {
   "cell_type": "code",
   "execution_count": 11,
   "metadata": {},
   "outputs": [],
   "source": [
    "fig = plt.figure(dpi=75, figsize=(8,8))\n",
    "gs = fig.add_gridspec(1,1)\n",
    "\n",
    "ax0 = fig.add_subplot(gs[0,0])\n",
    "ax0.set_title(\"Pixel ID Failure Map\")\n",
    "img0 = ax0.imshow(Failure_map, interpolation='none')\n",
    "ax0.set_aspect(\"equal\")\n",
    "ax0.get_yaxis().set_visible(False)\n",
    "ax0.get_xaxis().set_visible(False)\n",
    "divider = make_axes_locatable(ax0)\n",
    "cax = divider.append_axes('right', size=\"5%\", pad=0.05)\n",
    "fig.colorbar(img0, cax=cax, orientation=\"vertical\")\n",
    "\n",
    "plt.show()"
   ]
  },
  {
   "attachments": {},
   "cell_type": "markdown",
   "metadata": {},
   "source": [
    "## Switch off booleans needed for calibration"
   ]
  },
  {
   "attachments": {},
   "cell_type": "markdown",
   "metadata": {},
   "source": [
    "## Disconnect chip"
   ]
  },
  {
   "cell_type": "code",
   "execution_count": 12,
   "metadata": {},
   "outputs": [
    {
     "ename": "",
     "evalue": "",
     "output_type": "error",
     "traceback": [
      "\u001b[1;31mThe Kernel crashed while executing code in the the current cell or a previous cell. Please review the code in the cell(s) to identify a possible cause of the failure. Click <a href='https://aka.ms/vscodeJupyterKernelCrash'>here</a> for more info. View Jupyter <a href='command:jupyter.viewOutput'>log</a> for further details."
     ]
    }
   ],
   "source": [
    "conn.disconnect()"
   ]
  },
  {
   "cell_type": "code",
   "execution_count": null,
   "metadata": {},
   "outputs": [],
   "source": []
  },
  {
   "cell_type": "code",
   "execution_count": null,
   "metadata": {},
   "outputs": [],
   "source": []
  }
 ],
 "metadata": {
  "kernelspec": {
   "display_name": "Python 3",
   "language": "python",
   "name": "python3"
  },
  "language_info": {
   "codemirror_mode": {
    "name": "ipython",
    "version": 3
   },
   "file_extension": ".py",
   "mimetype": "text/x-python",
   "name": "python",
   "nbconvert_exporter": "python",
   "pygments_lexer": "ipython3",
   "version": "3.10.11"
  },
  "orig_nbformat": 4
 },
 "nbformat": 4,
 "nbformat_minor": 2
}
