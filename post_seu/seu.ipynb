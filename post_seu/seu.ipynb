{
 "cells": [
  {
   "cell_type": "code",
   "execution_count": null,
   "metadata": {},
   "outputs": [],
   "source": [
    "#############################################################################\n",
    "# zlib License\n",
    "#\n",
    "# (C) 2023 Zach Flowers, Murtaza Safdari <musafdar@cern.ch>, Cristovao da Cruz e Silva\n",
    "#\n",
    "# This software is provided 'as-is', without any express or implied\n",
    "# warranty.  In no event will the authors be held liable for any damages\n",
    "# arising from the use of this software.\n",
    "#\n",
    "# Permission is granted to anyone to use this software for any purpose,\n",
    "# including commercial applications, and to alter it and redistribute it\n",
    "# freely, subject to the following restrictions:\n",
    "#\n",
    "# 1. The origin of this software must not be misrepresented; you must not\n",
    "#    claim that you wrote the original software. If you use this software\n",
    "#    in a product, an acknowledgment in the product documentation would be\n",
    "#    appreciated but is not required.\n",
    "# 2. Altered source versions must be plainly marked as such, and must not be\n",
    "#    misrepresented as being the original software.\n",
    "# 3. This notice may not be removed or altered from any source distribution.\n",
    "#############################################################################"
   ]
  },
  {
   "cell_type": "code",
   "execution_count": 1,
   "metadata": {},
   "outputs": [],
   "source": [
    "#%%\n",
    "%matplotlib inline\n",
    "import matplotlib.pyplot as plt\n",
    "import logging\n",
    "import i2c_gui\n",
    "import i2c_gui.chips\n",
    "from i2c_gui.usb_iss_helper import USB_ISS_Helper\n",
    "from i2c_gui.fpga_eth_helper import FPGA_ETH_Helper\n",
    "import numpy as np\n",
    "from mpl_toolkits.axes_grid1 import make_axes_locatable\n",
    "# import time\n",
    "from tqdm import tqdm\n",
    "# from i2c_gui.chips.etroc2_chip import register_decoding\n",
    "import os, sys\n",
    "import multiprocessing\n",
    "import datetime\n",
    "import pandas\n",
    "from pathlib import Path\n",
    "import subprocess\n",
    "import sqlite3\n",
    "from notebooks.notebook_helpers import *\n",
    "from fnmatch import fnmatch\n",
    "import scipy.stats as stats\n",
    "from math import ceil\n",
    "from numpy import savetxt\n",
    "\n",
    "os.chdir(f'/home/{os.getlogin()}/ETROC2/ETROC_DAQ')\n",
    "import run_script\n",
    "import parser_arguments\n",
    "import importlib\n",
    "importlib.reload(run_script)\n",
    "\n",
    "\n",
    "from scripts.log_action import log_action_v2"
   ]
  },
  {
   "cell_type": "code",
   "execution_count": 2,
   "metadata": {},
   "outputs": [
    {
     "data": {
      "text/plain": [
       "<Figure size 1000x1000 with 0 Axes>"
      ]
     },
     "metadata": {},
     "output_type": "display_data"
    }
   ],
   "source": [
    "#%%\n",
    "%matplotlib inline\n",
    "import matplotlib.pyplot as plt\n",
    "plt.figure()\n",
    "plt.show()"
   ]
  },
  {
   "attachments": {},
   "cell_type": "markdown",
   "metadata": {},
   "source": [
    "# Set defaults"
   ]
  },
  {
   "cell_type": "code",
   "execution_count": 29,
   "metadata": {},
   "outputs": [],
   "source": [
    "# !!!!!!!!!!!!\n",
    "# It is very important to correctly set the chip name, this value is stored with the data\n",
    "chip_names = [\"ET2_Bare_2\", \"ET2_Bare_3\"]\n",
    "chip_fignames = [\"ETROC 2.01 Bare Board 2\", \"ETROC 2.01 Bare Board 3\"]\n",
    "\n",
    "#chip_names = [\"ET2_Bare_4\"]\n",
    "#chip_fignames = [\"ETROC 2.01 Bare Board 4\"]\n",
    "\n",
    "chip_figtitles = chip_names\n",
    "\n",
    "# 'The port name the USB-ISS module is connected to. Default: /dev/ttyACM0'\n",
    "port = \"/dev/ttyACM0\"\n",
    "# I2C addresses for the pixel block and WS\n",
    "chip_addresses = [0x60, 0x61]\n",
    "#chip_addresses = [0x60]\n",
    "ws_addresses = [None, None]\n",
    "\n",
    "fig_outdir = Path('../ETROC-figures')\n",
    "fig_outdir = fig_outdir / (datetime.date.today().isoformat() + '_Array_Test_Results')\n",
    "fig_outdir.mkdir(exist_ok=True)\n",
    "fig_path = str(fig_outdir)\n",
    "\n",
    "config_outdir = Path('../ETROC-Data')\n",
    "config_outdir = config_outdir / \"ChipConfig\"\n",
    "config_outdir.mkdir(exist_ok=True)\n",
    "\n",
    "log_path = Path(f'/home/{os.getlogin()}/ETROC2/i2c_gui')\n",
    "\n",
    "full_col_list, full_row_list = np.meshgrid(np.arange(16),np.arange(16))\n",
    "full_scan_list = list(zip(full_row_list.flatten(),full_col_list.flatten()))"
   ]
  },
  {
   "attachments": {},
   "cell_type": "markdown",
   "metadata": {},
   "source": [
    "# Make i2c_connection class object"
   ]
  },
  {
   "cell_type": "code",
   "execution_count": 30,
   "metadata": {},
   "outputs": [],
   "source": [
    "# i2c_conn = self, port, chip_addresses, chip_names, chip_fc_delays\n",
    "i2c_conn = i2c_connection(port,chip_addresses,ws_addresses,chip_names,[(\"1\",\"1\"),(\"1\",\"1\")])"
   ]
  },
  {
   "attachments": {},
   "cell_type": "markdown",
   "metadata": {},
   "source": [
    "# Config chips"
   ]
  },
  {
   "attachments": {},
   "cell_type": "markdown",
   "metadata": {},
   "source": [
    "## Key is (Disable Pixels, Auto Cal, Chip Peripherals, Basic Peri Reg Check, Pixel Check)"
   ]
  },
  {
   "cell_type": "code",
   "execution_count": 31,
   "metadata": {},
   "outputs": [
    {
     "name": "stdout",
     "output_type": "stream",
     "text": [
      "Passed pixel check for chip: 0x60\n",
      "Peripherals set for chip: 0x60\n",
      "Disabled pixels for chip: 0x60\n",
      "Passed pixel check for chip: 0x61\n",
      "Peripherals set for chip: 0x61\n",
      "Disabled pixels for chip: 0x61\n"
     ]
    },
    {
     "name": "stderr",
     "output_type": "stream",
     "text": [
      "Calibrating row: 100%|██████████| 16/16 [01:31<00:00,  5.70s/it]\n"
     ]
    },
    {
     "name": "stdout",
     "output_type": "stream",
     "text": [
      "Auto calibration finished for chip: 0x60\n"
     ]
    },
    {
     "name": "stderr",
     "output_type": "stream",
     "text": [
      "Calibrating row: 100%|██████████| 16/16 [01:31<00:00,  5.70s/it]"
     ]
    },
    {
     "name": "stdout",
     "output_type": "stream",
     "text": [
      "Auto calibration finished for chip: 0x61\n"
     ]
    },
    {
     "name": "stderr",
     "output_type": "stream",
     "text": [
      "\n"
     ]
    }
   ],
   "source": [
    "# (WS Prep Pixel and Peri) - 0 - (disable & auto_cal all pixels) - (auto_TH_CAL) - (disable default all pixels) - (set basic peripherals) - (peripheral reg check) -  (pixel ID check)\n",
    "log_action_v2(log_path, \"DAQ\", \"Config\", \"Initial\")\n",
    "i2c_conn.config_chips('00001101')\n",
    "for address in chip_addresses:\n",
    "    log_action_v2(log_path, \"DAQ\", \"Config\", \"High Power\")\n",
    "    i2c_conn.set_power_mode_scan_list(address, full_scan_list, 'high')\n",
    "log_action_v2(log_path, \"DAQ\", \"Config\", \"Baseline\")\n",
    "i2c_conn.config_chips('00010000')\n",
    "log_action_v2(log_path, \"DAQ\", \"Config\", \"Done\")"
   ]
  },
  {
   "attachments": {},
   "cell_type": "markdown",
   "metadata": {},
   "source": [
    "## Dump I2C Config\n"
   ]
  },
  {
   "cell_type": "code",
   "execution_count": 32,
   "metadata": {},
   "outputs": [
    {
     "name": "stderr",
     "output_type": "stream",
     "text": [
      "2024-02-13 20:20:48,354 - ERROR:Script_Logger:GUI Message of type Error: Unable to read address space 'Waveform Sampler' because the i2c address is not set\n",
      "2024-02-13 20:22:28,537 - ERROR:Script_Logger:GUI Message of type Error: Unable to read address space 'Waveform Sampler' because the i2c address is not set\n"
     ]
    }
   ],
   "source": [
    "i2c_conn.dump_config(config_outdir, \"FirstSetup_Feb13_SEUEquivalence\")"
   ]
  },
  {
   "attachments": {},
   "cell_type": "markdown",
   "metadata": {},
   "source": [
    "## Visualize the learned Baselines (BL) and Noise Widths (NW)\n",
    "\n",
    "Note that the NW represents the full width on either side of the BL"
   ]
  },
  {
   "cell_type": "code",
   "execution_count": 33,
   "metadata": {},
   "outputs": [],
   "source": [
    "def make_baselines(do_config = True, power_mode = 'high', calibrate_chip=True, calibrate_pixels=None):\n",
    "    if do_config:\n",
    "        log_action_v2(log_path, \"DAQ\", \"Config\", \"Basic and Disable\")\n",
    "        i2c_conn.config_chips('00001100')\n",
    "        for address in chip_addresses:\n",
    "            if power_mode == 'low':\n",
    "                log_action_v2(log_path, \"DAQ\", \"Config\", \"Low Power\")\n",
    "            elif power_mode == 'high':\n",
    "                log_action_v2(log_path, \"DAQ\", \"Config\", \"High Power\")\n",
    "            else:\n",
    "                log_action_v2(log_path, \"DAQ\", \"Config\", \"Set Power\")\n",
    "            i2c_conn.set_power_mode_scan_list(address, full_scan_list, power_mode = power_mode)\n",
    "\n",
    "    histdir = Path('/media/daq/T7/ETROC-History-SEUEquivalence')\n",
    "    histdir.mkdir(exist_ok=True)\n",
    "    histfile = histdir / 'BaselineHistory.sqlite'\n",
    "\n",
    "    log_action_v2(log_path, \"DAQ\", \"Config\", \"Baseline\")\n",
    "    if(calibrate_chip): i2c_conn.config_chips('00010000')\n",
    "    elif(calibrate_pixels is not None):\n",
    "        data = []\n",
    "        for aidx,address in enumerate(chip_addresses):\n",
    "            for row,col in calibrate_pixels:\n",
    "                i2c_conn.auto_cal_pixel(chip_name=chip_names[aidx], row=row, col=col, verbose=True, chip_address=address, data=data)\n",
    "        BL_df = pandas.DataFrame(data = data)\n",
    "        with sqlite3.connect(histfile) as sqlconn:\n",
    "            BL_df.to_sql('baselines', sqlconn, if_exists='append', index=False)\n",
    "        del data, BL_df\n",
    "        return\n",
    "    \n",
    "    log_action_v2(log_path, \"DAQ\", \"Config\", \"Done\")\n",
    "\n",
    "    # from mpl_toolkits.axes_grid1 import make_axes_locatable\n",
    "    for chip_address, chip_figname, chip_figtitle in zip(chip_addresses,chip_fignames,chip_fignames):\n",
    "        BL_map_THCal,NW_map_THCal,BL_df,_ = i2c_conn.get_auto_cal_maps(chip_address)\n",
    "        fig = plt.figure(dpi=200, figsize=(20,10))\n",
    "        gs = fig.add_gridspec(1,2)\n",
    "\n",
    "        ax0 = fig.add_subplot(gs[0,0])\n",
    "        ax0.set_title(f\"{chip_figtitle}: BL (DAC LSB)\", size=17, loc=\"right\")\n",
    "        img0 = ax0.imshow(BL_map_THCal, interpolation='none')\n",
    "        ax0.set_aspect(\"equal\")\n",
    "        ax0.invert_xaxis()\n",
    "        ax0.invert_yaxis()\n",
    "        plt.xticks(range(16), range(16), rotation=\"vertical\")\n",
    "        plt.yticks(range(16), range(16))\n",
    "        hep.cms.text(loc=0, ax=ax0, fontsize=17, text=\"Preliminary\")\n",
    "        divider = make_axes_locatable(ax0)\n",
    "        cax = divider.append_axes('right', size=\"5%\", pad=0.05)\n",
    "        fig.colorbar(img0, cax=cax, orientation=\"vertical\")\n",
    "\n",
    "        ax1 = fig.add_subplot(gs[0,1])\n",
    "        ax1.set_title(f\"{chip_figtitle}: NW (DAC LSB)\", size=17, loc=\"right\")\n",
    "        img1 = ax1.imshow(NW_map_THCal, interpolation='none')\n",
    "        ax1.set_aspect(\"equal\")\n",
    "        ax1.invert_xaxis()\n",
    "        ax1.invert_yaxis()\n",
    "        plt.xticks(range(16), range(16), rotation=\"vertical\")\n",
    "        plt.yticks(range(16), range(16))\n",
    "        hep.cms.text(loc=0, ax=ax1, fontsize=17, text=\"Preliminary\")\n",
    "        divider = make_axes_locatable(ax1)\n",
    "        cax = divider.append_axes('right', size=\"5%\", pad=0.05)\n",
    "        fig.colorbar(img1, cax=cax, orientation=\"vertical\")\n",
    "\n",
    "        timestamp = datetime.datetime.now().strftime(\"%Y-%m-%d_%H-%M\")\n",
    "\n",
    "        for x in range(16):\n",
    "            for y in range(16):\n",
    "                ax0.text(x,y,f\"{BL_map_THCal.T[x,y]:.0f}\", c=\"white\", size=10, rotation=45, fontweight=\"bold\", ha=\"center\", va=\"center\")\n",
    "                ax1.text(x,y,f\"{NW_map_THCal.T[x,y]:.0f}\", c=\"white\", size=10, rotation=45, fontweight=\"bold\", ha=\"center\", va=\"center\")\n",
    "        plt.tight_layout()\n",
    "        plt.savefig(fig_path+\"/BL_NW_\"+chip_figname+\"_\"+timestamp+\".png\")\n",
    "        plt.show()\n",
    "\n",
    "        with sqlite3.connect(histfile) as sqlconn:\n",
    "            BL_df.to_sql('baselines', sqlconn, if_exists='append', index=False)\n",
    "        # savetxt(histdir / f'{chip_figname}_BL_{timestamp}.csv', BL_map_THCal, delimiter=',')\n",
    "        # savetxt(histdir / f'{chip_figname}_NW_{timestamp}.csv', NW_map_THCal, delimiter=',')\n",
    "\n",
    "    time.sleep(1)"
   ]
  },
  {
   "cell_type": "code",
   "execution_count": 34,
   "metadata": {},
   "outputs": [
    {
     "name": "stdout",
     "output_type": "stream",
     "text": [
      "Peripherals set for chip: 0x60\n",
      "Disabled pixels for chip: 0x60\n",
      "Peripherals set for chip: 0x61\n",
      "Disabled pixels for chip: 0x61\n"
     ]
    },
    {
     "name": "stderr",
     "output_type": "stream",
     "text": [
      "Calibrating row: 100%|██████████| 16/16 [02:41<00:00, 10.08s/it]\n"
     ]
    },
    {
     "name": "stdout",
     "output_type": "stream",
     "text": [
      "Auto calibration finished for chip: 0x60\n"
     ]
    },
    {
     "name": "stderr",
     "output_type": "stream",
     "text": [
      "Calibrating row: 100%|██████████| 16/16 [02:39<00:00,  9.95s/it]\n"
     ]
    },
    {
     "name": "stdout",
     "output_type": "stream",
     "text": [
      "Auto calibration finished for chip: 0x61\n"
     ]
    }
   ],
   "source": [
    "make_baselines(True)"
   ]
  },
  {
   "attachments": {},
   "cell_type": "markdown",
   "metadata": {},
   "source": [
    "# Define Utility Functions"
   ]
  },
  {
   "cell_type": "code",
   "execution_count": 35,
   "metadata": {},
   "outputs": [],
   "source": [
    "def do_pixel_operations(scan_list, board_offsets=None, noisy_pixels=None, power_mode='high'):\n",
    "    log_action_v2(log_path, \"DAQ\", \"Config\", \"Pixel Operations\")\n",
    "    i2c_conn.enable_select_pixels_in_chips(scan_list,QInjEn=True,Bypass_THCal=False,specified_addresses=chip_addresses[:], power_mode=power_mode)\n",
    "\n",
    "    # offset = 0x0f\n",
    "    # for chip_address in chip_addresses[:]:\n",
    "    #     chip = i2c_conn.get_chip_i2c_connection(chip_address)\n",
    "    #     row_indexer_handle,_,_ = chip.get_indexer(\"row\")\n",
    "    #     column_indexer_handle,_,_ = chip.get_indexer(\"column\")\n",
    "    #     for row, col in scan_list:\n",
    "    #         print(f\"Operating on chip {hex(chip_address)} Pixel ({row},{col})\")\n",
    "    #         column_indexer_handle.set(col)\n",
    "    #         row_indexer_handle.set(row)\n",
    "    #         i2c_conn.pixel_decoded_register_write(\"TH_offset\", format(offset, '06b'), chip)\n",
    "    #     del chip, row_indexer_handle, column_indexer_handle\n",
    "\n",
    "    if board_offsets is not None:\n",
    "        time.sleep(1)\n",
    "\n",
    "        for chip_address in chip_addresses[:]:\n",
    "            if chip_address not in board_offsets:\n",
    "                continue\n",
    "\n",
    "            chip = i2c_conn.get_chip_i2c_connection(chip_address)\n",
    "            row_indexer_handle,_,_ = chip.get_indexer(\"row\")\n",
    "            column_indexer_handle,_,_ = chip.get_indexer(\"column\")\n",
    "            for row, col in scan_list:\n",
    "                print(f\"Operating on chip {hex(chip_address)} Pixel ({row},{col}) Setting Offset to {board_offsets[chip_address]}\")\n",
    "                column_indexer_handle.set(col)\n",
    "                row_indexer_handle.set(row)\n",
    "                i2c_conn.pixel_decoded_register_write(\"QSel\", format(0x1e, '05b'), chip)\n",
    "                i2c_conn.pixel_decoded_register_write(\"TH_offset\", format(board_offsets[chip_address], '06b'), chip)\n",
    "            del chip, row_indexer_handle, column_indexer_handle\n",
    "\n",
    "    if noisy_pixels is not None:\n",
    "        time.sleep(1)\n",
    "\n",
    "        for chip_address in chip_addresses:\n",
    "            if chip_address not in noisy_pixels:\n",
    "                continue\n",
    "            chip = i2c_conn.get_chip_i2c_connection(chip_address)\n",
    "            row_indexer_handle,_,_ = chip.get_indexer(\"row\")\n",
    "            column_indexer_handle,_,_ = chip.get_indexer(\"column\")\n",
    "            for row, col in noisy_pixels[chip_address]:\n",
    "                print(f\"Masking from trigger of chip {hex(chip_address)} Pixel ({row},{col})\")\n",
    "                column_indexer_handle.set(col)\n",
    "                row_indexer_handle.set(row)\n",
    "\n",
    "                i2c_conn.pixel_decoded_register_write(\"disTrigPath\", \"1\", chip)\n",
    "                #i2c_conn.pixel_decoded_register_write(\"DAC\", format(1023, '010b'), chip)\n",
    "                #i2c_conn.pixel_decoded_register_write(\"Bypass_THCal\", \"1\", chip)\n",
    "\n",
    "    time.sleep(1)"
   ]
  },
  {
   "cell_type": "code",
   "execution_count": 36,
   "metadata": {},
   "outputs": [],
   "source": [
    "self_trigger_delay = 484\n",
    "#LED_pages = [\"0x0000\",\"0x0004\",\"0x0008\",\"0x000C\"] # LED pages to cycle through\n",
    "LED_pages = [\"0x0000\", \"0x0004\"] # LED pages to cycle through\n",
    "active_channels = \"0x0003\"\n",
    "polarity = \"0x0027\" # or \"0x0023\"\n",
    "hostname = \"192.168.2.3\""
   ]
  },
  {
   "cell_type": "code",
   "execution_count": 37,
   "metadata": {},
   "outputs": [],
   "source": [
    "def run_daq(trigger_board, trigger_board_name, run_number, total_time, daq_time, run_options=\"--compressed_binary --skip_translation -v\", allow_overwrite = False, reset_string = \"--check_valid_data_start --clear_fifo\"):\n",
    "    out_dir = Path('/media/daq/T7/ETROC-Data')\n",
    "    if not out_dir.exists():\n",
    "        raise RuntimeError(\"The base output directory does not exist... there may be a script config problem\")\n",
    "    if not allow_overwrite:\n",
    "        run_dir = out_dir / f\"Run_{run_number}\"\n",
    "        if run_dir.exists():\n",
    "            raise RuntimeError(\"Run directory already exists, I am not going to overwrite\")\n",
    "\n",
    "    trigger_bit_delay = int(trigger_board+'11'+format(self_trigger_delay, '010b'), base=2)\n",
    "    trigger_bit_delay = 0x3800\n",
    "    process_time = daq_time + 5\n",
    "    iterations = ceil(total_time/process_time)\n",
    "    LED_id = 0\n",
    "\n",
    "    for it in range(iterations):\n",
    "        LED_page = LED_pages[LED_id]\n",
    "        LED_id += 1\n",
    "        if LED_id >= len(LED_pages): LED_id = 0\n",
    "        reset_string = \"--check_valid_data_start\"\n",
    "        if(it==0): reset_string = reset_string\n",
    "        parser = parser_arguments.create_parser()\n",
    "        (options, args) = parser.parse_args(args=f\"-f --useIPC --hostname {hostname} -t {process_time} --run_name Run_{run_number} -o loop_{it} -w -s {LED_page} -p {polarity} -d {trigger_bit_delay} -a {active_channels} {run_options} --ssd --start_DAQ_pulse --stop_DAQ_pulse {reset_string}\".split())\n",
    "        IPC_queue = multiprocessing.Queue()\n",
    "        process = multiprocessing.Process(target=run_script.main_process, args=(IPC_queue, options, f'main_process_Run_{run_number}_loop_{it}'))\n",
    "        process.start()\n",
    "\n",
    "        IPC_queue.put('memoFC Start Triggerbit BCR L1A QInj')\n",
    "        while not IPC_queue.empty():\n",
    "            pass\n",
    "        time.sleep(daq_time)\n",
    "        IPC_queue.put('stop DAQ')\n",
    "        IPC_queue.put('memoFC Triggerbit')\n",
    "        while not IPC_queue.empty():\n",
    "            pass\n",
    "        IPC_queue.put('allow threads to exit')\n",
    "        process.join()\n",
    "\n",
    "        del IPC_queue, process, parser"
   ]
  },
  {
   "attachments": {},
   "cell_type": "markdown",
   "metadata": {},
   "source": [
    "# Run DAQ"
   ]
  },
  {
   "cell_type": "code",
   "execution_count": 38,
   "metadata": {},
   "outputs": [],
   "source": [
    "trigger_board = '0001'\n",
    "trigger_board_name = chip_names[0]\n",
    "\n",
    "col_list = [8, 2, 8, 2]\n",
    "row_list = [0, 0, 2, 2]\n",
    "# col_list = [8, 2, 8]\n",
    "# row_list = [0, 0, 2]\n",
    "# col_list = [8, 2]\n",
    "# row_list = [0, 0]\n",
    "# col_list = [8]\n",
    "# row_list = [0]\n",
    "#col_list = []\n",
    "#row_list = []\n",
    "scan_list = list(zip(row_list, col_list))\n",
    "\n",
    "board_offsets = {\n",
    "    0x60: 0x14,\n",
    "    0x61: 0x14,\n",
    "    #0x62: 0x0f,\n",
    "    #0x64: 0x0a,\n",
    "}\n",
    "noisy_pixels = {\n",
    "    #0x60: [ # (row, col)\n",
    "    #    (10, 8),\n",
    "    #    (13, 4),\n",
    "    #],\n",
    "}\n",
    "power_mode = 'high'"
   ]
  },
  {
   "attachments": {},
   "cell_type": "markdown",
   "metadata": {},
   "source": [
    "## Pixel Operations"
   ]
  },
  {
   "cell_type": "code",
   "execution_count": 39,
   "metadata": {},
   "outputs": [
    {
     "name": "stdout",
     "output_type": "stream",
     "text": [
      "Peripherals set for chip: 0x60\n",
      "Disabled pixels for chip: 0x60\n",
      "Peripherals set for chip: 0x61\n",
      "Disabled pixels for chip: 0x61\n",
      "Auto calibration done (TDC=0 + DAC=BL) for pixel (0,8) on chip: 0x60\n",
      "Auto calibration done (TDC=0 + DAC=BL) for pixel (0,2) on chip: 0x60\n",
      "Auto calibration done (TDC=0 + DAC=BL) for pixel (2,8) on chip: 0x60\n",
      "Auto calibration done (TDC=0 + DAC=BL) for pixel (2,2) on chip: 0x60\n",
      "Auto calibration done (TDC=0 + DAC=BL) for pixel (0,8) on chip: 0x61\n",
      "Auto calibration done (TDC=0 + DAC=BL) for pixel (0,2) on chip: 0x61\n",
      "Auto calibration done (TDC=0 + DAC=BL) for pixel (2,8) on chip: 0x61\n",
      "Auto calibration done (TDC=0 + DAC=BL) for pixel (2,2) on chip: 0x61\n",
      "Enabled pixel (0,8) for chip: 0x60\n",
      "Enabled pixel (0,2) for chip: 0x60\n",
      "Enabled pixel (2,8) for chip: 0x60\n",
      "Enabled pixel (2,2) for chip: 0x60\n",
      "Enabled pixel (0,8) for chip: 0x61\n",
      "Enabled pixel (0,2) for chip: 0x61\n",
      "Enabled pixel (2,8) for chip: 0x61\n",
      "Enabled pixel (2,2) for chip: 0x61\n",
      "Operating on chip 0x60 Pixel (0,8) Setting Offset to 20\n",
      "Operating on chip 0x60 Pixel (0,2) Setting Offset to 20\n",
      "Operating on chip 0x60 Pixel (2,8) Setting Offset to 20\n",
      "Operating on chip 0x60 Pixel (2,2) Setting Offset to 20\n",
      "Operating on chip 0x61 Pixel (0,8) Setting Offset to 20\n",
      "Operating on chip 0x61 Pixel (0,2) Setting Offset to 20\n",
      "Operating on chip 0x61 Pixel (2,8) Setting Offset to 20\n",
      "Operating on chip 0x61 Pixel (2,2) Setting Offset to 20\n"
     ]
    }
   ],
   "source": [
    "make_baselines(do_config = True, power_mode = power_mode, calibrate_chip=False, calibrate_pixels=scan_list)\n",
    "do_pixel_operations(scan_list, board_offsets = board_offsets, noisy_pixels = noisy_pixels, power_mode = power_mode)"
   ]
  },
  {
   "cell_type": "markdown",
   "metadata": {},
   "source": [
    "# Calibrate FC for all I2C"
   ]
  },
  {
   "cell_type": "code",
   "execution_count": 40,
   "metadata": {},
   "outputs": [
    {
     "name": "stdout",
     "output_type": "stream",
     "text": [
      "Reset Global Readout done for chip: 0x60\n",
      "asyAlignFastcommand action done for chip: 0x60\n",
      "Reset Global Readout done for chip: 0x61\n",
      "asyAlignFastcommand action done for chip: 0x61\n",
      "Reset Global Readout done for chip: 0x60\n",
      "asyAlignFastcommand action done for chip: 0x60\n",
      "Reset Global Readout done for chip: 0x61\n",
      "asyAlignFastcommand action done for chip: 0x61\n"
     ]
    }
   ],
   "source": [
    "time.sleep(2)\n",
    "for chip_address in chip_addresses[:]:\n",
    "    i2c_conn.asyResetGlobalReadout(chip_address, chip=None)\n",
    "    i2c_conn.asyAlignFastcommand(chip_address, chip=None)\n",
    "time.sleep(2)\n",
    "for chip_address in chip_addresses[:]:\n",
    "    i2c_conn.asyResetGlobalReadout(chip_address, chip=None)\n",
    "    i2c_conn.asyAlignFastcommand(chip_address, chip=None)"
   ]
  },
  {
   "cell_type": "markdown",
   "metadata": {},
   "source": [
    "# Calibrate PLL"
   ]
  },
  {
   "cell_type": "code",
   "execution_count": 20,
   "metadata": {},
   "outputs": [
    {
     "name": "stdout",
     "output_type": "stream",
     "text": [
      "PLL Calibrated for chip: 0x60\n",
      "PLL Calibrated for chip: 0x61\n"
     ]
    }
   ],
   "source": [
    "for chip_address in chip_addresses[:]:\n",
    "    i2c_conn.calibratePLL(chip_address, chip=None)"
   ]
  },
  {
   "attachments": {},
   "cell_type": "markdown",
   "metadata": {},
   "source": [
    "## Short Run for testing"
   ]
  },
  {
   "cell_type": "code",
   "execution_count": 41,
   "metadata": {},
   "outputs": [],
   "source": [
    "# run_daq(trigger_board=trigger_board, trigger_board_name=trigger_board_name, run_number=\"Test_short_Jan27_1\", total_time=1, daq_time=30, allow_overwrite=True, run_options=\"--compressed_binary -v\", reset_string=\"--check_valid_data_start --clear_fifo\")\n",
    "log_action_v2(log_path, \"DAQ\", \"Run\", \"Test Start\")\n",
    "run_daq(trigger_board=trigger_board, trigger_board_name=trigger_board_name, run_number=\"Test_short_Feb13_12\", total_time=1, daq_time=10, allow_overwrite=True, run_options=\"--compressed_binary -v\", reset_string=\"--check_valid_data_start --clear_fifo\")\n",
    "log_action_v2(log_path, \"DAQ\", \"Run\", \"Test Stop\")"
   ]
  },
  {
   "cell_type": "markdown",
   "metadata": {},
   "source": [
    "## SEU Equivalence\n",
    "(only for running long tests outside of SEU)"
   ]
  },
  {
   "cell_type": "code",
   "execution_count": 42,
   "metadata": {},
   "outputs": [
    {
     "name": "stdout",
     "output_type": "stream",
     "text": [
      "Peripherals set for chip: 0x60\n",
      "Disabled pixels for chip: 0x60\n",
      "Peripherals set for chip: 0x61\n",
      "Disabled pixels for chip: 0x61\n",
      "Auto calibration done (TDC=0 + DAC=BL) for pixel (0,8) on chip: 0x60\n",
      "Auto calibration done (TDC=0 + DAC=BL) for pixel (0,2) on chip: 0x60\n",
      "Auto calibration done (TDC=0 + DAC=BL) for pixel (2,8) on chip: 0x60\n",
      "Auto calibration done (TDC=0 + DAC=BL) for pixel (2,2) on chip: 0x60\n",
      "Auto calibration done (TDC=0 + DAC=BL) for pixel (0,8) on chip: 0x61\n",
      "Auto calibration done (TDC=0 + DAC=BL) for pixel (0,2) on chip: 0x61\n",
      "Auto calibration done (TDC=0 + DAC=BL) for pixel (2,8) on chip: 0x61\n",
      "Auto calibration done (TDC=0 + DAC=BL) for pixel (2,2) on chip: 0x61\n",
      "Enabled pixel (0,8) for chip: 0x60\n",
      "Enabled pixel (0,2) for chip: 0x60\n",
      "Enabled pixel (2,8) for chip: 0x60\n",
      "Enabled pixel (2,2) for chip: 0x60\n",
      "Enabled pixel (0,8) for chip: 0x61\n",
      "Enabled pixel (0,2) for chip: 0x61\n",
      "Enabled pixel (2,8) for chip: 0x61\n",
      "Enabled pixel (2,2) for chip: 0x61\n",
      "Operating on chip 0x60 Pixel (0,8) Setting Offset to 20\n",
      "Operating on chip 0x60 Pixel (0,2) Setting Offset to 20\n",
      "Operating on chip 0x60 Pixel (2,8) Setting Offset to 20\n",
      "Operating on chip 0x60 Pixel (2,2) Setting Offset to 20\n",
      "Operating on chip 0x61 Pixel (0,8) Setting Offset to 20\n",
      "Operating on chip 0x61 Pixel (0,2) Setting Offset to 20\n",
      "Operating on chip 0x61 Pixel (2,8) Setting Offset to 20\n",
      "Operating on chip 0x61 Pixel (2,2) Setting Offset to 20\n"
     ]
    },
    {
     "name": "stderr",
     "output_type": "stream",
     "text": [
      "2024-02-13 20:34:36,022 - ERROR:Script_Logger:GUI Message of type Error: Unable to read address space 'Waveform Sampler' because the i2c address is not set\n",
      "2024-02-13 20:36:16,252 - ERROR:Script_Logger:GUI Message of type Error: Unable to read address space 'Waveform Sampler' because the i2c address is not set\n"
     ]
    },
    {
     "name": "stdout",
     "output_type": "stream",
     "text": [
      "Run SEUEquivalenceFeb13_0 started at: 2024-02-13 20:36:36.317005\n",
      "Run SEUEquivalenceFeb13_0 ended at: 2024-02-13 20:39:42.738137\n"
     ]
    },
    {
     "name": "stderr",
     "output_type": "stream",
     "text": [
      "2024-02-13 20:41:22,919 - ERROR:Script_Logger:GUI Message of type Error: Unable to read address space 'Waveform Sampler' because the i2c address is not set\n",
      "2024-02-13 20:43:03,091 - ERROR:Script_Logger:GUI Message of type Error: Unable to read address space 'Waveform Sampler' because the i2c address is not set\n"
     ]
    },
    {
     "name": "stdout",
     "output_type": "stream",
     "text": [
      "Peripherals set for chip: 0x60\n",
      "Disabled pixels for chip: 0x60\n",
      "Peripherals set for chip: 0x61\n",
      "Disabled pixels for chip: 0x61\n",
      "Auto calibration done (TDC=0 + DAC=BL) for pixel (0,8) on chip: 0x60\n",
      "Auto calibration done (TDC=0 + DAC=BL) for pixel (0,2) on chip: 0x60\n",
      "Auto calibration done (TDC=0 + DAC=BL) for pixel (2,8) on chip: 0x60\n",
      "Auto calibration done (TDC=0 + DAC=BL) for pixel (2,2) on chip: 0x60\n",
      "Auto calibration done (TDC=0 + DAC=BL) for pixel (0,8) on chip: 0x61\n",
      "Auto calibration done (TDC=0 + DAC=BL) for pixel (0,2) on chip: 0x61\n",
      "Auto calibration done (TDC=0 + DAC=BL) for pixel (2,8) on chip: 0x61\n",
      "Auto calibration done (TDC=0 + DAC=BL) for pixel (2,2) on chip: 0x61\n",
      "Enabled pixel (0,8) for chip: 0x60\n",
      "Enabled pixel (0,2) for chip: 0x60\n",
      "Enabled pixel (2,8) for chip: 0x60\n",
      "Enabled pixel (2,2) for chip: 0x60\n",
      "Enabled pixel (0,8) for chip: 0x61\n",
      "Enabled pixel (0,2) for chip: 0x61\n",
      "Enabled pixel (2,8) for chip: 0x61\n",
      "Enabled pixel (2,2) for chip: 0x61\n",
      "Operating on chip 0x60 Pixel (0,8) Setting Offset to 20\n",
      "Operating on chip 0x60 Pixel (0,2) Setting Offset to 20\n",
      "Operating on chip 0x60 Pixel (2,8) Setting Offset to 20\n",
      "Operating on chip 0x60 Pixel (2,2) Setting Offset to 20\n",
      "Operating on chip 0x61 Pixel (0,8) Setting Offset to 20\n",
      "Operating on chip 0x61 Pixel (0,2) Setting Offset to 20\n",
      "Operating on chip 0x61 Pixel (2,8) Setting Offset to 20\n",
      "Operating on chip 0x61 Pixel (2,2) Setting Offset to 20\n"
     ]
    },
    {
     "name": "stderr",
     "output_type": "stream",
     "text": [
      "2024-02-13 20:46:33,034 - ERROR:Script_Logger:GUI Message of type Error: Unable to read address space 'Waveform Sampler' because the i2c address is not set\n",
      "2024-02-13 20:48:12,993 - ERROR:Script_Logger:GUI Message of type Error: Unable to read address space 'Waveform Sampler' because the i2c address is not set\n"
     ]
    },
    {
     "name": "stdout",
     "output_type": "stream",
     "text": [
      "Run SEUEquivalenceFeb13_1 started at: 2024-02-13 20:48:33.065728\n",
      "Run SEUEquivalenceFeb13_1 ended at: 2024-02-13 20:51:39.578956\n"
     ]
    },
    {
     "name": "stderr",
     "output_type": "stream",
     "text": [
      "2024-02-13 20:53:19,703 - ERROR:Script_Logger:GUI Message of type Error: Unable to read address space 'Waveform Sampler' because the i2c address is not set\n",
      "2024-02-13 20:54:59,767 - ERROR:Script_Logger:GUI Message of type Error: Unable to read address space 'Waveform Sampler' because the i2c address is not set\n"
     ]
    },
    {
     "name": "stdout",
     "output_type": "stream",
     "text": [
      "Peripherals set for chip: 0x60\n",
      "Disabled pixels for chip: 0x60\n",
      "Peripherals set for chip: 0x61\n",
      "Disabled pixels for chip: 0x61\n",
      "Auto calibration done (TDC=0 + DAC=BL) for pixel (0,8) on chip: 0x60\n",
      "Auto calibration done (TDC=0 + DAC=BL) for pixel (0,2) on chip: 0x60\n",
      "Auto calibration done (TDC=0 + DAC=BL) for pixel (2,8) on chip: 0x60\n",
      "Auto calibration done (TDC=0 + DAC=BL) for pixel (2,2) on chip: 0x60\n",
      "Auto calibration done (TDC=0 + DAC=BL) for pixel (0,8) on chip: 0x61\n",
      "Auto calibration done (TDC=0 + DAC=BL) for pixel (0,2) on chip: 0x61\n",
      "Auto calibration done (TDC=0 + DAC=BL) for pixel (2,8) on chip: 0x61\n",
      "Auto calibration done (TDC=0 + DAC=BL) for pixel (2,2) on chip: 0x61\n",
      "Enabled pixel (0,8) for chip: 0x60\n",
      "Enabled pixel (0,2) for chip: 0x60\n",
      "Enabled pixel (2,8) for chip: 0x60\n",
      "Enabled pixel (2,2) for chip: 0x60\n",
      "Enabled pixel (0,8) for chip: 0x61\n",
      "Enabled pixel (0,2) for chip: 0x61\n",
      "Enabled pixel (2,8) for chip: 0x61\n",
      "Enabled pixel (2,2) for chip: 0x61\n",
      "Operating on chip 0x60 Pixel (0,8) Setting Offset to 20\n",
      "Operating on chip 0x60 Pixel (0,2) Setting Offset to 20\n",
      "Operating on chip 0x60 Pixel (2,8) Setting Offset to 20\n",
      "Operating on chip 0x60 Pixel (2,2) Setting Offset to 20\n",
      "Operating on chip 0x61 Pixel (0,8) Setting Offset to 20\n",
      "Operating on chip 0x61 Pixel (0,2) Setting Offset to 20\n",
      "Operating on chip 0x61 Pixel (2,8) Setting Offset to 20\n",
      "Operating on chip 0x61 Pixel (2,2) Setting Offset to 20\n"
     ]
    },
    {
     "name": "stderr",
     "output_type": "stream",
     "text": [
      "2024-02-13 20:58:29,914 - ERROR:Script_Logger:GUI Message of type Error: Unable to read address space 'Waveform Sampler' because the i2c address is not set\n",
      "2024-02-13 21:00:09,998 - ERROR:Script_Logger:GUI Message of type Error: Unable to read address space 'Waveform Sampler' because the i2c address is not set\n"
     ]
    },
    {
     "name": "stdout",
     "output_type": "stream",
     "text": [
      "Run SEUEquivalenceFeb13_2 started at: 2024-02-13 21:00:30.066019\n",
      "Run SEUEquivalenceFeb13_2 ended at: 2024-02-13 21:03:36.603857\n"
     ]
    },
    {
     "name": "stderr",
     "output_type": "stream",
     "text": [
      "2024-02-13 21:05:16,594 - ERROR:Script_Logger:GUI Message of type Error: Unable to read address space 'Waveform Sampler' because the i2c address is not set\n",
      "2024-02-13 21:06:56,590 - ERROR:Script_Logger:GUI Message of type Error: Unable to read address space 'Waveform Sampler' because the i2c address is not set\n"
     ]
    },
    {
     "name": "stdout",
     "output_type": "stream",
     "text": [
      "Peripherals set for chip: 0x60\n",
      "Disabled pixels for chip: 0x60\n",
      "Peripherals set for chip: 0x61\n",
      "Disabled pixels for chip: 0x61\n",
      "Auto calibration done (TDC=0 + DAC=BL) for pixel (0,8) on chip: 0x60\n",
      "Auto calibration done (TDC=0 + DAC=BL) for pixel (0,2) on chip: 0x60\n",
      "Auto calibration done (TDC=0 + DAC=BL) for pixel (2,8) on chip: 0x60\n",
      "Auto calibration done (TDC=0 + DAC=BL) for pixel (2,2) on chip: 0x60\n",
      "Auto calibration done (TDC=0 + DAC=BL) for pixel (0,8) on chip: 0x61\n",
      "Auto calibration done (TDC=0 + DAC=BL) for pixel (0,2) on chip: 0x61\n",
      "Auto calibration done (TDC=0 + DAC=BL) for pixel (2,8) on chip: 0x61\n",
      "Auto calibration done (TDC=0 + DAC=BL) for pixel (2,2) on chip: 0x61\n",
      "Enabled pixel (0,8) for chip: 0x60\n",
      "Enabled pixel (0,2) for chip: 0x60\n",
      "Enabled pixel (2,8) for chip: 0x60\n",
      "Enabled pixel (2,2) for chip: 0x60\n",
      "Enabled pixel (0,8) for chip: 0x61\n",
      "Enabled pixel (0,2) for chip: 0x61\n",
      "Enabled pixel (2,8) for chip: 0x61\n",
      "Enabled pixel (2,2) for chip: 0x61\n",
      "Operating on chip 0x60 Pixel (0,8) Setting Offset to 20\n",
      "Operating on chip 0x60 Pixel (0,2) Setting Offset to 20\n",
      "Operating on chip 0x60 Pixel (2,8) Setting Offset to 20\n",
      "Operating on chip 0x60 Pixel (2,2) Setting Offset to 20\n",
      "Operating on chip 0x61 Pixel (0,8) Setting Offset to 20\n",
      "Operating on chip 0x61 Pixel (0,2) Setting Offset to 20\n",
      "Operating on chip 0x61 Pixel (2,8) Setting Offset to 20\n",
      "Operating on chip 0x61 Pixel (2,2) Setting Offset to 20\n"
     ]
    },
    {
     "name": "stderr",
     "output_type": "stream",
     "text": [
      "2024-02-13 21:10:26,412 - ERROR:Script_Logger:GUI Message of type Error: Unable to read address space 'Waveform Sampler' because the i2c address is not set\n",
      "2024-02-13 21:12:06,606 - ERROR:Script_Logger:GUI Message of type Error: Unable to read address space 'Waveform Sampler' because the i2c address is not set\n"
     ]
    },
    {
     "name": "stdout",
     "output_type": "stream",
     "text": [
      "Run SEUEquivalenceFeb13_3 started at: 2024-02-13 21:12:26.671855\n",
      "Run SEUEquivalenceFeb13_3 ended at: 2024-02-13 21:15:33.077406\n"
     ]
    },
    {
     "name": "stderr",
     "output_type": "stream",
     "text": [
      "2024-02-13 21:17:13,313 - ERROR:Script_Logger:GUI Message of type Error: Unable to read address space 'Waveform Sampler' because the i2c address is not set\n",
      "2024-02-13 21:18:53,618 - ERROR:Script_Logger:GUI Message of type Error: Unable to read address space 'Waveform Sampler' because the i2c address is not set\n"
     ]
    },
    {
     "name": "stdout",
     "output_type": "stream",
     "text": [
      "Peripherals set for chip: 0x60\n",
      "Disabled pixels for chip: 0x60\n",
      "Peripherals set for chip: 0x61\n",
      "Disabled pixels for chip: 0x61\n",
      "Auto calibration done (TDC=0 + DAC=BL) for pixel (0,8) on chip: 0x60\n",
      "Auto calibration done (TDC=0 + DAC=BL) for pixel (0,2) on chip: 0x60\n",
      "Auto calibration done (TDC=0 + DAC=BL) for pixel (2,8) on chip: 0x60\n",
      "Auto calibration done (TDC=0 + DAC=BL) for pixel (2,2) on chip: 0x60\n",
      "Auto calibration done (TDC=0 + DAC=BL) for pixel (0,8) on chip: 0x61\n",
      "Auto calibration done (TDC=0 + DAC=BL) for pixel (0,2) on chip: 0x61\n",
      "Auto calibration done (TDC=0 + DAC=BL) for pixel (2,8) on chip: 0x61\n",
      "Auto calibration done (TDC=0 + DAC=BL) for pixel (2,2) on chip: 0x61\n",
      "Enabled pixel (0,8) for chip: 0x60\n",
      "Enabled pixel (0,2) for chip: 0x60\n",
      "Enabled pixel (2,8) for chip: 0x60\n",
      "Enabled pixel (2,2) for chip: 0x60\n",
      "Enabled pixel (0,8) for chip: 0x61\n",
      "Enabled pixel (0,2) for chip: 0x61\n",
      "Enabled pixel (2,8) for chip: 0x61\n",
      "Enabled pixel (2,2) for chip: 0x61\n",
      "Operating on chip 0x60 Pixel (0,8) Setting Offset to 20\n",
      "Operating on chip 0x60 Pixel (0,2) Setting Offset to 20\n",
      "Operating on chip 0x60 Pixel (2,8) Setting Offset to 20\n",
      "Operating on chip 0x60 Pixel (2,2) Setting Offset to 20\n",
      "Operating on chip 0x61 Pixel (0,8) Setting Offset to 20\n",
      "Operating on chip 0x61 Pixel (0,2) Setting Offset to 20\n",
      "Operating on chip 0x61 Pixel (2,8) Setting Offset to 20\n",
      "Operating on chip 0x61 Pixel (2,2) Setting Offset to 20\n"
     ]
    },
    {
     "name": "stderr",
     "output_type": "stream",
     "text": [
      "2024-02-13 21:22:24,283 - ERROR:Script_Logger:GUI Message of type Error: Unable to read address space 'Waveform Sampler' because the i2c address is not set\n",
      "2024-02-13 21:24:04,507 - ERROR:Script_Logger:GUI Message of type Error: Unable to read address space 'Waveform Sampler' because the i2c address is not set\n"
     ]
    },
    {
     "name": "stdout",
     "output_type": "stream",
     "text": [
      "Run SEUEquivalenceFeb13_4 started at: 2024-02-13 21:24:24.575010\n",
      "Run SEUEquivalenceFeb13_4 ended at: 2024-02-13 21:27:31.006201\n"
     ]
    },
    {
     "name": "stderr",
     "output_type": "stream",
     "text": [
      "2024-02-13 21:29:11,082 - ERROR:Script_Logger:GUI Message of type Error: Unable to read address space 'Waveform Sampler' because the i2c address is not set\n",
      "2024-02-13 21:30:51,160 - ERROR:Script_Logger:GUI Message of type Error: Unable to read address space 'Waveform Sampler' because the i2c address is not set\n"
     ]
    },
    {
     "name": "stdout",
     "output_type": "stream",
     "text": [
      "Peripherals set for chip: 0x60\n",
      "Disabled pixels for chip: 0x60\n",
      "Peripherals set for chip: 0x61\n",
      "Disabled pixels for chip: 0x61\n",
      "Auto calibration done (TDC=0 + DAC=BL) for pixel (0,8) on chip: 0x60\n",
      "Auto calibration done (TDC=0 + DAC=BL) for pixel (0,2) on chip: 0x60\n",
      "Auto calibration done (TDC=0 + DAC=BL) for pixel (2,8) on chip: 0x60\n",
      "Auto calibration done (TDC=0 + DAC=BL) for pixel (2,2) on chip: 0x60\n",
      "Auto calibration done (TDC=0 + DAC=BL) for pixel (0,8) on chip: 0x61\n",
      "Auto calibration done (TDC=0 + DAC=BL) for pixel (0,2) on chip: 0x61\n",
      "Auto calibration done (TDC=0 + DAC=BL) for pixel (2,8) on chip: 0x61\n",
      "Auto calibration done (TDC=0 + DAC=BL) for pixel (2,2) on chip: 0x61\n",
      "Enabled pixel (0,8) for chip: 0x60\n",
      "Enabled pixel (0,2) for chip: 0x60\n",
      "Enabled pixel (2,8) for chip: 0x60\n",
      "Enabled pixel (2,2) for chip: 0x60\n",
      "Enabled pixel (0,8) for chip: 0x61\n",
      "Enabled pixel (0,2) for chip: 0x61\n",
      "Enabled pixel (2,8) for chip: 0x61\n",
      "Enabled pixel (2,2) for chip: 0x61\n",
      "Operating on chip 0x60 Pixel (0,8) Setting Offset to 20\n",
      "Operating on chip 0x60 Pixel (0,2) Setting Offset to 20\n",
      "Operating on chip 0x60 Pixel (2,8) Setting Offset to 20\n",
      "Operating on chip 0x60 Pixel (2,2) Setting Offset to 20\n",
      "Operating on chip 0x61 Pixel (0,8) Setting Offset to 20\n",
      "Operating on chip 0x61 Pixel (0,2) Setting Offset to 20\n",
      "Operating on chip 0x61 Pixel (2,8) Setting Offset to 20\n",
      "Operating on chip 0x61 Pixel (2,2) Setting Offset to 20\n"
     ]
    },
    {
     "name": "stderr",
     "output_type": "stream",
     "text": [
      "2024-02-13 21:34:21,424 - ERROR:Script_Logger:GUI Message of type Error: Unable to read address space 'Waveform Sampler' because the i2c address is not set\n",
      "2024-02-13 21:36:01,484 - ERROR:Script_Logger:GUI Message of type Error: Unable to read address space 'Waveform Sampler' because the i2c address is not set\n"
     ]
    },
    {
     "name": "stdout",
     "output_type": "stream",
     "text": [
      "Run SEUEquivalenceFeb13_5 started at: 2024-02-13 21:36:21.552883\n",
      "Run SEUEquivalenceFeb13_5 ended at: 2024-02-13 21:39:28.064635\n"
     ]
    },
    {
     "name": "stderr",
     "output_type": "stream",
     "text": [
      "2024-02-13 21:41:08,356 - ERROR:Script_Logger:GUI Message of type Error: Unable to read address space 'Waveform Sampler' because the i2c address is not set\n",
      "2024-02-13 21:42:48,522 - ERROR:Script_Logger:GUI Message of type Error: Unable to read address space 'Waveform Sampler' because the i2c address is not set\n"
     ]
    },
    {
     "name": "stdout",
     "output_type": "stream",
     "text": [
      "Peripherals set for chip: 0x60\n",
      "Disabled pixels for chip: 0x60\n",
      "Peripherals set for chip: 0x61\n",
      "Disabled pixels for chip: 0x61\n",
      "Auto calibration done (TDC=0 + DAC=BL) for pixel (0,8) on chip: 0x60\n",
      "Auto calibration done (TDC=0 + DAC=BL) for pixel (0,2) on chip: 0x60\n",
      "Auto calibration done (TDC=0 + DAC=BL) for pixel (2,8) on chip: 0x60\n",
      "Auto calibration done (TDC=0 + DAC=BL) for pixel (2,2) on chip: 0x60\n",
      "Auto calibration done (TDC=0 + DAC=BL) for pixel (0,8) on chip: 0x61\n",
      "Auto calibration done (TDC=0 + DAC=BL) for pixel (0,2) on chip: 0x61\n",
      "Auto calibration done (TDC=0 + DAC=BL) for pixel (2,8) on chip: 0x61\n",
      "Auto calibration done (TDC=0 + DAC=BL) for pixel (2,2) on chip: 0x61\n",
      "Enabled pixel (0,8) for chip: 0x60\n",
      "Enabled pixel (0,2) for chip: 0x60\n",
      "Enabled pixel (2,8) for chip: 0x60\n",
      "Enabled pixel (2,2) for chip: 0x60\n",
      "Enabled pixel (0,8) for chip: 0x61\n",
      "Enabled pixel (0,2) for chip: 0x61\n",
      "Enabled pixel (2,8) for chip: 0x61\n",
      "Enabled pixel (2,2) for chip: 0x61\n",
      "Operating on chip 0x60 Pixel (0,8) Setting Offset to 20\n",
      "Operating on chip 0x60 Pixel (0,2) Setting Offset to 20\n",
      "Operating on chip 0x60 Pixel (2,8) Setting Offset to 20\n",
      "Operating on chip 0x60 Pixel (2,2) Setting Offset to 20\n",
      "Operating on chip 0x61 Pixel (0,8) Setting Offset to 20\n",
      "Operating on chip 0x61 Pixel (0,2) Setting Offset to 20\n",
      "Operating on chip 0x61 Pixel (2,8) Setting Offset to 20\n",
      "Operating on chip 0x61 Pixel (2,2) Setting Offset to 20\n"
     ]
    },
    {
     "name": "stderr",
     "output_type": "stream",
     "text": [
      "2024-02-13 21:46:19,188 - ERROR:Script_Logger:GUI Message of type Error: Unable to read address space 'Waveform Sampler' because the i2c address is not set\n",
      "2024-02-13 21:47:59,369 - ERROR:Script_Logger:GUI Message of type Error: Unable to read address space 'Waveform Sampler' because the i2c address is not set\n"
     ]
    },
    {
     "name": "stdout",
     "output_type": "stream",
     "text": [
      "Run SEUEquivalenceFeb13_6 started at: 2024-02-13 21:48:19.435106\n",
      "Run SEUEquivalenceFeb13_6 ended at: 2024-02-13 21:51:25.875698\n"
     ]
    },
    {
     "name": "stderr",
     "output_type": "stream",
     "text": [
      "2024-02-13 21:53:06,108 - ERROR:Script_Logger:GUI Message of type Error: Unable to read address space 'Waveform Sampler' because the i2c address is not set\n",
      "2024-02-13 21:54:46,228 - ERROR:Script_Logger:GUI Message of type Error: Unable to read address space 'Waveform Sampler' because the i2c address is not set\n"
     ]
    },
    {
     "name": "stdout",
     "output_type": "stream",
     "text": [
      "Peripherals set for chip: 0x60\n",
      "Disabled pixels for chip: 0x60\n",
      "Peripherals set for chip: 0x61\n",
      "Disabled pixels for chip: 0x61\n",
      "Auto calibration done (TDC=0 + DAC=BL) for pixel (0,8) on chip: 0x60\n",
      "Auto calibration done (TDC=0 + DAC=BL) for pixel (0,2) on chip: 0x60\n",
      "Auto calibration done (TDC=0 + DAC=BL) for pixel (2,8) on chip: 0x60\n",
      "Auto calibration done (TDC=0 + DAC=BL) for pixel (2,2) on chip: 0x60\n",
      "Auto calibration done (TDC=0 + DAC=BL) for pixel (0,8) on chip: 0x61\n",
      "Auto calibration done (TDC=0 + DAC=BL) for pixel (0,2) on chip: 0x61\n",
      "Auto calibration done (TDC=0 + DAC=BL) for pixel (2,8) on chip: 0x61\n",
      "Auto calibration done (TDC=0 + DAC=BL) for pixel (2,2) on chip: 0x61\n",
      "Enabled pixel (0,8) for chip: 0x60\n",
      "Enabled pixel (0,2) for chip: 0x60\n",
      "Enabled pixel (2,8) for chip: 0x60\n",
      "Enabled pixel (2,2) for chip: 0x60\n",
      "Enabled pixel (0,8) for chip: 0x61\n",
      "Enabled pixel (0,2) for chip: 0x61\n",
      "Enabled pixel (2,8) for chip: 0x61\n",
      "Enabled pixel (2,2) for chip: 0x61\n",
      "Operating on chip 0x60 Pixel (0,8) Setting Offset to 20\n",
      "Operating on chip 0x60 Pixel (0,2) Setting Offset to 20\n",
      "Operating on chip 0x60 Pixel (2,8) Setting Offset to 20\n",
      "Operating on chip 0x60 Pixel (2,2) Setting Offset to 20\n",
      "Operating on chip 0x61 Pixel (0,8) Setting Offset to 20\n",
      "Operating on chip 0x61 Pixel (0,2) Setting Offset to 20\n",
      "Operating on chip 0x61 Pixel (2,8) Setting Offset to 20\n",
      "Operating on chip 0x61 Pixel (2,2) Setting Offset to 20\n"
     ]
    },
    {
     "name": "stderr",
     "output_type": "stream",
     "text": [
      "2024-02-13 21:58:16,615 - ERROR:Script_Logger:GUI Message of type Error: Unable to read address space 'Waveform Sampler' because the i2c address is not set\n",
      "2024-02-13 21:59:56,768 - ERROR:Script_Logger:GUI Message of type Error: Unable to read address space 'Waveform Sampler' because the i2c address is not set\n"
     ]
    },
    {
     "name": "stdout",
     "output_type": "stream",
     "text": [
      "Run SEUEquivalenceFeb13_7 started at: 2024-02-13 22:00:16.832509\n",
      "Run SEUEquivalenceFeb13_7 ended at: 2024-02-13 22:03:23.282740\n"
     ]
    },
    {
     "name": "stderr",
     "output_type": "stream",
     "text": [
      "2024-02-13 22:05:03,376 - ERROR:Script_Logger:GUI Message of type Error: Unable to read address space 'Waveform Sampler' because the i2c address is not set\n",
      "2024-02-13 22:06:43,630 - ERROR:Script_Logger:GUI Message of type Error: Unable to read address space 'Waveform Sampler' because the i2c address is not set\n"
     ]
    },
    {
     "name": "stdout",
     "output_type": "stream",
     "text": [
      "Peripherals set for chip: 0x60\n",
      "Disabled pixels for chip: 0x60\n",
      "Peripherals set for chip: 0x61\n",
      "Disabled pixels for chip: 0x61\n",
      "Auto calibration done (TDC=0 + DAC=BL) for pixel (0,8) on chip: 0x60\n",
      "Auto calibration done (TDC=0 + DAC=BL) for pixel (0,2) on chip: 0x60\n",
      "Auto calibration done (TDC=0 + DAC=BL) for pixel (2,8) on chip: 0x60\n",
      "Auto calibration done (TDC=0 + DAC=BL) for pixel (2,2) on chip: 0x60\n",
      "Auto calibration done (TDC=0 + DAC=BL) for pixel (0,8) on chip: 0x61\n",
      "Auto calibration done (TDC=0 + DAC=BL) for pixel (0,2) on chip: 0x61\n",
      "Auto calibration done (TDC=0 + DAC=BL) for pixel (2,8) on chip: 0x61\n",
      "Auto calibration done (TDC=0 + DAC=BL) for pixel (2,2) on chip: 0x61\n",
      "Enabled pixel (0,8) for chip: 0x60\n",
      "Enabled pixel (0,2) for chip: 0x60\n",
      "Enabled pixel (2,8) for chip: 0x60\n",
      "Enabled pixel (2,2) for chip: 0x60\n",
      "Enabled pixel (0,8) for chip: 0x61\n",
      "Enabled pixel (0,2) for chip: 0x61\n",
      "Enabled pixel (2,8) for chip: 0x61\n",
      "Enabled pixel (2,2) for chip: 0x61\n",
      "Operating on chip 0x60 Pixel (0,8) Setting Offset to 20\n",
      "Operating on chip 0x60 Pixel (0,2) Setting Offset to 20\n",
      "Operating on chip 0x60 Pixel (2,8) Setting Offset to 20\n",
      "Operating on chip 0x60 Pixel (2,2) Setting Offset to 20\n",
      "Operating on chip 0x61 Pixel (0,8) Setting Offset to 20\n",
      "Operating on chip 0x61 Pixel (0,2) Setting Offset to 20\n",
      "Operating on chip 0x61 Pixel (2,8) Setting Offset to 20\n",
      "Operating on chip 0x61 Pixel (2,2) Setting Offset to 20\n"
     ]
    },
    {
     "name": "stderr",
     "output_type": "stream",
     "text": [
      "2024-02-13 22:10:14,323 - ERROR:Script_Logger:GUI Message of type Error: Unable to read address space 'Waveform Sampler' because the i2c address is not set\n",
      "2024-02-13 22:11:54,414 - ERROR:Script_Logger:GUI Message of type Error: Unable to read address space 'Waveform Sampler' because the i2c address is not set\n"
     ]
    },
    {
     "name": "stdout",
     "output_type": "stream",
     "text": [
      "Run SEUEquivalenceFeb13_8 started at: 2024-02-13 22:12:14.480084\n",
      "Run SEUEquivalenceFeb13_8 ended at: 2024-02-13 22:15:21.022354\n"
     ]
    },
    {
     "name": "stderr",
     "output_type": "stream",
     "text": [
      "2024-02-13 22:17:01,250 - ERROR:Script_Logger:GUI Message of type Error: Unable to read address space 'Waveform Sampler' because the i2c address is not set\n",
      "2024-02-13 22:18:41,468 - ERROR:Script_Logger:GUI Message of type Error: Unable to read address space 'Waveform Sampler' because the i2c address is not set\n"
     ]
    },
    {
     "name": "stdout",
     "output_type": "stream",
     "text": [
      "Peripherals set for chip: 0x60\n",
      "Disabled pixels for chip: 0x60\n",
      "Peripherals set for chip: 0x61\n",
      "Disabled pixels for chip: 0x61\n",
      "Auto calibration done (TDC=0 + DAC=BL) for pixel (0,8) on chip: 0x60\n",
      "Auto calibration done (TDC=0 + DAC=BL) for pixel (0,2) on chip: 0x60\n",
      "Auto calibration done (TDC=0 + DAC=BL) for pixel (2,8) on chip: 0x60\n",
      "Auto calibration done (TDC=0 + DAC=BL) for pixel (2,2) on chip: 0x60\n",
      "Auto calibration done (TDC=0 + DAC=BL) for pixel (0,8) on chip: 0x61\n",
      "Auto calibration done (TDC=0 + DAC=BL) for pixel (0,2) on chip: 0x61\n",
      "Auto calibration done (TDC=0 + DAC=BL) for pixel (2,8) on chip: 0x61\n",
      "Auto calibration done (TDC=0 + DAC=BL) for pixel (2,2) on chip: 0x61\n",
      "Enabled pixel (0,8) for chip: 0x60\n",
      "Enabled pixel (0,2) for chip: 0x60\n",
      "Enabled pixel (2,8) for chip: 0x60\n",
      "Enabled pixel (2,2) for chip: 0x60\n",
      "Enabled pixel (0,8) for chip: 0x61\n",
      "Enabled pixel (0,2) for chip: 0x61\n",
      "Enabled pixel (2,8) for chip: 0x61\n",
      "Enabled pixel (2,2) for chip: 0x61\n",
      "Operating on chip 0x60 Pixel (0,8) Setting Offset to 20\n",
      "Operating on chip 0x60 Pixel (0,2) Setting Offset to 20\n",
      "Operating on chip 0x60 Pixel (2,8) Setting Offset to 20\n",
      "Operating on chip 0x60 Pixel (2,2) Setting Offset to 20\n",
      "Operating on chip 0x61 Pixel (0,8) Setting Offset to 20\n",
      "Operating on chip 0x61 Pixel (0,2) Setting Offset to 20\n",
      "Operating on chip 0x61 Pixel (2,8) Setting Offset to 20\n",
      "Operating on chip 0x61 Pixel (2,2) Setting Offset to 20\n"
     ]
    },
    {
     "name": "stderr",
     "output_type": "stream",
     "text": [
      "2024-02-13 22:22:11,998 - ERROR:Script_Logger:GUI Message of type Error: Unable to read address space 'Waveform Sampler' because the i2c address is not set\n",
      "2024-02-13 22:23:52,080 - ERROR:Script_Logger:GUI Message of type Error: Unable to read address space 'Waveform Sampler' because the i2c address is not set\n"
     ]
    },
    {
     "name": "stdout",
     "output_type": "stream",
     "text": [
      "Run SEUEquivalenceFeb13_9 started at: 2024-02-13 22:24:12.146452\n",
      "Run SEUEquivalenceFeb13_9 ended at: 2024-02-13 22:27:18.655750\n"
     ]
    },
    {
     "name": "stderr",
     "output_type": "stream",
     "text": [
      "2024-02-13 22:28:58,952 - ERROR:Script_Logger:GUI Message of type Error: Unable to read address space 'Waveform Sampler' because the i2c address is not set\n",
      "2024-02-13 22:30:39,236 - ERROR:Script_Logger:GUI Message of type Error: Unable to read address space 'Waveform Sampler' because the i2c address is not set\n"
     ]
    },
    {
     "name": "stdout",
     "output_type": "stream",
     "text": [
      "Peripherals set for chip: 0x60\n",
      "Disabled pixels for chip: 0x60\n",
      "Peripherals set for chip: 0x61\n",
      "Disabled pixels for chip: 0x61\n",
      "Auto calibration done (TDC=0 + DAC=BL) for pixel (0,8) on chip: 0x60\n",
      "Auto calibration done (TDC=0 + DAC=BL) for pixel (0,2) on chip: 0x60\n",
      "Auto calibration done (TDC=0 + DAC=BL) for pixel (2,8) on chip: 0x60\n",
      "Auto calibration done (TDC=0 + DAC=BL) for pixel (2,2) on chip: 0x60\n",
      "Auto calibration done (TDC=0 + DAC=BL) for pixel (0,8) on chip: 0x61\n",
      "Auto calibration done (TDC=0 + DAC=BL) for pixel (0,2) on chip: 0x61\n",
      "Auto calibration done (TDC=0 + DAC=BL) for pixel (2,8) on chip: 0x61\n",
      "Auto calibration done (TDC=0 + DAC=BL) for pixel (2,2) on chip: 0x61\n",
      "Enabled pixel (0,8) for chip: 0x60\n",
      "Enabled pixel (0,2) for chip: 0x60\n",
      "Enabled pixel (2,8) for chip: 0x60\n",
      "Enabled pixel (2,2) for chip: 0x60\n",
      "Enabled pixel (0,8) for chip: 0x61\n",
      "Enabled pixel (0,2) for chip: 0x61\n",
      "Enabled pixel (2,8) for chip: 0x61\n",
      "Enabled pixel (2,2) for chip: 0x61\n",
      "Operating on chip 0x60 Pixel (0,8) Setting Offset to 20\n",
      "Operating on chip 0x60 Pixel (0,2) Setting Offset to 20\n",
      "Operating on chip 0x60 Pixel (2,8) Setting Offset to 20\n",
      "Operating on chip 0x60 Pixel (2,2) Setting Offset to 20\n",
      "Operating on chip 0x61 Pixel (0,8) Setting Offset to 20\n",
      "Operating on chip 0x61 Pixel (0,2) Setting Offset to 20\n",
      "Operating on chip 0x61 Pixel (2,8) Setting Offset to 20\n",
      "Operating on chip 0x61 Pixel (2,2) Setting Offset to 20\n"
     ]
    },
    {
     "name": "stderr",
     "output_type": "stream",
     "text": [
      "2024-02-13 22:34:09,446 - ERROR:Script_Logger:GUI Message of type Error: Unable to read address space 'Waveform Sampler' because the i2c address is not set\n",
      "2024-02-13 22:35:49,734 - ERROR:Script_Logger:GUI Message of type Error: Unable to read address space 'Waveform Sampler' because the i2c address is not set\n"
     ]
    },
    {
     "name": "stdout",
     "output_type": "stream",
     "text": [
      "Run SEUEquivalenceFeb13_10 started at: 2024-02-13 22:36:09.798611\n",
      "Run SEUEquivalenceFeb13_10 ended at: 2024-02-13 22:39:16.199963\n"
     ]
    },
    {
     "name": "stderr",
     "output_type": "stream",
     "text": [
      "2024-02-13 22:40:56,556 - ERROR:Script_Logger:GUI Message of type Error: Unable to read address space 'Waveform Sampler' because the i2c address is not set\n",
      "2024-02-13 22:42:36,771 - ERROR:Script_Logger:GUI Message of type Error: Unable to read address space 'Waveform Sampler' because the i2c address is not set\n"
     ]
    },
    {
     "name": "stdout",
     "output_type": "stream",
     "text": [
      "Peripherals set for chip: 0x60\n",
      "Disabled pixels for chip: 0x60\n",
      "Peripherals set for chip: 0x61\n",
      "Disabled pixels for chip: 0x61\n",
      "Auto calibration done (TDC=0 + DAC=BL) for pixel (0,8) on chip: 0x60\n",
      "Auto calibration done (TDC=0 + DAC=BL) for pixel (0,2) on chip: 0x60\n",
      "Auto calibration done (TDC=0 + DAC=BL) for pixel (2,8) on chip: 0x60\n",
      "Auto calibration done (TDC=0 + DAC=BL) for pixel (2,2) on chip: 0x60\n",
      "Auto calibration done (TDC=0 + DAC=BL) for pixel (0,8) on chip: 0x61\n",
      "Auto calibration done (TDC=0 + DAC=BL) for pixel (0,2) on chip: 0x61\n",
      "Auto calibration done (TDC=0 + DAC=BL) for pixel (2,8) on chip: 0x61\n",
      "Auto calibration done (TDC=0 + DAC=BL) for pixel (2,2) on chip: 0x61\n",
      "Enabled pixel (0,8) for chip: 0x60\n",
      "Enabled pixel (0,2) for chip: 0x60\n",
      "Enabled pixel (2,8) for chip: 0x60\n",
      "Enabled pixel (2,2) for chip: 0x60\n",
      "Enabled pixel (0,8) for chip: 0x61\n",
      "Enabled pixel (0,2) for chip: 0x61\n",
      "Enabled pixel (2,8) for chip: 0x61\n",
      "Enabled pixel (2,2) for chip: 0x61\n",
      "Operating on chip 0x60 Pixel (0,8) Setting Offset to 20\n",
      "Operating on chip 0x60 Pixel (0,2) Setting Offset to 20\n",
      "Operating on chip 0x60 Pixel (2,8) Setting Offset to 20\n",
      "Operating on chip 0x60 Pixel (2,2) Setting Offset to 20\n",
      "Operating on chip 0x61 Pixel (0,8) Setting Offset to 20\n",
      "Operating on chip 0x61 Pixel (0,2) Setting Offset to 20\n",
      "Operating on chip 0x61 Pixel (2,8) Setting Offset to 20\n",
      "Operating on chip 0x61 Pixel (2,2) Setting Offset to 20\n"
     ]
    },
    {
     "name": "stderr",
     "output_type": "stream",
     "text": [
      "2024-02-13 22:46:06,709 - ERROR:Script_Logger:GUI Message of type Error: Unable to read address space 'Waveform Sampler' because the i2c address is not set\n",
      "2024-02-13 22:47:46,943 - ERROR:Script_Logger:GUI Message of type Error: Unable to read address space 'Waveform Sampler' because the i2c address is not set\n"
     ]
    },
    {
     "name": "stdout",
     "output_type": "stream",
     "text": [
      "Run SEUEquivalenceFeb13_11 started at: 2024-02-13 22:48:07.023384\n",
      "Run SEUEquivalenceFeb13_11 ended at: 2024-02-13 22:51:13.531779\n"
     ]
    },
    {
     "name": "stderr",
     "output_type": "stream",
     "text": [
      "2024-02-13 22:52:53,673 - ERROR:Script_Logger:GUI Message of type Error: Unable to read address space 'Waveform Sampler' because the i2c address is not set\n",
      "2024-02-13 22:54:33,790 - ERROR:Script_Logger:GUI Message of type Error: Unable to read address space 'Waveform Sampler' because the i2c address is not set\n"
     ]
    },
    {
     "name": "stdout",
     "output_type": "stream",
     "text": [
      "Peripherals set for chip: 0x60\n",
      "Disabled pixels for chip: 0x60\n",
      "Peripherals set for chip: 0x61\n",
      "Disabled pixels for chip: 0x61\n",
      "Auto calibration done (TDC=0 + DAC=BL) for pixel (0,8) on chip: 0x60\n",
      "Auto calibration done (TDC=0 + DAC=BL) for pixel (0,2) on chip: 0x60\n",
      "Auto calibration done (TDC=0 + DAC=BL) for pixel (2,8) on chip: 0x60\n",
      "Auto calibration done (TDC=0 + DAC=BL) for pixel (2,2) on chip: 0x60\n",
      "Auto calibration done (TDC=0 + DAC=BL) for pixel (0,8) on chip: 0x61\n",
      "Auto calibration done (TDC=0 + DAC=BL) for pixel (0,2) on chip: 0x61\n",
      "Auto calibration done (TDC=0 + DAC=BL) for pixel (2,8) on chip: 0x61\n",
      "Auto calibration done (TDC=0 + DAC=BL) for pixel (2,2) on chip: 0x61\n",
      "Enabled pixel (0,8) for chip: 0x60\n",
      "Enabled pixel (0,2) for chip: 0x60\n",
      "Enabled pixel (2,8) for chip: 0x60\n",
      "Enabled pixel (2,2) for chip: 0x60\n",
      "Enabled pixel (0,8) for chip: 0x61\n",
      "Enabled pixel (0,2) for chip: 0x61\n",
      "Enabled pixel (2,8) for chip: 0x61\n",
      "Enabled pixel (2,2) for chip: 0x61\n",
      "Operating on chip 0x60 Pixel (0,8) Setting Offset to 20\n",
      "Operating on chip 0x60 Pixel (0,2) Setting Offset to 20\n",
      "Operating on chip 0x60 Pixel (2,8) Setting Offset to 20\n",
      "Operating on chip 0x60 Pixel (2,2) Setting Offset to 20\n",
      "Operating on chip 0x61 Pixel (0,8) Setting Offset to 20\n",
      "Operating on chip 0x61 Pixel (0,2) Setting Offset to 20\n",
      "Operating on chip 0x61 Pixel (2,8) Setting Offset to 20\n",
      "Operating on chip 0x61 Pixel (2,2) Setting Offset to 20\n"
     ]
    },
    {
     "name": "stderr",
     "output_type": "stream",
     "text": [
      "2024-02-13 22:58:04,506 - ERROR:Script_Logger:GUI Message of type Error: Unable to read address space 'Waveform Sampler' because the i2c address is not set\n",
      "2024-02-13 22:59:44,534 - ERROR:Script_Logger:GUI Message of type Error: Unable to read address space 'Waveform Sampler' because the i2c address is not set\n"
     ]
    },
    {
     "name": "stdout",
     "output_type": "stream",
     "text": [
      "Run SEUEquivalenceFeb13_12 started at: 2024-02-13 23:00:04.601685\n",
      "Run SEUEquivalenceFeb13_12 ended at: 2024-02-13 23:03:10.163373\n"
     ]
    },
    {
     "name": "stderr",
     "output_type": "stream",
     "text": [
      "2024-02-13 23:04:50,310 - ERROR:Script_Logger:GUI Message of type Error: Unable to read address space 'Waveform Sampler' because the i2c address is not set\n",
      "2024-02-13 23:06:30,524 - ERROR:Script_Logger:GUI Message of type Error: Unable to read address space 'Waveform Sampler' because the i2c address is not set\n"
     ]
    },
    {
     "name": "stdout",
     "output_type": "stream",
     "text": [
      "Peripherals set for chip: 0x60\n",
      "Disabled pixels for chip: 0x60\n",
      "Peripherals set for chip: 0x61\n",
      "Disabled pixels for chip: 0x61\n",
      "Auto calibration done (TDC=0 + DAC=BL) for pixel (0,8) on chip: 0x60\n",
      "Auto calibration done (TDC=0 + DAC=BL) for pixel (0,2) on chip: 0x60\n",
      "Auto calibration done (TDC=0 + DAC=BL) for pixel (2,8) on chip: 0x60\n",
      "Auto calibration done (TDC=0 + DAC=BL) for pixel (2,2) on chip: 0x60\n",
      "Auto calibration done (TDC=0 + DAC=BL) for pixel (0,8) on chip: 0x61\n",
      "Auto calibration done (TDC=0 + DAC=BL) for pixel (0,2) on chip: 0x61\n",
      "Auto calibration done (TDC=0 + DAC=BL) for pixel (2,8) on chip: 0x61\n",
      "Auto calibration done (TDC=0 + DAC=BL) for pixel (2,2) on chip: 0x61\n",
      "Enabled pixel (0,8) for chip: 0x60\n",
      "Enabled pixel (0,2) for chip: 0x60\n",
      "Enabled pixel (2,8) for chip: 0x60\n",
      "Enabled pixel (2,2) for chip: 0x60\n",
      "Enabled pixel (0,8) for chip: 0x61\n",
      "Enabled pixel (0,2) for chip: 0x61\n",
      "Enabled pixel (2,8) for chip: 0x61\n",
      "Enabled pixel (2,2) for chip: 0x61\n",
      "Operating on chip 0x60 Pixel (0,8) Setting Offset to 20\n",
      "Operating on chip 0x60 Pixel (0,2) Setting Offset to 20\n",
      "Operating on chip 0x60 Pixel (2,8) Setting Offset to 20\n",
      "Operating on chip 0x60 Pixel (2,2) Setting Offset to 20\n",
      "Operating on chip 0x61 Pixel (0,8) Setting Offset to 20\n",
      "Operating on chip 0x61 Pixel (0,2) Setting Offset to 20\n",
      "Operating on chip 0x61 Pixel (2,8) Setting Offset to 20\n",
      "Operating on chip 0x61 Pixel (2,2) Setting Offset to 20\n"
     ]
    },
    {
     "name": "stderr",
     "output_type": "stream",
     "text": [
      "2024-02-13 23:10:01,555 - ERROR:Script_Logger:GUI Message of type Error: Unable to read address space 'Waveform Sampler' because the i2c address is not set\n",
      "2024-02-13 23:11:41,592 - ERROR:Script_Logger:GUI Message of type Error: Unable to read address space 'Waveform Sampler' because the i2c address is not set\n"
     ]
    },
    {
     "name": "stdout",
     "output_type": "stream",
     "text": [
      "Run SEUEquivalenceFeb13_13 started at: 2024-02-13 23:12:01.642644\n",
      "Run SEUEquivalenceFeb13_13 ended at: 2024-02-13 23:15:08.054251\n"
     ]
    },
    {
     "name": "stderr",
     "output_type": "stream",
     "text": [
      "2024-02-13 23:16:48,108 - ERROR:Script_Logger:GUI Message of type Error: Unable to read address space 'Waveform Sampler' because the i2c address is not set\n",
      "2024-02-13 23:18:28,183 - ERROR:Script_Logger:GUI Message of type Error: Unable to read address space 'Waveform Sampler' because the i2c address is not set\n"
     ]
    },
    {
     "name": "stdout",
     "output_type": "stream",
     "text": [
      "Peripherals set for chip: 0x60\n",
      "Disabled pixels for chip: 0x60\n",
      "Peripherals set for chip: 0x61\n",
      "Disabled pixels for chip: 0x61\n",
      "Auto calibration done (TDC=0 + DAC=BL) for pixel (0,8) on chip: 0x60\n",
      "Auto calibration done (TDC=0 + DAC=BL) for pixel (0,2) on chip: 0x60\n",
      "Auto calibration done (TDC=0 + DAC=BL) for pixel (2,8) on chip: 0x60\n",
      "Auto calibration done (TDC=0 + DAC=BL) for pixel (2,2) on chip: 0x60\n",
      "Auto calibration done (TDC=0 + DAC=BL) for pixel (0,8) on chip: 0x61\n",
      "Auto calibration done (TDC=0 + DAC=BL) for pixel (0,2) on chip: 0x61\n",
      "Auto calibration done (TDC=0 + DAC=BL) for pixel (2,8) on chip: 0x61\n",
      "Auto calibration done (TDC=0 + DAC=BL) for pixel (2,2) on chip: 0x61\n",
      "Enabled pixel (0,8) for chip: 0x60\n",
      "Enabled pixel (0,2) for chip: 0x60\n",
      "Enabled pixel (2,8) for chip: 0x60\n",
      "Enabled pixel (2,2) for chip: 0x60\n",
      "Enabled pixel (0,8) for chip: 0x61\n",
      "Enabled pixel (0,2) for chip: 0x61\n",
      "Enabled pixel (2,8) for chip: 0x61\n",
      "Enabled pixel (2,2) for chip: 0x61\n",
      "Operating on chip 0x60 Pixel (0,8) Setting Offset to 20\n",
      "Operating on chip 0x60 Pixel (0,2) Setting Offset to 20\n",
      "Operating on chip 0x60 Pixel (2,8) Setting Offset to 20\n",
      "Operating on chip 0x60 Pixel (2,2) Setting Offset to 20\n",
      "Operating on chip 0x61 Pixel (0,8) Setting Offset to 20\n",
      "Operating on chip 0x61 Pixel (0,2) Setting Offset to 20\n",
      "Operating on chip 0x61 Pixel (2,8) Setting Offset to 20\n",
      "Operating on chip 0x61 Pixel (2,2) Setting Offset to 20\n"
     ]
    },
    {
     "name": "stderr",
     "output_type": "stream",
     "text": [
      "2024-02-13 23:21:59,120 - ERROR:Script_Logger:GUI Message of type Error: Unable to read address space 'Waveform Sampler' because the i2c address is not set\n",
      "2024-02-13 23:23:39,399 - ERROR:Script_Logger:GUI Message of type Error: Unable to read address space 'Waveform Sampler' because the i2c address is not set\n"
     ]
    },
    {
     "name": "stdout",
     "output_type": "stream",
     "text": [
      "Run SEUEquivalenceFeb13_14 started at: 2024-02-13 23:23:59.462996\n",
      "Run SEUEquivalenceFeb13_14 ended at: 2024-02-13 23:27:05.833372\n"
     ]
    },
    {
     "name": "stderr",
     "output_type": "stream",
     "text": [
      "2024-02-13 23:28:45,929 - ERROR:Script_Logger:GUI Message of type Error: Unable to read address space 'Waveform Sampler' because the i2c address is not set\n",
      "2024-02-13 23:30:26,071 - ERROR:Script_Logger:GUI Message of type Error: Unable to read address space 'Waveform Sampler' because the i2c address is not set\n"
     ]
    },
    {
     "name": "stdout",
     "output_type": "stream",
     "text": [
      "Peripherals set for chip: 0x60\n",
      "Disabled pixels for chip: 0x60\n",
      "Peripherals set for chip: 0x61\n",
      "Disabled pixels for chip: 0x61\n",
      "Auto calibration done (TDC=0 + DAC=BL) for pixel (0,8) on chip: 0x60\n",
      "Auto calibration done (TDC=0 + DAC=BL) for pixel (0,2) on chip: 0x60\n",
      "Auto calibration done (TDC=0 + DAC=BL) for pixel (2,8) on chip: 0x60\n",
      "Auto calibration done (TDC=0 + DAC=BL) for pixel (2,2) on chip: 0x60\n",
      "Auto calibration done (TDC=0 + DAC=BL) for pixel (0,8) on chip: 0x61\n",
      "Auto calibration done (TDC=0 + DAC=BL) for pixel (0,2) on chip: 0x61\n",
      "Auto calibration done (TDC=0 + DAC=BL) for pixel (2,8) on chip: 0x61\n",
      "Auto calibration done (TDC=0 + DAC=BL) for pixel (2,2) on chip: 0x61\n",
      "Enabled pixel (0,8) for chip: 0x60\n",
      "Enabled pixel (0,2) for chip: 0x60\n",
      "Enabled pixel (2,8) for chip: 0x60\n",
      "Enabled pixel (2,2) for chip: 0x60\n",
      "Enabled pixel (0,8) for chip: 0x61\n",
      "Enabled pixel (0,2) for chip: 0x61\n",
      "Enabled pixel (2,8) for chip: 0x61\n",
      "Enabled pixel (2,2) for chip: 0x61\n",
      "Operating on chip 0x60 Pixel (0,8) Setting Offset to 20\n",
      "Operating on chip 0x60 Pixel (0,2) Setting Offset to 20\n",
      "Operating on chip 0x60 Pixel (2,8) Setting Offset to 20\n",
      "Operating on chip 0x60 Pixel (2,2) Setting Offset to 20\n",
      "Operating on chip 0x61 Pixel (0,8) Setting Offset to 20\n",
      "Operating on chip 0x61 Pixel (0,2) Setting Offset to 20\n",
      "Operating on chip 0x61 Pixel (2,8) Setting Offset to 20\n",
      "Operating on chip 0x61 Pixel (2,2) Setting Offset to 20\n"
     ]
    },
    {
     "name": "stderr",
     "output_type": "stream",
     "text": [
      "2024-02-13 23:33:56,524 - ERROR:Script_Logger:GUI Message of type Error: Unable to read address space 'Waveform Sampler' because the i2c address is not set\n",
      "2024-02-13 23:35:36,667 - ERROR:Script_Logger:GUI Message of type Error: Unable to read address space 'Waveform Sampler' because the i2c address is not set\n"
     ]
    },
    {
     "name": "stdout",
     "output_type": "stream",
     "text": [
      "Run SEUEquivalenceFeb13_15 started at: 2024-02-13 23:35:56.733785\n",
      "Run SEUEquivalenceFeb13_15 ended at: 2024-02-13 23:39:03.148531\n"
     ]
    },
    {
     "name": "stderr",
     "output_type": "stream",
     "text": [
      "2024-02-13 23:40:43,179 - ERROR:Script_Logger:GUI Message of type Error: Unable to read address space 'Waveform Sampler' because the i2c address is not set\n",
      "2024-02-13 23:42:21,976 - ERROR:Script_Logger:GUI Message of type Error: Unable to read address space 'Waveform Sampler' because the i2c address is not set\n"
     ]
    },
    {
     "name": "stdout",
     "output_type": "stream",
     "text": [
      "Peripherals set for chip: 0x60\n",
      "Disabled pixels for chip: 0x60\n",
      "Peripherals set for chip: 0x61\n",
      "Disabled pixels for chip: 0x61\n",
      "Auto calibration done (TDC=0 + DAC=BL) for pixel (0,8) on chip: 0x60\n",
      "Auto calibration done (TDC=0 + DAC=BL) for pixel (0,2) on chip: 0x60\n",
      "Auto calibration done (TDC=0 + DAC=BL) for pixel (2,8) on chip: 0x60\n",
      "Auto calibration done (TDC=0 + DAC=BL) for pixel (2,2) on chip: 0x60\n",
      "Auto calibration done (TDC=0 + DAC=BL) for pixel (0,8) on chip: 0x61\n",
      "Auto calibration done (TDC=0 + DAC=BL) for pixel (0,2) on chip: 0x61\n",
      "Auto calibration done (TDC=0 + DAC=BL) for pixel (2,8) on chip: 0x61\n",
      "Auto calibration done (TDC=0 + DAC=BL) for pixel (2,2) on chip: 0x61\n",
      "Enabled pixel (0,8) for chip: 0x60\n",
      "Enabled pixel (0,2) for chip: 0x60\n",
      "Enabled pixel (2,8) for chip: 0x60\n",
      "Enabled pixel (2,2) for chip: 0x60\n",
      "Enabled pixel (0,8) for chip: 0x61\n",
      "Enabled pixel (0,2) for chip: 0x61\n",
      "Enabled pixel (2,8) for chip: 0x61\n",
      "Enabled pixel (2,2) for chip: 0x61\n",
      "Operating on chip 0x60 Pixel (0,8) Setting Offset to 20\n",
      "Operating on chip 0x60 Pixel (0,2) Setting Offset to 20\n",
      "Operating on chip 0x60 Pixel (2,8) Setting Offset to 20\n",
      "Operating on chip 0x60 Pixel (2,2) Setting Offset to 20\n",
      "Operating on chip 0x61 Pixel (0,8) Setting Offset to 20\n",
      "Operating on chip 0x61 Pixel (0,2) Setting Offset to 20\n",
      "Operating on chip 0x61 Pixel (2,8) Setting Offset to 20\n",
      "Operating on chip 0x61 Pixel (2,2) Setting Offset to 20\n"
     ]
    },
    {
     "name": "stderr",
     "output_type": "stream",
     "text": [
      "2024-02-13 23:45:48,475 - ERROR:Script_Logger:GUI Message of type Error: Unable to read address space 'Waveform Sampler' because the i2c address is not set\n",
      "2024-02-13 23:47:28,297 - ERROR:Script_Logger:GUI Message of type Error: Unable to read address space 'Waveform Sampler' because the i2c address is not set\n"
     ]
    },
    {
     "name": "stdout",
     "output_type": "stream",
     "text": [
      "Run SEUEquivalenceFeb13_16 started at: 2024-02-13 23:47:48.364507\n",
      "Run SEUEquivalenceFeb13_16 ended at: 2024-02-13 23:50:54.859476\n"
     ]
    },
    {
     "name": "stderr",
     "output_type": "stream",
     "text": [
      "2024-02-13 23:52:35,029 - ERROR:Script_Logger:GUI Message of type Error: Unable to read address space 'Waveform Sampler' because the i2c address is not set\n",
      "2024-02-13 23:54:15,116 - ERROR:Script_Logger:GUI Message of type Error: Unable to read address space 'Waveform Sampler' because the i2c address is not set\n"
     ]
    },
    {
     "name": "stdout",
     "output_type": "stream",
     "text": [
      "Peripherals set for chip: 0x60\n",
      "Disabled pixels for chip: 0x60\n",
      "Peripherals set for chip: 0x61\n",
      "Disabled pixels for chip: 0x61\n",
      "Auto calibration done (TDC=0 + DAC=BL) for pixel (0,8) on chip: 0x60\n",
      "Auto calibration done (TDC=0 + DAC=BL) for pixel (0,2) on chip: 0x60\n",
      "Auto calibration done (TDC=0 + DAC=BL) for pixel (2,8) on chip: 0x60\n",
      "Auto calibration done (TDC=0 + DAC=BL) for pixel (2,2) on chip: 0x60\n",
      "Auto calibration done (TDC=0 + DAC=BL) for pixel (0,8) on chip: 0x61\n",
      "Auto calibration done (TDC=0 + DAC=BL) for pixel (0,2) on chip: 0x61\n",
      "Auto calibration done (TDC=0 + DAC=BL) for pixel (2,8) on chip: 0x61\n",
      "Auto calibration done (TDC=0 + DAC=BL) for pixel (2,2) on chip: 0x61\n",
      "Enabled pixel (0,8) for chip: 0x60\n",
      "Enabled pixel (0,2) for chip: 0x60\n",
      "Enabled pixel (2,8) for chip: 0x60\n",
      "Enabled pixel (2,2) for chip: 0x60\n",
      "Enabled pixel (0,8) for chip: 0x61\n",
      "Enabled pixel (0,2) for chip: 0x61\n",
      "Enabled pixel (2,8) for chip: 0x61\n",
      "Enabled pixel (2,2) for chip: 0x61\n",
      "Operating on chip 0x60 Pixel (0,8) Setting Offset to 20\n",
      "Operating on chip 0x60 Pixel (0,2) Setting Offset to 20\n",
      "Operating on chip 0x60 Pixel (2,8) Setting Offset to 20\n",
      "Operating on chip 0x60 Pixel (2,2) Setting Offset to 20\n",
      "Operating on chip 0x61 Pixel (0,8) Setting Offset to 20\n",
      "Operating on chip 0x61 Pixel (0,2) Setting Offset to 20\n",
      "Operating on chip 0x61 Pixel (2,8) Setting Offset to 20\n",
      "Operating on chip 0x61 Pixel (2,2) Setting Offset to 20\n"
     ]
    },
    {
     "name": "stderr",
     "output_type": "stream",
     "text": [
      "2024-02-13 23:57:45,692 - ERROR:Script_Logger:GUI Message of type Error: Unable to read address space 'Waveform Sampler' because the i2c address is not set\n",
      "2024-02-13 23:59:25,729 - ERROR:Script_Logger:GUI Message of type Error: Unable to read address space 'Waveform Sampler' because the i2c address is not set\n"
     ]
    },
    {
     "name": "stdout",
     "output_type": "stream",
     "text": [
      "Run SEUEquivalenceFeb13_17 started at: 2024-02-13 23:59:45.796290\n",
      "Run SEUEquivalenceFeb13_17 ended at: 2024-02-14 00:02:51.354833\n"
     ]
    },
    {
     "name": "stderr",
     "output_type": "stream",
     "text": [
      "2024-02-14 00:04:31,391 - ERROR:Script_Logger:GUI Message of type Error: Unable to read address space 'Waveform Sampler' because the i2c address is not set\n",
      "2024-02-14 00:06:11,565 - ERROR:Script_Logger:GUI Message of type Error: Unable to read address space 'Waveform Sampler' because the i2c address is not set\n"
     ]
    },
    {
     "name": "stdout",
     "output_type": "stream",
     "text": [
      "Peripherals set for chip: 0x60\n",
      "Disabled pixels for chip: 0x60\n",
      "Peripherals set for chip: 0x61\n",
      "Disabled pixels for chip: 0x61\n",
      "Auto calibration done (TDC=0 + DAC=BL) for pixel (0,8) on chip: 0x60\n",
      "Auto calibration done (TDC=0 + DAC=BL) for pixel (0,2) on chip: 0x60\n",
      "Auto calibration done (TDC=0 + DAC=BL) for pixel (2,8) on chip: 0x60\n",
      "Auto calibration done (TDC=0 + DAC=BL) for pixel (2,2) on chip: 0x60\n",
      "Auto calibration done (TDC=0 + DAC=BL) for pixel (0,8) on chip: 0x61\n",
      "Auto calibration done (TDC=0 + DAC=BL) for pixel (0,2) on chip: 0x61\n",
      "Auto calibration done (TDC=0 + DAC=BL) for pixel (2,8) on chip: 0x61\n",
      "Auto calibration done (TDC=0 + DAC=BL) for pixel (2,2) on chip: 0x61\n",
      "Enabled pixel (0,8) for chip: 0x60\n",
      "Enabled pixel (0,2) for chip: 0x60\n",
      "Enabled pixel (2,8) for chip: 0x60\n",
      "Enabled pixel (2,2) for chip: 0x60\n",
      "Enabled pixel (0,8) for chip: 0x61\n",
      "Enabled pixel (0,2) for chip: 0x61\n",
      "Enabled pixel (2,8) for chip: 0x61\n",
      "Enabled pixel (2,2) for chip: 0x61\n",
      "Operating on chip 0x60 Pixel (0,8) Setting Offset to 20\n",
      "Operating on chip 0x60 Pixel (0,2) Setting Offset to 20\n",
      "Operating on chip 0x60 Pixel (2,8) Setting Offset to 20\n",
      "Operating on chip 0x60 Pixel (2,2) Setting Offset to 20\n",
      "Operating on chip 0x61 Pixel (0,8) Setting Offset to 20\n",
      "Operating on chip 0x61 Pixel (0,2) Setting Offset to 20\n",
      "Operating on chip 0x61 Pixel (2,8) Setting Offset to 20\n",
      "Operating on chip 0x61 Pixel (2,2) Setting Offset to 20\n"
     ]
    },
    {
     "name": "stderr",
     "output_type": "stream",
     "text": [
      "2024-02-14 00:09:41,369 - ERROR:Script_Logger:GUI Message of type Error: Unable to read address space 'Waveform Sampler' because the i2c address is not set\n",
      "2024-02-14 00:11:21,577 - ERROR:Script_Logger:GUI Message of type Error: Unable to read address space 'Waveform Sampler' because the i2c address is not set\n"
     ]
    },
    {
     "name": "stdout",
     "output_type": "stream",
     "text": [
      "Run SEUEquivalenceFeb13_18 started at: 2024-02-14 00:11:41.636835\n",
      "Run SEUEquivalenceFeb13_18 ended at: 2024-02-14 00:14:48.130614\n"
     ]
    },
    {
     "name": "stderr",
     "output_type": "stream",
     "text": [
      "2024-02-14 00:16:28,230 - ERROR:Script_Logger:GUI Message of type Error: Unable to read address space 'Waveform Sampler' because the i2c address is not set\n",
      "2024-02-14 00:18:08,367 - ERROR:Script_Logger:GUI Message of type Error: Unable to read address space 'Waveform Sampler' because the i2c address is not set\n"
     ]
    },
    {
     "name": "stdout",
     "output_type": "stream",
     "text": [
      "Peripherals set for chip: 0x60\n",
      "Disabled pixels for chip: 0x60\n",
      "Peripherals set for chip: 0x61\n",
      "Disabled pixels for chip: 0x61\n",
      "Auto calibration done (TDC=0 + DAC=BL) for pixel (0,8) on chip: 0x60\n",
      "Auto calibration done (TDC=0 + DAC=BL) for pixel (0,2) on chip: 0x60\n",
      "Auto calibration done (TDC=0 + DAC=BL) for pixel (2,8) on chip: 0x60\n",
      "Auto calibration done (TDC=0 + DAC=BL) for pixel (2,2) on chip: 0x60\n",
      "Auto calibration done (TDC=0 + DAC=BL) for pixel (0,8) on chip: 0x61\n",
      "Auto calibration done (TDC=0 + DAC=BL) for pixel (0,2) on chip: 0x61\n",
      "Auto calibration done (TDC=0 + DAC=BL) for pixel (2,8) on chip: 0x61\n",
      "Auto calibration done (TDC=0 + DAC=BL) for pixel (2,2) on chip: 0x61\n",
      "Enabled pixel (0,8) for chip: 0x60\n",
      "Enabled pixel (0,2) for chip: 0x60\n",
      "Enabled pixel (2,8) for chip: 0x60\n",
      "Enabled pixel (2,2) for chip: 0x60\n",
      "Enabled pixel (0,8) for chip: 0x61\n",
      "Enabled pixel (0,2) for chip: 0x61\n",
      "Enabled pixel (2,8) for chip: 0x61\n",
      "Enabled pixel (2,2) for chip: 0x61\n",
      "Operating on chip 0x60 Pixel (0,8) Setting Offset to 20\n",
      "Operating on chip 0x60 Pixel (0,2) Setting Offset to 20\n",
      "Operating on chip 0x60 Pixel (2,8) Setting Offset to 20\n",
      "Operating on chip 0x60 Pixel (2,2) Setting Offset to 20\n",
      "Operating on chip 0x61 Pixel (0,8) Setting Offset to 20\n",
      "Operating on chip 0x61 Pixel (0,2) Setting Offset to 20\n",
      "Operating on chip 0x61 Pixel (2,8) Setting Offset to 20\n",
      "Operating on chip 0x61 Pixel (2,2) Setting Offset to 20\n"
     ]
    },
    {
     "name": "stderr",
     "output_type": "stream",
     "text": [
      "2024-02-14 00:21:38,537 - ERROR:Script_Logger:GUI Message of type Error: Unable to read address space 'Waveform Sampler' because the i2c address is not set\n",
      "2024-02-14 00:23:18,607 - ERROR:Script_Logger:GUI Message of type Error: Unable to read address space 'Waveform Sampler' because the i2c address is not set\n"
     ]
    },
    {
     "name": "stdout",
     "output_type": "stream",
     "text": [
      "Run SEUEquivalenceFeb13_19 started at: 2024-02-14 00:23:38.672301\n",
      "Run SEUEquivalenceFeb13_19 ended at: 2024-02-14 00:26:45.120134\n"
     ]
    },
    {
     "name": "stderr",
     "output_type": "stream",
     "text": [
      "2024-02-14 00:28:25,270 - ERROR:Script_Logger:GUI Message of type Error: Unable to read address space 'Waveform Sampler' because the i2c address is not set\n",
      "2024-02-14 00:30:05,260 - ERROR:Script_Logger:GUI Message of type Error: Unable to read address space 'Waveform Sampler' because the i2c address is not set\n"
     ]
    },
    {
     "name": "stdout",
     "output_type": "stream",
     "text": [
      "Peripherals set for chip: 0x60\n",
      "Disabled pixels for chip: 0x60\n",
      "Peripherals set for chip: 0x61\n",
      "Disabled pixels for chip: 0x61\n",
      "Auto calibration done (TDC=0 + DAC=BL) for pixel (0,8) on chip: 0x60\n",
      "Auto calibration done (TDC=0 + DAC=BL) for pixel (0,2) on chip: 0x60\n",
      "Auto calibration done (TDC=0 + DAC=BL) for pixel (2,8) on chip: 0x60\n",
      "Auto calibration done (TDC=0 + DAC=BL) for pixel (2,2) on chip: 0x60\n",
      "Auto calibration done (TDC=0 + DAC=BL) for pixel (0,8) on chip: 0x61\n",
      "Auto calibration done (TDC=0 + DAC=BL) for pixel (0,2) on chip: 0x61\n",
      "Auto calibration done (TDC=0 + DAC=BL) for pixel (2,8) on chip: 0x61\n",
      "Auto calibration done (TDC=0 + DAC=BL) for pixel (2,2) on chip: 0x61\n",
      "Enabled pixel (0,8) for chip: 0x60\n",
      "Enabled pixel (0,2) for chip: 0x60\n",
      "Enabled pixel (2,8) for chip: 0x60\n",
      "Enabled pixel (2,2) for chip: 0x60\n",
      "Enabled pixel (0,8) for chip: 0x61\n",
      "Enabled pixel (0,2) for chip: 0x61\n",
      "Enabled pixel (2,8) for chip: 0x61\n",
      "Enabled pixel (2,2) for chip: 0x61\n",
      "Operating on chip 0x60 Pixel (0,8) Setting Offset to 20\n",
      "Operating on chip 0x60 Pixel (0,2) Setting Offset to 20\n",
      "Operating on chip 0x60 Pixel (2,8) Setting Offset to 20\n",
      "Operating on chip 0x60 Pixel (2,2) Setting Offset to 20\n",
      "Operating on chip 0x61 Pixel (0,8) Setting Offset to 20\n",
      "Operating on chip 0x61 Pixel (0,2) Setting Offset to 20\n",
      "Operating on chip 0x61 Pixel (2,8) Setting Offset to 20\n",
      "Operating on chip 0x61 Pixel (2,2) Setting Offset to 20\n"
     ]
    },
    {
     "name": "stderr",
     "output_type": "stream",
     "text": [
      "2024-02-14 00:33:35,800 - ERROR:Script_Logger:GUI Message of type Error: Unable to read address space 'Waveform Sampler' because the i2c address is not set\n",
      "2024-02-14 00:35:16,051 - ERROR:Script_Logger:GUI Message of type Error: Unable to read address space 'Waveform Sampler' because the i2c address is not set\n"
     ]
    },
    {
     "name": "stdout",
     "output_type": "stream",
     "text": [
      "Run SEUEquivalenceFeb13_20 started at: 2024-02-14 00:35:36.115993\n",
      "Run SEUEquivalenceFeb13_20 ended at: 2024-02-14 00:38:42.516447\n"
     ]
    },
    {
     "name": "stderr",
     "output_type": "stream",
     "text": [
      "2024-02-14 00:40:22,750 - ERROR:Script_Logger:GUI Message of type Error: Unable to read address space 'Waveform Sampler' because the i2c address is not set\n",
      "2024-02-14 00:42:02,769 - ERROR:Script_Logger:GUI Message of type Error: Unable to read address space 'Waveform Sampler' because the i2c address is not set\n"
     ]
    },
    {
     "name": "stdout",
     "output_type": "stream",
     "text": [
      "Peripherals set for chip: 0x60\n",
      "Disabled pixels for chip: 0x60\n",
      "Peripherals set for chip: 0x61\n",
      "Disabled pixels for chip: 0x61\n",
      "Auto calibration done (TDC=0 + DAC=BL) for pixel (0,8) on chip: 0x60\n",
      "Auto calibration done (TDC=0 + DAC=BL) for pixel (0,2) on chip: 0x60\n",
      "Auto calibration done (TDC=0 + DAC=BL) for pixel (2,8) on chip: 0x60\n",
      "Auto calibration done (TDC=0 + DAC=BL) for pixel (2,2) on chip: 0x60\n",
      "Auto calibration done (TDC=0 + DAC=BL) for pixel (0,8) on chip: 0x61\n",
      "Auto calibration done (TDC=0 + DAC=BL) for pixel (0,2) on chip: 0x61\n",
      "Auto calibration done (TDC=0 + DAC=BL) for pixel (2,8) on chip: 0x61\n",
      "Auto calibration done (TDC=0 + DAC=BL) for pixel (2,2) on chip: 0x61\n",
      "Enabled pixel (0,8) for chip: 0x60\n",
      "Enabled pixel (0,2) for chip: 0x60\n",
      "Enabled pixel (2,8) for chip: 0x60\n",
      "Enabled pixel (2,2) for chip: 0x60\n",
      "Enabled pixel (0,8) for chip: 0x61\n",
      "Enabled pixel (0,2) for chip: 0x61\n",
      "Enabled pixel (2,8) for chip: 0x61\n",
      "Enabled pixel (2,2) for chip: 0x61\n",
      "Operating on chip 0x60 Pixel (0,8) Setting Offset to 20\n",
      "Operating on chip 0x60 Pixel (0,2) Setting Offset to 20\n",
      "Operating on chip 0x60 Pixel (2,8) Setting Offset to 20\n",
      "Operating on chip 0x60 Pixel (2,2) Setting Offset to 20\n",
      "Operating on chip 0x61 Pixel (0,8) Setting Offset to 20\n",
      "Operating on chip 0x61 Pixel (0,2) Setting Offset to 20\n",
      "Operating on chip 0x61 Pixel (2,8) Setting Offset to 20\n",
      "Operating on chip 0x61 Pixel (2,2) Setting Offset to 20\n"
     ]
    },
    {
     "name": "stderr",
     "output_type": "stream",
     "text": [
      "2024-02-14 00:45:33,294 - ERROR:Script_Logger:GUI Message of type Error: Unable to read address space 'Waveform Sampler' because the i2c address is not set\n",
      "2024-02-14 00:47:13,456 - ERROR:Script_Logger:GUI Message of type Error: Unable to read address space 'Waveform Sampler' because the i2c address is not set\n"
     ]
    },
    {
     "name": "stdout",
     "output_type": "stream",
     "text": [
      "Run SEUEquivalenceFeb13_21 started at: 2024-02-14 00:47:33.519731\n",
      "Run SEUEquivalenceFeb13_21 ended at: 2024-02-14 00:50:39.943048\n"
     ]
    },
    {
     "name": "stderr",
     "output_type": "stream",
     "text": [
      "2024-02-14 00:52:20,147 - ERROR:Script_Logger:GUI Message of type Error: Unable to read address space 'Waveform Sampler' because the i2c address is not set\n",
      "2024-02-14 00:54:00,206 - ERROR:Script_Logger:GUI Message of type Error: Unable to read address space 'Waveform Sampler' because the i2c address is not set\n"
     ]
    },
    {
     "name": "stdout",
     "output_type": "stream",
     "text": [
      "Peripherals set for chip: 0x60\n",
      "Disabled pixels for chip: 0x60\n",
      "Peripherals set for chip: 0x61\n",
      "Disabled pixels for chip: 0x61\n",
      "Auto calibration done (TDC=0 + DAC=BL) for pixel (0,8) on chip: 0x60\n",
      "Auto calibration done (TDC=0 + DAC=BL) for pixel (0,2) on chip: 0x60\n",
      "Auto calibration done (TDC=0 + DAC=BL) for pixel (2,8) on chip: 0x60\n",
      "Auto calibration done (TDC=0 + DAC=BL) for pixel (2,2) on chip: 0x60\n",
      "Auto calibration done (TDC=0 + DAC=BL) for pixel (0,8) on chip: 0x61\n",
      "Auto calibration done (TDC=0 + DAC=BL) for pixel (0,2) on chip: 0x61\n",
      "Auto calibration done (TDC=0 + DAC=BL) for pixel (2,8) on chip: 0x61\n",
      "Auto calibration done (TDC=0 + DAC=BL) for pixel (2,2) on chip: 0x61\n",
      "Enabled pixel (0,8) for chip: 0x60\n",
      "Enabled pixel (0,2) for chip: 0x60\n",
      "Enabled pixel (2,8) for chip: 0x60\n",
      "Enabled pixel (2,2) for chip: 0x60\n",
      "Enabled pixel (0,8) for chip: 0x61\n",
      "Enabled pixel (0,2) for chip: 0x61\n",
      "Enabled pixel (2,8) for chip: 0x61\n",
      "Enabled pixel (2,2) for chip: 0x61\n",
      "Operating on chip 0x60 Pixel (0,8) Setting Offset to 20\n",
      "Operating on chip 0x60 Pixel (0,2) Setting Offset to 20\n",
      "Operating on chip 0x60 Pixel (2,8) Setting Offset to 20\n",
      "Operating on chip 0x60 Pixel (2,2) Setting Offset to 20\n",
      "Operating on chip 0x61 Pixel (0,8) Setting Offset to 20\n",
      "Operating on chip 0x61 Pixel (0,2) Setting Offset to 20\n",
      "Operating on chip 0x61 Pixel (2,8) Setting Offset to 20\n",
      "Operating on chip 0x61 Pixel (2,2) Setting Offset to 20\n"
     ]
    },
    {
     "name": "stderr",
     "output_type": "stream",
     "text": [
      "2024-02-14 00:57:30,994 - ERROR:Script_Logger:GUI Message of type Error: Unable to read address space 'Waveform Sampler' because the i2c address is not set\n",
      "2024-02-14 00:59:11,100 - ERROR:Script_Logger:GUI Message of type Error: Unable to read address space 'Waveform Sampler' because the i2c address is not set\n"
     ]
    },
    {
     "name": "stdout",
     "output_type": "stream",
     "text": [
      "Run SEUEquivalenceFeb13_22 started at: 2024-02-14 00:59:31.166845\n",
      "Run SEUEquivalenceFeb13_22 ended at: 2024-02-14 01:02:37.563858\n"
     ]
    },
    {
     "name": "stderr",
     "output_type": "stream",
     "text": [
      "2024-02-14 01:04:17,748 - ERROR:Script_Logger:GUI Message of type Error: Unable to read address space 'Waveform Sampler' because the i2c address is not set\n",
      "2024-02-14 01:05:57,969 - ERROR:Script_Logger:GUI Message of type Error: Unable to read address space 'Waveform Sampler' because the i2c address is not set\n"
     ]
    },
    {
     "name": "stdout",
     "output_type": "stream",
     "text": [
      "Peripherals set for chip: 0x60\n",
      "Disabled pixels for chip: 0x60\n",
      "Peripherals set for chip: 0x61\n",
      "Disabled pixels for chip: 0x61\n",
      "Auto calibration done (TDC=0 + DAC=BL) for pixel (0,8) on chip: 0x60\n",
      "Auto calibration done (TDC=0 + DAC=BL) for pixel (0,2) on chip: 0x60\n",
      "Auto calibration done (TDC=0 + DAC=BL) for pixel (2,8) on chip: 0x60\n",
      "Auto calibration done (TDC=0 + DAC=BL) for pixel (2,2) on chip: 0x60\n",
      "Auto calibration done (TDC=0 + DAC=BL) for pixel (0,8) on chip: 0x61\n",
      "Auto calibration done (TDC=0 + DAC=BL) for pixel (0,2) on chip: 0x61\n",
      "Auto calibration done (TDC=0 + DAC=BL) for pixel (2,8) on chip: 0x61\n",
      "Auto calibration done (TDC=0 + DAC=BL) for pixel (2,2) on chip: 0x61\n",
      "Enabled pixel (0,8) for chip: 0x60\n",
      "Enabled pixel (0,2) for chip: 0x60\n",
      "Enabled pixel (2,8) for chip: 0x60\n",
      "Enabled pixel (2,2) for chip: 0x60\n",
      "Enabled pixel (0,8) for chip: 0x61\n",
      "Enabled pixel (0,2) for chip: 0x61\n",
      "Enabled pixel (2,8) for chip: 0x61\n",
      "Enabled pixel (2,2) for chip: 0x61\n",
      "Operating on chip 0x60 Pixel (0,8) Setting Offset to 20\n",
      "Operating on chip 0x60 Pixel (0,2) Setting Offset to 20\n",
      "Operating on chip 0x60 Pixel (2,8) Setting Offset to 20\n",
      "Operating on chip 0x60 Pixel (2,2) Setting Offset to 20\n",
      "Operating on chip 0x61 Pixel (0,8) Setting Offset to 20\n",
      "Operating on chip 0x61 Pixel (0,2) Setting Offset to 20\n",
      "Operating on chip 0x61 Pixel (2,8) Setting Offset to 20\n",
      "Operating on chip 0x61 Pixel (2,2) Setting Offset to 20\n"
     ]
    },
    {
     "name": "stderr",
     "output_type": "stream",
     "text": [
      "2024-02-14 01:09:28,764 - ERROR:Script_Logger:GUI Message of type Error: Unable to read address space 'Waveform Sampler' because the i2c address is not set\n",
      "2024-02-14 01:11:08,889 - ERROR:Script_Logger:GUI Message of type Error: Unable to read address space 'Waveform Sampler' because the i2c address is not set\n"
     ]
    },
    {
     "name": "stdout",
     "output_type": "stream",
     "text": [
      "Run SEUEquivalenceFeb13_23 started at: 2024-02-14 01:11:28.955613\n",
      "Run SEUEquivalenceFeb13_23 ended at: 2024-02-14 01:14:35.450247\n"
     ]
    },
    {
     "name": "stderr",
     "output_type": "stream",
     "text": [
      "2024-02-14 01:16:15,489 - ERROR:Script_Logger:GUI Message of type Error: Unable to read address space 'Waveform Sampler' because the i2c address is not set\n",
      "2024-02-14 01:17:55,581 - ERROR:Script_Logger:GUI Message of type Error: Unable to read address space 'Waveform Sampler' because the i2c address is not set\n"
     ]
    },
    {
     "name": "stdout",
     "output_type": "stream",
     "text": [
      "Peripherals set for chip: 0x60\n",
      "Disabled pixels for chip: 0x60\n",
      "Peripherals set for chip: 0x61\n",
      "Disabled pixels for chip: 0x61\n",
      "Auto calibration done (TDC=0 + DAC=BL) for pixel (0,8) on chip: 0x60\n",
      "Auto calibration done (TDC=0 + DAC=BL) for pixel (0,2) on chip: 0x60\n",
      "Auto calibration done (TDC=0 + DAC=BL) for pixel (2,8) on chip: 0x60\n",
      "Auto calibration done (TDC=0 + DAC=BL) for pixel (2,2) on chip: 0x60\n",
      "Auto calibration done (TDC=0 + DAC=BL) for pixel (0,8) on chip: 0x61\n",
      "Auto calibration done (TDC=0 + DAC=BL) for pixel (0,2) on chip: 0x61\n",
      "Auto calibration done (TDC=0 + DAC=BL) for pixel (2,8) on chip: 0x61\n",
      "Auto calibration done (TDC=0 + DAC=BL) for pixel (2,2) on chip: 0x61\n",
      "Enabled pixel (0,8) for chip: 0x60\n",
      "Enabled pixel (0,2) for chip: 0x60\n",
      "Enabled pixel (2,8) for chip: 0x60\n",
      "Enabled pixel (2,2) for chip: 0x60\n",
      "Enabled pixel (0,8) for chip: 0x61\n",
      "Enabled pixel (0,2) for chip: 0x61\n",
      "Enabled pixel (2,8) for chip: 0x61\n",
      "Enabled pixel (2,2) for chip: 0x61\n",
      "Operating on chip 0x60 Pixel (0,8) Setting Offset to 20\n",
      "Operating on chip 0x60 Pixel (0,2) Setting Offset to 20\n",
      "Operating on chip 0x60 Pixel (2,8) Setting Offset to 20\n",
      "Operating on chip 0x60 Pixel (2,2) Setting Offset to 20\n",
      "Operating on chip 0x61 Pixel (0,8) Setting Offset to 20\n",
      "Operating on chip 0x61 Pixel (0,2) Setting Offset to 20\n",
      "Operating on chip 0x61 Pixel (2,8) Setting Offset to 20\n",
      "Operating on chip 0x61 Pixel (2,2) Setting Offset to 20\n"
     ]
    },
    {
     "name": "stderr",
     "output_type": "stream",
     "text": [
      "2024-02-14 01:21:26,462 - ERROR:Script_Logger:GUI Message of type Error: Unable to read address space 'Waveform Sampler' because the i2c address is not set\n",
      "2024-02-14 01:23:06,693 - ERROR:Script_Logger:GUI Message of type Error: Unable to read address space 'Waveform Sampler' because the i2c address is not set\n"
     ]
    },
    {
     "name": "stdout",
     "output_type": "stream",
     "text": [
      "Run SEUEquivalenceFeb13_24 started at: 2024-02-14 01:23:26.741832\n",
      "Run SEUEquivalenceFeb13_24 ended at: 2024-02-14 01:26:33.172039\n"
     ]
    },
    {
     "name": "stderr",
     "output_type": "stream",
     "text": [
      "2024-02-14 01:28:13,388 - ERROR:Script_Logger:GUI Message of type Error: Unable to read address space 'Waveform Sampler' because the i2c address is not set\n",
      "2024-02-14 01:29:53,769 - ERROR:Script_Logger:GUI Message of type Error: Unable to read address space 'Waveform Sampler' because the i2c address is not set\n"
     ]
    },
    {
     "name": "stdout",
     "output_type": "stream",
     "text": [
      "Peripherals set for chip: 0x60\n",
      "Disabled pixels for chip: 0x60\n",
      "Peripherals set for chip: 0x61\n",
      "Disabled pixels for chip: 0x61\n",
      "Auto calibration done (TDC=0 + DAC=BL) for pixel (0,8) on chip: 0x60\n",
      "Auto calibration done (TDC=0 + DAC=BL) for pixel (0,2) on chip: 0x60\n",
      "Auto calibration done (TDC=0 + DAC=BL) for pixel (2,8) on chip: 0x60\n",
      "Auto calibration done (TDC=0 + DAC=BL) for pixel (2,2) on chip: 0x60\n",
      "Auto calibration done (TDC=0 + DAC=BL) for pixel (0,8) on chip: 0x61\n",
      "Auto calibration done (TDC=0 + DAC=BL) for pixel (0,2) on chip: 0x61\n",
      "Auto calibration done (TDC=0 + DAC=BL) for pixel (2,8) on chip: 0x61\n",
      "Auto calibration done (TDC=0 + DAC=BL) for pixel (2,2) on chip: 0x61\n",
      "Enabled pixel (0,8) for chip: 0x60\n",
      "Enabled pixel (0,2) for chip: 0x60\n",
      "Enabled pixel (2,8) for chip: 0x60\n",
      "Enabled pixel (2,2) for chip: 0x60\n",
      "Enabled pixel (0,8) for chip: 0x61\n",
      "Enabled pixel (0,2) for chip: 0x61\n",
      "Enabled pixel (2,8) for chip: 0x61\n",
      "Enabled pixel (2,2) for chip: 0x61\n",
      "Operating on chip 0x60 Pixel (0,8) Setting Offset to 20\n",
      "Operating on chip 0x60 Pixel (0,2) Setting Offset to 20\n",
      "Operating on chip 0x60 Pixel (2,8) Setting Offset to 20\n",
      "Operating on chip 0x60 Pixel (2,2) Setting Offset to 20\n",
      "Operating on chip 0x61 Pixel (0,8) Setting Offset to 20\n",
      "Operating on chip 0x61 Pixel (0,2) Setting Offset to 20\n",
      "Operating on chip 0x61 Pixel (2,8) Setting Offset to 20\n",
      "Operating on chip 0x61 Pixel (2,2) Setting Offset to 20\n"
     ]
    },
    {
     "name": "stderr",
     "output_type": "stream",
     "text": [
      "2024-02-14 01:33:24,372 - ERROR:Script_Logger:GUI Message of type Error: Unable to read address space 'Waveform Sampler' because the i2c address is not set\n",
      "2024-02-14 01:35:04,736 - ERROR:Script_Logger:GUI Message of type Error: Unable to read address space 'Waveform Sampler' because the i2c address is not set\n"
     ]
    },
    {
     "name": "stdout",
     "output_type": "stream",
     "text": [
      "Run SEUEquivalenceFeb13_25 started at: 2024-02-14 01:35:24.804093\n",
      "Run SEUEquivalenceFeb13_25 ended at: 2024-02-14 01:38:31.297898\n"
     ]
    },
    {
     "name": "stderr",
     "output_type": "stream",
     "text": [
      "2024-02-14 01:40:11,486 - ERROR:Script_Logger:GUI Message of type Error: Unable to read address space 'Waveform Sampler' because the i2c address is not set\n",
      "2024-02-14 01:41:51,660 - ERROR:Script_Logger:GUI Message of type Error: Unable to read address space 'Waveform Sampler' because the i2c address is not set\n"
     ]
    },
    {
     "name": "stdout",
     "output_type": "stream",
     "text": [
      "Peripherals set for chip: 0x60\n",
      "Disabled pixels for chip: 0x60\n",
      "Peripherals set for chip: 0x61\n",
      "Disabled pixels for chip: 0x61\n",
      "Auto calibration done (TDC=0 + DAC=BL) for pixel (0,8) on chip: 0x60\n",
      "Auto calibration done (TDC=0 + DAC=BL) for pixel (0,2) on chip: 0x60\n",
      "Auto calibration done (TDC=0 + DAC=BL) for pixel (2,8) on chip: 0x60\n",
      "Auto calibration done (TDC=0 + DAC=BL) for pixel (2,2) on chip: 0x60\n",
      "Auto calibration done (TDC=0 + DAC=BL) for pixel (0,8) on chip: 0x61\n",
      "Auto calibration done (TDC=0 + DAC=BL) for pixel (0,2) on chip: 0x61\n",
      "Auto calibration done (TDC=0 + DAC=BL) for pixel (2,8) on chip: 0x61\n",
      "Auto calibration done (TDC=0 + DAC=BL) for pixel (2,2) on chip: 0x61\n",
      "Enabled pixel (0,8) for chip: 0x60\n",
      "Enabled pixel (0,2) for chip: 0x60\n",
      "Enabled pixel (2,8) for chip: 0x60\n",
      "Enabled pixel (2,2) for chip: 0x60\n",
      "Enabled pixel (0,8) for chip: 0x61\n",
      "Enabled pixel (0,2) for chip: 0x61\n",
      "Enabled pixel (2,8) for chip: 0x61\n",
      "Enabled pixel (2,2) for chip: 0x61\n",
      "Operating on chip 0x60 Pixel (0,8) Setting Offset to 20\n",
      "Operating on chip 0x60 Pixel (0,2) Setting Offset to 20\n",
      "Operating on chip 0x60 Pixel (2,8) Setting Offset to 20\n",
      "Operating on chip 0x60 Pixel (2,2) Setting Offset to 20\n",
      "Operating on chip 0x61 Pixel (0,8) Setting Offset to 20\n",
      "Operating on chip 0x61 Pixel (0,2) Setting Offset to 20\n",
      "Operating on chip 0x61 Pixel (2,8) Setting Offset to 20\n",
      "Operating on chip 0x61 Pixel (2,2) Setting Offset to 20\n"
     ]
    },
    {
     "name": "stderr",
     "output_type": "stream",
     "text": [
      "2024-02-14 01:45:21,657 - ERROR:Script_Logger:GUI Message of type Error: Unable to read address space 'Waveform Sampler' because the i2c address is not set\n",
      "2024-02-14 01:47:01,813 - ERROR:Script_Logger:GUI Message of type Error: Unable to read address space 'Waveform Sampler' because the i2c address is not set\n"
     ]
    },
    {
     "name": "stdout",
     "output_type": "stream",
     "text": [
      "Run SEUEquivalenceFeb13_26 started at: 2024-02-14 01:47:21.880566\n",
      "Run SEUEquivalenceFeb13_26 ended at: 2024-02-14 01:50:28.426248\n"
     ]
    },
    {
     "name": "stderr",
     "output_type": "stream",
     "text": [
      "2024-02-14 01:52:08,665 - ERROR:Script_Logger:GUI Message of type Error: Unable to read address space 'Waveform Sampler' because the i2c address is not set\n",
      "2024-02-14 01:53:48,895 - ERROR:Script_Logger:GUI Message of type Error: Unable to read address space 'Waveform Sampler' because the i2c address is not set\n"
     ]
    },
    {
     "name": "stdout",
     "output_type": "stream",
     "text": [
      "Peripherals set for chip: 0x60\n",
      "Disabled pixels for chip: 0x60\n",
      "Peripherals set for chip: 0x61\n",
      "Disabled pixels for chip: 0x61\n",
      "Auto calibration done (TDC=0 + DAC=BL) for pixel (0,8) on chip: 0x60\n",
      "Auto calibration done (TDC=0 + DAC=BL) for pixel (0,2) on chip: 0x60\n",
      "Auto calibration done (TDC=0 + DAC=BL) for pixel (2,8) on chip: 0x60\n",
      "Auto calibration done (TDC=0 + DAC=BL) for pixel (2,2) on chip: 0x60\n",
      "Auto calibration done (TDC=0 + DAC=BL) for pixel (0,8) on chip: 0x61\n",
      "Auto calibration done (TDC=0 + DAC=BL) for pixel (0,2) on chip: 0x61\n",
      "Auto calibration done (TDC=0 + DAC=BL) for pixel (2,8) on chip: 0x61\n",
      "Auto calibration done (TDC=0 + DAC=BL) for pixel (2,2) on chip: 0x61\n",
      "Enabled pixel (0,8) for chip: 0x60\n",
      "Enabled pixel (0,2) for chip: 0x60\n",
      "Enabled pixel (2,8) for chip: 0x60\n",
      "Enabled pixel (2,2) for chip: 0x60\n",
      "Enabled pixel (0,8) for chip: 0x61\n",
      "Enabled pixel (0,2) for chip: 0x61\n",
      "Enabled pixel (2,8) for chip: 0x61\n",
      "Enabled pixel (2,2) for chip: 0x61\n",
      "Operating on chip 0x60 Pixel (0,8) Setting Offset to 20\n",
      "Operating on chip 0x60 Pixel (0,2) Setting Offset to 20\n",
      "Operating on chip 0x60 Pixel (2,8) Setting Offset to 20\n",
      "Operating on chip 0x60 Pixel (2,2) Setting Offset to 20\n",
      "Operating on chip 0x61 Pixel (0,8) Setting Offset to 20\n",
      "Operating on chip 0x61 Pixel (0,2) Setting Offset to 20\n",
      "Operating on chip 0x61 Pixel (2,8) Setting Offset to 20\n",
      "Operating on chip 0x61 Pixel (2,2) Setting Offset to 20\n"
     ]
    },
    {
     "name": "stderr",
     "output_type": "stream",
     "text": [
      "2024-02-14 01:57:19,959 - ERROR:Script_Logger:GUI Message of type Error: Unable to read address space 'Waveform Sampler' because the i2c address is not set\n",
      "2024-02-14 01:59:00,094 - ERROR:Script_Logger:GUI Message of type Error: Unable to read address space 'Waveform Sampler' because the i2c address is not set\n"
     ]
    },
    {
     "name": "stdout",
     "output_type": "stream",
     "text": [
      "Run SEUEquivalenceFeb13_27 started at: 2024-02-14 01:59:20.161842\n",
      "Run SEUEquivalenceFeb13_27 ended at: 2024-02-14 02:02:26.601120\n"
     ]
    },
    {
     "name": "stderr",
     "output_type": "stream",
     "text": [
      "2024-02-14 02:04:06,832 - ERROR:Script_Logger:GUI Message of type Error: Unable to read address space 'Waveform Sampler' because the i2c address is not set\n",
      "2024-02-14 02:05:46,886 - ERROR:Script_Logger:GUI Message of type Error: Unable to read address space 'Waveform Sampler' because the i2c address is not set\n"
     ]
    },
    {
     "name": "stdout",
     "output_type": "stream",
     "text": [
      "Peripherals set for chip: 0x60\n",
      "Disabled pixels for chip: 0x60\n",
      "Peripherals set for chip: 0x61\n",
      "Disabled pixels for chip: 0x61\n",
      "Auto calibration done (TDC=0 + DAC=BL) for pixel (0,8) on chip: 0x60\n",
      "Auto calibration done (TDC=0 + DAC=BL) for pixel (0,2) on chip: 0x60\n",
      "Auto calibration done (TDC=0 + DAC=BL) for pixel (2,8) on chip: 0x60\n",
      "Auto calibration done (TDC=0 + DAC=BL) for pixel (2,2) on chip: 0x60\n",
      "Auto calibration done (TDC=0 + DAC=BL) for pixel (0,8) on chip: 0x61\n",
      "Auto calibration done (TDC=0 + DAC=BL) for pixel (0,2) on chip: 0x61\n",
      "Auto calibration done (TDC=0 + DAC=BL) for pixel (2,8) on chip: 0x61\n",
      "Auto calibration done (TDC=0 + DAC=BL) for pixel (2,2) on chip: 0x61\n",
      "Enabled pixel (0,8) for chip: 0x60\n",
      "Enabled pixel (0,2) for chip: 0x60\n",
      "Enabled pixel (2,8) for chip: 0x60\n",
      "Enabled pixel (2,2) for chip: 0x60\n",
      "Enabled pixel (0,8) for chip: 0x61\n",
      "Enabled pixel (0,2) for chip: 0x61\n",
      "Enabled pixel (2,8) for chip: 0x61\n",
      "Enabled pixel (2,2) for chip: 0x61\n",
      "Operating on chip 0x60 Pixel (0,8) Setting Offset to 20\n",
      "Operating on chip 0x60 Pixel (0,2) Setting Offset to 20\n",
      "Operating on chip 0x60 Pixel (2,8) Setting Offset to 20\n",
      "Operating on chip 0x60 Pixel (2,2) Setting Offset to 20\n",
      "Operating on chip 0x61 Pixel (0,8) Setting Offset to 20\n",
      "Operating on chip 0x61 Pixel (0,2) Setting Offset to 20\n",
      "Operating on chip 0x61 Pixel (2,8) Setting Offset to 20\n",
      "Operating on chip 0x61 Pixel (2,2) Setting Offset to 20\n"
     ]
    },
    {
     "name": "stderr",
     "output_type": "stream",
     "text": [
      "2024-02-14 02:09:17,424 - ERROR:Script_Logger:GUI Message of type Error: Unable to read address space 'Waveform Sampler' because the i2c address is not set\n",
      "2024-02-14 02:10:57,389 - ERROR:Script_Logger:GUI Message of type Error: Unable to read address space 'Waveform Sampler' because the i2c address is not set\n"
     ]
    },
    {
     "name": "stdout",
     "output_type": "stream",
     "text": [
      "Run SEUEquivalenceFeb13_28 started at: 2024-02-14 02:11:17.456324\n",
      "Run SEUEquivalenceFeb13_28 ended at: 2024-02-14 02:14:23.893534\n"
     ]
    },
    {
     "name": "stderr",
     "output_type": "stream",
     "text": [
      "2024-02-14 02:16:03,943 - ERROR:Script_Logger:GUI Message of type Error: Unable to read address space 'Waveform Sampler' because the i2c address is not set\n",
      "2024-02-14 02:17:44,102 - ERROR:Script_Logger:GUI Message of type Error: Unable to read address space 'Waveform Sampler' because the i2c address is not set\n"
     ]
    },
    {
     "name": "stdout",
     "output_type": "stream",
     "text": [
      "Peripherals set for chip: 0x60\n",
      "Disabled pixels for chip: 0x60\n",
      "Peripherals set for chip: 0x61\n",
      "Disabled pixels for chip: 0x61\n",
      "Auto calibration done (TDC=0 + DAC=BL) for pixel (0,8) on chip: 0x60\n",
      "Auto calibration done (TDC=0 + DAC=BL) for pixel (0,2) on chip: 0x60\n",
      "Auto calibration done (TDC=0 + DAC=BL) for pixel (2,8) on chip: 0x60\n",
      "Auto calibration done (TDC=0 + DAC=BL) for pixel (2,2) on chip: 0x60\n",
      "Auto calibration done (TDC=0 + DAC=BL) for pixel (0,8) on chip: 0x61\n",
      "Auto calibration done (TDC=0 + DAC=BL) for pixel (0,2) on chip: 0x61\n",
      "Auto calibration done (TDC=0 + DAC=BL) for pixel (2,8) on chip: 0x61\n",
      "Auto calibration done (TDC=0 + DAC=BL) for pixel (2,2) on chip: 0x61\n",
      "Enabled pixel (0,8) for chip: 0x60\n",
      "Enabled pixel (0,2) for chip: 0x60\n",
      "Enabled pixel (2,8) for chip: 0x60\n",
      "Enabled pixel (2,2) for chip: 0x60\n",
      "Enabled pixel (0,8) for chip: 0x61\n",
      "Enabled pixel (0,2) for chip: 0x61\n",
      "Enabled pixel (2,8) for chip: 0x61\n",
      "Enabled pixel (2,2) for chip: 0x61\n",
      "Operating on chip 0x60 Pixel (0,8) Setting Offset to 20\n",
      "Operating on chip 0x60 Pixel (0,2) Setting Offset to 20\n",
      "Operating on chip 0x60 Pixel (2,8) Setting Offset to 20\n",
      "Operating on chip 0x60 Pixel (2,2) Setting Offset to 20\n",
      "Operating on chip 0x61 Pixel (0,8) Setting Offset to 20\n",
      "Operating on chip 0x61 Pixel (0,2) Setting Offset to 20\n",
      "Operating on chip 0x61 Pixel (2,8) Setting Offset to 20\n",
      "Operating on chip 0x61 Pixel (2,2) Setting Offset to 20\n"
     ]
    },
    {
     "name": "stderr",
     "output_type": "stream",
     "text": [
      "2024-02-14 02:21:14,733 - ERROR:Script_Logger:GUI Message of type Error: Unable to read address space 'Waveform Sampler' because the i2c address is not set\n",
      "2024-02-14 02:22:54,852 - ERROR:Script_Logger:GUI Message of type Error: Unable to read address space 'Waveform Sampler' because the i2c address is not set\n"
     ]
    },
    {
     "name": "stdout",
     "output_type": "stream",
     "text": [
      "Run SEUEquivalenceFeb13_29 started at: 2024-02-14 02:23:14.916248\n",
      "Run SEUEquivalenceFeb13_29 ended at: 2024-02-14 02:26:21.342430\n"
     ]
    },
    {
     "name": "stderr",
     "output_type": "stream",
     "text": [
      "2024-02-14 02:28:01,426 - ERROR:Script_Logger:GUI Message of type Error: Unable to read address space 'Waveform Sampler' because the i2c address is not set\n",
      "2024-02-14 02:29:41,667 - ERROR:Script_Logger:GUI Message of type Error: Unable to read address space 'Waveform Sampler' because the i2c address is not set\n"
     ]
    },
    {
     "name": "stdout",
     "output_type": "stream",
     "text": [
      "Peripherals set for chip: 0x60\n",
      "Disabled pixels for chip: 0x60\n",
      "Peripherals set for chip: 0x61\n",
      "Disabled pixels for chip: 0x61\n",
      "Auto calibration done (TDC=0 + DAC=BL) for pixel (0,8) on chip: 0x60\n",
      "Auto calibration done (TDC=0 + DAC=BL) for pixel (0,2) on chip: 0x60\n",
      "Auto calibration done (TDC=0 + DAC=BL) for pixel (2,8) on chip: 0x60\n",
      "Auto calibration done (TDC=0 + DAC=BL) for pixel (2,2) on chip: 0x60\n",
      "Auto calibration done (TDC=0 + DAC=BL) for pixel (0,8) on chip: 0x61\n",
      "Auto calibration done (TDC=0 + DAC=BL) for pixel (0,2) on chip: 0x61\n",
      "Auto calibration done (TDC=0 + DAC=BL) for pixel (2,8) on chip: 0x61\n",
      "Auto calibration done (TDC=0 + DAC=BL) for pixel (2,2) on chip: 0x61\n",
      "Enabled pixel (0,8) for chip: 0x60\n",
      "Enabled pixel (0,2) for chip: 0x60\n",
      "Enabled pixel (2,8) for chip: 0x60\n",
      "Enabled pixel (2,2) for chip: 0x60\n",
      "Enabled pixel (0,8) for chip: 0x61\n",
      "Enabled pixel (0,2) for chip: 0x61\n",
      "Enabled pixel (2,8) for chip: 0x61\n",
      "Enabled pixel (2,2) for chip: 0x61\n",
      "Operating on chip 0x60 Pixel (0,8) Setting Offset to 20\n",
      "Operating on chip 0x60 Pixel (0,2) Setting Offset to 20\n",
      "Operating on chip 0x60 Pixel (2,8) Setting Offset to 20\n",
      "Operating on chip 0x60 Pixel (2,2) Setting Offset to 20\n",
      "Operating on chip 0x61 Pixel (0,8) Setting Offset to 20\n",
      "Operating on chip 0x61 Pixel (0,2) Setting Offset to 20\n",
      "Operating on chip 0x61 Pixel (2,8) Setting Offset to 20\n",
      "Operating on chip 0x61 Pixel (2,2) Setting Offset to 20\n"
     ]
    },
    {
     "name": "stderr",
     "output_type": "stream",
     "text": [
      "2024-02-14 02:33:11,924 - ERROR:Script_Logger:GUI Message of type Error: Unable to read address space 'Waveform Sampler' because the i2c address is not set\n",
      "2024-02-14 02:34:51,981 - ERROR:Script_Logger:GUI Message of type Error: Unable to read address space 'Waveform Sampler' because the i2c address is not set\n"
     ]
    },
    {
     "name": "stdout",
     "output_type": "stream",
     "text": [
      "Run SEUEquivalenceFeb13_30 started at: 2024-02-14 02:35:12.047631\n",
      "Run SEUEquivalenceFeb13_30 ended at: 2024-02-14 02:38:18.500301\n"
     ]
    },
    {
     "name": "stderr",
     "output_type": "stream",
     "text": [
      "2024-02-14 02:39:58,563 - ERROR:Script_Logger:GUI Message of type Error: Unable to read address space 'Waveform Sampler' because the i2c address is not set\n",
      "2024-02-14 02:41:38,646 - ERROR:Script_Logger:GUI Message of type Error: Unable to read address space 'Waveform Sampler' because the i2c address is not set\n"
     ]
    },
    {
     "name": "stdout",
     "output_type": "stream",
     "text": [
      "Peripherals set for chip: 0x60\n",
      "Disabled pixels for chip: 0x60\n",
      "Peripherals set for chip: 0x61\n",
      "Disabled pixels for chip: 0x61\n",
      "Auto calibration done (TDC=0 + DAC=BL) for pixel (0,8) on chip: 0x60\n",
      "Auto calibration done (TDC=0 + DAC=BL) for pixel (0,2) on chip: 0x60\n",
      "Auto calibration done (TDC=0 + DAC=BL) for pixel (2,8) on chip: 0x60\n",
      "Auto calibration done (TDC=0 + DAC=BL) for pixel (2,2) on chip: 0x60\n",
      "Auto calibration done (TDC=0 + DAC=BL) for pixel (0,8) on chip: 0x61\n",
      "Auto calibration done (TDC=0 + DAC=BL) for pixel (0,2) on chip: 0x61\n",
      "Auto calibration done (TDC=0 + DAC=BL) for pixel (2,8) on chip: 0x61\n",
      "Auto calibration done (TDC=0 + DAC=BL) for pixel (2,2) on chip: 0x61\n",
      "Enabled pixel (0,8) for chip: 0x60\n",
      "Enabled pixel (0,2) for chip: 0x60\n",
      "Enabled pixel (2,8) for chip: 0x60\n",
      "Enabled pixel (2,2) for chip: 0x60\n",
      "Enabled pixel (0,8) for chip: 0x61\n",
      "Enabled pixel (0,2) for chip: 0x61\n",
      "Enabled pixel (2,8) for chip: 0x61\n",
      "Enabled pixel (2,2) for chip: 0x61\n",
      "Operating on chip 0x60 Pixel (0,8) Setting Offset to 20\n",
      "Operating on chip 0x60 Pixel (0,2) Setting Offset to 20\n",
      "Operating on chip 0x60 Pixel (2,8) Setting Offset to 20\n",
      "Operating on chip 0x60 Pixel (2,2) Setting Offset to 20\n",
      "Operating on chip 0x61 Pixel (0,8) Setting Offset to 20\n",
      "Operating on chip 0x61 Pixel (0,2) Setting Offset to 20\n",
      "Operating on chip 0x61 Pixel (2,8) Setting Offset to 20\n",
      "Operating on chip 0x61 Pixel (2,2) Setting Offset to 20\n"
     ]
    },
    {
     "name": "stderr",
     "output_type": "stream",
     "text": [
      "2024-02-14 02:45:09,793 - ERROR:Script_Logger:GUI Message of type Error: Unable to read address space 'Waveform Sampler' because the i2c address is not set\n",
      "2024-02-14 02:46:49,949 - ERROR:Script_Logger:GUI Message of type Error: Unable to read address space 'Waveform Sampler' because the i2c address is not set\n"
     ]
    },
    {
     "name": "stdout",
     "output_type": "stream",
     "text": [
      "Run SEUEquivalenceFeb13_31 started at: 2024-02-14 02:47:10.016135\n",
      "Run SEUEquivalenceFeb13_31 ended at: 2024-02-14 02:50:16.529629\n"
     ]
    },
    {
     "name": "stderr",
     "output_type": "stream",
     "text": [
      "2024-02-14 02:51:56,720 - ERROR:Script_Logger:GUI Message of type Error: Unable to read address space 'Waveform Sampler' because the i2c address is not set\n",
      "2024-02-14 02:53:36,717 - ERROR:Script_Logger:GUI Message of type Error: Unable to read address space 'Waveform Sampler' because the i2c address is not set\n"
     ]
    },
    {
     "name": "stdout",
     "output_type": "stream",
     "text": [
      "Peripherals set for chip: 0x60\n",
      "Disabled pixels for chip: 0x60\n",
      "Peripherals set for chip: 0x61\n",
      "Disabled pixels for chip: 0x61\n",
      "Auto calibration done (TDC=0 + DAC=BL) for pixel (0,8) on chip: 0x60\n",
      "Auto calibration done (TDC=0 + DAC=BL) for pixel (0,2) on chip: 0x60\n",
      "Auto calibration done (TDC=0 + DAC=BL) for pixel (2,8) on chip: 0x60\n",
      "Auto calibration done (TDC=0 + DAC=BL) for pixel (2,2) on chip: 0x60\n",
      "Auto calibration done (TDC=0 + DAC=BL) for pixel (0,8) on chip: 0x61\n",
      "Auto calibration done (TDC=0 + DAC=BL) for pixel (0,2) on chip: 0x61\n",
      "Auto calibration done (TDC=0 + DAC=BL) for pixel (2,8) on chip: 0x61\n",
      "Auto calibration done (TDC=0 + DAC=BL) for pixel (2,2) on chip: 0x61\n",
      "Enabled pixel (0,8) for chip: 0x60\n",
      "Enabled pixel (0,2) for chip: 0x60\n",
      "Enabled pixel (2,8) for chip: 0x60\n",
      "Enabled pixel (2,2) for chip: 0x60\n",
      "Enabled pixel (0,8) for chip: 0x61\n",
      "Enabled pixel (0,2) for chip: 0x61\n",
      "Enabled pixel (2,8) for chip: 0x61\n",
      "Enabled pixel (2,2) for chip: 0x61\n",
      "Operating on chip 0x60 Pixel (0,8) Setting Offset to 20\n",
      "Operating on chip 0x60 Pixel (0,2) Setting Offset to 20\n",
      "Operating on chip 0x60 Pixel (2,8) Setting Offset to 20\n",
      "Operating on chip 0x60 Pixel (2,2) Setting Offset to 20\n",
      "Operating on chip 0x61 Pixel (0,8) Setting Offset to 20\n",
      "Operating on chip 0x61 Pixel (0,2) Setting Offset to 20\n",
      "Operating on chip 0x61 Pixel (2,8) Setting Offset to 20\n",
      "Operating on chip 0x61 Pixel (2,2) Setting Offset to 20\n"
     ]
    },
    {
     "name": "stderr",
     "output_type": "stream",
     "text": [
      "2024-02-14 02:57:07,055 - ERROR:Script_Logger:GUI Message of type Error: Unable to read address space 'Waveform Sampler' because the i2c address is not set\n",
      "2024-02-14 02:58:47,141 - ERROR:Script_Logger:GUI Message of type Error: Unable to read address space 'Waveform Sampler' because the i2c address is not set\n"
     ]
    },
    {
     "name": "stdout",
     "output_type": "stream",
     "text": [
      "Run SEUEquivalenceFeb13_32 started at: 2024-02-14 02:59:07.209015\n",
      "Run SEUEquivalenceFeb13_32 ended at: 2024-02-14 03:02:13.602975\n"
     ]
    },
    {
     "name": "stderr",
     "output_type": "stream",
     "text": [
      "2024-02-14 03:03:53,526 - ERROR:Script_Logger:GUI Message of type Error: Unable to read address space 'Waveform Sampler' because the i2c address is not set\n",
      "2024-02-14 03:05:33,725 - ERROR:Script_Logger:GUI Message of type Error: Unable to read address space 'Waveform Sampler' because the i2c address is not set\n"
     ]
    },
    {
     "name": "stdout",
     "output_type": "stream",
     "text": [
      "Peripherals set for chip: 0x60\n",
      "Disabled pixels for chip: 0x60\n",
      "Peripherals set for chip: 0x61\n",
      "Disabled pixels for chip: 0x61\n",
      "Auto calibration done (TDC=0 + DAC=BL) for pixel (0,8) on chip: 0x60\n",
      "Auto calibration done (TDC=0 + DAC=BL) for pixel (0,2) on chip: 0x60\n",
      "Auto calibration done (TDC=0 + DAC=BL) for pixel (2,8) on chip: 0x60\n",
      "Auto calibration done (TDC=0 + DAC=BL) for pixel (2,2) on chip: 0x60\n",
      "Auto calibration done (TDC=0 + DAC=BL) for pixel (0,8) on chip: 0x61\n",
      "Auto calibration done (TDC=0 + DAC=BL) for pixel (0,2) on chip: 0x61\n",
      "Auto calibration done (TDC=0 + DAC=BL) for pixel (2,8) on chip: 0x61\n",
      "Auto calibration done (TDC=0 + DAC=BL) for pixel (2,2) on chip: 0x61\n",
      "Enabled pixel (0,8) for chip: 0x60\n",
      "Enabled pixel (0,2) for chip: 0x60\n",
      "Enabled pixel (2,8) for chip: 0x60\n",
      "Enabled pixel (2,2) for chip: 0x60\n",
      "Enabled pixel (0,8) for chip: 0x61\n",
      "Enabled pixel (0,2) for chip: 0x61\n",
      "Enabled pixel (2,8) for chip: 0x61\n",
      "Enabled pixel (2,2) for chip: 0x61\n",
      "Operating on chip 0x60 Pixel (0,8) Setting Offset to 20\n",
      "Operating on chip 0x60 Pixel (0,2) Setting Offset to 20\n",
      "Operating on chip 0x60 Pixel (2,8) Setting Offset to 20\n",
      "Operating on chip 0x60 Pixel (2,2) Setting Offset to 20\n",
      "Operating on chip 0x61 Pixel (0,8) Setting Offset to 20\n",
      "Operating on chip 0x61 Pixel (0,2) Setting Offset to 20\n",
      "Operating on chip 0x61 Pixel (2,8) Setting Offset to 20\n",
      "Operating on chip 0x61 Pixel (2,2) Setting Offset to 20\n"
     ]
    },
    {
     "name": "stderr",
     "output_type": "stream",
     "text": [
      "2024-02-14 03:09:03,557 - ERROR:Script_Logger:GUI Message of type Error: Unable to read address space 'Waveform Sampler' because the i2c address is not set\n",
      "2024-02-14 03:10:43,672 - ERROR:Script_Logger:GUI Message of type Error: Unable to read address space 'Waveform Sampler' because the i2c address is not set\n"
     ]
    },
    {
     "name": "stdout",
     "output_type": "stream",
     "text": [
      "Run SEUEquivalenceFeb13_33 started at: 2024-02-14 03:11:03.739421\n",
      "Run SEUEquivalenceFeb13_33 ended at: 2024-02-14 03:14:10.214193\n"
     ]
    },
    {
     "name": "stderr",
     "output_type": "stream",
     "text": [
      "2024-02-14 03:15:50,297 - ERROR:Script_Logger:GUI Message of type Error: Unable to read address space 'Waveform Sampler' because the i2c address is not set\n",
      "2024-02-14 03:17:30,526 - ERROR:Script_Logger:GUI Message of type Error: Unable to read address space 'Waveform Sampler' because the i2c address is not set\n"
     ]
    },
    {
     "name": "stdout",
     "output_type": "stream",
     "text": [
      "Peripherals set for chip: 0x60\n",
      "Disabled pixels for chip: 0x60\n",
      "Peripherals set for chip: 0x61\n",
      "Disabled pixels for chip: 0x61\n",
      "Auto calibration done (TDC=0 + DAC=BL) for pixel (0,8) on chip: 0x60\n",
      "Auto calibration done (TDC=0 + DAC=BL) for pixel (0,2) on chip: 0x60\n",
      "Auto calibration done (TDC=0 + DAC=BL) for pixel (2,8) on chip: 0x60\n",
      "Auto calibration done (TDC=0 + DAC=BL) for pixel (2,2) on chip: 0x60\n",
      "Auto calibration done (TDC=0 + DAC=BL) for pixel (0,8) on chip: 0x61\n",
      "Auto calibration done (TDC=0 + DAC=BL) for pixel (0,2) on chip: 0x61\n",
      "Auto calibration done (TDC=0 + DAC=BL) for pixel (2,8) on chip: 0x61\n",
      "Auto calibration done (TDC=0 + DAC=BL) for pixel (2,2) on chip: 0x61\n",
      "Enabled pixel (0,8) for chip: 0x60\n",
      "Enabled pixel (0,2) for chip: 0x60\n",
      "Enabled pixel (2,8) for chip: 0x60\n",
      "Enabled pixel (2,2) for chip: 0x60\n",
      "Enabled pixel (0,8) for chip: 0x61\n",
      "Enabled pixel (0,2) for chip: 0x61\n",
      "Enabled pixel (2,8) for chip: 0x61\n",
      "Enabled pixel (2,2) for chip: 0x61\n",
      "Operating on chip 0x60 Pixel (0,8) Setting Offset to 20\n",
      "Operating on chip 0x60 Pixel (0,2) Setting Offset to 20\n",
      "Operating on chip 0x60 Pixel (2,8) Setting Offset to 20\n",
      "Operating on chip 0x60 Pixel (2,2) Setting Offset to 20\n",
      "Operating on chip 0x61 Pixel (0,8) Setting Offset to 20\n",
      "Operating on chip 0x61 Pixel (0,2) Setting Offset to 20\n",
      "Operating on chip 0x61 Pixel (2,8) Setting Offset to 20\n",
      "Operating on chip 0x61 Pixel (2,2) Setting Offset to 20\n"
     ]
    },
    {
     "name": "stderr",
     "output_type": "stream",
     "text": [
      "2024-02-14 03:21:01,149 - ERROR:Script_Logger:GUI Message of type Error: Unable to read address space 'Waveform Sampler' because the i2c address is not set\n",
      "2024-02-14 03:22:41,187 - ERROR:Script_Logger:GUI Message of type Error: Unable to read address space 'Waveform Sampler' because the i2c address is not set\n"
     ]
    },
    {
     "name": "stdout",
     "output_type": "stream",
     "text": [
      "Run SEUEquivalenceFeb13_34 started at: 2024-02-14 03:23:01.256500\n",
      "Run SEUEquivalenceFeb13_34 ended at: 2024-02-14 03:26:07.695929\n"
     ]
    },
    {
     "name": "stderr",
     "output_type": "stream",
     "text": [
      "2024-02-14 03:27:47,941 - ERROR:Script_Logger:GUI Message of type Error: Unable to read address space 'Waveform Sampler' because the i2c address is not set\n",
      "2024-02-14 03:29:28,252 - ERROR:Script_Logger:GUI Message of type Error: Unable to read address space 'Waveform Sampler' because the i2c address is not set\n"
     ]
    },
    {
     "name": "stdout",
     "output_type": "stream",
     "text": [
      "Peripherals set for chip: 0x60\n",
      "Disabled pixels for chip: 0x60\n",
      "Peripherals set for chip: 0x61\n",
      "Disabled pixels for chip: 0x61\n",
      "Auto calibration done (TDC=0 + DAC=BL) for pixel (0,8) on chip: 0x60\n",
      "Auto calibration done (TDC=0 + DAC=BL) for pixel (0,2) on chip: 0x60\n",
      "Auto calibration done (TDC=0 + DAC=BL) for pixel (2,8) on chip: 0x60\n",
      "Auto calibration done (TDC=0 + DAC=BL) for pixel (2,2) on chip: 0x60\n",
      "Auto calibration done (TDC=0 + DAC=BL) for pixel (0,8) on chip: 0x61\n",
      "Auto calibration done (TDC=0 + DAC=BL) for pixel (0,2) on chip: 0x61\n",
      "Auto calibration done (TDC=0 + DAC=BL) for pixel (2,8) on chip: 0x61\n",
      "Auto calibration done (TDC=0 + DAC=BL) for pixel (2,2) on chip: 0x61\n",
      "Enabled pixel (0,8) for chip: 0x60\n",
      "Enabled pixel (0,2) for chip: 0x60\n",
      "Enabled pixel (2,8) for chip: 0x60\n",
      "Enabled pixel (2,2) for chip: 0x60\n",
      "Enabled pixel (0,8) for chip: 0x61\n",
      "Enabled pixel (0,2) for chip: 0x61\n",
      "Enabled pixel (2,8) for chip: 0x61\n",
      "Enabled pixel (2,2) for chip: 0x61\n",
      "Operating on chip 0x60 Pixel (0,8) Setting Offset to 20\n",
      "Operating on chip 0x60 Pixel (0,2) Setting Offset to 20\n",
      "Operating on chip 0x60 Pixel (2,8) Setting Offset to 20\n",
      "Operating on chip 0x60 Pixel (2,2) Setting Offset to 20\n",
      "Operating on chip 0x61 Pixel (0,8) Setting Offset to 20\n",
      "Operating on chip 0x61 Pixel (0,2) Setting Offset to 20\n",
      "Operating on chip 0x61 Pixel (2,8) Setting Offset to 20\n",
      "Operating on chip 0x61 Pixel (2,2) Setting Offset to 20\n"
     ]
    },
    {
     "name": "stderr",
     "output_type": "stream",
     "text": [
      "2024-02-14 03:32:58,976 - ERROR:Script_Logger:GUI Message of type Error: Unable to read address space 'Waveform Sampler' because the i2c address is not set\n",
      "2024-02-14 03:34:39,290 - ERROR:Script_Logger:GUI Message of type Error: Unable to read address space 'Waveform Sampler' because the i2c address is not set\n"
     ]
    },
    {
     "name": "stdout",
     "output_type": "stream",
     "text": [
      "Run SEUEquivalenceFeb13_35 started at: 2024-02-14 03:34:59.356142\n",
      "Run SEUEquivalenceFeb13_35 ended at: 2024-02-14 03:38:05.876929\n"
     ]
    },
    {
     "name": "stderr",
     "output_type": "stream",
     "text": [
      "2024-02-14 03:39:46,171 - ERROR:Script_Logger:GUI Message of type Error: Unable to read address space 'Waveform Sampler' because the i2c address is not set\n",
      "2024-02-14 03:41:26,464 - ERROR:Script_Logger:GUI Message of type Error: Unable to read address space 'Waveform Sampler' because the i2c address is not set\n"
     ]
    },
    {
     "name": "stdout",
     "output_type": "stream",
     "text": [
      "Peripherals set for chip: 0x60\n",
      "Disabled pixels for chip: 0x60\n",
      "Peripherals set for chip: 0x61\n",
      "Disabled pixels for chip: 0x61\n",
      "Auto calibration done (TDC=0 + DAC=BL) for pixel (0,8) on chip: 0x60\n",
      "Auto calibration done (TDC=0 + DAC=BL) for pixel (0,2) on chip: 0x60\n",
      "Auto calibration done (TDC=0 + DAC=BL) for pixel (2,8) on chip: 0x60\n",
      "Auto calibration done (TDC=0 + DAC=BL) for pixel (2,2) on chip: 0x60\n",
      "Auto calibration done (TDC=0 + DAC=BL) for pixel (0,8) on chip: 0x61\n",
      "Auto calibration done (TDC=0 + DAC=BL) for pixel (0,2) on chip: 0x61\n",
      "Auto calibration done (TDC=0 + DAC=BL) for pixel (2,8) on chip: 0x61\n",
      "Auto calibration done (TDC=0 + DAC=BL) for pixel (2,2) on chip: 0x61\n",
      "Enabled pixel (0,8) for chip: 0x60\n",
      "Enabled pixel (0,2) for chip: 0x60\n",
      "Enabled pixel (2,8) for chip: 0x60\n",
      "Enabled pixel (2,2) for chip: 0x60\n",
      "Enabled pixel (0,8) for chip: 0x61\n",
      "Enabled pixel (0,2) for chip: 0x61\n",
      "Enabled pixel (2,8) for chip: 0x61\n",
      "Enabled pixel (2,2) for chip: 0x61\n",
      "Operating on chip 0x60 Pixel (0,8) Setting Offset to 20\n",
      "Operating on chip 0x60 Pixel (0,2) Setting Offset to 20\n",
      "Operating on chip 0x60 Pixel (2,8) Setting Offset to 20\n",
      "Operating on chip 0x60 Pixel (2,2) Setting Offset to 20\n",
      "Operating on chip 0x61 Pixel (0,8) Setting Offset to 20\n",
      "Operating on chip 0x61 Pixel (0,2) Setting Offset to 20\n",
      "Operating on chip 0x61 Pixel (2,8) Setting Offset to 20\n",
      "Operating on chip 0x61 Pixel (2,2) Setting Offset to 20\n"
     ]
    },
    {
     "name": "stderr",
     "output_type": "stream",
     "text": [
      "2024-02-14 03:44:56,045 - ERROR:Script_Logger:GUI Message of type Error: Unable to read address space 'Waveform Sampler' because the i2c address is not set\n",
      "2024-02-14 03:46:36,250 - ERROR:Script_Logger:GUI Message of type Error: Unable to read address space 'Waveform Sampler' because the i2c address is not set\n"
     ]
    },
    {
     "name": "stdout",
     "output_type": "stream",
     "text": [
      "Run SEUEquivalenceFeb13_36 started at: 2024-02-14 03:46:56.314744\n",
      "Run SEUEquivalenceFeb13_36 ended at: 2024-02-14 03:50:02.704935\n"
     ]
    },
    {
     "name": "stderr",
     "output_type": "stream",
     "text": [
      "2024-02-14 03:51:42,805 - ERROR:Script_Logger:GUI Message of type Error: Unable to read address space 'Waveform Sampler' because the i2c address is not set\n",
      "2024-02-14 03:53:22,824 - ERROR:Script_Logger:GUI Message of type Error: Unable to read address space 'Waveform Sampler' because the i2c address is not set\n"
     ]
    },
    {
     "name": "stdout",
     "output_type": "stream",
     "text": [
      "Peripherals set for chip: 0x60\n",
      "Disabled pixels for chip: 0x60\n",
      "Peripherals set for chip: 0x61\n",
      "Disabled pixels for chip: 0x61\n",
      "Auto calibration done (TDC=0 + DAC=BL) for pixel (0,8) on chip: 0x60\n",
      "Auto calibration done (TDC=0 + DAC=BL) for pixel (0,2) on chip: 0x60\n",
      "Auto calibration done (TDC=0 + DAC=BL) for pixel (2,8) on chip: 0x60\n",
      "Auto calibration done (TDC=0 + DAC=BL) for pixel (2,2) on chip: 0x60\n",
      "Auto calibration done (TDC=0 + DAC=BL) for pixel (0,8) on chip: 0x61\n",
      "Auto calibration done (TDC=0 + DAC=BL) for pixel (0,2) on chip: 0x61\n",
      "Auto calibration done (TDC=0 + DAC=BL) for pixel (2,8) on chip: 0x61\n",
      "Auto calibration done (TDC=0 + DAC=BL) for pixel (2,2) on chip: 0x61\n",
      "Enabled pixel (0,8) for chip: 0x60\n",
      "Enabled pixel (0,2) for chip: 0x60\n",
      "Enabled pixel (2,8) for chip: 0x60\n",
      "Enabled pixel (2,2) for chip: 0x60\n",
      "Enabled pixel (0,8) for chip: 0x61\n",
      "Enabled pixel (0,2) for chip: 0x61\n",
      "Enabled pixel (2,8) for chip: 0x61\n",
      "Enabled pixel (2,2) for chip: 0x61\n",
      "Operating on chip 0x60 Pixel (0,8) Setting Offset to 20\n",
      "Operating on chip 0x60 Pixel (0,2) Setting Offset to 20\n",
      "Operating on chip 0x60 Pixel (2,8) Setting Offset to 20\n",
      "Operating on chip 0x60 Pixel (2,2) Setting Offset to 20\n",
      "Operating on chip 0x61 Pixel (0,8) Setting Offset to 20\n",
      "Operating on chip 0x61 Pixel (0,2) Setting Offset to 20\n",
      "Operating on chip 0x61 Pixel (2,8) Setting Offset to 20\n",
      "Operating on chip 0x61 Pixel (2,2) Setting Offset to 20\n"
     ]
    },
    {
     "name": "stderr",
     "output_type": "stream",
     "text": [
      "2024-02-14 03:56:53,813 - ERROR:Script_Logger:GUI Message of type Error: Unable to read address space 'Waveform Sampler' because the i2c address is not set\n",
      "2024-02-14 03:58:33,994 - ERROR:Script_Logger:GUI Message of type Error: Unable to read address space 'Waveform Sampler' because the i2c address is not set\n"
     ]
    },
    {
     "name": "stdout",
     "output_type": "stream",
     "text": [
      "Run SEUEquivalenceFeb13_37 started at: 2024-02-14 03:58:54.060054\n",
      "Run SEUEquivalenceFeb13_37 ended at: 2024-02-14 04:01:59.650841\n"
     ]
    },
    {
     "name": "stderr",
     "output_type": "stream",
     "text": [
      "2024-02-14 04:03:39,765 - ERROR:Script_Logger:GUI Message of type Error: Unable to read address space 'Waveform Sampler' because the i2c address is not set\n",
      "2024-02-14 04:05:19,960 - ERROR:Script_Logger:GUI Message of type Error: Unable to read address space 'Waveform Sampler' because the i2c address is not set\n"
     ]
    },
    {
     "name": "stdout",
     "output_type": "stream",
     "text": [
      "Peripherals set for chip: 0x60\n",
      "Disabled pixels for chip: 0x60\n",
      "Peripherals set for chip: 0x61\n",
      "Disabled pixels for chip: 0x61\n",
      "Auto calibration done (TDC=0 + DAC=BL) for pixel (0,8) on chip: 0x60\n",
      "Auto calibration done (TDC=0 + DAC=BL) for pixel (0,2) on chip: 0x60\n",
      "Auto calibration done (TDC=0 + DAC=BL) for pixel (2,8) on chip: 0x60\n",
      "Auto calibration done (TDC=0 + DAC=BL) for pixel (2,2) on chip: 0x60\n",
      "Auto calibration done (TDC=0 + DAC=BL) for pixel (0,8) on chip: 0x61\n",
      "Auto calibration done (TDC=0 + DAC=BL) for pixel (0,2) on chip: 0x61\n",
      "Auto calibration done (TDC=0 + DAC=BL) for pixel (2,8) on chip: 0x61\n",
      "Auto calibration done (TDC=0 + DAC=BL) for pixel (2,2) on chip: 0x61\n",
      "Enabled pixel (0,8) for chip: 0x60\n",
      "Enabled pixel (0,2) for chip: 0x60\n",
      "Enabled pixel (2,8) for chip: 0x60\n",
      "Enabled pixel (2,2) for chip: 0x60\n",
      "Enabled pixel (0,8) for chip: 0x61\n",
      "Enabled pixel (0,2) for chip: 0x61\n",
      "Enabled pixel (2,8) for chip: 0x61\n",
      "Enabled pixel (2,2) for chip: 0x61\n",
      "Operating on chip 0x60 Pixel (0,8) Setting Offset to 20\n",
      "Operating on chip 0x60 Pixel (0,2) Setting Offset to 20\n",
      "Operating on chip 0x60 Pixel (2,8) Setting Offset to 20\n",
      "Operating on chip 0x60 Pixel (2,2) Setting Offset to 20\n",
      "Operating on chip 0x61 Pixel (0,8) Setting Offset to 20\n",
      "Operating on chip 0x61 Pixel (0,2) Setting Offset to 20\n",
      "Operating on chip 0x61 Pixel (2,8) Setting Offset to 20\n",
      "Operating on chip 0x61 Pixel (2,2) Setting Offset to 20\n"
     ]
    },
    {
     "name": "stderr",
     "output_type": "stream",
     "text": [
      "2024-02-14 04:08:51,955 - ERROR:Script_Logger:GUI Message of type Error: Unable to read address space 'Waveform Sampler' because the i2c address is not set\n",
      "2024-02-14 04:10:32,043 - ERROR:Script_Logger:GUI Message of type Error: Unable to read address space 'Waveform Sampler' because the i2c address is not set\n"
     ]
    },
    {
     "name": "stdout",
     "output_type": "stream",
     "text": [
      "Run SEUEquivalenceFeb13_38 started at: 2024-02-14 04:10:52.107327\n",
      "Run SEUEquivalenceFeb13_38 ended at: 2024-02-14 04:13:58.616730\n"
     ]
    },
    {
     "name": "stderr",
     "output_type": "stream",
     "text": [
      "2024-02-14 04:15:38,712 - ERROR:Script_Logger:GUI Message of type Error: Unable to read address space 'Waveform Sampler' because the i2c address is not set\n",
      "2024-02-14 04:17:18,964 - ERROR:Script_Logger:GUI Message of type Error: Unable to read address space 'Waveform Sampler' because the i2c address is not set\n"
     ]
    },
    {
     "name": "stdout",
     "output_type": "stream",
     "text": [
      "Peripherals set for chip: 0x60\n",
      "Disabled pixels for chip: 0x60\n",
      "Peripherals set for chip: 0x61\n",
      "Disabled pixels for chip: 0x61\n",
      "Auto calibration done (TDC=0 + DAC=BL) for pixel (0,8) on chip: 0x60\n",
      "Auto calibration done (TDC=0 + DAC=BL) for pixel (0,2) on chip: 0x60\n",
      "Auto calibration done (TDC=0 + DAC=BL) for pixel (2,8) on chip: 0x60\n",
      "Auto calibration done (TDC=0 + DAC=BL) for pixel (2,2) on chip: 0x60\n",
      "Auto calibration done (TDC=0 + DAC=BL) for pixel (0,8) on chip: 0x61\n",
      "Auto calibration done (TDC=0 + DAC=BL) for pixel (0,2) on chip: 0x61\n",
      "Auto calibration done (TDC=0 + DAC=BL) for pixel (2,8) on chip: 0x61\n",
      "Auto calibration done (TDC=0 + DAC=BL) for pixel (2,2) on chip: 0x61\n",
      "Enabled pixel (0,8) for chip: 0x60\n",
      "Enabled pixel (0,2) for chip: 0x60\n",
      "Enabled pixel (2,8) for chip: 0x60\n",
      "Enabled pixel (2,2) for chip: 0x60\n",
      "Enabled pixel (0,8) for chip: 0x61\n",
      "Enabled pixel (0,2) for chip: 0x61\n",
      "Enabled pixel (2,8) for chip: 0x61\n",
      "Enabled pixel (2,2) for chip: 0x61\n",
      "Operating on chip 0x60 Pixel (0,8) Setting Offset to 20\n",
      "Operating on chip 0x60 Pixel (0,2) Setting Offset to 20\n",
      "Operating on chip 0x60 Pixel (2,8) Setting Offset to 20\n",
      "Operating on chip 0x60 Pixel (2,2) Setting Offset to 20\n",
      "Operating on chip 0x61 Pixel (0,8) Setting Offset to 20\n",
      "Operating on chip 0x61 Pixel (0,2) Setting Offset to 20\n",
      "Operating on chip 0x61 Pixel (2,8) Setting Offset to 20\n",
      "Operating on chip 0x61 Pixel (2,2) Setting Offset to 20\n"
     ]
    },
    {
     "name": "stderr",
     "output_type": "stream",
     "text": [
      "2024-02-14 04:20:48,410 - ERROR:Script_Logger:GUI Message of type Error: Unable to read address space 'Waveform Sampler' because the i2c address is not set\n",
      "2024-02-14 04:22:28,692 - ERROR:Script_Logger:GUI Message of type Error: Unable to read address space 'Waveform Sampler' because the i2c address is not set\n"
     ]
    },
    {
     "name": "stdout",
     "output_type": "stream",
     "text": [
      "Run SEUEquivalenceFeb13_39 started at: 2024-02-14 04:22:48.760426\n",
      "Run SEUEquivalenceFeb13_39 ended at: 2024-02-14 04:25:55.231938\n"
     ]
    },
    {
     "name": "stderr",
     "output_type": "stream",
     "text": [
      "2024-02-14 04:27:35,540 - ERROR:Script_Logger:GUI Message of type Error: Unable to read address space 'Waveform Sampler' because the i2c address is not set\n",
      "2024-02-14 04:29:15,896 - ERROR:Script_Logger:GUI Message of type Error: Unable to read address space 'Waveform Sampler' because the i2c address is not set\n"
     ]
    }
   ],
   "source": [
    "total_runs = 40\n",
    "each_run_time = 1\n",
    "each_daq_time = 60*3  # Average of 3 minutes per run from Jan24\n",
    "\n",
    "for run_no in range(total_runs):\n",
    "    make_baselines(do_config = True, power_mode = power_mode, calibrate_chip=False, calibrate_pixels=scan_list)\n",
    "    do_pixel_operations(scan_list, board_offsets = board_offsets, noisy_pixels = noisy_pixels, power_mode = power_mode)\n",
    "\n",
    "    time.sleep(40)\n",
    "\n",
    "    i2c_conn.dump_config(config_outdir, \"PreRun\")\n",
    "\n",
    "    time.sleep(20)\n",
    "\n",
    "    run_name = f\"SEUEquivalenceFeb13_{run_no}\"\n",
    "\n",
    "    log_action_v2(log_path, \"DAQ\", \"Run\", \"Start\")\n",
    "    print(f\"Run {run_name} started at:\", datetime.datetime.now().isoformat(sep=\" \"))\n",
    "    run_daq(trigger_board=trigger_board, trigger_board_name=trigger_board_name, run_number=run_name, total_time=each_run_time, daq_time=each_daq_time, run_options=\"--compressed_binary --skip_translation\", reset_string=\"--check_valid_data_start\")\n",
    "    print(f\"Run {run_name} ended at:\", datetime.datetime.now().isoformat(sep=\" \"))\n",
    "    log_action_v2(log_path, \"DAQ\", \"Run\", \"Start\")\n",
    "\n",
    "    i2c_conn.dump_config(config_outdir, \"PostRun\")\n",
    "\n",
    "    time.sleep(10)"
   ]
  },
  {
   "attachments": {},
   "cell_type": "markdown",
   "metadata": {},
   "source": [
    "## Dump I2C Config Before Run\n"
   ]
  },
  {
   "cell_type": "code",
   "execution_count": null,
   "metadata": {},
   "outputs": [],
   "source": [
    "i2c_conn.dump_config(config_outdir, \"PreRun\")"
   ]
  },
  {
   "attachments": {},
   "cell_type": "markdown",
   "metadata": {},
   "source": [
    "## Do Run"
   ]
  },
  {
   "cell_type": "code",
   "execution_count": null,
   "metadata": {},
   "outputs": [],
   "source": [
    "run_numbers = [\"SEUJan24_22\"]\n",
    "total_time = 1\n",
    "daq_time = 45\n",
    "\n",
    "\n",
    "for run_number in run_numbers:\n",
    "    print(f\"Run {run_number} started at:\", datetime.datetime.now().isoformat(sep=\" \"))\n",
    "    run_daq(trigger_board=trigger_board, trigger_board_name=trigger_board_name, run_number=run_number, total_time=total_time, daq_time=daq_time, run_options=\"--compressed_binary --skip_translation\", reset_string=\"--check_valid_data_start\")\n",
    "    print(f\"Run {run_number} ended at:\", datetime.datetime.now().isoformat(sep=\" \"))"
   ]
  },
  {
   "attachments": {},
   "cell_type": "markdown",
   "metadata": {},
   "source": [
    "## Dump I2C Config After Run\n"
   ]
  },
  {
   "cell_type": "code",
   "execution_count": null,
   "metadata": {},
   "outputs": [],
   "source": [
    "i2c_conn.dump_config(config_outdir, \"PostRun\")"
   ]
  },
  {
   "cell_type": "code",
   "execution_count": null,
   "metadata": {},
   "outputs": [],
   "source": []
  }
 ],
 "metadata": {
  "kernelspec": {
   "display_name": "Python 3",
   "language": "python",
   "name": "python3"
  },
  "language_info": {
   "codemirror_mode": {
    "name": "ipython",
    "version": 3
   },
   "file_extension": ".py",
   "mimetype": "text/x-python",
   "name": "python",
   "nbconvert_exporter": "python",
   "pygments_lexer": "ipython3",
   "version": "3.10.12"
  },
  "orig_nbformat": 4
 },
 "nbformat": 4,
 "nbformat_minor": 2
}
