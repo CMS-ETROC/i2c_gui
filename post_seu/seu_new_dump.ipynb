{
 "cells": [
  {
   "cell_type": "code",
   "execution_count": null,
   "metadata": {},
   "outputs": [],
   "source": [
    "#############################################################################\n",
    "# zlib License\n",
    "#\n",
    "# (C) 2023 Zach Flowers, Murtaza Safdari <musafdar@cern.ch>, Cristovao da Cruz e Silva\n",
    "#\n",
    "# This software is provided 'as-is', without any express or implied\n",
    "# warranty.  In no event will the authors be held liable for any damages\n",
    "# arising from the use of this software.\n",
    "#\n",
    "# Permission is granted to anyone to use this software for any purpose,\n",
    "# including commercial applications, and to alter it and redistribute it\n",
    "# freely, subject to the following restrictions:\n",
    "#\n",
    "# 1. The origin of this software must not be misrepresented; you must not\n",
    "#    claim that you wrote the original software. If you use this software\n",
    "#    in a product, an acknowledgment in the product documentation would be\n",
    "#    appreciated but is not required.\n",
    "# 2. Altered source versions must be plainly marked as such, and must not be\n",
    "#    misrepresented as being the original software.\n",
    "# 3. This notice may not be removed or altered from any source distribution.\n",
    "#############################################################################"
   ]
  },
  {
   "cell_type": "code",
   "execution_count": null,
   "metadata": {},
   "outputs": [],
   "source": [
    "#%%\n",
    "%matplotlib inline\n",
    "import matplotlib.pyplot as plt\n",
    "import logging\n",
    "import i2c_gui\n",
    "import i2c_gui.chips\n",
    "from i2c_gui.usb_iss_helper import USB_ISS_Helper\n",
    "from i2c_gui.fpga_eth_helper import FPGA_ETH_Helper\n",
    "import numpy as np\n",
    "from mpl_toolkits.axes_grid1 import make_axes_locatable\n",
    "from tqdm import tqdm\n",
    "# from i2c_gui.chips.etroc2_chip import register_decoding\n",
    "import os, sys\n",
    "import multiprocessing\n",
    "import datetime\n",
    "import pandas\n",
    "from pathlib import Path\n",
    "import sqlite3\n",
    "from notebooks.notebook_helpers import *\n",
    "from math import ceil\n",
    "\n",
    "os.chdir(f'/home/{os.getlogin()}/ETROC2/ETROC_DAQ')\n",
    "import run_script\n",
    "import parser_arguments\n",
    "import importlib\n",
    "importlib.reload(run_script)\n",
    "\n",
    "from scripts.log_action import log_action_v2\n",
    "\n",
    "## For faster i2c dumping\n",
    "import i2c_gui2\n",
    "import time"
   ]
  },
  {
   "cell_type": "code",
   "execution_count": null,
   "metadata": {},
   "outputs": [],
   "source": [
    "#%%\n",
    "%matplotlib inline\n",
    "import matplotlib.pyplot as plt\n",
    "plt.figure()\n",
    "plt.show()"
   ]
  },
  {
   "attachments": {},
   "cell_type": "markdown",
   "metadata": {},
   "source": [
    "# Set defaults"
   ]
  },
  {
   "cell_type": "code",
   "execution_count": null,
   "metadata": {},
   "outputs": [],
   "source": [
    "# !!!!!!!!!!!!\n",
    "# It is very important to correctly set the chip name, this value is stored with the data\n",
    "chip_names = [\"ET2_Bare_2\", \"ET2_Bare_3\"]\n",
    "chip_fignames = [\"ETROC 2.01 Bare Board 2\", \"ETROC 2.01 Bare Board 3\"]\n",
    "\n",
    "#chip_names = [\"ET2_Bare_4\"]\n",
    "#chip_fignames = [\"ETROC 2.01 Bare Board 4\"]\n",
    "\n",
    "chip_figtitles = chip_names\n",
    "\n",
    "# 'The port name the USB-ISS module is connected to. Default: /dev/ttyACM0'\n",
    "port = \"/dev/ttyACM0\"\n",
    "# I2C addresses for the pixel block and WS\n",
    "chip_addresses = [0x60, 0x61]\n",
    "#chip_addresses = [0x60]\n",
    "ws_addresses = [None, None]\n",
    "\n",
    "fig_outdir = Path('../ETROC-figures')\n",
    "fig_outdir = fig_outdir / (datetime.date.today().isoformat() + '_Array_Test_Results')\n",
    "fig_outdir.mkdir(exist_ok=True)\n",
    "fig_path = str(fig_outdir)\n",
    "\n",
    "config_outdir = Path('../ETROC-Data')\n",
    "config_outdir = config_outdir / \"ChipConfig\"\n",
    "config_outdir.mkdir(exist_ok=True)\n",
    "\n",
    "log_path = Path(f'/home/{os.getlogin()}/ETROC2/i2c_gui')\n",
    "\n",
    "full_col_list, full_row_list = np.meshgrid(np.arange(16),np.arange(16))\n",
    "full_scan_list = list(zip(full_row_list.flatten(),full_col_list.flatten()))"
   ]
  },
  {
   "attachments": {},
   "cell_type": "markdown",
   "metadata": {},
   "source": [
    "# Make i2c_connection class object"
   ]
  },
  {
   "cell_type": "code",
   "execution_count": null,
   "metadata": {},
   "outputs": [],
   "source": [
    "# i2c_conn = self, port, chip_addresses, chip_names, chip_fc_delays\n",
    "i2c_conn = i2c_connection(port,chip_addresses,ws_addresses,chip_names,[(\"1\",\"1\"),(\"1\",\"1\")])"
   ]
  },
  {
   "attachments": {},
   "cell_type": "markdown",
   "metadata": {},
   "source": [
    "# Config chips"
   ]
  },
  {
   "attachments": {},
   "cell_type": "markdown",
   "metadata": {},
   "source": [
    "## Key is (Disable Pixels, Auto Cal, Chip Peripherals, Basic Peri Reg Check, Pixel Check)"
   ]
  },
  {
   "cell_type": "code",
   "execution_count": null,
   "metadata": {},
   "outputs": [],
   "source": [
    "# (WS Prep Pixel and Peri) - 0 - (disable & auto_cal all pixels) - (auto_TH_CAL) - (disable default all pixels) - (set basic peripherals) - (peripheral reg check) -  (pixel ID check)\n",
    "log_action_v2(log_path, \"DAQ\", \"Config\", \"Initial\")\n",
    "i2c_conn.config_chips('00001101')\n",
    "for address in chip_addresses:\n",
    "    log_action_v2(log_path, \"DAQ\", \"Config\", \"High Power\")\n",
    "    i2c_conn.set_power_mode_scan_list(address, full_scan_list, 'high')\n",
    "log_action_v2(log_path, \"DAQ\", \"Config\", \"Baseline\")\n",
    "i2c_conn.config_chips('00010000')\n",
    "log_action_v2(log_path, \"DAQ\", \"Config\", \"Done\")"
   ]
  },
  {
   "attachments": {},
   "cell_type": "markdown",
   "metadata": {},
   "source": [
    "## Dump I2C Config\n"
   ]
  },
  {
   "cell_type": "code",
   "execution_count": null,
   "metadata": {},
   "outputs": [],
   "source": [
    "def i2c_dumping(\n",
    "        port: str,\n",
    "        etroc_i2c_address: int,\n",
    "        ws_i2c_address: int,\n",
    "        outdir: Path,\n",
    "        chip_name: str,\n",
    "        fname: str,\n",
    "    ):\n",
    "    clock = 100\n",
    "    conn = i2c_gui2.USB_ISS_Helper(port, clock, dummy_connect = False)\n",
    "\n",
    "    print(f\"USB-ISS Firmware Version: {conn.fw_version}\")\n",
    "    print(f\"USB-ISS Serial Number: {conn.serial}\")\n",
    "\n",
    "    chip_logger = logging.getLogger(\"Chip\")\n",
    "    chip = i2c_gui2.ETROC2_Chip(etroc_i2c_address, ws_i2c_address, conn, chip_logger)\n",
    "\n",
    "    start_time = time.time()\n",
    "    chip.read_all_efficient()\n",
    "    end_time = time.time()\n",
    "    current_time = datetime.datetime.now().isoformat().replace(\":\",\"-\")\n",
    "    chip.save_config(outdir / f\"{current_time}_{chip_name}_{fname}.pckl\")\n",
    "\n",
    "    print(\"--- %s seconds ---\" % (end_time - start_time))"
   ]
  },
  {
   "cell_type": "code",
   "execution_count": null,
   "metadata": {},
   "outputs": [],
   "source": [
    "i2c_dumping(port=port, etroc_i2c_address=chip_addresses[0], ws_i2c_address=ws_addresses[0], outdir=config_outdir, chip_name=\"ET2_Bare7\", fname=\"test\")"
   ]
  },
  {
   "attachments": {},
   "cell_type": "markdown",
   "metadata": {},
   "source": [
    "## Visualize the learned Baselines (BL) and Noise Widths (NW)\n",
    "\n",
    "Note that the NW represents the full width on either side of the BL"
   ]
  },
  {
   "cell_type": "code",
   "execution_count": null,
   "metadata": {},
   "outputs": [],
   "source": [
    "def make_baselines(do_config = True, power_mode = 'high', calibrate_chip=True, calibrate_pixels=None):\n",
    "    if do_config:\n",
    "        log_action_v2(log_path, \"DAQ\", \"Config\", \"Basic and Disable\")\n",
    "        i2c_conn.config_chips('00001100')\n",
    "        for address in chip_addresses:\n",
    "            if power_mode == 'low':\n",
    "                log_action_v2(log_path, \"DAQ\", \"Config\", \"Low Power\")\n",
    "            elif power_mode == 'high':\n",
    "                log_action_v2(log_path, \"DAQ\", \"Config\", \"High Power\")\n",
    "            else:\n",
    "                log_action_v2(log_path, \"DAQ\", \"Config\", \"Set Power\")\n",
    "            i2c_conn.set_power_mode_scan_list(address, full_scan_list, power_mode = power_mode)\n",
    "\n",
    "    histdir = Path('/media/daq/T7/ETROC-History-SEUEquivalence')\n",
    "    histdir.mkdir(exist_ok=True)\n",
    "    histfile = histdir / 'BaselineHistory.sqlite'\n",
    "\n",
    "    log_action_v2(log_path, \"DAQ\", \"Config\", \"Baseline\")\n",
    "    if(calibrate_chip): i2c_conn.config_chips('00010000')\n",
    "    elif(calibrate_pixels is not None):\n",
    "        data = []\n",
    "        for aidx,address in enumerate(chip_addresses):\n",
    "            for row,col in calibrate_pixels:\n",
    "                i2c_conn.auto_cal_pixel(chip_name=chip_names[aidx], row=row, col=col, verbose=True, chip_address=address, data=data)\n",
    "        BL_df = pandas.DataFrame(data = data)\n",
    "        with sqlite3.connect(histfile) as sqlconn:\n",
    "            BL_df.to_sql('baselines', sqlconn, if_exists='append', index=False)\n",
    "        del data, BL_df\n",
    "        return\n",
    "\n",
    "    log_action_v2(log_path, \"DAQ\", \"Config\", \"Done\")\n",
    "\n",
    "    # from mpl_toolkits.axes_grid1 import make_axes_locatable\n",
    "    for chip_address, chip_figname, chip_figtitle in zip(chip_addresses,chip_fignames,chip_fignames):\n",
    "        BL_map_THCal,NW_map_THCal,BL_df,_ = i2c_conn.get_auto_cal_maps(chip_address)\n",
    "        fig = plt.figure(dpi=200, figsize=(20,10))\n",
    "        gs = fig.add_gridspec(1,2)\n",
    "\n",
    "        ax0 = fig.add_subplot(gs[0,0])\n",
    "        ax0.set_title(f\"{chip_figtitle}: BL (DAC LSB)\", size=17, loc=\"right\")\n",
    "        img0 = ax0.imshow(BL_map_THCal, interpolation='none')\n",
    "        ax0.set_aspect(\"equal\")\n",
    "        ax0.invert_xaxis()\n",
    "        ax0.invert_yaxis()\n",
    "        plt.xticks(range(16), range(16), rotation=\"vertical\")\n",
    "        plt.yticks(range(16), range(16))\n",
    "        hep.cms.text(loc=0, ax=ax0, fontsize=17, text=\"Preliminary\")\n",
    "        divider = make_axes_locatable(ax0)\n",
    "        cax = divider.append_axes('right', size=\"5%\", pad=0.05)\n",
    "        fig.colorbar(img0, cax=cax, orientation=\"vertical\")\n",
    "\n",
    "        ax1 = fig.add_subplot(gs[0,1])\n",
    "        ax1.set_title(f\"{chip_figtitle}: NW (DAC LSB)\", size=17, loc=\"right\")\n",
    "        img1 = ax1.imshow(NW_map_THCal, interpolation='none')\n",
    "        ax1.set_aspect(\"equal\")\n",
    "        ax1.invert_xaxis()\n",
    "        ax1.invert_yaxis()\n",
    "        plt.xticks(range(16), range(16), rotation=\"vertical\")\n",
    "        plt.yticks(range(16), range(16))\n",
    "        hep.cms.text(loc=0, ax=ax1, fontsize=17, text=\"Preliminary\")\n",
    "        divider = make_axes_locatable(ax1)\n",
    "        cax = divider.append_axes('right', size=\"5%\", pad=0.05)\n",
    "        fig.colorbar(img1, cax=cax, orientation=\"vertical\")\n",
    "\n",
    "        timestamp = datetime.datetime.now().strftime(\"%Y-%m-%d_%H-%M\")\n",
    "\n",
    "        for x in range(16):\n",
    "            for y in range(16):\n",
    "                ax0.text(x,y,f\"{BL_map_THCal.T[x,y]:.0f}\", c=\"white\", size=10, rotation=45, fontweight=\"bold\", ha=\"center\", va=\"center\")\n",
    "                ax1.text(x,y,f\"{NW_map_THCal.T[x,y]:.0f}\", c=\"white\", size=10, rotation=45, fontweight=\"bold\", ha=\"center\", va=\"center\")\n",
    "        plt.tight_layout()\n",
    "        plt.savefig(fig_path+\"/BL_NW_\"+chip_figname+\"_\"+timestamp+\".png\")\n",
    "        plt.show()\n",
    "\n",
    "        with sqlite3.connect(histfile) as sqlconn:\n",
    "            BL_df.to_sql('baselines', sqlconn, if_exists='append', index=False)\n",
    "\n",
    "    time.sleep(1)"
   ]
  },
  {
   "cell_type": "code",
   "execution_count": null,
   "metadata": {},
   "outputs": [],
   "source": [
    "make_baselines(True)"
   ]
  },
  {
   "attachments": {},
   "cell_type": "markdown",
   "metadata": {},
   "source": [
    "# Define Utility Functions"
   ]
  },
  {
   "cell_type": "code",
   "execution_count": null,
   "metadata": {},
   "outputs": [],
   "source": [
    "def do_pixel_operations(scan_list, board_offsets=None, noisy_pixels=None, power_mode='high'):\n",
    "    log_action_v2(log_path, \"DAQ\", \"Config\", \"Pixel Operations\")\n",
    "    i2c_conn.enable_select_pixels_in_chips(scan_list,QInjEn=True,Bypass_THCal=False,specified_addresses=chip_addresses[:], power_mode=power_mode)\n",
    "\n",
    "    # offset = 0x0f\n",
    "    # for chip_address in chip_addresses[:]:\n",
    "    #     chip = i2c_conn.get_chip_i2c_connection(chip_address)\n",
    "    #     row_indexer_handle,_,_ = chip.get_indexer(\"row\")\n",
    "    #     column_indexer_handle,_,_ = chip.get_indexer(\"column\")\n",
    "    #     for row, col in scan_list:\n",
    "    #         print(f\"Operating on chip {hex(chip_address)} Pixel ({row},{col})\")\n",
    "    #         column_indexer_handle.set(col)\n",
    "    #         row_indexer_handle.set(row)\n",
    "    #         i2c_conn.pixel_decoded_register_write(\"TH_offset\", format(offset, '06b'), chip)\n",
    "    #     del chip, row_indexer_handle, column_indexer_handle\n",
    "\n",
    "    if board_offsets is not None:\n",
    "        time.sleep(1)\n",
    "\n",
    "        for chip_address in chip_addresses[:]:\n",
    "            if chip_address not in board_offsets:\n",
    "                continue\n",
    "\n",
    "            chip = i2c_conn.get_chip_i2c_connection(chip_address)\n",
    "            row_indexer_handle,_,_ = chip.get_indexer(\"row\")\n",
    "            column_indexer_handle,_,_ = chip.get_indexer(\"column\")\n",
    "            for row, col in scan_list:\n",
    "                print(f\"Operating on chip {hex(chip_address)} Pixel ({row},{col}) Setting Offset to {board_offsets[chip_address]}\")\n",
    "                column_indexer_handle.set(col)\n",
    "                row_indexer_handle.set(row)\n",
    "                i2c_conn.pixel_decoded_register_write(\"QSel\", format(0x1e, '05b'), chip)\n",
    "                i2c_conn.pixel_decoded_register_write(\"TH_offset\", format(board_offsets[chip_address], '06b'), chip)\n",
    "            del chip, row_indexer_handle, column_indexer_handle\n",
    "\n",
    "    if noisy_pixels is not None:\n",
    "        time.sleep(1)\n",
    "\n",
    "        for chip_address in chip_addresses:\n",
    "            if chip_address not in noisy_pixels:\n",
    "                continue\n",
    "            chip = i2c_conn.get_chip_i2c_connection(chip_address)\n",
    "            row_indexer_handle,_,_ = chip.get_indexer(\"row\")\n",
    "            column_indexer_handle,_,_ = chip.get_indexer(\"column\")\n",
    "            for row, col in noisy_pixels[chip_address]:\n",
    "                print(f\"Masking from trigger of chip {hex(chip_address)} Pixel ({row},{col})\")\n",
    "                column_indexer_handle.set(col)\n",
    "                row_indexer_handle.set(row)\n",
    "\n",
    "                i2c_conn.pixel_decoded_register_write(\"disTrigPath\", \"1\", chip)\n",
    "                #i2c_conn.pixel_decoded_register_write(\"DAC\", format(1023, '010b'), chip)\n",
    "                #i2c_conn.pixel_decoded_register_write(\"Bypass_THCal\", \"1\", chip)\n",
    "\n",
    "    time.sleep(1)"
   ]
  },
  {
   "cell_type": "code",
   "execution_count": null,
   "metadata": {},
   "outputs": [],
   "source": [
    "self_trigger_delay = 484\n",
    "#LED_pages = [\"0x0000\",\"0x0004\",\"0x0008\",\"0x000C\"] # LED pages to cycle through\n",
    "LED_pages = [\"0x0000\", \"0x0004\"] # LED pages to cycle through\n",
    "active_channels = \"0x0003\"\n",
    "polarity = \"0x0027\" # or \"0x0023\"\n",
    "hostname = \"192.168.2.3\""
   ]
  },
  {
   "cell_type": "code",
   "execution_count": null,
   "metadata": {},
   "outputs": [],
   "source": [
    "def run_daq(trigger_board, trigger_board_name, run_number, total_time, daq_time, run_options=\"--compressed_binary --skip_translation -v\", allow_overwrite = False, reset_string = \"--check_valid_data_start --clear_fifo\"):\n",
    "    out_dir = Path('/media/daq/T7/ETROC-Data')\n",
    "    if not out_dir.exists():\n",
    "        raise RuntimeError(\"The base output directory does not exist... there may be a script config problem\")\n",
    "    if not allow_overwrite:\n",
    "        run_dir = out_dir / f\"Run_{run_number}\"\n",
    "        if run_dir.exists():\n",
    "            raise RuntimeError(\"Run directory already exists, I am not going to overwrite\")\n",
    "\n",
    "    trigger_bit_delay = int(trigger_board+'11'+format(self_trigger_delay, '010b'), base=2)\n",
    "    trigger_bit_delay = 0x3800\n",
    "    process_time = daq_time + 5\n",
    "    iterations = ceil(total_time/process_time)\n",
    "    LED_id = 0\n",
    "\n",
    "    for it in range(iterations):\n",
    "        LED_page = LED_pages[LED_id]\n",
    "        LED_id += 1\n",
    "        if LED_id >= len(LED_pages): LED_id = 0\n",
    "        reset_string = \"--check_valid_data_start\"\n",
    "        if(it==0): reset_string = reset_string\n",
    "        parser = parser_arguments.create_parser()\n",
    "        (options, args) = parser.parse_args(args=f\"-f --useIPC --hostname {hostname} -t {process_time} --run_name Run_{run_number} -o loop_{it} -w -s {LED_page} -p {polarity} -d {trigger_bit_delay} -a {active_channels} {run_options} --ssd --start_DAQ_pulse --stop_DAQ_pulse {reset_string}\".split())\n",
    "        IPC_queue = multiprocessing.Queue()\n",
    "        process = multiprocessing.Process(target=run_script.main_process, args=(IPC_queue, options, f'main_process_Run_{run_number}_loop_{it}'))\n",
    "        process.start()\n",
    "\n",
    "        IPC_queue.put('memoFC Start Triggerbit BCR L1A QInj')\n",
    "        while not IPC_queue.empty():\n",
    "            pass\n",
    "        time.sleep(daq_time)\n",
    "        IPC_queue.put('stop DAQ')\n",
    "        IPC_queue.put('memoFC Triggerbit')\n",
    "        while not IPC_queue.empty():\n",
    "            pass\n",
    "        IPC_queue.put('allow threads to exit')\n",
    "        process.join()\n",
    "\n",
    "        del IPC_queue, process, parser"
   ]
  },
  {
   "attachments": {},
   "cell_type": "markdown",
   "metadata": {},
   "source": [
    "# Run DAQ"
   ]
  },
  {
   "cell_type": "code",
   "execution_count": null,
   "metadata": {},
   "outputs": [],
   "source": [
    "trigger_board = '0001'\n",
    "trigger_board_name = chip_names[0]\n",
    "\n",
    "col_list = [8, 2, 8, 2]\n",
    "row_list = [0, 0, 2, 2]\n",
    "# col_list = [8, 2, 8]\n",
    "# row_list = [0, 0, 2]\n",
    "# col_list = [8, 2]\n",
    "# row_list = [0, 0]\n",
    "# col_list = [8]\n",
    "# row_list = [0]\n",
    "#col_list = []\n",
    "#row_list = []\n",
    "scan_list = list(zip(row_list, col_list))\n",
    "\n",
    "board_offsets = {\n",
    "    0x60: 0x14,\n",
    "    0x61: 0x14,\n",
    "    #0x62: 0x0f,\n",
    "    #0x64: 0x0a,\n",
    "}\n",
    "noisy_pixels = {\n",
    "    #0x60: [ # (row, col)\n",
    "    #    (10, 8),\n",
    "    #    (13, 4),\n",
    "    #],\n",
    "}\n",
    "power_mode = 'high'"
   ]
  },
  {
   "attachments": {},
   "cell_type": "markdown",
   "metadata": {},
   "source": [
    "## Pixel Operations"
   ]
  },
  {
   "cell_type": "code",
   "execution_count": null,
   "metadata": {},
   "outputs": [],
   "source": [
    "make_baselines(do_config = True, power_mode = power_mode, calibrate_chip=False, calibrate_pixels=scan_list)\n",
    "do_pixel_operations(scan_list, board_offsets = board_offsets, noisy_pixels = noisy_pixels, power_mode = power_mode)"
   ]
  },
  {
   "cell_type": "markdown",
   "metadata": {},
   "source": [
    "# Calibrate FC for all I2C"
   ]
  },
  {
   "cell_type": "code",
   "execution_count": null,
   "metadata": {},
   "outputs": [],
   "source": [
    "time.sleep(2)\n",
    "for chip_address in chip_addresses[:]:\n",
    "    i2c_conn.asyResetGlobalReadout(chip_address, chip=None)\n",
    "    i2c_conn.asyAlignFastcommand(chip_address, chip=None)\n",
    "time.sleep(2)\n",
    "for chip_address in chip_addresses[:]:\n",
    "    i2c_conn.asyResetGlobalReadout(chip_address, chip=None)\n",
    "    i2c_conn.asyAlignFastcommand(chip_address, chip=None)"
   ]
  },
  {
   "cell_type": "markdown",
   "metadata": {},
   "source": [
    "# Calibrate PLL"
   ]
  },
  {
   "cell_type": "code",
   "execution_count": null,
   "metadata": {},
   "outputs": [],
   "source": [
    "for chip_address in chip_addresses[:]:\n",
    "    i2c_conn.calibratePLL(chip_address, chip=None)"
   ]
  },
  {
   "attachments": {},
   "cell_type": "markdown",
   "metadata": {},
   "source": [
    "## Short Run for testing"
   ]
  },
  {
   "cell_type": "code",
   "execution_count": null,
   "metadata": {},
   "outputs": [],
   "source": [
    "# run_daq(trigger_board=trigger_board, trigger_board_name=trigger_board_name, run_number=\"Test_short_Jan27_1\", total_time=1, daq_time=30, allow_overwrite=True, run_options=\"--compressed_binary -v\", reset_string=\"--check_valid_data_start --clear_fifo\")\n",
    "log_action_v2(log_path, \"DAQ\", \"Run\", \"Test Start\")\n",
    "run_daq(trigger_board=trigger_board, trigger_board_name=trigger_board_name, run_number=\"Test_short_Feb13_12\", total_time=1, daq_time=10, allow_overwrite=True, run_options=\"--compressed_binary -v\", reset_string=\"--check_valid_data_start --clear_fifo\")\n",
    "log_action_v2(log_path, \"DAQ\", \"Run\", \"Test Stop\")"
   ]
  },
  {
   "cell_type": "markdown",
   "metadata": {},
   "source": [
    "## SEU Equivalence\n",
    "(only for running long tests outside of SEU)"
   ]
  },
  {
   "cell_type": "code",
   "execution_count": null,
   "metadata": {},
   "outputs": [],
   "source": [
    "total_runs = 40\n",
    "each_run_time = 1\n",
    "each_daq_time = 60*3  # Average of 3 minutes per run from Jan24\n",
    "\n",
    "for run_no in range(total_runs):\n",
    "    make_baselines(do_config = True, power_mode = power_mode, calibrate_chip=False, calibrate_pixels=scan_list)\n",
    "    do_pixel_operations(scan_list, board_offsets = board_offsets, noisy_pixels = noisy_pixels, power_mode = power_mode)\n",
    "\n",
    "    time.sleep(40)\n",
    "\n",
    "    i2c_conn.dump_config(config_outdir, \"PreRun\")\n",
    "\n",
    "    time.sleep(20)\n",
    "\n",
    "    run_name = f\"SEUEquivalenceFeb13_{run_no}\"\n",
    "\n",
    "    log_action_v2(log_path, \"DAQ\", \"Run\", \"Start\")\n",
    "    print(f\"Run {run_name} started at:\", datetime.datetime.now().isoformat(sep=\" \"))\n",
    "    run_daq(trigger_board=trigger_board, trigger_board_name=trigger_board_name, run_number=run_name, total_time=each_run_time, daq_time=each_daq_time, run_options=\"--compressed_binary --skip_translation\", reset_string=\"--check_valid_data_start\")\n",
    "    print(f\"Run {run_name} ended at:\", datetime.datetime.now().isoformat(sep=\" \"))\n",
    "    log_action_v2(log_path, \"DAQ\", \"Run\", \"Start\")\n",
    "\n",
    "    i2c_conn.dump_config(config_outdir, \"PostRun\")\n",
    "\n",
    "    time.sleep(10)"
   ]
  },
  {
   "attachments": {},
   "cell_type": "markdown",
   "metadata": {},
   "source": [
    "## Dump I2C Config Before Run\n"
   ]
  },
  {
   "cell_type": "code",
   "execution_count": null,
   "metadata": {},
   "outputs": [],
   "source": [
    "i2c_dumping(port=port, etroc_i2c_address=chip_addresses[0], ws_i2c_address=ws_addresses[0], outdir=config_outdir, chip_name=\"ET2_Bare7\", fname=\"PreRun\")"
   ]
  },
  {
   "attachments": {},
   "cell_type": "markdown",
   "metadata": {},
   "source": [
    "## Do Run"
   ]
  },
  {
   "cell_type": "code",
   "execution_count": null,
   "metadata": {},
   "outputs": [],
   "source": [
    "run_numbers = [\"SEUJan24_22\"]\n",
    "total_time = 1\n",
    "daq_time = 45\n",
    "\n",
    "\n",
    "for run_number in run_numbers:\n",
    "    print(f\"Run {run_number} started at:\", datetime.datetime.now().isoformat(sep=\" \"))\n",
    "    run_daq(trigger_board=trigger_board, trigger_board_name=trigger_board_name, run_number=run_number, total_time=total_time, daq_time=daq_time, run_options=\"--compressed_binary --skip_translation\", reset_string=\"--check_valid_data_start\")\n",
    "    print(f\"Run {run_number} ended at:\", datetime.datetime.now().isoformat(sep=\" \"))"
   ]
  },
  {
   "attachments": {},
   "cell_type": "markdown",
   "metadata": {},
   "source": [
    "## Dump I2C Config After Run\n"
   ]
  },
  {
   "cell_type": "code",
   "execution_count": null,
   "metadata": {},
   "outputs": [],
   "source": [
    "i2c_dumping(port=port, etroc_i2c_address=chip_addresses[0], ws_i2c_address=ws_addresses[0], outdir=config_outdir, chip_name=\"ET2_Bare7\", fname=\"PostRun\")"
   ]
  },
  {
   "cell_type": "code",
   "execution_count": null,
   "metadata": {},
   "outputs": [],
   "source": []
  }
 ],
 "metadata": {
  "kernelspec": {
   "display_name": "Python 3",
   "language": "python",
   "name": "python3"
  },
  "language_info": {
   "codemirror_mode": {
    "name": "ipython",
    "version": 3
   },
   "file_extension": ".py",
   "mimetype": "text/x-python",
   "name": "python",
   "nbconvert_exporter": "python",
   "pygments_lexer": "ipython3",
   "version": "3.10.6"
  },
  "orig_nbformat": 4
 },
 "nbformat": 4,
 "nbformat_minor": 2
}
