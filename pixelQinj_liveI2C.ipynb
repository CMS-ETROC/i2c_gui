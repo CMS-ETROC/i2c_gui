{
 "cells": [
  {
   "cell_type": "code",
   "execution_count": null,
   "metadata": {},
   "outputs": [],
   "source": [
    "#############################################################################\n",
    "# zlib License\n",
    "#\n",
    "# (C) 2023 Cristóvão Beirão da Cruz e Silva <cbeiraod@cern.ch>\n",
    "#\n",
    "# This software is provided 'as-is', without any express or implied\n",
    "# warranty.  In no event will the authors be held liable for any damages\n",
    "# arising from the use of this software.\n",
    "#\n",
    "# Permission is granted to anyone to use this software for any purpose,\n",
    "# including commercial applications, and to alter it and redistribute it\n",
    "# freely, subject to the following restrictions:\n",
    "#\n",
    "# 1. The origin of this software must not be misrepresented; you must not\n",
    "#    claim that you wrote the original software. If you use this software\n",
    "#    in a product, an acknowledgment in the product documentation would be\n",
    "#    appreciated but is not required.\n",
    "# 2. Altered source versions must be plainly marked as such, and must not be\n",
    "#    misrepresented as being the original software.\n",
    "# 3. This notice may not be removed or altered from any source distribution.\n",
    "#############################################################################\n",
    "\n",
    "#############################################################################\n",
    "# Modified for ETROC2 I2C testing in jupyter notebooks, Murtaza Safdari\n",
    "#############################################################################"
   ]
  },
  {
   "attachments": {},
   "cell_type": "markdown",
   "metadata": {},
   "source": [
    "## Imports"
   ]
  },
  {
   "cell_type": "code",
   "execution_count": null,
   "metadata": {},
   "outputs": [],
   "source": [
    "#%%\n",
    "%matplotlib inline\n",
    "import matplotlib.pyplot as plt\n",
    "import logging\n",
    "import i2c_gui\n",
    "import i2c_gui.chips\n",
    "from i2c_gui.usb_iss_helper import USB_ISS_Helper\n",
    "from i2c_gui.fpga_eth_helper import FPGA_ETH_Helper\n",
    "import numpy as np\n",
    "from mpl_toolkits.axes_grid1 import make_axes_locatable\n",
    "import time\n",
    "from tqdm import tqdm\n",
    "from i2c_gui.chips.etroc2_chip import register_decoding\n",
    "import os, sys\n",
    "import multiprocessing\n",
    "os.chdir('/home/etroc/ETROC2/ETROC_DAQ')\n",
    "import run_script\n",
    "import importlib\n",
    "importlib.reload(run_script)\n",
    "import datetime\n",
    "import pandas\n",
    "from pathlib import Path\n",
    "import subprocess\n",
    "\n",
    "import sqlite3\n",
    "\n",
    "\n",
    "# !!!!!!!!!!!!\n",
    "# It is very important to correctly set the chip name, this value is stored with the data\n",
    "chip_name = \"ET2 W36 IP5-18\""
   ]
  },
  {
   "attachments": {},
   "cell_type": "markdown",
   "metadata": {},
   "source": [
    "## Set defaults"
   ]
  },
  {
   "cell_type": "code",
   "execution_count": null,
   "metadata": {},
   "outputs": [],
   "source": [
    "# 'If set, the full log will be saved to a file (i.e. the log level is ignored)'\n",
    "log_file = False\n",
    "# 'Set the logging level. Default: WARNING',\n",
    "#  [\"CRITICAL\",\"ERROR\",\"WARNING\",\"INFO\",\"DEBUG\",\"TRACE\",\"DETAILED_TRACE\",\"NOTSET\"]\n",
    "log_level_text = \"WARNING\"\n",
    "# 'The port name the USB-ISS module is connected to. Default: COM3'\n",
    "port = \"/dev/ttyACM0\"\n",
    "# I2C addresses for the pixel block and WS\n",
    "chip_address = 0x60\n",
    "ws_address = None"
   ]
  },
  {
   "cell_type": "code",
   "execution_count": null,
   "metadata": {},
   "outputs": [],
   "source": [
    "if log_file:\n",
    "    logging.basicConfig(filename='logging.log', filemode='w', encoding='utf-8', level=logging.NOTSET)\n",
    "    log_level = 0\n",
    "else:\n",
    "    log_level = 0\n",
    "    if log_level_text == \"CRITICAL\":\n",
    "        log_level=50\n",
    "    elif log_level_text == \"ERROR\":\n",
    "        log_level=40\n",
    "    elif log_level_text == \"WARNING\":\n",
    "        log_level=30\n",
    "    elif log_level_text == \"INFO\":\n",
    "        log_level=20\n",
    "    elif log_level_text == \"DEBUG\":\n",
    "        log_level=10\n",
    "    elif log_level_text == \"TRACE\":\n",
    "        log_level=8\n",
    "    elif log_level_text == \"DETAILED_TRACE\":\n",
    "        log_level=5\n",
    "    elif log_level_text == \"NOTSET\":\n",
    "        log_level=0\n",
    "    logging.basicConfig(format='%(asctime)s - %(levelname)s:%(name)s:%(message)s')\n",
    "\n",
    "i2c_gui.__no_connect__ = False  # Set to fake connecting to an ETROC2 device\n",
    "i2c_gui.__no_connect_type__ = \"echo\"  # for actually testing readback\n",
    "#i2c_gui.__no_connect_type__ = \"check\"  # default behaviour"
   ]
  },
  {
   "attachments": {},
   "cell_type": "markdown",
   "metadata": {},
   "source": [
    "## Start logger and connect"
   ]
  },
  {
   "cell_type": "code",
   "execution_count": null,
   "metadata": {},
   "outputs": [],
   "source": [
    "logger = logging.getLogger(\"Script_Logger\")\n",
    "\n",
    "Script_Helper = i2c_gui.ScriptHelper(logger)\n",
    "\n",
    "## USB ISS connection\n",
    "conn = i2c_gui.Connection_Controller(Script_Helper)\n",
    "conn.connection_type = \"USB-ISS\"\n",
    "conn.handle: USB_ISS_Helper\n",
    "conn.handle.port = port\n",
    "conn.handle.clk = 100\n",
    "\n",
    "## For FPGA connection (not yet fully implemented)\n",
    "#conn.connection_type = \"FPGA-Eth\"\n",
    "#conn.handle: FPGA_ETH_Helper\n",
    "#conn.handle.hostname = \"192.168.2.3\"\n",
    "#conn.handle.port = \"1024\"\n",
    "\n",
    "conn.connect()"
   ]
  },
  {
   "cell_type": "code",
   "execution_count": null,
   "metadata": {},
   "outputs": [],
   "source": [
    "chip = i2c_gui.chips.ETROC2_Chip(parent=Script_Helper, i2c_controller=conn)\n",
    "chip.config_i2c_address(chip_address)  # Not needed if you do not access ETROC registers (i.e. only access WS registers)\n",
    "# chip.config_waveform_sampler_i2c_address(ws_address)  # Not needed if you do not access WS registers\n",
    "\n",
    "logger.setLevel(log_level)"
   ]
  },
  {
   "attachments": {},
   "cell_type": "markdown",
   "metadata": {},
   "source": [
    "## Useful Functions"
   ]
  },
  {
   "cell_type": "code",
   "execution_count": null,
   "metadata": {},
   "outputs": [],
   "source": [
    "def pixel_decoded_register_write(decodedRegisterName, data_to_write):\n",
    "    bit_depth = register_decoding[\"ETROC2\"][\"Register Blocks\"][\"Pixel Config\"][decodedRegisterName][\"bits\"]\n",
    "    handle = chip.get_decoded_indexed_var(\"ETROC2\", \"Pixel Config\", decodedRegisterName)\n",
    "    chip.read_decoded_value(\"ETROC2\", \"Pixel Config\", decodedRegisterName)\n",
    "    if len(data_to_write)!=bit_depth: print(\"Binary data_to_write is of incorrect length for\",decodedRegisterName, \"with bit depth\", bit_depth)\n",
    "    data_hex_modified = hex(int(data_to_write, base=2))\n",
    "    if(bit_depth>1): handle.set(data_hex_modified)\n",
    "    elif(bit_depth==1): handle.set(data_to_write)\n",
    "    else: print(decodedRegisterName, \"!!!ERROR!!! Bit depth <1, how did we get here...\")\n",
    "    chip.write_decoded_value(\"ETROC2\", \"Pixel Config\", decodedRegisterName)\n",
    "\n",
    "def pixel_decoded_register_read(decodedRegisterName, key, need_int=False):\n",
    "    handle = chip.get_decoded_indexed_var(\"ETROC2\", f\"Pixel {key}\", decodedRegisterName)\n",
    "    chip.read_decoded_value(\"ETROC2\", f\"Pixel {key}\", decodedRegisterName)\n",
    "    if(need_int): return int(handle.get(), base=16)\n",
    "    else: return handle.get()\n",
    "\n",
    "def peripheral_decoded_register_write(decodedRegisterName, data_to_write):\n",
    "    bit_depth = register_decoding[\"ETROC2\"][\"Register Blocks\"][\"Peripheral Config\"][decodedRegisterName][\"bits\"]\n",
    "    handle = chip.get_decoded_display_var(\"ETROC2\", \"Peripheral Config\", decodedRegisterName)\n",
    "    chip.read_decoded_value(\"ETROC2\", \"Peripheral Config\", decodedRegisterName)\n",
    "    if len(data_to_write)!=bit_depth: print(\"Binary data_to_write is of incorrect length for\",decodedRegisterName, \"with bit depth\", bit_depth)\n",
    "    data_hex_modified = hex(int(data_to_write, base=2))\n",
    "    if(bit_depth>1): handle.set(data_hex_modified)\n",
    "    elif(bit_depth==1): handle.set(data_to_write)\n",
    "    else: print(decodedRegisterName, \"!!!ERROR!!! Bit depth <1, how did we get here...\")\n",
    "    chip.write_decoded_value(\"ETROC2\", \"Peripheral Config\", decodedRegisterName)\n",
    "\n",
    "def peripheral_decoded_register_read(decodedRegisterName, key, need_int=False):\n",
    "    handle = chip.get_decoded_display_var(\"ETROC2\", f\"Peripheral {key}\", decodedRegisterName)\n",
    "    chip.read_decoded_value(\"ETROC2\", f\"Peripheral {key}\", decodedRegisterName)\n",
    "    if(need_int): return int(handle.get(), base=16)\n",
    "    else: return handle.get()"
   ]
  },
  {
   "attachments": {},
   "cell_type": "markdown",
   "metadata": {},
   "source": [
    "## PIxel ID check"
   ]
  },
  {
   "cell_type": "code",
   "execution_count": null,
   "metadata": {},
   "outputs": [],
   "source": [
    "Failure_map = np.zeros((16,16))\n",
    "row_indexer_handle,_,_ = chip.get_indexer(\"row\")  # Returns 3 parameters: handle, min, max\n",
    "column_indexer_handle,_,_ = chip.get_indexer(\"column\")\n",
    "for row in range(16):\n",
    "    for col in range(16):\n",
    "        column_indexer_handle.set(col)\n",
    "        row_indexer_handle.set(row)\n",
    "        fetched_row = pixel_decoded_register_read(\"PixelID-Row\", \"Status\", need_int=True)\n",
    "        fetched_col = pixel_decoded_register_read(\"PixelID-Col\", \"Status\", need_int=True)\n",
    "        if(row!=fetched_row or col!=fetched_col):\n",
    "            print(\"Fail!\", row, col, fetched_row, fetched_col)\n",
    "            Failure_map[15-row,15-col] = 1"
   ]
  },
  {
   "cell_type": "code",
   "execution_count": null,
   "metadata": {},
   "outputs": [],
   "source": [
    "#%%\n",
    "%matplotlib inline\n",
    "import matplotlib.pyplot as plt"
   ]
  },
  {
   "cell_type": "code",
   "execution_count": null,
   "metadata": {},
   "outputs": [],
   "source": [
    "fig = plt.figure(dpi=75, figsize=(8,8))\n",
    "gs = fig.add_gridspec(1,1)\n",
    "\n",
    "ax0 = fig.add_subplot(gs[0,0])\n",
    "ax0.set_title(\"Pixel ID Failure Map\")\n",
    "img0 = ax0.imshow(Failure_map, interpolation='none')\n",
    "ax0.set_aspect(\"equal\")\n",
    "ax0.get_yaxis().set_visible(False)\n",
    "ax0.get_xaxis().set_visible(False)\n",
    "divider = make_axes_locatable(ax0)\n",
    "cax = divider.append_axes('right', size=\"5%\", pad=0.05)\n",
    "fig.colorbar(img0, cax=cax, orientation=\"vertical\")\n",
    "\n",
    "plt.show()"
   ]
  },
  {
   "attachments": {},
   "cell_type": "markdown",
   "metadata": {},
   "source": [
    "## Set Peripheral Registers"
   ]
  },
  {
   "cell_type": "code",
   "execution_count": null,
   "metadata": {},
   "outputs": [],
   "source": [
    "peripheral_decoded_register_write(\"EFuse_Prog\", format(0x00017f0f, '032b'))\n",
    "peripheral_decoded_register_write(\"singlePort\", '1')\n",
    "peripheral_decoded_register_write(\"serRateLeft\", '00')\n",
    "peripheral_decoded_register_write(\"serRateRight\", '00')\n",
    "peripheral_decoded_register_write(\"onChipL1AConf\", '00')\n",
    "peripheral_decoded_register_write(\"PLL_ENABLEPLL\", '1')\n",
    "peripheral_decoded_register_write(\"chargeInjectionDelay\", format(0x0a, '05b'))\n",
    "# peripheral_decoded_register_write(\"fcClkDelayEn\", \"0\")"
   ]
  },
  {
   "cell_type": "code",
   "execution_count": null,
   "metadata": {},
   "outputs": [],
   "source": [
    "for key in register_decoding[\"ETROC2\"][\"Register Blocks\"][\"Peripheral Config\"].keys():\n",
    "    print(key, \":\", peripheral_decoded_register_read(key, \"Config\"))"
   ]
  },
  {
   "cell_type": "code",
   "execution_count": null,
   "metadata": {},
   "outputs": [],
   "source": [
    "row_indexer_handle,_,_ = chip.get_indexer(\"row\")\n",
    "column_indexer_handle,_,_ = chip.get_indexer(\"column\")\n",
    "\n",
    "column_indexer_handle.set(0)\n",
    "row_indexer_handle.set(0)\n",
    "\n",
    "for key in register_decoding[\"ETROC2\"][\"Register Blocks\"][\"Pixel Config\"].keys():\n",
    "    print(key, \":\", pixel_decoded_register_read(key, \"Config\"))\n",
    "\n",
    "for key in register_decoding[\"ETROC2\"][\"Register Blocks\"][\"Pixel Status\"].keys():\n",
    "    print(key, \":\", pixel_decoded_register_read(key, \"Status\"))"
   ]
  },
  {
   "attachments": {},
   "cell_type": "markdown",
   "metadata": {},
   "source": [
    "## Reset Chip O/P"
   ]
  },
  {
   "cell_type": "code",
   "execution_count": null,
   "metadata": {},
   "outputs": [],
   "source": [
    "# Reset output, active low\n",
    "peripheral_decoded_register_write(\"asyResetGlobalReadout\", '0')\n",
    "peripheral_decoded_register_write(\"asyResetGlobalReadout\", '1')"
   ]
  },
  {
   "attachments": {},
   "cell_type": "markdown",
   "metadata": {},
   "source": [
    "## LINK RESET"
   ]
  },
  {
   "cell_type": "code",
   "execution_count": null,
   "metadata": {},
   "outputs": [],
   "source": [
    "peripheral_decoded_register_write(\"asyLinkReset\", '1')"
   ]
  },
  {
   "cell_type": "code",
   "execution_count": null,
   "metadata": {},
   "outputs": [],
   "source": [
    "## Low for real data\n",
    "peripheral_decoded_register_write(\"asyLinkReset\", '0')"
   ]
  },
  {
   "attachments": {},
   "cell_type": "markdown",
   "metadata": {},
   "source": [
    "## Re-Align Fast Command"
   ]
  },
  {
   "cell_type": "code",
   "execution_count": null,
   "metadata": {},
   "outputs": [],
   "source": [
    "peripheral_decoded_register_write(\"asyAlignFastcommand\", \"1\")\n",
    "peripheral_decoded_register_write(\"asyAlignFastcommand\", \"0\")"
   ]
  },
  {
   "attachments": {},
   "cell_type": "markdown",
   "metadata": {},
   "source": [
    "## Auto-calibrate all pixels"
   ]
  },
  {
   "cell_type": "code",
   "execution_count": null,
   "metadata": {},
   "outputs": [],
   "source": [
    "BL_map_THCal = np.zeros((16,16))\n",
    "NW_map_THCal = np.zeros((16,16))"
   ]
  },
  {
   "attachments": {},
   "cell_type": "markdown",
   "metadata": {},
   "source": [
    "### Auto-calibrate based on broadcast - skip for now"
   ]
  },
  {
   "cell_type": "code",
   "execution_count": null,
   "metadata": {},
   "outputs": [],
   "source": [
    "row_indexer_handle,_,_ = chip.get_indexer(\"row\")  # Returns 3 parameters: handle, min, max\n",
    "column_indexer_handle,_,_ = chip.get_indexer(\"column\")\n",
    "column_indexer_handle.set(0)\n",
    "row_indexer_handle.set(0)\n",
    "\n",
    "broadcast_handle,_,_ = chip.get_indexer(\"broadcast\")\n",
    "# Enable THCal clock and buffer, disable bypass\n",
    "broadcast_handle.set(True)\n",
    "pixel_decoded_register_write(\"CLKEn_THCal\", \"1\")\n",
    "broadcast_handle.set(True)\n",
    "pixel_decoded_register_write(\"BufEn_THCal\", \"1\")\n",
    "broadcast_handle.set(True)\n",
    "pixel_decoded_register_write(\"Bypass_THCal\", \"0\")\n",
    "broadcast_handle.set(True)\n",
    "pixel_decoded_register_write(\"TH_offset\", format(0x07, '06b'))\n",
    "# Reset the calibration block (active low)\n",
    "broadcast_handle.set(True)\n",
    "pixel_decoded_register_write(\"RSTn_THCal\", \"0\")\n",
    "time.sleep(1)\n",
    "broadcast_handle.set(True)\n",
    "pixel_decoded_register_write(\"RSTn_THCal\", \"1\")\n",
    "time.sleep(0.5)\n",
    "# Start and Stop the calibration, (25ns x 2**15 ~ 800 us, ACCumulator max is 2**15)\n",
    "broadcast_handle.set(True)\n",
    "pixel_decoded_register_write(\"ScanStart_THCal\", \"1\")\n",
    "time.sleep(4)\n",
    "broadcast_handle.set(True)\n",
    "pixel_decoded_register_write(\"ScanStart_THCal\", \"0\")\n",
    "time.sleep(0.5)\n",
    "# Disable clock and buffer before charge injection \n",
    "broadcast_handle.set(True)\n",
    "pixel_decoded_register_write(\"CLKEn_THCal\", \"0\") \n",
    "broadcast_handle.set(True)\n",
    "pixel_decoded_register_write(\"BufEn_THCal\", \"0\")\n",
    "# Set Charge Inj Q to 15 fC\n",
    "broadcast_handle.set(True)\n",
    "pixel_decoded_register_write(\"QSel\", format(0x0e, '05b'))\n",
    "\n",
    "data = []\n",
    "\n",
    "# Loop for fetching calibrated values\n",
    "for row in tqdm(range(16), desc=\" row\", position=0):\n",
    "    for col in tqdm(range(16), desc=\" col\", position=1, leave=False):\n",
    "# for index,row,col in zip(tqdm(range(16)), row_list, col_list):\n",
    "        column_indexer_handle.set(col)\n",
    "        row_indexer_handle.set(row)\n",
    "        # Check the calibration done correctly\n",
    "        if(pixel_decoded_register_read(\"ScanDone\", \"Status\")!=\"1\"): print(\"!!!ERROR!!! Scan not done!!!\")\n",
    "        BL_map_THCal[row, col] = pixel_decoded_register_read(\"BL\", \"Status\", need_int=True)\n",
    "        NW_map_THCal[row, col] = pixel_decoded_register_read(\"NW\", \"Status\", need_int=True)\n",
    "        data += [{\n",
    "            'col': col,\n",
    "            'row': row,\n",
    "            'baseline': BL_map_THCal[row, col],\n",
    "            'noise_width': NW_map_THCal[row, col],\n",
    "            'timestamp': datetime.datetime.now(),\n",
    "            'chip_name': chip_name,\n",
    "        }]\n",
    "\n",
    "BL_df = pandas.DataFrame(data = data)\n",
    "        "
   ]
  },
  {
   "attachments": {},
   "cell_type": "markdown",
   "metadata": {},
   "source": [
    "### Auto-calibrate based on the loop"
   ]
  },
  {
   "cell_type": "code",
   "execution_count": null,
   "metadata": {},
   "outputs": [],
   "source": [
    "row_indexer_handle,_,_ = chip.get_indexer(\"row\")  # Returns 3 parameters: handle, min, max\n",
    "column_indexer_handle,_,_ = chip.get_indexer(\"column\")\n",
    "data = []\n",
    "# Loop for threshold calibration\n",
    "for row in tqdm(range(16), desc=\" row\", position=0):\n",
    "    for col in tqdm(range(16), desc=\" col\", position=1, leave=False):\n",
    "# for index,row,col in zip(tqdm(range(16)), row_list, col_list):\n",
    "        column_indexer_handle.set(col)\n",
    "        row_indexer_handle.set(row)\n",
    "        # Maybe required to make this work\n",
    "        # pixel_decoded_register_write(\"enable_TDC\", \"0\")\n",
    "        # pixel_decoded_register_write(\"testMode_TDC\", \"0\")\n",
    "        # Enable THCal clock and buffer, disable bypass\n",
    "        pixel_decoded_register_write(\"CLKEn_THCal\", \"1\")\n",
    "        pixel_decoded_register_write(\"BufEn_THCal\", \"1\")\n",
    "        pixel_decoded_register_write(\"Bypass_THCal\", \"0\")\n",
    "        pixel_decoded_register_write(\"TH_offset\", format(0x07, '06b'))\n",
    "        # Reset the calibration block (active low)\n",
    "        pixel_decoded_register_write(\"RSTn_THCal\", \"0\")\n",
    "        pixel_decoded_register_write(\"RSTn_THCal\", \"1\")\n",
    "        # Start and Stop the calibration, (25ns x 2**15 ~ 800 us, ACCumulator max is 2**15)\n",
    "        pixel_decoded_register_write(\"ScanStart_THCal\", \"1\")\n",
    "        pixel_decoded_register_write(\"ScanStart_THCal\", \"0\")\n",
    "        # Check the calibration done correctly\n",
    "        if(pixel_decoded_register_read(\"ScanDone\", \"Status\")!=\"1\"): print(\"!!!ERROR!!! Scan not done!!!\")\n",
    "        BL_map_THCal[row, col] = pixel_decoded_register_read(\"BL\", \"Status\", need_int=True)\n",
    "        NW_map_THCal[row, col] = pixel_decoded_register_read(\"NW\", \"Status\", need_int=True)\n",
    "        data += [{\n",
    "            'col': col,\n",
    "            'row': row,\n",
    "            'baseline': BL_map_THCal[row, col],\n",
    "            'noise_width': NW_map_THCal[row, col],\n",
    "            'timestamp': datetime.datetime.now(),\n",
    "            'chip_name': chip_name,\n",
    "        }]\n",
    "        # Disable clock and buffer before charge injection \n",
    "        pixel_decoded_register_write(\"CLKEn_THCal\", \"0\") \n",
    "        pixel_decoded_register_write(\"BufEn_THCal\", \"0\")\n",
    "        # Set Charge Inj Q to 15 fC\n",
    "        pixel_decoded_register_write(\"QSel\", format(0x0e, '05b'))\n",
    "\n",
    "BL_df = pandas.DataFrame(data = data)"
   ]
  },
  {
   "cell_type": "code",
   "execution_count": null,
   "metadata": {},
   "outputs": [],
   "source": [
    "fig = plt.figure(dpi=200, figsize=(10,10))\n",
    "gs = fig.add_gridspec(1,2)\n",
    "\n",
    "ax0 = fig.add_subplot(gs[0,0])\n",
    "ax0.set_title(\"BL (DAC LSB)\")\n",
    "img0 = ax0.imshow(BL_map_THCal, interpolation='none')\n",
    "ax0.set_aspect(\"equal\")\n",
    "ax0.invert_xaxis()\n",
    "ax0.invert_yaxis()\n",
    "plt.xticks(range(16), range(16), rotation=\"vertical\")\n",
    "plt.yticks(range(16), range(16))\n",
    "divider = make_axes_locatable(ax0)\n",
    "cax = divider.append_axes('right', size=\"5%\", pad=0.05)\n",
    "fig.colorbar(img0, cax=cax, orientation=\"vertical\")\n",
    "\n",
    "ax1 = fig.add_subplot(gs[0,1])\n",
    "ax1.set_title(\"NW (DAC LSB)\")\n",
    "img1 = ax1.imshow(NW_map_THCal, interpolation='none')\n",
    "ax1.set_aspect(\"equal\")\n",
    "ax1.invert_xaxis()\n",
    "ax1.invert_yaxis()\n",
    "plt.xticks(range(16), range(16), rotation=\"vertical\")\n",
    "plt.yticks(range(16), range(16))\n",
    "divider = make_axes_locatable(ax1)\n",
    "cax = divider.append_axes('right', size=\"5%\", pad=0.05)\n",
    "fig.colorbar(img1, cax=cax, orientation=\"vertical\")\n",
    "\n",
    "for x in range(16):\n",
    "    for y in range(16):\n",
    "        # if(BL_map_THCal.T[x,y]==0): continue\n",
    "        ax0.text(x,y,f\"{BL_map_THCal.T[x,y]:.0f}\", c=\"white\", size=5, rotation=45, fontweight=\"bold\", ha=\"center\", va=\"center\")\n",
    "        ax1.text(x,y,f\"{NW_map_THCal.T[x,y]:.0f}\", c=\"white\", size=5, rotation=45, fontweight=\"bold\", ha=\"center\", va=\"center\")\n",
    "\n",
    "#plt.show()"
   ]
  },
  {
   "attachments": {},
   "cell_type": "markdown",
   "metadata": {},
   "source": [
    "### Store BL, NW dataframe for later use"
   ]
  },
  {
   "cell_type": "code",
   "execution_count": null,
   "metadata": {},
   "outputs": [],
   "source": [
    "outdir = Path('../ETROC-Data')\n",
    "outdir = outdir / (datetime.date.today().isoformat() + '_Array_Test_Results')\n",
    "outdir.mkdir(exist_ok=True)\n",
    "outfile = outdir / (\"BaselineAt_\" + datetime.datetime.now().strftime(\"%Y-%m-%d_%H-%M\") + \".csv\")\n",
    "BL_df.to_csv(outfile, index=False)"
   ]
  },
  {
   "attachments": {},
   "cell_type": "markdown",
   "metadata": {},
   "source": [
    "### Store BL, NW dataframe in database"
   ]
  },
  {
   "cell_type": "code",
   "execution_count": null,
   "metadata": {},
   "outputs": [],
   "source": [
    "new_columns = {\n",
    "    'note': 'Note associated with BL map in database',\n",
    "}\n",
    "\n",
    "for col in new_columns:\n",
    "    BL_df[col] = new_columns[col]\n",
    "\n",
    "outdir = Path('../ETROC-Data')\n",
    "outfile = outdir / 'BaselineHistory.sqlite'\n",
    "\n",
    "init_cmd = [\n",
    "    'cd ' + outdir.resolve(),\n",
    "    'git stash -u',\n",
    "    'git pull',\n",
    "]\n",
    "end_cmd = [\n",
    "    'git add BaselineHistory.sqlite',\n",
    "    'git commit -m \"Added new history entry\"',\n",
    "    'git push',\n",
    "    'git stash pop',\n",
    "    'git stash clear',\n",
    "]\n",
    "\n",
    "p = subprocess.Popen(\n",
    "    'cmd.exe',\n",
    "    stdin=subprocess.PIPE,\n",
    "    stdout=subprocess.PIPE,\n",
    "    stderr=subprocess.PIPE,\n",
    "    )\n",
    "\n",
    "for cmd in init_cmd:\n",
    "    p.stdin.write(cmd + \"\\n\")\n",
    "\n",
    "with sqlite3.connect(outfile) as sqlconn:\n",
    "    BL_df.to_sql('baselines', sqlconn, if_exists='append', index=False)\n",
    "\n",
    "for cmd in end_cmd:\n",
    "    p.stdin.write(cmd + \"\\n\")\n",
    "\n",
    "p.stdin.close()\n",
    "\n",
    "print(p.stdout.read())\n",
    "\n"
   ]
  },
  {
   "attachments": {},
   "cell_type": "markdown",
   "metadata": {},
   "source": [
    "## Automatic pixel charge injection"
   ]
  },
  {
   "attachments": {},
   "cell_type": "markdown",
   "metadata": {},
   "source": [
    "### Disable all pixels"
   ]
  },
  {
   "cell_type": "code",
   "execution_count": null,
   "metadata": {},
   "outputs": [],
   "source": [
    "row_indexer_handle,_,_ = chip.get_indexer(\"row\")\n",
    "column_indexer_handle,_,_ = chip.get_indexer(\"column\")\n",
    "column_indexer_handle.set(0)\n",
    "row_indexer_handle.set(0)\n",
    "\n",
    "broadcast_handle,_,_ = chip.get_indexer(\"broadcast\")\n",
    "broadcast_handle.set(True)\n",
    "pixel_decoded_register_write(\"disDataReadout\", \"1\")\n",
    "broadcast_handle.set(True)\n",
    "pixel_decoded_register_write(\"QInjEn\", \"0\")"
   ]
  },
  {
   "attachments": {},
   "cell_type": "markdown",
   "metadata": {},
   "source": [
    "### Define pixels of interest"
   ]
  },
  {
   "cell_type": "code",
   "execution_count": null,
   "metadata": {},
   "outputs": [],
   "source": [
    "# Diagnoal scan\n",
    "# col_list = list(np.arange(16)[1:-1]) + list(np.arange(16)[1:-1])\n",
    "# row_list = list(np.arange(16)[1:-1]) + list(np.arange(16)[::-1][1:-1])\n",
    "\n",
    "# Box scan\n",
    "# col_list = list(np.arange(16)[0:-1]) + list(np.full(15, 15)) + list(np.arange(16)[1:]) + list(np.full(15, 0))\n",
    "# row_list = list(np.full(15, 0)) + list(np.arange(16)[0:-1]) + list(np.full(15, 15)) + list(np.arange(16)[1:])\n",
    "\n",
    "# Cluster scan\n",
    "# col_list = [3, 3, 3, 12, 12, 12]\n",
    "# row_list = [3, 8, 13, 3, 8, 13]\n",
    "\n",
    "# row_list = list(np.arange(4)[0:])\n",
    "# col_list = np.zeros_like(row_list)\n",
    "row_list = [3]\n",
    "col_list = [3]"
   ]
  },
  {
   "cell_type": "code",
   "execution_count": null,
   "metadata": {},
   "outputs": [],
   "source": [
    "print(list(zip(col_list, row_list)))\n",
    "# print(col_list)\n",
    "# print(row_list)"
   ]
  },
  {
   "attachments": {},
   "cell_type": "markdown",
   "metadata": {},
   "source": [
    "### QInj DAQ - for testing purposes"
   ]
  },
  {
   "attachments": {},
   "cell_type": "markdown",
   "metadata": {},
   "source": [
    "\n",
    "#### Single Pixel Testing"
   ]
  },
  {
   "attachments": {},
   "cell_type": "markdown",
   "metadata": {},
   "source": [
    "Enable"
   ]
  },
  {
   "cell_type": "code",
   "execution_count": null,
   "metadata": {},
   "outputs": [],
   "source": [
    "row_indexer_handle,_,_ = chip.get_indexer(\"row\")  # Returns 3 parameters: handle, min, max\n",
    "column_indexer_handle,_,_ = chip.get_indexer(\"column\")\n",
    "row = 7\n",
    "col = 7\n",
    "column_indexer_handle.set(col)\n",
    "row_indexer_handle.set(row)\n",
    "# pixel_decoded_register_write(\"TH_offset\", format(0x0c, '06b'))\n",
    "# pixel_decoded_register_write(\"L1Adelay\", format(0x1f5, '09b'))\n",
    "# pixel_decoded_register_write(\"QSel\", format(0x0e, '05b'))\n",
    "pixel_decoded_register_write(\"disDataReadout\", \"0\")\n",
    "pixel_decoded_register_write(\"QInjEn\", \"1\")"
   ]
  },
  {
   "attachments": {},
   "cell_type": "markdown",
   "metadata": {},
   "source": [
    "Disable"
   ]
  },
  {
   "cell_type": "code",
   "execution_count": null,
   "metadata": {},
   "outputs": [],
   "source": [
    "row_indexer_handle,_,_ = chip.get_indexer(\"row\")  # Returns 3 parameters: handle, min, max\n",
    "column_indexer_handle,_,_ = chip.get_indexer(\"column\")\n",
    "row = 7\n",
    "col = 7\n",
    "column_indexer_handle.set(col)\n",
    "row_indexer_handle.set(row)\n",
    "pixel_decoded_register_write(\"QInjEn\", \"0\")\n",
    "pixel_decoded_register_write(\"disDataReadout\", \"1\")"
   ]
  },
  {
   "attachments": {},
   "cell_type": "markdown",
   "metadata": {},
   "source": [
    "#### Data Acquisition - for testing"
   ]
  },
  {
   "cell_type": "code",
   "execution_count": null,
   "metadata": {},
   "outputs": [],
   "source": [
    "parser = run_script.getOptionParser()\n",
    "(options, args) = parser.parse_args(args=\"--firmware --useIPC --hostname 192.168.2.3 -t 100 -o test3 -v -w\".split())\n",
    "IPC_queue = multiprocessing.Queue()\n",
    "process = multiprocessing.Process(target=run_script.main_process, args=(IPC_queue, options, \"main_process\"))\n",
    "process.start()"
   ]
  },
  {
   "cell_type": "code",
   "execution_count": null,
   "metadata": {},
   "outputs": [],
   "source": [
    "IPC_queue.put('start DAQ')"
   ]
  },
  {
   "cell_type": "code",
   "execution_count": null,
   "metadata": {},
   "outputs": [],
   "source": [
    "IPC_queue.put('start L1A train')"
   ]
  },
  {
   "cell_type": "code",
   "execution_count": null,
   "metadata": {},
   "outputs": [],
   "source": [
    "IPC_queue.put('start L1A')"
   ]
  },
  {
   "cell_type": "code",
   "execution_count": null,
   "metadata": {},
   "outputs": [],
   "source": [
    "IPC_queue.put('start L1A 1MHz')"
   ]
  },
  {
   "cell_type": "code",
   "execution_count": null,
   "metadata": {},
   "outputs": [],
   "source": [
    "IPC_queue.put('stop L1A')"
   ]
  },
  {
   "cell_type": "code",
   "execution_count": null,
   "metadata": {},
   "outputs": [],
   "source": [
    "IPC_queue.put('stop L1A 1MHz')"
   ]
  },
  {
   "cell_type": "code",
   "execution_count": null,
   "metadata": {},
   "outputs": [],
   "source": [
    "IPC_queue.put('stop L1A train')"
   ]
  },
  {
   "cell_type": "code",
   "execution_count": null,
   "metadata": {},
   "outputs": [],
   "source": [
    "IPC_queue.put('link reset')"
   ]
  },
  {
   "cell_type": "code",
   "execution_count": null,
   "metadata": {},
   "outputs": [],
   "source": [
    "IPC_queue.put('stop DAQ')"
   ]
  },
  {
   "cell_type": "code",
   "execution_count": null,
   "metadata": {},
   "outputs": [],
   "source": [
    "IPC_queue.put('allow threads to exit')\n",
    "process.join()"
   ]
  },
  {
   "attachments": {},
   "cell_type": "markdown",
   "metadata": {},
   "source": [
    "### DAQ - Multiple Pixels"
   ]
  },
  {
   "cell_type": "code",
   "execution_count": null,
   "metadata": {},
   "outputs": [],
   "source": [
    "scan_name = \"E2_testing_VRef_Qinj_Sensor_W36_IP5_18\"\n",
    "total_number_pixels = len(row_list)\n",
    "time_per_pixel = 60\n",
    "dead_time_per_pixel = 5\n",
    "total_scan_time = total_number_pixels*(time_per_pixel + dead_time_per_pixel) + 10\n",
    "print(f\"Scanning {total_number_pixels} pixels for a total of {total_scan_time} s\")\n",
    "\n",
    "row_indexer_handle,_,_ = chip.get_indexer(\"row\")  # Returns 3 parameters: handle, min, max\n",
    "column_indexer_handle,_,_ = chip.get_indexer(\"column\")\n",
    "\n",
    "parser = run_script.getOptionParser()\n",
    "(options, args) = parser.parse_args(args=f\"--firmware --useIPC --hostname 192.168.2.3 -t {int(total_scan_time)} -o {scan_name} -v -w --compressed_translation\".split())\n",
    "\n",
    "IPC_queue = multiprocessing.Queue()\n",
    "process = multiprocessing.Process(target=run_script.main_process, args=(IPC_queue, options, 'main_process'))\n",
    "process.start()\n",
    "\n",
    "# Loop for enable/disable charge injection per pixel (single!!!)\n",
    "for index, row, col in zip(tqdm(range(len(row_list))), row_list, col_list):\n",
    "    column_indexer_handle.set(col)\n",
    "    row_indexer_handle.set(row)\n",
    "    # Modifying charge injected\n",
    "    # pixel_decoded_register_write(\"QSel\", format(0x0e, '05b'))\n",
    "    # Enable charge injection\n",
    "    pixel_decoded_register_write(\"disDataReadout\", \"0\")\n",
    "    pixel_decoded_register_write(\"QInjEn\", \"1\")\n",
    "    time.sleep(1)\n",
    "    IPC_queue.put('start L1A 1MHz')\n",
    "    while not IPC_queue.empty():\n",
    "        pass\n",
    "    # DAQ time\n",
    "    time.sleep(time_per_pixel)\n",
    "    IPC_queue.put('stop L1A 1MHz')\n",
    "    while not IPC_queue.empty():\n",
    "        pass\n",
    "    time.sleep(1)\n",
    "    # Disable charge injection\n",
    "    pixel_decoded_register_write(\"QInjEn\", \"0\")\n",
    "    pixel_decoded_register_write(\"disDataReadout\", \"1\")\n",
    "    time.sleep(1)\n",
    "\n",
    "IPC_queue.put('allow threads to exit')\n",
    "process.join()"
   ]
  },
  {
   "attachments": {},
   "cell_type": "markdown",
   "metadata": {},
   "source": [
    "#### Cluster Pixel Testing (3x3 grid centered at pixels)"
   ]
  },
  {
   "attachments": {},
   "cell_type": "markdown",
   "metadata": {},
   "source": [
    "Qinj only for the central Pixels"
   ]
  },
  {
   "cell_type": "code",
   "execution_count": null,
   "metadata": {},
   "outputs": [],
   "source": [
    "sub_col_list = [-1, 0, 1,-1, 0, 1,-1, 1]\n",
    "sub_row_list = [-1,-1,-1, 1, 1, 1, 0, 0]\n",
    "\n",
    "scan_name = \"E2_testing_VRef_Qinj_Cluster_Centers_Pixel_12_3\"\n",
    "total_number_pixels = len(row_list)\n",
    "time_per_pixel = 60\n",
    "dead_time_per_pixel = 5\n",
    "total_scan_time = total_number_pixels*(time_per_pixel + dead_time_per_pixel) + 10\n",
    "print(f\"Scanning {total_number_pixels} pixels for a total of {total_scan_time} s\")\n",
    "\n",
    "row_indexer_handle,_,_ = chip.get_indexer(\"row\")\n",
    "column_indexer_handle,_,_ = chip.get_indexer(\"column\")\n",
    "\n",
    "parser = run_script.getOptionParser()\n",
    "(options, args) = parser.parse_args(args=f\"--useIPC --hostname 192.168.2.3 -t {int(total_scan_time)} -o {scan_name} -v -w --compressed_translation\".split())\n",
    "\n",
    "IPC_queue = multiprocessing.Queue()\n",
    "process = multiprocessing.Process(target=run_script.main_process, args=(IPC_queue, options, 'main_process'))\n",
    "process.start()\n",
    "\n",
    "# Loop for enable/disable charge injection per pixel cluster\n",
    "for index, row, col in zip(tqdm(range(len(row_list)), desc=\"parent\", position=0), row_list, col_list):\n",
    "    column_indexer_handle.set(col)\n",
    "    row_indexer_handle.set(row)\n",
    "    # Modifying charge injected\n",
    "    # pixel_decoded_register_write(\"QSel\", format(0x0e, '05b'))\n",
    "    # Enable charge injection\n",
    "    pixel_decoded_register_write(\"disDataReadout\", \"0\")\n",
    "    pixel_decoded_register_write(\"QInjEn\", \"1\")\n",
    "    for sub_index, sub_row, sub_col in zip(tqdm(range(len(sub_row_list)), desc=\"child1\", position=1, leave=False), sub_row_list, sub_col_list):\n",
    "        if(col+sub_col>15 or col+sub_col<0 or row+sub_row>15 or row+sub_row<0): \n",
    "            print(col+sub_col,\",\",row+sub_row,\" (COL,ROW) sub pixel is illegal\")\n",
    "            continue\n",
    "        column_indexer_handle.set(col+sub_col)\n",
    "        row_indexer_handle.set(row+sub_row)\n",
    "        # Enable readout only\n",
    "        pixel_decoded_register_write(\"disDataReadout\", \"0\")\n",
    "        pixel_decoded_register_write(\"QInjEn\", \"0\")\n",
    "    column_indexer_handle.set(col)\n",
    "    row_indexer_handle.set(row)\n",
    "    time.sleep(1)\n",
    "    IPC_queue.put('start L1A train')\n",
    "    while not IPC_queue.empty():\n",
    "        pass\n",
    "    # DAQ time\n",
    "    time.sleep(time_per_pixel)\n",
    "    IPC_queue.put('stop L1A train')\n",
    "    while not IPC_queue.empty():\n",
    "        pass\n",
    "    time.sleep(1)\n",
    "    # Disable charge injection\n",
    "    pixel_decoded_register_write(\"QInjEn\", \"0\")\n",
    "    pixel_decoded_register_write(\"disDataReadout\", \"1\")\n",
    "    for sub_index, sub_row, sub_col in zip(tqdm(range(len(sub_row_list)), desc=\"child2\", position=1, leave=False), sub_row_list, sub_col_list):\n",
    "        if(col+sub_col>15 or col+sub_col<0 or row+sub_row>15 or row+sub_row<0): \n",
    "            print(col+sub_col,\",\",row+sub_row,\" (COL,ROW) sub pixel is illegal\")\n",
    "            continue\n",
    "        column_indexer_handle.set(col+sub_col)\n",
    "        row_indexer_handle.set(row+sub_row)\n",
    "        # Disable readout only\n",
    "        pixel_decoded_register_write(\"disDataReadout\", \"1\")\n",
    "    time.sleep(1)\n",
    "\n",
    "IPC_queue.put('allow threads to exit')\n",
    "process.join()\n",
    "\n",
    "del sub_col_list, sub_row_list"
   ]
  },
  {
   "attachments": {},
   "cell_type": "markdown",
   "metadata": {},
   "source": [
    "Qinj equally on for all 3x3 pixels"
   ]
  },
  {
   "cell_type": "code",
   "execution_count": null,
   "metadata": {},
   "outputs": [],
   "source": [
    "sub_col_list = [-1, 0, 1,-1, 0, 1,-1, 1]\n",
    "sub_row_list = [-1,-1,-1, 1, 1, 1, 0, 0]\n",
    "\n",
    "scan_name = \"E2_testing_VRef_Qinj_Cluster_AllEqual_Pixel_12_3\"\n",
    "total_number_pixels = len(row_list)\n",
    "time_per_pixel = 60\n",
    "dead_time_per_pixel = 5\n",
    "total_scan_time = total_number_pixels*(time_per_pixel + dead_time_per_pixel) + 10\n",
    "print(f\"Scanning {total_number_pixels} pixels for a total of {total_scan_time} s\")\n",
    "\n",
    "row_indexer_handle,_,_ = chip.get_indexer(\"row\")\n",
    "column_indexer_handle,_,_ = chip.get_indexer(\"column\")\n",
    "\n",
    "parser = run_script.getOptionParser()\n",
    "(options, args) = parser.parse_args(args=f\"--useIPC --hostname 192.168.2.3 -t {int(total_scan_time)} -o {scan_name} -v -w --compressed_translation\".split())\n",
    "\n",
    "IPC_queue = multiprocessing.Queue()\n",
    "process = multiprocessing.Process(target=run_script.main_process, args=(IPC_queue, options, 'main_process'))\n",
    "process.start()\n",
    "\n",
    "# Loop for enable/disable charge injection per pixel cluster\n",
    "for index, row, col in zip(tqdm(range(len(row_list)), desc=\"parent\", position=0), row_list, col_list):\n",
    "    column_indexer_handle.set(col)\n",
    "    row_indexer_handle.set(row)\n",
    "    # Modifying charge injected\n",
    "    # pixel_decoded_register_write(\"QSel\", format(0x0e, '05b'))\n",
    "    # Enable charge injection\n",
    "    pixel_decoded_register_write(\"disDataReadout\", \"0\")\n",
    "    pixel_decoded_register_write(\"QInjEn\", \"1\")\n",
    "    for sub_index, sub_row, sub_col in zip(tqdm(range(len(sub_row_list)), desc=\"child1\", position=1, leave=False), sub_row_list, sub_col_list):\n",
    "        if(col+sub_col>15 or col+sub_col<0 or row+sub_row>15 or row+sub_row<0): \n",
    "            print(col+sub_col,\",\",row+sub_row,\" (COL,ROW) sub pixel is illegal\")\n",
    "            continue\n",
    "        column_indexer_handle.set(col+sub_col)\n",
    "        row_indexer_handle.set(row+sub_row)\n",
    "        # Enable readout only\n",
    "        pixel_decoded_register_write(\"disDataReadout\", \"0\")\n",
    "        pixel_decoded_register_write(\"QInjEn\", \"1\")\n",
    "    column_indexer_handle.set(col)\n",
    "    row_indexer_handle.set(row)\n",
    "    time.sleep(1)\n",
    "    IPC_queue.put('start L1A train')\n",
    "    while not IPC_queue.empty():\n",
    "        pass\n",
    "    # DAQ time\n",
    "    time.sleep(time_per_pixel)\n",
    "    IPC_queue.put('stop L1A train')\n",
    "    while not IPC_queue.empty():\n",
    "        pass\n",
    "    time.sleep(1)\n",
    "    # Disable charge injection\n",
    "    pixel_decoded_register_write(\"QInjEn\", \"0\")\n",
    "    pixel_decoded_register_write(\"disDataReadout\", \"1\")\n",
    "    for sub_index, sub_row, sub_col in zip(tqdm(range(len(sub_row_list)), desc=\"child2\", position=1, leave=False), sub_row_list, sub_col_list):\n",
    "        if(col+sub_col>15 or col+sub_col<0 or row+sub_row>15 or row+sub_row<0): \n",
    "            print(col+sub_col,\",\",row+sub_row,\" (COL,ROW) sub pixel is illegal\")\n",
    "            continue\n",
    "        column_indexer_handle.set(col+sub_col)\n",
    "        row_indexer_handle.set(row+sub_row)\n",
    "        # Disable readout only\n",
    "        pixel_decoded_register_write(\"disDataReadout\", \"1\")\n",
    "        pixel_decoded_register_write(\"QInjEn\", \"0\")\n",
    "    time.sleep(1)\n",
    "\n",
    "IPC_queue.put('allow threads to exit')\n",
    "process.join()\n",
    "\n",
    "del sub_col_list, sub_row_list"
   ]
  },
  {
   "attachments": {},
   "cell_type": "markdown",
   "metadata": {},
   "source": [
    "Qinj unequally on for all 3x3 pixels"
   ]
  },
  {
   "attachments": {},
   "cell_type": "markdown",
   "metadata": {},
   "source": [
    "#### Column Pixel Testing (Full column of pixels)"
   ]
  },
  {
   "cell_type": "code",
   "execution_count": null,
   "metadata": {},
   "outputs": [],
   "source": [
    "scan_name = \"E2_testing_VRef_Qinj_FullColumns\"\n",
    "scan_columns = list(np.arange(16))\n",
    "# scan_columns = [3, 12]\n",
    "\n",
    "total_number_columns = len(scan_columns)\n",
    "time_per_column = 60\n",
    "dead_time_per_column = 5\n",
    "total_scan_time = total_number_columns*(time_per_column + dead_time_per_column) + 10\n",
    "print(f\"Scanning {total_number_columns} columns for a total of {total_scan_time} s\")\n",
    "\n",
    "row_indexer_handle,_,_ = chip.get_indexer(\"row\")\n",
    "column_indexer_handle,_,_ = chip.get_indexer(\"column\")\n",
    "\n",
    "parser = run_script.getOptionParser()\n",
    "(options, args) = parser.parse_args(args=f\"--useIPC --hostname 192.168.2.3 -t {int(total_scan_time)} -o {scan_name} -v -w --compressed_translation\".split())\n",
    "\n",
    "IPC_queue = multiprocessing.Queue()\n",
    "process = multiprocessing.Process(target=run_script.main_process, args=(IPC_queue, options, 'main_process'))\n",
    "process.start()\n",
    "\n",
    "# Loop for enable/disable charge injection per pixel cluster\n",
    "for index, col in zip(tqdm(range(len(scan_columns)), desc=\"parent\", position=0), scan_columns):\n",
    "    column_indexer_handle.set(col)\n",
    "    for row_index, row in zip(tqdm(range(len(np.arange(16))), desc=\"row\", position=1, leave=False), list(np.arange(16))):\n",
    "        row_indexer_handle.set(row)\n",
    "        # Enable readout only\n",
    "        pixel_decoded_register_write(\"disDataReadout\", \"0\")\n",
    "        pixel_decoded_register_write(\"QInjEn\", \"1\")\n",
    "    time.sleep(1)\n",
    "    IPC_queue.put('start L1A train')\n",
    "    while not IPC_queue.empty():\n",
    "        pass\n",
    "    # DAQ time\n",
    "    time.sleep(time_per_column)\n",
    "    IPC_queue.put('stop L1A train')\n",
    "    while not IPC_queue.empty():\n",
    "        pass\n",
    "    time.sleep(1)\n",
    "    for row_index, row in zip(tqdm(range(len(np.arange(16))), desc=\"row\", position=1, leave=False), list(np.arange(16))):\n",
    "        row_indexer_handle.set(row)\n",
    "        # Enable readout only\n",
    "        pixel_decoded_register_write(\"disDataReadout\", \"1\")\n",
    "        pixel_decoded_register_write(\"QInjEn\", \"0\")\n",
    "    time.sleep(1)\n",
    "\n",
    "IPC_queue.put('allow threads to exit')\n",
    "process.join()"
   ]
  },
  {
   "attachments": {},
   "cell_type": "markdown",
   "metadata": {},
   "source": [
    "## Disconnect I2C"
   ]
  },
  {
   "cell_type": "code",
   "execution_count": null,
   "metadata": {},
   "outputs": [],
   "source": [
    "conn.disconnect()"
   ]
  },
  {
   "cell_type": "code",
   "execution_count": null,
   "metadata": {},
   "outputs": [],
   "source": []
  }
 ],
 "metadata": {
  "kernelspec": {
   "display_name": "Python 3",
   "language": "python",
   "name": "python3"
  },
  "language_info": {
   "codemirror_mode": {
    "name": "ipython",
    "version": 3
   },
   "file_extension": ".py",
   "mimetype": "text/x-python",
   "name": "python",
   "nbconvert_exporter": "python",
   "pygments_lexer": "ipython3",
   "version": "3.9.16"
  },
  "orig_nbformat": 4
 },
 "nbformat": 4,
 "nbformat_minor": 2
}
