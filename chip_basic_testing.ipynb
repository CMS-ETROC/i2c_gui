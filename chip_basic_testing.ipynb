{
 "cells": [
  {
   "cell_type": "code",
   "execution_count": null,
   "metadata": {},
   "outputs": [],
   "source": [
    "#############################################################################\n",
    "# zlib License\n",
    "#\n",
    "# (C) 2023 Cristóvão Beirão da Cruz e Silva <cbeiraod@cern.ch>\n",
    "#\n",
    "# This software is provided 'as-is', without any express or implied\n",
    "# warranty.  In no event will the authors be held liable for any damages\n",
    "# arising from the use of this software.\n",
    "#\n",
    "# Permission is granted to anyone to use this software for any purpose,\n",
    "# including commercial applications, and to alter it and redistribute it\n",
    "# freely, subject to the following restrictions:\n",
    "#\n",
    "# 1. The origin of this software must not be misrepresented; you must not\n",
    "#    claim that you wrote the original software. If you use this software\n",
    "#    in a product, an acknowledgment in the product documentation would be\n",
    "#    appreciated but is not required.\n",
    "# 2. Altered source versions must be plainly marked as such, and must not be\n",
    "#    misrepresented as being the original software.\n",
    "# 3. This notice may not be removed or altered from any source distribution.\n",
    "#############################################################################\n",
    "\n",
    "#############################################################################\n",
    "# Modified for ETROC2 I2C testing in jupyter notebooks, Murtaza Safdari\n",
    "#############################################################################"
   ]
  },
  {
   "attachments": {},
   "cell_type": "markdown",
   "metadata": {},
   "source": [
    "# Imports"
   ]
  },
  {
   "cell_type": "code",
   "execution_count": null,
   "metadata": {},
   "outputs": [],
   "source": [
    "#%%\n",
    "%matplotlib inline\n",
    "import matplotlib.pyplot as plt\n",
    "import logging\n",
    "import i2c_gui\n",
    "import i2c_gui.chips\n",
    "from i2c_gui.usb_iss_helper import USB_ISS_Helper\n",
    "from i2c_gui.fpga_eth_helper import FPGA_ETH_Helper\n",
    "import numpy as np\n",
    "from mpl_toolkits.axes_grid1 import make_axes_locatable\n",
    "import time\n",
    "from tqdm import tqdm\n",
    "from i2c_gui.chips.etroc2_chip import register_decoding\n",
    "import os, sys\n",
    "import multiprocessing\n",
    "os.chdir(f'/home/{os.getlogin()}/ETROC2/ETROC_DAQ')\n",
    "import run_script\n",
    "import importlib\n",
    "importlib.reload(run_script)\n",
    "import datetime\n",
    "import pandas\n",
    "from pathlib import Path\n",
    "import subprocess\n",
    "import sqlite3"
   ]
  },
  {
   "attachments": {},
   "cell_type": "markdown",
   "metadata": {},
   "source": [
    "# Set defaults"
   ]
  },
  {
   "attachments": {},
   "cell_type": "markdown",
   "metadata": {},
   "source": [
    "### It is very important to correctly set the chip name, this value is stored with the data"
   ]
  },
  {
   "cell_type": "code",
   "execution_count": null,
   "metadata": {},
   "outputs": [],
   "source": [
    "chip_name = \"ET2_W36_IP5_17\""
   ]
  },
  {
   "cell_type": "code",
   "execution_count": null,
   "metadata": {},
   "outputs": [],
   "source": [
    "# 'The port name the USB-ISS module is connected to. Default: COM3'\n",
    "port = \"/dev/ttyACM0\"\n",
    "# I2C addresses for the pixel block and WS\n",
    "chip_address = 0x60\n",
    "ws_address = None\n",
    "\n",
    "i2c_gui.__no_connect__ = False  # Set to fake connecting to an ETROC2 device\n",
    "i2c_gui.__no_connect_type__ = \"echo\"  # for actually testing readback\n",
    "#i2c_gui.__no_connect_type__ = \"check\"  # default behaviour"
   ]
  },
  {
   "attachments": {},
   "cell_type": "markdown",
   "metadata": {},
   "source": [
    "# Start logger and connect"
   ]
  },
  {
   "cell_type": "code",
   "execution_count": null,
   "metadata": {},
   "outputs": [],
   "source": [
    "## Logger\n",
    "log_level=30\n",
    "logging.basicConfig(format='%(asctime)s - %(levelname)s:%(name)s:%(message)s')\n",
    "logger = logging.getLogger(\"Script_Logger\")\n",
    "Script_Helper = i2c_gui.ScriptHelper(logger)\n",
    "\n",
    "## USB ISS connection\n",
    "conn = i2c_gui.Connection_Controller(Script_Helper)\n",
    "conn.connection_type = \"USB-ISS\"\n",
    "conn.handle: USB_ISS_Helper\n",
    "conn.handle.port = port\n",
    "conn.handle.clk = 100\n",
    "\n",
    "conn.connect()\n",
    "\n",
    "chip = i2c_gui.chips.ETROC2_Chip(parent=Script_Helper, i2c_controller=conn)\n",
    "chip.config_i2c_address(chip_address)\n",
    "# chip.config_waveform_sampler_i2c_address(ws_address)  # Not needed if you do not access WS registers\n",
    "logger.setLevel(log_level)"
   ]
  },
  {
   "attachments": {},
   "cell_type": "markdown",
   "metadata": {},
   "source": [
    "# Useful Functions to streamline register reading and writing"
   ]
  },
  {
   "cell_type": "code",
   "execution_count": null,
   "metadata": {},
   "outputs": [],
   "source": [
    "def pixel_decoded_register_write(decodedRegisterName, data_to_write):\n",
    "    bit_depth = register_decoding[\"ETROC2\"][\"Register Blocks\"][\"Pixel Config\"][decodedRegisterName][\"bits\"]\n",
    "    handle = chip.get_decoded_indexed_var(\"ETROC2\", \"Pixel Config\", decodedRegisterName)\n",
    "    chip.read_decoded_value(\"ETROC2\", \"Pixel Config\", decodedRegisterName)\n",
    "    if len(data_to_write)!=bit_depth: print(\"Binary data_to_write is of incorrect length for\",decodedRegisterName, \"with bit depth\", bit_depth)\n",
    "    data_hex_modified = hex(int(data_to_write, base=2))\n",
    "    if(bit_depth>1): handle.set(data_hex_modified)\n",
    "    elif(bit_depth==1): handle.set(data_to_write)\n",
    "    else: print(decodedRegisterName, \"!!!ERROR!!! Bit depth <1, how did we get here...\")\n",
    "    chip.write_decoded_value(\"ETROC2\", \"Pixel Config\", decodedRegisterName)\n",
    "\n",
    "def pixel_decoded_register_read(decodedRegisterName, key, need_int=False):\n",
    "    handle = chip.get_decoded_indexed_var(\"ETROC2\", f\"Pixel {key}\", decodedRegisterName)\n",
    "    chip.read_decoded_value(\"ETROC2\", f\"Pixel {key}\", decodedRegisterName)\n",
    "    if(need_int): return int(handle.get(), base=16)\n",
    "    else: return handle.get()\n",
    "\n",
    "def peripheral_decoded_register_write(decodedRegisterName, data_to_write):\n",
    "    bit_depth = register_decoding[\"ETROC2\"][\"Register Blocks\"][\"Peripheral Config\"][decodedRegisterName][\"bits\"]\n",
    "    handle = chip.get_decoded_display_var(\"ETROC2\", \"Peripheral Config\", decodedRegisterName)\n",
    "    chip.read_decoded_value(\"ETROC2\", \"Peripheral Config\", decodedRegisterName)\n",
    "    if len(data_to_write)!=bit_depth: print(\"Binary data_to_write is of incorrect length for\",decodedRegisterName, \"with bit depth\", bit_depth)\n",
    "    data_hex_modified = hex(int(data_to_write, base=2))\n",
    "    if(bit_depth>1): handle.set(data_hex_modified)\n",
    "    elif(bit_depth==1): handle.set(data_to_write)\n",
    "    else: print(decodedRegisterName, \"!!!ERROR!!! Bit depth <1, how did we get here...\")\n",
    "    chip.write_decoded_value(\"ETROC2\", \"Peripheral Config\", decodedRegisterName)\n",
    "\n",
    "def peripheral_decoded_register_read(decodedRegisterName, key, need_int=False):\n",
    "    handle = chip.get_decoded_display_var(\"ETROC2\", f\"Peripheral {key}\", decodedRegisterName)\n",
    "    chip.read_decoded_value(\"ETROC2\", f\"Peripheral {key}\", decodedRegisterName)\n",
    "    if(need_int): return int(handle.get(), base=16)\n",
    "    else: return handle.get()"
   ]
  },
  {
   "attachments": {},
   "cell_type": "markdown",
   "metadata": {},
   "source": [
    "# Check if any pixels are broken"
   ]
  },
  {
   "attachments": {},
   "cell_type": "markdown",
   "metadata": {},
   "source": [
    "### If a pixel returns a COL and ROW number that inconsistent with the pixel that we are addressing, then it is broken"
   ]
  },
  {
   "cell_type": "code",
   "execution_count": null,
   "metadata": {},
   "outputs": [],
   "source": [
    "Failure_map = np.zeros((16,16))\n",
    "row_indexer_handle,_,_ = chip.get_indexer(\"row\")  # Returns 3 parameters: handle, min, max\n",
    "column_indexer_handle,_,_ = chip.get_indexer(\"column\")\n",
    "for row in range(16):\n",
    "    for col in range(16):\n",
    "        column_indexer_handle.set(col)\n",
    "        row_indexer_handle.set(row)\n",
    "        fetched_row = pixel_decoded_register_read(\"PixelID-Row\", \"Status\", need_int=True)\n",
    "        fetched_col = pixel_decoded_register_read(\"PixelID-Col\", \"Status\", need_int=True)\n",
    "        if(row!=fetched_row or col!=fetched_col):\n",
    "            print(\"Fail!\", row, col, fetched_row, fetched_col)\n",
    "            Failure_map[15-row,15-col] = 1"
   ]
  },
  {
   "cell_type": "code",
   "execution_count": null,
   "metadata": {},
   "outputs": [],
   "source": [
    "#%%\n",
    "%matplotlib inline\n",
    "import matplotlib.pyplot as plt"
   ]
  },
  {
   "attachments": {},
   "cell_type": "markdown",
   "metadata": {},
   "source": [
    "### Pixel map, any broken pixels will show up as map == 1"
   ]
  },
  {
   "cell_type": "code",
   "execution_count": null,
   "metadata": {},
   "outputs": [],
   "source": [
    "fig = plt.figure(dpi=75, figsize=(8,8))\n",
    "gs = fig.add_gridspec(1,1)\n",
    "\n",
    "ax0 = fig.add_subplot(gs[0,0])\n",
    "ax0.set_title(\"Pixel ID Failure Map\")\n",
    "img0 = ax0.imshow(Failure_map, interpolation='none')\n",
    "ax0.set_aspect(\"equal\")\n",
    "ax0.get_yaxis().set_visible(False)\n",
    "ax0.get_xaxis().set_visible(False)\n",
    "divider = make_axes_locatable(ax0)\n",
    "cax = divider.append_axes('right', size=\"5%\", pad=0.05)\n",
    "fig.colorbar(img0, cax=cax, orientation=\"vertical\")\n",
    "\n",
    "plt.show()"
   ]
  },
  {
   "attachments": {},
   "cell_type": "markdown",
   "metadata": {},
   "source": [
    "### We should refrain from using broken pixels for any studies"
   ]
  },
  {
   "attachments": {},
   "cell_type": "markdown",
   "metadata": {},
   "source": [
    "# Check basic I2C functionatity and consistency"
   ]
  },
  {
   "attachments": {},
   "cell_type": "markdown",
   "metadata": {},
   "source": [
    "### Quick test using peripheral registers"
   ]
  },
  {
   "cell_type": "code",
   "execution_count": null,
   "metadata": {},
   "outputs": [],
   "source": [
    "peripheralRegisterKeys = [i for i in range(32)]\n",
    "for peripheralRegisterKey in peripheralRegisterKeys:\n",
    "    # Fetch the register\n",
    "    handle_PeriCfgX = chip.get_display_var(\"ETROC2\", \"Peripheral Config\", f\"PeriCfg{peripheralRegisterKey}\")\n",
    "    chip.read_register(\"ETROC2\", \"Peripheral Config\", f\"PeriCfg{peripheralRegisterKey}\")\n",
    "    data_bin_PeriCfgX = format(int(handle_PeriCfgX.get(), base=16), '08b')\n",
    "    # Make the flipped bits\n",
    "    # data_bin_modified_PeriCfgX = list(data_bin_PeriCfgX)\n",
    "    data_bin_modified_PeriCfgX = data_bin_PeriCfgX.replace('1', '2').replace('0', '1').replace('2', '0')\n",
    "    # data_bin_modified_PeriCfgX = ''.join(data_bin_modified_PeriCfgX)\n",
    "    data_hex_modified_PeriCfgX = hex(int(data_bin_modified_PeriCfgX, base=2))\n",
    "    # Set the register with the value\n",
    "    handle_PeriCfgX.set(data_hex_modified_PeriCfgX)\n",
    "    chip.write_register(\"ETROC2\", \"Peripheral Config\", f\"PeriCfg{peripheralRegisterKey}\")\n",
    "    # Perform two reads to verify the persistence of the change\n",
    "    chip.read_register(\"ETROC2\", \"Peripheral Config\", f\"PeriCfg{peripheralRegisterKey}\")\n",
    "    data_bin_new_1_PeriCfgX = format(int(handle_PeriCfgX.get(), base=16), '08b')\n",
    "    chip.read_register(\"ETROC2\", \"Peripheral Config\", f\"PeriCfg{peripheralRegisterKey}\")\n",
    "    data_bin_new_2_PeriCfgX = format(int(handle_PeriCfgX.get(), base=16), '08b')\n",
    "    # Undo the change to recover the original register value, and check for consistency\n",
    "    handle_PeriCfgX.set(hex(int(data_bin_PeriCfgX, base=2)))\n",
    "    chip.write_register(\"ETROC2\", \"Peripheral Config\", f\"PeriCfg{peripheralRegisterKey}\")\n",
    "    chip.read_register(\"ETROC2\", \"Peripheral Config\", f\"PeriCfg{peripheralRegisterKey}\")\n",
    "    data_bin_recover_PeriCfgX = format(int(handle_PeriCfgX.get(), base=16), '08b')\n",
    "    # Handle what we learned from the tests\n",
    "    print(f\"PeriCfg{peripheralRegisterKey:2}\", data_bin_PeriCfgX, \"To\", data_bin_new_1_PeriCfgX,  \"To\", data_bin_new_2_PeriCfgX, \"To\", data_bin_recover_PeriCfgX)\n",
    "    if(data_bin_new_1_PeriCfgX!=data_bin_new_2_PeriCfgX or data_bin_new_2_PeriCfgX!=data_bin_modified_PeriCfgX or data_bin_recover_PeriCfgX!=data_bin_PeriCfgX): \n",
    "       print(f\"PeriCfg{peripheralRegisterKey:2}\", \"FAILURE\")\n"
   ]
  },
  {
   "attachments": {},
   "cell_type": "markdown",
   "metadata": {},
   "source": [
    "### Longer Test using all pixel registers, this can take upto 15 minutes"
   ]
  },
  {
   "cell_type": "code",
   "execution_count": null,
   "metadata": {},
   "outputs": [],
   "source": [
    "pixelRegisterKeys = [i for i in range(32)]\n",
    "row_indexer_handle,_,_ = chip.get_indexer(\"row\")  # Returns 3 parameters: handle, min, max\n",
    "column_indexer_handle,_,_ = chip.get_indexer(\"column\")\n",
    "for row in range(16):\n",
    "    for col in range(16):\n",
    "        print(\"Pixel\", row, col)\n",
    "        column_indexer_handle.set(col)\n",
    "        row_indexer_handle.set(row)\n",
    "        for pixelRegisterKey in pixelRegisterKeys:\n",
    "            # Fetch the register\n",
    "            handle_PixCfgX = chip.get_indexed_var(\"ETROC2\", \"Pixel Config\", f\"PixCfg{pixelRegisterKey}\")\n",
    "            chip.read_register(\"ETROC2\", \"Pixel Config\", f\"PixCfg{pixelRegisterKey}\")\n",
    "            data_bin_PixCfgX = format(int(handle_PixCfgX.get(), base=16), '08b')\n",
    "            # Make the flipped byte\n",
    "            data_bin_modified_PixCfgX = data_bin_PixCfgX.replace('1', '2').replace('0', '1').replace('2', '0')\n",
    "            data_hex_modified_PixCfgX = hex(int(data_bin_modified_PixCfgX, base=2))\n",
    "            # Set the register with the value\n",
    "            handle_PixCfgX.set(data_hex_modified_PixCfgX)\n",
    "            chip.write_register(\"ETROC2\", \"Pixel Config\", f\"PixCfg{pixelRegisterKey}\")\n",
    "            # Perform two reads to verify the persistence of the change\n",
    "            chip.read_register(\"ETROC2\", \"Pixel Config\", f\"PixCfg{pixelRegisterKey}\")\n",
    "            data_bin_new_1_PixCfgX = format(int(handle_PixCfgX.get(), base=16), '08b')\n",
    "            chip.read_register(\"ETROC2\", \"Pixel Config\", f\"PixCfg{pixelRegisterKey}\")\n",
    "            data_bin_new_2_PixCfgX = format(int(handle_PixCfgX.get(), base=16), '08b')\n",
    "            # Undo the change to recover the original register value, and check for consistency\n",
    "            handle_PixCfgX.set(hex(int(data_bin_PixCfgX, base=2)))\n",
    "            chip.write_register(\"ETROC2\", \"Pixel Config\", f\"PixCfg{pixelRegisterKey}\")\n",
    "            chip.read_register(\"ETROC2\", \"Pixel Config\", f\"PixCfg{pixelRegisterKey}\")\n",
    "            data_bin_recover_PixCfgX = format(int(handle_PixCfgX.get(), base=16), '08b')\n",
    "            # Handle what we learned from the tests\n",
    "            if(data_bin_new_1_PixCfgX!=data_bin_new_2_PixCfgX or data_bin_new_2_PixCfgX!=data_bin_modified_PixCfgX or data_bin_recover_PixCfgX!=data_bin_PixCfgX): \n",
    "                print(row,col,f\"PixCfg{pixelRegisterKey:2}\",\"FAILURE\", data_bin_PixCfgX, \"To\", data_bin_new_1_PixCfgX,  \"To\", data_bin_new_2_PixCfgX, \"To\", data_bin_recover_PixCfgX)"
   ]
  },
  {
   "attachments": {},
   "cell_type": "markdown",
   "metadata": {},
   "source": [
    "# Set the basic peripheral registers"
   ]
  },
  {
   "cell_type": "code",
   "execution_count": null,
   "metadata": {},
   "outputs": [],
   "source": [
    "peripheral_decoded_register_write(\"EFuse_Prog\", format(0x00017f0f, '032b'))     # chip ID\n",
    "peripheral_decoded_register_write(\"singlePort\", '1')                            # Set data output to right port only\n",
    "peripheral_decoded_register_write(\"serRateLeft\", '00')                          # Set Data Rates to 320 mbps\n",
    "peripheral_decoded_register_write(\"serRateRight\", '00')                         # ^^\n",
    "peripheral_decoded_register_write(\"onChipL1AConf\", '00')                        # Switches off the onboard L1A\n",
    "peripheral_decoded_register_write(\"PLL_ENABLEPLL\", '1')                         # \"Enable PLL mode, active high. Debugging use only.\"\n",
    "peripheral_decoded_register_write(\"chargeInjectionDelay\", format(0x0a, '05b'))  # User tunable delay of Qinj pulse"
   ]
  },
  {
   "attachments": {},
   "cell_type": "markdown",
   "metadata": {},
   "source": [
    "# Link Reset Testing"
   ]
  },
  {
   "attachments": {},
   "cell_type": "markdown",
   "metadata": {},
   "source": [
    "#### Link Reset Mode allows us to put a fixed pattern on the data ports of the chip. We can then inspect the data on a scope to verify that the pattern is clearly visible and correct. Note that in this mode, the data scrambling does not happen, letting us see the actual pattern instead of an eye disgram, which is the hallmark of randomized data.\n",
    "\n",
    "#### In 320 mbps data rate mode, The chip quadruplicates data to match 1280 mbps\n",
    "\n",
    "#### The FPGA can use the fixed pattern coming in to verify the data lock, and check for integrity using the quadruplicated bits."
   ]
  },
  {
   "attachments": {},
   "cell_type": "markdown",
   "metadata": {},
   "source": [
    "### Reset Chip Global Readout"
   ]
  },
  {
   "cell_type": "code",
   "execution_count": null,
   "metadata": {},
   "outputs": [],
   "source": [
    "# Reset output, active low\n",
    "peripheral_decoded_register_write(\"asyResetGlobalReadout\", '0')\n",
    "peripheral_decoded_register_write(\"asyResetGlobalReadout\", '1')"
   ]
  },
  {
   "attachments": {},
   "cell_type": "markdown",
   "metadata": {},
   "source": [
    "### Enable LINK RESET Mode"
   ]
  },
  {
   "cell_type": "code",
   "execution_count": null,
   "metadata": {},
   "outputs": [],
   "source": [
    "peripheral_decoded_register_write(\"asyLinkReset\", '1')              # active high\n"
   ]
  },
  {
   "attachments": {},
   "cell_type": "markdown",
   "metadata": {},
   "source": [
    "### Set Test Pattern Data Type"
   ]
  },
  {
   "cell_type": "code",
   "execution_count": null,
   "metadata": {},
   "outputs": [],
   "source": [
    "peripheral_decoded_register_write(\"linkResetTestPattern\", '1')      # 1 = fixed pattern, 0 = PRBS"
   ]
  },
  {
   "attachments": {},
   "cell_type": "markdown",
   "metadata": {},
   "source": [
    "### Set Fixed Test Pattern"
   ]
  },
  {
   "cell_type": "code",
   "execution_count": null,
   "metadata": {},
   "outputs": [],
   "source": [
    "# 32 bit \"User-specified pattern to be sent during link reset, LSB-first\"\n",
    "# Note that in 320 mbps mode only the 8 LSB bits are actually used, and quadruplicated into 32 bits \n",
    "# so here \"a9\" is used, which is \"11001001\" which beacomes \"11111111000000001111000000001111\"\n",
    "peripheral_decoded_register_write(\"linkResetFixedPattern\", format(0x142caba9, '032b')) "
   ]
  },
  {
   "attachments": {},
   "cell_type": "markdown",
   "metadata": {},
   "source": [
    "### Disable Link Reset Mode (Important to do this before real data collection)"
   ]
  },
  {
   "cell_type": "code",
   "execution_count": null,
   "metadata": {},
   "outputs": [],
   "source": [
    "## Low for real data\n",
    "peripheral_decoded_register_write(\"asyLinkReset\", '0')"
   ]
  },
  {
   "attachments": {},
   "cell_type": "markdown",
   "metadata": {},
   "source": [
    "# Check your data link at this point"
   ]
  },
  {
   "attachments": {},
   "cell_type": "markdown",
   "metadata": {},
   "source": [
    "This is shown on the FPGA GPIO LEDs, specifically LED-0 and LED-1. LED-1 is one when data link is successful. LED-0 is a latch, and is on if any errors are found in the data frames. Resetting the link can help clear the LED-0. "
   ]
  },
  {
   "attachments": {},
   "cell_type": "markdown",
   "metadata": {},
   "source": [
    "## Try on-board L1A, and see if emtpy Data Frames are correctly interpreted by the FPGA"
   ]
  },
  {
   "cell_type": "code",
   "execution_count": null,
   "metadata": {},
   "outputs": [],
   "source": [
    "# \"On-chip L1A mode: - 0b0x: on-chip L1A disable\\n - 0b10: periodic L1A\\n - 0b11: random L1A\"\n",
    "peripheral_decoded_register_write(\"onChipL1AConf\", '10')"
   ]
  },
  {
   "attachments": {},
   "cell_type": "markdown",
   "metadata": {},
   "source": [
    "## IMPORTANT Turn OFF on-board L1A"
   ]
  },
  {
   "cell_type": "code",
   "execution_count": null,
   "metadata": {},
   "outputs": [],
   "source": [
    "peripheral_decoded_register_write(\"onChipL1AConf\", '00')"
   ]
  },
  {
   "attachments": {},
   "cell_type": "markdown",
   "metadata": {},
   "source": [
    "If LED-1 is not on, then we have a data link issue. You can try to see if you get successful data link with test pattern mode. If you still fail with real data, then you can try to change the Polarity of the readout, or explore 4 combinations of \"fcClkDelayEn\" and \"fcDataDelayEn\" registers.\n",
    "\n",
    "Clock is used to sample data from FPGA. \"fcClkDelayEn\" delays the clock a little bit.\n",
    "\n",
    "\"fcDataDelayEn\" delays the data from the FPGA, which is essentially comparable to \"fcClkDelayEn\" in what it is trying to do."
   ]
  },
  {
   "attachments": {},
   "cell_type": "markdown",
   "metadata": {},
   "source": [
    "## Set Peripheral Registers - Change fc clk or data delay - In Case of failing data links"
   ]
  },
  {
   "attachments": {},
   "cell_type": "markdown",
   "metadata": {},
   "source": [
    "### Try out 4 combinations of these 2 registers to recover the data link (LED 1 )"
   ]
  },
  {
   "cell_type": "code",
   "execution_count": null,
   "metadata": {},
   "outputs": [],
   "source": [
    "## \"0\" means disable\n",
    "## \"1\" means enable\n",
    "peripheral_decoded_register_write(\"fcClkDelayEn\", \"0\")\n",
    "peripheral_decoded_register_write(\"fcDataDelayEn\", \"0\")"
   ]
  },
  {
   "cell_type": "code",
   "execution_count": null,
   "metadata": {},
   "outputs": [],
   "source": [
    "peripheral_decoded_register_write(\"fcClkDelayEn\", \"0\")\n",
    "peripheral_decoded_register_write(\"fcDataDelayEn\", \"1\")"
   ]
  },
  {
   "cell_type": "code",
   "execution_count": null,
   "metadata": {},
   "outputs": [],
   "source": [
    "peripheral_decoded_register_write(\"fcClkDelayEn\", \"1\")\n",
    "peripheral_decoded_register_write(\"fcDataDelayEn\", \"0\")"
   ]
  },
  {
   "cell_type": "code",
   "execution_count": null,
   "metadata": {},
   "outputs": [],
   "source": [
    "peripheral_decoded_register_write(\"fcClkDelayEn\", \"1\")\n",
    "peripheral_decoded_register_write(\"fcDataDelayEn\", \"1\")"
   ]
  },
  {
   "attachments": {},
   "cell_type": "markdown",
   "metadata": {},
   "source": [
    "# Perform Auto-calibration on all pixels, one-by-one"
   ]
  },
  {
   "cell_type": "code",
   "execution_count": null,
   "metadata": {},
   "outputs": [],
   "source": [
    "# Reset the maps\n",
    "BL_map_THCal = np.zeros((16,16))\n",
    "NW_map_THCal = np.zeros((16,16))"
   ]
  },
  {
   "cell_type": "code",
   "execution_count": null,
   "metadata": {},
   "outputs": [],
   "source": [
    "row_indexer_handle,_,_ = chip.get_indexer(\"row\")  # Returns 3 parameters: handle, min, max\n",
    "column_indexer_handle,_,_ = chip.get_indexer(\"column\")\n",
    "data = []\n",
    "# Loop for threshold calibration\n",
    "for row in tqdm(range(16), desc=\" row\", position=0):\n",
    "    for col in tqdm(range(16), desc=\" col\", position=1, leave=False):\n",
    "# for index,row,col in zip(tqdm(range(16)), row_list, col_list):\n",
    "        column_indexer_handle.set(col)\n",
    "        row_indexer_handle.set(row)\n",
    "        # Maybe required to make this work\n",
    "        # pixel_decoded_register_write(\"enable_TDC\", \"0\")\n",
    "        # pixel_decoded_register_write(\"testMode_TDC\", \"0\")\n",
    "        # Enable THCal clock and buffer, disable bypass\n",
    "        pixel_decoded_register_write(\"CLKEn_THCal\", \"1\")\n",
    "        pixel_decoded_register_write(\"BufEn_THCal\", \"1\")\n",
    "        pixel_decoded_register_write(\"Bypass_THCal\", \"0\")\n",
    "        pixel_decoded_register_write(\"TH_offset\", format(0x07, '06b'))\n",
    "        # Reset the calibration block (active low)\n",
    "        pixel_decoded_register_write(\"RSTn_THCal\", \"0\")\n",
    "        pixel_decoded_register_write(\"RSTn_THCal\", \"1\")\n",
    "        # Start and Stop the calibration, (25ns x 2**15 ~ 800 us, ACCumulator max is 2**15)\n",
    "        pixel_decoded_register_write(\"ScanStart_THCal\", \"1\")\n",
    "        pixel_decoded_register_write(\"ScanStart_THCal\", \"0\")\n",
    "        # Check the calibration done correctly\n",
    "        if(pixel_decoded_register_read(\"ScanDone\", \"Status\")!=\"1\"): print(\"!!!ERROR!!! Scan not done!!!\")\n",
    "        BL_map_THCal[row, col] = pixel_decoded_register_read(\"BL\", \"Status\", need_int=True)\n",
    "        NW_map_THCal[row, col] = pixel_decoded_register_read(\"NW\", \"Status\", need_int=True)\n",
    "        data += [{\n",
    "            'col': col,\n",
    "            'row': row,\n",
    "            'baseline': BL_map_THCal[row, col],\n",
    "            'noise_width': NW_map_THCal[row, col],\n",
    "            'timestamp': datetime.datetime.now(),\n",
    "            'chip_name': chip_name,\n",
    "        }]\n",
    "        # Disable clock and buffer before charge injection \n",
    "        pixel_decoded_register_write(\"CLKEn_THCal\", \"0\") \n",
    "        pixel_decoded_register_write(\"BufEn_THCal\", \"0\")\n",
    "        # Set Charge Inj Q to 15 fC\n",
    "        pixel_decoded_register_write(\"QSel\", format(0x0e, '05b'))\n",
    "\n",
    "BL_df = pandas.DataFrame(data = data)"
   ]
  },
  {
   "attachments": {},
   "cell_type": "markdown",
   "metadata": {},
   "source": [
    "### Visulaize the learned Baselines (BL) and Noise Widths (NW)\n",
    "\n",
    "Note that the NW represents the full width on either side of the BL"
   ]
  },
  {
   "cell_type": "code",
   "execution_count": null,
   "metadata": {},
   "outputs": [],
   "source": [
    "fig = plt.figure(dpi=200, figsize=(10,10))\n",
    "gs = fig.add_gridspec(1,2)\n",
    "\n",
    "ax0 = fig.add_subplot(gs[0,0])\n",
    "ax0.set_title(\"BL (DAC LSB)\")\n",
    "img0 = ax0.imshow(BL_map_THCal, interpolation='none')\n",
    "ax0.set_aspect(\"equal\")\n",
    "ax0.invert_xaxis()\n",
    "ax0.invert_yaxis()\n",
    "plt.xticks(range(16), range(16), rotation=\"vertical\")\n",
    "plt.yticks(range(16), range(16))\n",
    "divider = make_axes_locatable(ax0)\n",
    "cax = divider.append_axes('right', size=\"5%\", pad=0.05)\n",
    "fig.colorbar(img0, cax=cax, orientation=\"vertical\")\n",
    "\n",
    "ax1 = fig.add_subplot(gs[0,1])\n",
    "ax1.set_title(\"NW (DAC LSB)\")\n",
    "img1 = ax1.imshow(NW_map_THCal, interpolation='none')\n",
    "ax1.set_aspect(\"equal\")\n",
    "ax1.invert_xaxis()\n",
    "ax1.invert_yaxis()\n",
    "plt.xticks(range(16), range(16), rotation=\"vertical\")\n",
    "plt.yticks(range(16), range(16))\n",
    "divider = make_axes_locatable(ax1)\n",
    "cax = divider.append_axes('right', size=\"5%\", pad=0.05)\n",
    "fig.colorbar(img1, cax=cax, orientation=\"vertical\")\n",
    "\n",
    "for x in range(16):\n",
    "    for y in range(16):\n",
    "        # if(BL_map_THCal.T[x,y]==0): continue\n",
    "        ax0.text(x,y,f\"{BL_map_THCal.T[x,y]:.0f}\", c=\"white\", size=5, rotation=45, fontweight=\"bold\", ha=\"center\", va=\"center\")\n",
    "        ax1.text(x,y,f\"{NW_map_THCal.T[x,y]:.0f}\", c=\"white\", size=5, rotation=45, fontweight=\"bold\", ha=\"center\", va=\"center\")\n",
    "\n",
    "#plt.show()"
   ]
  },
  {
   "attachments": {},
   "cell_type": "markdown",
   "metadata": {},
   "source": [
    "### Store BL, NW dataframe for later use"
   ]
  },
  {
   "cell_type": "code",
   "execution_count": null,
   "metadata": {},
   "outputs": [],
   "source": [
    "outdir = Path('../ETROC-Data')\n",
    "outdir = outdir / (datetime.date.today().isoformat() + '_Array_Test_Results')\n",
    "outdir.mkdir(exist_ok=True)\n",
    "outfile = outdir / (chip_name+\"_BaselineAt_\" + datetime.datetime.now().strftime(\"%Y-%m-%d_%H-%M\") + \".csv\")\n",
    "BL_df.to_csv(outfile, index=False)"
   ]
  },
  {
   "attachments": {},
   "cell_type": "markdown",
   "metadata": {},
   "source": [
    "# Test Full Chip Pipeline with pixel charge injection"
   ]
  },
  {
   "attachments": {},
   "cell_type": "markdown",
   "metadata": {},
   "source": [
    "### Disable all pixel readouts before doing anything"
   ]
  },
  {
   "cell_type": "code",
   "execution_count": null,
   "metadata": {},
   "outputs": [],
   "source": [
    "row_indexer_handle,_,_ = chip.get_indexer(\"row\")\n",
    "column_indexer_handle,_,_ = chip.get_indexer(\"column\")\n",
    "column_indexer_handle.set(0)\n",
    "row_indexer_handle.set(0)\n",
    "\n",
    "broadcast_handle,_,_ = chip.get_indexer(\"broadcast\")\n",
    "broadcast_handle.set(True)\n",
    "pixel_decoded_register_write(\"disDataReadout\", \"1\")\n",
    "broadcast_handle.set(True)\n",
    "pixel_decoded_register_write(\"QInjEn\", \"0\")"
   ]
  },
  {
   "attachments": {},
   "cell_type": "markdown",
   "metadata": {},
   "source": [
    "\n",
    "### Single Pixel Testing"
   ]
  },
  {
   "attachments": {},
   "cell_type": "markdown",
   "metadata": {},
   "source": [
    "#### Enable single pixel"
   ]
  },
  {
   "cell_type": "code",
   "execution_count": null,
   "metadata": {},
   "outputs": [],
   "source": [
    "# If you want, you can change the pixel row and column numbers\n",
    "row_indexer_handle,_,_ = chip.get_indexer(\"row\")  # Returns 3 parameters: handle, min, max\n",
    "column_indexer_handle,_,_ = chip.get_indexer(\"column\")\n",
    "row = 3\n",
    "col = 3\n",
    "print(f\"Enabling Pixel ({row},{col})\")\n",
    "column_indexer_handle.set(col)\n",
    "row_indexer_handle.set(row)\n",
    "pixel_decoded_register_write(\"TH_offset\", format(0x0c, '06b'))  # Offset used to add to the auto BL for real triggering\n",
    "pixel_decoded_register_write(\"QSel\", format(0x0e, '05b'))       # Ensure we inject 15 fC of charge\n",
    "pixel_decoded_register_write(\"disDataReadout\", \"0\")             # ENable readout\n",
    "pixel_decoded_register_write(\"QInjEn\", \"1\")                     # ENable charge injection for the selected pixel"
   ]
  },
  {
   "attachments": {},
   "cell_type": "markdown",
   "metadata": {},
   "source": [
    "#### Data Acquisition"
   ]
  },
  {
   "attachments": {},
   "cell_type": "markdown",
   "metadata": {},
   "source": [
    "Make sure the IP address is correct for the FPGA being used. Note that the output is being sent to a folder called \"test\". User can tune max time of operation of this code (in seconds) using the -t flag"
   ]
  },
  {
   "cell_type": "code",
   "execution_count": null,
   "metadata": {},
   "outputs": [],
   "source": [
    "parser = run_script.getOptionParser()\n",
    "(options, args) = parser.parse_args(args=\"--firmware --useIPC --hostname 192.168.2.3 -t 100 -o test -v -w --polarity 0x000b\".split())\n",
    "IPC_queue = multiprocessing.Queue()\n",
    "process = multiprocessing.Process(target=run_script.main_process, args=(IPC_queue, options, \"main_process\"))\n",
    "process.start()"
   ]
  },
  {
   "attachments": {},
   "cell_type": "markdown",
   "metadata": {},
   "source": [
    "The following cell starts the trains of L1A and Qinj fast commands, each with a different frequency. L1A auccessfully catches the Qinj at the frequency of the beat pattern, with a period equal to the LCM of the two periods"
   ]
  },
  {
   "cell_type": "code",
   "execution_count": null,
   "metadata": {},
   "outputs": [],
   "source": [
    "IPC_queue.put('start L1A 1MHz')"
   ]
  },
  {
   "attachments": {},
   "cell_type": "markdown",
   "metadata": {},
   "source": [
    "The following cell calls software_clear_fifo(), which can be used to force the FPGA to reset the data link and look for the data frame boundaries once again. "
   ]
  },
  {
   "cell_type": "code",
   "execution_count": null,
   "metadata": {},
   "outputs": [],
   "source": [
    "IPC_queue.put('link reset')"
   ]
  },
  {
   "attachments": {},
   "cell_type": "markdown",
   "metadata": {},
   "source": [
    "This cell stops data being written into files, and halts fifo read operations"
   ]
  },
  {
   "cell_type": "code",
   "execution_count": null,
   "metadata": {},
   "outputs": [],
   "source": [
    "IPC_queue.put('stop DAQ')"
   ]
  },
  {
   "attachments": {},
   "cell_type": "markdown",
   "metadata": {},
   "source": [
    "The following cell stopd the trains of L1A and Qinj fast commands"
   ]
  },
  {
   "cell_type": "code",
   "execution_count": null,
   "metadata": {},
   "outputs": [],
   "source": [
    "IPC_queue.put('stop L1A 1MHz')"
   ]
  },
  {
   "attachments": {},
   "cell_type": "markdown",
   "metadata": {},
   "source": [
    "This cell allows the read process to timeout, and allows the process to exit before the \"-t\" time in case the readout processes have been waiting for more than 30sec"
   ]
  },
  {
   "cell_type": "code",
   "execution_count": null,
   "metadata": {},
   "outputs": [],
   "source": [
    "IPC_queue.put('allow threads to exit')\n",
    "process.join()"
   ]
  },
  {
   "attachments": {},
   "cell_type": "markdown",
   "metadata": {},
   "source": [
    "After ending the process, one can inspect the stored raw binary and translated files to check for data integrity"
   ]
  },
  {
   "attachments": {},
   "cell_type": "markdown",
   "metadata": {},
   "source": [
    "#### Disable single pixel"
   ]
  },
  {
   "cell_type": "code",
   "execution_count": null,
   "metadata": {},
   "outputs": [],
   "source": [
    "print(f\"Disabling Pixel ({row},{col})\")\n",
    "row_indexer_handle,_,_ = chip.get_indexer(\"row\")  # Returns 3 parameters: handle, min, max\n",
    "column_indexer_handle,_,_ = chip.get_indexer(\"column\")\n",
    "column_indexer_handle.set(col)\n",
    "row_indexer_handle.set(row)\n",
    "pixel_decoded_register_write(\"QInjEn\", \"0\")\n",
    "pixel_decoded_register_write(\"disDataReadout\", \"1\")"
   ]
  },
  {
   "attachments": {},
   "cell_type": "markdown",
   "metadata": {},
   "source": [
    "# Disconnect I2C Device"
   ]
  },
  {
   "cell_type": "code",
   "execution_count": null,
   "metadata": {},
   "outputs": [],
   "source": [
    "conn.disconnect()"
   ]
  },
  {
   "cell_type": "code",
   "execution_count": null,
   "metadata": {},
   "outputs": [],
   "source": []
  }
 ],
 "metadata": {
  "kernelspec": {
   "display_name": "Python 3",
   "language": "python",
   "name": "python3"
  },
  "language_info": {
   "codemirror_mode": {
    "name": "ipython",
    "version": 3
   },
   "file_extension": ".py",
   "mimetype": "text/x-python",
   "name": "python",
   "nbconvert_exporter": "python",
   "pygments_lexer": "ipython3",
   "version": "3.9.16"
  },
  "orig_nbformat": 4
 },
 "nbformat": 4,
 "nbformat_minor": 2
}
