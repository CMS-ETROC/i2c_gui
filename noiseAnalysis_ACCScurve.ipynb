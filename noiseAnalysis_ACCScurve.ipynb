{
 "cells": [
  {
   "cell_type": "code",
   "execution_count": null,
   "metadata": {},
   "outputs": [],
   "source": [
    "#############################################################################\n",
    "# zlib License\n",
    "#\n",
    "# (C) 2023 Cristóvão Beirão da Cruz e Silva <cbeiraod@cern.ch>\n",
    "#\n",
    "# This software is provided 'as-is', without any express or implied\n",
    "# warranty.  In no event will the authors be held liable for any damages\n",
    "# arising from the use of this software.\n",
    "#\n",
    "# Permission is granted to anyone to use this software for any purpose,\n",
    "# including commercial applications, and to alter it and redistribute it\n",
    "# freely, subject to the following restrictions:\n",
    "#\n",
    "# 1. The origin of this software must not be misrepresented; you must not\n",
    "#    claim that you wrote the original software. If you use this software\n",
    "#    in a product, an acknowledgment in the product documentation would be\n",
    "#    appreciated but is not required.\n",
    "# 2. Altered source versions must be plainly marked as such, and must not be\n",
    "#    misrepresented as being the original software.\n",
    "# 3. This notice may not be removed or altered from any source distribution.\n",
    "#############################################################################\n",
    "\n",
    "#############################################################################\n",
    "# Modified for ETROC2 I2C testing in jupyter notebooks, Murtaza Safdari\n",
    "#############################################################################"
   ]
  },
  {
   "attachments": {},
   "cell_type": "markdown",
   "metadata": {},
   "source": [
    "## Imports"
   ]
  },
  {
   "cell_type": "code",
   "execution_count": null,
   "metadata": {},
   "outputs": [],
   "source": [
    "#%%\n",
    "%matplotlib inline\n",
    "import matplotlib.pyplot as plt\n",
    "import logging\n",
    "import i2c_gui\n",
    "import i2c_gui.chips\n",
    "from i2c_gui.usb_iss_helper import USB_ISS_Helper\n",
    "from i2c_gui.fpga_eth_helper import FPGA_ETH_Helper\n",
    "import numpy as np\n",
    "from mpl_toolkits.axes_grid1 import make_axes_locatable\n",
    "import time\n",
    "import datetime\n",
    "from tqdm import tqdm\n",
    "from i2c_gui.chips.etroc2_chip import register_decoding\n",
    "import os, sys\n",
    "import multiprocessing\n",
    "os.chdir(f'/home/{os.getlogin()}/ETROC2/ETROC_DAQ')\n",
    "import run_script\n",
    "import importlib\n",
    "importlib.reload(run_script)\n",
    "import pickle\n",
    "import pandas\n",
    "from pathlib import Path\n",
    "import subprocess\n",
    "from math import ceil\n",
    "import sqlite3"
   ]
  },
  {
   "attachments": {},
   "cell_type": "markdown",
   "metadata": {},
   "source": [
    "## Specify board name"
   ]
  },
  {
   "cell_type": "code",
   "execution_count": null,
   "metadata": {},
   "outputs": [],
   "source": [
    "# !!!!!!!!!!!!\n",
    "# It is very important to correctly set the chip name, this value is stored with the data\n",
    "chip_name = \"ET2_W36_IP5-17\"\n",
    "chip_figname = f\"LowBiasCurrent_HVon100V_C26Removed_Ext10KOhm_{chip_name}\"\n",
    "chip_figtitle= \"LowBiasCurrent HVon100V C26Removed Ext10KOhm \"+chip_name\n",
    "\n",
    "fig_outdir = Path('../ETROC-figures')\n",
    "fig_outdir = fig_outdir / (datetime.date.today().isoformat() + '_Array_Test_Results')\n",
    "fig_outdir.mkdir(exist_ok=True)\n",
    "fig_path = str(fig_outdir)"
   ]
  },
  {
   "attachments": {},
   "cell_type": "markdown",
   "metadata": {},
   "source": [
    "## Set defaults"
   ]
  },
  {
   "cell_type": "code",
   "execution_count": null,
   "metadata": {},
   "outputs": [],
   "source": [
    "# 'If set, the full log will be saved to a file (i.e. the log level is ignored)'\n",
    "log_file = False\n",
    "# 'Set the logging level. Default: WARNING',\n",
    "#  [\"CRITICAL\",\"ERROR\",\"WARNING\",\"INFO\",\"DEBUG\",\"TRACE\",\"DETAILED_TRACE\",\"NOTSET\"]\n",
    "log_level_text = \"WARNING\"\n",
    "# 'The port name the USB-ISS module is connected to. Default: COM3'\n",
    "port = \"/dev/ttyACM0\"\n",
    "# I2C addresses for the pixel block and WS\n",
    "chip_address = 0x60\n",
    "ws_address = None"
   ]
  },
  {
   "cell_type": "code",
   "execution_count": null,
   "metadata": {},
   "outputs": [],
   "source": [
    "if log_file:\n",
    "    logging.basicConfig(filename='logging.log', filemode='w', encoding='utf-8', level=logging.NOTSET)\n",
    "    log_level = 0\n",
    "else:\n",
    "    log_level = 0\n",
    "    if log_level_text == \"CRITICAL\":\n",
    "        log_level=50\n",
    "    elif log_level_text == \"ERROR\":\n",
    "        log_level=40\n",
    "    elif log_level_text == \"WARNING\":\n",
    "        log_level=30\n",
    "    elif log_level_text == \"INFO\":\n",
    "        log_level=20\n",
    "    elif log_level_text == \"DEBUG\":\n",
    "        log_level=10\n",
    "    elif log_level_text == \"TRACE\":\n",
    "        log_level=8\n",
    "    elif log_level_text == \"DETAILED_TRACE\":\n",
    "        log_level=5\n",
    "    elif log_level_text == \"NOTSET\":\n",
    "        log_level=0\n",
    "    logging.basicConfig(format='%(asctime)s - %(levelname)s:%(name)s:%(message)s')\n",
    "\n",
    "i2c_gui.__no_connect__ = False  # Set to fake connecting to an ETROC2 device\n",
    "i2c_gui.__no_connect_type__ = \"echo\"  # for actually testing readback\n",
    "#i2c_gui.__no_connect_type__ = \"check\"  # default behaviour"
   ]
  },
  {
   "attachments": {},
   "cell_type": "markdown",
   "metadata": {},
   "source": [
    "## Start logger and connect"
   ]
  },
  {
   "cell_type": "code",
   "execution_count": null,
   "metadata": {},
   "outputs": [],
   "source": [
    "logger = logging.getLogger(\"Script_Logger\")\n",
    "\n",
    "Script_Helper = i2c_gui.ScriptHelper(logger)\n",
    "\n",
    "## USB ISS connection\n",
    "conn = i2c_gui.Connection_Controller(Script_Helper)\n",
    "conn.connection_type = \"USB-ISS\"\n",
    "conn.handle: USB_ISS_Helper\n",
    "conn.handle.port = port\n",
    "conn.handle.clk = 100\n",
    "\n",
    "## For FPGA connection (not yet fully implemented)\n",
    "#conn.connection_type = \"FPGA-Eth\"\n",
    "#conn.handle: FPGA_ETH_Helper\n",
    "#conn.handle.hostname = \"192.168.2.3\"\n",
    "#conn.handle.port = \"1024\"\n",
    "\n",
    "conn.connect()"
   ]
  },
  {
   "cell_type": "code",
   "execution_count": null,
   "metadata": {},
   "outputs": [],
   "source": [
    "chip = i2c_gui.chips.ETROC2_Chip(parent=Script_Helper, i2c_controller=conn)\n",
    "chip.config_i2c_address(chip_address)  # Not needed if you do not access ETROC registers (i.e. only access WS registers)\n",
    "# chip.config_waveform_sampler_i2c_address(ws_address)  # Not needed if you do not access WS registers\n",
    "\n",
    "logger.setLevel(log_level)"
   ]
  },
  {
   "cell_type": "code",
   "execution_count": null,
   "metadata": {},
   "outputs": [],
   "source": []
  },
  {
   "cell_type": "code",
   "execution_count": null,
   "metadata": {},
   "outputs": [],
   "source": [
    "def pixel_decoded_register_write(decodedRegisterName, data_to_write):\n",
    "    bit_depth = register_decoding[\"ETROC2\"][\"Register Blocks\"][\"Pixel Config\"][decodedRegisterName][\"bits\"]\n",
    "    handle = chip.get_decoded_indexed_var(\"ETROC2\", \"Pixel Config\", decodedRegisterName)\n",
    "    chip.read_decoded_value(\"ETROC2\", \"Pixel Config\", decodedRegisterName)\n",
    "    if len(data_to_write)!=bit_depth: print(\"Binary data_to_write is of incorrect length for\",decodedRegisterName, \"with bit depth\", bit_depth)\n",
    "    data_hex_modified = hex(int(data_to_write, base=2))\n",
    "    if(bit_depth>1): handle.set(data_hex_modified)\n",
    "    elif(bit_depth==1): handle.set(data_to_write)\n",
    "    else: print(decodedRegisterName, \"!!!ERROR!!! Bit depth <1, how did we get here...\")\n",
    "    chip.write_decoded_value(\"ETROC2\", \"Pixel Config\", decodedRegisterName)\n",
    "\n",
    "def pixel_decoded_register_read(decodedRegisterName, key, need_int=False):\n",
    "    handle = chip.get_decoded_indexed_var(\"ETROC2\", f\"Pixel {key}\", decodedRegisterName)\n",
    "    chip.read_decoded_value(\"ETROC2\", f\"Pixel {key}\", decodedRegisterName)\n",
    "    if(need_int): return int(handle.get(), base=16)\n",
    "    else: return handle.get()\n",
    "\n",
    "def peripheral_decoded_register_write(decodedRegisterName, data_to_write):\n",
    "    bit_depth = register_decoding[\"ETROC2\"][\"Register Blocks\"][\"Peripheral Config\"][decodedRegisterName][\"bits\"]\n",
    "    handle = chip.get_decoded_display_var(\"ETROC2\", \"Peripheral Config\", decodedRegisterName)\n",
    "    chip.read_decoded_value(\"ETROC2\", \"Peripheral Config\", decodedRegisterName)\n",
    "    if len(data_to_write)!=bit_depth: print(\"Binary data_to_write is of incorrect length for\",decodedRegisterName, \"with bit depth\", bit_depth)\n",
    "    data_hex_modified = hex(int(data_to_write, base=2))\n",
    "    if(bit_depth>1): handle.set(data_hex_modified)\n",
    "    elif(bit_depth==1): handle.set(data_to_write)\n",
    "    else: print(decodedRegisterName, \"!!!ERROR!!! Bit depth <1, how did we get here...\")\n",
    "    chip.write_decoded_value(\"ETROC2\", \"Peripheral Config\", decodedRegisterName)\n",
    "\n",
    "def peripheral_decoded_register_read(decodedRegisterName, key, need_int=False):\n",
    "    handle = chip.get_decoded_display_var(\"ETROC2\", f\"Peripheral {key}\", decodedRegisterName)\n",
    "    chip.read_decoded_value(\"ETROC2\", f\"Peripheral {key}\", decodedRegisterName)\n",
    "    if(need_int): return int(handle.get(), base=16)\n",
    "    else: return handle.get()"
   ]
  },
  {
   "attachments": {},
   "cell_type": "markdown",
   "metadata": {},
   "source": [
    "# Pixel ID Check"
   ]
  },
  {
   "cell_type": "code",
   "execution_count": null,
   "metadata": {},
   "outputs": [],
   "source": [
    "Failure_map = np.zeros((16,16))\n",
    "row_indexer_handle,_,_ = chip.get_indexer(\"row\")  # Returns 3 parameters: handle, min, max\n",
    "column_indexer_handle,_,_ = chip.get_indexer(\"column\")\n",
    "for row in range(16):\n",
    "    for col in range(16):\n",
    "        column_indexer_handle.set(col)\n",
    "        row_indexer_handle.set(row)\n",
    "        fetched_row = pixel_decoded_register_read(\"PixelID-Row\", \"Status\", need_int=True)\n",
    "        fetched_col = pixel_decoded_register_read(\"PixelID-Col\", \"Status\", need_int=True)\n",
    "        if(row!=fetched_row or col!=fetched_col):\n",
    "            print(\"Fail!\", row, col, fetched_row, fetched_col)\n",
    "            Failure_map[15-row,15-col] = 1"
   ]
  },
  {
   "cell_type": "code",
   "execution_count": null,
   "metadata": {},
   "outputs": [],
   "source": [
    "#%%\n",
    "%matplotlib inline\n",
    "import matplotlib.pyplot as plt"
   ]
  },
  {
   "cell_type": "code",
   "execution_count": null,
   "metadata": {},
   "outputs": [],
   "source": [
    "fig = plt.figure(dpi=75, figsize=(8,8))\n",
    "gs = fig.add_gridspec(1,1)\n",
    "\n",
    "ax0 = fig.add_subplot(gs[0,0])\n",
    "ax0.set_title(\"Pixel ID Failure Map\")\n",
    "img0 = ax0.imshow(Failure_map, interpolation='none')\n",
    "ax0.set_aspect(\"equal\")\n",
    "ax0.get_yaxis().set_visible(False)\n",
    "ax0.get_xaxis().set_visible(False)\n",
    "divider = make_axes_locatable(ax0)\n",
    "cax = divider.append_axes('right', size=\"5%\", pad=0.05)\n",
    "fig.colorbar(img0, cax=cax, orientation=\"vertical\")\n",
    "plt.show()"
   ]
  },
  {
   "attachments": {},
   "cell_type": "markdown",
   "metadata": {},
   "source": [
    "## Set Peripheral Registers"
   ]
  },
  {
   "cell_type": "code",
   "execution_count": null,
   "metadata": {},
   "outputs": [],
   "source": [
    "peripheral_decoded_register_write(\"EFuse_Prog\", format(0x00017f0f, '032b'))\n",
    "peripheral_decoded_register_write(\"singlePort\", '1')\n",
    "peripheral_decoded_register_write(\"serRateLeft\", '00')\n",
    "peripheral_decoded_register_write(\"serRateRight\", '00')\n",
    "peripheral_decoded_register_write(\"onChipL1AConf\", '00')\n",
    "peripheral_decoded_register_write(\"PLL_ENABLEPLL\", '1')\n",
    "peripheral_decoded_register_write(\"chargeInjectionDelay\", format(0x0a, '05b'))\n",
    "# peripheral_decoded_register_write(\"fcClkDelayEn\", \"1\")"
   ]
  },
  {
   "attachments": {},
   "cell_type": "markdown",
   "metadata": {},
   "source": [
    "# Force Re-align of the FC"
   ]
  },
  {
   "attachments": {},
   "cell_type": "markdown",
   "metadata": {},
   "source": [
    "Run this when you see inconsistent BCID in your data, even though you expect to see the same numbers for each cycle"
   ]
  },
  {
   "cell_type": "code",
   "execution_count": null,
   "metadata": {},
   "outputs": [],
   "source": [
    "print(peripheral_decoded_register_read(\"asyAlignFastcommand\", \"Config\"))\n",
    "\n",
    "peripheral_decoded_register_write(\"asyAlignFastcommand\", \"1\")\n",
    "peripheral_decoded_register_write(\"asyAlignFastcommand\", \"0\")"
   ]
  },
  {
   "attachments": {},
   "cell_type": "markdown",
   "metadata": {},
   "source": [
    "### Disable all pixels"
   ]
  },
  {
   "cell_type": "code",
   "execution_count": null,
   "metadata": {},
   "outputs": [],
   "source": [
    "row_indexer_handle,_,_ = chip.get_indexer(\"row\")\n",
    "column_indexer_handle,_,_ = chip.get_indexer(\"column\")\n",
    "column_indexer_handle.set(0)\n",
    "row_indexer_handle.set(0)\n",
    "\n",
    "broadcast_handle,_,_ = chip.get_indexer(\"broadcast\")\n",
    "broadcast_handle.set(True)\n",
    "pixel_decoded_register_write(\"disDataReadout\", \"1\")\n",
    "broadcast_handle.set(True)\n",
    "pixel_decoded_register_write(\"QInjEn\", \"0\")"
   ]
  },
  {
   "attachments": {},
   "cell_type": "markdown",
   "metadata": {},
   "source": [
    "### Define pixels of interest"
   ]
  },
  {
   "cell_type": "code",
   "execution_count": null,
   "metadata": {},
   "outputs": [],
   "source": [
    "# Sensor board pixels of interest\n",
    "# row_list = [14, 14, 14, 14]\n",
    "# col_list = [6, 7, 8, 9]\n",
    "\n",
    "row_list = [14, 14, 14, 14, 15, 15, 15, 15]\n",
    "col_list = [6, 7, 8, 9, 6, 7, 8, 9]\n",
    "\n",
    "scan_list = list(zip(col_list, row_list))\n",
    "print(scan_list)"
   ]
  },
  {
   "cell_type": "markdown",
   "metadata": {},
   "source": [
    "## Automatic threshold calibration"
   ]
  },
  {
   "cell_type": "code",
   "execution_count": null,
   "metadata": {},
   "outputs": [],
   "source": [
    "BL_map_THCal = np.zeros((16,16))\n",
    "NW_map_THCal = np.zeros((16,16))"
   ]
  },
  {
   "cell_type": "code",
   "execution_count": null,
   "metadata": {},
   "outputs": [],
   "source": [
    "row_indexer_handle,_,_ = chip.get_indexer(\"row\")  # Returns 3 parameters: handle, min, max\n",
    "column_indexer_handle,_,_ = chip.get_indexer(\"column\")\n",
    "# Loop for threshold calibration\n",
    "for row in tqdm(range(16), desc=\" row\", position=0):\n",
    "    for col in tqdm(range(16), desc=\" col\", position=1, leave=False):\n",
    "# for index,row,col in zip(tqdm(range(16)), row_list, col_list):\n",
    "        column_indexer_handle.set(col)\n",
    "        row_indexer_handle.set(row)\n",
    "        # Enable THCal clock and buffer, disable bypass\n",
    "        pixel_decoded_register_write(\"CLKEn_THCal\", \"1\")\n",
    "        pixel_decoded_register_write(\"BufEn_THCal\", \"1\")\n",
    "        pixel_decoded_register_write(\"Bypass_THCal\", \"0\")\n",
    "        pixel_decoded_register_write(\"TH_offset\", format(0x010, '06b'))\n",
    "        # Reset the calibration block (active low)\n",
    "        pixel_decoded_register_write(\"RSTn_THCal\", \"0\")\n",
    "        pixel_decoded_register_write(\"RSTn_THCal\", \"1\")\n",
    "        # Start and Stop the calibration, (25ns x 2**15 ~ 800 us, ACCumulator max is 2**15)\n",
    "        pixel_decoded_register_write(\"ScanStart_THCal\", \"1\")\n",
    "        pixel_decoded_register_write(\"ScanStart_THCal\", \"0\")\n",
    "        # Check the calibration done correctly\n",
    "        if(pixel_decoded_register_read(\"ScanDone\", \"Status\")!=\"1\"): print(\"!!!ERROR!!! Scan not done!!!\")\n",
    "        BL_map_THCal[row, col] = pixel_decoded_register_read(\"BL\", \"Status\", need_int=True)\n",
    "        NW_map_THCal[row, col] = pixel_decoded_register_read(\"NW\", \"Status\", need_int=True)\n",
    "        # Disable clock and buffer before charge injection \n",
    "        pixel_decoded_register_write(\"CLKEn_THCal\", \"0\") \n",
    "        pixel_decoded_register_write(\"BufEn_THCal\", \"0\")\n",
    "        \n",
    "        # pixel_decoded_register_write(\"DAC\", format(0, '010b'))\n",
    "        # pixel_decoded_register_write(\"Bypass_THCal\", \"1\")\n",
    "        time.sleep(0.1)"
   ]
  },
  {
   "cell_type": "code",
   "execution_count": null,
   "metadata": {},
   "outputs": [],
   "source": [
    "fig = plt.figure(dpi=200, figsize=(10,10))\n",
    "gs = fig.add_gridspec(1,2)\n",
    "\n",
    "ax0 = fig.add_subplot(gs[0,0])\n",
    "ax0.set_title(\"BL (DAC LSB), \"+chip_figtitle, size=8)\n",
    "img0 = ax0.imshow(BL_map_THCal, interpolation='none')\n",
    "ax0.set_aspect(\"equal\")\n",
    "ax0.invert_xaxis()\n",
    "ax0.invert_yaxis()\n",
    "plt.xticks(range(16), range(16), rotation=\"vertical\")\n",
    "plt.yticks(range(16), range(16))\n",
    "divider = make_axes_locatable(ax0)\n",
    "cax = divider.append_axes('right', size=\"5%\", pad=0.05)\n",
    "fig.colorbar(img0, cax=cax, orientation=\"vertical\")\n",
    "\n",
    "ax1 = fig.add_subplot(gs[0,1])\n",
    "ax1.set_title(\"NW (DAC LSB), \"+chip_figtitle, size=8)\n",
    "img1 = ax1.imshow(NW_map_THCal, interpolation='none')\n",
    "ax1.set_aspect(\"equal\")\n",
    "ax1.invert_xaxis()\n",
    "ax1.invert_yaxis()\n",
    "plt.xticks(range(16), range(16), rotation=\"vertical\")\n",
    "plt.yticks(range(16), range(16))\n",
    "divider = make_axes_locatable(ax1)\n",
    "cax = divider.append_axes('right', size=\"5%\", pad=0.05)\n",
    "fig.colorbar(img1, cax=cax, orientation=\"vertical\")\n",
    "\n",
    "for x in range(16):\n",
    "    for y in range(16):\n",
    "        # if(BL_map_THCal.T[x,y]==0): continue\n",
    "        ax0.text(x,y,f\"{BL_map_THCal.T[x,y]:.0f}\", c=\"white\", size=5, rotation=45, fontweight=\"bold\", ha=\"center\", va=\"center\")\n",
    "        ax1.text(x,y,f\"{NW_map_THCal.T[x,y]:.0f}\", c=\"white\", size=5, rotation=45, fontweight=\"bold\", ha=\"center\", va=\"center\")\n",
    "plt.savefig(str(fig_outdir)+\"/BL_NW_\"+chip_figname+\"_\"+datetime.date.today().isoformat()+\".png\")\n",
    "# plt.show()"
   ]
  },
  {
   "attachments": {},
   "cell_type": "markdown",
   "metadata": {},
   "source": [
    "# ACC S-curve calibration"
   ]
  },
  {
   "cell_type": "code",
   "execution_count": null,
   "metadata": {},
   "outputs": [],
   "source": [
    "DAC_range = np.arange(0 ,100)\n",
    "accdata = []\n",
    "\n",
    "ACC_map_Scurve = {row:{col:np.zeros_like(DAC_range) for col in range(16)} for row in range(16)}\n",
    "row_indexer_handle,_,_ = chip.get_indexer(\"row\")  # Returns 3 parameters: handle, min, max\n",
    "column_indexer_handle,_,_ = chip.get_indexer(\"column\")\n",
    "for col, row in tqdm(scan_list):\n",
    "    column_indexer_handle.set(col)\n",
    "    row_indexer_handle.set(row)\n",
    "    # Enable THCal clock and buffer and bypass\n",
    "    pixel_decoded_register_write(\"CLKEn_THCal\", \"1\")\n",
    "    pixel_decoded_register_write(\"BufEn_THCal\", \"1\")\n",
    "    pixel_decoded_register_write(\"Bypass_THCal\", \"1\")\n",
    "    for index,DAC in enumerate(DAC_range):\n",
    "        # Reset the calibration block (active low)\n",
    "        pixel_decoded_register_write(\"RSTn_THCal\", \"0\")\n",
    "        pixel_decoded_register_write(\"RSTn_THCal\", \"1\")\n",
    "        # Set the DAC value to the value being scanned\n",
    "        pixel_decoded_register_write(\"DAC\", format(DAC, '010b'))\n",
    "        # Start and Stop the calibration, maybe pause for 1ms (25ns x 2**15 ~ 800 us, ACCumulator max is 2**15)\n",
    "        pixel_decoded_register_write(\"ScanStart_THCal\", \"1\")\n",
    "        # time.sleep(.1)\n",
    "        pixel_decoded_register_write(\"ScanStart_THCal\", \"0\")\n",
    "        # Fetch the status registers\n",
    "        if(pixel_decoded_register_read(\"ScanDone\", \"Status\")!=\"1\"): print(\"!!!ERROR!!! Scan not done!!!\")\n",
    "        ACC_map_Scurve[row][col][index] = pixel_decoded_register_read(\"ACC\", \"Status\", need_int=True)\n",
    "    \n",
    "    accdata += [{\n",
    "            'col': col,\n",
    "            'row': row,\n",
    "            'accscurve': ACC_map_Scurve[row][col],\n",
    "            'xmin': np.amin(DAC_range),\n",
    "            'xmax': np.amax(DAC_range)+1,\n",
    "            'xstep': (np.amax(DAC_range)+1-np.amin(DAC_range))/DAC_range.size,\n",
    "            'chip_name': chip_name,\n",
    "            'timestamp': datetime.datetime.now(),\n",
    "    }]\n",
    "    \n",
    "    # Disable THCal clock and buffer and bypass\n",
    "    pixel_decoded_register_write(\"CLKEn_THCal\", \"0\")\n",
    "    pixel_decoded_register_write(\"BufEn_THCal\", \"0\")\n",
    "    # Set the DAC value to the vpreviously found BL + Offset (7)\n",
    "    # pixel_decoded_register_write(\"DAC\", format(int(BL_map_THCal[row,col]+7), '010b'))\n",
    "    pixel_decoded_register_write(\"DAC\", format(0, '010b'))\n",
    "    time.sleep(0.1)\n",
    "\n",
    "acc_df = pandas.DataFrame(data = accdata)\n",
    "# Need to convert array to string, to save as SQL\n",
    "acc_df['accscurve'] = acc_df['accscurve'].apply(lambda arr: ','.join(map(str, arr)))"
   ]
  },
  {
   "cell_type": "code",
   "execution_count": null,
   "metadata": {},
   "outputs": [],
   "source": [
    "outdir = Path('../ETROC-Data')\n",
    "outdir = outdir / (datetime.date.today().isoformat() + '_Array_Test_Results')\n",
    "outdir.mkdir(exist_ok=True)\n",
    "outfile = outdir / (chip_name+\"_ACC_Scurve_At_\" + datetime.datetime.now().strftime(\"%Y-%m-%d_%H-%M\") + \".csv\")\n",
    "acc_df.to_csv(outfile, index=False)"
   ]
  },
  {
   "attachments": {},
   "cell_type": "markdown",
   "metadata": {},
   "source": [
    "## Comparing Auto-THCal with ACC S-curve"
   ]
  },
  {
   "cell_type": "code",
   "execution_count": null,
   "metadata": {},
   "outputs": [],
   "source": [
    "from scipy.optimize import curve_fit\n",
    "from scipy.stats import crystalball, chisquare\n",
    "\n",
    "# Define the composite Gaussian function\n",
    "def composite_gaussian(x, a1, mean1, sigma1, a2, mean2, sigma2):\n",
    "    gauss1 = a1 * np.exp(-(x - mean1) ** 2 / (2 * sigma1 ** 2))\n",
    "    gauss2 = a2 * np.exp(-(x - mean2) ** 2 / (2 * sigma2 ** 2))\n",
    "    return gauss1 + gauss2\n",
    "\n",
    "def gaussian_func(x, a, mu, sigma):\n",
    "    return a * np.exp(-(x - mu)**2 / (2 * sigma**2))\n",
    "\n",
    "def cball_func(x, a, mu, sigma, alpha, n):\n",
    "    return a * crystalball.pdf(x, n, alpha, mu, sigma)\n",
    "\n",
    "def return_closest_xvalue(x, value):\n",
    "    return np.argmin(np.abs(x - value))\n",
    "\n",
    "GMean_map_THCal = np.zeros((16,16))\n",
    "GSigma_map_THCal = np.zeros((16,16))\n",
    "x = DAC_range\n",
    "\n",
    "fit_width = 10\n",
    "\n",
    "for col, row in tqdm(scan_list):\n",
    "    y = ACC_map_Scurve[row][col]\n",
    "    dy_dx = -1*np.gradient(y, x)\n",
    "    max_index = np.argmax(dy_dx)\n",
    "    selection = (dy_dx>0) & (x>=x[max_index]-fit_width) & (x<=x[max_index]+fit_width)\n",
    "\n",
    "    initial_guess = [1.0, x[max_index], 1.0]\n",
    "    initial_guess_cball = [30000, -1*x[max_index], 5, 5, 1]\n",
    "\n",
    "    popt, pcov = curve_fit(gaussian_func, x[selection], dy_dx[selection], p0=initial_guess)\n",
    "    # popt_cball, pcov_cball = curve_fit(cball_func, -1*x, dy_dx, p0=initial_guess_cball)\n",
    "    a1_fit, mean1_fit, sigma1_fit = popt\n",
    "    sigma1_fit = abs(sigma1_fit)\n",
    "    GMean_map_THCal[row][col]  = mean1_fit\n",
    "    GSigma_map_THCal[row][col] = sigma1_fit\n",
    "    # _, mean_cball_fit, sigma_cball_fit,_,_ = popt_cball\n",
    "\n",
    "    y_fit1 = gaussian_func(x, *popt)\n",
    "    # y_cball_fit = cball_func(-1*x, *popt_cball)\n",
    "\n",
    "    # Calculate R-squared value\n",
    "    # ssr = np.sum((dy_dx - y_fit1) ** 2)\n",
    "    # sst = np.sum((dy_dx - np.mean(y_fit1)) ** 2)\n",
    "    # r_squared = 1 - (ssr / sst)\n",
    "    # print('R squared:', r_squared)\n",
    "\n",
    "    # Calculate the chi-square statistic\n",
    "    # observed_values, _ = np.histogram(dy_dx, bins=len(x))\n",
    "    # expected_values = gaussian_func(x, a1_fit, mean1_fit, sigma1_fit)\n",
    "    # chi2, p_value = chisquare(observed_values, expected_values)\n",
    "    # print('Chi-Square Statistic:', chi2, 'P-value:', p_value)\n",
    "\n",
    "    # Plot the differentials\n",
    "    fig = plt.figure(dpi=100, figsize=(6,6))\n",
    "    plt.plot(x, dy_dx, 'b.', label='Gradient')\n",
    "    plt.plot(x, y_fit1, color='r', linestyle='-', label='Peak Gaussian Fit')\n",
    "    # plt.plot(x, y_cball_fit, color='g', linestyle='--', label='Crystal Ball')\n",
    "    plt.axhline(0, ls='--', color='k')\n",
    "    plt.axvline(x[max_index]-fit_width, ls='--', color='k')\n",
    "    plt.axvline(x[max_index]+fit_width, ls='--', color='k')\n",
    "    plt.xlabel(\"DAC Value [LSB]\")\n",
    "    plt.ylabel(\"PDF from ACC Value\")\n",
    "    plt.legend()\n",
    "    plt.show()"
   ]
  },
  {
   "cell_type": "code",
   "execution_count": null,
   "metadata": {},
   "outputs": [],
   "source": [
    "from math import ceil\n",
    "\n",
    "fig = plt.figure(dpi=200, figsize=(20,10))\n",
    "u_cl = np.sort(np.unique(col_list))\n",
    "u_rl = np.sort(np.unique(row_list))\n",
    "gs = fig.add_gridspec(len(u_rl),len(u_cl))\n",
    "for ri,row in enumerate(u_rl):\n",
    "    for ci,col in enumerate(u_cl):\n",
    "        y = ACC_map_Scurve[row][col]\n",
    "        maxcdf = np.amax(y)\n",
    "        onesigmacdf = y[return_closest_xvalue(x, ceil(GMean_map_THCal[row][col] - GSigma_map_THCal[row][col]))] - y[return_closest_xvalue(x, ceil(GMean_map_THCal[row][col] + GSigma_map_THCal[row][col]))]\n",
    "        twosigmacdf = y[return_closest_xvalue(x, ceil(GMean_map_THCal[row][col] - 2*GSigma_map_THCal[row][col]))] - y[return_closest_xvalue(x, ceil(GMean_map_THCal[row][col] + 2*GSigma_map_THCal[row][col]))]\n",
    "\n",
    "        ax0 = fig.add_subplot(gs[len(u_rl)-ri-1,len(u_cl)-ci-1])\n",
    "        ax0.plot(DAC_range, ACC_map_Scurve[row][col], 'b.-', label=\"S-curve\")\n",
    "        ax0.axvline(GMean_map_THCal[row][col], color='r', label=f\"G. Peak Mean = {GMean_map_THCal[row][col]:.1f}\")\n",
    "        ax0.axvline(GMean_map_THCal[row][col]+GSigma_map_THCal[row][col], color='k', label=fr\"1$\\sigma$ FW = {2*GSigma_map_THCal[row][col]:.1f}, {100*onesigmacdf/maxcdf:.1f}%\")\n",
    "        ax0.axvline(GMean_map_THCal[row][col]-GSigma_map_THCal[row][col], color='k')\n",
    "        ax0.axvline(GMean_map_THCal[row][col]+2*GSigma_map_THCal[row][col], color='k', ls=\"--\", label=fr\"2$\\sigma$ FW = {4*GSigma_map_THCal[row][col]:.1f}, {100*twosigmacdf/maxcdf:.1f}%\")\n",
    "        ax0.axvline(GMean_map_THCal[row][col]-2*GSigma_map_THCal[row][col], color='k', ls=\"--\")\n",
    "        ax0.set_xlabel(\"DAC Value [LSB]\")\n",
    "        ax0.set_ylabel(\"ACC Value [decimal]\")\n",
    "        plt.legend()\n",
    "        plt.title(chip_figtitle+f\", Pixel {row},{col}\", size=8)\n",
    "plt.tight_layout()\n",
    "plt.savefig(str(fig_outdir)+\"/ACC_Gaussian_SCurve_\"+chip_figname+\"_\"+datetime.date.today().isoformat()+\".png\")"
   ]
  },
  {
   "attachments": {},
   "cell_type": "markdown",
   "metadata": {},
   "source": [
    "## Set User defined thresholds from offline gaussian fit"
   ]
  },
  {
   "cell_type": "code",
   "execution_count": null,
   "metadata": {},
   "outputs": [],
   "source": [
    "total_number_pixels = 1\n",
    "time_per_pixel = 10\n",
    "dead_time_per_pixel = 4\n",
    "total_scan_time = total_number_pixels*(time_per_pixel + dead_time_per_pixel)\n",
    "\n",
    "row_indexer_handle,_,_ = chip.get_indexer(\"row\")\n",
    "column_indexer_handle,_,_ = chip.get_indexer(\"column\")\n",
    "\n",
    "sigmaScan = [i for i in range(6)]\n",
    "qinjScan  = [0, 8, 10, 15]\n",
    "ACC_sigmaScn_dict = {i:[] for i in sigmaScan}\n",
    "\n",
    "for index, row, col in zip(tqdm(range(len(row_list))), row_list, col_list):\n",
    "    column_indexer_handle.set(col)\n",
    "    row_indexer_handle.set(row)\n",
    "    pixel_decoded_register_write(\"Bypass_THCal\", \"1\")\n",
    "    pixel_decoded_register_write(\"TH_offset\", format(0x0, '06b'))\n",
    "    pixel_decoded_register_write(\"disDataReadout\", \"1\")\n",
    "    pixel_decoded_register_write(\"QInjEn\", \"0\")\n",
    "    for Qinj in qinjScan:\n",
    "        if(Qinj!=0): pixel_decoded_register_write(\"QSel\", format(Qinj, '05b'))\n",
    "        for i in sigmaScan:\n",
    "            g_mean  = round(GMean_map_THCal[row][col])\n",
    "            g_sigma = ceil(GSigma_map_THCal[row][col])\n",
    "            DAC = int(g_mean+(i*g_sigma))\n",
    "            pixel_decoded_register_write(\"disDataReadout\", \"0\")\n",
    "            if(Qinj!=0): pixel_decoded_register_write(\"QInjEn\", \"1\")\n",
    "            pixel_decoded_register_write(\"DAC\", format(DAC, '010b'))\n",
    "            time.sleep(1)\n",
    "            scan_name = f\"E2_testing_VRef_{chip_figname}_Pixel_C{col}_R{row}_BLplus{i}sigma_Qinj_{Qinj}_Threshold_{DAC}\"\n",
    "            parser = run_script.getOptionParser()\n",
    "            (options, args) = parser.parse_args(args=f\"--firmware --useIPC --hostname 192.168.2.3 -t {int(total_scan_time)} -o {scan_name} -v -w --compressed_translation\".split())\n",
    "            IPC_queue = multiprocessing.Queue()\n",
    "            process = multiprocessing.Process(target=run_script.main_process, args=(IPC_queue, options, 'main_process'))\n",
    "            process.start()\n",
    "            if(Qinj!=0): IPC_queue.put('start L1A 1MHz clean')\n",
    "            else: IPC_queue.put('start L1A 1MHz noQinj')\n",
    "            while not IPC_queue.empty():\n",
    "                pass\n",
    "            time.sleep(time_per_pixel)\n",
    "            IPC_queue.put('stop L1A 1MHz')\n",
    "            while not IPC_queue.empty():\n",
    "                pass\n",
    "            pixel_decoded_register_write(\"QInjEn\", \"0\")\n",
    "            pixel_decoded_register_write(\"disDataReadout\", \"1\")\n",
    "            time.sleep(1)\n",
    "            IPC_queue.put('allow threads to exit')\n",
    "            process.join()\n",
    "            time.sleep(1)"
   ]
  },
  {
   "attachments": {},
   "cell_type": "markdown",
   "metadata": {},
   "source": [
    "# Make Plots (Can be run separately)"
   ]
  },
  {
   "cell_type": "code",
   "execution_count": null,
   "metadata": {},
   "outputs": [],
   "source": [
    "import matplotlib.ticker as ticker\n",
    "from mpl_toolkits.axes_grid1 import make_axes_locatable\n",
    "import os\n",
    "from fnmatch import fnmatch\n",
    "import hist\n",
    "from hist import Hist"
   ]
  },
  {
   "cell_type": "code",
   "execution_count": null,
   "metadata": {},
   "outputs": [],
   "source": [
    "row_list = [14, 14, 14, 14, 15, 15, 15, 15]\n",
    "col_list = [6, 7, 8, 9, 6, 7, 8, 9]\n",
    "\n",
    "scan_list = list(zip(col_list, row_list))\n",
    "print(scan_list)"
   ]
  },
  {
   "cell_type": "code",
   "execution_count": null,
   "metadata": {},
   "outputs": [],
   "source": [
    "sigmaScan = [i for i in range(6)]\n",
    "qinjScan  = [0, 8, 10, 15]"
   ]
  },
  {
   "cell_type": "code",
   "execution_count": null,
   "metadata": {},
   "outputs": [],
   "source": [
    "def return_empty_list():\n",
    "    return {(row,col):{q:{i:0 for i in sigmaScan}for q in qinjScan}for col,row in scan_list}\n",
    "def return_simple_empty_list():\n",
    "    return {(row,col):[] for col,row in scan_list}"
   ]
  },
  {
   "cell_type": "code",
   "execution_count": null,
   "metadata": {},
   "outputs": [],
   "source": [
    "h = {(row,col):{q:{i:(\n",
    "        Hist.new.Integer(100, 200, name=\"CAL\", label=\"CAL [LSB]\")\n",
    "        .Integer(0, 260, name=\"TOT\", label=\"TOT [LSB]\")\n",
    "        .Integer(0, 520, name=\"TOA\", label=\"TOA [LSB]\")\n",
    "        .Double()\n",
    "      )\n",
    "      for i in sigmaScan}\n",
    "     for q in qinjScan}\n",
    "    for col,row in scan_list}\n",
    "hit_counts = return_empty_list()"
   ]
  },
  {
   "cell_type": "code",
   "execution_count": null,
   "metadata": {},
   "outputs": [],
   "source": [
    "root = '../ETROC-Data'\n",
    "file_pattern = \"*translated*.dat\"\n",
    "for index, row, col in zip(tqdm(range(len(row_list))), row_list, col_list):\n",
    "    for Qinj in qinjScan:\n",
    "        for i in sigmaScan:\n",
    "            path_pattern = f\"*2023-06-22_Array_Test_Results/E2_testing_VRef_{chip_figname}_Pixel_C{col}_R{row}_BLplus{i}sigma_Threshold_[0-9][0-9]_Qinj_{Qinj}\"\n",
    "            file_list = []\n",
    "            for path, subdirs, files in os.walk(root):\n",
    "                if not fnmatch(path, path_pattern): continue\n",
    "                for name in files:\n",
    "                    pass\n",
    "                    if fnmatch(name, file_pattern):\n",
    "                        file_list.append(os.path.join(path, name))\n",
    "                        # print(file_list[-1])\n",
    "            total_files = len(file_list)\n",
    "            for file_index, file_name in enumerate(file_list):\n",
    "                # print(f\"{file_index+1}/{total_files}\")\n",
    "                with open(file_name) as infile:\n",
    "                    for line in infile:\n",
    "                        text_list = line.split()\n",
    "                        if text_list[2]!=\"DATA\": continue\n",
    "                        c_running = int(text_list[6])\n",
    "                        r_running = int(text_list[8])\n",
    "                        if(c_running!=col or r_running!=row): continue\n",
    "                        TOA = int(text_list[10])\n",
    "                        TOT = int(text_list[12])\n",
    "                        CAL = int(text_list[14])\n",
    "                        h[(r_running,c_running)][Qinj][i].fill(CAL,TOT,TOA)\n",
    "                        hit_counts[(r_running,c_running)][Qinj][i] += 1 "
   ]
  },
  {
   "cell_type": "code",
   "execution_count": null,
   "metadata": {},
   "outputs": [],
   "source": [
    "# fig = plt.figure(dpi=300, figsize=(10,10))\n",
    "# gs = fig.add_gridspec(1,1)\n",
    "# ax = fig.add_subplot(gs[0,0])\n",
    "# ax.set_title(f\"Pixel ({row},{col}) CAL (LSB)\")\n",
    "# h[(14,9)][0][0].project(\"CAL\")[0j:300j].plot1d(ax=ax, lw=1)\n",
    "# ax.set_xticks(ax.get_xticks(),ax.get_xticklabels(), rotation='vertical', size=3)\n",
    "# plt.show()"
   ]
  },
  {
   "cell_type": "code",
   "execution_count": null,
   "metadata": {},
   "outputs": [],
   "source": [
    "for Qinj in qinjScan:\n",
    "    fig = plt.figure(dpi=300, figsize=(20,10))\n",
    "    u_cl = np.sort(np.unique(col_list))\n",
    "    u_rl = np.sort(np.unique(row_list))\n",
    "    gs = fig.add_gridspec(len(u_rl),len(u_cl))\n",
    "    for ri,row in enumerate(u_rl):\n",
    "        for ci,col in enumerate(u_cl):\n",
    "            ax0 = fig.add_subplot(gs[len(u_rl)-ri-1,len(u_cl)-ci-1])\n",
    "            for i in sigmaScan:\n",
    "                h[(row,col)][Qinj][i].project(\"CAL\")[100j:200j].plot1d(ax=ax0, lw=1, label=fr\"$\\mu$+{i}$\\sigma$\")\n",
    "            plt.title(chip_figtitle+f\", CAL [LSB], Pixel [{row},{col}], Qinj {Qinj}fC\", size=6)\n",
    "            ax0.set_xticks(ax0.get_xticks()[::2],ax0.get_xticklabels()[::2], rotation='vertical', size=5)\n",
    "            plt.legend()\n",
    "    plt.tight_layout()\n",
    "    plt.savefig(str(fig_outdir)+f\"/noiseAnalysis_Qinj_{Qinj}_CAL_\"+chip_figname+\"_\"+datetime.date.today().isoformat()+\".png\")\n",
    "    plt.close()"
   ]
  },
  {
   "cell_type": "code",
   "execution_count": null,
   "metadata": {},
   "outputs": [],
   "source": [
    "for Qinj in qinjScan:\n",
    "    fig = plt.figure(dpi=300, figsize=(20,10))\n",
    "    u_cl = np.sort(np.unique(col_list))\n",
    "    u_rl = np.sort(np.unique(row_list))\n",
    "    gs = fig.add_gridspec(len(u_rl),len(u_cl))\n",
    "    for ri,row in enumerate(u_rl):\n",
    "        for ci,col in enumerate(u_cl):\n",
    "            ax0 = fig.add_subplot(gs[len(u_rl)-ri-1,len(u_cl)-ci-1])\n",
    "            for i in sigmaScan:\n",
    "                h[(row,col)][Qinj][i].project(\"TOT\").plot1d(ax=ax0, lw=1, label=fr\"$\\mu$+{i}$\\sigma$\")\n",
    "            plt.title(chip_figtitle+f\", TOT [LSB], Pixel [{row},{col}], Qinj {Qinj}fC\", size=6)\n",
    "            ax0.set_xticks(ax0.get_xticks()[::4],ax0.get_xticklabels()[::4], rotation='vertical', size=5)\n",
    "            plt.legend()\n",
    "    plt.tight_layout()\n",
    "    plt.savefig(str(fig_outdir)+f\"/noiseAnalysis_Qinj_{Qinj}_TOT_\"+chip_figname+\"_\"+datetime.date.today().isoformat()+\".png\")\n",
    "    plt.close()"
   ]
  },
  {
   "cell_type": "code",
   "execution_count": null,
   "metadata": {},
   "outputs": [],
   "source": [
    "for Qinj in qinjScan:\n",
    "    fig = plt.figure(dpi=300, figsize=(20,10))\n",
    "    u_cl = np.sort(np.unique(col_list))\n",
    "    u_rl = np.sort(np.unique(row_list))\n",
    "    gs = fig.add_gridspec(len(u_rl),len(u_cl))\n",
    "    for ri,row in enumerate(u_rl):\n",
    "        for ci,col in enumerate(u_cl):\n",
    "            ax0 = fig.add_subplot(gs[len(u_rl)-ri-1,len(u_cl)-ci-1])\n",
    "            for i in sigmaScan:\n",
    "                h[(row,col)][Qinj][i].project(\"TOA\").plot1d(ax=ax0, lw=1, label=fr\"$\\mu$+{i}$\\sigma$\")\n",
    "            plt.title(chip_figtitle+f\", TOA [LSB], Pixel [{row},{col}], Qinj {Qinj}fC\", size=6)\n",
    "            ax0.set_xticks(ax0.get_xticks()[::7],ax0.get_xticklabels()[::7], rotation='vertical', size=5)\n",
    "            plt.legend()\n",
    "    plt.tight_layout()\n",
    "    plt.savefig(str(fig_outdir)+f\"/noiseAnalysis_Qinj_{Qinj}_TOA_\"+chip_figname+\"_\"+datetime.date.today().isoformat()+\".png\")\n",
    "    plt.close()"
   ]
  },
  {
   "cell_type": "code",
   "execution_count": null,
   "metadata": {},
   "outputs": [],
   "source": [
    "for Qinj in qinjScan:\n",
    "    for row,col in zip(row_list, col_list):\n",
    "        fig = plt.figure(dpi=300, figsize=(15,10))\n",
    "        gs = fig.add_gridspec(2,3)\n",
    "        for i in sigmaScan:\n",
    "            ax = fig.add_subplot(gs[i//3,i%3])\n",
    "            h[(row,col)][Qinj][i].project(\"TOA\", \"TOT\").plot2d(\n",
    "                ax=ax,\n",
    "                cmap=\"coolwarm\"\n",
    "            )\n",
    "            ax.set_xticks(ax.get_xticks()[::7],ax.get_xticklabels()[::7], rotation='vertical', size=5)\n",
    "            ax.set_yticks(ax.get_yticks()[::4],ax.get_yticklabels()[::4], size=5)\n",
    "            ax.set_title(chip_figtitle+fr\", TOA-TOT, Pixel [{row},{col}], Qinj {Qinj}fC, $\\mu$+{i}$\\sigma$\", size=6)\n",
    "        plt.tight_layout()\n",
    "        plt.savefig(str(fig_outdir)+f\"/noiseAnalysis_Qinj_{Qinj}_TOA_vs_TOT_Pixel_{row}_{col}_\"+chip_figname+\"_\"+datetime.date.today().isoformat()+\".png\")\n",
    "        plt.close()\n"
   ]
  },
  {
   "cell_type": "code",
   "execution_count": null,
   "metadata": {},
   "outputs": [],
   "source": [
    "# fig = plt.figure(dpi=300, figsize=(160,160))\n",
    "# gs = fig.add_gridspec(16,16)\n",
    "# for i in range(16):\n",
    "#     for j in range(16):\n",
    "#         print(i,j)\n",
    "#         if np.isnan(CAL_mean[i,j]): continue\n",
    "#         ax = fig.add_subplot(gs[15-i,15-j])\n",
    "#         divider = make_axes_locatable(ax)\n",
    "#         top_ax = divider.append_axes('top', size='20%', pad=0.1, sharex=ax)\n",
    "#         side_ax = divider.append_axes('right', size='20%', pad=0.1, sharey=ax)\n",
    "#         h[i][j].project(\"TOA\", \"TOT\").plot2d_full(\n",
    "#             ax_dict = {\"main_ax\":ax, \"top_ax\":top_ax, \"side_ax\":side_ax},\n",
    "#             main_cmap=\"coolwarm\",\n",
    "#             top_ls=\"-\",top_color=\"orange\",top_lw=2,\n",
    "#             side_ls=\"-\",side_lw=2,side_color=\"steelblue\",\n",
    "#         )\n",
    "#         ax.set_xticks(ax.get_xticks(),ax.get_xticklabels(), rotation='vertical')\n",
    "#         start, end = side_ax.get_xlim()\n",
    "#         side_ax.set_xticks(np.linspace(0, end, 3), np.linspace(0, end, 3), rotation='vertical')\n",
    "#         side_ax.xaxis.set_major_formatter(ticker.FormatStrFormatter('%0.0f'))\n",
    "#         top_ax.set_title(f\"Pixel ({i},{j}) : TOA vs TOT (LSB)\")\n",
    "# plt.savefig(\"figures/TOA_vs_TOT_chip.pdf\")\n",
    "# plt.close()"
   ]
  },
  {
   "attachments": {},
   "cell_type": "markdown",
   "metadata": {},
   "source": [
    "# Disconnect chip"
   ]
  },
  {
   "cell_type": "code",
   "execution_count": null,
   "metadata": {},
   "outputs": [],
   "source": [
    "conn.disconnect()"
   ]
  },
  {
   "cell_type": "code",
   "execution_count": null,
   "metadata": {},
   "outputs": [],
   "source": []
  }
 ],
 "metadata": {
  "kernelspec": {
   "display_name": "Python 3",
   "language": "python",
   "name": "python3"
  },
  "language_info": {
   "codemirror_mode": {
    "name": "ipython",
    "version": 3
   },
   "file_extension": ".py",
   "mimetype": "text/x-python",
   "name": "python",
   "nbconvert_exporter": "python",
   "pygments_lexer": "ipython3",
   "version": "3.9.16"
  },
  "orig_nbformat": 4
 },
 "nbformat": 4,
 "nbformat_minor": 2
}
