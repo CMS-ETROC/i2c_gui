{
 "cells": [
  {
   "cell_type": "code",
   "execution_count": 1,
   "metadata": {},
   "outputs": [],
   "source": [
    "#############################################################################\n",
    "# zlib License\n",
    "#\n",
    "# (C) 2023 Zach Flowers, Murtaza Safdari <musafdar@cern.ch>\n",
    "#\n",
    "# This software is provided 'as-is', without any express or implied\n",
    "# warranty.  In no event will the authors be held liable for any damages\n",
    "# arising from the use of this software.\n",
    "#\n",
    "# Permission is granted to anyone to use this software for any purpose,\n",
    "# including commercial applications, and to alter it and redistribute it\n",
    "# freely, subject to the following restrictions:\n",
    "#\n",
    "# 1. The origin of this software must not be misrepresented; you must not\n",
    "#    claim that you wrote the original software. If you use this software\n",
    "#    in a product, an acknowledgment in the product documentation would be\n",
    "#    appreciated but is not required.\n",
    "# 2. Altered source versions must be plainly marked as such, and must not be\n",
    "#    misrepresented as being the original software.\n",
    "# 3. This notice may not be removed or altered from any source distribution.\n",
    "#############################################################################"
   ]
  },
  {
   "attachments": {},
   "cell_type": "markdown",
   "metadata": {},
   "source": [
    "# Imports"
   ]
  },
  {
   "cell_type": "code",
   "execution_count": 4,
   "metadata": {},
   "outputs": [],
   "source": [
    "#%%\n",
    "%matplotlib inline\n",
    "import matplotlib.pyplot as plt\n",
    "import logging\n",
    "import i2c_gui\n",
    "import i2c_gui.chips\n",
    "from i2c_gui.usb_iss_helper import USB_ISS_Helper\n",
    "from i2c_gui.fpga_eth_helper import FPGA_ETH_Helper\n",
    "import numpy as np\n",
    "from mpl_toolkits.axes_grid1 import make_axes_locatable\n",
    "import time\n",
    "from tqdm import tqdm\n",
    "# from i2c_gui.chips.etroc2_chip import register_decoding\n",
    "import os, sys\n",
    "import multiprocessing\n",
    "os.chdir(f'/home/{os.getlogin()}/ETROC2/ETROC_DAQ')\n",
    "import run_script\n",
    "import parser_arguments\n",
    "import importlib\n",
    "importlib.reload(run_script)\n",
    "import datetime\n",
    "import pandas\n",
    "from pathlib import Path\n",
    "import subprocess\n",
    "import sqlite3\n",
    "from notebooks.notebook_helpers import *\n",
    "from fnmatch import fnmatch\n",
    "import scipy.stats as stats\n",
    "from math import ceil"
   ]
  },
  {
   "attachments": {},
   "cell_type": "markdown",
   "metadata": {},
   "source": [
    "# Set defaults"
   ]
  },
  {
   "cell_type": "code",
   "execution_count": 5,
   "metadata": {},
   "outputs": [],
   "source": [
    "hostname = \"192.168.2.3\"\n",
    "\n",
    "polarity = \"0x0027\" # or \"0x0022\"\n",
    "# polarity = \"0x000f\""
   ]
  },
  {
   "attachments": {},
   "cell_type": "markdown",
   "metadata": {},
   "source": [
    "# Run One Time DAQ to Set FPGA Firmware"
   ]
  },
  {
   "cell_type": "code",
   "execution_count": 7,
   "metadata": {},
   "outputs": [
    {
     "name": "stdout",
     "output_type": "stream",
     "text": [
      "start main process\n",
      "Setting firmware...\n",
      "writing: 0b1 into register 15\n",
      "Written into Reg 7:  0000000000000000\n",
      "Time (s) for counting stats in FPGA:  000000 0\n",
      "Enable Channel Trigger Bit 1 clock delay:  0000\n",
      "\n",
      "\n",
      "Written into Reg 8:  0001100000000000\n",
      "Enhance data LED (LED Page 011):  1\n",
      "Enable L1A upon Rx trigger bit :  0\n",
      "10 bit delay (trigger bit->L1A):  0000000000 0\n",
      "\n",
      "\n",
      "Written into Reg 11:  0000000000000000\n",
      "Written into Reg 12:  0000000000000000\n",
      "\n",
      "\n",
      "Written into Reg 13:  0000000000000000\n",
      "Data Rate              :  00\n",
      "LED pages              :  000\n",
      "Testmode               :  0\n",
      "Timestamp (active low) :  0\n",
      "DEV Status Page        :  00\n",
      "\n",
      "\n",
      "Written into Reg 14:  0000000000100111\n",
      "Add Ethernet Filler:  1\n",
      "Enable Debug mode  :  0\n",
      "Enable Dumping mode:  0\n",
      "Polarity           :  1\n",
      "Disable GTX        :  1\n",
      "Enable AutoSync    :  1\n",
      "\n",
      "\n",
      "Written into Reg 15  :  0000000000000001\n",
      "Channel Enable       :  0001\n",
      "WS Trig Stop Delay   :  000\n",
      "Enable WS Trigger    :  0\n",
      "Triple Trigger       :  0\n",
      "Trigger OR Logic     :  0\n",
      "Enable Global Trigger:  0\n",
      "Global Trigger Delay :  00000\n",
      "\n",
      "\n",
      "Clearing FIFO...\n",
      "Waited for 2 secs\n",
      "Clearing Event Counter...\n",
      "Starting DAQ on FPGA...\n",
      "Written into Reg 13:  0000000000000010\n",
      "Data Rate              :  00\n",
      "LED pages              :  000\n",
      "Testmode               :  1\n",
      "Timestamp (active low) :  0\n",
      "DEV Status Page        :  10\n",
      "Status of DAQ Toggle before Start Pulse:  0011110001011100\n",
      "0000000000000000\n",
      "0000000000000000\n",
      "0000000000000000\n",
      "0000000000000000\n",
      "0000000000000000\n",
      "0011110001011100\n",
      "0011110001011100\n",
      "0011110001011100\n",
      "0011110001011100\n",
      "0011110001011100\n",
      "0011110001011100\n",
      "Status of DAQ Toggle after Start Pulse:  0011110001011110\n",
      "0000000000000000\n",
      "0000000000000000\n",
      "0000000000000000\n",
      "0000000000000000\n",
      "0000000000000000\n",
      "0011110001011110\n",
      "0011110001011100\n",
      "0011110001011100\n",
      "0011110001011100\n",
      "0011110001011100\n",
      "0011110001011100\n",
      "Directory ../ETROC-Data/2024-01-05_Array_Test_Results already exists!\n",
      "User defined directory ../ETROC-Data/2024-01-05_Array_Test_Results/clear_fifo already created!\n",
      "Receive_data is reading data and pushing to the queue...\n",
      "Write_data is reading queue and writing file 0...Translate_data is reading queue and translating file 0...Message: memoFC Start Triggerbit QInj L1A BCR\n",
      "\n",
      "\n",
      "Done with memoFC configuration\n",
      "(Unique) Status on Data Stream: 1111111000000000\n",
      "(Unique) Status on Data Stream: 1111110000000000\n",
      "(Unique) Status on Data Stream: 1111110100000001\n",
      "Write_data is reading queue and writing file 1...\n",
      "Translate_data is reading queue and translating file 1...\n",
      "Write_data is reading queue and writing file 2...\n",
      "Translate_data is reading queue and translating file 2...\n",
      "Write_data is reading queue and writing file 3...\n",
      "Write_data is reading queue and writing file 4...\n",
      "Translate_data is reading queue and translating file 3...\n",
      "Write_data is reading queue and writing file 5...\n",
      "Translate_data is reading queue and translating file 4...\n",
      "Write_data is reading queue and writing file 6...\n",
      "Translate_data is reading queue and translating file 5...\n",
      "Write_data is reading queue and writing file 7...\n",
      "(Unique) Status on Data Stream: 1111111100000001\n",
      "Write_data is reading queue and writing file 8...\n",
      "Translate_data is reading queue and translating file 6...\n",
      "Write_data is reading queue and writing file 9...\n",
      "Translate_data is reading queue and translating file 7...\n",
      "Write_data is reading queue and writing file 10...\n",
      "Write_data is reading queue and writing file 11...\n",
      "Translate_data is reading queue and translating file 8...\n",
      "Write_data is reading queue and writing file 12...\n",
      "Translate_data is reading queue and translating file 9...\n",
      "Write_data is reading queue and writing file 13...\n",
      "Translate_data is reading queue and translating file 10...\n",
      "Write_data is reading queue and writing file 14...\n",
      "Translate_data is reading queue and translating file 11...\n",
      "Write_data is reading queue and writing file 15...\n",
      "Write_data is reading queue and writing file 16...\n",
      "Translate_data is reading queue and translating file 12...\n",
      "Write_data is reading queue and writing file 17...\n",
      "Message: stop DAQ\n",
      "Message: memoFC Triggerbit\n",
      "Done with memoFC configuration\n",
      "Message: allow threads to exit\n",
      "Translate_data is reading queue and translating file 13...\n",
      "Write_data is reading queue and writing file 18...\n",
      "Read Thread gracefully sending STOP signal to other threads\n",
      "Sending stop signal to Write Thread\n",
      "Receive_data finished!\n",
      "Write Thread received STOP signal AND ran out of data to write\n",
      "Write Thread gracefully sending STOP signal to translate thread\n",
      "Write_data finished!\n",
      "Translate Thread received STOP signal AND ran out of data to translate\n",
      "Translate Thread gracefully ending\n",
      "Translate_data finished!\n",
      "Stopping DAQ on FPGA...\n",
      "Written into Reg 13:  0000000000000010\n",
      "Data Rate              :  00\n",
      "LED pages              :  000\n",
      "Testmode               :  1\n",
      "Timestamp (active low) :  0\n",
      "DEV Status Page        :  10\n",
      "Status of DAQ Toggle before Stop Pulse:  0011110001011110\n",
      "0000000000000000\n",
      "0000000000000000\n",
      "0000000000000000\n",
      "0000000000000000\n",
      "0000000000000000\n",
      "0011110001011110\n",
      "0011110001011100\n",
      "0011110001011100\n",
      "0011110001011100\n",
      "0011110001011100\n",
      "0011110001011100\n",
      "Status of DAQ Toggle after Stop Pulse:  0011110001011100\n",
      "0000000000000000\n",
      "0000000000000000\n",
      "0000000000000000\n",
      "0000000000000000\n",
      "0000000000000000\n",
      "0011110001011100\n",
      "0011110001011100\n",
      "0011110001011100\n",
      "0011110001011100\n",
      "0011110001011100\n",
      "0011110001011100\n"
     ]
    }
   ],
   "source": [
    "parser = parser_arguments.create_parser()\n",
    "# (options, args) = parser.parse_args(args=f\"-f --useIPC --hostname {hostname} -t 15 -o clear_fifo -v -w -s 0x0000 -p {polarity} -d 0xbb00 -a 0x000b --clear_fifo --clear_error\".split())\n",
    "(options, args) = parser.parse_args(args=f\"-f --useIPC --hostname {hostname} -t 15 -o clear_fifo -v -w -s 0x0000 -p {polarity} -d 0x1800 -a 0x0001 --clear_fifo --check_valid_data_start --start_DAQ_pulse --stop_DAQ_pulse\".split())\n",
    "IPC_queue = multiprocessing.Queue()\n",
    "process = multiprocessing.Process(target=run_script.main_process, args=(IPC_queue, options, None))\n",
    "process.start()\n",
    "\n",
    "IPC_queue.put('memoFC Start Triggerbit QInj L1A BCR')\n",
    "while not IPC_queue.empty():\n",
    "    pass\n",
    "time.sleep(10)\n",
    "IPC_queue.put('stop DAQ')\n",
    "IPC_queue.put('memoFC Triggerbit')\n",
    "while not IPC_queue.empty():\n",
    "    pass\n",
    "IPC_queue.put('allow threads to exit')\n",
    "process.join()\n",
    "\n",
    "del IPC_queue, process, parser"
   ]
  },
  {
   "cell_type": "code",
   "execution_count": null,
   "metadata": {},
   "outputs": [],
   "source": [
    "#  --start_DAQ_pulse --stop_DAQ_pulse"
   ]
  },
  {
   "cell_type": "markdown",
   "metadata": {},
   "source": [
    "#### check LEDs"
   ]
  },
  {
   "cell_type": "code",
   "execution_count": null,
   "metadata": {},
   "outputs": [],
   "source": [
    "parser = parser_arguments.create_parser()\n",
    "(options, args) = parser.parse_args(args=f\"-f --useIPC --hostname {hostname} -t 15 -o LED_check -v -w -s 0x0000 -p {polarity} -d 0xbb00 -a 0x000b --nodaq\".split())\n",
    "IPC_queue = multiprocessing.Queue()\n",
    "process = multiprocessing.Process(target=run_script.main_process, args=(IPC_queue, options, f'main_process_checkLEDs_0'))\n",
    "process.start()\n",
    "time.sleep(10)\n",
    "process.join()\n",
    "\n",
    "del IPC_queue, process, parser\n",
    "\n",
    "parser = parser_arguments.create_parser()\n",
    "(options, args) = parser.parse_args(args=f\"-f --useIPC --hostname {hostname} -t 15 -o LED_check -v -w -s 0x0004 -p {polarity} -d 0xbb00 -a 0x000b --nodaq\".split())\n",
    "IPC_queue = multiprocessing.Queue()\n",
    "process = multiprocessing.Process(target=run_script.main_process, args=(IPC_queue, options, f'main_process_checkLEDs_4'))\n",
    "process.start()\n",
    "time.sleep(10)\n",
    "process.join()\n",
    "\n",
    "del IPC_queue, process, parser\n",
    "\n",
    "parser = parser_arguments.create_parser()\n",
    "(options, args) = parser.parse_args(args=f\"-f --useIPC --hostname {hostname} -t 15 -o LED_check -v -w -s 0x000C -p {polarity} -d 0xbb00 -a 0x000b --nodaq\".split())\n",
    "IPC_queue = multiprocessing.Queue()\n",
    "process = multiprocessing.Process(target=run_script.main_process, args=(IPC_queue, options, f'main_process_checkLEDs_C'))\n",
    "process.start()\n",
    "time.sleep(10)\n",
    "process.join()\n",
    "\n",
    "del IPC_queue, process, parser"
   ]
  },
  {
   "cell_type": "markdown",
   "metadata": {},
   "source": [
    "#### check LEDs (old firmware)"
   ]
  },
  {
   "cell_type": "code",
   "execution_count": 9,
   "metadata": {},
   "outputs": [],
   "source": [
    "parser = parser_arguments.create_parser()\n",
    "(options, args) = parser.parse_args(args=f\"-f --useIPC --hostname {hostname} -t 15 -o LED_check -v -w -s 0x0000 -p {polarity} -d 0xb800 -a 0x00bb --nodaq\".split())\n",
    "IPC_queue = multiprocessing.Queue()\n",
    "process = multiprocessing.Process(target=run_script.main_process, args=(IPC_queue, options, f'main_process_checkLEDs_0'))\n",
    "process.start()\n",
    "time.sleep(10)\n",
    "process.join()\n",
    "\n",
    "del IPC_queue, process, parser"
   ]
  },
  {
   "cell_type": "code",
   "execution_count": 10,
   "metadata": {},
   "outputs": [],
   "source": [
    "parser = parser_arguments.create_parser()\n",
    "(options, args) = parser.parse_args(args=f\"-f --useIPC --hostname {hostname} -t 15 -o LED_check -v -w -s 0x0004 -p {polarity} -d 0xb800 -a 0x00bb --nodaq\".split())\n",
    "IPC_queue = multiprocessing.Queue()\n",
    "process = multiprocessing.Process(target=run_script.main_process, args=(IPC_queue, options, f'main_process_checkLEDs_4'))\n",
    "process.start()\n",
    "time.sleep(10)\n",
    "process.join()\n",
    "\n",
    "del IPC_queue, process, parser"
   ]
  },
  {
   "cell_type": "code",
   "execution_count": 11,
   "metadata": {},
   "outputs": [],
   "source": [
    "parser = parser_arguments.create_parser()\n",
    "(options, args) = parser.parse_args(args=f\"-f --useIPC --hostname {hostname} -t 15 -o LED_check -v -w -s 0x000C -p {polarity} -d 0xb800 -a 0x00bb --nodaq\".split())\n",
    "IPC_queue = multiprocessing.Queue()\n",
    "process = multiprocessing.Process(target=run_script.main_process, args=(IPC_queue, options, f'main_process_checkLEDs_C'))\n",
    "process.start()\n",
    "time.sleep(10)\n",
    "process.join()\n",
    "\n",
    "del IPC_queue, process, parser"
   ]
  },
  {
   "cell_type": "markdown",
   "metadata": {},
   "source": [
    "#### Without clear_fifo"
   ]
  },
  {
   "cell_type": "code",
   "execution_count": null,
   "metadata": {},
   "outputs": [],
   "source": [
    "# os.system(\"rm -r ../ETROC-Data/2023-11-02_Array_Test_Results/CanBeRemoved_Board0_NoLinkCheck/\")\n",
    "parser = parser_arguments.create_parser()\n",
    "(options, args) = parser.parse_args(args=f\"-f --useIPC --hostname {hostname} -t 15 -o CanBeRemoved_Board013_NoLinkCheck -v -w -s 0x0000 -p {polarity} -d 0xb800 -a 0x00bb --check_valid_data_start --clear_error\".split())\n",
    "IPC_queue = multiprocessing.Queue()\n",
    "# process = multiprocessing.Process(target=run_script.main_process, args=(IPC_queue, options, f'main_process_Start_LEDs_Board013_NoLinkCheck'))\n",
    "process = multiprocessing.Process(target=run_script.main_process, args=(IPC_queue, options, None))\n",
    "process.start()\n",
    "\n",
    "IPC_queue.put('memoFC Start Triggerbit QInj L1A BCR')\n",
    "while not IPC_queue.empty():\n",
    "    pass\n",
    "time.sleep(10)\n",
    "IPC_queue.put('stop DAQ')\n",
    "IPC_queue.put('memoFC Triggerbit')\n",
    "while not IPC_queue.empty():\n",
    "    pass\n",
    "IPC_queue.put('allow threads to exit')\n",
    "process.join()\n",
    "\n",
    "del IPC_queue, process, parser"
   ]
  },
  {
   "cell_type": "code",
   "execution_count": null,
   "metadata": {},
   "outputs": [],
   "source": [
    "parser = parser_arguments.create_parser()\n",
    "(options, args) = parser.parse_args(args=f\"-f --useIPC --hostname {hostname} -t 15 -o clear_fifo -v -w -s 0x0004 -p {polarity} -d 0x3800 -a 0x0033 --clear_fifo --clear_error\".split())\n",
    "IPC_queue = multiprocessing.Queue()\n",
    "process = multiprocessing.Process(target=run_script.main_process, args=(IPC_queue, options, None))\n",
    "process.start()\n",
    "\n",
    "IPC_queue.put('memoFC Start Triggerbit QInj L1A BCR')\n",
    "while not IPC_queue.empty():\n",
    "    pass\n",
    "time.sleep(10)\n",
    "IPC_queue.put('stop DAQ')\n",
    "IPC_queue.put('memoFC Triggerbit')\n",
    "while not IPC_queue.empty():\n",
    "    pass\n",
    "IPC_queue.put('allow threads to exit')\n",
    "process.join()\n",
    "\n",
    "del IPC_queue, process, parser"
   ]
  },
  {
   "cell_type": "markdown",
   "metadata": {},
   "source": [
    "# Run DAQ with Self-Trigger"
   ]
  },
  {
   "cell_type": "markdown",
   "metadata": {},
   "source": [
    "## Find the right delay (use the middle of the three success modes, where both Qinj edges are caught)"
   ]
  },
  {
   "cell_type": "markdown",
   "metadata": {},
   "source": [
    "### Board 0 Only"
   ]
  },
  {
   "cell_type": "code",
   "execution_count": null,
   "metadata": {},
   "outputs": [],
   "source": [
    "for inum in range(475, 490, 1):\n",
    "    trigger_bit_delay = inum\n",
    "    print(inum)\n",
    "    parser = parser_arguments.create_parser()\n",
    "    (options, args) = parser.parse_args(args=f\"-f --useIPC --hostname {hostname} -t 20 -o CanBeRemoved_Board0_LinkCheck_selfTrigger_delay{inum} -v -w -s 0x0000 -p {polarity} -d {int('000111'+format(inum, '010b'), base=2)} -a 0x0011\".split())\n",
    "    IPC_queue = multiprocessing.Queue()\n",
    "    process = multiprocessing.Process(target=run_script.main_process, args=(IPC_queue, options, f'main_process_Start_LEDs_Board0_LinkCheck_selfTrigger_delay{inum}'))\n",
    "    process.start()\n",
    "\n",
    "    IPC_queue.put('memoFC Start Triggerbit QInj BCR')\n",
    "    while not IPC_queue.empty():\n",
    "        pass\n",
    "    time.sleep(10)\n",
    "    IPC_queue.put('stop DAQ')\n",
    "    IPC_queue.put('memoFC Triggerbit')\n",
    "    while not IPC_queue.empty():\n",
    "        pass\n",
    "    IPC_queue.put('allow threads to exit')\n",
    "    process.join()\n",
    "\n",
    "    del IPC_queue, process, parser"
   ]
  },
  {
   "cell_type": "markdown",
   "metadata": {},
   "source": [
    "#### test delay from previous cell"
   ]
  },
  {
   "cell_type": "code",
   "execution_count": 9,
   "metadata": {},
   "outputs": [],
   "source": [
    "trigger_bit_delay = int('000111'+format(485, '010b'), base=2)\n",
    "parser = parser_arguments.create_parser()\n",
    "(options, args) = parser.parse_args(args=f\"-f --useIPC --hostname {hostname} -t 15 -o CanBeRemoved_Board0_selfTrigger -v -w -s 0x0000 -p {polarity} -d {trigger_bit_delay} -a 0x0001 --start_DAQ_pulse --stop_DAQ_pulse --check_valid_data_start\".split())\n",
    "IPC_queue = multiprocessing.Queue()\n",
    "process = multiprocessing.Process(target=run_script.main_process, args=(IPC_queue, options, f'main_process_Start_LEDs_Board0_selfTrigger'))\n",
    "process.start()\n",
    "\n",
    "IPC_queue.put('memoFC Start Triggerbit QInj BCR')\n",
    "while not IPC_queue.empty():\n",
    "    pass\n",
    "time.sleep(10)\n",
    "IPC_queue.put('stop DAQ')\n",
    "IPC_queue.put('memoFC Triggerbit')\n",
    "while not IPC_queue.empty():\n",
    "    pass\n",
    "IPC_queue.put('allow threads to exit')\n",
    "process.join()\n",
    "\n",
    "del IPC_queue, process, parser"
   ]
  },
  {
   "cell_type": "markdown",
   "metadata": {},
   "source": [
    "### Board 1"
   ]
  },
  {
   "cell_type": "code",
   "execution_count": null,
   "metadata": {},
   "outputs": [],
   "source": [
    "for inum in range(475, 490, 1):\n",
    "    trigger_bit_delay = inum\n",
    "    print(inum)\n",
    "    parser = parser_arguments.create_parser()\n",
    "    (options, args) = parser.parse_args(args=f\"-f --useIPC --hostname {hostname} -t 20 -o CanBeRemoved_Board1_LinkCheck_selfTrigger_delay{inum} -v -w -s 0x0004 -p {polarity} -d {int('001011'+format(inum, '010b'), base=2)} -a 0x0022\".split())\n",
    "    IPC_queue = multiprocessing.Queue()\n",
    "    process = multiprocessing.Process(target=run_script.main_process, args=(IPC_queue, options, f'main_process_Start_LEDs_Board1_LinkCheck_selfTrigger_delay{inum}'))\n",
    "    process.start()\n",
    "\n",
    "    IPC_queue.put('memoFC Start Triggerbit QInj BCR')\n",
    "    while not IPC_queue.empty():\n",
    "        pass\n",
    "    time.sleep(10)\n",
    "    IPC_queue.put('stop DAQ')\n",
    "    IPC_queue.put('memoFC Triggerbit')\n",
    "    while not IPC_queue.empty():\n",
    "        pass\n",
    "    IPC_queue.put('allow threads to exit')\n",
    "    process.join()\n",
    "\n",
    "    del IPC_queue, process, parser"
   ]
  },
  {
   "cell_type": "code",
   "execution_count": null,
   "metadata": {},
   "outputs": [],
   "source": [
    "for inum in range(475, 490, 1):\n",
    "    trigger_bit_delay = inum\n",
    "    print(inum)\n",
    "    parser = parser_arguments.create_parser()\n",
    "    (options, args) = parser.parse_args(args=f\"-f --useIPC --hostname {hostname} -t 20 -o CanBeRemoved_Board1_LinkCheck_selfTrigger_delay{inum} -v -w -s 0x0004 -p {polarity} -d {int('001011'+format(inum, '010b'), base=2)} -a 0x00bb\".split())\n",
    "    IPC_queue = multiprocessing.Queue()\n",
    "    process = multiprocessing.Process(target=run_script.main_process, args=(IPC_queue, options, f'main_process_Start_LEDs_Board1_LinkCheck_selfTrigger_delay{inum}'))\n",
    "    process.start()\n",
    "\n",
    "    IPC_queue.put('memoFC Start Triggerbit QInj BCR')\n",
    "    while not IPC_queue.empty():\n",
    "        pass\n",
    "    time.sleep(10)\n",
    "    IPC_queue.put('stop DAQ')\n",
    "    IPC_queue.put('memoFC Triggerbit')\n",
    "    while not IPC_queue.empty():\n",
    "        pass\n",
    "    IPC_queue.put('allow threads to exit')\n",
    "    process.join()\n",
    "\n",
    "    del IPC_queue, process, parser"
   ]
  },
  {
   "cell_type": "markdown",
   "metadata": {},
   "source": [
    "#### test delay from previous cell"
   ]
  },
  {
   "cell_type": "code",
   "execution_count": null,
   "metadata": {},
   "outputs": [],
   "source": [
    "trigger_bit_delay = int('001011'+format(484, '010b'), base=2)\n",
    "parser = parser_arguments.create_parser()\n",
    "(options, args) = parser.parse_args(args=f\"-f --useIPC --hostname {hostname} -t 30 -o CanBeRemoved_Board1_selfTrigger -v -w -s 0x0004 -p {polarity} -d {trigger_bit_delay} -a 0x0022\".split())\n",
    "IPC_queue = multiprocessing.Queue()\n",
    "process = multiprocessing.Process(target=run_script.main_process, args=(IPC_queue, options, f'main_process_Start_LEDs_Board2_selfTrigger'))\n",
    "process.start()\n",
    "\n",
    "IPC_queue.put('memoFC Start Triggerbit QInj BCR')\n",
    "while not IPC_queue.empty():\n",
    "    pass\n",
    "time.sleep(20)\n",
    "IPC_queue.put('stop DAQ')\n",
    "IPC_queue.put('memoFC Triggerbit')\n",
    "while not IPC_queue.empty():\n",
    "    pass\n",
    "IPC_queue.put('allow threads to exit')\n",
    "process.join()\n",
    "\n",
    "del IPC_queue, process, parser"
   ]
  },
  {
   "cell_type": "markdown",
   "metadata": {},
   "source": [
    "### Board 2"
   ]
  },
  {
   "cell_type": "code",
   "execution_count": null,
   "metadata": {},
   "outputs": [],
   "source": [
    "for inum in range(475, 490, 1):\n",
    "    trigger_bit_delay = inum\n",
    "    print(inum)\n",
    "    parser = parser_arguments.create_parser()\n",
    "    (options, args) = parser.parse_args(args=f\"-f --useIPC --hostname {hostname} -t 20 -o CanBeRemoved_Board2_LinkCheck_selfTrigger_delay{inum} -v -w -s 0x0008 -p {polarity} -d {int('010011'+format(inum, '010b'), base=2)} -a 0x0044\".split())\n",
    "    IPC_queue = multiprocessing.Queue()\n",
    "    process = multiprocessing.Process(target=run_script.main_process, args=(IPC_queue, options, f'main_process_Start_LEDs_Board2_LinkCheck_selfTrigger_delay{inum}'))\n",
    "    process.start()\n",
    "\n",
    "    IPC_queue.put('memoFC Start Triggerbit QInj BCR')\n",
    "    while not IPC_queue.empty():\n",
    "        pass\n",
    "    time.sleep(10)\n",
    "    IPC_queue.put('stop DAQ')\n",
    "    IPC_queue.put('memoFC Triggerbit')\n",
    "    while not IPC_queue.empty():\n",
    "        pass\n",
    "    IPC_queue.put('allow threads to exit')\n",
    "    process.join()\n",
    "\n",
    "    del IPC_queue, process, parser"
   ]
  },
  {
   "cell_type": "markdown",
   "metadata": {},
   "source": [
    "#### test delay from previous cell"
   ]
  },
  {
   "cell_type": "code",
   "execution_count": null,
   "metadata": {},
   "outputs": [],
   "source": [
    "trigger_bit_delay = int('010011'+format(485, '010b'), base=2)\n",
    "parser = parser_arguments.create_parser()\n",
    "(options, args) = parser.parse_args(args=f\"-f --useIPC --hostname {hostname} -t 30 -o CanBeRemoved_Board2_selfTrigger -v -w -s 0x0008 -p {polarity} -d {trigger_bit_delay} -a 0x0044\".split())\n",
    "IPC_queue = multiprocessing.Queue()\n",
    "process = multiprocessing.Process(target=run_script.main_process, args=(IPC_queue, options, f'main_process_Start_LEDs_Board2_selfTrigger'))\n",
    "process.start()\n",
    "\n",
    "IPC_queue.put('memoFC Start Triggerbit QInj BCR')\n",
    "while not IPC_queue.empty():\n",
    "    pass\n",
    "time.sleep(20)\n",
    "IPC_queue.put('stop DAQ')\n",
    "IPC_queue.put('memoFC Triggerbit')\n",
    "while not IPC_queue.empty():\n",
    "    pass\n",
    "IPC_queue.put('allow threads to exit')\n",
    "process.join()\n",
    "\n",
    "del IPC_queue, process, parser"
   ]
  },
  {
   "cell_type": "markdown",
   "metadata": {},
   "source": [
    "### Board 3"
   ]
  },
  {
   "cell_type": "code",
   "execution_count": null,
   "metadata": {},
   "outputs": [],
   "source": [
    "for inum in range(475, 490, 1):\n",
    "    trigger_bit_delay = inum\n",
    "    print(inum)\n",
    "    parser = parser_arguments.create_parser()\n",
    "    (options, args) = parser.parse_args(args=f\"-f --useIPC --hostname {hostname} -t 20 -o CanBeRemoved_Board3_LinkCheck_selfTrigger_delay{inum} -v -w -s 0x000C -p {polarity} -d {int('100011'+format(inum, '010b'), base=2)} -a 0x0088\".split())\n",
    "    IPC_queue = multiprocessing.Queue()\n",
    "    process = multiprocessing.Process(target=run_script.main_process, args=(IPC_queue, options, f'main_process_Start_LEDs_Board3_LinkCheck_selfTrigger_delay{inum}'))\n",
    "    process.start()\n",
    "\n",
    "    IPC_queue.put('memoFC Start Triggerbit QInj BCR')\n",
    "    while not IPC_queue.empty():\n",
    "        pass\n",
    "    time.sleep(10)\n",
    "    IPC_queue.put('stop DAQ')\n",
    "    IPC_queue.put('memoFC Triggerbit')\n",
    "    while not IPC_queue.empty():\n",
    "        pass\n",
    "    IPC_queue.put('allow threads to exit')\n",
    "    process.join()\n",
    "\n",
    "    del IPC_queue, process, parser"
   ]
  },
  {
   "cell_type": "markdown",
   "metadata": {},
   "source": [
    "#### test delay from previous cell"
   ]
  },
  {
   "cell_type": "code",
   "execution_count": null,
   "metadata": {},
   "outputs": [],
   "source": [
    "trigger_bit_delay = int('100011'+format(485, '010b'), base=2)\n",
    "parser = parser_arguments.create_parser()\n",
    "(options, args) = parser.parse_args(args=f\"-f --useIPC --hostname {hostname} -t 30 -o CanBeRemoved_Board3_selfTrigger -v -w -s 0x0004 -p {polarity} -d {trigger_bit_delay} -a 0x0088\".split())\n",
    "IPC_queue = multiprocessing.Queue()\n",
    "process = multiprocessing.Process(target=run_script.main_process, args=(IPC_queue, options, f'main_process_Start_LEDs_Board3_selfTrigger'))\n",
    "process.start()\n",
    "\n",
    "IPC_queue.put('memoFC Start Triggerbit QInj BCR')\n",
    "while not IPC_queue.empty():\n",
    "    pass\n",
    "time.sleep(20)\n",
    "IPC_queue.put('stop DAQ')\n",
    "IPC_queue.put('memoFC Triggerbit')\n",
    "while not IPC_queue.empty():\n",
    "    pass\n",
    "IPC_queue.put('allow threads to exit')\n",
    "process.join()\n",
    "\n",
    "del IPC_queue, process, parser"
   ]
  },
  {
   "cell_type": "markdown",
   "metadata": {},
   "source": [
    "## Multiple Boards"
   ]
  },
  {
   "cell_type": "code",
   "execution_count": null,
   "metadata": {},
   "outputs": [],
   "source": [
    "trigger_bit_delay = int('100011'+format(484, '010b'), base=2)\n",
    "parser = parser_arguments.create_parser()\n",
    "(options, args) = parser.parse_args(args=f\"-f --useIPC --hostname {hostname} -t 30 -o CanBeRemoved_Board13_selfTrigger -v -w -s 0x000C -p {polarity} -d {trigger_bit_delay} -a 0x00bb --counter_duration 0x0001\".split())\n",
    "IPC_queue = multiprocessing.Queue()\n",
    "process = multiprocessing.Process(target=run_script.main_process, args=(IPC_queue, options, f'main_process_Start_LEDs_Board0_selfTrigger'))\n",
    "process.start()\n",
    "\n",
    "IPC_queue.put('memoFC Start Triggerbit QInj BCR')\n",
    "while not IPC_queue.empty():\n",
    "    pass\n",
    "time.sleep(20)\n",
    "IPC_queue.put('stop DAQ')\n",
    "IPC_queue.put('memoFC Triggerbit')\n",
    "while not IPC_queue.empty():\n",
    "    pass\n",
    "IPC_queue.put('allow threads to exit')\n",
    "process.join()\n",
    "\n",
    "del IPC_queue, process, parser"
   ]
  },
  {
   "cell_type": "code",
   "execution_count": null,
   "metadata": {},
   "outputs": [],
   "source": [
    "trigger_bit_delay = int('001011'+format(485, '010b'), base=2)\n",
    "parser = parser_arguments.create_parser()\n",
    "(options, args) = parser.parse_args(args=f\"-f --useIPC --hostname {hostname} -t 30 -o CanBeRemoved_Board13_selfTrigger -v -w -s 0x0004 -p {polarity} -d {trigger_bit_delay} -a 0x00bb --counter_duration 0x0001\".split())\n",
    "IPC_queue = multiprocessing.Queue()\n",
    "process = multiprocessing.Process(target=run_script.main_process, args=(IPC_queue, options, f'main_process_Start_LEDs_Board0_selfTrigger'))\n",
    "process.start()\n",
    "\n",
    "IPC_queue.put('memoFC Start Triggerbit QInj BCR')\n",
    "while not IPC_queue.empty():\n",
    "    pass\n",
    "time.sleep(20)\n",
    "IPC_queue.put('stop DAQ')\n",
    "IPC_queue.put('memoFC Triggerbit')\n",
    "while not IPC_queue.empty():\n",
    "    pass\n",
    "IPC_queue.put('allow threads to exit')\n",
    "process.join()\n",
    "\n",
    "del IPC_queue, process, parser"
   ]
  },
  {
   "cell_type": "code",
   "execution_count": null,
   "metadata": {},
   "outputs": [],
   "source": [
    "trigger_bit_delay = int('000111'+format(485, '010b'), base=2)\n",
    "parser = parser_arguments.create_parser()\n",
    "(options, args) = parser.parse_args(args=f\"-f --useIPC --hostname {hostname} -t 30 -o CanBeRemoved_Board0_selfTrigger_QInj_Readout013 -v -w -s 0x0000 -p {polarity} -d {trigger_bit_delay} -a 0x000b\".split())\n",
    "IPC_queue = multiprocessing.Queue()\n",
    "process = multiprocessing.Process(target=run_script.main_process, args=(IPC_queue, options, f'main_process_Start_LEDs_Board0_selfTrigger'))\n",
    "process.start()\n",
    "\n",
    "IPC_queue.put('memoFC Start Triggerbit QInj BCR')\n",
    "while not IPC_queue.empty():\n",
    "    pass\n",
    "time.sleep(20)\n",
    "IPC_queue.put('stop DAQ')\n",
    "IPC_queue.put('memoFC Triggerbit')\n",
    "while not IPC_queue.empty():\n",
    "    pass\n",
    "IPC_queue.put('allow threads to exit')\n",
    "process.join()\n",
    "\n",
    "del IPC_queue, process, parser"
   ]
  },
  {
   "cell_type": "code",
   "execution_count": null,
   "metadata": {},
   "outputs": [],
   "source": [
    "trigger_bit_delay = int('000111'+format(485, '010b'), base=2)\n",
    "parser = parser_arguments.create_parser()\n",
    "(options, args) = parser.parse_args(args=f\"-f --useIPC --hostname {hostname} -t 320 -o CanBeRemoved_Board0_selfTrigger_Readout013 -v -w -s 0x0000 -p {polarity} -d {trigger_bit_delay} -a 0x000b --check_valid_data_start --clear_fifo\".split())\n",
    "IPC_queue = multiprocessing.Queue()\n",
    "process = multiprocessing.Process(target=run_script.main_process, args=(IPC_queue, options, f'main_process_Start_LEDs_Board0_selfTrigger'))\n",
    "process.start()\n",
    "\n",
    "IPC_queue.put('memoFC Start Triggerbit BCR')\n",
    "while not IPC_queue.empty():\n",
    "    pass\n",
    "time.sleep(300)\n",
    "IPC_queue.put('stop DAQ')\n",
    "IPC_queue.put('memoFC Triggerbit')\n",
    "while not IPC_queue.empty():\n",
    "    pass\n",
    "IPC_queue.put('allow threads to exit')\n",
    "process.join()\n",
    "\n",
    "del IPC_queue, process, parser"
   ]
  },
  {
   "cell_type": "code",
   "execution_count": null,
   "metadata": {},
   "outputs": [],
   "source": [
    "trigger_bit_delay = int('100111'+format(485, '010b'), base=2)\n",
    "parser = parser_arguments.create_parser()\n",
    "(options, args) = parser.parse_args(args=f\"-f --useIPC --hostname {hostname} -t 30 -o CanBeRemoved_Board03_selfTrigger -v -w -s 0x0000 -p {polarity} -d {trigger_bit_delay} -a 0x00bb\".split())\n",
    "IPC_queue = multiprocessing.Queue()\n",
    "process = multiprocessing.Process(target=run_script.main_process, args=(IPC_queue, options, f'main_process_Start_LEDs_Board0_selfTrigger'))\n",
    "process.start()\n",
    "\n",
    "IPC_queue.put('memoFC Start Triggerbit QInj BCR')\n",
    "while not IPC_queue.empty():\n",
    "    pass\n",
    "time.sleep(20)\n",
    "IPC_queue.put('stop DAQ')\n",
    "IPC_queue.put('memoFC Triggerbit')\n",
    "while not IPC_queue.empty():\n",
    "    pass\n",
    "IPC_queue.put('allow threads to exit')\n",
    "process.join()\n",
    "\n",
    "del IPC_queue, process, parser"
   ]
  },
  {
   "cell_type": "code",
   "execution_count": null,
   "metadata": {},
   "outputs": [],
   "source": []
  },
  {
   "cell_type": "markdown",
   "metadata": {},
   "source": [
    "# Disconnect I2C Device"
   ]
  },
  {
   "cell_type": "code",
   "execution_count": null,
   "metadata": {},
   "outputs": [],
   "source": [
    "del i2c_conn"
   ]
  },
  {
   "cell_type": "code",
   "execution_count": null,
   "metadata": {},
   "outputs": [],
   "source": []
  }
 ],
 "metadata": {
  "kernelspec": {
   "display_name": "Python 3",
   "language": "python",
   "name": "python3"
  },
  "language_info": {
   "codemirror_mode": {
    "name": "ipython",
    "version": 3
   },
   "file_extension": ".py",
   "mimetype": "text/x-python",
   "name": "python",
   "nbconvert_exporter": "python",
   "pygments_lexer": "ipython3",
   "version": "3.9.18"
  },
  "orig_nbformat": 4
 },
 "nbformat": 4,
 "nbformat_minor": 2
}
